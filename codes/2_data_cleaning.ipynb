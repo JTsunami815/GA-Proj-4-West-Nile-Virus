{
 "cells": [
  {
   "cell_type": "markdown",
   "source": "# 2. Data Cleaning",
   "metadata": {
    "cell_id": "00000-de804ab1-2f47-488d-82f1-20772721ae6b",
    "deepnote_cell_type": "markdown"
   }
  },
  {
   "cell_type": "code",
   "metadata": {
    "deepnote_to_be_reexecuted": false,
    "execution_millis": 1624,
    "execution_start": 1637218217482,
    "source_hash": "80af622f",
    "tags": [],
    "cell_id": "00001-b64da120-4ca7-47fa-a4cd-89bb8299a8a9",
    "deepnote_cell_type": "code"
   },
   "source": "# imports\nimport numpy as np\nimport pandas as pd\nimport scipy.stats as stats\nimport matplotlib.pyplot as plt\nimport seaborn as sns\n\nfrom sklearn.linear_model import LinearRegression\nfrom sklearn.linear_model import Ridge, Lasso\nfrom sklearn import metrics\nfrom sklearn.model_selection import train_test_split, cross_val_score\nfrom sklearn.preprocessing import StandardScaler, PolynomialFeatures\nfrom math import sqrt\nfrom scipy.stats import norm\n\nfrom IPython import display\n\nimport re\nimport warnings\nwarnings.filterwarnings('ignore')\n\npd.set_option(\"display.max_rows\", None)",
   "execution_count": null,
   "outputs": []
  },
  {
   "cell_type": "code",
   "metadata": {
    "deepnote_to_be_reexecuted": false,
    "execution_millis": 326,
    "execution_start": 1637218219106,
    "source_hash": "dfccbbd8",
    "tags": [],
    "cell_id": "00002-d50f1d38-187a-484d-84c9-66eff7516de6",
    "deepnote_cell_type": "code"
   },
   "source": "# read in and assign dataframes\nspray_df = pd.read_csv('datasets/spray.csv')\nweather_df = pd.read_csv('datasets/weather.csv')\ntrain_df = pd.read_csv('datasets/train.csv')\ntest_df = pd.read_csv('datasets/test.csv')",
   "execution_count": null,
   "outputs": []
  },
  {
   "cell_type": "code",
   "metadata": {
    "cell_id": "00003-ad218814-ecdc-494c-be7f-f25b7b268bef",
    "deepnote_to_be_reexecuted": false,
    "source_hash": "76b2731",
    "execution_start": 1637218219444,
    "execution_millis": 13,
    "deepnote_cell_type": "code"
   },
   "source": "#display the number of rows and columns\nprint(f'spray_df: {spray_df.shape}')\nprint(f'weather_df: {weather_df.shape}')\nprint(f'train_df: {train_df.shape}')\nprint(f'test_df: {test_df.shape}')",
   "execution_count": null,
   "outputs": [
    {
     "name": "stdout",
     "text": "spray_df: (14835, 4)\nweather_df: (2944, 22)\ntrain_df: (10506, 12)\ntest_df: (116293, 11)\n",
     "output_type": "stream"
    }
   ]
  },
  {
   "cell_type": "markdown",
   "source": "## train_df",
   "metadata": {
    "is_collapsed": false,
    "tags": [],
    "cell_id": "00004-67a25b52-da0c-489e-a93e-302d12b7aca7",
    "deepnote_cell_type": "text-cell-h2"
   }
  },
  {
   "cell_type": "code",
   "metadata": {
    "deepnote_to_be_reexecuted": false,
    "execution_millis": 14,
    "execution_start": 1637218219467,
    "scrolled": true,
    "source_hash": "6013be74",
    "tags": [],
    "cell_id": "00005-601ada11-f583-4df9-96c4-146a7f3fb565",
    "deepnote_output_heights": [
     251.4375
    ],
    "deepnote_cell_type": "code"
   },
   "source": "# check for observable missing values\ntrain_df.isnull().sum()",
   "execution_count": null,
   "outputs": [
    {
     "output_type": "execute_result",
     "execution_count": 4,
     "data": {
      "text/plain": "Date                      0\nAddress                   0\nSpecies                   0\nBlock                     0\nStreet                    0\nTrap                      0\nAddressNumberAndStreet    0\nLatitude                  0\nLongitude                 0\nAddressAccuracy           0\nNumMosquitos              0\nWnvPresent                0\ndtype: int64"
     },
     "metadata": {}
    }
   ]
  },
  {
   "cell_type": "code",
   "metadata": {
    "deepnote_to_be_reexecuted": false,
    "execution_millis": 23,
    "execution_start": 1637218219485,
    "source_hash": "1332c99b",
    "tags": [],
    "cell_id": "00006-6e26ae8f-7307-45af-8df6-845568cb9d30",
    "deepnote_cell_type": "code"
   },
   "source": "# check column values\nfor col in train_df:\n    print(train_df[col].unique())",
   "execution_count": null,
   "outputs": [
    {
     "name": "stdout",
     "text": "['2007-05-29' '2007-06-05' '2007-06-26' '2007-06-29' '2007-07-02'\n '2007-07-11' '2007-07-18' '2007-07-19' '2007-07-25' '2007-07-27'\n '2007-08-01' '2007-08-02' '2007-08-03' '2007-08-07' '2007-08-08'\n '2007-08-09' '2007-08-15' '2007-08-16' '2007-08-17' '2007-08-21'\n '2007-08-22' '2007-08-24' '2007-08-28' '2007-09-04' '2007-09-05'\n '2007-09-06' '2007-09-12' '2007-09-18' '2007-09-19' '2007-09-24'\n '2007-09-25' '2007-10-04' '2007-10-09' '2009-05-28' '2009-06-02'\n '2009-06-03' '2009-06-05' '2009-06-12' '2009-06-15' '2009-06-19'\n '2009-06-22' '2009-06-26' '2009-06-29' '2009-07-06' '2009-07-10'\n '2009-07-13' '2009-07-17' '2009-07-24' '2009-07-27' '2009-07-31'\n '2009-08-07' '2009-08-13' '2009-08-25' '2009-08-27' '2009-09-03'\n '2009-09-14' '2009-09-17' '2009-09-25' '2009-10-01' '2011-06-10'\n '2011-06-17' '2011-06-24' '2011-06-30' '2011-07-11' '2011-07-15'\n '2011-07-25' '2011-07-29' '2011-08-05' '2011-08-12' '2011-08-19'\n '2011-08-26' '2011-09-01' '2011-09-02' '2011-09-12' '2011-09-16'\n '2011-09-23' '2011-09-30' '2013-06-07' '2013-06-14' '2013-06-21'\n '2013-06-27' '2013-06-28' '2013-07-08' '2013-07-12' '2013-07-19'\n '2013-07-25' '2013-08-01' '2013-08-08' '2013-08-15' '2013-08-22'\n '2013-08-29' '2013-09-06' '2013-09-12' '2013-09-19' '2013-09-26']\n['4100 North Oak Park Avenue, Chicago, IL 60634, USA'\n '6200 North Mandell Avenue, Chicago, IL 60646, USA'\n '7900 West Foster Avenue, Chicago, IL 60656, USA'\n '1500 West Webster Avenue, Chicago, IL 60614, USA'\n '2500 West Grand Avenue, Chicago, IL 60654, USA'\n '1100 Roosevelt Road, Chicago, IL 60608, USA'\n '1100 West Chicago Avenue, Chicago, IL 60642, USA'\n '2100 North Stave Street, Chicago, IL 60647, USA'\n '2200 North Cannon Drive, Chicago, IL 60614, USA'\n '2200 West 113th Street, Chicago, IL 60643, USA'\n '1100 South Peoria Street, Chicago, IL 60608, USA'\n '1700 West 95th Street, Chicago, IL 60643, USA'\n '2200 West 89th Street, Chicago, IL 60643, USA'\n 'North Streeter Drive, Chicago, IL 60611, USA'\n '6500 North Oak Park Avenue, Chicago, IL 60631, USA'\n '7500 North Oakley Avenue, Chicago, IL 60645, USA'\n '1500 North Long Avenue, Chicago, IL 60651, USA'\n '8900 South Carpenter Street, Chicago, IL 60620, USA'\n '9100 West Higgins Avenue, Chicago, IL 60656, USA'\n '3600 North Pittsburgh Avenue, Chicago, IL 60634, USA'\n '7200 North Oketo Avenue, Chicago, IL 60631, USA'\n '3800 North California Avenue, Chicago, IL 60618, USA'\n '4900 West Balmoral Avenue, Chicago, IL 60630, USA'\n '5800 North Western Avenue, Chicago, IL 60659, USA'\n '5000 South Central Avenue, Chicago, IL 60638, USA'\n '1400 North Sacramento Avenue, Chicago, IL 60622, USA'\n 'South Vincennes Avenue, Chicago, IL, USA'\n 'University of Illinois at Chicago, 1100 South Ashland Avenue, Chicago, IL 60607, USA'\n '1100 South State Street, Chicago, IL 60605, USA'\n '4200 West 127th Street, Alsip, IL 60803, USA'\n '5300 West Agatite Avenue, Chicago, IL 60630, USA'\n '4000 North Austin Avenue, Chicago, IL 60634, USA' 'Chicago, IL, USA'\n '4200 North Richmond Street, Chicago, IL 60618, USA'\n '2800 North Francisco Avenue, Chicago, IL 60618, USA'\n '1500 West Granville Avenue, Chicago, IL 60660, USA'\n '1800 West Farwell Avenue, Chicago, IL 60626, USA'\n '7000 West Armitage Avenue, Chicago, IL 60707, USA'\n '2500 South Millard Avenue, Chicago, IL 60623, USA'\n '2100 North Lawler Avenue, Chicago, IL 60639, USA'\n '3500 West 116th Street, Chicago, IL 60655, USA'\n '9300 South Doctor Martin Luther King Junior Drive, Chicago, IL 60619, USA'\n '3700 North Kedvale Avenue, Chicago, IL 60641, USA'\n '4500 North Campbell Avenue, Chicago, IL 60625, USA'\n '4000 North Tripp Avenue, Chicago, IL 60641, USA'\n '4600 Milwaukee Avenue, Chicago, IL 60630, USA'\n '6000 North Avondale Avenue, Chicago, IL 60631, USA'\n '7000 North Moselle Avenue, Chicago, IL 60646, USA'\n '6100 North Lemont Avenue, Chicago, IL 60646, USA'\n '2700 South Western Avenue, Chicago, IL 60608, USA'\n '6800 West Belden Avenue, Chicago, IL 60707, USA'\n '2100 South Hamlin Avenue, Chicago, IL 60623, USA'\n '3000 West 18th Street, Chicago, IL 60608, USA'\n '1100 South California Avenue, Chicago, IL 60612, USA'\n '2500 South Throop Street, Chicago, IL 60608, USA'\n '1000 West 95th Street, Chicago, IL 60643, USA'\n '1000 South California Avenue, Chicago, IL 60612, USA'\n '9600 South Hoyne Avenue, Chicago, IL 60643, USA'\n '1800 West Leland Avenue, Chicago, IL 60640, USA'\n '6100 West Fullerton Avenue, Chicago, IL 60639, USA'\n '6400 West Strong Street, Chicago, IL, USA'\n '1200 West Greenleaf Avenue, Chicago, IL 60626, USA'\n '1000 North Central Park Avenue, Chicago, IL 60651, USA'\n '2000 East 111th Street, Chicago, IL 60628, USA'\n '3300 North Rutherford Avenue, Chicago, IL 60634, USA'\n '1100 North Artesian Avenue, Chicago, IL 60622, USA'\n '6000 West Roscoe Street, Chicago, IL 60634, USA'\n '6000 West Montrose Avenue, Chicago, IL 60634, USA'\n '3300 West Randolph Street, Chicago, IL 60612, USA'\n '3300 West 104th Street, Chicago, IL 60655, USA'\n '4900 West Sunnyside Avenue, Chicago, IL 60630, USA'\n '3000 South Hoyne Avenue, Chicago, IL 60608, USA'\n '4200 West 31st Street, Chicago, IL 60623, USA'\n '1700 North Pulaski Road, Chicago, IL 60639, USA'\n '2200 West Pershing Road, Chicago, IL 60609, USA'\n '2200 West 51st Street, Chicago, IL 60609, USA'\n '3500 West 51st Street, Chicago, IL 60632, USA'\n 'Chicago Midway International Airport (MDW), 5200 West 63rd Street, Chicago, IL 60638, USA'\n '6700 South Kedzie Avenue, Chicago, IL 60629, USA'\n '7300 Cicero Avenue, Chicago, IL 60638, USA'\n '2200 West 69th Street, Chicago, IL 60636, USA'\n '5200 South Nordica Avenue, Chicago, IL 60638, USA'\n '6100 South Melvina Avenue, Chicago, IL 60638, USA'\n '1000 East 67th Street, Chicago, IL 60637, USA'\n '3900 South Ashland Avenue, Chicago, IL 60609, USA'\n '4700 South Cornell Avenue, Chicago, IL 60615, USA'\n '5500 South Doctor Martin Luther King Junior Drive, Chicago, IL 60637, USA'\n '6400 South Stony Island Avenue, Chicago, IL 60637, USA'\n '7100 South South Shore Drive, Chicago, IL 60649, USA'\n '7700 South Eberhart Avenue, Chicago, IL 60619, USA'\n '4000 South Dearborn Street, Chicago, IL 60609, USA'\n '5000 South Union Avenue, Chicago, IL 60609, USA'\n '7900 South South Chicago Avenue, Chicago, IL 60617, USA'\n '5200 South Kolmar Avenue, Chicago, IL 60632, USA'\n '6300 West 64th Street, Chicago, IL 60638, USA'\n '3700 South Pulaski Road, Chicago, IL 60623, USA'\n 'South Doty Avenue, Chicago, IL, USA'\n 'South Stony Island Avenue, Chicago, IL, USA'\n 'South Torrence Avenue, Chicago, IL, USA'\n 'South Mackinaw Avenue, Chicago, IL 60617, USA'\n 'South Brandon Avenue, Chicago, IL 60617, USA'\n '3700 118th Street, Chicago, IL 60617, USA'\n '3800 East 115th Street, Chicago, IL 60617, USA'\n 'East 91st Street, Chicago, IL, USA'\n '2400 East 105th Street, Chicago, IL 60617, USA'\n '8000 South Kedzie Avenue, Chicago, IL 60652, USA'\n '6500 South Racine Avenue, Chicago, IL 60636, USA'\n 'East 138th Street, Riverdale, IL 60827, USA'\n '8900 South Muskegon Avenue, Chicago, IL 60617, USA'\n '9800 South Avenue G, Chicago, IL 60617, USA'\n 'South Cottage Grove Avenue, Chicago, IL, USA'\n 'South Avenue L, Chicago, IL 60617, USA'\n '5800 North Pulaski Road, Chicago, IL 60646, USA'\n '6600 South Kilpatrick Avenue, Chicago, IL 60629, USA'\n 'West 37th Place, Chicago, IL, USA'\n '4000 East 130th Street, Chicago, IL 60633, USA'\n '9100 West Higgins Road, Rosemont, IL 60018, USA'\n \"ORD Terminal 5, O'Hare International Airport, Chicago, IL 60666, USA\"\n 'Ohare Court, Bensenville, IL 60106, USA'\n '4800 West Montana Street, Chicago, IL 60639, USA'\n '5100 North Mont Clare Avenue, Chicago, IL 60656, USA'\n '8200 South Kostner Avenue, Chicago, IL 60652, USA'\n 'East 91st Place, Chicago, IL, USA'\n '1700 West Addison Street, Chicago, IL 60613, USA'\n 'West Garfield Boulevard, Chicago, IL, USA'\n 'South Wallace Street, Chicago, IL, USA'\n '1300 North Laramie Avenue, Chicago, IL 60651, USA'\n '3900 North Springfield Avenue, Chicago, IL 60618, USA'\n '1700 North Ashland Avenue, Chicago, IL 60622, USA'\n '5100 West 72nd Street, Chicago, IL 60638, USA'\n '5800 North Ridge Avenue, Chicago, IL 60660, USA'\n '4200 West 65th Street, Chicago, IL 60621, USA'\n '7100 North Harlem Avenue, Chicago, IL 60631, USA'\n '6200 North Mcclellan Avenue, Chicago, IL 60646, USA'\n '2900 West 85th Street, Chicago, IL 60652, USA'\n '3400 West 77th Street, Chicago, IL 60652, USA'\n '9600 South Longwood Drive, Chicago, IL 60643, USA'\n '2100 North Cannon Drive, Chicago, IL 60614, USA']\n['CULEX PIPIENS/RESTUANS' 'CULEX RESTUANS' 'CULEX PIPIENS'\n 'CULEX SALINARIUS' 'CULEX TERRITANS' 'CULEX TARSALIS' 'CULEX ERRATICUS']\n[41 62 79 15 25 11 21 22 17 53 65 75 89 91 36 72 38 49 58 50 14 10 42 40\n 43 28 18 70 35 93 37 45 46 60 61 27 68 30 96 64 12 20 33 52 67 73 39 47\n 55 71 77 63 13 81 24 80 82 98 66 48 51 90 29 34]\n[' N OAK PARK AVE' ' N MANDELL AVE' ' W FOSTER AVE' ' W WEBSTER AVE'\n ' W GRAND AVE' ' W ROOSEVELT' ' W CHICAGO' ' N STAVE ST' ' N CANNON DR'\n ' W 113TH ST' ' S PEORIA ST' ' W 95TH ST' ' W 89TH ST' ' N STREETER DR'\n ' N OAKLEY AVE' ' N LONG AVE' ' S CARPENTER ST' ' W HIGGINS AVE'\n ' N PITTSBURGH AVE' ' N OKETO AVE' ' N CALIFORNIA AVE' ' W BALMORAL AVE'\n ' N WESTERN AVE' ' S CENTRAL AVE' ' N HUMBOLDT DR' ' S VINCENNES'\n ' S ASHLAND AVE' ' S STATE ST' ' W 127TH PL' ' W AGATITE AVE'\n ' N AUSTIN AVE' ' N ASHLAND AVE OVERPASS' ' N RICHMOND ST'\n ' N FRANCISCO AVE' ' W GRANVILLE AVE' ' W FARWELL AVE'\n '  W ARMITAGE AVENUE' ' S MILLARD AVE' ' N LAWLER AVE' ' W 116TH ST'\n ' S DR MARTIN LUTHER KING JR DR' ' N KEDVALE AVE' ' N CAMPBELL AVE'\n ' N TRIPP AVE' ' N MILWAUKEE AVE' ' N AVONDALE AVE' ' N MOSELL AVE'\n ' N LEMONT AVE' ' S WESTERN AVE' ' W BELDEN AVE' ' S HAMLIN AVE'\n ' W 18TH ST' ' S CALIFORNIA' ' S THROOP' ' S CALIFORNIA AVE'\n ' S HOYNE AVE' ' W LELAND AVE' ' W FULLERTON AVE' ' W STRONG ST'\n ' W GREENLEAF AVE' ' N CENTRAL PARK DR' ' E 111TH ST' ' N RUTHERFORD AVE'\n ' S ARTESIAN AVE' ' W ROSCOE ST' ' W MONTROSE DR' ' E RANDOLPH ST'\n ' W 104TH ST' ' W SUNNYSIDE AVE' ' W 31ST ST' ' N PULASKI RD'\n ' W PERSHING RD' ' W 51ST ST' ' W 63RD ST' ' S KEDZIE AVE'\n ' S CICERO AVE' ' W 69TH ST' ' S NORDICA' ' S MELVINA AVE' ' E 67TH ST'\n ' S CORNELL AVE' ' S STONY ISLAND AVE' ' S SOUTH SHORE DR'\n ' S EBERHART AVE' ' S DEARBORN ST' ' S UNION AVE' ' S CHICAGO AVE'\n ' S KOLMAR' ' W 64TH ST' ' S PULASKI RD' ' S DOTY AVE' ' S TORRENCE AVE'\n ' S MACKINAW' ' S BRANDON' ' E 118TH ST' ' E 115TH ST' ' E 91ST ST'\n ' E 105TH ST' ' S RACINE AVE' ' E 138TH ST' ' S MUSKEGON AVE'\n ' S AVENUE G' ' S COTTAGE GROVE' ' S AVENUE L' ' S KILPATRICK AVE'\n ' W 37TH PL.' ' E 130TH ST' ' W HIGGINS RD' ' W OHARE AIRPORT' ' W OHARE'\n ' W MONTANA ST' ' N MONT CLARE AVE' ' S KOSTNER AVE' ' E 91ST PL'\n ' W ADDISON ST' ' W GARFIELD BLVD' ' S WALLACE ST' ' N LARAMIE AVE'\n ' N SPRINGFIELD AVE' ' N ASHLAND AVE' ' W 72ND ST' ' N RIDGE AVE'\n ' W 65TH ST' ' N HARLEM AVE' ' N MCCLELLAN AVE' ' W 85TH ST' ' W 77TH ST'\n ' S LONGWOOD DR']\n['T002' 'T007' 'T015' 'T045' 'T046' 'T048' 'T049' 'T050' 'T054' 'T086'\n 'T091' 'T094' 'T096' 'T129' 'T143' 'T148' 'T153' 'T159' 'T009' 'T011'\n 'T016' 'T019' 'T025' 'T028' 'T031' 'T033' 'T089' 'T090' 'T092' 'T135'\n 'T141' 'T142' 'T145' 'T146' 'T147' 'T149' 'T150' 'T151' 'T152' 'T154'\n 'T158' 'T162' 'T218' 'T220' 'T001' 'T003' 'T006' 'T008' 'T012' 'T034'\n 'T037' 'T040' 'T043' 'T047' 'T051' 'T085' 'T088' 'T161' 'T219' 'T013'\n 'T014' 'T018' 'T030' 'T084' 'T144' 'T160' 'T005' 'T017' 'T044' 'T095'\n 'T004' 'T035' 'T036' 'T039' 'T060' 'T061' 'T062' 'T065' 'T066' 'T067'\n 'T069' 'T070' 'T071' 'T073' 'T074' 'T075' 'T076' 'T077' 'T079' 'T080'\n 'T081' 'T082' 'T083' 'T114' 'T155' 'T063' 'T115' 'T138' 'T200' 'T206'\n 'T209' 'T212' 'T215' 'T107' 'T128' 'T072' 'T078' 'T097' 'T099' 'T100'\n 'T102' 'T103' 'T027' 'T156' 'T157' 'T221' 'T900' 'T903' 'T222' 'T223'\n 'T225' 'T227' 'T224' 'T226' 'T229' 'T230' 'T228' 'T232' 'T231' 'T235'\n 'T233' 'T236' 'T237' 'T238' 'T094B' 'T054C']\n['4100  N OAK PARK AVE, Chicago, IL' '6200  N MANDELL AVE, Chicago, IL'\n '7900  W FOSTER AVE, Chicago, IL' '1500  W WEBSTER AVE, Chicago, IL'\n '2500  W GRAND AVE, Chicago, IL' '1100  W ROOSEVELT, Chicago, IL'\n '1100  W CHICAGO, Chicago, IL' '2100  N STAVE ST, Chicago, IL'\n '2200  N CANNON DR, Chicago, IL' '2200  W 113TH ST, Chicago, IL'\n '1100  S PEORIA ST, Chicago, IL' '1700  W 95TH ST, Chicago, IL'\n '2200  W 89TH ST, Chicago, IL' '5300  N STREETER DR, Chicago, IL'\n '6500  N OAK PARK AVE, Chicago, IL' '7500  N OAKLEY AVE, Chicago, IL'\n '1500  N LONG AVE, Chicago, IL' '8900  S CARPENTER ST, Chicago, IL'\n '9100  W HIGGINS AVE, Chicago, IL' '3600  N PITTSBURGH AVE, Chicago, IL'\n '7200  N OKETO AVE, Chicago, IL' '3800  N CALIFORNIA AVE, Chicago, IL'\n '4900  W BALMORAL AVE, Chicago, IL' '5800  N WESTERN AVE, Chicago, IL'\n '5000  S CENTRAL AVE, Chicago, IL' '1400  N HUMBOLDT DR, Chicago, IL'\n '1000  S VINCENNES, Chicago, IL' '1100  S ASHLAND AVE, Chicago, IL'\n '1100  S STATE ST, Chicago, IL' '4200  W 127TH PL, Chicago, IL'\n '5300  W AGATITE AVE, Chicago, IL' '4000  N AUSTIN AVE, Chicago, IL'\n '4300  N ASHLAND AVE OVERPASS, Chicago, IL'\n '4200  N RICHMOND ST, Chicago, IL' '2800  N FRANCISCO AVE, Chicago, IL'\n '1500  W GRANVILLE AVE, Chicago, IL' '1800  W FARWELL AVE, Chicago, IL'\n '7000   W ARMITAGE AVENUE, Chicago, IL'\n '2500  S MILLARD AVE, Chicago, IL' '2100  N LAWLER AVE, Chicago, IL'\n '3500  W 116TH ST, Chicago, IL'\n '9300  S DR MARTIN LUTHER KING JR DR, Chicago, IL'\n '3700  N KEDVALE AVE, Chicago, IL' '4500  N CAMPBELL AVE, Chicago, IL'\n '4000  N TRIPP AVE, Chicago, IL' '4600  N MILWAUKEE AVE, Chicago, IL'\n '6000  N AVONDALE AVE, Chicago, IL' '7000  N MOSELL AVE, Chicago, IL'\n '6100  N LEMONT AVE, Chicago, IL' '2700  S WESTERN AVE, Chicago, IL'\n '6800  W BELDEN AVE, Chicago, IL' '2100  S HAMLIN AVE, Chicago, IL'\n '3000  W 18TH ST, Chicago, IL' '1100  S CALIFORNIA, Chicago, IL'\n '2500  S THROOP, Chicago, IL' '1000  W 95TH ST, Chicago, IL'\n '1000  S CALIFORNIA AVE, Chicago, IL' '9600  S HOYNE AVE, Chicago, IL'\n '1800  W LELAND AVE, Chicago, IL' '6100  W FULLERTON AVE, Chicago, IL'\n '6400  W STRONG ST, Chicago, IL' '1200  W GREENLEAF AVE, Chicago, IL'\n '1000  N CENTRAL PARK DR, Chicago, IL' '2000  E 111TH ST, Chicago, IL'\n '3300  N RUTHERFORD AVE, Chicago, IL' '1100  S ARTESIAN AVE, Chicago, IL'\n '6000  W ROSCOE ST, Chicago, IL' '6000  W MONTROSE DR, Chicago, IL'\n '3300  E RANDOLPH ST, Chicago, IL' '3300  W 104TH ST, Chicago, IL'\n '4900  W SUNNYSIDE AVE, Chicago, IL' '3000  S HOYNE AVE, Chicago, IL'\n '4200  W 31ST ST, Chicago, IL' '1700  N PULASKI RD, Chicago, IL'\n '2200  W PERSHING RD, Chicago, IL' '2200  W 51ST ST, Chicago, IL'\n '3500  W 51ST ST, Chicago, IL' '5200  W 63RD ST, Chicago, IL'\n '6700  S KEDZIE AVE, Chicago, IL' '7300  S CICERO AVE, Chicago, IL'\n '2200  W 69TH ST, Chicago, IL' '5200  S NORDICA, Chicago, IL'\n '6100  S MELVINA AVE, Chicago, IL' '1000  E 67TH ST, Chicago, IL'\n '3900  S ASHLAND AVE, Chicago, IL' '4700  S CORNELL AVE, Chicago, IL'\n '5500  S DR MARTIN LUTHER KING JR DR, Chicago, IL'\n '6400  S STONY ISLAND AVE, Chicago, IL'\n '7100  S SOUTH SHORE DR, Chicago, IL' '7700  S EBERHART AVE, Chicago, IL'\n '4000  S DEARBORN ST, Chicago, IL' '5000  S UNION AVE, Chicago, IL'\n '7900  S CHICAGO AVE, Chicago, IL' '5200  S KOLMAR, Chicago, IL'\n '6300  W 64TH ST, Chicago, IL' '3700  S PULASKI RD, Chicago, IL'\n '1200  S DOTY AVE, Chicago, IL' '1000  S STONY ISLAND AVE, Chicago, IL'\n '1300  S TORRENCE AVE, Chicago, IL' '1300  S MACKINAW, Chicago, IL'\n '1300  S BRANDON, Chicago, IL' '3700  E 118TH ST, Chicago, IL'\n '3800  E 115TH ST, Chicago, IL' '8100  E 91ST ST, Chicago, IL'\n '2400  E 105TH ST, Chicago, IL' '8000  S KEDZIE AVE, Chicago, IL'\n '6500  S RACINE AVE, Chicago, IL' '8200  E 138TH ST, Chicago, IL'\n '8900  S MUSKEGON AVE, Chicago, IL' '9800  S AVENUE G, Chicago, IL'\n '1000  S COTTAGE GROVE, Chicago, IL' '1100  S AVENUE L, Chicago, IL'\n '5800  N PULASKI RD, Chicago, IL' '6600  S KILPATRICK AVE, Chicago, IL'\n '8100  W 37TH PL., Chicago, IL' '4000  E 130TH ST, Chicago, IL'\n '9100  W HIGGINS RD, Chicago, IL' '1000  W OHARE AIRPORT, Chicago, IL'\n '1000  W OHARE, Chicago, IL' '4800  W MONTANA ST, Chicago, IL'\n '5100  N MONT CLARE AVE, Chicago, IL' '8200  S KOSTNER AVE, Chicago, IL'\n '6500  E 91ST PL, Chicago, IL' '1700  W ADDISON ST, Chicago, IL'\n '9000  W GARFIELD BLVD, Chicago, IL' '1100  S WALLACE ST, Chicago, IL'\n '1300  N LARAMIE AVE, Chicago, IL' '3900  N SPRINGFIELD AVE, Chicago, IL'\n '1700  N ASHLAND AVE, Chicago, IL' '5100  W 72ND ST, Chicago, IL'\n '5800  N RIDGE AVE, Chicago, IL' '4200  W 65TH ST, Chicago, IL'\n '7100  N HARLEM AVE, Chicago, IL' '6200  N MCCLELLAN AVE, Chicago, IL'\n '2900  W 85TH ST, Chicago, IL' '3400  W 77TH ST, Chicago, IL'\n '9600  S LONGWOOD DR, Chicago, IL' '2100  N CANNON DR, Chicago, IL']\n[41.95469  41.994991 41.974089 41.9216   41.891118 41.867108 41.896282\n 41.919343 41.921965 41.688324 41.862292 41.720848 41.731922 41.891126\n 41.999129 42.01743  41.907645 41.732984 41.981964 41.944869 42.011601\n 41.94983  41.979243 41.986921 41.801498 41.906638 41.723195 41.868077\n 41.869216 41.662014 41.961743 41.953067 41.878114 41.958271 41.932094\n 41.994469 42.006858 41.916265 41.846075 41.918705 41.682587 41.725517\n 41.948167 41.963976 41.953705 41.964242 41.990284 42.008314 41.991429\n 41.843811 41.921177 41.852652 41.857402 41.868142 41.846283 41.721474\n 41.869107 41.719059 41.966987 41.923738 41.970248 42.010412 41.89923\n 41.692555 41.94016  41.903002 41.942114 41.960616 41.883284 41.704336\n 41.962728 41.836644 41.837085 41.911824 41.823065 41.801179 41.800737\n 41.778297 41.77166  41.759346 41.768388 41.797616 41.781416 41.773215\n 41.822536 41.799282 41.794781 41.778748 41.766202 41.754676 41.821582\n 41.803423 41.754292 41.798697 41.776156 41.82561  41.673408 41.726465\n 41.678618 41.737052 41.740641 41.680946 41.686398 41.729669 41.704572\n 41.74785  41.775051 41.644612 41.733643 41.717753 41.750498 41.702724\n 41.984809 41.772846 41.825902 41.659112 41.992478 41.974689 41.957799\n 41.925198 41.973845 41.743402 41.728495 41.947227 41.793818 41.753411\n 41.904194 41.951866 41.912563 41.763733 41.98728  41.776428 42.009876\n 41.994679 41.738903 41.753391 41.71914  41.925652]\n[-87.800991 -87.769279 -87.824812 -87.666455 -87.654491 -87.654224\n -87.655232 -87.694259 -87.632085 -87.676709 -87.64886  -87.666014\n -87.677512 -87.61156  -87.795585 -87.687769 -87.760886 -87.649642\n -87.812827 -87.832763 -87.811506 -87.698457 -87.750938 -87.689778\n -87.763416 -87.701431 -87.64997  -87.666901 -87.627561 -87.724608\n -87.76007  -87.776792 -87.629798 -87.702575 -87.700117 -87.667736\n -87.675919 -87.800515 -87.716277 -87.752329 -87.707973 -87.614258\n -87.730698 -87.69181  -87.733974 -87.757639 -87.797127 -87.777921\n -87.747113 -87.686763 -87.79518  -87.719887 -87.694991 -87.696269\n -87.656913 -87.648064 -87.696293 -87.675088 -87.674677 -87.785288\n -87.787992 -87.66214  -87.716788 -87.598865 -87.794896 -87.688267\n -87.776385 -87.777189 -87.705085 -87.703736 -87.748367 -87.677737\n -87.729384 -87.726737 -87.678378 -87.679447 -87.71188  -87.752411\n -87.703047 -87.745602 -87.678649 -87.797894 -87.776532 -87.60088\n -87.666343 -87.585487 -87.615989 -87.586427 -87.562889 -87.612922\n -87.627796 -87.642984 -87.590773 -87.736812 -87.778927 -87.726549\n -87.599862 -87.585413 -87.559308 -87.543067 -87.546587 -87.535198\n -87.531635 -87.582699 -87.565666 -87.702716 -87.655356 -87.604498\n -87.55551  -87.531657 -87.605294 -87.536497 -87.728492 -87.740029\n -87.667827 -87.538693 -87.862995 -87.890615 -87.930995 -87.746381\n -87.805059 -87.731435 -87.600963 -87.671457 -87.654234 -87.639817\n -87.756155 -87.725057 -87.668055 -87.742302 -87.666066 -87.627096\n -87.807277 -87.770899 -87.695443 -87.707394 -87.669539 -87.63359 ]\n[9 8 5 3]\n[ 1  4  2  3  5  9  7 10  8  6 19 20 25 16 11 12 28 18 50 35 14 22 21 37\n 27 13 39 29 15 17 34 26 32 47 44 23 46 48 42 33 45 24 41 38 40 36 43 49\n 30 31]\n[0 1]\n",
     "output_type": "stream"
    }
   ]
  },
  {
   "cell_type": "markdown",
   "source": "No missing values or non-unicode charaters present in train_df. However, plenty of uppercase letters can be observed in the dataframe.",
   "metadata": {
    "cell_id": "00007-0e8acec2-4b2c-47f8-b4b3-96874755dd0b",
    "deepnote_cell_type": "markdown"
   }
  },
  {
   "cell_type": "code",
   "metadata": {
    "deepnote_to_be_reexecuted": false,
    "execution_millis": 2,
    "execution_start": 1637218219511,
    "source_hash": "70139c7c",
    "tags": [],
    "cell_id": "00008-9d4091ab-aeaf-45e0-8065-66d261c5c5c1",
    "deepnote_cell_type": "code"
   },
   "source": "# define function for lowercase letters\ndef clean_columns(col):\n    return col.lower()",
   "execution_count": null,
   "outputs": []
  },
  {
   "cell_type": "code",
   "metadata": {
    "deepnote_to_be_reexecuted": false,
    "execution_millis": 0,
    "execution_start": 1637218219565,
    "source_hash": "5bcbf5f2",
    "tags": [],
    "cell_id": "00009-b9f00186-d14b-44e3-877c-ba175be49937",
    "deepnote_cell_type": "code"
   },
   "source": "# apply lowercase to all columns in train_df\ntrain_df.columns = [clean_columns(col) for col in train_df]",
   "execution_count": null,
   "outputs": []
  },
  {
   "cell_type": "code",
   "metadata": {
    "deepnote_to_be_reexecuted": false,
    "execution_millis": 6,
    "execution_start": 1637218219566,
    "source_hash": "690103a9",
    "tags": [],
    "cell_id": "00010-a74919fa-fc0d-4c0c-9056-6e9e6a257d08",
    "deepnote_cell_type": "code"
   },
   "source": "# check for duplicate rows in train_df\nprint(f'There are {len(train_df[train_df.duplicated()])} duplicate rows in train_df.')",
   "execution_count": null,
   "outputs": [
    {
     "name": "stdout",
     "text": "There are 813 duplicate rows in train_df.\n",
     "output_type": "stream"
    }
   ]
  },
  {
   "cell_type": "code",
   "metadata": {
    "deepnote_to_be_reexecuted": false,
    "execution_millis": 0,
    "execution_start": 1637218219567,
    "source_hash": "ab5c333f",
    "tags": [],
    "cell_id": "00011-5e4324f3-259a-4749-b78d-1da847c3db42",
    "deepnote_cell_type": "code"
   },
   "source": "# removing duplicates\ntrain_df.drop_duplicates(inplace=True)",
   "execution_count": null,
   "outputs": []
  },
  {
   "cell_type": "code",
   "metadata": {
    "deepnote_to_be_reexecuted": false,
    "execution_millis": 16,
    "execution_start": 1637218219611,
    "source_hash": "e5cfb7f0",
    "tags": [],
    "cell_id": "00012-4c2f6169-8df8-4453-a0c2-f0f33658758f",
    "deepnote_cell_type": "code"
   },
   "source": "# check if duplicates are removed\nprint(f'There are {len(train_df[train_df.duplicated()])} duplicate rows in train_df.')",
   "execution_count": null,
   "outputs": [
    {
     "name": "stdout",
     "text": "There are 0 duplicate rows in train_df.\n",
     "output_type": "stream"
    }
   ]
  },
  {
   "cell_type": "code",
   "metadata": {
    "cell_id": "00013-0f4e4644-3c05-4ca8-bef4-cec2827208fd",
    "deepnote_to_be_reexecuted": false,
    "source_hash": "849cf8d9",
    "execution_start": 1637218219621,
    "execution_millis": 25,
    "deepnote_cell_type": "code"
   },
   "source": "train_df.head(1)",
   "execution_count": null,
   "outputs": [
    {
     "output_type": "execute_result",
     "execution_count": 11,
     "data": {
      "application/vnd.deepnote.dataframe.v2+json": {
       "row_count": 1,
       "column_count": 12,
       "columns": [
        {
         "name": "date",
         "dtype": "object",
         "stats": {
          "unique_count": 1,
          "nan_count": 0,
          "categories": [
           {
            "name": "2007-05-29",
            "count": 1
           }
          ]
         }
        },
        {
         "name": "address",
         "dtype": "object",
         "stats": {
          "unique_count": 1,
          "nan_count": 0,
          "categories": [
           {
            "name": "4100 North Oak Park Avenue, Chicago, IL 60634, USA",
            "count": 1
           }
          ]
         }
        },
        {
         "name": "species",
         "dtype": "object",
         "stats": {
          "unique_count": 1,
          "nan_count": 0,
          "categories": [
           {
            "name": "CULEX PIPIENS/RESTUANS",
            "count": 1
           }
          ]
         }
        },
        {
         "name": "block",
         "dtype": "int64",
         "stats": {
          "unique_count": 1,
          "nan_count": 0,
          "min": "41",
          "max": "41",
          "histogram": [
           {
            "bin_start": 40.5,
            "bin_end": 40.6,
            "count": 0
           },
           {
            "bin_start": 40.6,
            "bin_end": 40.7,
            "count": 0
           },
           {
            "bin_start": 40.7,
            "bin_end": 40.8,
            "count": 0
           },
           {
            "bin_start": 40.8,
            "bin_end": 40.9,
            "count": 0
           },
           {
            "bin_start": 40.9,
            "bin_end": 41,
            "count": 0
           },
           {
            "bin_start": 41,
            "bin_end": 41.1,
            "count": 1
           },
           {
            "bin_start": 41.1,
            "bin_end": 41.2,
            "count": 0
           },
           {
            "bin_start": 41.2,
            "bin_end": 41.3,
            "count": 0
           },
           {
            "bin_start": 41.3,
            "bin_end": 41.4,
            "count": 0
           },
           {
            "bin_start": 41.4,
            "bin_end": 41.5,
            "count": 0
           }
          ]
         }
        },
        {
         "name": "street",
         "dtype": "object",
         "stats": {
          "unique_count": 1,
          "nan_count": 0,
          "categories": [
           {
            "name": " N OAK PARK AVE",
            "count": 1
           }
          ]
         }
        },
        {
         "name": "trap",
         "dtype": "object",
         "stats": {
          "unique_count": 1,
          "nan_count": 0,
          "categories": [
           {
            "name": "T002",
            "count": 1
           }
          ]
         }
        },
        {
         "name": "addressnumberandstreet",
         "dtype": "object",
         "stats": {
          "unique_count": 1,
          "nan_count": 0,
          "categories": [
           {
            "name": "4100  N OAK PARK AVE, Chicago, IL",
            "count": 1
           }
          ]
         }
        },
        {
         "name": "latitude",
         "dtype": "float64",
         "stats": {
          "unique_count": 1,
          "nan_count": 0,
          "min": "41.95469",
          "max": "41.95469",
          "histogram": [
           {
            "bin_start": 41.45469,
            "bin_end": 41.55469,
            "count": 0
           },
           {
            "bin_start": 41.55469,
            "bin_end": 41.65469,
            "count": 0
           },
           {
            "bin_start": 41.65469,
            "bin_end": 41.75469,
            "count": 0
           },
           {
            "bin_start": 41.75469,
            "bin_end": 41.85469,
            "count": 0
           },
           {
            "bin_start": 41.85469,
            "bin_end": 41.95469,
            "count": 0
           },
           {
            "bin_start": 41.95469,
            "bin_end": 42.05469,
            "count": 1
           },
           {
            "bin_start": 42.05469,
            "bin_end": 42.15469,
            "count": 0
           },
           {
            "bin_start": 42.15469,
            "bin_end": 42.25469,
            "count": 0
           },
           {
            "bin_start": 42.25469,
            "bin_end": 42.35469,
            "count": 0
           },
           {
            "bin_start": 42.35469,
            "bin_end": 42.45469,
            "count": 0
           }
          ]
         }
        },
        {
         "name": "longitude",
         "dtype": "float64",
         "stats": {
          "unique_count": 1,
          "nan_count": 0,
          "min": "-87.800991",
          "max": "-87.800991",
          "histogram": [
           {
            "bin_start": -88.300991,
            "bin_end": -88.200991,
            "count": 0
           },
           {
            "bin_start": -88.200991,
            "bin_end": -88.100991,
            "count": 0
           },
           {
            "bin_start": -88.100991,
            "bin_end": -88.000991,
            "count": 0
           },
           {
            "bin_start": -88.000991,
            "bin_end": -87.90099099999999,
            "count": 0
           },
           {
            "bin_start": -87.90099099999999,
            "bin_end": -87.800991,
            "count": 0
           },
           {
            "bin_start": -87.800991,
            "bin_end": -87.700991,
            "count": 1
           },
           {
            "bin_start": -87.700991,
            "bin_end": -87.600991,
            "count": 0
           },
           {
            "bin_start": -87.600991,
            "bin_end": -87.500991,
            "count": 0
           },
           {
            "bin_start": -87.500991,
            "bin_end": -87.40099099999999,
            "count": 0
           },
           {
            "bin_start": -87.40099099999999,
            "bin_end": -87.300991,
            "count": 0
           }
          ]
         }
        },
        {
         "name": "addressaccuracy",
         "dtype": "int64",
         "stats": {
          "unique_count": 1,
          "nan_count": 0,
          "min": "9",
          "max": "9",
          "histogram": [
           {
            "bin_start": 8.5,
            "bin_end": 8.6,
            "count": 0
           },
           {
            "bin_start": 8.6,
            "bin_end": 8.7,
            "count": 0
           },
           {
            "bin_start": 8.7,
            "bin_end": 8.8,
            "count": 0
           },
           {
            "bin_start": 8.8,
            "bin_end": 8.9,
            "count": 0
           },
           {
            "bin_start": 8.9,
            "bin_end": 9,
            "count": 0
           },
           {
            "bin_start": 9,
            "bin_end": 9.1,
            "count": 1
           },
           {
            "bin_start": 9.1,
            "bin_end": 9.2,
            "count": 0
           },
           {
            "bin_start": 9.2,
            "bin_end": 9.3,
            "count": 0
           },
           {
            "bin_start": 9.3,
            "bin_end": 9.4,
            "count": 0
           },
           {
            "bin_start": 9.4,
            "bin_end": 9.5,
            "count": 0
           }
          ]
         }
        },
        {
         "name": "nummosquitos",
         "dtype": "int64",
         "stats": {
          "unique_count": 1,
          "nan_count": 0,
          "min": "1",
          "max": "1",
          "histogram": [
           {
            "bin_start": 0.5,
            "bin_end": 0.6,
            "count": 0
           },
           {
            "bin_start": 0.6,
            "bin_end": 0.7,
            "count": 0
           },
           {
            "bin_start": 0.7,
            "bin_end": 0.8,
            "count": 0
           },
           {
            "bin_start": 0.8,
            "bin_end": 0.9,
            "count": 0
           },
           {
            "bin_start": 0.9,
            "bin_end": 1,
            "count": 0
           },
           {
            "bin_start": 1,
            "bin_end": 1.1,
            "count": 1
           },
           {
            "bin_start": 1.1,
            "bin_end": 1.2000000000000002,
            "count": 0
           },
           {
            "bin_start": 1.2000000000000002,
            "bin_end": 1.3,
            "count": 0
           },
           {
            "bin_start": 1.3,
            "bin_end": 1.4,
            "count": 0
           },
           {
            "bin_start": 1.4,
            "bin_end": 1.5,
            "count": 0
           }
          ]
         }
        },
        {
         "name": "wnvpresent",
         "dtype": "int64",
         "stats": {
          "unique_count": 1,
          "nan_count": 0,
          "min": "0",
          "max": "0",
          "histogram": [
           {
            "bin_start": -0.5,
            "bin_end": -0.4,
            "count": 0
           },
           {
            "bin_start": -0.4,
            "bin_end": -0.3,
            "count": 0
           },
           {
            "bin_start": -0.3,
            "bin_end": -0.19999999999999996,
            "count": 0
           },
           {
            "bin_start": -0.19999999999999996,
            "bin_end": -0.09999999999999998,
            "count": 0
           },
           {
            "bin_start": -0.09999999999999998,
            "bin_end": 0,
            "count": 0
           },
           {
            "bin_start": 0,
            "bin_end": 0.10000000000000009,
            "count": 1
           },
           {
            "bin_start": 0.10000000000000009,
            "bin_end": 0.20000000000000007,
            "count": 0
           },
           {
            "bin_start": 0.20000000000000007,
            "bin_end": 0.30000000000000004,
            "count": 0
           },
           {
            "bin_start": 0.30000000000000004,
            "bin_end": 0.4,
            "count": 0
           },
           {
            "bin_start": 0.4,
            "bin_end": 0.5,
            "count": 0
           }
          ]
         }
        },
        {
         "name": "_deepnote_index_column",
         "dtype": "int64"
        }
       ],
       "rows_top": [
        {
         "date": "2007-05-29",
         "address": "4100 North Oak Park Avenue, Chicago, IL 60634, USA",
         "species": "CULEX PIPIENS/RESTUANS",
         "block": 41,
         "street": " N OAK PARK AVE",
         "trap": "T002",
         "addressnumberandstreet": "4100  N OAK PARK AVE, Chicago, IL",
         "latitude": 41.95469,
         "longitude": -87.800991,
         "addressaccuracy": 9,
         "nummosquitos": 1,
         "wnvpresent": 0,
         "_deepnote_index_column": 0
        }
       ],
       "rows_bottom": null
      },
      "text/plain": "         date                                            address  \\\n0  2007-05-29  4100 North Oak Park Avenue, Chicago, IL 60634,...   \n\n                  species  block           street  trap  \\\n0  CULEX PIPIENS/RESTUANS     41   N OAK PARK AVE  T002   \n\n              addressnumberandstreet  latitude  longitude  addressaccuracy  \\\n0  4100  N OAK PARK AVE, Chicago, IL  41.95469 -87.800991                9   \n\n   nummosquitos  wnvpresent  \n0             1           0  ",
      "text/html": "<div>\n<style scoped>\n    .dataframe tbody tr th:only-of-type {\n        vertical-align: middle;\n    }\n\n    .dataframe tbody tr th {\n        vertical-align: top;\n    }\n\n    .dataframe thead th {\n        text-align: right;\n    }\n</style>\n<table border=\"1\" class=\"dataframe\">\n  <thead>\n    <tr style=\"text-align: right;\">\n      <th></th>\n      <th>date</th>\n      <th>address</th>\n      <th>species</th>\n      <th>block</th>\n      <th>street</th>\n      <th>trap</th>\n      <th>addressnumberandstreet</th>\n      <th>latitude</th>\n      <th>longitude</th>\n      <th>addressaccuracy</th>\n      <th>nummosquitos</th>\n      <th>wnvpresent</th>\n    </tr>\n  </thead>\n  <tbody>\n    <tr>\n      <th>0</th>\n      <td>2007-05-29</td>\n      <td>4100 North Oak Park Avenue, Chicago, IL 60634,...</td>\n      <td>CULEX PIPIENS/RESTUANS</td>\n      <td>41</td>\n      <td>N OAK PARK AVE</td>\n      <td>T002</td>\n      <td>4100  N OAK PARK AVE, Chicago, IL</td>\n      <td>41.95469</td>\n      <td>-87.800991</td>\n      <td>9</td>\n      <td>1</td>\n      <td>0</td>\n    </tr>\n  </tbody>\n</table>\n</div>"
     },
     "metadata": {}
    }
   ]
  },
  {
   "cell_type": "markdown",
   "source": "## weather_df",
   "metadata": {
    "is_collapsed": false,
    "tags": [],
    "cell_id": "00014-bff9aa67-d105-4fc8-a8a8-98fe7d59bc95",
    "deepnote_cell_type": "text-cell-h2"
   }
  },
  {
   "cell_type": "code",
   "metadata": {
    "deepnote_to_be_reexecuted": false,
    "execution_millis": 240,
    "execution_start": 1637218219735,
    "source_hash": "ca535173",
    "tags": [],
    "cell_id": "00015-b7478821-f051-48bd-9806-3b675f09c5d1",
    "deepnote_cell_type": "code"
   },
   "source": "#output sample size of weather dataframe\nweather_df.head()",
   "execution_count": null,
   "outputs": [
    {
     "output_type": "execute_result",
     "execution_count": 12,
     "data": {
      "application/vnd.deepnote.dataframe.v2+json": {
       "row_count": 5,
       "column_count": 22,
       "columns": [
        {
         "name": "Station",
         "dtype": "int64",
         "stats": {
          "unique_count": 2,
          "nan_count": 0,
          "min": "1",
          "max": "2",
          "histogram": [
           {
            "bin_start": 1,
            "bin_end": 1.1,
            "count": 3
           },
           {
            "bin_start": 1.1,
            "bin_end": 1.2,
            "count": 0
           },
           {
            "bin_start": 1.2,
            "bin_end": 1.3,
            "count": 0
           },
           {
            "bin_start": 1.3,
            "bin_end": 1.4,
            "count": 0
           },
           {
            "bin_start": 1.4,
            "bin_end": 1.5,
            "count": 0
           },
           {
            "bin_start": 1.5,
            "bin_end": 1.6,
            "count": 0
           },
           {
            "bin_start": 1.6,
            "bin_end": 1.7000000000000002,
            "count": 0
           },
           {
            "bin_start": 1.7000000000000002,
            "bin_end": 1.8,
            "count": 0
           },
           {
            "bin_start": 1.8,
            "bin_end": 1.9,
            "count": 0
           },
           {
            "bin_start": 1.9,
            "bin_end": 2,
            "count": 2
           }
          ]
         }
        },
        {
         "name": "Date",
         "dtype": "object",
         "stats": {
          "unique_count": 3,
          "nan_count": 0,
          "categories": [
           {
            "name": "2007-05-01",
            "count": 2
           },
           {
            "name": "2007-05-02",
            "count": 2
           },
           {
            "name": "2007-05-03",
            "count": 1
           }
          ]
         }
        },
        {
         "name": "Tmax",
         "dtype": "int64",
         "stats": {
          "unique_count": 5,
          "nan_count": 0,
          "min": "59",
          "max": "84",
          "histogram": [
           {
            "bin_start": 59,
            "bin_end": 61.5,
            "count": 2
           },
           {
            "bin_start": 61.5,
            "bin_end": 64,
            "count": 0
           },
           {
            "bin_start": 64,
            "bin_end": 66.5,
            "count": 1
           },
           {
            "bin_start": 66.5,
            "bin_end": 69,
            "count": 0
           },
           {
            "bin_start": 69,
            "bin_end": 71.5,
            "count": 0
           },
           {
            "bin_start": 71.5,
            "bin_end": 74,
            "count": 0
           },
           {
            "bin_start": 74,
            "bin_end": 76.5,
            "count": 0
           },
           {
            "bin_start": 76.5,
            "bin_end": 79,
            "count": 0
           },
           {
            "bin_start": 79,
            "bin_end": 81.5,
            "count": 0
           },
           {
            "bin_start": 81.5,
            "bin_end": 84,
            "count": 2
           }
          ]
         }
        },
        {
         "name": "Tmin",
         "dtype": "int64",
         "stats": {
          "unique_count": 5,
          "nan_count": 0,
          "min": "42",
          "max": "52",
          "histogram": [
           {
            "bin_start": 42,
            "bin_end": 43,
            "count": 1
           },
           {
            "bin_start": 43,
            "bin_end": 44,
            "count": 1
           },
           {
            "bin_start": 44,
            "bin_end": 45,
            "count": 0
           },
           {
            "bin_start": 45,
            "bin_end": 46,
            "count": 0
           },
           {
            "bin_start": 46,
            "bin_end": 47,
            "count": 1
           },
           {
            "bin_start": 47,
            "bin_end": 48,
            "count": 0
           },
           {
            "bin_start": 48,
            "bin_end": 49,
            "count": 0
           },
           {
            "bin_start": 49,
            "bin_end": 50,
            "count": 0
           },
           {
            "bin_start": 50,
            "bin_end": 51,
            "count": 1
           },
           {
            "bin_start": 51,
            "bin_end": 52,
            "count": 1
           }
          ]
         }
        },
        {
         "name": "Tavg",
         "dtype": "object",
         "stats": {
          "unique_count": 5,
          "nan_count": 0,
          "categories": [
           {
            "name": "67",
            "count": 1
           },
           {
            "name": "68",
            "count": 1
           },
           {
            "name": "3 others",
            "count": 3
           }
          ]
         }
        },
        {
         "name": "Depart",
         "dtype": "object",
         "stats": {
          "unique_count": 4,
          "nan_count": 0,
          "categories": [
           {
            "name": "M",
            "count": 2
           },
           {
            "name": "14",
            "count": 1
           },
           {
            "name": "2 others",
            "count": 2
           }
          ]
         }
        },
        {
         "name": "DewPoint",
         "dtype": "int64",
         "stats": {
          "unique_count": 3,
          "nan_count": 0,
          "min": "40",
          "max": "51",
          "histogram": [
           {
            "bin_start": 40,
            "bin_end": 41.1,
            "count": 1
           },
           {
            "bin_start": 41.1,
            "bin_end": 42.2,
            "count": 2
           },
           {
            "bin_start": 42.2,
            "bin_end": 43.3,
            "count": 0
           },
           {
            "bin_start": 43.3,
            "bin_end": 44.4,
            "count": 0
           },
           {
            "bin_start": 44.4,
            "bin_end": 45.5,
            "count": 0
           },
           {
            "bin_start": 45.5,
            "bin_end": 46.6,
            "count": 0
           },
           {
            "bin_start": 46.6,
            "bin_end": 47.7,
            "count": 0
           },
           {
            "bin_start": 47.7,
            "bin_end": 48.8,
            "count": 0
           },
           {
            "bin_start": 48.8,
            "bin_end": 49.9,
            "count": 0
           },
           {
            "bin_start": 49.9,
            "bin_end": 51,
            "count": 2
           }
          ]
         }
        },
        {
         "name": "WetBulb",
         "dtype": "object",
         "stats": {
          "unique_count": 4,
          "nan_count": 0,
          "categories": [
           {
            "name": "47",
            "count": 2
           },
           {
            "name": "56",
            "count": 1
           },
           {
            "name": "2 others",
            "count": 2
           }
          ]
         }
        },
        {
         "name": "Heat",
         "dtype": "object",
         "stats": {
          "unique_count": 4,
          "nan_count": 0,
          "categories": [
           {
            "name": "0",
            "count": 2
           },
           {
            "name": "14",
            "count": 1
           },
           {
            "name": "2 others",
            "count": 2
           }
          ]
         }
        },
        {
         "name": "Cool",
         "dtype": "object",
         "stats": {
          "unique_count": 3,
          "nan_count": 0,
          "categories": [
           {
            "name": " 0",
            "count": 3
           },
           {
            "name": " 2",
            "count": 1
           },
           {
            "name": " 3",
            "count": 1
           }
          ]
         }
        },
        {
         "name": "Sunrise",
         "dtype": "object",
         "stats": {
          "unique_count": 4,
          "nan_count": 0,
          "categories": [
           {
            "name": "-",
            "count": 2
           },
           {
            "name": "0448",
            "count": 1
           },
           {
            "name": "2 others",
            "count": 2
           }
          ]
         }
        },
        {
         "name": "Sunset",
         "dtype": "object",
         "stats": {
          "unique_count": 4,
          "nan_count": 0,
          "categories": [
           {
            "name": "-",
            "count": 2
           },
           {
            "name": "1849",
            "count": 1
           },
           {
            "name": "2 others",
            "count": 2
           }
          ]
         }
        },
        {
         "name": "CodeSum",
         "dtype": "object",
         "stats": {
          "unique_count": 3,
          "nan_count": 0,
          "categories": [
           {
            "name": " ",
            "count": 3
           },
           {
            "name": "BR",
            "count": 1
           },
           {
            "name": "BR HZ",
            "count": 1
           }
          ]
         }
        },
        {
         "name": "Depth",
         "dtype": "object",
         "stats": {
          "unique_count": 2,
          "nan_count": 0,
          "categories": [
           {
            "name": "0",
            "count": 3
           },
           {
            "name": "M",
            "count": 2
           }
          ]
         }
        },
        {
         "name": "Water1",
         "dtype": "object",
         "stats": {
          "unique_count": 1,
          "nan_count": 0,
          "categories": [
           {
            "name": "M",
            "count": 5
           }
          ]
         }
        },
        {
         "name": "SnowFall",
         "dtype": "object",
         "stats": {
          "unique_count": 2,
          "nan_count": 0,
          "categories": [
           {
            "name": "0.0",
            "count": 3
           },
           {
            "name": "M",
            "count": 2
           }
          ]
         }
        },
        {
         "name": "PrecipTotal",
         "dtype": "object",
         "stats": {
          "unique_count": 1,
          "nan_count": 0,
          "categories": [
           {
            "name": "0.00",
            "count": 5
           }
          ]
         }
        },
        {
         "name": "StnPressure",
         "dtype": "object",
         "stats": {
          "unique_count": 5,
          "nan_count": 0,
          "categories": [
           {
            "name": "29.10",
            "count": 1
           },
           {
            "name": "29.18",
            "count": 1
           },
           {
            "name": "3 others",
            "count": 3
           }
          ]
         }
        },
        {
         "name": "SeaLevel",
         "dtype": "object",
         "stats": {
          "unique_count": 4,
          "nan_count": 0,
          "categories": [
           {
            "name": "29.82",
            "count": 2
           },
           {
            "name": "30.09",
            "count": 1
           },
           {
            "name": "2 others",
            "count": 2
           }
          ]
         }
        },
        {
         "name": "ResultSpeed",
         "dtype": "float64",
         "stats": {
          "unique_count": 5,
          "nan_count": 0,
          "min": "1.7",
          "max": "13.3",
          "histogram": [
           {
            "bin_start": 1.7,
            "bin_end": 2.8600000000000003,
            "count": 2
           },
           {
            "bin_start": 2.8600000000000003,
            "bin_end": 4.0200000000000005,
            "count": 0
           },
           {
            "bin_start": 4.0200000000000005,
            "bin_end": 5.180000000000001,
            "count": 0
           },
           {
            "bin_start": 5.180000000000001,
            "bin_end": 6.340000000000001,
            "count": 0
           },
           {
            "bin_start": 6.340000000000001,
            "bin_end": 7.500000000000001,
            "count": 0
           },
           {
            "bin_start": 7.500000000000001,
            "bin_end": 8.66,
            "count": 0
           },
           {
            "bin_start": 8.66,
            "bin_end": 9.82,
            "count": 0
           },
           {
            "bin_start": 9.82,
            "bin_end": 10.98,
            "count": 0
           },
           {
            "bin_start": 10.98,
            "bin_end": 12.14,
            "count": 1
           },
           {
            "bin_start": 12.14,
            "bin_end": 13.3,
            "count": 2
           }
          ]
         }
        },
        {
         "name": "ResultDir",
         "dtype": "int64",
         "stats": {
          "unique_count": 5,
          "nan_count": 0,
          "min": "2",
          "max": "27",
          "histogram": [
           {
            "bin_start": 2,
            "bin_end": 4.5,
            "count": 2
           },
           {
            "bin_start": 4.5,
            "bin_end": 7,
            "count": 0
           },
           {
            "bin_start": 7,
            "bin_end": 9.5,
            "count": 1
           },
           {
            "bin_start": 9.5,
            "bin_end": 12,
            "count": 0
           },
           {
            "bin_start": 12,
            "bin_end": 14.5,
            "count": 0
           },
           {
            "bin_start": 14.5,
            "bin_end": 17,
            "count": 0
           },
           {
            "bin_start": 17,
            "bin_end": 19.5,
            "count": 0
           },
           {
            "bin_start": 19.5,
            "bin_end": 22,
            "count": 0
           },
           {
            "bin_start": 22,
            "bin_end": 24.5,
            "count": 0
           },
           {
            "bin_start": 24.5,
            "bin_end": 27,
            "count": 2
           }
          ]
         }
        },
        {
         "name": "AvgSpeed",
         "dtype": "object",
         "stats": {
          "unique_count": 4,
          "nan_count": 0,
          "categories": [
           {
            "name": "13.4",
            "count": 2
           },
           {
            "name": "9.2",
            "count": 1
           },
           {
            "name": "2 others",
            "count": 2
           }
          ]
         }
        },
        {
         "name": "_deepnote_index_column",
         "dtype": "int64"
        }
       ],
       "rows_top": [
        {
         "Station": 1,
         "Date": "2007-05-01",
         "Tmax": 83,
         "Tmin": 50,
         "Tavg": "67",
         "Depart": "14",
         "DewPoint": 51,
         "WetBulb": "56",
         "Heat": "0",
         "Cool": " 2",
         "Sunrise": "0448",
         "Sunset": "1849",
         "CodeSum": " ",
         "Depth": "0",
         "Water1": "M",
         "SnowFall": "0.0",
         "PrecipTotal": "0.00",
         "StnPressure": "29.10",
         "SeaLevel": "29.82",
         "ResultSpeed": 1.7,
         "ResultDir": 27,
         "AvgSpeed": "9.2",
         "_deepnote_index_column": 0
        },
        {
         "Station": 2,
         "Date": "2007-05-01",
         "Tmax": 84,
         "Tmin": 52,
         "Tavg": "68",
         "Depart": "M",
         "DewPoint": 51,
         "WetBulb": "57",
         "Heat": "0",
         "Cool": " 3",
         "Sunrise": "-",
         "Sunset": "-",
         "CodeSum": " ",
         "Depth": "M",
         "Water1": "M",
         "SnowFall": "M",
         "PrecipTotal": "0.00",
         "StnPressure": "29.18",
         "SeaLevel": "29.82",
         "ResultSpeed": 2.7,
         "ResultDir": 25,
         "AvgSpeed": "9.6",
         "_deepnote_index_column": 1
        },
        {
         "Station": 1,
         "Date": "2007-05-02",
         "Tmax": 59,
         "Tmin": 42,
         "Tavg": "51",
         "Depart": "-3",
         "DewPoint": 42,
         "WetBulb": "47",
         "Heat": "14",
         "Cool": " 0",
         "Sunrise": "0447",
         "Sunset": "1850",
         "CodeSum": "BR",
         "Depth": "0",
         "Water1": "M",
         "SnowFall": "0.0",
         "PrecipTotal": "0.00",
         "StnPressure": "29.38",
         "SeaLevel": "30.09",
         "ResultSpeed": 13,
         "ResultDir": 4,
         "AvgSpeed": "13.4",
         "_deepnote_index_column": 2
        },
        {
         "Station": 2,
         "Date": "2007-05-02",
         "Tmax": 60,
         "Tmin": 43,
         "Tavg": "52",
         "Depart": "M",
         "DewPoint": 42,
         "WetBulb": "47",
         "Heat": "13",
         "Cool": " 0",
         "Sunrise": "-",
         "Sunset": "-",
         "CodeSum": "BR HZ",
         "Depth": "M",
         "Water1": "M",
         "SnowFall": "M",
         "PrecipTotal": "0.00",
         "StnPressure": "29.44",
         "SeaLevel": "30.08",
         "ResultSpeed": 13.3,
         "ResultDir": 2,
         "AvgSpeed": "13.4",
         "_deepnote_index_column": 3
        },
        {
         "Station": 1,
         "Date": "2007-05-03",
         "Tmax": 66,
         "Tmin": 46,
         "Tavg": "56",
         "Depart": " 2",
         "DewPoint": 40,
         "WetBulb": "48",
         "Heat": "9",
         "Cool": " 0",
         "Sunrise": "0446",
         "Sunset": "1851",
         "CodeSum": " ",
         "Depth": "0",
         "Water1": "M",
         "SnowFall": "0.0",
         "PrecipTotal": "0.00",
         "StnPressure": "29.39",
         "SeaLevel": "30.12",
         "ResultSpeed": 11.7,
         "ResultDir": 7,
         "AvgSpeed": "11.9",
         "_deepnote_index_column": 4
        }
       ],
       "rows_bottom": null
      },
      "text/plain": "   Station        Date  Tmax  Tmin Tavg Depart  DewPoint WetBulb Heat Cool  \\\n0        1  2007-05-01    83    50   67     14        51      56    0    2   \n1        2  2007-05-01    84    52   68      M        51      57    0    3   \n2        1  2007-05-02    59    42   51     -3        42      47   14    0   \n3        2  2007-05-02    60    43   52      M        42      47   13    0   \n4        1  2007-05-03    66    46   56      2        40      48    9    0   \n\n   ... CodeSum Depth Water1 SnowFall PrecipTotal StnPressure SeaLevel  \\\n0  ...             0      M      0.0        0.00       29.10    29.82   \n1  ...             M      M        M        0.00       29.18    29.82   \n2  ...      BR     0      M      0.0        0.00       29.38    30.09   \n3  ...   BR HZ     M      M        M        0.00       29.44    30.08   \n4  ...             0      M      0.0        0.00       29.39    30.12   \n\n  ResultSpeed ResultDir  AvgSpeed  \n0         1.7        27       9.2  \n1         2.7        25       9.6  \n2        13.0         4      13.4  \n3        13.3         2      13.4  \n4        11.7         7      11.9  \n\n[5 rows x 22 columns]",
      "text/html": "<div>\n<style scoped>\n    .dataframe tbody tr th:only-of-type {\n        vertical-align: middle;\n    }\n\n    .dataframe tbody tr th {\n        vertical-align: top;\n    }\n\n    .dataframe thead th {\n        text-align: right;\n    }\n</style>\n<table border=\"1\" class=\"dataframe\">\n  <thead>\n    <tr style=\"text-align: right;\">\n      <th></th>\n      <th>Station</th>\n      <th>Date</th>\n      <th>Tmax</th>\n      <th>Tmin</th>\n      <th>Tavg</th>\n      <th>Depart</th>\n      <th>DewPoint</th>\n      <th>WetBulb</th>\n      <th>Heat</th>\n      <th>Cool</th>\n      <th>...</th>\n      <th>CodeSum</th>\n      <th>Depth</th>\n      <th>Water1</th>\n      <th>SnowFall</th>\n      <th>PrecipTotal</th>\n      <th>StnPressure</th>\n      <th>SeaLevel</th>\n      <th>ResultSpeed</th>\n      <th>ResultDir</th>\n      <th>AvgSpeed</th>\n    </tr>\n  </thead>\n  <tbody>\n    <tr>\n      <th>0</th>\n      <td>1</td>\n      <td>2007-05-01</td>\n      <td>83</td>\n      <td>50</td>\n      <td>67</td>\n      <td>14</td>\n      <td>51</td>\n      <td>56</td>\n      <td>0</td>\n      <td>2</td>\n      <td>...</td>\n      <td></td>\n      <td>0</td>\n      <td>M</td>\n      <td>0.0</td>\n      <td>0.00</td>\n      <td>29.10</td>\n      <td>29.82</td>\n      <td>1.7</td>\n      <td>27</td>\n      <td>9.2</td>\n    </tr>\n    <tr>\n      <th>1</th>\n      <td>2</td>\n      <td>2007-05-01</td>\n      <td>84</td>\n      <td>52</td>\n      <td>68</td>\n      <td>M</td>\n      <td>51</td>\n      <td>57</td>\n      <td>0</td>\n      <td>3</td>\n      <td>...</td>\n      <td></td>\n      <td>M</td>\n      <td>M</td>\n      <td>M</td>\n      <td>0.00</td>\n      <td>29.18</td>\n      <td>29.82</td>\n      <td>2.7</td>\n      <td>25</td>\n      <td>9.6</td>\n    </tr>\n    <tr>\n      <th>2</th>\n      <td>1</td>\n      <td>2007-05-02</td>\n      <td>59</td>\n      <td>42</td>\n      <td>51</td>\n      <td>-3</td>\n      <td>42</td>\n      <td>47</td>\n      <td>14</td>\n      <td>0</td>\n      <td>...</td>\n      <td>BR</td>\n      <td>0</td>\n      <td>M</td>\n      <td>0.0</td>\n      <td>0.00</td>\n      <td>29.38</td>\n      <td>30.09</td>\n      <td>13.0</td>\n      <td>4</td>\n      <td>13.4</td>\n    </tr>\n    <tr>\n      <th>3</th>\n      <td>2</td>\n      <td>2007-05-02</td>\n      <td>60</td>\n      <td>43</td>\n      <td>52</td>\n      <td>M</td>\n      <td>42</td>\n      <td>47</td>\n      <td>13</td>\n      <td>0</td>\n      <td>...</td>\n      <td>BR HZ</td>\n      <td>M</td>\n      <td>M</td>\n      <td>M</td>\n      <td>0.00</td>\n      <td>29.44</td>\n      <td>30.08</td>\n      <td>13.3</td>\n      <td>2</td>\n      <td>13.4</td>\n    </tr>\n    <tr>\n      <th>4</th>\n      <td>1</td>\n      <td>2007-05-03</td>\n      <td>66</td>\n      <td>46</td>\n      <td>56</td>\n      <td>2</td>\n      <td>40</td>\n      <td>48</td>\n      <td>9</td>\n      <td>0</td>\n      <td>...</td>\n      <td></td>\n      <td>0</td>\n      <td>M</td>\n      <td>0.0</td>\n      <td>0.00</td>\n      <td>29.39</td>\n      <td>30.12</td>\n      <td>11.7</td>\n      <td>7</td>\n      <td>11.9</td>\n    </tr>\n  </tbody>\n</table>\n<p>5 rows × 22 columns</p>\n</div>"
     },
     "metadata": {}
    }
   ]
  },
  {
   "cell_type": "code",
   "metadata": {
    "deepnote_to_be_reexecuted": false,
    "execution_millis": 182,
    "execution_start": 1637218219794,
    "source_hash": "1e1c452c",
    "tags": [],
    "cell_id": "00016-dd10eb5a-e0cd-4fea-9c7b-6d297fc10656",
    "deepnote_cell_type": "code"
   },
   "source": "#understand what are the features in weather dataframe\nweather_df.info()",
   "execution_count": null,
   "outputs": [
    {
     "name": "stdout",
     "text": "<class 'pandas.core.frame.DataFrame'>\nRangeIndex: 2944 entries, 0 to 2943\nData columns (total 22 columns):\n #   Column       Non-Null Count  Dtype  \n---  ------       --------------  -----  \n 0   Station      2944 non-null   int64  \n 1   Date         2944 non-null   object \n 2   Tmax         2944 non-null   int64  \n 3   Tmin         2944 non-null   int64  \n 4   Tavg         2944 non-null   object \n 5   Depart       2944 non-null   object \n 6   DewPoint     2944 non-null   int64  \n 7   WetBulb      2944 non-null   object \n 8   Heat         2944 non-null   object \n 9   Cool         2944 non-null   object \n 10  Sunrise      2944 non-null   object \n 11  Sunset       2944 non-null   object \n 12  CodeSum      2944 non-null   object \n 13  Depth        2944 non-null   object \n 14  Water1       2944 non-null   object \n 15  SnowFall     2944 non-null   object \n 16  PrecipTotal  2944 non-null   object \n 17  StnPressure  2944 non-null   object \n 18  SeaLevel     2944 non-null   object \n 19  ResultSpeed  2944 non-null   float64\n 20  ResultDir    2944 non-null   int64  \n 21  AvgSpeed     2944 non-null   object \ndtypes: float64(1), int64(5), object(16)\nmemory usage: 506.1+ KB\n",
     "output_type": "stream"
    }
   ]
  },
  {
   "cell_type": "code",
   "metadata": {
    "deepnote_to_be_reexecuted": false,
    "execution_millis": 0,
    "execution_start": 1637218219796,
    "source_hash": "89a26872",
    "tags": [],
    "cell_id": "00017-03022e63-7617-4b03-aeb7-9ec04df77745",
    "deepnote_cell_type": "code"
   },
   "source": "# apply lowercase to all columns in weather_df\nweather_df.columns = [clean_columns(col) for col in weather_df]",
   "execution_count": null,
   "outputs": []
  },
  {
   "cell_type": "code",
   "metadata": {
    "deepnote_to_be_reexecuted": false,
    "execution_millis": 179,
    "execution_start": 1637218219797,
    "source_hash": "ba32b1c4",
    "tags": [],
    "cell_id": "00018-04144fd7-aa73-45f0-b40f-c136eb5b2581",
    "deepnote_cell_type": "code"
   },
   "source": "#output sample of updated weather dataframe\nweather_df.head()",
   "execution_count": null,
   "outputs": [
    {
     "output_type": "execute_result",
     "execution_count": 15,
     "data": {
      "application/vnd.deepnote.dataframe.v2+json": {
       "row_count": 5,
       "column_count": 22,
       "columns": [
        {
         "name": "station",
         "dtype": "int64",
         "stats": {
          "unique_count": 2,
          "nan_count": 0,
          "min": "1",
          "max": "2",
          "histogram": [
           {
            "bin_start": 1,
            "bin_end": 1.1,
            "count": 3
           },
           {
            "bin_start": 1.1,
            "bin_end": 1.2,
            "count": 0
           },
           {
            "bin_start": 1.2,
            "bin_end": 1.3,
            "count": 0
           },
           {
            "bin_start": 1.3,
            "bin_end": 1.4,
            "count": 0
           },
           {
            "bin_start": 1.4,
            "bin_end": 1.5,
            "count": 0
           },
           {
            "bin_start": 1.5,
            "bin_end": 1.6,
            "count": 0
           },
           {
            "bin_start": 1.6,
            "bin_end": 1.7000000000000002,
            "count": 0
           },
           {
            "bin_start": 1.7000000000000002,
            "bin_end": 1.8,
            "count": 0
           },
           {
            "bin_start": 1.8,
            "bin_end": 1.9,
            "count": 0
           },
           {
            "bin_start": 1.9,
            "bin_end": 2,
            "count": 2
           }
          ]
         }
        },
        {
         "name": "date",
         "dtype": "object",
         "stats": {
          "unique_count": 3,
          "nan_count": 0,
          "categories": [
           {
            "name": "2007-05-01",
            "count": 2
           },
           {
            "name": "2007-05-02",
            "count": 2
           },
           {
            "name": "2007-05-03",
            "count": 1
           }
          ]
         }
        },
        {
         "name": "tmax",
         "dtype": "int64",
         "stats": {
          "unique_count": 5,
          "nan_count": 0,
          "min": "59",
          "max": "84",
          "histogram": [
           {
            "bin_start": 59,
            "bin_end": 61.5,
            "count": 2
           },
           {
            "bin_start": 61.5,
            "bin_end": 64,
            "count": 0
           },
           {
            "bin_start": 64,
            "bin_end": 66.5,
            "count": 1
           },
           {
            "bin_start": 66.5,
            "bin_end": 69,
            "count": 0
           },
           {
            "bin_start": 69,
            "bin_end": 71.5,
            "count": 0
           },
           {
            "bin_start": 71.5,
            "bin_end": 74,
            "count": 0
           },
           {
            "bin_start": 74,
            "bin_end": 76.5,
            "count": 0
           },
           {
            "bin_start": 76.5,
            "bin_end": 79,
            "count": 0
           },
           {
            "bin_start": 79,
            "bin_end": 81.5,
            "count": 0
           },
           {
            "bin_start": 81.5,
            "bin_end": 84,
            "count": 2
           }
          ]
         }
        },
        {
         "name": "tmin",
         "dtype": "int64",
         "stats": {
          "unique_count": 5,
          "nan_count": 0,
          "min": "42",
          "max": "52",
          "histogram": [
           {
            "bin_start": 42,
            "bin_end": 43,
            "count": 1
           },
           {
            "bin_start": 43,
            "bin_end": 44,
            "count": 1
           },
           {
            "bin_start": 44,
            "bin_end": 45,
            "count": 0
           },
           {
            "bin_start": 45,
            "bin_end": 46,
            "count": 0
           },
           {
            "bin_start": 46,
            "bin_end": 47,
            "count": 1
           },
           {
            "bin_start": 47,
            "bin_end": 48,
            "count": 0
           },
           {
            "bin_start": 48,
            "bin_end": 49,
            "count": 0
           },
           {
            "bin_start": 49,
            "bin_end": 50,
            "count": 0
           },
           {
            "bin_start": 50,
            "bin_end": 51,
            "count": 1
           },
           {
            "bin_start": 51,
            "bin_end": 52,
            "count": 1
           }
          ]
         }
        },
        {
         "name": "tavg",
         "dtype": "object",
         "stats": {
          "unique_count": 5,
          "nan_count": 0,
          "categories": [
           {
            "name": "67",
            "count": 1
           },
           {
            "name": "68",
            "count": 1
           },
           {
            "name": "3 others",
            "count": 3
           }
          ]
         }
        },
        {
         "name": "depart",
         "dtype": "object",
         "stats": {
          "unique_count": 4,
          "nan_count": 0,
          "categories": [
           {
            "name": "M",
            "count": 2
           },
           {
            "name": "14",
            "count": 1
           },
           {
            "name": "2 others",
            "count": 2
           }
          ]
         }
        },
        {
         "name": "dewpoint",
         "dtype": "int64",
         "stats": {
          "unique_count": 3,
          "nan_count": 0,
          "min": "40",
          "max": "51",
          "histogram": [
           {
            "bin_start": 40,
            "bin_end": 41.1,
            "count": 1
           },
           {
            "bin_start": 41.1,
            "bin_end": 42.2,
            "count": 2
           },
           {
            "bin_start": 42.2,
            "bin_end": 43.3,
            "count": 0
           },
           {
            "bin_start": 43.3,
            "bin_end": 44.4,
            "count": 0
           },
           {
            "bin_start": 44.4,
            "bin_end": 45.5,
            "count": 0
           },
           {
            "bin_start": 45.5,
            "bin_end": 46.6,
            "count": 0
           },
           {
            "bin_start": 46.6,
            "bin_end": 47.7,
            "count": 0
           },
           {
            "bin_start": 47.7,
            "bin_end": 48.8,
            "count": 0
           },
           {
            "bin_start": 48.8,
            "bin_end": 49.9,
            "count": 0
           },
           {
            "bin_start": 49.9,
            "bin_end": 51,
            "count": 2
           }
          ]
         }
        },
        {
         "name": "wetbulb",
         "dtype": "object",
         "stats": {
          "unique_count": 4,
          "nan_count": 0,
          "categories": [
           {
            "name": "47",
            "count": 2
           },
           {
            "name": "56",
            "count": 1
           },
           {
            "name": "2 others",
            "count": 2
           }
          ]
         }
        },
        {
         "name": "heat",
         "dtype": "object",
         "stats": {
          "unique_count": 4,
          "nan_count": 0,
          "categories": [
           {
            "name": "0",
            "count": 2
           },
           {
            "name": "14",
            "count": 1
           },
           {
            "name": "2 others",
            "count": 2
           }
          ]
         }
        },
        {
         "name": "cool",
         "dtype": "object",
         "stats": {
          "unique_count": 3,
          "nan_count": 0,
          "categories": [
           {
            "name": " 0",
            "count": 3
           },
           {
            "name": " 2",
            "count": 1
           },
           {
            "name": " 3",
            "count": 1
           }
          ]
         }
        },
        {
         "name": "sunrise",
         "dtype": "object",
         "stats": {
          "unique_count": 4,
          "nan_count": 0,
          "categories": [
           {
            "name": "-",
            "count": 2
           },
           {
            "name": "0448",
            "count": 1
           },
           {
            "name": "2 others",
            "count": 2
           }
          ]
         }
        },
        {
         "name": "sunset",
         "dtype": "object",
         "stats": {
          "unique_count": 4,
          "nan_count": 0,
          "categories": [
           {
            "name": "-",
            "count": 2
           },
           {
            "name": "1849",
            "count": 1
           },
           {
            "name": "2 others",
            "count": 2
           }
          ]
         }
        },
        {
         "name": "codesum",
         "dtype": "object",
         "stats": {
          "unique_count": 3,
          "nan_count": 0,
          "categories": [
           {
            "name": " ",
            "count": 3
           },
           {
            "name": "BR",
            "count": 1
           },
           {
            "name": "BR HZ",
            "count": 1
           }
          ]
         }
        },
        {
         "name": "depth",
         "dtype": "object",
         "stats": {
          "unique_count": 2,
          "nan_count": 0,
          "categories": [
           {
            "name": "0",
            "count": 3
           },
           {
            "name": "M",
            "count": 2
           }
          ]
         }
        },
        {
         "name": "water1",
         "dtype": "object",
         "stats": {
          "unique_count": 1,
          "nan_count": 0,
          "categories": [
           {
            "name": "M",
            "count": 5
           }
          ]
         }
        },
        {
         "name": "snowfall",
         "dtype": "object",
         "stats": {
          "unique_count": 2,
          "nan_count": 0,
          "categories": [
           {
            "name": "0.0",
            "count": 3
           },
           {
            "name": "M",
            "count": 2
           }
          ]
         }
        },
        {
         "name": "preciptotal",
         "dtype": "object",
         "stats": {
          "unique_count": 1,
          "nan_count": 0,
          "categories": [
           {
            "name": "0.00",
            "count": 5
           }
          ]
         }
        },
        {
         "name": "stnpressure",
         "dtype": "object",
         "stats": {
          "unique_count": 5,
          "nan_count": 0,
          "categories": [
           {
            "name": "29.10",
            "count": 1
           },
           {
            "name": "29.18",
            "count": 1
           },
           {
            "name": "3 others",
            "count": 3
           }
          ]
         }
        },
        {
         "name": "sealevel",
         "dtype": "object",
         "stats": {
          "unique_count": 4,
          "nan_count": 0,
          "categories": [
           {
            "name": "29.82",
            "count": 2
           },
           {
            "name": "30.09",
            "count": 1
           },
           {
            "name": "2 others",
            "count": 2
           }
          ]
         }
        },
        {
         "name": "resultspeed",
         "dtype": "float64",
         "stats": {
          "unique_count": 5,
          "nan_count": 0,
          "min": "1.7",
          "max": "13.3",
          "histogram": [
           {
            "bin_start": 1.7,
            "bin_end": 2.8600000000000003,
            "count": 2
           },
           {
            "bin_start": 2.8600000000000003,
            "bin_end": 4.0200000000000005,
            "count": 0
           },
           {
            "bin_start": 4.0200000000000005,
            "bin_end": 5.180000000000001,
            "count": 0
           },
           {
            "bin_start": 5.180000000000001,
            "bin_end": 6.340000000000001,
            "count": 0
           },
           {
            "bin_start": 6.340000000000001,
            "bin_end": 7.500000000000001,
            "count": 0
           },
           {
            "bin_start": 7.500000000000001,
            "bin_end": 8.66,
            "count": 0
           },
           {
            "bin_start": 8.66,
            "bin_end": 9.82,
            "count": 0
           },
           {
            "bin_start": 9.82,
            "bin_end": 10.98,
            "count": 0
           },
           {
            "bin_start": 10.98,
            "bin_end": 12.14,
            "count": 1
           },
           {
            "bin_start": 12.14,
            "bin_end": 13.3,
            "count": 2
           }
          ]
         }
        },
        {
         "name": "resultdir",
         "dtype": "int64",
         "stats": {
          "unique_count": 5,
          "nan_count": 0,
          "min": "2",
          "max": "27",
          "histogram": [
           {
            "bin_start": 2,
            "bin_end": 4.5,
            "count": 2
           },
           {
            "bin_start": 4.5,
            "bin_end": 7,
            "count": 0
           },
           {
            "bin_start": 7,
            "bin_end": 9.5,
            "count": 1
           },
           {
            "bin_start": 9.5,
            "bin_end": 12,
            "count": 0
           },
           {
            "bin_start": 12,
            "bin_end": 14.5,
            "count": 0
           },
           {
            "bin_start": 14.5,
            "bin_end": 17,
            "count": 0
           },
           {
            "bin_start": 17,
            "bin_end": 19.5,
            "count": 0
           },
           {
            "bin_start": 19.5,
            "bin_end": 22,
            "count": 0
           },
           {
            "bin_start": 22,
            "bin_end": 24.5,
            "count": 0
           },
           {
            "bin_start": 24.5,
            "bin_end": 27,
            "count": 2
           }
          ]
         }
        },
        {
         "name": "avgspeed",
         "dtype": "object",
         "stats": {
          "unique_count": 4,
          "nan_count": 0,
          "categories": [
           {
            "name": "13.4",
            "count": 2
           },
           {
            "name": "9.2",
            "count": 1
           },
           {
            "name": "2 others",
            "count": 2
           }
          ]
         }
        },
        {
         "name": "_deepnote_index_column",
         "dtype": "int64"
        }
       ],
       "rows_top": [
        {
         "station": 1,
         "date": "2007-05-01",
         "tmax": 83,
         "tmin": 50,
         "tavg": "67",
         "depart": "14",
         "dewpoint": 51,
         "wetbulb": "56",
         "heat": "0",
         "cool": " 2",
         "sunrise": "0448",
         "sunset": "1849",
         "codesum": " ",
         "depth": "0",
         "water1": "M",
         "snowfall": "0.0",
         "preciptotal": "0.00",
         "stnpressure": "29.10",
         "sealevel": "29.82",
         "resultspeed": 1.7,
         "resultdir": 27,
         "avgspeed": "9.2",
         "_deepnote_index_column": 0
        },
        {
         "station": 2,
         "date": "2007-05-01",
         "tmax": 84,
         "tmin": 52,
         "tavg": "68",
         "depart": "M",
         "dewpoint": 51,
         "wetbulb": "57",
         "heat": "0",
         "cool": " 3",
         "sunrise": "-",
         "sunset": "-",
         "codesum": " ",
         "depth": "M",
         "water1": "M",
         "snowfall": "M",
         "preciptotal": "0.00",
         "stnpressure": "29.18",
         "sealevel": "29.82",
         "resultspeed": 2.7,
         "resultdir": 25,
         "avgspeed": "9.6",
         "_deepnote_index_column": 1
        },
        {
         "station": 1,
         "date": "2007-05-02",
         "tmax": 59,
         "tmin": 42,
         "tavg": "51",
         "depart": "-3",
         "dewpoint": 42,
         "wetbulb": "47",
         "heat": "14",
         "cool": " 0",
         "sunrise": "0447",
         "sunset": "1850",
         "codesum": "BR",
         "depth": "0",
         "water1": "M",
         "snowfall": "0.0",
         "preciptotal": "0.00",
         "stnpressure": "29.38",
         "sealevel": "30.09",
         "resultspeed": 13,
         "resultdir": 4,
         "avgspeed": "13.4",
         "_deepnote_index_column": 2
        },
        {
         "station": 2,
         "date": "2007-05-02",
         "tmax": 60,
         "tmin": 43,
         "tavg": "52",
         "depart": "M",
         "dewpoint": 42,
         "wetbulb": "47",
         "heat": "13",
         "cool": " 0",
         "sunrise": "-",
         "sunset": "-",
         "codesum": "BR HZ",
         "depth": "M",
         "water1": "M",
         "snowfall": "M",
         "preciptotal": "0.00",
         "stnpressure": "29.44",
         "sealevel": "30.08",
         "resultspeed": 13.3,
         "resultdir": 2,
         "avgspeed": "13.4",
         "_deepnote_index_column": 3
        },
        {
         "station": 1,
         "date": "2007-05-03",
         "tmax": 66,
         "tmin": 46,
         "tavg": "56",
         "depart": " 2",
         "dewpoint": 40,
         "wetbulb": "48",
         "heat": "9",
         "cool": " 0",
         "sunrise": "0446",
         "sunset": "1851",
         "codesum": " ",
         "depth": "0",
         "water1": "M",
         "snowfall": "0.0",
         "preciptotal": "0.00",
         "stnpressure": "29.39",
         "sealevel": "30.12",
         "resultspeed": 11.7,
         "resultdir": 7,
         "avgspeed": "11.9",
         "_deepnote_index_column": 4
        }
       ],
       "rows_bottom": null
      },
      "text/plain": "   station        date  tmax  tmin tavg depart  dewpoint wetbulb heat cool  \\\n0        1  2007-05-01    83    50   67     14        51      56    0    2   \n1        2  2007-05-01    84    52   68      M        51      57    0    3   \n2        1  2007-05-02    59    42   51     -3        42      47   14    0   \n3        2  2007-05-02    60    43   52      M        42      47   13    0   \n4        1  2007-05-03    66    46   56      2        40      48    9    0   \n\n   ... codesum depth water1 snowfall preciptotal stnpressure sealevel  \\\n0  ...             0      M      0.0        0.00       29.10    29.82   \n1  ...             M      M        M        0.00       29.18    29.82   \n2  ...      BR     0      M      0.0        0.00       29.38    30.09   \n3  ...   BR HZ     M      M        M        0.00       29.44    30.08   \n4  ...             0      M      0.0        0.00       29.39    30.12   \n\n  resultspeed resultdir  avgspeed  \n0         1.7        27       9.2  \n1         2.7        25       9.6  \n2        13.0         4      13.4  \n3        13.3         2      13.4  \n4        11.7         7      11.9  \n\n[5 rows x 22 columns]",
      "text/html": "<div>\n<style scoped>\n    .dataframe tbody tr th:only-of-type {\n        vertical-align: middle;\n    }\n\n    .dataframe tbody tr th {\n        vertical-align: top;\n    }\n\n    .dataframe thead th {\n        text-align: right;\n    }\n</style>\n<table border=\"1\" class=\"dataframe\">\n  <thead>\n    <tr style=\"text-align: right;\">\n      <th></th>\n      <th>station</th>\n      <th>date</th>\n      <th>tmax</th>\n      <th>tmin</th>\n      <th>tavg</th>\n      <th>depart</th>\n      <th>dewpoint</th>\n      <th>wetbulb</th>\n      <th>heat</th>\n      <th>cool</th>\n      <th>...</th>\n      <th>codesum</th>\n      <th>depth</th>\n      <th>water1</th>\n      <th>snowfall</th>\n      <th>preciptotal</th>\n      <th>stnpressure</th>\n      <th>sealevel</th>\n      <th>resultspeed</th>\n      <th>resultdir</th>\n      <th>avgspeed</th>\n    </tr>\n  </thead>\n  <tbody>\n    <tr>\n      <th>0</th>\n      <td>1</td>\n      <td>2007-05-01</td>\n      <td>83</td>\n      <td>50</td>\n      <td>67</td>\n      <td>14</td>\n      <td>51</td>\n      <td>56</td>\n      <td>0</td>\n      <td>2</td>\n      <td>...</td>\n      <td></td>\n      <td>0</td>\n      <td>M</td>\n      <td>0.0</td>\n      <td>0.00</td>\n      <td>29.10</td>\n      <td>29.82</td>\n      <td>1.7</td>\n      <td>27</td>\n      <td>9.2</td>\n    </tr>\n    <tr>\n      <th>1</th>\n      <td>2</td>\n      <td>2007-05-01</td>\n      <td>84</td>\n      <td>52</td>\n      <td>68</td>\n      <td>M</td>\n      <td>51</td>\n      <td>57</td>\n      <td>0</td>\n      <td>3</td>\n      <td>...</td>\n      <td></td>\n      <td>M</td>\n      <td>M</td>\n      <td>M</td>\n      <td>0.00</td>\n      <td>29.18</td>\n      <td>29.82</td>\n      <td>2.7</td>\n      <td>25</td>\n      <td>9.6</td>\n    </tr>\n    <tr>\n      <th>2</th>\n      <td>1</td>\n      <td>2007-05-02</td>\n      <td>59</td>\n      <td>42</td>\n      <td>51</td>\n      <td>-3</td>\n      <td>42</td>\n      <td>47</td>\n      <td>14</td>\n      <td>0</td>\n      <td>...</td>\n      <td>BR</td>\n      <td>0</td>\n      <td>M</td>\n      <td>0.0</td>\n      <td>0.00</td>\n      <td>29.38</td>\n      <td>30.09</td>\n      <td>13.0</td>\n      <td>4</td>\n      <td>13.4</td>\n    </tr>\n    <tr>\n      <th>3</th>\n      <td>2</td>\n      <td>2007-05-02</td>\n      <td>60</td>\n      <td>43</td>\n      <td>52</td>\n      <td>M</td>\n      <td>42</td>\n      <td>47</td>\n      <td>13</td>\n      <td>0</td>\n      <td>...</td>\n      <td>BR HZ</td>\n      <td>M</td>\n      <td>M</td>\n      <td>M</td>\n      <td>0.00</td>\n      <td>29.44</td>\n      <td>30.08</td>\n      <td>13.3</td>\n      <td>2</td>\n      <td>13.4</td>\n    </tr>\n    <tr>\n      <th>4</th>\n      <td>1</td>\n      <td>2007-05-03</td>\n      <td>66</td>\n      <td>46</td>\n      <td>56</td>\n      <td>2</td>\n      <td>40</td>\n      <td>48</td>\n      <td>9</td>\n      <td>0</td>\n      <td>...</td>\n      <td></td>\n      <td>0</td>\n      <td>M</td>\n      <td>0.0</td>\n      <td>0.00</td>\n      <td>29.39</td>\n      <td>30.12</td>\n      <td>11.7</td>\n      <td>7</td>\n      <td>11.9</td>\n    </tr>\n  </tbody>\n</table>\n<p>5 rows × 22 columns</p>\n</div>"
     },
     "metadata": {}
    }
   ]
  },
  {
   "cell_type": "code",
   "metadata": {
    "deepnote_to_be_reexecuted": false,
    "execution_millis": 0,
    "execution_start": 1637218219894,
    "source_hash": "f0be5f34",
    "tags": [],
    "cell_id": "00019-ddbb1bdb-668d-4c40-9ad4-3b65868243f7",
    "deepnote_output_heights": [
     21.1875
    ],
    "deepnote_cell_type": "code"
   },
   "source": "#see the number of rows and columns for weather dataframe\nweather_df.shape",
   "execution_count": null,
   "outputs": [
    {
     "output_type": "execute_result",
     "execution_count": 16,
     "data": {
      "text/plain": "(2944, 22)"
     },
     "metadata": {}
    }
   ]
  },
  {
   "cell_type": "code",
   "metadata": {
    "deepnote_to_be_reexecuted": false,
    "execution_millis": 98,
    "execution_start": 1637218219915,
    "source_hash": "d1598ec6",
    "tags": [],
    "cell_id": "00020-15926ad4-264d-4e5e-aa30-95a83cd088c3",
    "deepnote_cell_type": "code"
   },
   "source": "# check for missing data\n\ntotal_missing_stn1 = 0\ntotal_missing_stn2 = 0\n\nfor col in weather_df[weather_df.columns]:\n    \n    station_1 = len(weather_df[(weather_df[col].isin(['M','-'])) & (weather_df.station==1)])\n    total_missing_stn1 = total_missing_stn1 + station_1\n    print(col + ' has ' + str(station_1) + ' missing values at station 1')\n    \n    station_2 = len(weather_df[(weather_df[col].isin(['M','-'])) & (weather_df.station==2)])\n    total_missing_stn2 = total_missing_stn2 + station_2\n    print(col + ' has ' + str(station_2) + ' missing values at station 2')\n    print()\n\nprint(\"Station 1 has a total of \", total_missing_stn1, \" missing data values\")\nprint(\"Station 2 has a total of \", total_missing_stn2, \" missing data values\")",
   "execution_count": null,
   "outputs": [
    {
     "name": "stdout",
     "text": "station has 0 missing values at station 1\nstation has 0 missing values at station 2\n\ndate has 0 missing values at station 1\ndate has 0 missing values at station 2\n\ntmax has 0 missing values at station 1\ntmax has 0 missing values at station 2\n\ntmin has 0 missing values at station 1\ntmin has 0 missing values at station 2\n\ntavg has 0 missing values at station 1\ntavg has 11 missing values at station 2\n\ndepart has 0 missing values at station 1\ndepart has 1472 missing values at station 2\n\ndewpoint has 0 missing values at station 1\ndewpoint has 0 missing values at station 2\n\nwetbulb has 3 missing values at station 1\nwetbulb has 1 missing values at station 2\n\nheat has 0 missing values at station 1\nheat has 11 missing values at station 2\n\ncool has 0 missing values at station 1\ncool has 11 missing values at station 2\n\nsunrise has 0 missing values at station 1\nsunrise has 1472 missing values at station 2\n\nsunset has 0 missing values at station 1\nsunset has 1472 missing values at station 2\n\ncodesum has 0 missing values at station 1\ncodesum has 0 missing values at station 2\n\ndepth has 0 missing values at station 1\ndepth has 1472 missing values at station 2\n\nwater1 has 1472 missing values at station 1\nwater1 has 1472 missing values at station 2\n\nsnowfall has 0 missing values at station 1\nsnowfall has 1472 missing values at station 2\n\npreciptotal has 0 missing values at station 1\npreciptotal has 2 missing values at station 2\n\nstnpressure has 2 missing values at station 1\nstnpressure has 2 missing values at station 2\n\nsealevel has 5 missing values at station 1\nsealevel has 4 missing values at station 2\n\nresultspeed has 0 missing values at station 1\nresultspeed has 0 missing values at station 2\n\nresultdir has 0 missing values at station 1\nresultdir has 0 missing values at station 2\n\navgspeed has 0 missing values at station 1\navgspeed has 3 missing values at station 2\n\nStation 1 has a total of  1482  missing data values\nStation 2 has a total of  8877  missing data values\n",
     "output_type": "stream"
    }
   ]
  },
  {
   "cell_type": "markdown",
   "source": "Station 1 has a total of 1474 missing data values and station 2 has a total of  4424  missing data value. Therefore, we will only be making use of data from station 1 for analysis since both weather stations collect the same measurement features over the same duration for the city of Chicago.",
   "metadata": {
    "cell_id": "00021-a58850e2-cc08-4531-9ccb-b284ef4ff371",
    "deepnote_cell_type": "markdown"
   }
  },
  {
   "cell_type": "code",
   "metadata": {
    "deepnote_to_be_reexecuted": false,
    "execution_millis": 1597,
    "execution_start": 1637218220021,
    "scrolled": true,
    "source_hash": "b4842174",
    "tags": [],
    "cell_id": "00022-bc89e7c4-b4d5-44e5-b4dd-bfb9f462eb71",
    "deepnote_cell_type": "code"
   },
   "source": "# redefining weather_df for only station 1\nweather_df = weather_df[weather_df[\"station\"]==1]\nweather_df.head()",
   "execution_count": null,
   "outputs": [
    {
     "output_type": "execute_result",
     "execution_count": 18,
     "data": {
      "application/vnd.deepnote.dataframe.v2+json": {
       "row_count": 5,
       "column_count": 22,
       "columns": [
        {
         "name": "station",
         "dtype": "int64",
         "stats": {
          "unique_count": 1,
          "nan_count": 0,
          "min": "1",
          "max": "1",
          "histogram": [
           {
            "bin_start": 0.5,
            "bin_end": 0.6,
            "count": 0
           },
           {
            "bin_start": 0.6,
            "bin_end": 0.7,
            "count": 0
           },
           {
            "bin_start": 0.7,
            "bin_end": 0.8,
            "count": 0
           },
           {
            "bin_start": 0.8,
            "bin_end": 0.9,
            "count": 0
           },
           {
            "bin_start": 0.9,
            "bin_end": 1,
            "count": 0
           },
           {
            "bin_start": 1,
            "bin_end": 1.1,
            "count": 5
           },
           {
            "bin_start": 1.1,
            "bin_end": 1.2000000000000002,
            "count": 0
           },
           {
            "bin_start": 1.2000000000000002,
            "bin_end": 1.3,
            "count": 0
           },
           {
            "bin_start": 1.3,
            "bin_end": 1.4,
            "count": 0
           },
           {
            "bin_start": 1.4,
            "bin_end": 1.5,
            "count": 0
           }
          ]
         }
        },
        {
         "name": "date",
         "dtype": "object",
         "stats": {
          "unique_count": 5,
          "nan_count": 0,
          "categories": [
           {
            "name": "2007-05-01",
            "count": 1
           },
           {
            "name": "2007-05-02",
            "count": 1
           },
           {
            "name": "3 others",
            "count": 3
           }
          ]
         }
        },
        {
         "name": "tmax",
         "dtype": "int64",
         "stats": {
          "unique_count": 3,
          "nan_count": 0,
          "min": "59",
          "max": "83",
          "histogram": [
           {
            "bin_start": 59,
            "bin_end": 61.4,
            "count": 1
           },
           {
            "bin_start": 61.4,
            "bin_end": 63.8,
            "count": 0
           },
           {
            "bin_start": 63.8,
            "bin_end": 66.2,
            "count": 3
           },
           {
            "bin_start": 66.2,
            "bin_end": 68.6,
            "count": 0
           },
           {
            "bin_start": 68.6,
            "bin_end": 71,
            "count": 0
           },
           {
            "bin_start": 71,
            "bin_end": 73.4,
            "count": 0
           },
           {
            "bin_start": 73.4,
            "bin_end": 75.8,
            "count": 0
           },
           {
            "bin_start": 75.8,
            "bin_end": 78.2,
            "count": 0
           },
           {
            "bin_start": 78.2,
            "bin_end": 80.6,
            "count": 0
           },
           {
            "bin_start": 80.6,
            "bin_end": 83,
            "count": 1
           }
          ]
         }
        },
        {
         "name": "tmin",
         "dtype": "int64",
         "stats": {
          "unique_count": 5,
          "nan_count": 0,
          "min": "42",
          "max": "53",
          "histogram": [
           {
            "bin_start": 42,
            "bin_end": 43.1,
            "count": 1
           },
           {
            "bin_start": 43.1,
            "bin_end": 44.2,
            "count": 0
           },
           {
            "bin_start": 44.2,
            "bin_end": 45.3,
            "count": 0
           },
           {
            "bin_start": 45.3,
            "bin_end": 46.4,
            "count": 1
           },
           {
            "bin_start": 46.4,
            "bin_end": 47.5,
            "count": 0
           },
           {
            "bin_start": 47.5,
            "bin_end": 48.6,
            "count": 0
           },
           {
            "bin_start": 48.6,
            "bin_end": 49.7,
            "count": 1
           },
           {
            "bin_start": 49.7,
            "bin_end": 50.8,
            "count": 1
           },
           {
            "bin_start": 50.8,
            "bin_end": 51.9,
            "count": 0
           },
           {
            "bin_start": 51.9,
            "bin_end": 53,
            "count": 1
           }
          ]
         }
        },
        {
         "name": "tavg",
         "dtype": "object",
         "stats": {
          "unique_count": 5,
          "nan_count": 0,
          "categories": [
           {
            "name": "67",
            "count": 1
           },
           {
            "name": "51",
            "count": 1
           },
           {
            "name": "3 others",
            "count": 3
           }
          ]
         }
        },
        {
         "name": "depart",
         "dtype": "object",
         "stats": {
          "unique_count": 5,
          "nan_count": 0,
          "categories": [
           {
            "name": "14",
            "count": 1
           },
           {
            "name": "-3",
            "count": 1
           },
           {
            "name": "3 others",
            "count": 3
           }
          ]
         }
        },
        {
         "name": "dewpoint",
         "dtype": "int64",
         "stats": {
          "unique_count": 5,
          "nan_count": 0,
          "min": "38",
          "max": "51",
          "histogram": [
           {
            "bin_start": 38,
            "bin_end": 39.3,
            "count": 1
           },
           {
            "bin_start": 39.3,
            "bin_end": 40.6,
            "count": 1
           },
           {
            "bin_start": 40.6,
            "bin_end": 41.9,
            "count": 1
           },
           {
            "bin_start": 41.9,
            "bin_end": 43.2,
            "count": 1
           },
           {
            "bin_start": 43.2,
            "bin_end": 44.5,
            "count": 0
           },
           {
            "bin_start": 44.5,
            "bin_end": 45.8,
            "count": 0
           },
           {
            "bin_start": 45.8,
            "bin_end": 47.1,
            "count": 0
           },
           {
            "bin_start": 47.1,
            "bin_end": 48.4,
            "count": 0
           },
           {
            "bin_start": 48.4,
            "bin_end": 49.7,
            "count": 0
           },
           {
            "bin_start": 49.7,
            "bin_end": 51,
            "count": 1
           }
          ]
         }
        },
        {
         "name": "wetbulb",
         "dtype": "object",
         "stats": {
          "unique_count": 5,
          "nan_count": 0,
          "categories": [
           {
            "name": "56",
            "count": 1
           },
           {
            "name": "47",
            "count": 1
           },
           {
            "name": "3 others",
            "count": 3
           }
          ]
         }
        },
        {
         "name": "heat",
         "dtype": "object",
         "stats": {
          "unique_count": 5,
          "nan_count": 0,
          "categories": [
           {
            "name": "0",
            "count": 1
           },
           {
            "name": "14",
            "count": 1
           },
           {
            "name": "3 others",
            "count": 3
           }
          ]
         }
        },
        {
         "name": "cool",
         "dtype": "object",
         "stats": {
          "unique_count": 2,
          "nan_count": 0,
          "categories": [
           {
            "name": " 0",
            "count": 4
           },
           {
            "name": " 2",
            "count": 1
           }
          ]
         }
        },
        {
         "name": "sunrise",
         "dtype": "object",
         "stats": {
          "unique_count": 5,
          "nan_count": 0,
          "categories": [
           {
            "name": "0448",
            "count": 1
           },
           {
            "name": "0447",
            "count": 1
           },
           {
            "name": "3 others",
            "count": 3
           }
          ]
         }
        },
        {
         "name": "sunset",
         "dtype": "object",
         "stats": {
          "unique_count": 5,
          "nan_count": 0,
          "categories": [
           {
            "name": "1849",
            "count": 1
           },
           {
            "name": "1850",
            "count": 1
           },
           {
            "name": "3 others",
            "count": 3
           }
          ]
         }
        },
        {
         "name": "codesum",
         "dtype": "object",
         "stats": {
          "unique_count": 3,
          "nan_count": 0,
          "categories": [
           {
            "name": " ",
            "count": 3
           },
           {
            "name": "BR",
            "count": 1
           },
           {
            "name": "RA",
            "count": 1
           }
          ]
         }
        },
        {
         "name": "depth",
         "dtype": "object",
         "stats": {
          "unique_count": 1,
          "nan_count": 0,
          "categories": [
           {
            "name": "0",
            "count": 5
           }
          ]
         }
        },
        {
         "name": "water1",
         "dtype": "object",
         "stats": {
          "unique_count": 1,
          "nan_count": 0,
          "categories": [
           {
            "name": "M",
            "count": 5
           }
          ]
         }
        },
        {
         "name": "snowfall",
         "dtype": "object",
         "stats": {
          "unique_count": 1,
          "nan_count": 0,
          "categories": [
           {
            "name": "0.0",
            "count": 5
           }
          ]
         }
        },
        {
         "name": "preciptotal",
         "dtype": "object",
         "stats": {
          "unique_count": 2,
          "nan_count": 0,
          "categories": [
           {
            "name": "0.00",
            "count": 3
           },
           {
            "name": "  T",
            "count": 2
           }
          ]
         }
        },
        {
         "name": "stnpressure",
         "dtype": "object",
         "stats": {
          "unique_count": 5,
          "nan_count": 0,
          "categories": [
           {
            "name": "29.10",
            "count": 1
           },
           {
            "name": "29.38",
            "count": 1
           },
           {
            "name": "3 others",
            "count": 3
           }
          ]
         }
        },
        {
         "name": "sealevel",
         "dtype": "object",
         "stats": {
          "unique_count": 5,
          "nan_count": 0,
          "categories": [
           {
            "name": "29.82",
            "count": 1
           },
           {
            "name": "30.09",
            "count": 1
           },
           {
            "name": "3 others",
            "count": 3
           }
          ]
         }
        },
        {
         "name": "resultspeed",
         "dtype": "float64",
         "stats": {
          "unique_count": 4,
          "nan_count": 0,
          "min": "1.7",
          "max": "13.0",
          "histogram": [
           {
            "bin_start": 1.7,
            "bin_end": 2.83,
            "count": 1
           },
           {
            "bin_start": 2.83,
            "bin_end": 3.96,
            "count": 0
           },
           {
            "bin_start": 3.96,
            "bin_end": 5.090000000000001,
            "count": 0
           },
           {
            "bin_start": 5.090000000000001,
            "bin_end": 6.220000000000001,
            "count": 0
           },
           {
            "bin_start": 6.220000000000001,
            "bin_end": 7.3500000000000005,
            "count": 0
           },
           {
            "bin_start": 7.3500000000000005,
            "bin_end": 8.48,
            "count": 0
           },
           {
            "bin_start": 8.48,
            "bin_end": 9.610000000000001,
            "count": 0
           },
           {
            "bin_start": 9.610000000000001,
            "bin_end": 10.74,
            "count": 1
           },
           {
            "bin_start": 10.74,
            "bin_end": 11.870000000000001,
            "count": 2
           },
           {
            "bin_start": 11.870000000000001,
            "bin_end": 13,
            "count": 1
           }
          ]
         }
        },
        {
         "name": "resultdir",
         "dtype": "int64",
         "stats": {
          "unique_count": 4,
          "nan_count": 0,
          "min": "4",
          "max": "27",
          "histogram": [
           {
            "bin_start": 4,
            "bin_end": 6.3,
            "count": 1
           },
           {
            "bin_start": 6.3,
            "bin_end": 8.6,
            "count": 3
           },
           {
            "bin_start": 8.6,
            "bin_end": 10.899999999999999,
            "count": 0
           },
           {
            "bin_start": 10.899999999999999,
            "bin_end": 13.2,
            "count": 0
           },
           {
            "bin_start": 13.2,
            "bin_end": 15.5,
            "count": 0
           },
           {
            "bin_start": 15.5,
            "bin_end": 17.799999999999997,
            "count": 0
           },
           {
            "bin_start": 17.799999999999997,
            "bin_end": 20.099999999999998,
            "count": 0
           },
           {
            "bin_start": 20.099999999999998,
            "bin_end": 22.4,
            "count": 0
           },
           {
            "bin_start": 22.4,
            "bin_end": 24.7,
            "count": 0
           },
           {
            "bin_start": 24.7,
            "bin_end": 27,
            "count": 1
           }
          ]
         }
        },
        {
         "name": "avgspeed",
         "dtype": "object",
         "stats": {
          "unique_count": 5,
          "nan_count": 0,
          "categories": [
           {
            "name": "9.2",
            "count": 1
           },
           {
            "name": "13.4",
            "count": 1
           },
           {
            "name": "3 others",
            "count": 3
           }
          ]
         }
        },
        {
         "name": "_deepnote_index_column",
         "dtype": "int64"
        }
       ],
       "rows_top": [
        {
         "station": 1,
         "date": "2007-05-01",
         "tmax": 83,
         "tmin": 50,
         "tavg": "67",
         "depart": "14",
         "dewpoint": 51,
         "wetbulb": "56",
         "heat": "0",
         "cool": " 2",
         "sunrise": "0448",
         "sunset": "1849",
         "codesum": " ",
         "depth": "0",
         "water1": "M",
         "snowfall": "0.0",
         "preciptotal": "0.00",
         "stnpressure": "29.10",
         "sealevel": "29.82",
         "resultspeed": 1.7,
         "resultdir": 27,
         "avgspeed": "9.2",
         "_deepnote_index_column": 0
        },
        {
         "station": 1,
         "date": "2007-05-02",
         "tmax": 59,
         "tmin": 42,
         "tavg": "51",
         "depart": "-3",
         "dewpoint": 42,
         "wetbulb": "47",
         "heat": "14",
         "cool": " 0",
         "sunrise": "0447",
         "sunset": "1850",
         "codesum": "BR",
         "depth": "0",
         "water1": "M",
         "snowfall": "0.0",
         "preciptotal": "0.00",
         "stnpressure": "29.38",
         "sealevel": "30.09",
         "resultspeed": 13,
         "resultdir": 4,
         "avgspeed": "13.4",
         "_deepnote_index_column": 2
        },
        {
         "station": 1,
         "date": "2007-05-03",
         "tmax": 66,
         "tmin": 46,
         "tavg": "56",
         "depart": " 2",
         "dewpoint": 40,
         "wetbulb": "48",
         "heat": "9",
         "cool": " 0",
         "sunrise": "0446",
         "sunset": "1851",
         "codesum": " ",
         "depth": "0",
         "water1": "M",
         "snowfall": "0.0",
         "preciptotal": "0.00",
         "stnpressure": "29.39",
         "sealevel": "30.12",
         "resultspeed": 11.7,
         "resultdir": 7,
         "avgspeed": "11.9",
         "_deepnote_index_column": 4
        },
        {
         "station": 1,
         "date": "2007-05-04",
         "tmax": 66,
         "tmin": 49,
         "tavg": "58",
         "depart": " 4",
         "dewpoint": 41,
         "wetbulb": "50",
         "heat": "7",
         "cool": " 0",
         "sunrise": "0444",
         "sunset": "1852",
         "codesum": "RA",
         "depth": "0",
         "water1": "M",
         "snowfall": "0.0",
         "preciptotal": "  T",
         "stnpressure": "29.31",
         "sealevel": "30.05",
         "resultspeed": 10.4,
         "resultdir": 8,
         "avgspeed": "10.8",
         "_deepnote_index_column": 6
        },
        {
         "station": 1,
         "date": "2007-05-05",
         "tmax": 66,
         "tmin": 53,
         "tavg": "60",
         "depart": " 5",
         "dewpoint": 38,
         "wetbulb": "49",
         "heat": "5",
         "cool": " 0",
         "sunrise": "0443",
         "sunset": "1853",
         "codesum": " ",
         "depth": "0",
         "water1": "M",
         "snowfall": "0.0",
         "preciptotal": "  T",
         "stnpressure": "29.40",
         "sealevel": "30.10",
         "resultspeed": 11.7,
         "resultdir": 7,
         "avgspeed": "12.0",
         "_deepnote_index_column": 8
        }
       ],
       "rows_bottom": null
      },
      "text/plain": "   station        date  tmax  tmin tavg depart  dewpoint wetbulb heat cool  \\\n0        1  2007-05-01    83    50   67     14        51      56    0    2   \n2        1  2007-05-02    59    42   51     -3        42      47   14    0   \n4        1  2007-05-03    66    46   56      2        40      48    9    0   \n6        1  2007-05-04    66    49   58      4        41      50    7    0   \n8        1  2007-05-05    66    53   60      5        38      49    5    0   \n\n   ... codesum depth water1 snowfall preciptotal stnpressure sealevel  \\\n0  ...             0      M      0.0        0.00       29.10    29.82   \n2  ...      BR     0      M      0.0        0.00       29.38    30.09   \n4  ...             0      M      0.0        0.00       29.39    30.12   \n6  ...      RA     0      M      0.0           T       29.31    30.05   \n8  ...             0      M      0.0           T       29.40    30.10   \n\n  resultspeed resultdir  avgspeed  \n0         1.7        27       9.2  \n2        13.0         4      13.4  \n4        11.7         7      11.9  \n6        10.4         8      10.8  \n8        11.7         7      12.0  \n\n[5 rows x 22 columns]",
      "text/html": "<div>\n<style scoped>\n    .dataframe tbody tr th:only-of-type {\n        vertical-align: middle;\n    }\n\n    .dataframe tbody tr th {\n        vertical-align: top;\n    }\n\n    .dataframe thead th {\n        text-align: right;\n    }\n</style>\n<table border=\"1\" class=\"dataframe\">\n  <thead>\n    <tr style=\"text-align: right;\">\n      <th></th>\n      <th>station</th>\n      <th>date</th>\n      <th>tmax</th>\n      <th>tmin</th>\n      <th>tavg</th>\n      <th>depart</th>\n      <th>dewpoint</th>\n      <th>wetbulb</th>\n      <th>heat</th>\n      <th>cool</th>\n      <th>...</th>\n      <th>codesum</th>\n      <th>depth</th>\n      <th>water1</th>\n      <th>snowfall</th>\n      <th>preciptotal</th>\n      <th>stnpressure</th>\n      <th>sealevel</th>\n      <th>resultspeed</th>\n      <th>resultdir</th>\n      <th>avgspeed</th>\n    </tr>\n  </thead>\n  <tbody>\n    <tr>\n      <th>0</th>\n      <td>1</td>\n      <td>2007-05-01</td>\n      <td>83</td>\n      <td>50</td>\n      <td>67</td>\n      <td>14</td>\n      <td>51</td>\n      <td>56</td>\n      <td>0</td>\n      <td>2</td>\n      <td>...</td>\n      <td></td>\n      <td>0</td>\n      <td>M</td>\n      <td>0.0</td>\n      <td>0.00</td>\n      <td>29.10</td>\n      <td>29.82</td>\n      <td>1.7</td>\n      <td>27</td>\n      <td>9.2</td>\n    </tr>\n    <tr>\n      <th>2</th>\n      <td>1</td>\n      <td>2007-05-02</td>\n      <td>59</td>\n      <td>42</td>\n      <td>51</td>\n      <td>-3</td>\n      <td>42</td>\n      <td>47</td>\n      <td>14</td>\n      <td>0</td>\n      <td>...</td>\n      <td>BR</td>\n      <td>0</td>\n      <td>M</td>\n      <td>0.0</td>\n      <td>0.00</td>\n      <td>29.38</td>\n      <td>30.09</td>\n      <td>13.0</td>\n      <td>4</td>\n      <td>13.4</td>\n    </tr>\n    <tr>\n      <th>4</th>\n      <td>1</td>\n      <td>2007-05-03</td>\n      <td>66</td>\n      <td>46</td>\n      <td>56</td>\n      <td>2</td>\n      <td>40</td>\n      <td>48</td>\n      <td>9</td>\n      <td>0</td>\n      <td>...</td>\n      <td></td>\n      <td>0</td>\n      <td>M</td>\n      <td>0.0</td>\n      <td>0.00</td>\n      <td>29.39</td>\n      <td>30.12</td>\n      <td>11.7</td>\n      <td>7</td>\n      <td>11.9</td>\n    </tr>\n    <tr>\n      <th>6</th>\n      <td>1</td>\n      <td>2007-05-04</td>\n      <td>66</td>\n      <td>49</td>\n      <td>58</td>\n      <td>4</td>\n      <td>41</td>\n      <td>50</td>\n      <td>7</td>\n      <td>0</td>\n      <td>...</td>\n      <td>RA</td>\n      <td>0</td>\n      <td>M</td>\n      <td>0.0</td>\n      <td>T</td>\n      <td>29.31</td>\n      <td>30.05</td>\n      <td>10.4</td>\n      <td>8</td>\n      <td>10.8</td>\n    </tr>\n    <tr>\n      <th>8</th>\n      <td>1</td>\n      <td>2007-05-05</td>\n      <td>66</td>\n      <td>53</td>\n      <td>60</td>\n      <td>5</td>\n      <td>38</td>\n      <td>49</td>\n      <td>5</td>\n      <td>0</td>\n      <td>...</td>\n      <td></td>\n      <td>0</td>\n      <td>M</td>\n      <td>0.0</td>\n      <td>T</td>\n      <td>29.40</td>\n      <td>30.10</td>\n      <td>11.7</td>\n      <td>7</td>\n      <td>12.0</td>\n    </tr>\n  </tbody>\n</table>\n<p>5 rows × 22 columns</p>\n</div>"
     },
     "metadata": {}
    }
   ]
  },
  {
   "cell_type": "code",
   "metadata": {
    "cell_id": "00023-2e0bf29f-9a8e-4a9e-934d-0861c02f8f6c",
    "deepnote_to_be_reexecuted": false,
    "source_hash": "151ac887",
    "execution_start": 1637218220113,
    "execution_millis": 1506,
    "deepnote_output_heights": [
     21.1875
    ],
    "deepnote_cell_type": "code"
   },
   "source": "#see the number of rows and columns of the updated weather dataframe\nweather_df.shape",
   "execution_count": null,
   "outputs": [
    {
     "output_type": "execute_result",
     "execution_count": 19,
     "data": {
      "text/plain": "(1472, 22)"
     },
     "metadata": {}
    }
   ]
  },
  {
   "cell_type": "code",
   "metadata": {
    "deepnote_to_be_reexecuted": false,
    "execution_millis": 1492,
    "execution_start": 1637218220127,
    "source_hash": "eced797f",
    "tags": [],
    "cell_id": "00024-d6110b84-7fb3-4334-ae51-7ffcd48c74da",
    "deepnote_output_heights": [
     97.9375
    ],
    "deepnote_cell_type": "code"
   },
   "source": "# determine number of 'M' values (missing data) in each column\nweather_df.isin(['M']).sum()[weather_df.isin(['M']).sum() > 0].sort_values(ascending=False)",
   "execution_count": null,
   "outputs": [
    {
     "output_type": "execute_result",
     "execution_count": 20,
     "data": {
      "text/plain": "water1         1472\nsealevel          5\nwetbulb           3\nstnpressure       2\ndtype: int64"
     },
     "metadata": {}
    }
   ]
  },
  {
   "cell_type": "code",
   "metadata": {
    "deepnote_to_be_reexecuted": false,
    "execution_millis": 1,
    "execution_start": 1637218220149,
    "source_hash": "7817912f",
    "tags": [],
    "cell_id": "00025-1e0241e4-9222-410a-9032-00784d67888b",
    "deepnote_cell_type": "code"
   },
   "source": "# drop columns that are not needed\nweather_df.drop(['tmax', 'tmin', 'depart', 'heat', 'cool', 'sunrise', 'sunset'], axis=1, inplace=True)",
   "execution_count": null,
   "outputs": []
  },
  {
   "cell_type": "code",
   "metadata": {
    "deepnote_to_be_reexecuted": false,
    "execution_millis": 1401,
    "execution_start": 1637218220218,
    "source_hash": "dfb3af95",
    "tags": [],
    "cell_id": "00026-c4692f12-3c4a-446d-99ed-23f79c904f8d",
    "deepnote_cell_type": "code"
   },
   "source": "#see sample output of the new weather dataframe\nweather_df.head()",
   "execution_count": null,
   "outputs": [
    {
     "output_type": "execute_result",
     "execution_count": 22,
     "data": {
      "application/vnd.deepnote.dataframe.v2+json": {
       "row_count": 5,
       "column_count": 15,
       "columns": [
        {
         "name": "station",
         "dtype": "int64",
         "stats": {
          "unique_count": 1,
          "nan_count": 0,
          "min": "1",
          "max": "1",
          "histogram": [
           {
            "bin_start": 0.5,
            "bin_end": 0.6,
            "count": 0
           },
           {
            "bin_start": 0.6,
            "bin_end": 0.7,
            "count": 0
           },
           {
            "bin_start": 0.7,
            "bin_end": 0.8,
            "count": 0
           },
           {
            "bin_start": 0.8,
            "bin_end": 0.9,
            "count": 0
           },
           {
            "bin_start": 0.9,
            "bin_end": 1,
            "count": 0
           },
           {
            "bin_start": 1,
            "bin_end": 1.1,
            "count": 5
           },
           {
            "bin_start": 1.1,
            "bin_end": 1.2000000000000002,
            "count": 0
           },
           {
            "bin_start": 1.2000000000000002,
            "bin_end": 1.3,
            "count": 0
           },
           {
            "bin_start": 1.3,
            "bin_end": 1.4,
            "count": 0
           },
           {
            "bin_start": 1.4,
            "bin_end": 1.5,
            "count": 0
           }
          ]
         }
        },
        {
         "name": "date",
         "dtype": "object",
         "stats": {
          "unique_count": 5,
          "nan_count": 0,
          "categories": [
           {
            "name": "2007-05-01",
            "count": 1
           },
           {
            "name": "2007-05-02",
            "count": 1
           },
           {
            "name": "3 others",
            "count": 3
           }
          ]
         }
        },
        {
         "name": "tavg",
         "dtype": "object",
         "stats": {
          "unique_count": 5,
          "nan_count": 0,
          "categories": [
           {
            "name": "67",
            "count": 1
           },
           {
            "name": "51",
            "count": 1
           },
           {
            "name": "3 others",
            "count": 3
           }
          ]
         }
        },
        {
         "name": "dewpoint",
         "dtype": "int64",
         "stats": {
          "unique_count": 5,
          "nan_count": 0,
          "min": "38",
          "max": "51",
          "histogram": [
           {
            "bin_start": 38,
            "bin_end": 39.3,
            "count": 1
           },
           {
            "bin_start": 39.3,
            "bin_end": 40.6,
            "count": 1
           },
           {
            "bin_start": 40.6,
            "bin_end": 41.9,
            "count": 1
           },
           {
            "bin_start": 41.9,
            "bin_end": 43.2,
            "count": 1
           },
           {
            "bin_start": 43.2,
            "bin_end": 44.5,
            "count": 0
           },
           {
            "bin_start": 44.5,
            "bin_end": 45.8,
            "count": 0
           },
           {
            "bin_start": 45.8,
            "bin_end": 47.1,
            "count": 0
           },
           {
            "bin_start": 47.1,
            "bin_end": 48.4,
            "count": 0
           },
           {
            "bin_start": 48.4,
            "bin_end": 49.7,
            "count": 0
           },
           {
            "bin_start": 49.7,
            "bin_end": 51,
            "count": 1
           }
          ]
         }
        },
        {
         "name": "wetbulb",
         "dtype": "object",
         "stats": {
          "unique_count": 5,
          "nan_count": 0,
          "categories": [
           {
            "name": "56",
            "count": 1
           },
           {
            "name": "47",
            "count": 1
           },
           {
            "name": "3 others",
            "count": 3
           }
          ]
         }
        },
        {
         "name": "codesum",
         "dtype": "object",
         "stats": {
          "unique_count": 3,
          "nan_count": 0,
          "categories": [
           {
            "name": " ",
            "count": 3
           },
           {
            "name": "BR",
            "count": 1
           },
           {
            "name": "RA",
            "count": 1
           }
          ]
         }
        },
        {
         "name": "depth",
         "dtype": "object",
         "stats": {
          "unique_count": 1,
          "nan_count": 0,
          "categories": [
           {
            "name": "0",
            "count": 5
           }
          ]
         }
        },
        {
         "name": "water1",
         "dtype": "object",
         "stats": {
          "unique_count": 1,
          "nan_count": 0,
          "categories": [
           {
            "name": "M",
            "count": 5
           }
          ]
         }
        },
        {
         "name": "snowfall",
         "dtype": "object",
         "stats": {
          "unique_count": 1,
          "nan_count": 0,
          "categories": [
           {
            "name": "0.0",
            "count": 5
           }
          ]
         }
        },
        {
         "name": "preciptotal",
         "dtype": "object",
         "stats": {
          "unique_count": 2,
          "nan_count": 0,
          "categories": [
           {
            "name": "0.00",
            "count": 3
           },
           {
            "name": "  T",
            "count": 2
           }
          ]
         }
        },
        {
         "name": "stnpressure",
         "dtype": "object",
         "stats": {
          "unique_count": 5,
          "nan_count": 0,
          "categories": [
           {
            "name": "29.10",
            "count": 1
           },
           {
            "name": "29.38",
            "count": 1
           },
           {
            "name": "3 others",
            "count": 3
           }
          ]
         }
        },
        {
         "name": "sealevel",
         "dtype": "object",
         "stats": {
          "unique_count": 5,
          "nan_count": 0,
          "categories": [
           {
            "name": "29.82",
            "count": 1
           },
           {
            "name": "30.09",
            "count": 1
           },
           {
            "name": "3 others",
            "count": 3
           }
          ]
         }
        },
        {
         "name": "resultspeed",
         "dtype": "float64",
         "stats": {
          "unique_count": 4,
          "nan_count": 0,
          "min": "1.7",
          "max": "13.0",
          "histogram": [
           {
            "bin_start": 1.7,
            "bin_end": 2.83,
            "count": 1
           },
           {
            "bin_start": 2.83,
            "bin_end": 3.96,
            "count": 0
           },
           {
            "bin_start": 3.96,
            "bin_end": 5.090000000000001,
            "count": 0
           },
           {
            "bin_start": 5.090000000000001,
            "bin_end": 6.220000000000001,
            "count": 0
           },
           {
            "bin_start": 6.220000000000001,
            "bin_end": 7.3500000000000005,
            "count": 0
           },
           {
            "bin_start": 7.3500000000000005,
            "bin_end": 8.48,
            "count": 0
           },
           {
            "bin_start": 8.48,
            "bin_end": 9.610000000000001,
            "count": 0
           },
           {
            "bin_start": 9.610000000000001,
            "bin_end": 10.74,
            "count": 1
           },
           {
            "bin_start": 10.74,
            "bin_end": 11.870000000000001,
            "count": 2
           },
           {
            "bin_start": 11.870000000000001,
            "bin_end": 13,
            "count": 1
           }
          ]
         }
        },
        {
         "name": "resultdir",
         "dtype": "int64",
         "stats": {
          "unique_count": 4,
          "nan_count": 0,
          "min": "4",
          "max": "27",
          "histogram": [
           {
            "bin_start": 4,
            "bin_end": 6.3,
            "count": 1
           },
           {
            "bin_start": 6.3,
            "bin_end": 8.6,
            "count": 3
           },
           {
            "bin_start": 8.6,
            "bin_end": 10.899999999999999,
            "count": 0
           },
           {
            "bin_start": 10.899999999999999,
            "bin_end": 13.2,
            "count": 0
           },
           {
            "bin_start": 13.2,
            "bin_end": 15.5,
            "count": 0
           },
           {
            "bin_start": 15.5,
            "bin_end": 17.799999999999997,
            "count": 0
           },
           {
            "bin_start": 17.799999999999997,
            "bin_end": 20.099999999999998,
            "count": 0
           },
           {
            "bin_start": 20.099999999999998,
            "bin_end": 22.4,
            "count": 0
           },
           {
            "bin_start": 22.4,
            "bin_end": 24.7,
            "count": 0
           },
           {
            "bin_start": 24.7,
            "bin_end": 27,
            "count": 1
           }
          ]
         }
        },
        {
         "name": "avgspeed",
         "dtype": "object",
         "stats": {
          "unique_count": 5,
          "nan_count": 0,
          "categories": [
           {
            "name": "9.2",
            "count": 1
           },
           {
            "name": "13.4",
            "count": 1
           },
           {
            "name": "3 others",
            "count": 3
           }
          ]
         }
        },
        {
         "name": "_deepnote_index_column",
         "dtype": "int64"
        }
       ],
       "rows_top": [
        {
         "station": 1,
         "date": "2007-05-01",
         "tavg": "67",
         "dewpoint": 51,
         "wetbulb": "56",
         "codesum": " ",
         "depth": "0",
         "water1": "M",
         "snowfall": "0.0",
         "preciptotal": "0.00",
         "stnpressure": "29.10",
         "sealevel": "29.82",
         "resultspeed": 1.7,
         "resultdir": 27,
         "avgspeed": "9.2",
         "_deepnote_index_column": 0
        },
        {
         "station": 1,
         "date": "2007-05-02",
         "tavg": "51",
         "dewpoint": 42,
         "wetbulb": "47",
         "codesum": "BR",
         "depth": "0",
         "water1": "M",
         "snowfall": "0.0",
         "preciptotal": "0.00",
         "stnpressure": "29.38",
         "sealevel": "30.09",
         "resultspeed": 13,
         "resultdir": 4,
         "avgspeed": "13.4",
         "_deepnote_index_column": 2
        },
        {
         "station": 1,
         "date": "2007-05-03",
         "tavg": "56",
         "dewpoint": 40,
         "wetbulb": "48",
         "codesum": " ",
         "depth": "0",
         "water1": "M",
         "snowfall": "0.0",
         "preciptotal": "0.00",
         "stnpressure": "29.39",
         "sealevel": "30.12",
         "resultspeed": 11.7,
         "resultdir": 7,
         "avgspeed": "11.9",
         "_deepnote_index_column": 4
        },
        {
         "station": 1,
         "date": "2007-05-04",
         "tavg": "58",
         "dewpoint": 41,
         "wetbulb": "50",
         "codesum": "RA",
         "depth": "0",
         "water1": "M",
         "snowfall": "0.0",
         "preciptotal": "  T",
         "stnpressure": "29.31",
         "sealevel": "30.05",
         "resultspeed": 10.4,
         "resultdir": 8,
         "avgspeed": "10.8",
         "_deepnote_index_column": 6
        },
        {
         "station": 1,
         "date": "2007-05-05",
         "tavg": "60",
         "dewpoint": 38,
         "wetbulb": "49",
         "codesum": " ",
         "depth": "0",
         "water1": "M",
         "snowfall": "0.0",
         "preciptotal": "  T",
         "stnpressure": "29.40",
         "sealevel": "30.10",
         "resultspeed": 11.7,
         "resultdir": 7,
         "avgspeed": "12.0",
         "_deepnote_index_column": 8
        }
       ],
       "rows_bottom": null
      },
      "text/plain": "   station        date tavg  dewpoint wetbulb codesum depth water1 snowfall  \\\n0        1  2007-05-01   67        51      56             0      M      0.0   \n2        1  2007-05-02   51        42      47      BR     0      M      0.0   \n4        1  2007-05-03   56        40      48             0      M      0.0   \n6        1  2007-05-04   58        41      50      RA     0      M      0.0   \n8        1  2007-05-05   60        38      49             0      M      0.0   \n\n  preciptotal stnpressure sealevel  resultspeed  resultdir avgspeed  \n0        0.00       29.10    29.82          1.7         27      9.2  \n2        0.00       29.38    30.09         13.0          4     13.4  \n4        0.00       29.39    30.12         11.7          7     11.9  \n6           T       29.31    30.05         10.4          8     10.8  \n8           T       29.40    30.10         11.7          7     12.0  ",
      "text/html": "<div>\n<style scoped>\n    .dataframe tbody tr th:only-of-type {\n        vertical-align: middle;\n    }\n\n    .dataframe tbody tr th {\n        vertical-align: top;\n    }\n\n    .dataframe thead th {\n        text-align: right;\n    }\n</style>\n<table border=\"1\" class=\"dataframe\">\n  <thead>\n    <tr style=\"text-align: right;\">\n      <th></th>\n      <th>station</th>\n      <th>date</th>\n      <th>tavg</th>\n      <th>dewpoint</th>\n      <th>wetbulb</th>\n      <th>codesum</th>\n      <th>depth</th>\n      <th>water1</th>\n      <th>snowfall</th>\n      <th>preciptotal</th>\n      <th>stnpressure</th>\n      <th>sealevel</th>\n      <th>resultspeed</th>\n      <th>resultdir</th>\n      <th>avgspeed</th>\n    </tr>\n  </thead>\n  <tbody>\n    <tr>\n      <th>0</th>\n      <td>1</td>\n      <td>2007-05-01</td>\n      <td>67</td>\n      <td>51</td>\n      <td>56</td>\n      <td></td>\n      <td>0</td>\n      <td>M</td>\n      <td>0.0</td>\n      <td>0.00</td>\n      <td>29.10</td>\n      <td>29.82</td>\n      <td>1.7</td>\n      <td>27</td>\n      <td>9.2</td>\n    </tr>\n    <tr>\n      <th>2</th>\n      <td>1</td>\n      <td>2007-05-02</td>\n      <td>51</td>\n      <td>42</td>\n      <td>47</td>\n      <td>BR</td>\n      <td>0</td>\n      <td>M</td>\n      <td>0.0</td>\n      <td>0.00</td>\n      <td>29.38</td>\n      <td>30.09</td>\n      <td>13.0</td>\n      <td>4</td>\n      <td>13.4</td>\n    </tr>\n    <tr>\n      <th>4</th>\n      <td>1</td>\n      <td>2007-05-03</td>\n      <td>56</td>\n      <td>40</td>\n      <td>48</td>\n      <td></td>\n      <td>0</td>\n      <td>M</td>\n      <td>0.0</td>\n      <td>0.00</td>\n      <td>29.39</td>\n      <td>30.12</td>\n      <td>11.7</td>\n      <td>7</td>\n      <td>11.9</td>\n    </tr>\n    <tr>\n      <th>6</th>\n      <td>1</td>\n      <td>2007-05-04</td>\n      <td>58</td>\n      <td>41</td>\n      <td>50</td>\n      <td>RA</td>\n      <td>0</td>\n      <td>M</td>\n      <td>0.0</td>\n      <td>T</td>\n      <td>29.31</td>\n      <td>30.05</td>\n      <td>10.4</td>\n      <td>8</td>\n      <td>10.8</td>\n    </tr>\n    <tr>\n      <th>8</th>\n      <td>1</td>\n      <td>2007-05-05</td>\n      <td>60</td>\n      <td>38</td>\n      <td>49</td>\n      <td></td>\n      <td>0</td>\n      <td>M</td>\n      <td>0.0</td>\n      <td>T</td>\n      <td>29.40</td>\n      <td>30.10</td>\n      <td>11.7</td>\n      <td>7</td>\n      <td>12.0</td>\n    </tr>\n  </tbody>\n</table>\n</div>"
     },
     "metadata": {}
    }
   ]
  },
  {
   "cell_type": "code",
   "metadata": {
    "deepnote_to_be_reexecuted": false,
    "execution_millis": 1388,
    "execution_start": 1637218220232,
    "scrolled": true,
    "source_hash": "7a3ef3da",
    "tags": [],
    "cell_id": "00027-28cbc089-a150-449e-a5e5-ff6335e6c2ea",
    "deepnote_output_heights": [
     21.1875
    ],
    "deepnote_cell_type": "code"
   },
   "source": "# remove rows with 'M' values (missing data) for the 'wetbulb' column\nweather_df = weather_df[weather_df.wetbulb != 'M']\n\n# check for the number of missing values in the 'wetbulb' column\nweather_df['wetbulb'].isin(['M']).sum()",
   "execution_count": null,
   "outputs": [
    {
     "output_type": "execute_result",
     "execution_count": 23,
     "data": {
      "text/plain": "0"
     },
     "metadata": {}
    }
   ]
  },
  {
   "cell_type": "code",
   "metadata": {
    "deepnote_to_be_reexecuted": false,
    "execution_millis": 1380,
    "execution_start": 1637218220240,
    "source_hash": "ac1e0fb4",
    "tags": [],
    "cell_id": "00028-1060ad0b-3599-4135-b929-0caa6ff3753a",
    "deepnote_output_heights": [
     309
    ],
    "deepnote_cell_type": "code"
   },
   "source": "# check for unique values in 'codesum' column\nweather_df['codesum'].unique()",
   "execution_count": null,
   "outputs": [
    {
     "output_type": "execute_result",
     "execution_count": 24,
     "data": {
      "text/plain": "array([' ', 'BR', 'RA', 'BR HZ', 'RA BR', 'RA VCTS', 'RA HZ',\n       'TSRA RA BR HZ', 'HZ', 'TSRA BR HZ', 'TSRA RA BR', 'TSRA RA HZ',\n       'TSRA BR HZ VCTS', 'TSRA', 'TSRA BR HZ FU', 'BR HZ FU',\n       'TSRA RA VCTS', 'HZ VCTS', 'RA BR VCTS', 'TSRA RA BR VCTS',\n       'DZ BR', 'TS TSRA RA BR HZ', 'RA BR HZ', 'TSRA RA',\n       'TS TSRA RA BR', 'TS RA BR', 'TS TSRA RA', 'TS TSRA RA BR VCTS',\n       'TS RA', 'TSRA BR', 'RA DZ FG+ BCFG BR', 'RA FG+ MIFG BR', 'RA DZ',\n       'RA DZ BR', 'TSRA RA FG+ FG BR', 'TSRA DZ FG+ FG BR HZ', 'TS TSRA',\n       'TSRA HZ', 'TS', 'FG+ BR HZ', 'TS TSRA BR HZ', 'DZ BR HZ',\n       'TS TSRA BR', 'RA BR FU', 'TS BR HZ', 'FG+ BR', 'FG+ MIFG BR',\n       'TSRA RA FG BR', 'DZ', 'RA DZ BR HZ', 'TS BR', 'TS RA FG+ FG BR',\n       'RA DZ FG+ FG BR', 'RA BR SQ', 'RA FG BR', 'RA BR HZ FU',\n       'MIFG BCFG BR', 'TSRA RA FG+ FG BR HZ', 'TSRA DZ BR HZ',\n       'TS TSRA RA FG BR HZ', 'RA DZ FG+ BR', 'TSRA FG+ BR HZ',\n       'FG+ FG BR HZ', 'FG BR HZ', 'TS RA BR HZ', 'BCFG BR', 'RA SN'],\n      dtype=object)"
     },
     "metadata": {}
    }
   ]
  },
  {
   "cell_type": "code",
   "metadata": {
    "deepnote_to_be_reexecuted": false,
    "execution_millis": 14,
    "execution_start": 1637218220271,
    "source_hash": "a29caf23",
    "tags": [],
    "cell_id": "00029-0e11bad6-092e-4ad5-9483-fe03efcaf966",
    "deepnote_cell_type": "code"
   },
   "source": "# define function to remove whitespace from text\ndef clean_text(text):\n    text = re.sub(' ', '', text)\n    return text",
   "execution_count": null,
   "outputs": []
  },
  {
   "cell_type": "code",
   "metadata": {
    "deepnote_to_be_reexecuted": false,
    "execution_millis": 62,
    "execution_start": 1637218220286,
    "source_hash": "c8ba99b0",
    "tags": [],
    "cell_id": "00030-3808bffa-2e98-4ee5-bf07-44f048b87553",
    "deepnote_output_heights": [
     611
    ],
    "deepnote_cell_type": "code"
   },
   "source": "# remove whitespace in values in 'codesum' column to check for cells that are empty (\"NO SIGN\" = Moderate according to NOAA data documentation) \nweather_df[\"codesum\"].map(clean_text)",
   "execution_count": null,
   "outputs": [
    {
     "output_type": "execute_result",
     "execution_count": 26,
     "data": {
      "text/plain": "0                      \n2                    BR\n4                      \n6                    RA\n8                      \n10                     \n12                   RA\n14                   BR\n16                 BRHZ\n18                   BR\n20                     \n22                     \n24                     \n26                     \n28                 RABR\n30                 RABR\n32                     \n34                     \n36                     \n38               RAVCTS\n40                     \n42                     \n44                     \n46                 RAHZ\n48                     \n50           TSRARABRHZ\n52                 RABR\n54                   RA\n56                 BRHZ\n58                   HZ\n60                 RAHZ\n62             TSRABRHZ\n64                 RABR\n66           TSRARABRHZ\n68             TSRARABR\n70                 RABR\n72                   RA\n74                     \n76                     \n78                     \n80                     \n82                     \n84                     \n86                     \n88                     \n90                     \n92                 RAHZ\n94                   HZ\n96             TSRARAHZ\n98                   RA\n100                    \n102                  RA\n104                  RA\n106                RABR\n108                BRHZ\n110                BRHZ\n112        TSRABRHZVCTS\n114                TSRA\n116                    \n118                    \n120                    \n122                    \n124                    \n126            TSRARABR\n128          TSRABRHZFU\n130              BRHZFU\n132                    \n134                    \n136                    \n138          TSRARAVCTS\n140              HZVCTS\n142                    \n144                    \n146                    \n148                    \n150                    \n152                RABR\n154            RABRVCTS\n156        TSRARABRVCTS\n158                DZBR\n160                    \n162                    \n164                    \n166                    \n168                    \n170                    \n172        TSTSRARABRHZ\n174              RABRHZ\n176                BRHZ\n178                    \n180                    \n182                    \n184                  HZ\n186                  HZ\n188                    \n190                  RA\n192          TSRARABRHZ\n194          TSRARABRHZ\n196                RABR\n198            TSRARABR\n200              TSRARA\n202                  BR\n204                BRHZ\n206                TSRA\n208                  BR\n210          TSTSRARABR\n212            TSRARABR\n214                  BR\n216                    \n218                  RA\n220              TSRABR\n222            TSRARABR\n224                BRHZ\n226            TSTSRARA\n228      TSTSRARABRVCTS\n230              TSRARA\n232                  RA\n234                    \n236                    \n238                    \n240                    \n242                    \n244                    \n246                    \n248                    \n250                    \n252                    \n254                  RA\n256                RAHZ\n258          TSRARABRHZ\n260                    \n262                    \n264                RABR\n266                    \n268                    \n270                    \n272                    \n274                    \n276                    \n278                    \n280                    \n282                    \n284                    \n286                  HZ\n288                    \n290                    \n292                    \n294                TSRA\n296                  RA\n298                  BR\n300                    \n302                    \n304              TSRABR\n306       RADZFG+BCFGBR\n308         RAFG+MIFGBR\n310                    \n312                  HZ\n314                  HZ\n316                    \n318                    \n320                    \n322                    \n324                RADZ\n326                    \n328                    \n330                    \n332                  RA\n334                RABR\n336              RADZBR\n338                RAHZ\n340                RABR\n342                RABR\n344                    \n346                    \n348              RADZBR\n350                    \n352                    \n354                  RA\n356                RABR\n358                RABR\n360                    \n362                    \n364                    \n366                    \n368                    \n370            TSRARABR\n372                  RA\n374                    \n376                    \n378                    \n380                RABR\n382                    \n384                    \n386                    \n388                RABR\n390                    \n392              TSRARA\n394                DZBR\n396                    \n398                    \n400                  RA\n402                    \n404                  RA\n406                    \n408                    \n410                    \n412                    \n414                    \n416                TSRA\n418            TSRARABR\n420                    \n422                    \n424                  RA\n426            TSRARABR\n428                    \n430                    \n432                  RA\n434       TSRARAFG+FGBR\n436     TSRADZFG+FGBRHZ\n438              TSRABR\n440                  RA\n442              TSRABR\n444            TSTSRARA\n446                RABR\n448                  RA\n450                    \n452                    \n454            TSRARABR\n456                    \n458                  RA\n460                    \n462                    \n464                    \n466                    \n468              TSRARA\n470                    \n472              TSTSRA\n474                    \n476                    \n478                  RA\n480                  BR\n482                  RA\n484              TSRAHZ\n486                RABR\n488                    \n490                    \n492              TSRABR\n494                    \n496                    \n498                    \n500                    \n502              TSRARA\n504                    \n506                    \n508            TSRARABR\n510            TSRARABR\n512          TSTSRARABR\n514                    \n516                    \n518                    \n520                    \n522                    \n524                  RA\n526            RABRVCTS\n528                TSRA\n530              TSRARA\n532                    \n534                    \n536                    \n538                    \n540                  BR\n542                    \n544                    \n546              TSRARA\n548                    \n550                RABR\n552                  RA\n554                    \n556                    \n558          TSTSRARABR\n560                  HZ\n562                    \n564                    \n566                    \n568                    \n570                    \n572                    \n574                    \n576                  RA\n578                BRHZ\n580                    \n582                    \n584                    \n586                    \n588                    \n590                    \n592                  RA\n594            TSRABRHZ\n596                  BR\n598                    \n600                    \n602                    \n604                    \n606                RABR\n608                RABR\n610                    \n612                    \n614                    \n616                  TS\n618                TSRA\n620                RABR\n622                    \n624                  BR\n626                    \n628                RABR\n630                    \n632                    \n634                RABR\n636              RADZBR\n638                RABR\n640                RABR\n642                    \n644                    \n646                    \n648                    \n650                    \n652                    \n654             FG+BRHZ\n656                BRHZ\n658                    \n660          TSTSRABRHZ\n662                BRHZ\n664                  BR\n666                  BR\n668                    \n670                RABR\n672                    \n674                    \n676                    \n678                  RA\n680                    \n682                  RA\n684                    \n686                RABR\n688                RABR\n690                    \n692                    \n694                    \n696                  BR\n698                    \n700                  RA\n702                RABR\n704                    \n706                    \n708                RABR\n710                    \n712                RABR\n714                    \n716                    \n718                  RA\n720            TSRARABR\n722              RADZBR\n724                  RA\n726                    \n728                    \n730                    \n732                    \n734                    \n736                  RA\n738                    \n740                    \n742                    \n744                    \n746                RABR\n748              RABRHZ\n750              TSRARA\n752                    \n754                    \n756                    \n758                    \n760            TSRARABR\n762                    \n764                RABR\n766                  BR\n768                    \n770                    \n772                    \n774                    \n776                    \n778                    \n780                    \n782                    \n784                RADZ\n786            TSRARABR\n788              DZBRHZ\n790                    \n792                    \n794                  RA\n796                    \n798              TSRARA\n800                RABR\n802                    \n804                    \n806                    \n808                    \n810                  BR\n812            TSRARABR\n814                DZBR\n816                  RA\n818                RAHZ\n820                  RA\n822                RABR\n824                    \n826                    \n828                RABR\n830                BRHZ\n832                RABR\n834            TSTSRABR\n836                    \n838                    \n840              TSRARA\n842                    \n844                TSRA\n846                    \n850                TSRA\n852                    \n854                    \n856                    \n858                RADZ\n860                    \n862                    \n864              RABRFU\n866              RABRHZ\n868                    \n870                  RA\n872                  RA\n874                    \n876                RABR\n878            TSRABRHZ\n880                    \n882                    \n884                    \n886                  BR\n888                    \n890                    \n892                    \n894                    \n896                    \n898                RADZ\n900                BRHZ\n902              TSBRHZ\n904              TSRARA\n906                    \n908                  RA\n910                  RA\n912                  RA\n914                    \n916                    \n918                    \n920                  RA\n922                    \n924                    \n926                  BR\n928                    \n930                    \n932                RABR\n934                RABR\n936                    \n938                    \n940                    \n942                    \n944                    \n946                    \n948                    \n950                TSRA\n952            TSRARABR\n954                    \n956                  RA\n958                  RA\n960                  RA\n962                    \n964                    \n966                    \n968                    \n970                RABR\n972                RABR\n974                RABR\n976              RADZBR\n978                    \n980                    \n982                    \n984                    \n986                    \n988                  BR\n990                BRHZ\n992              RABRHZ\n994                  BR\n996                    \n998                BRHZ\n1000               BRHZ\n1002                 BR\n1004              FG+BR\n1006          FG+MIFGBR\n1008                   \n1010                   \n1012                   \n1014                   \n1016                 BR\n1018                   \n1020             RADZBR\n1022             DZBRHZ\n1024               BRHZ\n1026                 BR\n1028                 BR\n1030             RADZBR\n1032                 BR\n1034         TSRARAFGBR\n1036                 RA\n1038                   \n1040                   \n1042               RABR\n1044               RABR\n1046             RADZBR\n1048                   \n1050                   \n1052             RADZBR\n1054                   \n1056             RADZBR\n1058               RABR\n1060                   \n1062                   \n1064             RADZBR\n1066                   \n1068             RADZBR\n1070             RADZBR\n1072                 RA\n1074                 DZ\n1076                   \n1078                   \n1080                 RA\n1082                 RA\n1084               RABR\n1086             RADZBR\n1088             RADZBR\n1090               RABR\n1092               RABR\n1094               RABR\n1096               BRHZ\n1098             RABRHZ\n1100             RADZBR\n1102                   \n1104               RABR\n1106               RABR\n1108                   \n1110                   \n1112                   \n1114               TSRA\n1116           TSRARABR\n1118                 RA\n1120                   \n1122                 RA\n1124             RADZBR\n1126         TSRARAFGBR\n1128           TSRARABR\n1130                   \n1132                   \n1134                   \n1136                 RA\n1138                   \n1140                   \n1142                 RA\n1144           RADZBRHZ\n1146            FG+BRHZ\n1148                   \n1150                   \n1152                   \n1154                   \n1156                   \n1158                   \n1160                   \n1162                   \n1164           TSRARABR\n1166               BRHZ\n1168           TSRARABR\n1170                   \n1172                   \n1174               RABR\n1176                 RA\n1178                   \n1180               RABR\n1182                 BR\n1184                   \n1186               TSRA\n1188           TSRARABR\n1190               RABR\n1192               RABR\n1194               RABR\n1196                   \n1198                   \n1200             TSRABR\n1202                   \n1204                   \n1206             TSRABR\n1208                   \n1210         TSTSRARABR\n1212                   \n1214                   \n1216             TSTSRA\n1218                   \n1220                   \n1222                   \n1224                   \n1226                   \n1228                   \n1230                   \n1232                   \n1234                   \n1236             TSRARA\n1238                 BR\n1240           TSRARABR\n1242                   \n1244                   \n1246           TSRARABR\n1248                 BR\n1250                   \n1252                 BR\n1254                   \n1256                   \n1258                   \n1260                   \n1262                 RA\n1264                   \n1266                   \n1268                   \n1270         TSTSRARABR\n1272           TSRARABR\n1274                   \n1276                   \n1278                   \n1280                 BR\n1282                   \n1284                 RA\n1286         TSTSRARABR\n1288               BRHZ\n1290               RABR\n1292           TSRARABR\n1294           TSRARABR\n1296                   \n1298                   \n1300                   \n1302               RABR\n1304                 TS\n1306                   \n1308                 BR\n1310                   \n1312               TSBR\n1314                   \n1316                   \n1318                   \n1320                 RA\n1322                 RA\n1324                   \n1326                 RA\n1328               RABR\n1330                   \n1332                   \n1334                   \n1336                   \n1338                   \n1340                   \n1342                   \n1344                   \n1346                   \n1348                   \n1350                 RA\n1352               RABR\n1354                   \n1356                   \n1358                 RA\n1360                   \n1362                   \n1364                   \n1366                   \n1368                   \n1370               RABR\n1372                   \n1374                   \n1376                   \n1378                   \n1380                 RA\n1382                   \n1384             TSRABR\n1386                 RA\n1388                   \n1390             TSRARA\n1392                   \n1394                   \n1396               RABR\n1398                   \n1400                 RA\n1402                   \n1404                   \n1406                   \n1408                   \n1410               RABR\n1412                 RA\n1414                 RA\n1416                   \n1418                   \n1420                   \n1422                   \n1424                   \n1426                   \n1428                   \n1430                   \n1432                   \n1434             TSRARA\n1436                   \n1438                   \n1440                 BR\n1442                   \n1444                   \n1446                   \n1448                   \n1450                   \n1452                   \n1454               RABR\n1456               RABR\n1458                 BR\n1460               RABR\n1462                   \n1464                   \n1466                   \n1468                   \n1470                   \n1472                   \n1474                   \n1476                 RA\n1478                   \n1480               RABR\n1482                 RA\n1484                   \n1486                   \n1488                 RA\n1490                   \n1492         TSTSRABRHZ\n1494           TSTSRABR\n1496               RABR\n1498               RABR\n1500               RABR\n1502                   \n1504                   \n1506             RADZBR\n1508               BRHZ\n1510                 BR\n1512                 BR\n1514           TSRARABR\n1516                   \n1518                   \n1520           TSRARABR\n1522               RABR\n1524                 RA\n1526               RABR\n1528        TSRAFG+FGBR\n1530                   \n1532                 TS\n1534                   \n1536                 RA\n1538                   \n1540               TSRA\n1542                   \n1544                   \n1546                   \n1548               TSRA\n1550           TSRARABR\n1552             RABRHZ\n1554        RADZFG+FGBR\n1556                 BR\n1558                   \n1560                   \n1562           TSRARABR\n1564               RABR\n1566                   \n1568                   \n1570                   \n1572           TSRARABR\n1574             RABRSQ\n1576                 RA\n1578               RABR\n1580                   \n1582                   \n1584                   \n1586               RAHZ\n1588                   \n1590                   \n1592                   \n1594                   \n1596                 BR\n1598                   \n1600                   \n1602                   \n1604                   \n1606                 RA\n1608                   \n1610                   \n1612                 HZ\n1614                 HZ\n1616                 RA\n1618                   \n1620                   \n1622                   \n1624                 RA\n1626                   \n1628               RAHZ\n1630                   \n1632               BRHZ\n1634                 TS\n1636         TSTSRARABR\n1638         TSTSRARABR\n1640           TSTSRABR\n1642                   \n1644                   \n1646             TSTSRA\n1648           TSRARABR\n1650                 BR\n1652                   \n1654                   \n1656                   \n1658                   \n1660                   \n1662                   \n1664                 RA\n1666               RABR\n1668             TSRABR\n1670               RABR\n1672                 BR\n1674                   \n1676                   \n1678                   \n1680                 RA\n1682                 RA\n1684                   \n1686                   \n1688                   \n1690                   \n1692                   \n1694             RAFGBR\n1696                 RA\n1698                   \n1700             TSRABR\n1702                 BR\n1704                   \n1706                   \n1708                   \n1710                   \n1712                   \n1714                 RA\n1716                 RA\n1718                   \n1720                 HZ\n1722             RABRHZ\n1724                   \n1726                   \n1728                   \n1730                   \n1732                 RA\n1734                 RA\n1736                 BR\n1738                 BR\n1740                   \n1742             BRHZFU\n1744           RABRHZFU\n1746                   \n1748                   \n1750                   \n1752             RADZBR\n1754               RABR\n1756         MIFGBCFGBR\n1758                 RA\n1760                   \n1762                   \n1764               RABR\n1766                 RA\n1768               RABR\n1770               RABR\n1772               RABR\n1774               RABR\n1776                 RA\n1778                   \n1780                   \n1782                   \n1784                   \n1786                   \n1788                   \n1790                   \n1792                   \n1794                   \n1796                   \n1798                   \n1800                   \n1802               RABR\n1804                   \n1806                   \n1808                 RA\n1810                   \n1812                 RA\n1814               RABR\n1816                 RA\n1818                   \n1820                   \n1822           TSRARABR\n1824                   \n1826                 RA\n1828                   \n1830                 RA\n1832                   \n1834                   \n1836               RABR\n1838                 BR\n1840             RABRHZ\n1842              FG+BR\n1844             TSTSRA\n1846           TSRABRHZ\n1848             RABRHZ\n1850         TSTSRARABR\n1852    TSRARAFG+FGBRHZ\n1854                 BR\n1856                 RA\n1858                   \n1860                   \n1862                 RA\n1864                   \n1866                   \n1868               TSRA\n1870                   \n1872                   \n1874                   \n1876                   \n1878             TSRARA\n1880                   \n1882                   \n1884                   \n1886                   \n1888                   \n1890                 RA\n1892                   \n1894                   \n1896                   \n1898                   \n1900               RABR\n1902                 RA\n1904                   \n1906                   \n1908                   \n1910                   \n1912                   \n1914                   \n1916                   \n1918                   \n1920                   \n1922                 RA\n1924                   \n1926                   \n1928                   \n1930                   \n1932               RABR\n1934               RABR\n1936                   \n1938                   \n1940                   \n1942                 RA\n1944                   \n1946                   \n1948                   \n1950                   \n1952                   \n1954                   \n1956             TSRAHZ\n1958           TSTSRARA\n1960                   \n1962                   \n1964               BRHZ\n1966                   \n1968                   \n1970               TSRA\n1972                   \n1974                   \n1976                   \n1978                   \n1980                   \n1982                   \n1984                   \n1986         TSTSRARABR\n1988                   \n1990                   \n1992                   \n1994                   \n1996         TSTSRARABR\n1998           TSRARABR\n2000                   \n2002                   \n2004                   \n2006                 RA\n2008             TSRARA\n2010                 RA\n2012             TSRARA\n2014                   \n2016                   \n2018                 RA\n2020                   \n2022                   \n2024                   \n2026                   \n2028                 BR\n2030             TSTSRA\n2032                   \n2034                   \n2036                   \n2038                 RA\n2040               RABR\n2042           TSRARABR\n2044                   \n2046                   \n2048               RABR\n2050                 BR\n2052                   \n2054             TSRABR\n2056                   \n2058                   \n2060                   \n2062             TSRARA\n2064                   \n2066                   \n2068                 RA\n2070                   \n2072                   \n2074               RABR\n2076                 BR\n2078                   \n2080                   \n2082                   \n2084                   \n2086                 RA\n2088                   \n2090                 BR\n2092           TSRARABR\n2094                 RA\n2096                   \n2098               RABR\n2100                 RA\n2102                   \n2104                   \n2106                   \n2108                   \n2110                 RA\n2112                   \n2114                   \n2116                   \n2118           TSRARABR\n2120                   \n2122                   \n2124                   \n2126                 RA\n2128                 RA\n2130                   \n2132                   \n2134                   \n2136                   \n2138                   \n2140                 RA\n2142                   \n2144                   \n2146                   \n2148                   \n2150             RADZBR\n2152                 RA\n2154                   \n2156                   \n2158                   \n2160                   \n2162               RABR\n2164                   \n2166                 RA\n2168                   \n2170             RADZBR\n2172           TSRARABR\n2174                   \n2176                   \n2178               RABR\n2180                 RA\n2182               RADZ\n2184                   \n2186                   \n2188           TSRARABR\n2190               RABR\n2192                   \n2194                 RA\n2196                   \n2198                   \n2200                   \n2202                   \n2204                   \n2206                   \n2208                   \n2210                 RA\n2212               RABR\n2214                   \n2216                 RA\n2218                   \n2220                   \n2222                   \n2224                 RA\n2226             RADZBR\n2228                   \n2230                   \n2232                   \n2234                   \n2236                   \n2238                   \n2240                   \n2242                   \n2244               BRHZ\n2246           TSRARABR\n2248               RABR\n2250             TSRABR\n2252               RABR\n2254                   \n2256                   \n2258                 RA\n2260         TSRADZBRHZ\n2262           TSRARABR\n2264                   \n2266             TSRARA\n2268               RABR\n2270               RABR\n2272             RADZBR\n2274                   \n2276                   \n2278                 RA\n2280                 RA\n2282                   \n2284                   \n2286                 RA\n2288         TSRARABRHZ\n2290               RABR\n2292           TSTSRABR\n2294                 BR\n2296                   \n2298               RABR\n2300                   \n2302                   \n2304                 BR\n2306                   \n2308                   \n2310               RABR\n2312                 RA\n2314                 RA\n2316                 BR\n2318               TSRA\n2320           TSRARABR\n2322                 BR\n2324                 RA\n2326                 BR\n2328                   \n2330                   \n2332                   \n2334             DZBRHZ\n2336                 BR\n2338                   \n2340                   \n2342                   \n2344           TSRARABR\n2346                 BR\n2348                   \n2350                   \n2352                   \n2354                   \n2356                   \n2358                   \n2360                   \n2362                   \n2364                   \n2366               TSBR\n2368                   \n2370                   \n2372             TSRARA\n2374                   \n2376                   \n2378                   \n2380               RABR\n2382                   \n2384                 RA\n2386                   \n2388                 RA\n2390             RADZBR\n2392                   \n2394               RABR\n2396                   \n2398                 RA\n2400                 RA\n2402                   \n2404                   \n2406                   \n2408                   \n2414               RADZ\n2416                   \n2418                   \n2420                   \n2422                   \n2424                   \n2426                   \n2428                   \n2430                   \n2432                 RA\n2434                 RA\n2436                 BR\n2438                   \n2440                   \n2442                   \n2444                   \n2446                   \n2448               BRHZ\n2450                 BR\n2452             TSTSRA\n2454                 TS\n2456                   \n2458                   \n2460                   \n2462                   \n2464                   \n2466                   \n2468                   \n2470                   \n2472                   \n2474                   \n2476                 RA\n2478                   \n2480                   \n2482               RABR\n2484                   \n2486                   \n2488                   \n2490     TSTSRARAFGBRHZ\n2492                   \n2494                   \n2496                   \n2498                   \n2500                   \n2502                   \n2504                 BR\n2506                   \n2508               RABR\n2510               RABR\n2512                   \n2514                 BR\n2516                 BR\n2518          RADZFG+BR\n2520               RABR\n2522             TSRABR\n2524                 RA\n2526                   \n2528                   \n2530                   \n2532                 BR\n2534                   \n2536               RABR\n2538                   \n2540                   \n2542               RABR\n2544                 DZ\n2546               RABR\n2548                   \n2550                 RA\n2552                 RA\n2554                   \n2556                 RA\n2558                   \n2560                   \n2562                   \n2564                   \n2566                   \n2568                   \n2570                   \n2572             RABRHZ\n2574               RABR\n2576             RADZBR\n2578                   \n2580                   \n2582                   \n2584                 RA\n2586                   \n2588                   \n2590                 RA\n2592               RABR\n2594                   \n2596                   \n2598           TSTSRABR\n2600               RABR\n2602               RABR\n2604                 RA\n2606               RADZ\n2608                 BR\n2610                   \n2612                 RA\n2614         TSTSRARABR\n2616             RABRHZ\n2618                   \n2620                   \n2622                   \n2624                   \n2626                   \n2628               RABR\n2630               RABR\n2632                   \n2634                   \n2636                   \n2638                   \n2640                 RA\n2642                   \n2644               RABR\n2646                   \n2648                   \n2650                 RA\n2652                 RA\n2654                   \n2656               RABR\n2658             RADZBR\n2660               DZBR\n2662                   \n2664                   \n2666                   \n2668                   \n2670                 RA\n2672         TSTSRABRHZ\n2674        TSRAFG+BRHZ\n2676               BRHZ\n2678               RABR\n2680            FG+BRHZ\n2682               RABR\n2684             TSRARA\n2686          FG+FGBRHZ\n2688               BRHZ\n2690             FGBRHZ\n2692                   \n2694                 RA\n2696           TSTSRARA\n2698                 RA\n2700           RADZBRHZ\n2702                 RA\n2704                 HZ\n2706               RAHZ\n2708                   \n2710               TSRA\n2712               TSRA\n2714                   \n2716                   \n2718                 RA\n2720               RABR\n2722                   \n2724                   \n2726                 RA\n2728                   \n2730                   \n2732                   \n2734                 HZ\n2736                   \n2738                   \n2740                 TS\n2742                   \n2744                   \n2746                   \n2748                   \n2750             RABRHZ\n2752                   \n2754                   \n2756                   \n2758                   \n2760                   \n2762                   \n2764                   \n2766           TSRARABR\n2768               BRHZ\n2770                   \n2772                   \n2774                   \n2776                   \n2778                   \n2780           TSRARABR\n2782                 RA\n2784                   \n2786                   \n2788                   \n2790                   \n2792             DZBRHZ\n2794               BRHZ\n2796                 RA\n2798                   \n2800           TSRARABR\n2802           TSRARABR\n2804           TSRABRHZ\n2806                   \n2808             TSRABR\n2810                   \n2812                   \n2814                 RA\n2816                   \n2818                   \n2820               BRHZ\n2822                 RA\n2824                 RA\n2826                   \n2828                 RA\n2830               TSRA\n2832                   \n2834                   \n2836                   \n2838                 RA\n2840               RABR\n2842                   \n2844               RABR\n2846                   \n2848                   \n2850                 RA\n2852                   \n2854                   \n2856             BCFGBR\n2858                 BR\n2860                 RA\n2862                 RA\n2864                   \n2866                   \n2868                   \n2870                   \n2872                 BR\n2874                   \n2876               BRHZ\n2878               RABR\n2880               DZBR\n2882                   \n2884           TSRARABR\n2886                 RA\n2888             RADZBR\n2890                 RA\n2892                   \n2894                   \n2896                   \n2898                   \n2900                   \n2902                   \n2904             RADZBR\n2906             RADZBR\n2908             RADZBR\n2910             RADZBR\n2912               DZBR\n2914                   \n2916               RADZ\n2918                   \n2920                   \n2922                   \n2924                   \n2926                 BR\n2928                   \n2930                 BR\n2932                   \n2934                   \n2936                   \n2938                   \n2940                   \n2942               RASN\nName: codesum, dtype: object"
     },
     "metadata": {}
    }
   ]
  },
  {
   "cell_type": "code",
   "metadata": {
    "deepnote_to_be_reexecuted": false,
    "execution_millis": 1254,
    "execution_start": 1637218220366,
    "source_hash": "a67d9626",
    "tags": [],
    "cell_id": "00031-6c9dc03d-2dba-42f7-8079-e5587d2385ec",
    "deepnote_cell_type": "code"
   },
   "source": "# replace empty string values with \"moderate\" according to NOAA data documentation\nweather_df[\"codesum\"] = weather_df[\"codesum\"].replace(\" \",\"moderate\")",
   "execution_count": null,
   "outputs": []
  },
  {
   "cell_type": "code",
   "metadata": {
    "deepnote_to_be_reexecuted": false,
    "execution_millis": 1225,
    "execution_start": 1637218220396,
    "source_hash": "d6f068c6",
    "tags": [],
    "cell_id": "00032-46dd1a6a-8365-455a-aca3-ef1f000a034e",
    "deepnote_output_heights": [
     309
    ],
    "deepnote_cell_type": "code"
   },
   "source": "# check that \"moderate\" has been filled in\nweather_df[\"codesum\"].unique()",
   "execution_count": null,
   "outputs": [
    {
     "output_type": "execute_result",
     "execution_count": 28,
     "data": {
      "text/plain": "array(['moderate', 'BR', 'RA', 'BR HZ', 'RA BR', 'RA VCTS', 'RA HZ',\n       'TSRA RA BR HZ', 'HZ', 'TSRA BR HZ', 'TSRA RA BR', 'TSRA RA HZ',\n       'TSRA BR HZ VCTS', 'TSRA', 'TSRA BR HZ FU', 'BR HZ FU',\n       'TSRA RA VCTS', 'HZ VCTS', 'RA BR VCTS', 'TSRA RA BR VCTS',\n       'DZ BR', 'TS TSRA RA BR HZ', 'RA BR HZ', 'TSRA RA',\n       'TS TSRA RA BR', 'TS RA BR', 'TS TSRA RA', 'TS TSRA RA BR VCTS',\n       'TS RA', 'TSRA BR', 'RA DZ FG+ BCFG BR', 'RA FG+ MIFG BR', 'RA DZ',\n       'RA DZ BR', 'TSRA RA FG+ FG BR', 'TSRA DZ FG+ FG BR HZ', 'TS TSRA',\n       'TSRA HZ', 'TS', 'FG+ BR HZ', 'TS TSRA BR HZ', 'DZ BR HZ',\n       'TS TSRA BR', 'RA BR FU', 'TS BR HZ', 'FG+ BR', 'FG+ MIFG BR',\n       'TSRA RA FG BR', 'DZ', 'RA DZ BR HZ', 'TS BR', 'TS RA FG+ FG BR',\n       'RA DZ FG+ FG BR', 'RA BR SQ', 'RA FG BR', 'RA BR HZ FU',\n       'MIFG BCFG BR', 'TSRA RA FG+ FG BR HZ', 'TSRA DZ BR HZ',\n       'TS TSRA RA FG BR HZ', 'RA DZ FG+ BR', 'TSRA FG+ BR HZ',\n       'FG+ FG BR HZ', 'FG BR HZ', 'TS RA BR HZ', 'BCFG BR', 'RA SN'],\n      dtype=object)"
     },
     "metadata": {}
    }
   ]
  },
  {
   "cell_type": "code",
   "metadata": {
    "deepnote_to_be_reexecuted": false,
    "execution_millis": 1213,
    "execution_start": 1637218220408,
    "scrolled": true,
    "source_hash": "3f6d225a",
    "tags": [],
    "cell_id": "00033-129827b9-f375-4c79-bb05-5a357ccf607c",
    "deepnote_cell_type": "code"
   },
   "source": "#see sample output of the updated weather dataframe\nweather_df.head()",
   "execution_count": null,
   "outputs": [
    {
     "output_type": "execute_result",
     "execution_count": 29,
     "data": {
      "application/vnd.deepnote.dataframe.v2+json": {
       "row_count": 5,
       "column_count": 15,
       "columns": [
        {
         "name": "station",
         "dtype": "int64",
         "stats": {
          "unique_count": 1,
          "nan_count": 0,
          "min": "1",
          "max": "1",
          "histogram": [
           {
            "bin_start": 0.5,
            "bin_end": 0.6,
            "count": 0
           },
           {
            "bin_start": 0.6,
            "bin_end": 0.7,
            "count": 0
           },
           {
            "bin_start": 0.7,
            "bin_end": 0.8,
            "count": 0
           },
           {
            "bin_start": 0.8,
            "bin_end": 0.9,
            "count": 0
           },
           {
            "bin_start": 0.9,
            "bin_end": 1,
            "count": 0
           },
           {
            "bin_start": 1,
            "bin_end": 1.1,
            "count": 5
           },
           {
            "bin_start": 1.1,
            "bin_end": 1.2000000000000002,
            "count": 0
           },
           {
            "bin_start": 1.2000000000000002,
            "bin_end": 1.3,
            "count": 0
           },
           {
            "bin_start": 1.3,
            "bin_end": 1.4,
            "count": 0
           },
           {
            "bin_start": 1.4,
            "bin_end": 1.5,
            "count": 0
           }
          ]
         }
        },
        {
         "name": "date",
         "dtype": "object",
         "stats": {
          "unique_count": 5,
          "nan_count": 0,
          "categories": [
           {
            "name": "2007-05-01",
            "count": 1
           },
           {
            "name": "2007-05-02",
            "count": 1
           },
           {
            "name": "3 others",
            "count": 3
           }
          ]
         }
        },
        {
         "name": "tavg",
         "dtype": "object",
         "stats": {
          "unique_count": 5,
          "nan_count": 0,
          "categories": [
           {
            "name": "67",
            "count": 1
           },
           {
            "name": "51",
            "count": 1
           },
           {
            "name": "3 others",
            "count": 3
           }
          ]
         }
        },
        {
         "name": "dewpoint",
         "dtype": "int64",
         "stats": {
          "unique_count": 5,
          "nan_count": 0,
          "min": "38",
          "max": "51",
          "histogram": [
           {
            "bin_start": 38,
            "bin_end": 39.3,
            "count": 1
           },
           {
            "bin_start": 39.3,
            "bin_end": 40.6,
            "count": 1
           },
           {
            "bin_start": 40.6,
            "bin_end": 41.9,
            "count": 1
           },
           {
            "bin_start": 41.9,
            "bin_end": 43.2,
            "count": 1
           },
           {
            "bin_start": 43.2,
            "bin_end": 44.5,
            "count": 0
           },
           {
            "bin_start": 44.5,
            "bin_end": 45.8,
            "count": 0
           },
           {
            "bin_start": 45.8,
            "bin_end": 47.1,
            "count": 0
           },
           {
            "bin_start": 47.1,
            "bin_end": 48.4,
            "count": 0
           },
           {
            "bin_start": 48.4,
            "bin_end": 49.7,
            "count": 0
           },
           {
            "bin_start": 49.7,
            "bin_end": 51,
            "count": 1
           }
          ]
         }
        },
        {
         "name": "wetbulb",
         "dtype": "object",
         "stats": {
          "unique_count": 5,
          "nan_count": 0,
          "categories": [
           {
            "name": "56",
            "count": 1
           },
           {
            "name": "47",
            "count": 1
           },
           {
            "name": "3 others",
            "count": 3
           }
          ]
         }
        },
        {
         "name": "codesum",
         "dtype": "object",
         "stats": {
          "unique_count": 3,
          "nan_count": 0,
          "categories": [
           {
            "name": "moderate",
            "count": 3
           },
           {
            "name": "BR",
            "count": 1
           },
           {
            "name": "RA",
            "count": 1
           }
          ]
         }
        },
        {
         "name": "depth",
         "dtype": "object",
         "stats": {
          "unique_count": 1,
          "nan_count": 0,
          "categories": [
           {
            "name": "0",
            "count": 5
           }
          ]
         }
        },
        {
         "name": "water1",
         "dtype": "object",
         "stats": {
          "unique_count": 1,
          "nan_count": 0,
          "categories": [
           {
            "name": "M",
            "count": 5
           }
          ]
         }
        },
        {
         "name": "snowfall",
         "dtype": "object",
         "stats": {
          "unique_count": 1,
          "nan_count": 0,
          "categories": [
           {
            "name": "0.0",
            "count": 5
           }
          ]
         }
        },
        {
         "name": "preciptotal",
         "dtype": "object",
         "stats": {
          "unique_count": 2,
          "nan_count": 0,
          "categories": [
           {
            "name": "0.00",
            "count": 3
           },
           {
            "name": "  T",
            "count": 2
           }
          ]
         }
        },
        {
         "name": "stnpressure",
         "dtype": "object",
         "stats": {
          "unique_count": 5,
          "nan_count": 0,
          "categories": [
           {
            "name": "29.10",
            "count": 1
           },
           {
            "name": "29.38",
            "count": 1
           },
           {
            "name": "3 others",
            "count": 3
           }
          ]
         }
        },
        {
         "name": "sealevel",
         "dtype": "object",
         "stats": {
          "unique_count": 5,
          "nan_count": 0,
          "categories": [
           {
            "name": "29.82",
            "count": 1
           },
           {
            "name": "30.09",
            "count": 1
           },
           {
            "name": "3 others",
            "count": 3
           }
          ]
         }
        },
        {
         "name": "resultspeed",
         "dtype": "float64",
         "stats": {
          "unique_count": 4,
          "nan_count": 0,
          "min": "1.7",
          "max": "13.0",
          "histogram": [
           {
            "bin_start": 1.7,
            "bin_end": 2.83,
            "count": 1
           },
           {
            "bin_start": 2.83,
            "bin_end": 3.96,
            "count": 0
           },
           {
            "bin_start": 3.96,
            "bin_end": 5.090000000000001,
            "count": 0
           },
           {
            "bin_start": 5.090000000000001,
            "bin_end": 6.220000000000001,
            "count": 0
           },
           {
            "bin_start": 6.220000000000001,
            "bin_end": 7.3500000000000005,
            "count": 0
           },
           {
            "bin_start": 7.3500000000000005,
            "bin_end": 8.48,
            "count": 0
           },
           {
            "bin_start": 8.48,
            "bin_end": 9.610000000000001,
            "count": 0
           },
           {
            "bin_start": 9.610000000000001,
            "bin_end": 10.74,
            "count": 1
           },
           {
            "bin_start": 10.74,
            "bin_end": 11.870000000000001,
            "count": 2
           },
           {
            "bin_start": 11.870000000000001,
            "bin_end": 13,
            "count": 1
           }
          ]
         }
        },
        {
         "name": "resultdir",
         "dtype": "int64",
         "stats": {
          "unique_count": 4,
          "nan_count": 0,
          "min": "4",
          "max": "27",
          "histogram": [
           {
            "bin_start": 4,
            "bin_end": 6.3,
            "count": 1
           },
           {
            "bin_start": 6.3,
            "bin_end": 8.6,
            "count": 3
           },
           {
            "bin_start": 8.6,
            "bin_end": 10.899999999999999,
            "count": 0
           },
           {
            "bin_start": 10.899999999999999,
            "bin_end": 13.2,
            "count": 0
           },
           {
            "bin_start": 13.2,
            "bin_end": 15.5,
            "count": 0
           },
           {
            "bin_start": 15.5,
            "bin_end": 17.799999999999997,
            "count": 0
           },
           {
            "bin_start": 17.799999999999997,
            "bin_end": 20.099999999999998,
            "count": 0
           },
           {
            "bin_start": 20.099999999999998,
            "bin_end": 22.4,
            "count": 0
           },
           {
            "bin_start": 22.4,
            "bin_end": 24.7,
            "count": 0
           },
           {
            "bin_start": 24.7,
            "bin_end": 27,
            "count": 1
           }
          ]
         }
        },
        {
         "name": "avgspeed",
         "dtype": "object",
         "stats": {
          "unique_count": 5,
          "nan_count": 0,
          "categories": [
           {
            "name": "9.2",
            "count": 1
           },
           {
            "name": "13.4",
            "count": 1
           },
           {
            "name": "3 others",
            "count": 3
           }
          ]
         }
        },
        {
         "name": "_deepnote_index_column",
         "dtype": "int64"
        }
       ],
       "rows_top": [
        {
         "station": 1,
         "date": "2007-05-01",
         "tavg": "67",
         "dewpoint": 51,
         "wetbulb": "56",
         "codesum": "moderate",
         "depth": "0",
         "water1": "M",
         "snowfall": "0.0",
         "preciptotal": "0.00",
         "stnpressure": "29.10",
         "sealevel": "29.82",
         "resultspeed": 1.7,
         "resultdir": 27,
         "avgspeed": "9.2",
         "_deepnote_index_column": 0
        },
        {
         "station": 1,
         "date": "2007-05-02",
         "tavg": "51",
         "dewpoint": 42,
         "wetbulb": "47",
         "codesum": "BR",
         "depth": "0",
         "water1": "M",
         "snowfall": "0.0",
         "preciptotal": "0.00",
         "stnpressure": "29.38",
         "sealevel": "30.09",
         "resultspeed": 13,
         "resultdir": 4,
         "avgspeed": "13.4",
         "_deepnote_index_column": 2
        },
        {
         "station": 1,
         "date": "2007-05-03",
         "tavg": "56",
         "dewpoint": 40,
         "wetbulb": "48",
         "codesum": "moderate",
         "depth": "0",
         "water1": "M",
         "snowfall": "0.0",
         "preciptotal": "0.00",
         "stnpressure": "29.39",
         "sealevel": "30.12",
         "resultspeed": 11.7,
         "resultdir": 7,
         "avgspeed": "11.9",
         "_deepnote_index_column": 4
        },
        {
         "station": 1,
         "date": "2007-05-04",
         "tavg": "58",
         "dewpoint": 41,
         "wetbulb": "50",
         "codesum": "RA",
         "depth": "0",
         "water1": "M",
         "snowfall": "0.0",
         "preciptotal": "  T",
         "stnpressure": "29.31",
         "sealevel": "30.05",
         "resultspeed": 10.4,
         "resultdir": 8,
         "avgspeed": "10.8",
         "_deepnote_index_column": 6
        },
        {
         "station": 1,
         "date": "2007-05-05",
         "tavg": "60",
         "dewpoint": 38,
         "wetbulb": "49",
         "codesum": "moderate",
         "depth": "0",
         "water1": "M",
         "snowfall": "0.0",
         "preciptotal": "  T",
         "stnpressure": "29.40",
         "sealevel": "30.10",
         "resultspeed": 11.7,
         "resultdir": 7,
         "avgspeed": "12.0",
         "_deepnote_index_column": 8
        }
       ],
       "rows_bottom": null
      },
      "text/plain": "   station        date tavg  dewpoint wetbulb   codesum depth water1 snowfall  \\\n0        1  2007-05-01   67        51      56  moderate     0      M      0.0   \n2        1  2007-05-02   51        42      47        BR     0      M      0.0   \n4        1  2007-05-03   56        40      48  moderate     0      M      0.0   \n6        1  2007-05-04   58        41      50        RA     0      M      0.0   \n8        1  2007-05-05   60        38      49  moderate     0      M      0.0   \n\n  preciptotal stnpressure sealevel  resultspeed  resultdir avgspeed  \n0        0.00       29.10    29.82          1.7         27      9.2  \n2        0.00       29.38    30.09         13.0          4     13.4  \n4        0.00       29.39    30.12         11.7          7     11.9  \n6           T       29.31    30.05         10.4          8     10.8  \n8           T       29.40    30.10         11.7          7     12.0  ",
      "text/html": "<div>\n<style scoped>\n    .dataframe tbody tr th:only-of-type {\n        vertical-align: middle;\n    }\n\n    .dataframe tbody tr th {\n        vertical-align: top;\n    }\n\n    .dataframe thead th {\n        text-align: right;\n    }\n</style>\n<table border=\"1\" class=\"dataframe\">\n  <thead>\n    <tr style=\"text-align: right;\">\n      <th></th>\n      <th>station</th>\n      <th>date</th>\n      <th>tavg</th>\n      <th>dewpoint</th>\n      <th>wetbulb</th>\n      <th>codesum</th>\n      <th>depth</th>\n      <th>water1</th>\n      <th>snowfall</th>\n      <th>preciptotal</th>\n      <th>stnpressure</th>\n      <th>sealevel</th>\n      <th>resultspeed</th>\n      <th>resultdir</th>\n      <th>avgspeed</th>\n    </tr>\n  </thead>\n  <tbody>\n    <tr>\n      <th>0</th>\n      <td>1</td>\n      <td>2007-05-01</td>\n      <td>67</td>\n      <td>51</td>\n      <td>56</td>\n      <td>moderate</td>\n      <td>0</td>\n      <td>M</td>\n      <td>0.0</td>\n      <td>0.00</td>\n      <td>29.10</td>\n      <td>29.82</td>\n      <td>1.7</td>\n      <td>27</td>\n      <td>9.2</td>\n    </tr>\n    <tr>\n      <th>2</th>\n      <td>1</td>\n      <td>2007-05-02</td>\n      <td>51</td>\n      <td>42</td>\n      <td>47</td>\n      <td>BR</td>\n      <td>0</td>\n      <td>M</td>\n      <td>0.0</td>\n      <td>0.00</td>\n      <td>29.38</td>\n      <td>30.09</td>\n      <td>13.0</td>\n      <td>4</td>\n      <td>13.4</td>\n    </tr>\n    <tr>\n      <th>4</th>\n      <td>1</td>\n      <td>2007-05-03</td>\n      <td>56</td>\n      <td>40</td>\n      <td>48</td>\n      <td>moderate</td>\n      <td>0</td>\n      <td>M</td>\n      <td>0.0</td>\n      <td>0.00</td>\n      <td>29.39</td>\n      <td>30.12</td>\n      <td>11.7</td>\n      <td>7</td>\n      <td>11.9</td>\n    </tr>\n    <tr>\n      <th>6</th>\n      <td>1</td>\n      <td>2007-05-04</td>\n      <td>58</td>\n      <td>41</td>\n      <td>50</td>\n      <td>RA</td>\n      <td>0</td>\n      <td>M</td>\n      <td>0.0</td>\n      <td>T</td>\n      <td>29.31</td>\n      <td>30.05</td>\n      <td>10.4</td>\n      <td>8</td>\n      <td>10.8</td>\n    </tr>\n    <tr>\n      <th>8</th>\n      <td>1</td>\n      <td>2007-05-05</td>\n      <td>60</td>\n      <td>38</td>\n      <td>49</td>\n      <td>moderate</td>\n      <td>0</td>\n      <td>M</td>\n      <td>0.0</td>\n      <td>T</td>\n      <td>29.40</td>\n      <td>30.10</td>\n      <td>11.7</td>\n      <td>7</td>\n      <td>12.0</td>\n    </tr>\n  </tbody>\n</table>\n</div>"
     },
     "metadata": {}
    }
   ]
  },
  {
   "cell_type": "code",
   "metadata": {
    "cell_id": "00034-a8c6bf8a-8c51-41d3-8aa8-0685d63ec00c",
    "deepnote_to_be_reexecuted": false,
    "source_hash": "668d670",
    "execution_start": 1637218220451,
    "execution_millis": 1170,
    "deepnote_output_heights": [
     40.375
    ],
    "deepnote_cell_type": "code"
   },
   "source": "# check for the the number of '0' values in depth column\nweather_df['depth'].value_counts()",
   "execution_count": null,
   "outputs": [
    {
     "output_type": "execute_result",
     "execution_count": 30,
     "data": {
      "text/plain": "0    1469\nName: depth, dtype: int64"
     },
     "metadata": {}
    }
   ]
  },
  {
   "cell_type": "code",
   "metadata": {
    "deepnote_to_be_reexecuted": false,
    "execution_millis": 0,
    "execution_start": 1637218220460,
    "source_hash": "8787e05c",
    "tags": [],
    "cell_id": "00035-62737a64-7a4b-446a-b443-675db903b739",
    "deepnote_cell_type": "code"
   },
   "source": "# we can drop the 'depth' since all the rows have the value '0'\nweather_df.drop(['depth'], axis=1, inplace=True)",
   "execution_count": null,
   "outputs": []
  },
  {
   "cell_type": "code",
   "metadata": {
    "deepnote_to_be_reexecuted": false,
    "execution_millis": 13,
    "execution_start": 1637218220475,
    "source_hash": "a5edcdfd",
    "tags": [],
    "cell_id": "00036-9335a795-32bf-42f7-8870-5bcea7ced593",
    "deepnote_output_heights": [
     21.1875
    ],
    "deepnote_cell_type": "code"
   },
   "source": "# check for unique values in 'water1' column\nweather_df['water1'].unique()",
   "execution_count": null,
   "outputs": [
    {
     "output_type": "execute_result",
     "execution_count": 32,
     "data": {
      "text/plain": "array(['M'], dtype=object)"
     },
     "metadata": {}
    }
   ]
  },
  {
   "cell_type": "code",
   "metadata": {
    "deepnote_to_be_reexecuted": false,
    "execution_millis": 1132,
    "execution_start": 1637218220489,
    "source_hash": "44d4d6e3",
    "tags": [],
    "cell_id": "00037-f2ac0007-995c-4f4b-ab9f-5ddfad786b44",
    "deepnote_cell_type": "code"
   },
   "source": "# since the entire column consists of 'M' (missing values), we will drop the 'water1' column as well\nweather_df.drop(['water1'], axis=1, inplace=True)",
   "execution_count": null,
   "outputs": []
  },
  {
   "cell_type": "code",
   "metadata": {
    "deepnote_to_be_reexecuted": false,
    "execution_millis": 1119,
    "execution_start": 1637218220503,
    "source_hash": "d006d444",
    "tags": [],
    "cell_id": "00038-57bd2cd0-67c0-4118-9c80-fe246c8e964e",
    "deepnote_output_heights": [
     78.75
    ],
    "deepnote_cell_type": "code"
   },
   "source": "# check for values counts in 'snowfall' column\nweather_df['snowfall'].value_counts()",
   "execution_count": null,
   "outputs": [
    {
     "output_type": "execute_result",
     "execution_count": 34,
     "data": {
      "text/plain": "0.0    1456\n  T      12\n0.1       1\nName: snowfall, dtype: int64"
     },
     "metadata": {}
    }
   ]
  },
  {
   "cell_type": "code",
   "metadata": {
    "deepnote_to_be_reexecuted": false,
    "execution_millis": 1,
    "execution_start": 1637218220522,
    "source_hash": "2be13c9d",
    "tags": [],
    "cell_id": "00039-4f5c8099-bd14-4eb3-bd86-ffed28381f87",
    "deepnote_cell_type": "code"
   },
   "source": "# since data was collected between May-Oct (not during winter season),\n# more than half the data is missing and just under half are 0, we drop the whole column\nweather_df.drop(['snowfall'], axis=1, inplace=True)",
   "execution_count": null,
   "outputs": []
  },
  {
   "cell_type": "code",
   "metadata": {
    "deepnote_to_be_reexecuted": false,
    "execution_millis": 1097,
    "execution_start": 1637218220525,
    "source_hash": "fc928b92",
    "tags": [],
    "cell_id": "00040-90e922b1-26fb-45f7-a847-1d4bcf987336",
    "deepnote_output_heights": [
     309
    ],
    "deepnote_cell_type": "code"
   },
   "source": "# check for unique values in 'preciptotal' column\nweather_df[\"preciptotal\"].unique()",
   "execution_count": null,
   "outputs": [
    {
     "output_type": "execute_result",
     "execution_count": 36,
     "data": {
      "text/plain": "array(['0.00', '  T', '0.13', '0.38', '0.14', '0.07', '0.02', '1.01',\n       '0.04', '0.01', '0.19', '0.39', '0.42', '0.28', '0.58', '0.05',\n       '0.16', '0.15', '0.40', '0.30', '0.43', '0.11', '1.55', '0.17',\n       '0.03', '1.43', '0.26', '1.31', '0.06', '0.29', '0.41', '0.23',\n       '0.09', '1.33', '0.91', '0.37', '2.35', '0.24', '0.34', '0.18',\n       '0.36', '0.27', '0.33', '1.28', '0.76', '0.95', '0.08', '0.12',\n       '0.48', '0.52', '0.64', '1.24', '0.20', '0.72', '0.73', '1.61',\n       '0.74', '1.05', '2.43', '2.90', '1.23', '6.64', '1.44', '0.82',\n       '0.80', '0.32', '0.67', '0.55', '1.73', '0.44', '0.45', '3.97',\n       '0.25', '0.68', '0.63', '0.35', '0.93', '0.22', '0.75', '0.89',\n       '0.21', '0.46', '1.03', '0.60', '0.81', '0.97', '1.49', '1.02',\n       '0.59', '0.87', '0.85', '0.54', '0.79', '2.79', '3.64', '0.10',\n       '0.31', '2.24', '1.06', '1.88', '6.86', '0.71', '0.70', '1.11',\n       '0.65', '1.21', '0.77', '1.34', '0.47', '1.12', '0.57', '0.51',\n       '1.09', '0.56', '1.35', '0.84', '1.48', '0.92', '0.50', '1.04',\n       '2.09', '1.26', '2.60', '2.76', '0.98', '1.58'], dtype=object)"
     },
     "metadata": {}
    }
   ]
  },
  {
   "cell_type": "code",
   "metadata": {
    "deepnote_to_be_reexecuted": false,
    "execution_millis": 0,
    "execution_start": 1637218220539,
    "source_hash": "a0d0c30a",
    "tags": [],
    "cell_id": "00041-9189575d-8f8a-4580-8092-738f6072a0cd",
    "deepnote_cell_type": "code"
   },
   "source": "# according to  NOAA documentation, T stands for Trace amount of precipitation\n# replace T with 0.005 (NEED TO COME BACK TO THIS)\nweather_df[\"preciptotal\"] = weather_df[\"preciptotal\"].replace(\"  T\",\"0.005\")",
   "execution_count": null,
   "outputs": []
  },
  {
   "cell_type": "code",
   "metadata": {
    "deepnote_to_be_reexecuted": false,
    "execution_millis": 1082,
    "execution_start": 1637218220540,
    "source_hash": "51e7da37",
    "tags": [],
    "cell_id": "00042-61b02c4a-0543-4349-a641-9d7e3d462d92",
    "deepnote_output_heights": [
     309
    ],
    "deepnote_cell_type": "code"
   },
   "source": "# check that all T replaced with 0.005\nweather_df[\"preciptotal\"].unique()",
   "execution_count": null,
   "outputs": [
    {
     "output_type": "execute_result",
     "execution_count": 38,
     "data": {
      "text/plain": "array(['0.00', '0.005', '0.13', '0.38', '0.14', '0.07', '0.02', '1.01',\n       '0.04', '0.01', '0.19', '0.39', '0.42', '0.28', '0.58', '0.05',\n       '0.16', '0.15', '0.40', '0.30', '0.43', '0.11', '1.55', '0.17',\n       '0.03', '1.43', '0.26', '1.31', '0.06', '0.29', '0.41', '0.23',\n       '0.09', '1.33', '0.91', '0.37', '2.35', '0.24', '0.34', '0.18',\n       '0.36', '0.27', '0.33', '1.28', '0.76', '0.95', '0.08', '0.12',\n       '0.48', '0.52', '0.64', '1.24', '0.20', '0.72', '0.73', '1.61',\n       '0.74', '1.05', '2.43', '2.90', '1.23', '6.64', '1.44', '0.82',\n       '0.80', '0.32', '0.67', '0.55', '1.73', '0.44', '0.45', '3.97',\n       '0.25', '0.68', '0.63', '0.35', '0.93', '0.22', '0.75', '0.89',\n       '0.21', '0.46', '1.03', '0.60', '0.81', '0.97', '1.49', '1.02',\n       '0.59', '0.87', '0.85', '0.54', '0.79', '2.79', '3.64', '0.10',\n       '0.31', '2.24', '1.06', '1.88', '6.86', '0.71', '0.70', '1.11',\n       '0.65', '1.21', '0.77', '1.34', '0.47', '1.12', '0.57', '0.51',\n       '1.09', '0.56', '1.35', '0.84', '1.48', '0.92', '0.50', '1.04',\n       '2.09', '1.26', '2.60', '2.76', '0.98', '1.58'], dtype=object)"
     },
     "metadata": {}
    }
   ]
  },
  {
   "cell_type": "code",
   "metadata": {
    "deepnote_to_be_reexecuted": false,
    "execution_millis": 0,
    "execution_start": 1637218220582,
    "source_hash": "a95c12ab",
    "tags": [],
    "cell_id": "00043-bf801b46-9ddd-496f-b9d1-b38ea78e576a",
    "deepnote_cell_type": "code"
   },
   "source": "# redefine weather_df without the rows with missing values ('M') in 'preciptotal' column\nweather_df = weather_df[weather_df.preciptotal != 'M']\nweather_df = weather_df[weather_df.stnpressure != 'M']\nweather_df = weather_df[weather_df.sealevel != 'M']",
   "execution_count": null,
   "outputs": []
  },
  {
   "cell_type": "code",
   "metadata": {
    "deepnote_to_be_reexecuted": false,
    "execution_millis": 960,
    "execution_start": 1637218220663,
    "source_hash": "ef307194",
    "tags": [],
    "cell_id": "00044-d70a122e-db99-4367-b697-305eef4cc166",
    "deepnote_output_heights": [
     21.1875
    ],
    "deepnote_cell_type": "code"
   },
   "source": "# check that there are no more missing values for the 'preciptotal' column\nweather_df['preciptotal'].isin(['M']).sum()",
   "execution_count": null,
   "outputs": [
    {
     "output_type": "execute_result",
     "execution_count": 40,
     "data": {
      "text/plain": "0"
     },
     "metadata": {}
    }
   ]
  },
  {
   "cell_type": "code",
   "metadata": {
    "deepnote_to_be_reexecuted": false,
    "execution_millis": 958,
    "execution_start": 1637218220665,
    "source_hash": "197931a",
    "tags": [],
    "cell_id": "00045-ef253c57-d818-4fdb-b8a0-764f9bd38716",
    "deepnote_output_heights": [
     21.1875
    ],
    "deepnote_cell_type": "code"
   },
   "source": "# check that there are no more missing values for the 'stnpressure' column\nweather_df['stnpressure'].isin(['M']).sum()",
   "execution_count": null,
   "outputs": [
    {
     "output_type": "execute_result",
     "execution_count": 41,
     "data": {
      "text/plain": "0"
     },
     "metadata": {}
    }
   ]
  },
  {
   "cell_type": "code",
   "metadata": {
    "deepnote_to_be_reexecuted": false,
    "execution_millis": 956,
    "execution_start": 1637218220667,
    "source_hash": "3a1cb100",
    "tags": [],
    "cell_id": "00046-28a99be5-c920-4f77-8381-2fef8f11c7ee",
    "deepnote_output_heights": [
     21.1875
    ],
    "deepnote_cell_type": "code"
   },
   "source": "# check that there are no more missing values for the 'sealevel' column\nweather_df['sealevel'].isin(['M']).sum()",
   "execution_count": null,
   "outputs": [
    {
     "output_type": "execute_result",
     "execution_count": 42,
     "data": {
      "text/plain": "0"
     },
     "metadata": {}
    }
   ]
  },
  {
   "cell_type": "code",
   "metadata": {
    "deepnote_to_be_reexecuted": false,
    "execution_millis": 956,
    "execution_start": 1637218220668,
    "source_hash": "3f6d225a",
    "tags": [],
    "cell_id": "00047-9e4f9258-e7f2-42ac-bfc4-b29d166b063b",
    "deepnote_cell_type": "code"
   },
   "source": "#see sample output of the updated weather dataframe\nweather_df.head()",
   "execution_count": null,
   "outputs": [
    {
     "output_type": "execute_result",
     "execution_count": 43,
     "data": {
      "application/vnd.deepnote.dataframe.v2+json": {
       "row_count": 5,
       "column_count": 12,
       "columns": [
        {
         "name": "station",
         "dtype": "int64",
         "stats": {
          "unique_count": 1,
          "nan_count": 0,
          "min": "1",
          "max": "1",
          "histogram": [
           {
            "bin_start": 0.5,
            "bin_end": 0.6,
            "count": 0
           },
           {
            "bin_start": 0.6,
            "bin_end": 0.7,
            "count": 0
           },
           {
            "bin_start": 0.7,
            "bin_end": 0.8,
            "count": 0
           },
           {
            "bin_start": 0.8,
            "bin_end": 0.9,
            "count": 0
           },
           {
            "bin_start": 0.9,
            "bin_end": 1,
            "count": 0
           },
           {
            "bin_start": 1,
            "bin_end": 1.1,
            "count": 5
           },
           {
            "bin_start": 1.1,
            "bin_end": 1.2000000000000002,
            "count": 0
           },
           {
            "bin_start": 1.2000000000000002,
            "bin_end": 1.3,
            "count": 0
           },
           {
            "bin_start": 1.3,
            "bin_end": 1.4,
            "count": 0
           },
           {
            "bin_start": 1.4,
            "bin_end": 1.5,
            "count": 0
           }
          ]
         }
        },
        {
         "name": "date",
         "dtype": "object",
         "stats": {
          "unique_count": 5,
          "nan_count": 0,
          "categories": [
           {
            "name": "2007-05-01",
            "count": 1
           },
           {
            "name": "2007-05-02",
            "count": 1
           },
           {
            "name": "3 others",
            "count": 3
           }
          ]
         }
        },
        {
         "name": "tavg",
         "dtype": "object",
         "stats": {
          "unique_count": 5,
          "nan_count": 0,
          "categories": [
           {
            "name": "67",
            "count": 1
           },
           {
            "name": "51",
            "count": 1
           },
           {
            "name": "3 others",
            "count": 3
           }
          ]
         }
        },
        {
         "name": "dewpoint",
         "dtype": "int64",
         "stats": {
          "unique_count": 5,
          "nan_count": 0,
          "min": "38",
          "max": "51",
          "histogram": [
           {
            "bin_start": 38,
            "bin_end": 39.3,
            "count": 1
           },
           {
            "bin_start": 39.3,
            "bin_end": 40.6,
            "count": 1
           },
           {
            "bin_start": 40.6,
            "bin_end": 41.9,
            "count": 1
           },
           {
            "bin_start": 41.9,
            "bin_end": 43.2,
            "count": 1
           },
           {
            "bin_start": 43.2,
            "bin_end": 44.5,
            "count": 0
           },
           {
            "bin_start": 44.5,
            "bin_end": 45.8,
            "count": 0
           },
           {
            "bin_start": 45.8,
            "bin_end": 47.1,
            "count": 0
           },
           {
            "bin_start": 47.1,
            "bin_end": 48.4,
            "count": 0
           },
           {
            "bin_start": 48.4,
            "bin_end": 49.7,
            "count": 0
           },
           {
            "bin_start": 49.7,
            "bin_end": 51,
            "count": 1
           }
          ]
         }
        },
        {
         "name": "wetbulb",
         "dtype": "object",
         "stats": {
          "unique_count": 5,
          "nan_count": 0,
          "categories": [
           {
            "name": "56",
            "count": 1
           },
           {
            "name": "47",
            "count": 1
           },
           {
            "name": "3 others",
            "count": 3
           }
          ]
         }
        },
        {
         "name": "codesum",
         "dtype": "object",
         "stats": {
          "unique_count": 3,
          "nan_count": 0,
          "categories": [
           {
            "name": "moderate",
            "count": 3
           },
           {
            "name": "BR",
            "count": 1
           },
           {
            "name": "RA",
            "count": 1
           }
          ]
         }
        },
        {
         "name": "preciptotal",
         "dtype": "object",
         "stats": {
          "unique_count": 2,
          "nan_count": 0,
          "categories": [
           {
            "name": "0.00",
            "count": 3
           },
           {
            "name": "0.005",
            "count": 2
           }
          ]
         }
        },
        {
         "name": "stnpressure",
         "dtype": "object",
         "stats": {
          "unique_count": 5,
          "nan_count": 0,
          "categories": [
           {
            "name": "29.10",
            "count": 1
           },
           {
            "name": "29.38",
            "count": 1
           },
           {
            "name": "3 others",
            "count": 3
           }
          ]
         }
        },
        {
         "name": "sealevel",
         "dtype": "object",
         "stats": {
          "unique_count": 5,
          "nan_count": 0,
          "categories": [
           {
            "name": "29.82",
            "count": 1
           },
           {
            "name": "30.09",
            "count": 1
           },
           {
            "name": "3 others",
            "count": 3
           }
          ]
         }
        },
        {
         "name": "resultspeed",
         "dtype": "float64",
         "stats": {
          "unique_count": 4,
          "nan_count": 0,
          "min": "1.7",
          "max": "13.0",
          "histogram": [
           {
            "bin_start": 1.7,
            "bin_end": 2.83,
            "count": 1
           },
           {
            "bin_start": 2.83,
            "bin_end": 3.96,
            "count": 0
           },
           {
            "bin_start": 3.96,
            "bin_end": 5.090000000000001,
            "count": 0
           },
           {
            "bin_start": 5.090000000000001,
            "bin_end": 6.220000000000001,
            "count": 0
           },
           {
            "bin_start": 6.220000000000001,
            "bin_end": 7.3500000000000005,
            "count": 0
           },
           {
            "bin_start": 7.3500000000000005,
            "bin_end": 8.48,
            "count": 0
           },
           {
            "bin_start": 8.48,
            "bin_end": 9.610000000000001,
            "count": 0
           },
           {
            "bin_start": 9.610000000000001,
            "bin_end": 10.74,
            "count": 1
           },
           {
            "bin_start": 10.74,
            "bin_end": 11.870000000000001,
            "count": 2
           },
           {
            "bin_start": 11.870000000000001,
            "bin_end": 13,
            "count": 1
           }
          ]
         }
        },
        {
         "name": "resultdir",
         "dtype": "int64",
         "stats": {
          "unique_count": 4,
          "nan_count": 0,
          "min": "4",
          "max": "27",
          "histogram": [
           {
            "bin_start": 4,
            "bin_end": 6.3,
            "count": 1
           },
           {
            "bin_start": 6.3,
            "bin_end": 8.6,
            "count": 3
           },
           {
            "bin_start": 8.6,
            "bin_end": 10.899999999999999,
            "count": 0
           },
           {
            "bin_start": 10.899999999999999,
            "bin_end": 13.2,
            "count": 0
           },
           {
            "bin_start": 13.2,
            "bin_end": 15.5,
            "count": 0
           },
           {
            "bin_start": 15.5,
            "bin_end": 17.799999999999997,
            "count": 0
           },
           {
            "bin_start": 17.799999999999997,
            "bin_end": 20.099999999999998,
            "count": 0
           },
           {
            "bin_start": 20.099999999999998,
            "bin_end": 22.4,
            "count": 0
           },
           {
            "bin_start": 22.4,
            "bin_end": 24.7,
            "count": 0
           },
           {
            "bin_start": 24.7,
            "bin_end": 27,
            "count": 1
           }
          ]
         }
        },
        {
         "name": "avgspeed",
         "dtype": "object",
         "stats": {
          "unique_count": 5,
          "nan_count": 0,
          "categories": [
           {
            "name": "9.2",
            "count": 1
           },
           {
            "name": "13.4",
            "count": 1
           },
           {
            "name": "3 others",
            "count": 3
           }
          ]
         }
        },
        {
         "name": "_deepnote_index_column",
         "dtype": "int64"
        }
       ],
       "rows_top": [
        {
         "station": 1,
         "date": "2007-05-01",
         "tavg": "67",
         "dewpoint": 51,
         "wetbulb": "56",
         "codesum": "moderate",
         "preciptotal": "0.00",
         "stnpressure": "29.10",
         "sealevel": "29.82",
         "resultspeed": 1.7,
         "resultdir": 27,
         "avgspeed": "9.2",
         "_deepnote_index_column": 0
        },
        {
         "station": 1,
         "date": "2007-05-02",
         "tavg": "51",
         "dewpoint": 42,
         "wetbulb": "47",
         "codesum": "BR",
         "preciptotal": "0.00",
         "stnpressure": "29.38",
         "sealevel": "30.09",
         "resultspeed": 13,
         "resultdir": 4,
         "avgspeed": "13.4",
         "_deepnote_index_column": 2
        },
        {
         "station": 1,
         "date": "2007-05-03",
         "tavg": "56",
         "dewpoint": 40,
         "wetbulb": "48",
         "codesum": "moderate",
         "preciptotal": "0.00",
         "stnpressure": "29.39",
         "sealevel": "30.12",
         "resultspeed": 11.7,
         "resultdir": 7,
         "avgspeed": "11.9",
         "_deepnote_index_column": 4
        },
        {
         "station": 1,
         "date": "2007-05-04",
         "tavg": "58",
         "dewpoint": 41,
         "wetbulb": "50",
         "codesum": "RA",
         "preciptotal": "0.005",
         "stnpressure": "29.31",
         "sealevel": "30.05",
         "resultspeed": 10.4,
         "resultdir": 8,
         "avgspeed": "10.8",
         "_deepnote_index_column": 6
        },
        {
         "station": 1,
         "date": "2007-05-05",
         "tavg": "60",
         "dewpoint": 38,
         "wetbulb": "49",
         "codesum": "moderate",
         "preciptotal": "0.005",
         "stnpressure": "29.40",
         "sealevel": "30.10",
         "resultspeed": 11.7,
         "resultdir": 7,
         "avgspeed": "12.0",
         "_deepnote_index_column": 8
        }
       ],
       "rows_bottom": null
      },
      "text/plain": "   station        date tavg  dewpoint wetbulb   codesum preciptotal  \\\n0        1  2007-05-01   67        51      56  moderate        0.00   \n2        1  2007-05-02   51        42      47        BR        0.00   \n4        1  2007-05-03   56        40      48  moderate        0.00   \n6        1  2007-05-04   58        41      50        RA       0.005   \n8        1  2007-05-05   60        38      49  moderate       0.005   \n\n  stnpressure sealevel  resultspeed  resultdir avgspeed  \n0       29.10    29.82          1.7         27      9.2  \n2       29.38    30.09         13.0          4     13.4  \n4       29.39    30.12         11.7          7     11.9  \n6       29.31    30.05         10.4          8     10.8  \n8       29.40    30.10         11.7          7     12.0  ",
      "text/html": "<div>\n<style scoped>\n    .dataframe tbody tr th:only-of-type {\n        vertical-align: middle;\n    }\n\n    .dataframe tbody tr th {\n        vertical-align: top;\n    }\n\n    .dataframe thead th {\n        text-align: right;\n    }\n</style>\n<table border=\"1\" class=\"dataframe\">\n  <thead>\n    <tr style=\"text-align: right;\">\n      <th></th>\n      <th>station</th>\n      <th>date</th>\n      <th>tavg</th>\n      <th>dewpoint</th>\n      <th>wetbulb</th>\n      <th>codesum</th>\n      <th>preciptotal</th>\n      <th>stnpressure</th>\n      <th>sealevel</th>\n      <th>resultspeed</th>\n      <th>resultdir</th>\n      <th>avgspeed</th>\n    </tr>\n  </thead>\n  <tbody>\n    <tr>\n      <th>0</th>\n      <td>1</td>\n      <td>2007-05-01</td>\n      <td>67</td>\n      <td>51</td>\n      <td>56</td>\n      <td>moderate</td>\n      <td>0.00</td>\n      <td>29.10</td>\n      <td>29.82</td>\n      <td>1.7</td>\n      <td>27</td>\n      <td>9.2</td>\n    </tr>\n    <tr>\n      <th>2</th>\n      <td>1</td>\n      <td>2007-05-02</td>\n      <td>51</td>\n      <td>42</td>\n      <td>47</td>\n      <td>BR</td>\n      <td>0.00</td>\n      <td>29.38</td>\n      <td>30.09</td>\n      <td>13.0</td>\n      <td>4</td>\n      <td>13.4</td>\n    </tr>\n    <tr>\n      <th>4</th>\n      <td>1</td>\n      <td>2007-05-03</td>\n      <td>56</td>\n      <td>40</td>\n      <td>48</td>\n      <td>moderate</td>\n      <td>0.00</td>\n      <td>29.39</td>\n      <td>30.12</td>\n      <td>11.7</td>\n      <td>7</td>\n      <td>11.9</td>\n    </tr>\n    <tr>\n      <th>6</th>\n      <td>1</td>\n      <td>2007-05-04</td>\n      <td>58</td>\n      <td>41</td>\n      <td>50</td>\n      <td>RA</td>\n      <td>0.005</td>\n      <td>29.31</td>\n      <td>30.05</td>\n      <td>10.4</td>\n      <td>8</td>\n      <td>10.8</td>\n    </tr>\n    <tr>\n      <th>8</th>\n      <td>1</td>\n      <td>2007-05-05</td>\n      <td>60</td>\n      <td>38</td>\n      <td>49</td>\n      <td>moderate</td>\n      <td>0.005</td>\n      <td>29.40</td>\n      <td>30.10</td>\n      <td>11.7</td>\n      <td>7</td>\n      <td>12.0</td>\n    </tr>\n  </tbody>\n</table>\n</div>"
     },
     "metadata": {}
    }
   ]
  },
  {
   "cell_type": "code",
   "metadata": {
    "deepnote_to_be_reexecuted": false,
    "execution_millis": 929,
    "execution_start": 1637218220695,
    "source_hash": "b281223f",
    "tags": [],
    "cell_id": "00048-44d39376-f92b-4b6d-8233-cb34721faeb2",
    "deepnote_cell_type": "code"
   },
   "source": "#see information of the updated weather dataframe\nweather_df.info()",
   "execution_count": null,
   "outputs": [
    {
     "name": "stdout",
     "text": "<class 'pandas.core.frame.DataFrame'>\nInt64Index: 1464 entries, 0 to 2942\nData columns (total 12 columns):\n #   Column       Non-Null Count  Dtype  \n---  ------       --------------  -----  \n 0   station      1464 non-null   int64  \n 1   date         1464 non-null   object \n 2   tavg         1464 non-null   object \n 3   dewpoint     1464 non-null   int64  \n 4   wetbulb      1464 non-null   object \n 5   codesum      1464 non-null   object \n 6   preciptotal  1464 non-null   object \n 7   stnpressure  1464 non-null   object \n 8   sealevel     1464 non-null   object \n 9   resultspeed  1464 non-null   float64\n 10  resultdir    1464 non-null   int64  \n 11  avgspeed     1464 non-null   object \ndtypes: float64(1), int64(3), object(8)\nmemory usage: 148.7+ KB\n",
     "output_type": "stream"
    }
   ]
  },
  {
   "cell_type": "code",
   "metadata": {
    "deepnote_to_be_reexecuted": false,
    "execution_millis": 0,
    "execution_start": 1637218220696,
    "source_hash": "e293c6df",
    "tags": [],
    "cell_id": "00049-5a1ef40d-c193-4541-881b-7739ea1ec00f",
    "deepnote_cell_type": "code"
   },
   "source": "# convert object data types to int and float\nweather_df['tavg'] = weather_df['tavg'].astype(int)\nweather_df['wetbulb'] = weather_df['wetbulb'].astype(int)\nweather_df[\"preciptotal\"] = weather_df[\"preciptotal\"].astype(float)\nweather_df['stnpressure'] = weather_df['stnpressure'].astype(float)\nweather_df['sealevel'] = weather_df['sealevel'].astype(float)\nweather_df['avgspeed'] = weather_df['avgspeed'].astype(float)",
   "execution_count": null,
   "outputs": []
  },
  {
   "cell_type": "code",
   "metadata": {
    "deepnote_to_be_reexecuted": false,
    "execution_millis": 24,
    "execution_start": 1637218220697,
    "source_hash": "b281223f",
    "tags": [],
    "cell_id": "00050-ae8bf1da-ad49-4451-86c1-629681ecc793",
    "deepnote_cell_type": "code"
   },
   "source": "#see information of the updated weather dataframe\nweather_df.info()",
   "execution_count": null,
   "outputs": [
    {
     "name": "stdout",
     "text": "<class 'pandas.core.frame.DataFrame'>\nInt64Index: 1464 entries, 0 to 2942\nData columns (total 12 columns):\n #   Column       Non-Null Count  Dtype  \n---  ------       --------------  -----  \n 0   station      1464 non-null   int64  \n 1   date         1464 non-null   object \n 2   tavg         1464 non-null   int64  \n 3   dewpoint     1464 non-null   int64  \n 4   wetbulb      1464 non-null   int64  \n 5   codesum      1464 non-null   object \n 6   preciptotal  1464 non-null   float64\n 7   stnpressure  1464 non-null   float64\n 8   sealevel     1464 non-null   float64\n 9   resultspeed  1464 non-null   float64\n 10  resultdir    1464 non-null   int64  \n 11  avgspeed     1464 non-null   float64\ndtypes: float64(5), int64(5), object(2)\nmemory usage: 148.7+ KB\n",
     "output_type": "stream"
    }
   ]
  },
  {
   "cell_type": "code",
   "metadata": {
    "deepnote_to_be_reexecuted": false,
    "execution_millis": 902,
    "execution_start": 1637218220722,
    "source_hash": "151ac887",
    "tags": [],
    "cell_id": "00051-1b05507e-3c98-45a2-88f9-09a60d6423cc",
    "deepnote_output_heights": [
     21.1875
    ],
    "deepnote_cell_type": "code"
   },
   "source": "#see the number of rows and columns of the updated weather dataframe\nweather_df.shape",
   "execution_count": null,
   "outputs": [
    {
     "output_type": "execute_result",
     "execution_count": 47,
     "data": {
      "text/plain": "(1464, 12)"
     },
     "metadata": {}
    }
   ]
  },
  {
   "cell_type": "code",
   "metadata": {
    "deepnote_to_be_reexecuted": false,
    "execution_millis": 890,
    "execution_start": 1637218220738,
    "source_hash": "3f6d225a",
    "tags": [],
    "cell_id": "00052-8e4ded64-46e9-432b-ab2c-0dbdd38ec427",
    "deepnote_cell_type": "code"
   },
   "source": "#see sample output of the updated weather dataframe\nweather_df.head()",
   "execution_count": null,
   "outputs": [
    {
     "output_type": "execute_result",
     "execution_count": 48,
     "data": {
      "application/vnd.deepnote.dataframe.v2+json": {
       "row_count": 5,
       "column_count": 12,
       "columns": [
        {
         "name": "station",
         "dtype": "int64",
         "stats": {
          "unique_count": 1,
          "nan_count": 0,
          "min": "1",
          "max": "1",
          "histogram": [
           {
            "bin_start": 0.5,
            "bin_end": 0.6,
            "count": 0
           },
           {
            "bin_start": 0.6,
            "bin_end": 0.7,
            "count": 0
           },
           {
            "bin_start": 0.7,
            "bin_end": 0.8,
            "count": 0
           },
           {
            "bin_start": 0.8,
            "bin_end": 0.9,
            "count": 0
           },
           {
            "bin_start": 0.9,
            "bin_end": 1,
            "count": 0
           },
           {
            "bin_start": 1,
            "bin_end": 1.1,
            "count": 5
           },
           {
            "bin_start": 1.1,
            "bin_end": 1.2000000000000002,
            "count": 0
           },
           {
            "bin_start": 1.2000000000000002,
            "bin_end": 1.3,
            "count": 0
           },
           {
            "bin_start": 1.3,
            "bin_end": 1.4,
            "count": 0
           },
           {
            "bin_start": 1.4,
            "bin_end": 1.5,
            "count": 0
           }
          ]
         }
        },
        {
         "name": "date",
         "dtype": "object",
         "stats": {
          "unique_count": 5,
          "nan_count": 0,
          "categories": [
           {
            "name": "2007-05-01",
            "count": 1
           },
           {
            "name": "2007-05-02",
            "count": 1
           },
           {
            "name": "3 others",
            "count": 3
           }
          ]
         }
        },
        {
         "name": "tavg",
         "dtype": "int64",
         "stats": {
          "unique_count": 5,
          "nan_count": 0,
          "min": "51",
          "max": "67",
          "histogram": [
           {
            "bin_start": 51,
            "bin_end": 52.6,
            "count": 1
           },
           {
            "bin_start": 52.6,
            "bin_end": 54.2,
            "count": 0
           },
           {
            "bin_start": 54.2,
            "bin_end": 55.8,
            "count": 0
           },
           {
            "bin_start": 55.8,
            "bin_end": 57.4,
            "count": 1
           },
           {
            "bin_start": 57.4,
            "bin_end": 59,
            "count": 1
           },
           {
            "bin_start": 59,
            "bin_end": 60.6,
            "count": 1
           },
           {
            "bin_start": 60.6,
            "bin_end": 62.2,
            "count": 0
           },
           {
            "bin_start": 62.2,
            "bin_end": 63.8,
            "count": 0
           },
           {
            "bin_start": 63.8,
            "bin_end": 65.4,
            "count": 0
           },
           {
            "bin_start": 65.4,
            "bin_end": 67,
            "count": 1
           }
          ]
         }
        },
        {
         "name": "dewpoint",
         "dtype": "int64",
         "stats": {
          "unique_count": 5,
          "nan_count": 0,
          "min": "38",
          "max": "51",
          "histogram": [
           {
            "bin_start": 38,
            "bin_end": 39.3,
            "count": 1
           },
           {
            "bin_start": 39.3,
            "bin_end": 40.6,
            "count": 1
           },
           {
            "bin_start": 40.6,
            "bin_end": 41.9,
            "count": 1
           },
           {
            "bin_start": 41.9,
            "bin_end": 43.2,
            "count": 1
           },
           {
            "bin_start": 43.2,
            "bin_end": 44.5,
            "count": 0
           },
           {
            "bin_start": 44.5,
            "bin_end": 45.8,
            "count": 0
           },
           {
            "bin_start": 45.8,
            "bin_end": 47.1,
            "count": 0
           },
           {
            "bin_start": 47.1,
            "bin_end": 48.4,
            "count": 0
           },
           {
            "bin_start": 48.4,
            "bin_end": 49.7,
            "count": 0
           },
           {
            "bin_start": 49.7,
            "bin_end": 51,
            "count": 1
           }
          ]
         }
        },
        {
         "name": "wetbulb",
         "dtype": "int64",
         "stats": {
          "unique_count": 5,
          "nan_count": 0,
          "min": "47",
          "max": "56",
          "histogram": [
           {
            "bin_start": 47,
            "bin_end": 47.9,
            "count": 1
           },
           {
            "bin_start": 47.9,
            "bin_end": 48.8,
            "count": 1
           },
           {
            "bin_start": 48.8,
            "bin_end": 49.7,
            "count": 1
           },
           {
            "bin_start": 49.7,
            "bin_end": 50.6,
            "count": 1
           },
           {
            "bin_start": 50.6,
            "bin_end": 51.5,
            "count": 0
           },
           {
            "bin_start": 51.5,
            "bin_end": 52.4,
            "count": 0
           },
           {
            "bin_start": 52.4,
            "bin_end": 53.3,
            "count": 0
           },
           {
            "bin_start": 53.3,
            "bin_end": 54.2,
            "count": 0
           },
           {
            "bin_start": 54.2,
            "bin_end": 55.1,
            "count": 0
           },
           {
            "bin_start": 55.1,
            "bin_end": 56,
            "count": 1
           }
          ]
         }
        },
        {
         "name": "codesum",
         "dtype": "object",
         "stats": {
          "unique_count": 3,
          "nan_count": 0,
          "categories": [
           {
            "name": "moderate",
            "count": 3
           },
           {
            "name": "BR",
            "count": 1
           },
           {
            "name": "RA",
            "count": 1
           }
          ]
         }
        },
        {
         "name": "preciptotal",
         "dtype": "float64",
         "stats": {
          "unique_count": 2,
          "nan_count": 0,
          "min": "0.0",
          "max": "0.005",
          "histogram": [
           {
            "bin_start": 0,
            "bin_end": 0.0005,
            "count": 3
           },
           {
            "bin_start": 0.0005,
            "bin_end": 0.001,
            "count": 0
           },
           {
            "bin_start": 0.001,
            "bin_end": 0.0015,
            "count": 0
           },
           {
            "bin_start": 0.0015,
            "bin_end": 0.002,
            "count": 0
           },
           {
            "bin_start": 0.002,
            "bin_end": 0.0025,
            "count": 0
           },
           {
            "bin_start": 0.0025,
            "bin_end": 0.003,
            "count": 0
           },
           {
            "bin_start": 0.003,
            "bin_end": 0.0035,
            "count": 0
           },
           {
            "bin_start": 0.0035,
            "bin_end": 0.004,
            "count": 0
           },
           {
            "bin_start": 0.004,
            "bin_end": 0.0045000000000000005,
            "count": 0
           },
           {
            "bin_start": 0.0045000000000000005,
            "bin_end": 0.005,
            "count": 2
           }
          ]
         }
        },
        {
         "name": "stnpressure",
         "dtype": "float64",
         "stats": {
          "unique_count": 5,
          "nan_count": 0,
          "min": "29.1",
          "max": "29.4",
          "histogram": [
           {
            "bin_start": 29.1,
            "bin_end": 29.130000000000003,
            "count": 1
           },
           {
            "bin_start": 29.130000000000003,
            "bin_end": 29.16,
            "count": 0
           },
           {
            "bin_start": 29.16,
            "bin_end": 29.19,
            "count": 0
           },
           {
            "bin_start": 29.19,
            "bin_end": 29.22,
            "count": 0
           },
           {
            "bin_start": 29.22,
            "bin_end": 29.25,
            "count": 0
           },
           {
            "bin_start": 29.25,
            "bin_end": 29.28,
            "count": 0
           },
           {
            "bin_start": 29.28,
            "bin_end": 29.31,
            "count": 0
           },
           {
            "bin_start": 29.31,
            "bin_end": 29.34,
            "count": 1
           },
           {
            "bin_start": 29.34,
            "bin_end": 29.369999999999997,
            "count": 0
           },
           {
            "bin_start": 29.369999999999997,
            "bin_end": 29.4,
            "count": 3
           }
          ]
         }
        },
        {
         "name": "sealevel",
         "dtype": "float64",
         "stats": {
          "unique_count": 5,
          "nan_count": 0,
          "min": "29.82",
          "max": "30.12",
          "histogram": [
           {
            "bin_start": 29.82,
            "bin_end": 29.85,
            "count": 1
           },
           {
            "bin_start": 29.85,
            "bin_end": 29.88,
            "count": 0
           },
           {
            "bin_start": 29.88,
            "bin_end": 29.91,
            "count": 0
           },
           {
            "bin_start": 29.91,
            "bin_end": 29.94,
            "count": 0
           },
           {
            "bin_start": 29.94,
            "bin_end": 29.97,
            "count": 0
           },
           {
            "bin_start": 29.97,
            "bin_end": 30,
            "count": 0
           },
           {
            "bin_start": 30,
            "bin_end": 30.03,
            "count": 0
           },
           {
            "bin_start": 30.03,
            "bin_end": 30.060000000000002,
            "count": 1
           },
           {
            "bin_start": 30.060000000000002,
            "bin_end": 30.09,
            "count": 0
           },
           {
            "bin_start": 30.09,
            "bin_end": 30.12,
            "count": 3
           }
          ]
         }
        },
        {
         "name": "resultspeed",
         "dtype": "float64",
         "stats": {
          "unique_count": 4,
          "nan_count": 0,
          "min": "1.7",
          "max": "13.0",
          "histogram": [
           {
            "bin_start": 1.7,
            "bin_end": 2.83,
            "count": 1
           },
           {
            "bin_start": 2.83,
            "bin_end": 3.96,
            "count": 0
           },
           {
            "bin_start": 3.96,
            "bin_end": 5.090000000000001,
            "count": 0
           },
           {
            "bin_start": 5.090000000000001,
            "bin_end": 6.220000000000001,
            "count": 0
           },
           {
            "bin_start": 6.220000000000001,
            "bin_end": 7.3500000000000005,
            "count": 0
           },
           {
            "bin_start": 7.3500000000000005,
            "bin_end": 8.48,
            "count": 0
           },
           {
            "bin_start": 8.48,
            "bin_end": 9.610000000000001,
            "count": 0
           },
           {
            "bin_start": 9.610000000000001,
            "bin_end": 10.74,
            "count": 1
           },
           {
            "bin_start": 10.74,
            "bin_end": 11.870000000000001,
            "count": 2
           },
           {
            "bin_start": 11.870000000000001,
            "bin_end": 13,
            "count": 1
           }
          ]
         }
        },
        {
         "name": "resultdir",
         "dtype": "int64",
         "stats": {
          "unique_count": 4,
          "nan_count": 0,
          "min": "4",
          "max": "27",
          "histogram": [
           {
            "bin_start": 4,
            "bin_end": 6.3,
            "count": 1
           },
           {
            "bin_start": 6.3,
            "bin_end": 8.6,
            "count": 3
           },
           {
            "bin_start": 8.6,
            "bin_end": 10.899999999999999,
            "count": 0
           },
           {
            "bin_start": 10.899999999999999,
            "bin_end": 13.2,
            "count": 0
           },
           {
            "bin_start": 13.2,
            "bin_end": 15.5,
            "count": 0
           },
           {
            "bin_start": 15.5,
            "bin_end": 17.799999999999997,
            "count": 0
           },
           {
            "bin_start": 17.799999999999997,
            "bin_end": 20.099999999999998,
            "count": 0
           },
           {
            "bin_start": 20.099999999999998,
            "bin_end": 22.4,
            "count": 0
           },
           {
            "bin_start": 22.4,
            "bin_end": 24.7,
            "count": 0
           },
           {
            "bin_start": 24.7,
            "bin_end": 27,
            "count": 1
           }
          ]
         }
        },
        {
         "name": "avgspeed",
         "dtype": "float64",
         "stats": {
          "unique_count": 5,
          "nan_count": 0,
          "min": "9.2",
          "max": "13.4",
          "histogram": [
           {
            "bin_start": 9.2,
            "bin_end": 9.62,
            "count": 1
           },
           {
            "bin_start": 9.62,
            "bin_end": 10.04,
            "count": 0
           },
           {
            "bin_start": 10.04,
            "bin_end": 10.459999999999999,
            "count": 0
           },
           {
            "bin_start": 10.459999999999999,
            "bin_end": 10.879999999999999,
            "count": 1
           },
           {
            "bin_start": 10.879999999999999,
            "bin_end": 11.3,
            "count": 0
           },
           {
            "bin_start": 11.3,
            "bin_end": 11.719999999999999,
            "count": 0
           },
           {
            "bin_start": 11.719999999999999,
            "bin_end": 12.14,
            "count": 2
           },
           {
            "bin_start": 12.14,
            "bin_end": 12.56,
            "count": 0
           },
           {
            "bin_start": 12.56,
            "bin_end": 12.98,
            "count": 0
           },
           {
            "bin_start": 12.98,
            "bin_end": 13.4,
            "count": 1
           }
          ]
         }
        },
        {
         "name": "_deepnote_index_column",
         "dtype": "int64"
        }
       ],
       "rows_top": [
        {
         "station": 1,
         "date": "2007-05-01",
         "tavg": 67,
         "dewpoint": 51,
         "wetbulb": 56,
         "codesum": "moderate",
         "preciptotal": 0,
         "stnpressure": 29.1,
         "sealevel": 29.82,
         "resultspeed": 1.7,
         "resultdir": 27,
         "avgspeed": 9.2,
         "_deepnote_index_column": 0
        },
        {
         "station": 1,
         "date": "2007-05-02",
         "tavg": 51,
         "dewpoint": 42,
         "wetbulb": 47,
         "codesum": "BR",
         "preciptotal": 0,
         "stnpressure": 29.38,
         "sealevel": 30.09,
         "resultspeed": 13,
         "resultdir": 4,
         "avgspeed": 13.4,
         "_deepnote_index_column": 2
        },
        {
         "station": 1,
         "date": "2007-05-03",
         "tavg": 56,
         "dewpoint": 40,
         "wetbulb": 48,
         "codesum": "moderate",
         "preciptotal": 0,
         "stnpressure": 29.39,
         "sealevel": 30.12,
         "resultspeed": 11.7,
         "resultdir": 7,
         "avgspeed": 11.9,
         "_deepnote_index_column": 4
        },
        {
         "station": 1,
         "date": "2007-05-04",
         "tavg": 58,
         "dewpoint": 41,
         "wetbulb": 50,
         "codesum": "RA",
         "preciptotal": 0.005,
         "stnpressure": 29.31,
         "sealevel": 30.05,
         "resultspeed": 10.4,
         "resultdir": 8,
         "avgspeed": 10.8,
         "_deepnote_index_column": 6
        },
        {
         "station": 1,
         "date": "2007-05-05",
         "tavg": 60,
         "dewpoint": 38,
         "wetbulb": 49,
         "codesum": "moderate",
         "preciptotal": 0.005,
         "stnpressure": 29.4,
         "sealevel": 30.1,
         "resultspeed": 11.7,
         "resultdir": 7,
         "avgspeed": 12,
         "_deepnote_index_column": 8
        }
       ],
       "rows_bottom": null
      },
      "text/plain": "   station        date  tavg  dewpoint  wetbulb   codesum  preciptotal  \\\n0        1  2007-05-01    67        51       56  moderate        0.000   \n2        1  2007-05-02    51        42       47        BR        0.000   \n4        1  2007-05-03    56        40       48  moderate        0.000   \n6        1  2007-05-04    58        41       50        RA        0.005   \n8        1  2007-05-05    60        38       49  moderate        0.005   \n\n   stnpressure  sealevel  resultspeed  resultdir  avgspeed  \n0        29.10     29.82          1.7         27       9.2  \n2        29.38     30.09         13.0          4      13.4  \n4        29.39     30.12         11.7          7      11.9  \n6        29.31     30.05         10.4          8      10.8  \n8        29.40     30.10         11.7          7      12.0  ",
      "text/html": "<div>\n<style scoped>\n    .dataframe tbody tr th:only-of-type {\n        vertical-align: middle;\n    }\n\n    .dataframe tbody tr th {\n        vertical-align: top;\n    }\n\n    .dataframe thead th {\n        text-align: right;\n    }\n</style>\n<table border=\"1\" class=\"dataframe\">\n  <thead>\n    <tr style=\"text-align: right;\">\n      <th></th>\n      <th>station</th>\n      <th>date</th>\n      <th>tavg</th>\n      <th>dewpoint</th>\n      <th>wetbulb</th>\n      <th>codesum</th>\n      <th>preciptotal</th>\n      <th>stnpressure</th>\n      <th>sealevel</th>\n      <th>resultspeed</th>\n      <th>resultdir</th>\n      <th>avgspeed</th>\n    </tr>\n  </thead>\n  <tbody>\n    <tr>\n      <th>0</th>\n      <td>1</td>\n      <td>2007-05-01</td>\n      <td>67</td>\n      <td>51</td>\n      <td>56</td>\n      <td>moderate</td>\n      <td>0.000</td>\n      <td>29.10</td>\n      <td>29.82</td>\n      <td>1.7</td>\n      <td>27</td>\n      <td>9.2</td>\n    </tr>\n    <tr>\n      <th>2</th>\n      <td>1</td>\n      <td>2007-05-02</td>\n      <td>51</td>\n      <td>42</td>\n      <td>47</td>\n      <td>BR</td>\n      <td>0.000</td>\n      <td>29.38</td>\n      <td>30.09</td>\n      <td>13.0</td>\n      <td>4</td>\n      <td>13.4</td>\n    </tr>\n    <tr>\n      <th>4</th>\n      <td>1</td>\n      <td>2007-05-03</td>\n      <td>56</td>\n      <td>40</td>\n      <td>48</td>\n      <td>moderate</td>\n      <td>0.000</td>\n      <td>29.39</td>\n      <td>30.12</td>\n      <td>11.7</td>\n      <td>7</td>\n      <td>11.9</td>\n    </tr>\n    <tr>\n      <th>6</th>\n      <td>1</td>\n      <td>2007-05-04</td>\n      <td>58</td>\n      <td>41</td>\n      <td>50</td>\n      <td>RA</td>\n      <td>0.005</td>\n      <td>29.31</td>\n      <td>30.05</td>\n      <td>10.4</td>\n      <td>8</td>\n      <td>10.8</td>\n    </tr>\n    <tr>\n      <th>8</th>\n      <td>1</td>\n      <td>2007-05-05</td>\n      <td>60</td>\n      <td>38</td>\n      <td>49</td>\n      <td>moderate</td>\n      <td>0.005</td>\n      <td>29.40</td>\n      <td>30.10</td>\n      <td>11.7</td>\n      <td>7</td>\n      <td>12.0</td>\n    </tr>\n  </tbody>\n</table>\n</div>"
     },
     "metadata": {}
    }
   ]
  },
  {
   "cell_type": "markdown",
   "source": "## combined_df",
   "metadata": {
    "is_collapsed": false,
    "tags": [],
    "cell_id": "00053-575a5328-23b3-49dc-9d19-b272d2f03198",
    "deepnote_cell_type": "text-cell-h2"
   }
  },
  {
   "cell_type": "code",
   "metadata": {
    "cell_id": "00054-a44717c4-cd27-4f4f-9661-65ebdcf5c931",
    "deepnote_to_be_reexecuted": false,
    "source_hash": "a3ac389b",
    "execution_start": 1637218220800,
    "execution_millis": 1,
    "deepnote_cell_type": "code"
   },
   "source": "#see the number of rows and columns of the train and weather dataframe before combining\nprint(f'train_df: {train_df.shape}')\nprint(f'weather_df: {weather_df.shape}')",
   "execution_count": null,
   "outputs": [
    {
     "name": "stdout",
     "text": "train_df: (9693, 12)\nweather_df: (1464, 12)\n",
     "output_type": "stream"
    }
   ]
  },
  {
   "cell_type": "markdown",
   "source": "There are 9693 rows in train_df and 1464 rows in weather_df after removing station 2. As there are duplicated dates in train_df for the mosquito species column, doing an inner merge will cause a huge loss of data (from 9k rows to 1.4k row). \n\nTherefore, we will perform an outer merge, followed by dropping null values caused by the difference in rows.",
   "metadata": {
    "cell_id": "00055-97f96e09-461a-4d4a-a06e-9468dccba97a",
    "deepnote_cell_type": "markdown"
   }
  },
  {
   "cell_type": "code",
   "metadata": {
    "deepnote_to_be_reexecuted": false,
    "execution_millis": 827,
    "execution_start": 1637218220802,
    "source_hash": "57aa9a50",
    "tags": [],
    "cell_id": "00056-b761a97c-09f2-4428-ac74-5d179f67f2ff",
    "deepnote_cell_type": "code"
   },
   "source": "# outer merge train_df and weather_df\ncombined_df = pd.merge(left=train_df,right=weather_df,on=\"date\",how=\"outer\")",
   "execution_count": null,
   "outputs": []
  },
  {
   "cell_type": "code",
   "metadata": {
    "deepnote_to_be_reexecuted": false,
    "execution_millis": 788,
    "execution_start": 1637218220841,
    "source_hash": "fef70421",
    "tags": [],
    "cell_id": "00057-89d8ab76-3a16-4939-a209-c6755b5ef300",
    "deepnote_output_heights": [
     462.5
    ],
    "deepnote_cell_type": "code"
   },
   "source": "# check number of null values in combined_df\ncombined_df.isnull().sum()",
   "execution_count": null,
   "outputs": [
    {
     "output_type": "execute_result",
     "execution_count": 51,
     "data": {
      "text/plain": "date                         0\naddress                   1370\nspecies                   1370\nblock                     1370\nstreet                    1370\ntrap                      1370\naddressnumberandstreet    1370\nlatitude                  1370\nlongitude                 1370\naddressaccuracy           1370\nnummosquitos              1370\nwnvpresent                1370\nstation                     92\ntavg                        92\ndewpoint                    92\nwetbulb                     92\ncodesum                     92\npreciptotal                 92\nstnpressure                 92\nsealevel                    92\nresultspeed                 92\nresultdir                   92\navgspeed                    92\ndtype: int64"
     },
     "metadata": {}
    }
   ]
  },
  {
   "cell_type": "code",
   "metadata": {
    "deepnote_to_be_reexecuted": false,
    "execution_millis": 1,
    "execution_start": 1637218220873,
    "source_hash": "9886f794",
    "tags": [],
    "cell_id": "00058-f3e14ecb-5d06-4354-912d-9a96049206e0",
    "deepnote_cell_type": "code"
   },
   "source": "# drop rows with null values\ncombined_df = combined_df.dropna()",
   "execution_count": null,
   "outputs": []
  },
  {
   "cell_type": "code",
   "metadata": {
    "deepnote_to_be_reexecuted": false,
    "execution_millis": 755,
    "execution_start": 1637218220875,
    "source_hash": "93286d56",
    "tags": [],
    "cell_id": "00059-4168faff-c319-4c9d-8ca6-1a3f7f428833",
    "deepnote_output_heights": [
     462.5
    ],
    "deepnote_cell_type": "code"
   },
   "source": "# double check for null values in combined_df \ncombined_df.isnull().sum()",
   "execution_count": null,
   "outputs": [
    {
     "output_type": "execute_result",
     "execution_count": 53,
     "data": {
      "text/plain": "date                      0\naddress                   0\nspecies                   0\nblock                     0\nstreet                    0\ntrap                      0\naddressnumberandstreet    0\nlatitude                  0\nlongitude                 0\naddressaccuracy           0\nnummosquitos              0\nwnvpresent                0\nstation                   0\ntavg                      0\ndewpoint                  0\nwetbulb                   0\ncodesum                   0\npreciptotal               0\nstnpressure               0\nsealevel                  0\nresultspeed               0\nresultdir                 0\navgspeed                  0\ndtype: int64"
     },
     "metadata": {}
    }
   ]
  },
  {
   "cell_type": "code",
   "metadata": {
    "deepnote_to_be_reexecuted": false,
    "execution_millis": 666,
    "execution_start": 1637218220966,
    "source_hash": "86515cd3",
    "tags": [],
    "cell_id": "00060-f5ba49c4-f92c-4ad4-bded-c445467dce3a",
    "deepnote_cell_type": "code"
   },
   "source": "#see sample output of the updated weather dataframe\ncombined_df.head(1)",
   "execution_count": null,
   "outputs": [
    {
     "output_type": "execute_result",
     "execution_count": 54,
     "data": {
      "application/vnd.deepnote.dataframe.v2+json": {
       "row_count": 1,
       "column_count": 23,
       "columns": [
        {
         "name": "date",
         "dtype": "object",
         "stats": {
          "unique_count": 1,
          "nan_count": 0,
          "categories": [
           {
            "name": "2007-05-29",
            "count": 1
           }
          ]
         }
        },
        {
         "name": "address",
         "dtype": "object",
         "stats": {
          "unique_count": 1,
          "nan_count": 0,
          "categories": [
           {
            "name": "4100 North Oak Park Avenue, Chicago, IL 60634, USA",
            "count": 1
           }
          ]
         }
        },
        {
         "name": "species",
         "dtype": "object",
         "stats": {
          "unique_count": 1,
          "nan_count": 0,
          "categories": [
           {
            "name": "CULEX PIPIENS/RESTUANS",
            "count": 1
           }
          ]
         }
        },
        {
         "name": "block",
         "dtype": "float64",
         "stats": {
          "unique_count": 1,
          "nan_count": 0,
          "min": "41.0",
          "max": "41.0",
          "histogram": [
           {
            "bin_start": 40.5,
            "bin_end": 40.6,
            "count": 0
           },
           {
            "bin_start": 40.6,
            "bin_end": 40.7,
            "count": 0
           },
           {
            "bin_start": 40.7,
            "bin_end": 40.8,
            "count": 0
           },
           {
            "bin_start": 40.8,
            "bin_end": 40.9,
            "count": 0
           },
           {
            "bin_start": 40.9,
            "bin_end": 41,
            "count": 0
           },
           {
            "bin_start": 41,
            "bin_end": 41.1,
            "count": 1
           },
           {
            "bin_start": 41.1,
            "bin_end": 41.2,
            "count": 0
           },
           {
            "bin_start": 41.2,
            "bin_end": 41.3,
            "count": 0
           },
           {
            "bin_start": 41.3,
            "bin_end": 41.4,
            "count": 0
           },
           {
            "bin_start": 41.4,
            "bin_end": 41.5,
            "count": 0
           }
          ]
         }
        },
        {
         "name": "street",
         "dtype": "object",
         "stats": {
          "unique_count": 1,
          "nan_count": 0,
          "categories": [
           {
            "name": " N OAK PARK AVE",
            "count": 1
           }
          ]
         }
        },
        {
         "name": "trap",
         "dtype": "object",
         "stats": {
          "unique_count": 1,
          "nan_count": 0,
          "categories": [
           {
            "name": "T002",
            "count": 1
           }
          ]
         }
        },
        {
         "name": "addressnumberandstreet",
         "dtype": "object",
         "stats": {
          "unique_count": 1,
          "nan_count": 0,
          "categories": [
           {
            "name": "4100  N OAK PARK AVE, Chicago, IL",
            "count": 1
           }
          ]
         }
        },
        {
         "name": "latitude",
         "dtype": "float64",
         "stats": {
          "unique_count": 1,
          "nan_count": 0,
          "min": "41.95469",
          "max": "41.95469",
          "histogram": [
           {
            "bin_start": 41.45469,
            "bin_end": 41.55469,
            "count": 0
           },
           {
            "bin_start": 41.55469,
            "bin_end": 41.65469,
            "count": 0
           },
           {
            "bin_start": 41.65469,
            "bin_end": 41.75469,
            "count": 0
           },
           {
            "bin_start": 41.75469,
            "bin_end": 41.85469,
            "count": 0
           },
           {
            "bin_start": 41.85469,
            "bin_end": 41.95469,
            "count": 0
           },
           {
            "bin_start": 41.95469,
            "bin_end": 42.05469,
            "count": 1
           },
           {
            "bin_start": 42.05469,
            "bin_end": 42.15469,
            "count": 0
           },
           {
            "bin_start": 42.15469,
            "bin_end": 42.25469,
            "count": 0
           },
           {
            "bin_start": 42.25469,
            "bin_end": 42.35469,
            "count": 0
           },
           {
            "bin_start": 42.35469,
            "bin_end": 42.45469,
            "count": 0
           }
          ]
         }
        },
        {
         "name": "longitude",
         "dtype": "float64",
         "stats": {
          "unique_count": 1,
          "nan_count": 0,
          "min": "-87.800991",
          "max": "-87.800991",
          "histogram": [
           {
            "bin_start": -88.300991,
            "bin_end": -88.200991,
            "count": 0
           },
           {
            "bin_start": -88.200991,
            "bin_end": -88.100991,
            "count": 0
           },
           {
            "bin_start": -88.100991,
            "bin_end": -88.000991,
            "count": 0
           },
           {
            "bin_start": -88.000991,
            "bin_end": -87.90099099999999,
            "count": 0
           },
           {
            "bin_start": -87.90099099999999,
            "bin_end": -87.800991,
            "count": 0
           },
           {
            "bin_start": -87.800991,
            "bin_end": -87.700991,
            "count": 1
           },
           {
            "bin_start": -87.700991,
            "bin_end": -87.600991,
            "count": 0
           },
           {
            "bin_start": -87.600991,
            "bin_end": -87.500991,
            "count": 0
           },
           {
            "bin_start": -87.500991,
            "bin_end": -87.40099099999999,
            "count": 0
           },
           {
            "bin_start": -87.40099099999999,
            "bin_end": -87.300991,
            "count": 0
           }
          ]
         }
        },
        {
         "name": "addressaccuracy",
         "dtype": "float64",
         "stats": {
          "unique_count": 1,
          "nan_count": 0,
          "min": "9.0",
          "max": "9.0",
          "histogram": [
           {
            "bin_start": 8.5,
            "bin_end": 8.6,
            "count": 0
           },
           {
            "bin_start": 8.6,
            "bin_end": 8.7,
            "count": 0
           },
           {
            "bin_start": 8.7,
            "bin_end": 8.8,
            "count": 0
           },
           {
            "bin_start": 8.8,
            "bin_end": 8.9,
            "count": 0
           },
           {
            "bin_start": 8.9,
            "bin_end": 9,
            "count": 0
           },
           {
            "bin_start": 9,
            "bin_end": 9.1,
            "count": 1
           },
           {
            "bin_start": 9.1,
            "bin_end": 9.2,
            "count": 0
           },
           {
            "bin_start": 9.2,
            "bin_end": 9.3,
            "count": 0
           },
           {
            "bin_start": 9.3,
            "bin_end": 9.4,
            "count": 0
           },
           {
            "bin_start": 9.4,
            "bin_end": 9.5,
            "count": 0
           }
          ]
         }
        },
        {
         "name": "nummosquitos",
         "dtype": "float64",
         "stats": {
          "unique_count": 1,
          "nan_count": 0,
          "min": "1.0",
          "max": "1.0",
          "histogram": [
           {
            "bin_start": 0.5,
            "bin_end": 0.6,
            "count": 0
           },
           {
            "bin_start": 0.6,
            "bin_end": 0.7,
            "count": 0
           },
           {
            "bin_start": 0.7,
            "bin_end": 0.8,
            "count": 0
           },
           {
            "bin_start": 0.8,
            "bin_end": 0.9,
            "count": 0
           },
           {
            "bin_start": 0.9,
            "bin_end": 1,
            "count": 0
           },
           {
            "bin_start": 1,
            "bin_end": 1.1,
            "count": 1
           },
           {
            "bin_start": 1.1,
            "bin_end": 1.2000000000000002,
            "count": 0
           },
           {
            "bin_start": 1.2000000000000002,
            "bin_end": 1.3,
            "count": 0
           },
           {
            "bin_start": 1.3,
            "bin_end": 1.4,
            "count": 0
           },
           {
            "bin_start": 1.4,
            "bin_end": 1.5,
            "count": 0
           }
          ]
         }
        },
        {
         "name": "wnvpresent",
         "dtype": "float64",
         "stats": {
          "unique_count": 1,
          "nan_count": 0,
          "min": "0.0",
          "max": "0.0",
          "histogram": [
           {
            "bin_start": -0.5,
            "bin_end": -0.4,
            "count": 0
           },
           {
            "bin_start": -0.4,
            "bin_end": -0.3,
            "count": 0
           },
           {
            "bin_start": -0.3,
            "bin_end": -0.19999999999999996,
            "count": 0
           },
           {
            "bin_start": -0.19999999999999996,
            "bin_end": -0.09999999999999998,
            "count": 0
           },
           {
            "bin_start": -0.09999999999999998,
            "bin_end": 0,
            "count": 0
           },
           {
            "bin_start": 0,
            "bin_end": 0.10000000000000009,
            "count": 1
           },
           {
            "bin_start": 0.10000000000000009,
            "bin_end": 0.20000000000000007,
            "count": 0
           },
           {
            "bin_start": 0.20000000000000007,
            "bin_end": 0.30000000000000004,
            "count": 0
           },
           {
            "bin_start": 0.30000000000000004,
            "bin_end": 0.4,
            "count": 0
           },
           {
            "bin_start": 0.4,
            "bin_end": 0.5,
            "count": 0
           }
          ]
         }
        },
        {
         "name": "station",
         "dtype": "float64",
         "stats": {
          "unique_count": 1,
          "nan_count": 0,
          "min": "1.0",
          "max": "1.0",
          "histogram": [
           {
            "bin_start": 0.5,
            "bin_end": 0.6,
            "count": 0
           },
           {
            "bin_start": 0.6,
            "bin_end": 0.7,
            "count": 0
           },
           {
            "bin_start": 0.7,
            "bin_end": 0.8,
            "count": 0
           },
           {
            "bin_start": 0.8,
            "bin_end": 0.9,
            "count": 0
           },
           {
            "bin_start": 0.9,
            "bin_end": 1,
            "count": 0
           },
           {
            "bin_start": 1,
            "bin_end": 1.1,
            "count": 1
           },
           {
            "bin_start": 1.1,
            "bin_end": 1.2000000000000002,
            "count": 0
           },
           {
            "bin_start": 1.2000000000000002,
            "bin_end": 1.3,
            "count": 0
           },
           {
            "bin_start": 1.3,
            "bin_end": 1.4,
            "count": 0
           },
           {
            "bin_start": 1.4,
            "bin_end": 1.5,
            "count": 0
           }
          ]
         }
        },
        {
         "name": "tavg",
         "dtype": "float64",
         "stats": {
          "unique_count": 1,
          "nan_count": 0,
          "min": "74.0",
          "max": "74.0",
          "histogram": [
           {
            "bin_start": 73.5,
            "bin_end": 73.6,
            "count": 0
           },
           {
            "bin_start": 73.6,
            "bin_end": 73.7,
            "count": 0
           },
           {
            "bin_start": 73.7,
            "bin_end": 73.8,
            "count": 0
           },
           {
            "bin_start": 73.8,
            "bin_end": 73.9,
            "count": 0
           },
           {
            "bin_start": 73.9,
            "bin_end": 74,
            "count": 0
           },
           {
            "bin_start": 74,
            "bin_end": 74.1,
            "count": 1
           },
           {
            "bin_start": 74.1,
            "bin_end": 74.2,
            "count": 0
           },
           {
            "bin_start": 74.2,
            "bin_end": 74.3,
            "count": 0
           },
           {
            "bin_start": 74.3,
            "bin_end": 74.4,
            "count": 0
           },
           {
            "bin_start": 74.4,
            "bin_end": 74.5,
            "count": 0
           }
          ]
         }
        },
        {
         "name": "dewpoint",
         "dtype": "float64",
         "stats": {
          "unique_count": 1,
          "nan_count": 0,
          "min": "58.0",
          "max": "58.0",
          "histogram": [
           {
            "bin_start": 57.5,
            "bin_end": 57.6,
            "count": 0
           },
           {
            "bin_start": 57.6,
            "bin_end": 57.7,
            "count": 0
           },
           {
            "bin_start": 57.7,
            "bin_end": 57.8,
            "count": 0
           },
           {
            "bin_start": 57.8,
            "bin_end": 57.9,
            "count": 0
           },
           {
            "bin_start": 57.9,
            "bin_end": 58,
            "count": 0
           },
           {
            "bin_start": 58,
            "bin_end": 58.1,
            "count": 1
           },
           {
            "bin_start": 58.1,
            "bin_end": 58.2,
            "count": 0
           },
           {
            "bin_start": 58.2,
            "bin_end": 58.3,
            "count": 0
           },
           {
            "bin_start": 58.3,
            "bin_end": 58.4,
            "count": 0
           },
           {
            "bin_start": 58.4,
            "bin_end": 58.5,
            "count": 0
           }
          ]
         }
        },
        {
         "name": "wetbulb",
         "dtype": "float64",
         "stats": {
          "unique_count": 1,
          "nan_count": 0,
          "min": "65.0",
          "max": "65.0",
          "histogram": [
           {
            "bin_start": 64.5,
            "bin_end": 64.6,
            "count": 0
           },
           {
            "bin_start": 64.6,
            "bin_end": 64.7,
            "count": 0
           },
           {
            "bin_start": 64.7,
            "bin_end": 64.8,
            "count": 0
           },
           {
            "bin_start": 64.8,
            "bin_end": 64.9,
            "count": 0
           },
           {
            "bin_start": 64.9,
            "bin_end": 65,
            "count": 0
           },
           {
            "bin_start": 65,
            "bin_end": 65.1,
            "count": 1
           },
           {
            "bin_start": 65.1,
            "bin_end": 65.2,
            "count": 0
           },
           {
            "bin_start": 65.2,
            "bin_end": 65.3,
            "count": 0
           },
           {
            "bin_start": 65.3,
            "bin_end": 65.4,
            "count": 0
           },
           {
            "bin_start": 65.4,
            "bin_end": 65.5,
            "count": 0
           }
          ]
         }
        },
        {
         "name": "codesum",
         "dtype": "object",
         "stats": {
          "unique_count": 1,
          "nan_count": 0,
          "categories": [
           {
            "name": "BR HZ",
            "count": 1
           }
          ]
         }
        },
        {
         "name": "preciptotal",
         "dtype": "float64",
         "stats": {
          "unique_count": 1,
          "nan_count": 0,
          "min": "0.0",
          "max": "0.0",
          "histogram": [
           {
            "bin_start": -0.5,
            "bin_end": -0.4,
            "count": 0
           },
           {
            "bin_start": -0.4,
            "bin_end": -0.3,
            "count": 0
           },
           {
            "bin_start": -0.3,
            "bin_end": -0.19999999999999996,
            "count": 0
           },
           {
            "bin_start": -0.19999999999999996,
            "bin_end": -0.09999999999999998,
            "count": 0
           },
           {
            "bin_start": -0.09999999999999998,
            "bin_end": 0,
            "count": 0
           },
           {
            "bin_start": 0,
            "bin_end": 0.10000000000000009,
            "count": 1
           },
           {
            "bin_start": 0.10000000000000009,
            "bin_end": 0.20000000000000007,
            "count": 0
           },
           {
            "bin_start": 0.20000000000000007,
            "bin_end": 0.30000000000000004,
            "count": 0
           },
           {
            "bin_start": 0.30000000000000004,
            "bin_end": 0.4,
            "count": 0
           },
           {
            "bin_start": 0.4,
            "bin_end": 0.5,
            "count": 0
           }
          ]
         }
        },
        {
         "name": "stnpressure",
         "dtype": "float64",
         "stats": {
          "unique_count": 1,
          "nan_count": 0,
          "min": "29.39",
          "max": "29.39",
          "histogram": [
           {
            "bin_start": 28.89,
            "bin_end": 28.990000000000002,
            "count": 0
           },
           {
            "bin_start": 28.990000000000002,
            "bin_end": 29.09,
            "count": 0
           },
           {
            "bin_start": 29.09,
            "bin_end": 29.19,
            "count": 0
           },
           {
            "bin_start": 29.19,
            "bin_end": 29.29,
            "count": 0
           },
           {
            "bin_start": 29.29,
            "bin_end": 29.39,
            "count": 0
           },
           {
            "bin_start": 29.39,
            "bin_end": 29.490000000000002,
            "count": 1
           },
           {
            "bin_start": 29.490000000000002,
            "bin_end": 29.59,
            "count": 0
           },
           {
            "bin_start": 29.59,
            "bin_end": 29.69,
            "count": 0
           },
           {
            "bin_start": 29.69,
            "bin_end": 29.79,
            "count": 0
           },
           {
            "bin_start": 29.79,
            "bin_end": 29.89,
            "count": 0
           }
          ]
         }
        },
        {
         "name": "sealevel",
         "dtype": "float64",
         "stats": {
          "unique_count": 1,
          "nan_count": 0,
          "min": "30.11",
          "max": "30.11",
          "histogram": [
           {
            "bin_start": 29.61,
            "bin_end": 29.71,
            "count": 0
           },
           {
            "bin_start": 29.71,
            "bin_end": 29.81,
            "count": 0
           },
           {
            "bin_start": 29.81,
            "bin_end": 29.91,
            "count": 0
           },
           {
            "bin_start": 29.91,
            "bin_end": 30.009999999999998,
            "count": 0
           },
           {
            "bin_start": 30.009999999999998,
            "bin_end": 30.11,
            "count": 0
           },
           {
            "bin_start": 30.11,
            "bin_end": 30.21,
            "count": 1
           },
           {
            "bin_start": 30.21,
            "bin_end": 30.31,
            "count": 0
           },
           {
            "bin_start": 30.31,
            "bin_end": 30.41,
            "count": 0
           },
           {
            "bin_start": 30.41,
            "bin_end": 30.509999999999998,
            "count": 0
           },
           {
            "bin_start": 30.509999999999998,
            "bin_end": 30.61,
            "count": 0
           }
          ]
         }
        },
        {
         "name": "resultspeed",
         "dtype": "float64",
         "stats": {
          "unique_count": 1,
          "nan_count": 0,
          "min": "5.8",
          "max": "5.8",
          "histogram": [
           {
            "bin_start": 5.3,
            "bin_end": 5.3999999999999995,
            "count": 0
           },
           {
            "bin_start": 5.3999999999999995,
            "bin_end": 5.5,
            "count": 0
           },
           {
            "bin_start": 5.5,
            "bin_end": 5.6,
            "count": 0
           },
           {
            "bin_start": 5.6,
            "bin_end": 5.7,
            "count": 0
           },
           {
            "bin_start": 5.7,
            "bin_end": 5.8,
            "count": 0
           },
           {
            "bin_start": 5.8,
            "bin_end": 5.9,
            "count": 1
           },
           {
            "bin_start": 5.9,
            "bin_end": 6,
            "count": 0
           },
           {
            "bin_start": 6,
            "bin_end": 6.1,
            "count": 0
           },
           {
            "bin_start": 6.1,
            "bin_end": 6.2,
            "count": 0
           },
           {
            "bin_start": 6.2,
            "bin_end": 6.3,
            "count": 0
           }
          ]
         }
        },
        {
         "name": "resultdir",
         "dtype": "float64",
         "stats": {
          "unique_count": 1,
          "nan_count": 0,
          "min": "18.0",
          "max": "18.0",
          "histogram": [
           {
            "bin_start": 17.5,
            "bin_end": 17.6,
            "count": 0
           },
           {
            "bin_start": 17.6,
            "bin_end": 17.7,
            "count": 0
           },
           {
            "bin_start": 17.7,
            "bin_end": 17.8,
            "count": 0
           },
           {
            "bin_start": 17.8,
            "bin_end": 17.9,
            "count": 0
           },
           {
            "bin_start": 17.9,
            "bin_end": 18,
            "count": 0
           },
           {
            "bin_start": 18,
            "bin_end": 18.1,
            "count": 1
           },
           {
            "bin_start": 18.1,
            "bin_end": 18.2,
            "count": 0
           },
           {
            "bin_start": 18.2,
            "bin_end": 18.3,
            "count": 0
           },
           {
            "bin_start": 18.3,
            "bin_end": 18.4,
            "count": 0
           },
           {
            "bin_start": 18.4,
            "bin_end": 18.5,
            "count": 0
           }
          ]
         }
        },
        {
         "name": "avgspeed",
         "dtype": "float64",
         "stats": {
          "unique_count": 1,
          "nan_count": 0,
          "min": "6.5",
          "max": "6.5",
          "histogram": [
           {
            "bin_start": 6,
            "bin_end": 6.1,
            "count": 0
           },
           {
            "bin_start": 6.1,
            "bin_end": 6.2,
            "count": 0
           },
           {
            "bin_start": 6.2,
            "bin_end": 6.3,
            "count": 0
           },
           {
            "bin_start": 6.3,
            "bin_end": 6.4,
            "count": 0
           },
           {
            "bin_start": 6.4,
            "bin_end": 6.5,
            "count": 0
           },
           {
            "bin_start": 6.5,
            "bin_end": 6.6,
            "count": 1
           },
           {
            "bin_start": 6.6,
            "bin_end": 6.7,
            "count": 0
           },
           {
            "bin_start": 6.7,
            "bin_end": 6.8,
            "count": 0
           },
           {
            "bin_start": 6.8,
            "bin_end": 6.9,
            "count": 0
           },
           {
            "bin_start": 6.9,
            "bin_end": 7,
            "count": 0
           }
          ]
         }
        },
        {
         "name": "_deepnote_index_column",
         "dtype": "int64"
        }
       ],
       "rows_top": [
        {
         "date": "2007-05-29",
         "address": "4100 North Oak Park Avenue, Chicago, IL 60634, USA",
         "species": "CULEX PIPIENS/RESTUANS",
         "block": 41,
         "street": " N OAK PARK AVE",
         "trap": "T002",
         "addressnumberandstreet": "4100  N OAK PARK AVE, Chicago, IL",
         "latitude": 41.95469,
         "longitude": -87.800991,
         "addressaccuracy": 9,
         "nummosquitos": 1,
         "wnvpresent": 0,
         "station": 1,
         "tavg": 74,
         "dewpoint": 58,
         "wetbulb": 65,
         "codesum": "BR HZ",
         "preciptotal": 0,
         "stnpressure": 29.39,
         "sealevel": 30.11,
         "resultspeed": 5.8,
         "resultdir": 18,
         "avgspeed": 6.5,
         "_deepnote_index_column": 0
        }
       ],
       "rows_bottom": null
      },
      "text/plain": "         date                                            address  \\\n0  2007-05-29  4100 North Oak Park Avenue, Chicago, IL 60634,...   \n\n                  species  block           street  trap  \\\n0  CULEX PIPIENS/RESTUANS   41.0   N OAK PARK AVE  T002   \n\n              addressnumberandstreet  latitude  longitude  addressaccuracy  \\\n0  4100  N OAK PARK AVE, Chicago, IL  41.95469 -87.800991              9.0   \n\n   ...  tavg  dewpoint  wetbulb  codesum  preciptotal  stnpressure sealevel  \\\n0  ...  74.0      58.0     65.0    BR HZ          0.0        29.39    30.11   \n\n   resultspeed  resultdir  avgspeed  \n0          5.8       18.0       6.5  \n\n[1 rows x 23 columns]",
      "text/html": "<div>\n<style scoped>\n    .dataframe tbody tr th:only-of-type {\n        vertical-align: middle;\n    }\n\n    .dataframe tbody tr th {\n        vertical-align: top;\n    }\n\n    .dataframe thead th {\n        text-align: right;\n    }\n</style>\n<table border=\"1\" class=\"dataframe\">\n  <thead>\n    <tr style=\"text-align: right;\">\n      <th></th>\n      <th>date</th>\n      <th>address</th>\n      <th>species</th>\n      <th>block</th>\n      <th>street</th>\n      <th>trap</th>\n      <th>addressnumberandstreet</th>\n      <th>latitude</th>\n      <th>longitude</th>\n      <th>addressaccuracy</th>\n      <th>...</th>\n      <th>tavg</th>\n      <th>dewpoint</th>\n      <th>wetbulb</th>\n      <th>codesum</th>\n      <th>preciptotal</th>\n      <th>stnpressure</th>\n      <th>sealevel</th>\n      <th>resultspeed</th>\n      <th>resultdir</th>\n      <th>avgspeed</th>\n    </tr>\n  </thead>\n  <tbody>\n    <tr>\n      <th>0</th>\n      <td>2007-05-29</td>\n      <td>4100 North Oak Park Avenue, Chicago, IL 60634,...</td>\n      <td>CULEX PIPIENS/RESTUANS</td>\n      <td>41.0</td>\n      <td>N OAK PARK AVE</td>\n      <td>T002</td>\n      <td>4100  N OAK PARK AVE, Chicago, IL</td>\n      <td>41.95469</td>\n      <td>-87.800991</td>\n      <td>9.0</td>\n      <td>...</td>\n      <td>74.0</td>\n      <td>58.0</td>\n      <td>65.0</td>\n      <td>BR HZ</td>\n      <td>0.0</td>\n      <td>29.39</td>\n      <td>30.11</td>\n      <td>5.8</td>\n      <td>18.0</td>\n      <td>6.5</td>\n    </tr>\n  </tbody>\n</table>\n<p>1 rows × 23 columns</p>\n</div>"
     },
     "metadata": {}
    }
   ]
  },
  {
   "cell_type": "code",
   "metadata": {
    "deepnote_to_be_reexecuted": false,
    "execution_millis": 1,
    "execution_start": 1637218220991,
    "source_hash": "98b5fe9a",
    "tags": [],
    "cell_id": "00061-08a393de-65c8-44d0-ae59-0cd26fe5ab90",
    "deepnote_cell_type": "code"
   },
   "source": "# since the combined_df only consists of results from station 1, we can drop the 'station' column\n# additionally, to simplify our analysis, we are dropping repeated columns for the adddress.\ncombined_df.drop(['station', 'address', 'addressnumberandstreet'], axis = 1, inplace = True)",
   "execution_count": null,
   "outputs": []
  },
  {
   "cell_type": "code",
   "metadata": {
    "deepnote_to_be_reexecuted": false,
    "execution_millis": 626,
    "execution_start": 1637218221007,
    "source_hash": "be40ad46",
    "tags": [],
    "cell_id": "00062-9e216ae1-6c43-46e5-86bb-e09843828499",
    "deepnote_output_heights": [
     97.9375
    ],
    "deepnote_cell_type": "code"
   },
   "source": "# display columns left in combined_df\ncombined_df.columns",
   "execution_count": null,
   "outputs": [
    {
     "output_type": "execute_result",
     "execution_count": 56,
     "data": {
      "text/plain": "Index(['date', 'species', 'block', 'street', 'trap', 'latitude', 'longitude',\n       'addressaccuracy', 'nummosquitos', 'wnvpresent', 'tavg', 'dewpoint',\n       'wetbulb', 'codesum', 'preciptotal', 'stnpressure', 'sealevel',\n       'resultspeed', 'resultdir', 'avgspeed'],\n      dtype='object')"
     },
     "metadata": {}
    }
   ]
  },
  {
   "cell_type": "code",
   "metadata": {
    "deepnote_to_be_reexecuted": false,
    "execution_millis": 623,
    "execution_start": 1637218221022,
    "source_hash": "3aa19667",
    "tags": [],
    "cell_id": "00063-c158c32c-2e28-40a7-bdb1-ca69216a6089",
    "deepnote_cell_type": "code"
   },
   "source": "# cleaning 'date' column by converting to timestamp\ncombined_df['date'] = pd.to_datetime(combined_df['date'])\n\n# create 3 new columns to separate to year, month and day\ncombined_df['year'] = combined_df['date'].apply(lambda time: time.year)\ncombined_df['month'] = combined_df['date'].apply(lambda time: time.month)\ncombined_df['day'] = combined_df['date'].apply(lambda time: time.day)",
   "execution_count": null,
   "outputs": []
  },
  {
   "cell_type": "code",
   "metadata": {
    "deepnote_to_be_reexecuted": false,
    "execution_millis": 13,
    "execution_start": 1637218221645,
    "source_hash": "66ec930c",
    "tags": [],
    "cell_id": "00064-9ef21ff1-5690-497d-b266-35a0335566ff",
    "deepnote_cell_type": "code"
   },
   "source": "#see a sample output of the updated weather dataframe\ncombined_df.head(1)",
   "execution_count": null,
   "outputs": [
    {
     "output_type": "execute_result",
     "execution_count": 58,
     "data": {
      "application/vnd.deepnote.dataframe.v2+json": {
       "row_count": 1,
       "column_count": 23,
       "columns": [
        {
         "name": "date",
         "dtype": "datetime64[ns]",
         "stats": {
          "unique_count": 1,
          "nan_count": 0,
          "min": "2007-05-29 00:00:00",
          "max": "2007-05-29 00:00:00",
          "histogram": null
         }
        },
        {
         "name": "species",
         "dtype": "object",
         "stats": {
          "unique_count": 1,
          "nan_count": 0,
          "categories": [
           {
            "name": "CULEX PIPIENS/RESTUANS",
            "count": 1
           }
          ]
         }
        },
        {
         "name": "block",
         "dtype": "float64",
         "stats": {
          "unique_count": 1,
          "nan_count": 0,
          "min": "41.0",
          "max": "41.0",
          "histogram": [
           {
            "bin_start": 40.5,
            "bin_end": 40.6,
            "count": 0
           },
           {
            "bin_start": 40.6,
            "bin_end": 40.7,
            "count": 0
           },
           {
            "bin_start": 40.7,
            "bin_end": 40.8,
            "count": 0
           },
           {
            "bin_start": 40.8,
            "bin_end": 40.9,
            "count": 0
           },
           {
            "bin_start": 40.9,
            "bin_end": 41,
            "count": 0
           },
           {
            "bin_start": 41,
            "bin_end": 41.1,
            "count": 1
           },
           {
            "bin_start": 41.1,
            "bin_end": 41.2,
            "count": 0
           },
           {
            "bin_start": 41.2,
            "bin_end": 41.3,
            "count": 0
           },
           {
            "bin_start": 41.3,
            "bin_end": 41.4,
            "count": 0
           },
           {
            "bin_start": 41.4,
            "bin_end": 41.5,
            "count": 0
           }
          ]
         }
        },
        {
         "name": "street",
         "dtype": "object",
         "stats": {
          "unique_count": 1,
          "nan_count": 0,
          "categories": [
           {
            "name": " N OAK PARK AVE",
            "count": 1
           }
          ]
         }
        },
        {
         "name": "trap",
         "dtype": "object",
         "stats": {
          "unique_count": 1,
          "nan_count": 0,
          "categories": [
           {
            "name": "T002",
            "count": 1
           }
          ]
         }
        },
        {
         "name": "latitude",
         "dtype": "float64",
         "stats": {
          "unique_count": 1,
          "nan_count": 0,
          "min": "41.95469",
          "max": "41.95469",
          "histogram": [
           {
            "bin_start": 41.45469,
            "bin_end": 41.55469,
            "count": 0
           },
           {
            "bin_start": 41.55469,
            "bin_end": 41.65469,
            "count": 0
           },
           {
            "bin_start": 41.65469,
            "bin_end": 41.75469,
            "count": 0
           },
           {
            "bin_start": 41.75469,
            "bin_end": 41.85469,
            "count": 0
           },
           {
            "bin_start": 41.85469,
            "bin_end": 41.95469,
            "count": 0
           },
           {
            "bin_start": 41.95469,
            "bin_end": 42.05469,
            "count": 1
           },
           {
            "bin_start": 42.05469,
            "bin_end": 42.15469,
            "count": 0
           },
           {
            "bin_start": 42.15469,
            "bin_end": 42.25469,
            "count": 0
           },
           {
            "bin_start": 42.25469,
            "bin_end": 42.35469,
            "count": 0
           },
           {
            "bin_start": 42.35469,
            "bin_end": 42.45469,
            "count": 0
           }
          ]
         }
        },
        {
         "name": "longitude",
         "dtype": "float64",
         "stats": {
          "unique_count": 1,
          "nan_count": 0,
          "min": "-87.800991",
          "max": "-87.800991",
          "histogram": [
           {
            "bin_start": -88.300991,
            "bin_end": -88.200991,
            "count": 0
           },
           {
            "bin_start": -88.200991,
            "bin_end": -88.100991,
            "count": 0
           },
           {
            "bin_start": -88.100991,
            "bin_end": -88.000991,
            "count": 0
           },
           {
            "bin_start": -88.000991,
            "bin_end": -87.90099099999999,
            "count": 0
           },
           {
            "bin_start": -87.90099099999999,
            "bin_end": -87.800991,
            "count": 0
           },
           {
            "bin_start": -87.800991,
            "bin_end": -87.700991,
            "count": 1
           },
           {
            "bin_start": -87.700991,
            "bin_end": -87.600991,
            "count": 0
           },
           {
            "bin_start": -87.600991,
            "bin_end": -87.500991,
            "count": 0
           },
           {
            "bin_start": -87.500991,
            "bin_end": -87.40099099999999,
            "count": 0
           },
           {
            "bin_start": -87.40099099999999,
            "bin_end": -87.300991,
            "count": 0
           }
          ]
         }
        },
        {
         "name": "addressaccuracy",
         "dtype": "float64",
         "stats": {
          "unique_count": 1,
          "nan_count": 0,
          "min": "9.0",
          "max": "9.0",
          "histogram": [
           {
            "bin_start": 8.5,
            "bin_end": 8.6,
            "count": 0
           },
           {
            "bin_start": 8.6,
            "bin_end": 8.7,
            "count": 0
           },
           {
            "bin_start": 8.7,
            "bin_end": 8.8,
            "count": 0
           },
           {
            "bin_start": 8.8,
            "bin_end": 8.9,
            "count": 0
           },
           {
            "bin_start": 8.9,
            "bin_end": 9,
            "count": 0
           },
           {
            "bin_start": 9,
            "bin_end": 9.1,
            "count": 1
           },
           {
            "bin_start": 9.1,
            "bin_end": 9.2,
            "count": 0
           },
           {
            "bin_start": 9.2,
            "bin_end": 9.3,
            "count": 0
           },
           {
            "bin_start": 9.3,
            "bin_end": 9.4,
            "count": 0
           },
           {
            "bin_start": 9.4,
            "bin_end": 9.5,
            "count": 0
           }
          ]
         }
        },
        {
         "name": "nummosquitos",
         "dtype": "float64",
         "stats": {
          "unique_count": 1,
          "nan_count": 0,
          "min": "1.0",
          "max": "1.0",
          "histogram": [
           {
            "bin_start": 0.5,
            "bin_end": 0.6,
            "count": 0
           },
           {
            "bin_start": 0.6,
            "bin_end": 0.7,
            "count": 0
           },
           {
            "bin_start": 0.7,
            "bin_end": 0.8,
            "count": 0
           },
           {
            "bin_start": 0.8,
            "bin_end": 0.9,
            "count": 0
           },
           {
            "bin_start": 0.9,
            "bin_end": 1,
            "count": 0
           },
           {
            "bin_start": 1,
            "bin_end": 1.1,
            "count": 1
           },
           {
            "bin_start": 1.1,
            "bin_end": 1.2000000000000002,
            "count": 0
           },
           {
            "bin_start": 1.2000000000000002,
            "bin_end": 1.3,
            "count": 0
           },
           {
            "bin_start": 1.3,
            "bin_end": 1.4,
            "count": 0
           },
           {
            "bin_start": 1.4,
            "bin_end": 1.5,
            "count": 0
           }
          ]
         }
        },
        {
         "name": "wnvpresent",
         "dtype": "float64",
         "stats": {
          "unique_count": 1,
          "nan_count": 0,
          "min": "0.0",
          "max": "0.0",
          "histogram": [
           {
            "bin_start": -0.5,
            "bin_end": -0.4,
            "count": 0
           },
           {
            "bin_start": -0.4,
            "bin_end": -0.3,
            "count": 0
           },
           {
            "bin_start": -0.3,
            "bin_end": -0.19999999999999996,
            "count": 0
           },
           {
            "bin_start": -0.19999999999999996,
            "bin_end": -0.09999999999999998,
            "count": 0
           },
           {
            "bin_start": -0.09999999999999998,
            "bin_end": 0,
            "count": 0
           },
           {
            "bin_start": 0,
            "bin_end": 0.10000000000000009,
            "count": 1
           },
           {
            "bin_start": 0.10000000000000009,
            "bin_end": 0.20000000000000007,
            "count": 0
           },
           {
            "bin_start": 0.20000000000000007,
            "bin_end": 0.30000000000000004,
            "count": 0
           },
           {
            "bin_start": 0.30000000000000004,
            "bin_end": 0.4,
            "count": 0
           },
           {
            "bin_start": 0.4,
            "bin_end": 0.5,
            "count": 0
           }
          ]
         }
        },
        {
         "name": "tavg",
         "dtype": "float64",
         "stats": {
          "unique_count": 1,
          "nan_count": 0,
          "min": "74.0",
          "max": "74.0",
          "histogram": [
           {
            "bin_start": 73.5,
            "bin_end": 73.6,
            "count": 0
           },
           {
            "bin_start": 73.6,
            "bin_end": 73.7,
            "count": 0
           },
           {
            "bin_start": 73.7,
            "bin_end": 73.8,
            "count": 0
           },
           {
            "bin_start": 73.8,
            "bin_end": 73.9,
            "count": 0
           },
           {
            "bin_start": 73.9,
            "bin_end": 74,
            "count": 0
           },
           {
            "bin_start": 74,
            "bin_end": 74.1,
            "count": 1
           },
           {
            "bin_start": 74.1,
            "bin_end": 74.2,
            "count": 0
           },
           {
            "bin_start": 74.2,
            "bin_end": 74.3,
            "count": 0
           },
           {
            "bin_start": 74.3,
            "bin_end": 74.4,
            "count": 0
           },
           {
            "bin_start": 74.4,
            "bin_end": 74.5,
            "count": 0
           }
          ]
         }
        },
        {
         "name": "dewpoint",
         "dtype": "float64",
         "stats": {
          "unique_count": 1,
          "nan_count": 0,
          "min": "58.0",
          "max": "58.0",
          "histogram": [
           {
            "bin_start": 57.5,
            "bin_end": 57.6,
            "count": 0
           },
           {
            "bin_start": 57.6,
            "bin_end": 57.7,
            "count": 0
           },
           {
            "bin_start": 57.7,
            "bin_end": 57.8,
            "count": 0
           },
           {
            "bin_start": 57.8,
            "bin_end": 57.9,
            "count": 0
           },
           {
            "bin_start": 57.9,
            "bin_end": 58,
            "count": 0
           },
           {
            "bin_start": 58,
            "bin_end": 58.1,
            "count": 1
           },
           {
            "bin_start": 58.1,
            "bin_end": 58.2,
            "count": 0
           },
           {
            "bin_start": 58.2,
            "bin_end": 58.3,
            "count": 0
           },
           {
            "bin_start": 58.3,
            "bin_end": 58.4,
            "count": 0
           },
           {
            "bin_start": 58.4,
            "bin_end": 58.5,
            "count": 0
           }
          ]
         }
        },
        {
         "name": "wetbulb",
         "dtype": "float64",
         "stats": {
          "unique_count": 1,
          "nan_count": 0,
          "min": "65.0",
          "max": "65.0",
          "histogram": [
           {
            "bin_start": 64.5,
            "bin_end": 64.6,
            "count": 0
           },
           {
            "bin_start": 64.6,
            "bin_end": 64.7,
            "count": 0
           },
           {
            "bin_start": 64.7,
            "bin_end": 64.8,
            "count": 0
           },
           {
            "bin_start": 64.8,
            "bin_end": 64.9,
            "count": 0
           },
           {
            "bin_start": 64.9,
            "bin_end": 65,
            "count": 0
           },
           {
            "bin_start": 65,
            "bin_end": 65.1,
            "count": 1
           },
           {
            "bin_start": 65.1,
            "bin_end": 65.2,
            "count": 0
           },
           {
            "bin_start": 65.2,
            "bin_end": 65.3,
            "count": 0
           },
           {
            "bin_start": 65.3,
            "bin_end": 65.4,
            "count": 0
           },
           {
            "bin_start": 65.4,
            "bin_end": 65.5,
            "count": 0
           }
          ]
         }
        },
        {
         "name": "codesum",
         "dtype": "object",
         "stats": {
          "unique_count": 1,
          "nan_count": 0,
          "categories": [
           {
            "name": "BR HZ",
            "count": 1
           }
          ]
         }
        },
        {
         "name": "preciptotal",
         "dtype": "float64",
         "stats": {
          "unique_count": 1,
          "nan_count": 0,
          "min": "0.0",
          "max": "0.0",
          "histogram": [
           {
            "bin_start": -0.5,
            "bin_end": -0.4,
            "count": 0
           },
           {
            "bin_start": -0.4,
            "bin_end": -0.3,
            "count": 0
           },
           {
            "bin_start": -0.3,
            "bin_end": -0.19999999999999996,
            "count": 0
           },
           {
            "bin_start": -0.19999999999999996,
            "bin_end": -0.09999999999999998,
            "count": 0
           },
           {
            "bin_start": -0.09999999999999998,
            "bin_end": 0,
            "count": 0
           },
           {
            "bin_start": 0,
            "bin_end": 0.10000000000000009,
            "count": 1
           },
           {
            "bin_start": 0.10000000000000009,
            "bin_end": 0.20000000000000007,
            "count": 0
           },
           {
            "bin_start": 0.20000000000000007,
            "bin_end": 0.30000000000000004,
            "count": 0
           },
           {
            "bin_start": 0.30000000000000004,
            "bin_end": 0.4,
            "count": 0
           },
           {
            "bin_start": 0.4,
            "bin_end": 0.5,
            "count": 0
           }
          ]
         }
        },
        {
         "name": "stnpressure",
         "dtype": "float64",
         "stats": {
          "unique_count": 1,
          "nan_count": 0,
          "min": "29.39",
          "max": "29.39",
          "histogram": [
           {
            "bin_start": 28.89,
            "bin_end": 28.990000000000002,
            "count": 0
           },
           {
            "bin_start": 28.990000000000002,
            "bin_end": 29.09,
            "count": 0
           },
           {
            "bin_start": 29.09,
            "bin_end": 29.19,
            "count": 0
           },
           {
            "bin_start": 29.19,
            "bin_end": 29.29,
            "count": 0
           },
           {
            "bin_start": 29.29,
            "bin_end": 29.39,
            "count": 0
           },
           {
            "bin_start": 29.39,
            "bin_end": 29.490000000000002,
            "count": 1
           },
           {
            "bin_start": 29.490000000000002,
            "bin_end": 29.59,
            "count": 0
           },
           {
            "bin_start": 29.59,
            "bin_end": 29.69,
            "count": 0
           },
           {
            "bin_start": 29.69,
            "bin_end": 29.79,
            "count": 0
           },
           {
            "bin_start": 29.79,
            "bin_end": 29.89,
            "count": 0
           }
          ]
         }
        },
        {
         "name": "sealevel",
         "dtype": "float64",
         "stats": {
          "unique_count": 1,
          "nan_count": 0,
          "min": "30.11",
          "max": "30.11",
          "histogram": [
           {
            "bin_start": 29.61,
            "bin_end": 29.71,
            "count": 0
           },
           {
            "bin_start": 29.71,
            "bin_end": 29.81,
            "count": 0
           },
           {
            "bin_start": 29.81,
            "bin_end": 29.91,
            "count": 0
           },
           {
            "bin_start": 29.91,
            "bin_end": 30.009999999999998,
            "count": 0
           },
           {
            "bin_start": 30.009999999999998,
            "bin_end": 30.11,
            "count": 0
           },
           {
            "bin_start": 30.11,
            "bin_end": 30.21,
            "count": 1
           },
           {
            "bin_start": 30.21,
            "bin_end": 30.31,
            "count": 0
           },
           {
            "bin_start": 30.31,
            "bin_end": 30.41,
            "count": 0
           },
           {
            "bin_start": 30.41,
            "bin_end": 30.509999999999998,
            "count": 0
           },
           {
            "bin_start": 30.509999999999998,
            "bin_end": 30.61,
            "count": 0
           }
          ]
         }
        },
        {
         "name": "resultspeed",
         "dtype": "float64",
         "stats": {
          "unique_count": 1,
          "nan_count": 0,
          "min": "5.8",
          "max": "5.8",
          "histogram": [
           {
            "bin_start": 5.3,
            "bin_end": 5.3999999999999995,
            "count": 0
           },
           {
            "bin_start": 5.3999999999999995,
            "bin_end": 5.5,
            "count": 0
           },
           {
            "bin_start": 5.5,
            "bin_end": 5.6,
            "count": 0
           },
           {
            "bin_start": 5.6,
            "bin_end": 5.7,
            "count": 0
           },
           {
            "bin_start": 5.7,
            "bin_end": 5.8,
            "count": 0
           },
           {
            "bin_start": 5.8,
            "bin_end": 5.9,
            "count": 1
           },
           {
            "bin_start": 5.9,
            "bin_end": 6,
            "count": 0
           },
           {
            "bin_start": 6,
            "bin_end": 6.1,
            "count": 0
           },
           {
            "bin_start": 6.1,
            "bin_end": 6.2,
            "count": 0
           },
           {
            "bin_start": 6.2,
            "bin_end": 6.3,
            "count": 0
           }
          ]
         }
        },
        {
         "name": "resultdir",
         "dtype": "float64",
         "stats": {
          "unique_count": 1,
          "nan_count": 0,
          "min": "18.0",
          "max": "18.0",
          "histogram": [
           {
            "bin_start": 17.5,
            "bin_end": 17.6,
            "count": 0
           },
           {
            "bin_start": 17.6,
            "bin_end": 17.7,
            "count": 0
           },
           {
            "bin_start": 17.7,
            "bin_end": 17.8,
            "count": 0
           },
           {
            "bin_start": 17.8,
            "bin_end": 17.9,
            "count": 0
           },
           {
            "bin_start": 17.9,
            "bin_end": 18,
            "count": 0
           },
           {
            "bin_start": 18,
            "bin_end": 18.1,
            "count": 1
           },
           {
            "bin_start": 18.1,
            "bin_end": 18.2,
            "count": 0
           },
           {
            "bin_start": 18.2,
            "bin_end": 18.3,
            "count": 0
           },
           {
            "bin_start": 18.3,
            "bin_end": 18.4,
            "count": 0
           },
           {
            "bin_start": 18.4,
            "bin_end": 18.5,
            "count": 0
           }
          ]
         }
        },
        {
         "name": "avgspeed",
         "dtype": "float64",
         "stats": {
          "unique_count": 1,
          "nan_count": 0,
          "min": "6.5",
          "max": "6.5",
          "histogram": [
           {
            "bin_start": 6,
            "bin_end": 6.1,
            "count": 0
           },
           {
            "bin_start": 6.1,
            "bin_end": 6.2,
            "count": 0
           },
           {
            "bin_start": 6.2,
            "bin_end": 6.3,
            "count": 0
           },
           {
            "bin_start": 6.3,
            "bin_end": 6.4,
            "count": 0
           },
           {
            "bin_start": 6.4,
            "bin_end": 6.5,
            "count": 0
           },
           {
            "bin_start": 6.5,
            "bin_end": 6.6,
            "count": 1
           },
           {
            "bin_start": 6.6,
            "bin_end": 6.7,
            "count": 0
           },
           {
            "bin_start": 6.7,
            "bin_end": 6.8,
            "count": 0
           },
           {
            "bin_start": 6.8,
            "bin_end": 6.9,
            "count": 0
           },
           {
            "bin_start": 6.9,
            "bin_end": 7,
            "count": 0
           }
          ]
         }
        },
        {
         "name": "year",
         "dtype": "int64",
         "stats": {
          "unique_count": 1,
          "nan_count": 0,
          "min": "2007",
          "max": "2007",
          "histogram": [
           {
            "bin_start": 2006.5,
            "bin_end": 2006.6,
            "count": 0
           },
           {
            "bin_start": 2006.6,
            "bin_end": 2006.7,
            "count": 0
           },
           {
            "bin_start": 2006.7,
            "bin_end": 2006.8,
            "count": 0
           },
           {
            "bin_start": 2006.8,
            "bin_end": 2006.9,
            "count": 0
           },
           {
            "bin_start": 2006.9,
            "bin_end": 2007,
            "count": 0
           },
           {
            "bin_start": 2007,
            "bin_end": 2007.1,
            "count": 1
           },
           {
            "bin_start": 2007.1,
            "bin_end": 2007.2,
            "count": 0
           },
           {
            "bin_start": 2007.2,
            "bin_end": 2007.3,
            "count": 0
           },
           {
            "bin_start": 2007.3,
            "bin_end": 2007.4,
            "count": 0
           },
           {
            "bin_start": 2007.4,
            "bin_end": 2007.5,
            "count": 0
           }
          ]
         }
        },
        {
         "name": "month",
         "dtype": "int64",
         "stats": {
          "unique_count": 1,
          "nan_count": 0,
          "min": "5",
          "max": "5",
          "histogram": [
           {
            "bin_start": 4.5,
            "bin_end": 4.6,
            "count": 0
           },
           {
            "bin_start": 4.6,
            "bin_end": 4.7,
            "count": 0
           },
           {
            "bin_start": 4.7,
            "bin_end": 4.8,
            "count": 0
           },
           {
            "bin_start": 4.8,
            "bin_end": 4.9,
            "count": 0
           },
           {
            "bin_start": 4.9,
            "bin_end": 5,
            "count": 0
           },
           {
            "bin_start": 5,
            "bin_end": 5.1,
            "count": 1
           },
           {
            "bin_start": 5.1,
            "bin_end": 5.2,
            "count": 0
           },
           {
            "bin_start": 5.2,
            "bin_end": 5.3,
            "count": 0
           },
           {
            "bin_start": 5.3,
            "bin_end": 5.4,
            "count": 0
           },
           {
            "bin_start": 5.4,
            "bin_end": 5.5,
            "count": 0
           }
          ]
         }
        },
        {
         "name": "day",
         "dtype": "int64",
         "stats": {
          "unique_count": 1,
          "nan_count": 0,
          "min": "29",
          "max": "29",
          "histogram": [
           {
            "bin_start": 28.5,
            "bin_end": 28.6,
            "count": 0
           },
           {
            "bin_start": 28.6,
            "bin_end": 28.7,
            "count": 0
           },
           {
            "bin_start": 28.7,
            "bin_end": 28.8,
            "count": 0
           },
           {
            "bin_start": 28.8,
            "bin_end": 28.9,
            "count": 0
           },
           {
            "bin_start": 28.9,
            "bin_end": 29,
            "count": 0
           },
           {
            "bin_start": 29,
            "bin_end": 29.1,
            "count": 1
           },
           {
            "bin_start": 29.1,
            "bin_end": 29.2,
            "count": 0
           },
           {
            "bin_start": 29.2,
            "bin_end": 29.3,
            "count": 0
           },
           {
            "bin_start": 29.3,
            "bin_end": 29.4,
            "count": 0
           },
           {
            "bin_start": 29.4,
            "bin_end": 29.5,
            "count": 0
           }
          ]
         }
        },
        {
         "name": "_deepnote_index_column",
         "dtype": "int64"
        }
       ],
       "rows_top": [
        {
         "date": "2007-05-29T00:00:00.000000",
         "species": "CULEX PIPIENS/RESTUANS",
         "block": 41,
         "street": " N OAK PARK AVE",
         "trap": "T002",
         "latitude": 41.95469,
         "longitude": -87.800991,
         "addressaccuracy": 9,
         "nummosquitos": 1,
         "wnvpresent": 0,
         "tavg": 74,
         "dewpoint": 58,
         "wetbulb": 65,
         "codesum": "BR HZ",
         "preciptotal": 0,
         "stnpressure": 29.39,
         "sealevel": 30.11,
         "resultspeed": 5.8,
         "resultdir": 18,
         "avgspeed": 6.5,
         "year": 2007,
         "month": 5,
         "day": 29,
         "_deepnote_index_column": 0
        }
       ],
       "rows_bottom": null
      },
      "text/plain": "        date                 species  block           street  trap  latitude  \\\n0 2007-05-29  CULEX PIPIENS/RESTUANS   41.0   N OAK PARK AVE  T002  41.95469   \n\n   longitude  addressaccuracy  nummosquitos  wnvpresent  ...  codesum  \\\n0 -87.800991              9.0           1.0         0.0  ...    BR HZ   \n\n   preciptotal  stnpressure sealevel  resultspeed  resultdir  avgspeed  year  \\\n0          0.0        29.39    30.11          5.8       18.0       6.5  2007   \n\n   month  day  \n0      5   29  \n\n[1 rows x 23 columns]",
      "text/html": "<div>\n<style scoped>\n    .dataframe tbody tr th:only-of-type {\n        vertical-align: middle;\n    }\n\n    .dataframe tbody tr th {\n        vertical-align: top;\n    }\n\n    .dataframe thead th {\n        text-align: right;\n    }\n</style>\n<table border=\"1\" class=\"dataframe\">\n  <thead>\n    <tr style=\"text-align: right;\">\n      <th></th>\n      <th>date</th>\n      <th>species</th>\n      <th>block</th>\n      <th>street</th>\n      <th>trap</th>\n      <th>latitude</th>\n      <th>longitude</th>\n      <th>addressaccuracy</th>\n      <th>nummosquitos</th>\n      <th>wnvpresent</th>\n      <th>...</th>\n      <th>codesum</th>\n      <th>preciptotal</th>\n      <th>stnpressure</th>\n      <th>sealevel</th>\n      <th>resultspeed</th>\n      <th>resultdir</th>\n      <th>avgspeed</th>\n      <th>year</th>\n      <th>month</th>\n      <th>day</th>\n    </tr>\n  </thead>\n  <tbody>\n    <tr>\n      <th>0</th>\n      <td>2007-05-29</td>\n      <td>CULEX PIPIENS/RESTUANS</td>\n      <td>41.0</td>\n      <td>N OAK PARK AVE</td>\n      <td>T002</td>\n      <td>41.95469</td>\n      <td>-87.800991</td>\n      <td>9.0</td>\n      <td>1.0</td>\n      <td>0.0</td>\n      <td>...</td>\n      <td>BR HZ</td>\n      <td>0.0</td>\n      <td>29.39</td>\n      <td>30.11</td>\n      <td>5.8</td>\n      <td>18.0</td>\n      <td>6.5</td>\n      <td>2007</td>\n      <td>5</td>\n      <td>29</td>\n    </tr>\n  </tbody>\n</table>\n<p>1 rows × 23 columns</p>\n</div>"
     },
     "metadata": {}
    }
   ]
  },
  {
   "cell_type": "code",
   "metadata": {
    "deepnote_to_be_reexecuted": false,
    "execution_millis": 12,
    "execution_start": 1637218221647,
    "source_hash": "9a9cd6e",
    "tags": [],
    "cell_id": "00065-ea3d685a-c0f8-43ee-92d2-ba5b40dd455f",
    "deepnote_cell_type": "code"
   },
   "source": "#showing information of the combined dataframe\ncombined_df.info()",
   "execution_count": null,
   "outputs": [
    {
     "name": "stdout",
     "text": "<class 'pandas.core.frame.DataFrame'>\nInt64Index: 9601 entries, 0 to 9692\nData columns (total 23 columns):\n #   Column           Non-Null Count  Dtype         \n---  ------           --------------  -----         \n 0   date             9601 non-null   datetime64[ns]\n 1   species          9601 non-null   object        \n 2   block            9601 non-null   float64       \n 3   street           9601 non-null   object        \n 4   trap             9601 non-null   object        \n 5   latitude         9601 non-null   float64       \n 6   longitude        9601 non-null   float64       \n 7   addressaccuracy  9601 non-null   float64       \n 8   nummosquitos     9601 non-null   float64       \n 9   wnvpresent       9601 non-null   float64       \n 10  tavg             9601 non-null   float64       \n 11  dewpoint         9601 non-null   float64       \n 12  wetbulb          9601 non-null   float64       \n 13  codesum          9601 non-null   object        \n 14  preciptotal      9601 non-null   float64       \n 15  stnpressure      9601 non-null   float64       \n 16  sealevel         9601 non-null   float64       \n 17  resultspeed      9601 non-null   float64       \n 18  resultdir        9601 non-null   float64       \n 19  avgspeed         9601 non-null   float64       \n 20  year             9601 non-null   int64         \n 21  month            9601 non-null   int64         \n 22  day              9601 non-null   int64         \ndtypes: datetime64[ns](1), float64(15), int64(3), object(4)\nmemory usage: 1.8+ MB\n",
     "output_type": "stream"
    }
   ]
  },
  {
   "cell_type": "code",
   "metadata": {
    "deepnote_to_be_reexecuted": false,
    "execution_millis": 0,
    "execution_start": 1637218221648,
    "source_hash": "d0675cfd",
    "tags": [],
    "cell_id": "00066-7b65fdb9-50d6-4f2a-bc38-88fd339571d6",
    "deepnote_output_heights": [
     21.1875
    ],
    "deepnote_cell_type": "code"
   },
   "source": "#see the number of rows and columns of the combined dataframe\ncombined_df.shape",
   "execution_count": null,
   "outputs": [
    {
     "output_type": "execute_result",
     "execution_count": 60,
     "data": {
      "text/plain": "(9601, 23)"
     },
     "metadata": {}
    }
   ]
  },
  {
   "cell_type": "markdown",
   "source": "## spray_df",
   "metadata": {
    "cell_id": "00067-e11deb33-ddf3-40fe-9347-afd64632b0b1",
    "deepnote_cell_type": "markdown"
   }
  },
  {
   "cell_type": "code",
   "metadata": {
    "cell_id": "00068-f2d0ebe8-3179-47a0-a809-64f67a6ebc0f",
    "deepnote_to_be_reexecuted": false,
    "source_hash": "2f0e5640",
    "execution_start": 1637218221649,
    "execution_millis": 11,
    "deepnote_cell_type": "code"
   },
   "source": "#show sample output of the spray dataframe\nspray_df.head()",
   "execution_count": null,
   "outputs": [
    {
     "output_type": "execute_result",
     "execution_count": 61,
     "data": {
      "application/vnd.deepnote.dataframe.v2+json": {
       "row_count": 5,
       "column_count": 4,
       "columns": [
        {
         "name": "Date",
         "dtype": "object",
         "stats": {
          "unique_count": 1,
          "nan_count": 0,
          "categories": [
           {
            "name": "2011-08-29",
            "count": 5
           }
          ]
         }
        },
        {
         "name": "Time",
         "dtype": "object",
         "stats": {
          "unique_count": 5,
          "nan_count": 0,
          "categories": [
           {
            "name": "6:56:58 PM",
            "count": 1
           },
           {
            "name": "6:57:08 PM",
            "count": 1
           },
           {
            "name": "3 others",
            "count": 3
           }
          ]
         }
        },
        {
         "name": "Latitude",
         "dtype": "float64",
         "stats": {
          "unique_count": 5,
          "nan_count": 0,
          "min": "42.39041",
          "max": "42.3916233333333",
          "histogram": [
           {
            "bin_start": 42.39041,
            "bin_end": 42.390531333333335,
            "count": 1
           },
           {
            "bin_start": 42.390531333333335,
            "bin_end": 42.39065266666666,
            "count": 1
           },
           {
            "bin_start": 42.39065266666666,
            "bin_end": 42.39077399999999,
            "count": 0
           },
           {
            "bin_start": 42.39077399999999,
            "bin_end": 42.39089533333332,
            "count": 0
           },
           {
            "bin_start": 42.39089533333332,
            "bin_end": 42.39101666666665,
            "count": 0
           },
           {
            "bin_start": 42.39101666666665,
            "bin_end": 42.391137999999984,
            "count": 1
           },
           {
            "bin_start": 42.391137999999984,
            "bin_end": 42.39125933333331,
            "count": 0
           },
           {
            "bin_start": 42.39125933333331,
            "bin_end": 42.39138066666664,
            "count": 1
           },
           {
            "bin_start": 42.39138066666664,
            "bin_end": 42.39150199999997,
            "count": 0
           },
           {
            "bin_start": 42.39150199999997,
            "bin_end": 42.3916233333333,
            "count": 1
           }
          ]
         }
        },
        {
         "name": "Longitude",
         "dtype": "float64",
         "stats": {
          "unique_count": 4,
          "nan_count": 0,
          "min": "-88.0891633333333",
          "max": "-88.0888583333333",
          "histogram": [
           {
            "bin_start": -88.0891633333333,
            "bin_end": -88.08913283333331,
            "count": 4
           },
           {
            "bin_start": -88.08913283333331,
            "bin_end": -88.0891023333333,
            "count": 0
           },
           {
            "bin_start": -88.0891023333333,
            "bin_end": -88.0890718333333,
            "count": 0
           },
           {
            "bin_start": -88.0890718333333,
            "bin_end": -88.0890413333333,
            "count": 0
           },
           {
            "bin_start": -88.0890413333333,
            "bin_end": -88.0890108333333,
            "count": 0
           },
           {
            "bin_start": -88.0890108333333,
            "bin_end": -88.08898033333331,
            "count": 0
           },
           {
            "bin_start": -88.08898033333331,
            "bin_end": -88.0889498333333,
            "count": 0
           },
           {
            "bin_start": -88.0889498333333,
            "bin_end": -88.08891933333331,
            "count": 0
           },
           {
            "bin_start": -88.08891933333331,
            "bin_end": -88.0888888333333,
            "count": 0
           },
           {
            "bin_start": -88.0888888333333,
            "bin_end": -88.0888583333333,
            "count": 1
           }
          ]
         }
        },
        {
         "name": "_deepnote_index_column",
         "dtype": "int64"
        }
       ],
       "rows_top": [
        {
         "Date": "2011-08-29",
         "Time": "6:56:58 PM",
         "Latitude": 42.3916233333333,
         "Longitude": -88.0891633333333,
         "_deepnote_index_column": 0
        },
        {
         "Date": "2011-08-29",
         "Time": "6:57:08 PM",
         "Latitude": 42.3913483333333,
         "Longitude": -88.0891633333333,
         "_deepnote_index_column": 1
        },
        {
         "Date": "2011-08-29",
         "Time": "6:57:18 PM",
         "Latitude": 42.3910216666667,
         "Longitude": -88.0891566666667,
         "_deepnote_index_column": 2
        },
        {
         "Date": "2011-08-29",
         "Time": "6:57:28 PM",
         "Latitude": 42.3906366666667,
         "Longitude": -88.0891583333333,
         "_deepnote_index_column": 3
        },
        {
         "Date": "2011-08-29",
         "Time": "6:57:38 PM",
         "Latitude": 42.39041,
         "Longitude": -88.0888583333333,
         "_deepnote_index_column": 4
        }
       ],
       "rows_bottom": null
      },
      "text/plain": "         Date        Time   Latitude  Longitude\n0  2011-08-29  6:56:58 PM  42.391623 -88.089163\n1  2011-08-29  6:57:08 PM  42.391348 -88.089163\n2  2011-08-29  6:57:18 PM  42.391022 -88.089157\n3  2011-08-29  6:57:28 PM  42.390637 -88.089158\n4  2011-08-29  6:57:38 PM  42.390410 -88.088858",
      "text/html": "<div>\n<style scoped>\n    .dataframe tbody tr th:only-of-type {\n        vertical-align: middle;\n    }\n\n    .dataframe tbody tr th {\n        vertical-align: top;\n    }\n\n    .dataframe thead th {\n        text-align: right;\n    }\n</style>\n<table border=\"1\" class=\"dataframe\">\n  <thead>\n    <tr style=\"text-align: right;\">\n      <th></th>\n      <th>Date</th>\n      <th>Time</th>\n      <th>Latitude</th>\n      <th>Longitude</th>\n    </tr>\n  </thead>\n  <tbody>\n    <tr>\n      <th>0</th>\n      <td>2011-08-29</td>\n      <td>6:56:58 PM</td>\n      <td>42.391623</td>\n      <td>-88.089163</td>\n    </tr>\n    <tr>\n      <th>1</th>\n      <td>2011-08-29</td>\n      <td>6:57:08 PM</td>\n      <td>42.391348</td>\n      <td>-88.089163</td>\n    </tr>\n    <tr>\n      <th>2</th>\n      <td>2011-08-29</td>\n      <td>6:57:18 PM</td>\n      <td>42.391022</td>\n      <td>-88.089157</td>\n    </tr>\n    <tr>\n      <th>3</th>\n      <td>2011-08-29</td>\n      <td>6:57:28 PM</td>\n      <td>42.390637</td>\n      <td>-88.089158</td>\n    </tr>\n    <tr>\n      <th>4</th>\n      <td>2011-08-29</td>\n      <td>6:57:38 PM</td>\n      <td>42.390410</td>\n      <td>-88.088858</td>\n    </tr>\n  </tbody>\n</table>\n</div>"
     },
     "metadata": {}
    }
   ]
  },
  {
   "cell_type": "code",
   "metadata": {
    "cell_id": "00069-3cd0937f-c4ff-47a4-84f6-1596a279bdc6",
    "deepnote_to_be_reexecuted": false,
    "source_hash": "4cecd52a",
    "execution_start": 1637218221650,
    "execution_millis": 30,
    "deepnote_output_heights": [
     611
    ],
    "deepnote_cell_type": "code"
   },
   "source": "# check unique value counts for time column\nspray_df['Time'].value_counts()",
   "execution_count": null,
   "outputs": [
    {
     "output_type": "execute_result",
     "execution_count": 62,
     "data": {
      "text/plain": "7:44:32 PM     541\n9:38:27 PM       5\n9:40:27 PM       5\n9:35:47 PM       5\n8:55:26 PM       5\n9:31:27 PM       5\n8:59:06 PM       5\n8:58:56 PM       5\n8:57:56 PM       5\n9:05:56 PM       5\n8:57:46 PM       5\n8:58:26 PM       5\n8:55:36 PM       5\n9:37:27 PM       5\n8:55:46 PM       5\n9:17:36 PM       4\n8:29:36 PM       4\n9:48:55 PM       4\n8:25:11 PM       4\n8:38:25 PM       4\n9:33:37 PM       4\n9:22:56 PM       4\n8:55:06 PM       4\n8:23:51 PM       4\n9:36:27 PM       4\n8:46:15 PM       4\n8:31:46 PM       4\n8:15:06 PM       4\n8:34:06 PM       4\n8:33:31 PM       4\n8:25:16 PM       4\n8:59:55 PM       4\n8:24:51 PM       4\n9:16:15 PM       4\n8:24:11 PM       4\n9:14:55 PM       4\n9:18:35 PM       4\n9:47:15 PM       4\n9:42:25 PM       4\n8:28:01 PM       4\n9:22:16 PM       4\n9:07:05 PM       4\n9:14:15 PM       4\n9:38:57 PM       4\n9:10:46 PM       4\n9:49:25 PM       4\n8:58:06 PM       4\n8:54:05 PM       4\n8:40:16 PM       4\n8:57:15 PM       4\n8:20:11 PM       4\n9:28:47 PM       4\n8:51:35 PM       4\n8:27:46 PM       4\n9:05:46 PM       4\n8:58:46 PM       4\n9:08:46 PM       4\n9:25:46 PM       4\n8:33:41 PM       4\n8:25:41 PM       4\n9:21:06 PM       4\n8:38:35 PM       4\n8:14:56 PM       4\n8:26:16 PM       4\n8:19:31 PM       4\n8:29:01 PM       4\n9:27:15 PM       4\n9:01:06 PM       4\n8:38:46 PM       4\n8:26:26 PM       4\n8:48:45 PM       4\n9:39:17 PM       4\n8:49:45 PM       4\n9:39:27 PM       4\n9:17:16 PM       4\n8:54:06 PM       4\n9:05:06 PM       4\n8:30:31 PM       4\n9:18:45 PM       4\n9:21:46 PM       4\n9:30:27 PM       4\n9:40:17 PM       4\n9:45:15 PM       4\n9:38:47 PM       4\n9:26:26 PM       4\n8:46:35 PM       4\n9:38:17 PM       4\n8:14:26 PM       4\n8:38:05 PM       4\n9:05:26 PM       4\n8:51:36 PM       4\n9:19:15 PM       4\n8:24:41 PM       4\n8:22:01 PM       4\n8:54:16 PM       4\n9:16:05 PM       4\n9:05:36 PM       4\n8:49:15 PM       4\n8:05:31 PM       4\n9:14:35 PM       4\n8:25:21 PM       4\n9:40:07 PM       4\n8:46:25 PM       4\n8:55:15 PM       4\n8:44:15 PM       4\n9:04:05 PM       4\n8:21:21 PM       4\n9:22:36 PM       4\n8:19:21 PM       4\n8:54:46 PM       4\n9:09:26 PM       4\n8:11:11 PM       4\n8:36:55 PM       4\n8:59:36 PM       4\n8:40:26 PM       4\n9:49:45 PM       4\n8:30:21 PM       4\n8:31:26 PM       4\n9:35:57 PM       4\n8:40:46 PM       4\n8:43:05 PM       4\n9:00:05 PM       4\n8:41:55 PM       4\n8:55:16 PM       4\n8:28:21 PM       4\n8:33:56 PM       4\n9:31:57 PM       4\n8:59:25 PM       4\n8:27:56 PM       4\n8:25:36 PM       4\n8:56:45 PM       4\n9:13:46 PM       4\n9:21:56 PM       4\n9:16:56 PM       4\n8:59:05 PM       4\n8:53:45 PM       4\n9:26:16 PM       4\n8:21:01 PM       4\n9:10:56 PM       4\n9:25:26 PM       4\n9:04:46 PM       4\n8:48:15 PM       4\n9:14:06 PM       4\n9:08:56 PM       4\n8:59:15 PM       4\n9:42:15 PM       4\n9:31:07 PM       4\n9:11:06 PM       4\n9:32:26 PM       4\n9:16:16 PM       4\n9:16:26 PM       4\n8:38:15 PM       4\n8:30:26 PM       4\n9:17:56 PM       4\n9:30:17 PM       4\n9:11:16 PM       4\n8:37:56 PM       4\n8:30:51 PM       4\n9:42:35 PM       4\n9:36:57 PM       4\n9:16:36 PM       4\n8:31:36 PM       4\n9:08:25 PM       4\n8:29:46 PM       4\n9:28:37 PM       4\n8:37:46 PM       4\n9:07:35 PM       4\n9:30:07 PM       4\n8:25:01 PM       4\n9:07:15 PM       4\n9:17:26 PM       4\n10:02:05 PM      4\n8:19:01 PM       4\n9:14:45 PM       4\n8:48:35 PM       4\n8:39:36 PM       4\n9:04:35 PM       4\n9:01:36 PM       4\n9:03:46 PM       4\n8:24:36 PM       4\n8:58:16 PM       4\n8:37:36 PM       4\n8:33:46 PM       4\n8:14:46 PM       4\n8:56:06 PM       4\n8:48:25 PM       4\n8:51:55 PM       4\n8:43:15 PM       4\n8:18:51 PM       4\n8:55:56 PM       4\n8:25:06 PM       4\n9:16:25 PM       4\n9:07:25 PM       4\n8:28:06 PM       4\n8:16:41 PM       4\n9:07:56 PM       4\n8:44:35 PM       4\n8:59:26 PM       4\n9:00:35 PM       4\n8:40:56 PM       4\n8:17:11 PM       4\n9:21:05 PM       4\n8:55:25 PM       4\n8:28:31 PM       4\n8:57:25 PM       4\n8:58:45 PM       4\n8:53:55 PM       4\n8:28:16 PM       4\n9:08:35 PM       4\n8:38:06 PM       4\n9:07:36 PM       4\n8:48:55 PM       4\n9:38:37 PM       4\n8:30:41 PM       4\n9:13:56 PM       4\n9:10:36 PM       4\n9:42:45 PM       4\n9:25:56 PM       4\n8:31:31 PM       4\n8:33:36 PM       4\n10:02:15 PM      4\n9:19:25 PM       4\n9:32:07 PM       4\n9:21:16 PM       4\n8:30:16 PM       4\n9:20:56 PM       4\n9:19:35 PM       4\n8:26:01 PM       4\n9:09:46 PM       4\n8:42:55 PM       4\n8:15:11 PM       4\n9:44:07 PM       4\n10:01:35 PM      4\n8:56:36 PM       4\n8:14:06 PM       4\n9:49:35 PM       4\n9:26:06 PM       4\n9:31:17 PM       4\n8:56:25 PM       4\n8:54:26 PM       4\n8:13:56 PM       4\n9:08:15 PM       4\n9:59:05 PM       4\n8:31:35 PM       4\n8:21:56 PM       4\n9:09:56 PM       4\n9:25:16 PM       4\n9:07:45 PM       4\n9:17:06 PM       4\n9:42:27 PM       4\n8:38:56 PM       4\n9:39:37 PM       4\n9:03:06 PM       4\n8:36:45 PM       4\n9:18:55 PM       4\n8:36:26 PM       4\n9:22:26 PM       4\n9:02:56 PM       4\n8:38:55 PM       4\n9:27:05 PM       4\n9:38:07 PM       4\n8:40:36 PM       4\n9:24:27 PM       4\n10:01:45 PM      4\n9:31:47 PM       4\n8:37:55 PM       4\n8:46:45 PM       4\n9:02:06 PM       4\n8:31:11 PM       4\n8:22:41 PM       4\n8:27:31 PM       4\n8:23:01 PM       4\n8:29:21 PM       4\n8:58:55 PM       4\n8:46:55 PM       4\n8:39:06 PM       4\n8:14:51 PM       4\n8:59:45 PM       4\n8:27:21 PM       4\n8:39:46 PM       4\n8:56:35 PM       4\n8:59:16 PM       4\n9:31:37 PM       4\n8:25:46 PM       4\n9:03:56 PM       4\n9:21:36 PM       4\n8:59:46 PM       4\n9:07:26 PM       4\n9:01:46 PM       4\n8:44:05 PM       4\n8:05:11 PM       4\n8:22:11 PM       4\n8:26:11 PM       4\n9:47:25 PM       4\n9:14:25 PM       4\n9:32:57 PM       3\n8:29:10 PM       3\n9:14:36 PM       3\n8:12:21 PM       3\n8:38:26 PM       3\n8:13:46 PM       3\n10:21:05 PM      3\n8:37:27 PM       3\n8:43:25 PM       3\n8:16:11 PM       3\n8:57:35 PM       3\n8:24:01 PM       3\n9:38:15 PM       3\n8:36:06 PM       3\n8:15:36 PM       3\n8:38:47 PM       3\n9:03:35 PM       3\n9:39:47 PM       3\n8:34:11 PM       3\n8:28:41 PM       3\n8:36:56 PM       3\n9:18:26 PM       3\n9:00:15 PM       3\n8:14:16 PM       3\n8:21:40 PM       3\n8:44:07 PM       3\n8:41:45 PM       3\n8:22:31 PM       3\n9:04:06 PM       3\n8:40:05 PM       3\n10:09:56 PM      3\n8:25:26 PM       3\n9:31:16 PM       3\n9:11:36 PM       3\n8:21:41 PM       3\n8:10:51 PM       3\n9:22:47 PM       3\n9:04:15 PM       3\n9:23:07 PM       3\n8:31:51 PM       3\n8:43:57 PM       3\n9:33:07 PM       3\n8:28:40 PM       3\n8:56:16 PM       3\n9:42:37 PM       3\n9:46:37 PM       3\n8:26:40 PM       3\n8:54:37 PM       3\n9:50:36 PM       3\n9:51:17 PM       3\n10:15:05 PM      3\n9:29:35 PM       3\n8:39:16 PM       3\n8:25:47 PM       3\n8:26:37 PM       3\n8:29:17 PM       3\n8:43:55 PM       3\n8:43:06 PM       3\n9:25:57 PM       3\n9:01:26 PM       3\n9:00:57 PM       3\n8:20:46 PM       3\n8:37:06 PM       3\n9:21:45 PM       3\n8:18:26 PM       3\n8:51:46 PM       3\n8:16:26 PM       3\n9:08:55 PM       3\n8:44:26 PM       3\n9:34:16 PM       3\n10:16:35 PM      3\n8:28:56 PM       3\n8:58:36 PM       3\n9:25:05 PM       3\n8:55:05 PM       3\n9:29:55 PM       3\n10:02:06 PM      3\n9:12:46 PM       3\n8:43:27 PM       3\n8:28:47 PM       3\n8:26:50 PM       3\n9:45:25 PM       3\n8:43:35 PM       3\n8:55:57 PM       3\n8:27:51 PM       3\n8:03:46 PM       3\n9:31:06 PM       3\n8:13:31 PM       3\n8:43:31 PM       3\n9:27:37 PM       3\n8:34:17 PM       3\n9:08:05 PM       3\n9:48:35 PM       3\n10:01:55 PM      3\n8:34:47 PM       3\n9:24:47 PM       3\n9:11:56 PM       3\n8:08:21 PM       3\n8:32:06 PM       3\n9:05:17 PM       3\n8:34:56 PM       3\n9:45:07 PM       3\n9:14:16 PM       3\n9:54:36 PM       3\n9:44:05 PM       3\n9:43:37 PM       3\n9:28:17 PM       3\n8:21:26 PM       3\n8:09:46 PM       3\n8:42:21 PM       3\n9:25:36 PM       3\n9:36:07 PM       3\n8:23:11 PM       3\n8:39:56 PM       3\n8:31:27 PM       3\n9:58:45 PM       3\n8:52:25 PM       3\n8:35:55 PM       3\n8:12:31 PM       3\n8:33:43 PM       3\n8:45:05 PM       3\n9:27:35 PM       3\n9:33:26 PM       3\n8:10:01 PM       3\n8:34:23 PM       3\n8:28:27 PM       3\n8:34:07 PM       3\n10:01:36 PM      3\n8:15:56 PM       3\n9:21:27 PM       3\n8:37:15 PM       3\n8:27:11 PM       3\n8:34:36 PM       3\n8:39:25 PM       3\n9:28:45 PM       3\n8:52:15 PM       3\n8:27:55 PM       3\n8:13:06 PM       3\n9:10:16 PM       3\n10:10:06 PM      3\n8:49:05 PM       3\n9:44:17 PM       3\n8:22:26 PM       3\n8:32:16 PM       3\n8:15:46 PM       3\n8:31:56 PM       3\n8:41:07 PM       3\n8:18:31 PM       3\n8:11:01 PM       3\n8:22:20 PM       3\n9:12:35 PM       3\n8:10:56 PM       3\n10:21:15 PM      3\n9:12:36 PM       3\n8:34:01 PM       3\n8:33:57 PM       3\n10:20:35 PM      3\n8:45:56 PM       3\n8:29:51 PM       3\n8:40:17 PM       3\n8:26:46 PM       3\n8:43:45 PM       3\n8:20:40 PM       3\n9:06:56 PM       3\n8:20:41 PM       3\n9:15:26 PM       3\n9:16:45 PM       3\n9:54:16 PM       3\n8:35:45 PM       3\n9:18:16 PM       3\n8:30:06 PM       3\n8:22:06 PM       3\n8:28:46 PM       3\n8:26:31 PM       3\n9:34:25 PM       3\n9:37:55 PM       3\n9:15:55 PM       3\n8:38:37 PM       3\n8:16:16 PM       3\n8:56:56 PM       3\n10:14:36 PM      3\n8:47:06 PM       3\n8:26:07 PM       3\n9:19:06 PM       3\n9:35:17 PM       3\n9:23:35 PM       3\n9:41:57 PM       3\n8:21:50 PM       3\n8:41:35 PM       3\n10:27:16 PM      3\n10:01:15 PM      3\n9:15:56 PM       3\n8:58:17 PM       3\n8:22:16 PM       3\n8:09:11 PM       3\n8:42:15 PM       3\n9:57:16 PM       3\n8:34:27 PM       3\n9:25:55 PM       3\n8:40:41 PM       3\n8:57:36 PM       3\n8:36:47 PM       3\n9:07:06 PM       3\n8:22:51 PM       3\n8:24:00 PM       3\n8:23:16 PM       3\n8:42:47 PM       3\n8:12:01 PM       3\n9:34:55 PM       3\n8:10:26 PM       3\n8:20:16 PM       3\n8:39:47 PM       3\n9:45:47 PM       3\n9:18:36 PM       3\n9:51:37 PM       3\n8:17:01 PM       3\n8:44:55 PM       3\n8:46:05 PM       3\n9:17:15 PM       3\n9:22:07 PM       3\n8:33:21 PM       3\n10:20:25 PM      3\n9:44:47 PM       3\n8:34:43 PM       3\n8:14:21 PM       3\n9:42:17 PM       3\n9:28:27 PM       3\n9:05:35 PM       3\n9:25:17 PM       3\n8:20:00 PM       3\n8:19:46 PM       3\n8:26:41 PM       3\n9:43:15 PM       3\n10:20:05 PM      3\n8:18:41 PM       3\n9:13:06 PM       3\n8:34:53 PM       3\n9:50:46 PM       3\n9:46:47 PM       3\n9:49:46 PM       3\n8:16:00 PM       3\n8:09:36 PM       3\n8:10:36 PM       3\n8:16:06 PM       3\n9:45:45 PM       3\n8:15:26 PM       3\n9:37:47 PM       3\n8:50:45 PM       3\n9:03:05 PM       3\n9:08:06 PM       3\n9:57:05 PM       3\n9:23:37 PM       3\n8:16:50 PM       3\n9:36:47 PM       3\n8:38:57 PM       3\n8:56:15 PM       3\n10:14:25 PM      3\n9:04:25 PM       3\n9:02:55 PM       3\n9:48:57 PM       3\n8:15:51 PM       3\n8:21:11 PM       3\n9:43:06 PM       3\n9:25:06 PM       3\n9:27:57 PM       3\n9:32:36 PM       3\n8:47:46 PM       3\n8:53:36 PM       3\n10:00:25 PM      3\n8:42:05 PM       3\n9:00:17 PM       3\n8:44:37 PM       3\n9:14:26 PM       3\n9:43:47 PM       3\n8:37:05 PM       3\n8:31:57 PM       3\n9:05:47 PM       3\n9:10:25 PM       3\n8:04:06 PM       3\n9:32:56 PM       3\n9:55:06 PM       3\n8:15:30 PM       3\n8:26:27 PM       3\n8:18:00 PM       3\n9:38:45 PM       3\n9:24:55 PM       3\n9:34:07 PM       3\n8:42:27 PM       3\n10:17:05 PM      3\n9:44:45 PM       3\n8:11:16 PM       3\n8:51:16 PM       3\n9:00:07 PM       3\n8:32:25 PM       3\n9:52:56 PM       3\n8:46:56 PM       3\n8:55:35 PM       3\n9:25:37 PM       3\n8:26:35 PM       3\n9:42:07 PM       3\n8:41:30 PM       3\n8:31:05 PM       3\n8:26:15 PM       3\n8:56:46 PM       3\n8:32:15 PM       3\n9:17:45 PM       3\n8:49:06 PM       3\n8:20:31 PM       3\n8:41:41 PM       3\n8:35:41 PM       3\n8:32:05 PM       3\n8:35:03 PM       3\n8:15:01 PM       3\n9:28:15 PM       3\n8:16:51 PM       3\n8:49:35 PM       3\n9:00:25 PM       3\n8:56:55 PM       3\n8:13:20 PM       3\n8:50:35 PM       3\n8:52:55 PM       3\n8:18:10 PM       3\n8:32:30 PM       3\n8:23:20 PM       3\n9:56:55 PM       3\n8:32:07 PM       3\n9:04:16 PM       3\n8:26:56 PM       3\n9:01:07 PM       3\n9:44:37 PM       3\n9:43:57 PM       3\n9:13:16 PM       3\n9:41:15 PM       3\n9:05:16 PM       3\n8:37:47 PM       3\n8:29:31 PM       3\n9:41:47 PM       3\n8:27:40 PM       3\n8:32:26 PM       3\n9:34:15 PM       3\n8:28:57 PM       3\n9:06:16 PM       3\n9:30:57 PM       3\n9:24:36 PM       3\n10:14:55 PM      3\n9:29:27 PM       3\n9:14:56 PM       3\n9:45:35 PM       3\n8:41:51 PM       3\n8:31:45 PM       3\n9:27:45 PM       3\n9:55:26 PM       3\n9:28:35 PM       3\n9:25:07 PM       3\n9:11:46 PM       3\n8:27:57 PM       3\n9:16:46 PM       3\n9:04:45 PM       3\n8:43:01 PM       3\n8:27:05 PM       3\n8:31:15 PM       3\n8:37:37 PM       3\n8:05:21 PM       3\n9:36:37 PM       3\n8:14:36 PM       3\n9:13:36 PM       3\n8:31:47 PM       3\n8:11:26 PM       3\n9:25:25 PM       3\n8:27:27 PM       3\n8:42:16 PM       3\n8:33:47 PM       3\n8:51:45 PM       3\n8:39:45 PM       3\n8:58:07 PM       3\n8:34:16 PM       3\n8:13:40 PM       3\n9:49:07 PM       3\n8:26:21 PM       3\n9:36:05 PM       3\n9:36:17 PM       3\n8:39:05 PM       3\n8:09:51 PM       3\n8:41:25 PM       3\n9:22:46 PM       3\n9:33:45 PM       3\n9:24:06 PM       3\n9:12:26 PM       3\n9:12:55 PM       3\n8:37:07 PM       3\n8:29:41 PM       3\n8:43:37 PM       3\n8:55:17 PM       3\n8:06:31 PM       3\n10:26:56 PM      3\n8:57:45 PM       3\n8:18:46 PM       3\n8:30:11 PM       3\n9:02:25 PM       3\n8:58:35 PM       3\n8:13:36 PM       3\n8:42:37 PM       3\n8:47:26 PM       3\n9:33:06 PM       3\n10:02:16 PM      3\n8:30:01 PM       3\n8:37:17 PM       3\n9:22:06 PM       3\n9:02:15 PM       3\n8:18:06 PM       3\n8:11:46 PM       3\n8:40:07 PM       3\n8:20:30 PM       3\n8:24:26 PM       3\n8:24:21 PM       3\n8:39:17 PM       3\n9:38:25 PM       3\n8:41:15 PM       3\n9:18:15 PM       3\n9:25:15 PM       3\n8:36:57 PM       3\n9:34:05 PM       3\n10:27:06 PM      3\n9:03:25 PM       3\n8:29:47 PM       3\n9:35:26 PM       3\n8:15:31 PM       3\n10:10:36 PM      3\n9:56:45 PM       3\n9:46:15 PM       3\n9:35:07 PM       3\n8:51:26 PM       3\n9:32:47 PM       3\n9:34:27 PM       3\n9:22:05 PM       3\n9:32:16 PM       3\n9:41:25 PM       3\n9:12:06 PM       3\n9:06:05 PM       3\n8:48:00 PM       3\n8:11:41 PM       3\n10:13:25 PM      3\n8:39:37 PM       3\n9:53:56 PM       3\n9:54:07 PM       3\n8:32:47 PM       3\n9:03:16 PM       3\n8:09:16 PM       3\n8:26:45 PM       3\n9:13:45 PM       3\n8:18:36 PM       3\n9:39:25 PM       3\n10:01:56 PM      3\n8:26:51 PM       3\n8:53:26 PM       3\n8:34:33 PM       3\n9:18:56 PM       3\n9:35:55 PM       3\n8:28:11 PM       3\n9:26:45 PM       3\n8:27:06 PM       3\n9:17:55 PM       3\n8:17:56 PM       3\n8:32:11 PM       3\n10:14:15 PM      3\n9:05:45 PM       3\n9:50:16 PM       3\n8:49:36 PM       3\n10:19:55 PM      3\n10:16:25 PM      3\n9:01:16 PM       3\n8:43:26 PM       3\n9:51:27 PM       3\n8:25:55 PM       3\n9:37:57 PM       3\n9:19:05 PM       3\n9:13:35 PM       3\n9:51:56 PM       3\n9:34:36 PM       3\n8:09:26 PM       3\n8:30:55 PM       3\n9:46:07 PM       3\n8:42:25 PM       3\n10:09:06 PM      3\n9:38:35 PM       3\n8:51:25 PM       3\n9:34:06 PM       3\n8:27:15 PM       3\n9:50:35 PM       3\n8:54:36 PM       3\n9:11:45 PM       3\n8:35:31 PM       3\n9:29:47 PM       3\n9:36:45 PM       3\n9:19:16 PM       3\n8:17:50 PM       3\n10:02:26 PM      3\n8:42:11 PM       3\n9:17:46 PM       3\n8:32:01 PM       3\n8:20:21 PM       3\n8:53:05 PM       3\n8:27:17 PM       3\n8:25:45 PM       3\n10:20:45 PM      3\n8:54:15 PM       3\n8:22:56 PM       3\n9:01:57 PM       3\n8:38:16 PM       3\n8:45:55 PM       3\n8:50:25 PM       3\n9:08:45 PM       3\n8:43:46 PM       3\n8:33:26 PM       3\n9:34:56 PM       3\n8:42:06 PM       3\n8:35:16 PM       3\n9:06:55 PM       3\n8:52:05 PM       3\n9:23:47 PM       3\n8:46:26 PM       3\n8:45:15 PM       3\n8:34:37 PM       3\n9:25:27 PM       3\n9:47:35 PM       3\n8:11:36 PM       3\n8:25:56 PM       3\n9:39:07 PM       3\n9:17:35 PM       3\n9:15:45 PM       3\n8:23:46 PM       3\n8:27:26 PM       3\n8:42:51 PM       3\n8:49:00 PM       3\n8:37:57 PM       3\n8:44:11 PM       3\n9:48:47 PM       3\n8:41:27 PM       3\n9:46:55 PM       3\n8:33:53 PM       3\n8:44:45 PM       3\n8:54:56 PM       3\n9:06:46 PM       3\n9:43:26 PM       3\n8:34:03 PM       3\n8:31:25 PM       3\n8:57:55 PM       3\n9:12:56 PM       3\n9:49:15 PM       3\n8:32:57 PM       3\n8:30:36 PM       3\n9:24:57 PM       3\n9:51:06 PM       3\n10:11:46 PM      3\n9:43:16 PM       3\n8:56:26 PM       3\n8:32:27 PM       3\n9:22:57 PM       3\n9:49:36 PM       3\n8:41:36 PM       3\n9:05:27 PM       3\n8:22:36 PM       3\n8:22:21 PM       3\n8:11:31 PM       3\n8:39:26 PM       3\n9:49:56 PM       3\n9:22:45 PM       3\n9:29:15 PM       3\n10:02:56 PM      3\n9:59:25 PM       3\n9:36:35 PM       3\n9:24:25 PM       3\n9:21:25 PM       3\n8:39:57 PM       3\n9:34:35 PM       3\n8:56:05 PM       3\n8:31:06 PM       3\n9:43:05 PM       3\n9:03:37 PM       3\n8:20:20 PM       3\n8:11:06 PM       3\n9:41:17 PM       3\n9:50:26 PM       3\n9:03:45 PM       3\n9:10:35 PM       3\n8:42:01 PM       3\n8:43:41 PM       3\n9:54:57 PM       3\n8:28:51 PM       3\n8:45:45 PM       3\n8:11:21 PM       3\n9:06:06 PM       3\n8:43:51 PM       3\n10:28:26 PM      3\n9:35:06 PM       3\n9:23:26 PM       3\n9:07:16 PM       3\n8:35:35 PM       3\n8:39:35 PM       3\n8:53:56 PM       3\n9:04:26 PM       3\n9:42:57 PM       3\n8:32:17 PM       3\n8:23:31 PM       3\n9:36:25 PM       3\n8:17:36 PM       3\n9:02:05 PM       3\n10:13:35 PM      3\n8:23:41 PM       3\n9:51:15 PM       3\n9:21:55 PM       3\n9:03:26 PM       3\n8:38:07 PM       3\n8:32:37 PM       3\n9:15:16 PM       3\n9:43:07 PM       3\n8:51:15 PM       3\n8:05:41 PM       3\n8:44:16 PM       3\n9:33:46 PM       3\n10:00:46 PM      3\n9:29:07 PM       3\n8:37:16 PM       3\n9:09:16 PM       3\n9:50:15 PM       3\n8:46:16 PM       3\n8:23:21 PM       3\n9:44:25 PM       3\n8:39:27 PM       3\n8:21:31 PM       3\n9:37:17 PM       3\n9:03:55 PM       3\n8:21:36 PM       3\n8:43:17 PM       3\n8:25:31 PM       3\n8:24:31 PM       3\n9:30:46 PM       3\n9:04:55 PM       3\n8:47:56 PM       3\n8:35:13 PM       3\n8:34:13 PM       3\n9:34:45 PM       3\n8:29:07 PM       3\n9:35:16 PM       3\n8:49:16 PM       3\n9:46:05 PM       3\n9:57:26 PM       3\n9:09:36 PM       3\n9:16:55 PM       3\n10:13:45 PM      3\n8:26:06 PM       3\n9:10:06 PM       3\n8:23:06 PM       3\n9:10:26 PM       3\n9:36:55 PM       3\n9:41:27 PM       3\n9:39:57 PM       3\n9:29:25 PM       3\n9:45:05 PM       3\n8:27:01 PM       3\n10:01:25 PM      3\n10:14:16 PM      3\n9:33:55 PM       3\n8:28:15 PM       3\n8:13:51 PM       3\n8:20:06 PM       3\n8:28:26 PM       3\n9:27:55 PM       3\n8:46:06 PM       3\n8:17:41 PM       3\n8:52:45 PM       3\n8:42:56 PM       3\n9:48:45 PM       3\n9:49:05 PM       3\n9:44:55 PM       3\n8:37:26 PM       3\n9:46:35 PM       3\n8:23:10 PM       3\n8:19:41 PM       3\n8:25:57 PM       3\n8:35:46 PM       3\n9:11:26 PM       3\n9:41:37 PM       3\n9:47:05 PM       3\n9:08:16 PM       3\n8:20:51 PM       3\n8:15:21 PM       3\n8:20:56 PM       3\n8:32:50 PM       3\n8:58:05 PM       3\n8:21:46 PM       3\n8:36:05 PM       3\n9:26:55 PM       3\n8:04:36 PM       3\n9:35:15 PM       3\n8:41:46 PM       3\n9:41:55 PM       3\n8:30:56 PM       3\n10:20:55 PM      3\n8:45:35 PM       3\n9:21:35 PM       3\n9:23:16 PM       3\n8:30:07 PM       3\n9:09:15 PM       3\n8:36:16 PM       3\n9:01:17 PM       3\n9:04:36 PM       3\n9:25:47 PM       3\n8:49:25 PM       3\n8:29:06 PM       3\n9:47:55 PM       3\n8:38:45 PM       3\n8:19:51 PM       3\n8:27:07 PM       3\n9:43:45 PM       3\n8:05:26 PM       3\n9:46:27 PM       3\n8:53:16 PM       3\n9:52:37 PM       3\n8:10:16 PM       3\n9:55:17 PM       3\n8:03:56 PM       3\n8:17:26 PM       3\n8:22:46 PM       3\n9:02:35 PM       3\n8:51:05 PM       3\n9:58:55 PM       3\n8:13:26 PM       3\n9:24:46 PM       3\n9:35:45 PM       3\n9:30:36 PM       3\n8:26:25 PM       3\n8:20:26 PM       3\n9:37:37 PM       3\n8:15:16 PM       3\n8:09:06 PM       3\n8:56:47 PM       3\n9:32:17 PM       3\n8:46:46 PM       3\n8:28:36 PM       3\n9:43:35 PM       3\n8:10:46 PM       3\n8:34:26 PM       3\n8:13:16 PM       3\n9:40:57 PM       3\n8:29:37 PM       3\n8:49:26 PM       3\n8:42:36 PM       3\n8:37:25 PM       3\n8:40:06 PM       3\n9:28:57 PM       3\n8:29:27 PM       3\n8:43:47 PM       3\n8:33:11 PM       3\n8:28:10 PM       3\n9:51:46 PM       3\n9:59:35 PM       3\n8:41:37 PM       3\n10:00:15 PM      3\n9:15:36 PM       3\n9:28:55 PM       3\n9:54:27 PM       3\n8:42:07 PM       3\n8:27:37 PM       3\n8:28:37 PM       3\n9:00:56 PM       3\n8:26:36 PM       3\n9:09:05 PM       3\n8:59:35 PM       3\n10:20:15 PM      3\n8:29:56 PM       3\n8:36:25 PM       3\n8:41:47 PM       3\n8:10:06 PM       3\n8:31:16 PM       3\n8:35:06 PM       3\n9:05:37 PM       3\n9:23:06 PM       3\n9:26:36 PM       3\n8:31:01 PM       3\n9:32:06 PM       3\n9:50:56 PM       3\n9:38:05 PM       3\n8:46:36 PM       3\n10:01:06 PM      3\n9:27:16 PM       3\n9:29:45 PM       3\n8:54:55 PM       3\n9:55:36 PM       3\n9:36:15 PM       3\n9:10:15 PM       3\n9:24:37 PM       3\n8:32:41 PM       3\n8:31:00 PM       3\n9:35:35 PM       3\n9:13:05 PM       3\n8:41:57 PM       3\n9:02:45 PM       3\n9:27:47 PM       3\n8:03:41 PM       3\n8:41:21 PM       3\n9:21:15 PM       3\n10:01:26 PM      3\n8:35:21 PM       3\n9:46:45 PM       3\n8:13:10 PM       3\n8:12:16 PM       3\n8:41:56 PM       3\n9:49:27 PM       3\n9:21:26 PM       3\n8:05:06 PM       3\n9:14:46 PM       3\n8:15:41 PM       3\n8:44:06 PM       3\n8:12:06 PM       3\n9:50:25 PM       3\n8:27:16 PM       3\n8:38:36 PM       3\n8:43:21 PM       3\n9:49:16 PM       3\n8:31:17 PM       3\n8:11:56 PM       3\n8:34:46 PM       3\n8:26:17 PM       3\n9:16:35 PM       3\n9:15:06 PM       3\n8:43:36 PM       3\n9:22:17 PM       3\n8:42:35 PM       3\n9:18:06 PM       3\n9:44:27 PM       3\n8:02:31 PM       3\n8:17:21 PM       3\n9:22:37 PM       3\n8:25:51 PM       3\n9:24:45 PM       3\n9:07:55 PM       3\n8:36:46 PM       3\n8:26:57 PM       3\n8:12:41 PM       3\n8:26:47 PM       3\n8:44:27 PM       3\n9:45:17 PM       3\n8:36:35 PM       3\n9:24:56 PM       3\n9:23:56 PM       3\n10:01:05 PM      3\n8:49:46 PM       3\n9:28:07 PM       3\n8:29:57 PM       3\n9:33:56 PM       3\n8:18:40 PM       3\n8:21:30 PM       3\n9:54:47 PM       3\n9:13:26 PM       3\n9:24:05 PM       3\n9:37:07 PM       3\n9:16:06 PM       3\n9:51:05 PM       3\n8:32:21 PM       3\n9:30:47 PM       3\n8:57:05 PM       3\n8:29:30 PM       3\n8:42:31 PM       3\n10:17:15 PM      3\n9:46:17 PM       3\n9:27:25 PM       3\n9:24:15 PM       3\n8:31:21 PM       3\n8:19:56 PM       3\n8:43:11 PM       3\n8:33:51 PM       3\n9:44:15 PM       3\n9:00:27 PM       3\n8:28:17 PM       3\n8:18:16 PM       3\n8:33:16 PM       2\n8:01:20 PM       2\n10:29:31 PM      2\n9:31:51 PM       2\n9:13:37 PM       2\n8:53:27 PM       2\n9:34:26 PM       2\n9:02:51 PM       2\n8:45:08 PM       2\n9:02:33 PM       2\n8:27:41 PM       2\n8:29:25 PM       2\n9:10:11 PM       2\n9:17:23 PM       2\n8:26:42 PM       2\n9:44:43 PM       2\n8:45:30 PM       2\n9:30:16 PM       2\n9:06:37 PM       2\n9:51:18 PM       2\n8:53:31 PM       2\n10:01:38 PM      2\n9:55:16 PM       2\n10:15:56 PM      2\n9:47:45 PM       2\n9:58:07 PM       2\n8:31:53 PM       2\n8:35:36 PM       2\n8:28:50 PM       2\n9:06:08 PM       2\n9:17:28 PM       2\n9:29:56 PM       2\n8:31:43 PM       2\n9:50:27 PM       2\n8:03:50 PM       2\n9:01:28 PM       2\n8:18:22 PM       2\n10:15:16 PM      2\n10:13:41 PM      2\n9:03:36 PM       2\n8:33:20 PM       2\n8:53:30 PM       2\n8:46:43 PM       2\n9:17:57 PM       2\n10:08:51 PM      2\n10:28:01 PM      2\n8:53:06 PM       2\n10:16:57 PM      2\n8:51:40 PM       2\n8:11:22 PM       2\n9:43:33 PM       2\n9:23:13 PM       2\n8:20:47 PM       2\n8:40:15 PM       2\n9:47:37 PM       2\n8:54:48 PM       2\n10:16:47 PM      2\n8:06:01 PM       2\n9:43:23 PM       2\n8:05:32 PM       2\n8:13:22 PM       2\n8:46:23 PM       2\n9:46:16 PM       2\n10:12:05 PM      2\n9:15:53 PM       2\n8:01:12 PM       2\n9:47:53 PM       2\n9:33:48 PM       2\n10:22:45 PM      2\n9:15:30 PM       2\n9:58:18 PM       2\n9:12:51 PM       2\n8:11:52 PM       2\n8:41:13 PM       2\n9:42:47 PM       2\n9:33:41 PM       2\n10:12:55 PM      2\n8:12:46 PM       2\n7:51:11 PM       2\n9:36:16 PM       2\n9:20:18 PM       2\n7:54:51 PM       2\n9:18:28 PM       2\n9:51:16 PM       2\n8:14:40 PM       2\n9:06:27 PM       2\n9:06:58 PM       2\n10:08:11 PM      2\n9:39:31 PM       2\n8:52:11 PM       2\n8:24:12 PM       2\n9:32:11 PM       2\n10:02:47 PM      2\n8:33:05 PM       2\n8:39:18 PM       2\n9:33:36 PM       2\n8:21:47 PM       2\n10:08:41 PM      2\n8:45:16 PM       2\n8:44:48 PM       2\n9:15:13 PM       2\n9:25:08 PM       2\n9:50:43 PM       2\n8:47:21 PM       2\n10:25:41 PM      2\n9:12:31 PM       2\n9:41:48 PM       2\n9:00:51 PM       2\n10:15:35 PM      2\n7:58:40 PM       2\n9:39:35 PM       2\n8:36:33 PM       2\n8:17:32 PM       2\n8:07:21 PM       2\n8:43:48 PM       2\n8:55:45 PM       2\n9:23:38 PM       2\n8:48:43 PM       2\n8:59:47 PM       2\n9:07:07 PM       2\n8:19:26 PM       2\n8:36:01 PM       2\n10:12:35 PM      2\n8:47:30 PM       2\n9:51:55 PM       2\n10:28:16 PM      2\n8:01:22 PM       2\n8:59:18 PM       2\n9:37:25 PM       2\n8:01:50 PM       2\n8:39:33 PM       2\n10:11:45 PM      2\n8:29:55 PM       2\n9:37:13 PM       2\n8:41:08 PM       2\n9:01:23 PM       2\n8:44:33 PM       2\n10:02:35 PM      2\n9:45:27 PM       2\n10:29:56 PM      2\n10:12:45 PM      2\n7:52:11 PM       2\n9:07:18 PM       2\n8:39:15 PM       2\n8:41:43 PM       2\n9:53:25 PM       2\n10:18:25 PM      2\n9:39:03 PM       2\n10:07:36 PM      2\n10:15:25 PM      2\n10:06:45 PM      2\n9:14:31 PM       2\n9:19:45 PM       2\n8:28:45 PM       2\n10:36:46 PM      2\n8:44:08 PM       2\n9:31:28 PM       2\n8:31:10 PM       2\n8:26:32 PM       2\n8:13:42 PM       2\n8:10:20 PM       2\n8:15:12 PM       2\n10:07:28 PM      2\n9:15:05 PM       2\n8:43:00 PM       2\n8:56:27 PM       2\n9:21:47 PM       2\n8:36:43 PM       2\n7:52:31 PM       2\n8:48:58 PM       2\n8:09:32 PM       2\n9:41:33 PM       2\n8:44:47 PM       2\n9:16:07 PM       2\n9:43:27 PM       2\n9:34:47 PM       2\n9:37:23 PM       2\n9:13:55 PM       2\n9:07:33 PM       2\n9:12:33 PM       2\n9:37:53 PM       2\n9:06:33 PM       2\n8:32:56 PM       2\n8:39:07 PM       2\n9:19:20 PM       2\n10:23:35 PM      2\n10:01:58 PM      2\n9:14:11 PM       2\n10:24:16 PM      2\n8:12:52 PM       2\n8:52:26 PM       2\n8:14:47 PM       2\n8:08:37 PM       2\n8:13:37 PM       2\n10:01:21 PM      2\n9:48:18 PM       2\n8:46:50 PM       2\n8:56:07 PM       2\n9:34:46 PM       2\n9:55:05 PM       2\n9:09:57 PM       2\n8:16:36 PM       2\n9:52:15 PM       2\n8:42:13 PM       2\n8:33:55 PM       2\n8:44:03 PM       2\n9:47:56 PM       2\n9:56:48 PM       2\n10:11:35 PM      2\n8:32:00 PM       2\n9:48:43 PM       2\n8:44:18 PM       2\n10:15:51 PM      2\n8:28:00 PM       2\n8:22:07 PM       2\n7:58:32 PM       2\n10:07:21 PM      2\n8:39:43 PM       2\n9:58:28 PM       2\n9:06:15 PM       2\n10:36:16 PM      2\n10:22:31 PM      2\n8:43:10 PM       2\n9:58:38 PM       2\n7:57:01 PM       2\n9:51:25 PM       2\n8:43:53 PM       2\n9:12:43 PM       2\n10:24:41 PM      2\n9:53:47 PM       2\n9:46:13 PM       2\n9:13:38 PM       2\n9:44:03 PM       2\n9:24:07 PM       2\n8:12:42 PM       2\n9:50:33 PM       2\n8:48:37 PM       2\n9:04:13 PM       2\n8:05:02 PM       2\n8:17:31 PM       2\n9:13:01 PM       2\n9:41:43 PM       2\n9:00:03 PM       2\n9:02:41 PM       2\n7:59:12 PM       2\n9:17:38 PM       2\n9:19:03 PM       2\n10:14:51 PM      2\n8:05:57 PM       2\n9:00:08 PM       2\n9:45:13 PM       2\n8:14:17 PM       2\n8:06:32 PM       2\n8:11:37 PM       2\n10:08:18 PM      2\n7:58:31 PM       2\n9:50:55 PM       2\n8:20:52 PM       2\n8:46:17 PM       2\n9:53:57 PM       2\n9:16:23 PM       2\n9:06:36 PM       2\n9:38:13 PM       2\n8:38:30 PM       2\n9:36:58 PM       2\n9:13:43 PM       2\n8:54:25 PM       2\n9:05:07 PM       2\n8:18:11 PM       2\n9:23:43 PM       2\n8:50:21 PM       2\n8:42:41 PM       2\n9:16:01 PM       2\n8:24:32 PM       2\n10:26:01 PM      2\n8:32:20 PM       2\n8:49:13 PM       2\n9:33:01 PM       2\n7:53:31 PM       2\n8:12:50 PM       2\n8:04:50 PM       2\n8:51:31 PM       2\n8:09:01 PM       2\n9:21:57 PM       2\n9:15:57 PM       2\n7:56:41 PM       2\n9:50:07 PM       2\n8:29:15 PM       2\n9:22:18 PM       2\n8:29:45 PM       2\n9:02:53 PM       2\n9:22:53 PM       2\n8:35:05 PM       2\n8:33:50 PM       2\n9:48:25 PM       2\n9:34:37 PM       2\n9:28:53 PM       2\n8:15:02 PM       2\n10:07:46 PM      2\n8:42:40 PM       2\n8:32:32 PM       2\n8:38:20 PM       2\n10:11:16 PM      2\n9:45:33 PM       2\n10:08:57 PM      2\n9:19:31 PM       2\n9:02:37 PM       2\n8:45:47 PM       2\n8:39:10 PM       2\n8:42:23 PM       2\n7:59:21 PM       2\n9:18:23 PM       2\n10:01:46 PM      2\n8:13:57 PM       2\n8:50:07 PM       2\n8:19:02 PM       2\n8:33:01 PM       2\n8:12:36 PM       2\n9:37:43 PM       2\n9:19:28 PM       2\n10:21:51 PM      2\n9:46:33 PM       2\n8:59:56 PM       2\n8:42:43 PM       2\n10:12:36 PM      2\n8:09:17 PM       2\n8:21:37 PM       2\n8:05:40 PM       2\n8:45:21 PM       2\n8:30:57 PM       2\n9:37:58 PM       2\n9:04:51 PM       2\n8:32:51 PM       2\n7:54:02 PM       2\n7:52:21 PM       2\n8:36:11 PM       2\n7:52:41 PM       2\n8:44:58 PM       2\n9:18:07 PM       2\n8:28:02 PM       2\n9:56:28 PM       2\n8:52:01 PM       2\n9:40:01 PM       2\n9:13:07 PM       2\n10:28:31 PM      2\n10:08:16 PM      2\n10:23:05 PM      2\n10:22:46 PM      2\n9:00:41 PM       2\n9:48:06 PM       2\n10:06:21 PM      2\n9:29:05 PM       2\n9:52:47 PM       2\n8:19:57 PM       2\n8:34:51 PM       2\n8:37:40 PM       2\n9:19:17 PM       2\n10:16:01 PM      2\n8:43:30 PM       2\n8:49:27 PM       2\n9:16:27 PM       2\n8:53:40 PM       2\n9:32:03 PM       2\n10:06:26 PM      2\n9:16:17 PM       2\n10:16:05 PM      2\n9:54:15 PM       2\n8:05:01 PM       2\n9:57:47 PM       2\n8:04:51 PM       2\n9:47:33 PM       2\n9:10:28 PM       2\n9:31:58 PM       2\n9:20:28 PM       2\n9:18:11 PM       2\n9:34:28 PM       2\n10:20:41 PM      2\n10:18:35 PM      2\n8:07:30 PM       2\n10:11:06 PM      2\n9:09:51 PM       2\n9:01:38 PM       2\n8:07:16 PM       2\n9:47:26 PM       2\n9:13:27 PM       2\n8:47:50 PM       2\n8:29:50 PM       2\n10:28:57 PM      2\n8:52:41 PM       2\n8:23:37 PM       2\n9:19:36 PM       2\n8:35:07 PM       2\n9:19:13 PM       2\n8:59:08 PM       2\n8:45:46 PM       2\n9:24:17 PM       2\n9:34:38 PM       2\n8:32:40 PM       2\n9:22:08 PM       2\n10:31:36 PM      2\n8:02:42 PM       2\n9:13:57 PM       2\n9:38:56 PM       2\n9:48:48 PM       2\n9:37:28 PM       2\n9:54:46 PM       2\n8:54:33 PM       2\n8:55:28 PM       2\n9:53:48 PM       2\n9:23:45 PM       2\n9:46:18 PM       2\n9:05:53 PM       2\n9:20:11 PM       2\n8:50:55 PM       2\n8:17:30 PM       2\n9:50:38 PM       2\n9:30:08 PM       2\n9:37:15 PM       2\n9:46:23 PM       2\n8:48:50 PM       2\n9:45:23 PM       2\n10:08:31 PM      2\n8:40:08 PM       2\n9:14:43 PM       2\n8:52:51 PM       2\n9:49:37 PM       2\n8:46:30 PM       2\n8:16:56 PM       2\n10:21:41 PM      2\n9:19:41 PM       2\n9:16:47 PM       2\n9:59:28 PM       2\n8:41:06 PM       2\n10:30:16 PM      2\n7:55:21 PM       2\n9:21:53 PM       2\n8:51:43 PM       2\n8:45:41 PM       2\n9:28:28 PM       2\n10:01:11 PM      2\n9:38:08 PM       2\n8:17:27 PM       2\n9:51:38 PM       2\n9:10:05 PM       2\n9:06:07 PM       2\n8:50:16 PM       2\n8:32:36 PM       2\n8:44:01 PM       2\n9:20:27 PM       2\n9:15:27 PM       2\n8:03:22 PM       2\n9:13:15 PM       2\n8:19:10 PM       2\n8:17:42 PM       2\n9:30:25 PM       2\n8:37:21 PM       2\n8:35:56 PM       2\n8:54:21 PM       2\n8:10:11 PM       2\n9:40:33 PM       2\n9:31:03 PM       2\n9:06:53 PM       2\n8:01:52 PM       2\n9:09:11 PM       2\n9:01:35 PM       2\n10:35:56 PM      2\n8:51:58 PM       2\n7:53:12 PM       2\n8:01:10 PM       2\n9:39:06 PM       2\n8:45:13 PM       2\n9:14:53 PM       2\n9:06:26 PM       2\n9:21:08 PM       2\n10:32:16 PM      2\n9:27:08 PM       2\n10:06:51 PM      2\n8:38:10 PM       2\n8:59:48 PM       2\n9:11:08 PM       2\n8:23:22 PM       2\n10:11:36 PM      2\n9:01:27 PM       2\n9:07:58 PM       2\n9:00:18 PM       2\n8:55:10 PM       2\n10:31:56 PM      2\n8:27:00 PM       2\n8:20:07 PM       2\n10:23:16 PM      2\n10:21:25 PM      2\n8:11:02 PM       2\n8:43:07 PM       2\n9:33:28 PM       2\n9:47:06 PM       2\n9:39:33 PM       2\n9:18:31 PM       2\n8:57:38 PM       2\n8:14:37 PM       2\n9:27:23 PM       2\n9:44:13 PM       2\n10:32:06 PM      2\n8:59:23 PM       2\n10:22:26 PM      2\n9:20:57 PM       2\n8:49:23 PM       2\n8:49:55 PM       2\n9:37:03 PM       2\n9:07:38 PM       2\n10:11:21 PM      2\n9:23:58 PM       2\n9:52:27 PM       2\n8:04:42 PM       2\n9:04:27 PM       2\n9:15:35 PM       2\n9:27:28 PM       2\n9:23:23 PM       2\n9:52:17 PM       2\n7:56:32 PM       2\n10:13:07 PM      2\n10:06:06 PM      2\n9:18:53 PM       2\n8:38:41 PM       2\n10:05:25 PM      2\n9:50:53 PM       2\n8:26:22 PM       2\n9:15:47 PM       2\n8:44:31 PM       2\n8:23:12 PM       2\n8:00:42 PM       2\n10:27:51 PM      2\n8:16:46 PM       2\n9:18:21 PM       2\n9:50:05 PM       2\n9:35:38 PM       2\n8:27:12 PM       2\n8:21:12 PM       2\n7:56:31 PM       2\n10:23:41 PM      2\n9:00:11 PM       2\n8:40:10 PM       2\n9:43:03 PM       2\n9:48:15 PM       2\n8:46:33 PM       2\n9:33:27 PM       2\n8:58:28 PM       2\n7:56:12 PM       2\n8:03:52 PM       2\n10:01:01 PM      2\n8:39:38 PM       2\n10:09:45 PM      2\n9:13:11 PM       2\n8:23:15 PM       2\n8:06:52 PM       2\n9:00:48 PM       2\n10:33:36 PM      2\n9:11:18 PM       2\n9:33:38 PM       2\n9:01:53 PM       2\n9:34:58 PM       2\n10:07:45 PM      2\n7:57:21 PM       2\n9:17:50 PM       2\n8:07:40 PM       2\n9:03:48 PM       2\n9:13:53 PM       2\n10:09:01 PM      2\n8:52:58 PM       2\n9:03:33 PM       2\n7:58:12 PM       2\n10:14:41 PM      2\n9:38:18 PM       2\n9:47:43 PM       2\n9:30:05 PM       2\n8:56:01 PM       2\n10:00:56 PM      2\n9:04:58 PM       2\n8:52:33 PM       2\n8:52:21 PM       2\n9:30:43 PM       2\n8:50:20 PM       2\n8:48:06 PM       2\n9:20:47 PM       2\n8:31:20 PM       2\n8:11:40 PM       2\n8:40:40 PM       2\n9:16:57 PM       2\n9:08:01 PM       2\n8:30:45 PM       2\n7:51:51 PM       2\n9:07:11 PM       2\n9:38:28 PM       2\n9:05:57 PM       2\n7:52:01 PM       2\n8:57:58 PM       2\n8:02:10 PM       2\n10:03:56 PM      2\n10:00:57 PM      2\n10:00:55 PM      2\n9:48:33 PM       2\n8:20:27 PM       2\n8:42:33 PM       2\n9:34:21 PM       2\n9:12:01 PM       2\n10:16:36 PM      2\n8:49:10 PM       2\n8:57:16 PM       2\n8:23:52 PM       2\n9:49:48 PM       2\n8:52:07 PM       2\n9:32:13 PM       2\n9:29:08 PM       2\n9:45:28 PM       2\n8:49:47 PM       2\n8:09:02 PM       2\n9:12:37 PM       2\n8:08:47 PM       2\n10:18:01 PM      2\n9:37:16 PM       2\n9:51:35 PM       2\n9:18:13 PM       2\n8:35:43 PM       2\n8:27:25 PM       2\n9:22:15 PM       2\n9:29:58 PM       2\n7:58:21 PM       2\n7:56:01 PM       2\n9:31:36 PM       2\n8:30:47 PM       2\n9:23:55 PM       2\n9:49:18 PM       2\n8:07:17 PM       2\n9:24:13 PM       2\n10:00:38 PM      2\n9:57:06 PM       2\n10:02:36 PM      2\n8:17:00 PM       2\n8:39:50 PM       2\n8:03:02 PM       2\n8:41:38 PM       2\n8:05:47 PM       2\n8:08:01 PM       2\n8:50:33 PM       2\n9:40:18 PM       2\n9:03:57 PM       2\n10:23:56 PM      2\n7:58:20 PM       2\n8:03:36 PM       2\n9:26:38 PM       2\n9:58:48 PM       2\n9:02:43 PM       2\n8:43:20 PM       2\n8:27:36 PM       2\n10:07:01 PM      2\n8:23:47 PM       2\n8:09:27 PM       2\n8:34:15 PM       2\n8:01:02 PM       2\n8:15:37 PM       2\n8:01:41 PM       2\n10:10:26 PM      2\n10:05:56 PM      2\n10:20:31 PM      2\n9:05:43 PM       2\n8:35:47 PM       2\n9:03:11 PM       2\n9:25:58 PM       2\n9:59:45 PM       2\n9:09:53 PM       2\n8:57:11 PM       2\n9:30:35 PM       2\n9:47:11 PM       2\n9:10:51 PM       2\n10:08:56 PM      2\n8:22:10 PM       2\n10:28:51 PM      2\n9:50:48 PM       2\n9:14:21 PM       2\n8:00:52 PM       2\n8:02:56 PM       2\n10:35:46 PM      2\n9:20:03 PM       2\n9:59:26 PM       2\n9:37:33 PM       2\n8:07:47 PM       2\n9:36:38 PM       2\n8:32:02 PM       2\n9:49:53 PM       2\n9:06:23 PM       2\n8:44:43 PM       2\n9:56:06 PM       2\n8:05:00 PM       2\n9:09:17 PM       2\n9:52:08 PM       2\n8:57:01 PM       2\n7:52:51 PM       2\n8:49:38 PM       2\n8:57:47 PM       2\n10:07:11 PM      2\n10:06:31 PM      2\n8:08:06 PM       2\n8:04:26 PM       2\n8:51:18 PM       2\n9:00:23 PM       2\n9:51:36 PM       2\n8:18:30 PM       2\n9:45:18 PM       2\n8:35:32 PM       2\n8:16:37 PM       2\n9:58:15 PM       2\n9:31:43 PM       2\n9:03:28 PM       2\n8:29:16 PM       2\n9:34:41 PM       2\n9:27:27 PM       2\n10:05:35 PM      2\n9:08:43 PM       2\n10:28:36 PM      2\n9:39:26 PM       2\n9:02:16 PM       2\n8:43:18 PM       2\n8:02:01 PM       2\n9:34:08 PM       2\n9:50:03 PM       2\n9:33:47 PM       2\n8:50:13 PM       2\n9:43:13 PM       2\n8:47:55 PM       2\n9:14:17 PM       2\n10:09:31 PM      2\n10:30:26 PM      2\n10:27:41 PM      2\n8:51:51 PM       2\n10:01:17 PM      2\n10:04:36 PM      2\n8:49:37 PM       2\n9:33:57 PM       2\n9:09:23 PM       2\n8:22:22 PM       2\n8:53:57 PM       2\n9:33:16 PM       2\n8:36:13 PM       2\n8:45:20 PM       2\n8:48:48 PM       2\n7:57:51 PM       2\n9:31:56 PM       2\n9:30:33 PM       2\n8:19:40 PM       2\n10:00:41 PM      2\n10:15:27 PM      2\n9:28:46 PM       2\n8:53:48 PM       2\n8:50:03 PM       2\n9:09:41 PM       2\n10:06:36 PM      2\n8:02:41 PM       2\n8:15:27 PM       2\n8:04:46 PM       2\n9:45:21 PM       2\n9:10:13 PM       2\n10:11:31 PM      2\n8:42:57 PM       2\n8:57:37 PM       2\n8:15:17 PM       2\n8:08:10 PM       2\n8:50:00 PM       2\n8:01:00 PM       2\n9:26:25 PM       2\n8:56:57 PM       2\n8:52:03 PM       2\n8:53:25 PM       2\n10:07:15 PM      2\n9:29:11 PM       2\n10:11:05 PM      2\n10:25:31 PM      2\n8:46:03 PM       2\n8:53:11 PM       2\n8:34:57 PM       2\n9:29:16 PM       2\n9:19:07 PM       2\n9:56:17 PM       2\n8:58:53 PM       2\n9:09:27 PM       2\n8:10:41 PM       2\n8:15:47 PM       2\n8:06:51 PM       2\n8:36:07 PM       2\n9:12:27 PM       2\n9:22:38 PM       2\n9:40:36 PM       2\n8:33:22 PM       2\n8:57:41 PM       2\n10:07:55 PM      2\n8:50:26 PM       2\n8:48:27 PM       2\n9:26:18 PM       2\n10:29:21 PM      2\n8:08:16 PM       2\n9:14:28 PM       2\n9:25:35 PM       2\n10:08:35 PM      2\n9:10:45 PM       2\n9:20:38 PM       2\n9:08:11 PM       2\n9:31:45 PM       2\n9:10:33 PM       2\n8:54:43 PM       2\n8:45:31 PM       2\n9:53:45 PM       2\n8:13:32 PM       2\n9:19:57 PM       2\n9:47:16 PM       2\n7:59:41 PM       2\n8:42:20 PM       2\n9:45:38 PM       2\n8:52:35 PM       2\n8:40:21 PM       2\n10:14:06 PM      2\n8:31:30 PM       2\n9:53:18 PM       2\n8:23:42 PM       2\n9:16:03 PM       2\n9:03:01 PM       2\n10:35:36 PM      2\n8:56:17 PM       2\n10:09:47 PM      2\n9:34:17 PM       2\n8:14:41 PM       2\n9:47:57 PM       2\n8:08:56 PM       2\n9:33:58 PM       2\n9:11:03 PM       2\n8:51:56 PM       2\n9:00:31 PM       2\n9:42:28 PM       2\n10:31:16 PM      2\n8:15:40 PM       2\n10:21:35 PM      2\n8:53:35 PM       2\n8:05:46 PM       2\n8:02:21 PM       2\n8:59:11 PM       2\n8:40:01 PM       2\n8:54:45 PM       2\n9:59:58 PM       2\n10:10:01 PM      2\n8:58:23 PM       2\n8:28:20 PM       2\n9:52:58 PM       2\n8:11:27 PM       2\n9:11:47 PM       2\n10:22:55 PM      2\n9:04:07 PM       2\n9:45:55 PM       2\n8:31:55 PM       2\n8:40:11 PM       2\n9:22:58 PM       2\n10:00:51 PM      2\n9:53:07 PM       2\n8:38:27 PM       2\n8:43:28 PM       2\n9:01:21 PM       2\n9:01:18 PM       2\n9:49:23 PM       2\n10:04:45 PM      2\n9:28:25 PM       2\n8:19:16 PM       2\n8:02:00 PM       2\n10:10:05 PM      2\n9:13:23 PM       2\n9:32:41 PM       2\n8:05:27 PM       2\n10:21:26 PM      2\n9:25:18 PM       2\n9:47:17 PM       2\n10:14:26 PM      2\n8:03:00 PM       2\n9:48:46 PM       2\n9:59:48 PM       2\n7:56:22 PM       2\n10:25:51 PM      2\n8:22:12 PM       2\n8:43:38 PM       2\n8:08:26 PM       2\n8:18:32 PM       2\n8:12:17 PM       2\n9:55:47 PM       2\n9:32:01 PM       2\n9:50:23 PM       2\n9:44:41 PM       2\n9:24:33 PM       2\n8:05:52 PM       2\n9:14:38 PM       2\n8:14:22 PM       2\n9:30:18 PM       2\n8:27:22 PM       2\n9:42:53 PM       2\n8:12:32 PM       2\n8:11:20 PM       2\n8:48:36 PM       2\n8:08:57 PM       2\n8:04:16 PM       2\n8:54:41 PM       2\n9:06:17 PM       2\n9:24:43 PM       2\n10:00:48 PM      2\n8:06:26 PM       2\n9:34:48 PM       2\n9:13:08 PM       2\n9:08:57 PM       2\n8:24:06 PM       2\n8:01:42 PM       2\n9:10:38 PM       2\n9:28:05 PM       2\n9:38:23 PM       2\n9:46:41 PM       2\n8:13:47 PM       2\n10:22:11 PM      2\n8:27:52 PM       2\n9:29:06 PM       2\n9:59:36 PM       2\n8:53:33 PM       2\n8:35:57 PM       2\n8:31:42 PM       2\n9:45:51 PM       2\n8:34:31 PM       2\n10:06:15 PM      2\n10:07:35 PM      2\n9:04:38 PM       2\n10:32:36 PM      2\n9:19:30 PM       2\n8:44:46 PM       2\n8:21:20 PM       2\n9:09:08 PM       2\n10:10:17 PM      2\n9:55:46 PM       2\n10:23:06 PM      2\n8:17:16 PM       2\n8:33:17 PM       2\n9:58:08 PM       2\n10:18:55 PM      2\n8:50:37 PM       2\n8:18:57 PM       2\n10:04:56 PM      2\n9:08:13 PM       2\n9:01:41 PM       2\n8:44:36 PM       2\n8:48:05 PM       2\n8:18:56 PM       2\n10:26:11 PM      2\n9:40:47 PM       2\n8:49:41 PM       2\n9:45:31 PM       2\n8:57:51 PM       2\n9:47:27 PM       2\n9:27:17 PM       2\n8:26:05 PM       2\n8:54:28 PM       2\n10:08:48 PM      2\n8:35:15 PM       2\n9:38:03 PM       2\n7:43:40 PM       2\n8:19:47 PM       2\n8:17:22 PM       2\n8:05:51 PM       2\n8:45:43 PM       2\n9:56:35 PM       2\n9:20:48 PM       2\n8:13:21 PM       2\n8:47:31 PM       2\n8:41:23 PM       2\n8:50:48 PM       2\n9:03:13 PM       2\n8:58:33 PM       2\n9:17:58 PM       2\n9:17:47 PM       2\n8:41:17 PM       2\n8:49:56 PM       2\n8:21:22 PM       2\n9:19:11 PM       2\n8:00:50 PM       2\n9:09:25 PM       2\n8:45:07 PM       2\n8:52:43 PM       2\n10:15:36 PM      2\n8:50:18 PM       2\n8:24:50 PM       2\n8:21:27 PM       2\n9:58:16 PM       2\n9:06:35 PM       2\n9:10:17 PM       2\n8:31:37 PM       2\n8:30:17 PM       2\n8:50:06 PM       2\n9:37:51 PM       2\n9:52:05 PM       2\n8:58:08 PM       2\n9:29:43 PM       2\n9:54:05 PM       2\n9:07:53 PM       2\n9:01:03 PM       2\n8:00:30 PM       2\n9:45:43 PM       2\n8:19:52 PM       2\n8:51:50 PM       2\n8:06:12 PM       2\n9:27:06 PM       2\n9:01:48 PM       2\n10:13:31 PM      2\n9:37:31 PM       2\n8:20:37 PM       2\n8:50:47 PM       2\n8:53:17 PM       2\n10:03:36 PM      2\n9:04:48 PM       2\n10:09:35 PM      2\n8:39:08 PM       2\n9:13:20 PM       2\n8:46:57 PM       2\n10:23:46 PM      2\n8:48:23 PM       2\n8:04:27 PM       2\n8:38:17 PM       2\n8:31:32 PM       2\n10:27:47 PM      2\n8:33:32 PM       2\n9:29:03 PM       2\n10:06:11 PM      2\n8:56:28 PM       2\n9:14:05 PM       2\n8:48:33 PM       2\n8:39:28 PM       2\n9:01:43 PM       2\n9:05:08 PM       2\n9:18:41 PM       2\n7:56:21 PM       2\n9:03:53 PM       2\n8:31:41 PM       2\n9:09:06 PM       2\n9:41:07 PM       2\n10:13:17 PM      2\n8:25:50 PM       2\n9:35:08 PM       2\n10:14:31 PM      2\n10:21:45 PM      2\n9:16:13 PM       2\n8:00:32 PM       2\n8:49:58 PM       2\n8:00:21 PM       2\n9:48:23 PM       2\n10:10:41 PM      2\n8:02:40 PM       2\n9:06:48 PM       2\n7:53:21 PM       2\n8:38:21 PM       2\n9:05:55 PM       2\n9:22:33 PM       2\n7:54:21 PM       2\n9:26:48 PM       2\n9:46:25 PM       2\n8:19:42 PM       2\n9:32:23 PM       2\n8:14:02 PM       2\n8:03:30 PM       2\n10:14:11 PM      2\n9:12:45 PM       2\n10:27:37 PM      2\n8:49:33 PM       2\n10:35:16 PM      2\n10:25:01 PM      2\n10:12:26 PM      2\n9:00:13 PM       2\n9:29:17 PM       2\n8:32:22 PM       2\n9:32:35 PM       2\n9:46:31 PM       2\n8:47:00 PM       2\n9:17:05 PM       2\n8:05:12 PM       2\n9:03:18 PM       2\n9:44:51 PM       2\n9:14:40 PM       2\n10:27:26 PM      2\n8:14:42 PM       2\n9:46:36 PM       2\n8:14:31 PM       2\n8:43:23 PM       2\n8:51:11 PM       2\n9:22:48 PM       2\n8:10:17 PM       2\n10:05:06 PM      2\n9:59:15 PM       2\n8:18:02 PM       2\n10:29:26 PM      2\n8:12:02 PM       2\n7:53:32 PM       2\n9:51:47 PM       2\n9:46:51 PM       2\n9:36:18 PM       2\n9:02:46 PM       2\n8:45:18 PM       2\n9:10:58 PM       2\n8:47:43 PM       2\n9:10:55 PM       2\n10:17:17 PM      2\n8:36:12 PM       2\n9:23:27 PM       2\n8:12:26 PM       2\n8:56:51 PM       2\n8:57:28 PM       2\n9:02:57 PM       2\n9:41:05 PM       2\n8:04:02 PM       2\n8:08:41 PM       2\n8:41:18 PM       2\n8:32:46 PM       2\n8:10:30 PM       2\n8:23:00 PM       2\n8:48:40 PM       2\n8:08:40 PM       2\n9:52:48 PM       2\n9:40:43 PM       2\n10:08:28 PM      2\n7:59:02 PM       2\n8:40:47 PM       2\n8:57:48 PM       2\n8:21:10 PM       2\n9:42:18 PM       2\n9:20:07 PM       2\n9:15:21 PM       2\n8:23:05 PM       2\n8:03:21 PM       2\n8:42:45 PM       2\n10:10:21 PM      2\n8:51:27 PM       2\n8:42:46 PM       2\n8:05:17 PM       2\n10:32:56 PM      2\n8:41:00 PM       2\n10:14:05 PM      2\n8:08:00 PM       2\n9:39:41 PM       2\n9:05:38 PM       2\n8:21:00 PM       2\n8:47:11 PM       2\n8:45:40 PM       2\n7:56:11 PM       2\n8:49:03 PM       2\n8:21:07 PM       2\n8:55:41 PM       2\n8:04:17 PM       2\n9:20:16 PM       2\n9:31:18 PM       2\n10:21:56 PM      2\n9:34:01 PM       2\n8:14:32 PM       2\n8:40:25 PM       2\n8:38:50 PM       2\n8:48:26 PM       2\n10:33:56 PM      2\n9:28:48 PM       2\n7:53:22 PM       2\n10:22:51 PM      2\n8:44:57 PM       2\n9:20:43 PM       2\n8:53:13 PM       2\n9:07:41 PM       2\n9:23:17 PM       2\n8:36:17 PM       2\n9:12:41 PM       2\n8:22:47 PM       2\n9:08:18 PM       2\n10:14:01 PM      2\n10:10:55 PM      2\n8:33:33 PM       2\n10:18:11 PM      2\n9:58:37 PM       2\n8:49:20 PM       2\n10:13:15 PM      2\n9:48:53 PM       2\n9:20:33 PM       2\n9:29:31 PM       2\n10:07:25 PM      2\n9:17:27 PM       2\n8:21:51 PM       2\n9:00:28 PM       2\n9:07:03 PM       2\n8:44:28 PM       2\n8:09:20 PM       2\n10:08:46 PM      2\n9:41:53 PM       2\n8:19:32 PM       2\n8:33:27 PM       2\n9:44:58 PM       2\n8:33:25 PM       2\n9:19:21 PM       2\n8:41:33 PM       2\n8:20:10 PM       2\n9:06:18 PM       2\n9:02:03 PM       2\n8:33:23 PM       2\n10:01:18 PM      2\n9:07:46 PM       2\n9:47:47 PM       2\n10:37:16 PM      2\n9:02:01 PM       2\n8:55:21 PM       2\n9:41:03 PM       2\n9:16:21 PM       2\n7:56:02 PM       2\n8:59:37 PM       2\n8:21:16 PM       2\n9:59:46 PM       2\n8:37:20 PM       2\n9:01:55 PM       2\n8:34:20 PM       2\n9:27:46 PM       2\n10:12:16 PM      2\n9:05:15 PM       2\n9:15:08 PM       2\n10:28:06 PM      2\n8:49:17 PM       2\n9:13:50 PM       2\n9:32:37 PM       2\n9:52:06 PM       2\n9:33:31 PM       2\n10:23:45 PM      2\n9:12:58 PM       2\n9:28:56 PM       2\n9:25:33 PM       2\n9:14:47 PM       2\n9:56:56 PM       2\n10:05:45 PM      2\n9:30:13 PM       2\n9:47:07 PM       2\n8:22:02 PM       2\n9:10:53 PM       2\n9:11:07 PM       2\n8:11:51 PM       2\n8:13:41 PM       2\n8:53:07 PM       2\n9:36:51 PM       2\n8:54:38 PM       2\n8:40:57 PM       2\n9:05:18 PM       2\n9:24:08 PM       2\n10:02:08 PM      2\n9:20:53 PM       2\n8:56:41 PM       2\n9:48:36 PM       2\n9:43:55 PM       2\n8:04:47 PM       2\n9:49:17 PM       2\n9:59:56 PM       2\n9:53:27 PM       2\n8:28:25 PM       2\n8:43:33 PM       2\n9:46:48 PM       2\n8:50:23 PM       2\n8:45:11 PM       2\n9:12:23 PM       2\n7:53:11 PM       2\n9:14:33 PM       2\n9:48:08 PM       2\n9:31:21 PM       2\n8:50:46 PM       2\n8:43:03 PM       2\n8:58:01 PM       2\n7:54:41 PM       2\n9:59:16 PM       2\n10:21:31 PM      2\n10:31:26 PM      2\n10:24:26 PM      2\n10:32:46 PM      2\n8:35:50 PM       2\n9:50:37 PM       2\n9:00:16 PM       2\n9:30:26 PM       2\n8:34:30 PM       2\n10:10:51 PM      2\n8:29:35 PM       2\n8:24:30 PM       2\n9:01:33 PM       2\n8:42:53 PM       2\n10:18:41 PM      2\n9:03:17 PM       2\n7:59:30 PM       2\n8:05:36 PM       2\n8:54:58 PM       2\n8:20:42 PM       2\n9:32:21 PM       2\n8:26:30 PM       2\n8:46:20 PM       2\n8:46:48 PM       2\n9:13:17 PM       2\n9:03:03 PM       2\n9:15:15 PM       2\n9:18:33 PM       2\n8:48:57 PM       2\n8:19:20 PM       2\n9:28:08 PM       2\n9:23:48 PM       2\n8:51:48 PM       2\n9:17:37 PM       2\n10:03:05 PM      2\n8:27:42 PM       2\n8:33:02 PM       2\n9:33:03 PM       2\n8:23:26 PM       2\n9:06:38 PM       2\n10:09:05 PM      2\n8:23:36 PM       2\n8:48:11 PM       2\n8:02:11 PM       2\n9:01:51 PM       2\n7:53:42 PM       2\n9:13:28 PM       2\n9:16:33 PM       2\n10:01:16 PM      2\n7:53:02 PM       2\n9:33:17 PM       2\n10:19:01 PM      2\n10:02:25 PM      2\n8:32:12 PM       2\n8:06:10 PM       2\n9:15:31 PM       2\n9:05:05 PM       2\n8:34:45 PM       2\n9:24:16 PM       2\n9:01:58 PM       2\n7:53:51 PM       2\n8:08:52 PM       2\n10:06:55 PM      2\n9:17:18 PM       2\n9:32:25 PM       2\n9:17:17 PM       2\n9:31:08 PM       2\n9:43:46 PM       2\n9:05:28 PM       2\n9:15:25 PM       2\n10:16:45 PM      2\n9:20:36 PM       2\n8:19:22 PM       2\n8:45:17 PM       2\n8:59:33 PM       2\n8:04:56 PM       2\n9:51:57 PM       2\n10:32:26 PM      2\n9:04:01 PM       2\n9:40:03 PM       2\n10:03:16 PM      2\n8:27:47 PM       2\n9:56:38 PM       2\n8:06:20 PM       2\n9:01:56 PM       2\n9:48:03 PM       2\n8:47:36 PM       2\n8:33:35 PM       2\n8:58:03 PM       2\n9:59:17 PM       2\n8:45:06 PM       2\n9:15:17 PM       2\n8:32:53 PM       2\n8:46:40 PM       2\n8:07:02 PM       2\n9:08:36 PM       2\n8:26:00 PM       2\n10:10:46 PM      2\n9:20:01 PM       2\n9:32:27 PM       2\n10:33:16 PM      2\n9:08:58 PM       2\n9:09:58 PM       2\n9:37:56 PM       2\n8:43:58 PM       2\n9:59:08 PM       2\n8:11:32 PM       2\n8:16:07 PM       2\n9:22:25 PM       2\n10:15:15 PM      2\n9:40:21 PM       2\n8:35:52 PM       2\n8:28:55 PM       2\n9:17:43 PM       2\n9:57:58 PM       2\n8:36:52 PM       2\n9:30:53 PM       2\n8:23:02 PM       2\n8:44:38 PM       2\n9:19:27 PM       2\n9:54:56 PM       2\n10:18:31 PM      2\n9:31:41 PM       2\n10:09:15 PM      2\n9:53:16 PM       2\n9:34:31 PM       2\n9:40:48 PM       2\n9:20:58 PM       2\n8:54:51 PM       2\n8:53:41 PM       2\n9:29:53 PM       2\n9:08:38 PM       2\n9:06:25 PM       2\n9:23:18 PM       2\n9:15:46 PM       2\n9:00:58 PM       2\n9:57:35 PM       2\n8:03:20 PM       2\n9:50:58 PM       2\n8:21:02 PM       2\n8:04:20 PM       2\n8:51:41 PM       2\n8:07:27 PM       2\n8:35:25 PM       2\n10:22:16 PM      2\n8:48:16 PM       2\n8:09:12 PM       2\n8:49:40 PM       2\n9:14:01 PM       2\n9:29:21 PM       2\n9:28:43 PM       2\n9:26:08 PM       2\n9:18:57 PM       2\n8:59:57 PM       2\n9:49:13 PM       2\n8:13:12 PM       2\n9:58:58 PM       2\n10:01:48 PM      2\n8:34:50 PM       2\n9:05:11 PM       2\n9:57:37 PM       2\n8:39:51 PM       2\n8:02:16 PM       2\n9:13:13 PM       2\n8:48:13 PM       2\n8:53:08 PM       2\n9:26:28 PM       2\n8:47:10 PM       2\n9:30:01 PM       2\n8:14:12 PM       2\n8:31:50 PM       2\n8:11:42 PM       2\n8:18:20 PM       2\n9:59:55 PM       2\n9:45:41 PM       2\n9:31:55 PM       2\n8:24:16 PM       2\n8:29:20 PM       2\n9:45:57 PM       2\n8:56:11 PM       2\n8:11:50 PM       2\n8:35:51 PM       2\n8:38:40 PM       2\n9:50:45 PM       2\n8:47:20 PM       2\n8:50:01 PM       2\n8:18:42 PM       2\n9:25:13 PM       2\n9:49:06 PM       2\n9:25:45 PM       2\n8:04:12 PM       2\n9:20:23 PM       2\n8:47:53 PM       2\n8:47:27 PM       2\n9:14:48 PM       2\n8:48:31 PM       2\n8:13:02 PM       2\n8:59:03 PM       2\n10:13:05 PM      2\n10:27:31 PM      2\n9:41:13 PM       2\n9:02:07 PM       2\n8:51:23 PM       2\n8:43:13 PM       2\n8:07:37 PM       2\n9:29:51 PM       2\n9:19:46 PM       2\n9:38:33 PM       2\n9:51:07 PM       2\n8:05:22 PM       2\n8:45:03 PM       2\n8:46:47 PM       2\n9:08:08 PM       2\n10:11:26 PM      2\n9:31:31 PM       2\n9:19:08 PM       2\n9:02:11 PM       2\n9:46:38 PM       2\n8:39:23 PM       2\n8:54:23 PM       2\n10:18:45 PM      2\n10:25:21 PM      2\n8:53:50 PM       2\n9:53:26 PM       2\n8:08:36 PM       2\n8:03:06 PM       2\n10:36:06 PM      2\n9:01:08 PM       2\n9:13:33 PM       2\n9:44:53 PM       2\n9:31:33 PM       2\n9:30:37 PM       2\n9:18:01 PM       2\n10:22:21 PM      2\n9:21:33 PM       2\n8:57:06 PM       2\n9:00:47 PM       2\n9:48:28 PM       2\n8:28:07 PM       2\n9:14:58 PM       2\n10:00:37 PM      2\n10:24:21 PM      2\n10:00:26 PM      2\n9:21:07 PM       2\n10:22:06 PM      2\n9:30:03 PM       2\n8:41:10 PM       2\n9:11:23 PM       2\n10:11:51 PM      2\n9:09:45 PM       2\n9:43:53 PM       2\n10:07:31 PM      2\n10:23:31 PM      2\n8:02:20 PM       2\n8:22:52 PM       2\n8:34:05 PM       2\n10:14:27 PM      2\n10:12:25 PM      2\n10:08:45 PM      2\n9:20:55 PM       2\n9:33:51 PM       2\n9:22:43 PM       2\n10:03:48 PM      2\n8:05:07 PM       2\n8:50:27 PM       2\n9:09:03 PM       2\n10:19:11 PM      2\n8:58:43 PM       2\n8:18:52 PM       2\n9:19:18 PM       2\n10:00:16 PM      2\n9:15:23 PM       2\n8:20:36 PM       2\n8:25:30 PM       2\n8:30:00 PM       2\n9:15:33 PM       2\n9:47:36 PM       2\n9:39:45 PM       2\n10:23:26 PM      2\n9:22:27 PM       2\n9:50:57 PM       2\n10:07:48 PM      2\n8:27:32 PM       2\n8:35:40 PM       2\n9:40:55 PM       2\n8:23:32 PM       2\n8:40:37 PM       2\n9:05:01 PM       2\n10:13:21 PM      2\n8:46:38 PM       2\n8:22:35 PM       2\n9:36:06 PM       2\n8:12:57 PM       2\n9:12:05 PM       2\n9:14:41 PM       2\n9:31:23 PM       2\n9:12:11 PM       2\n9:24:23 PM       2\n10:19:41 PM      2\n10:17:07 PM      2\n10:36:26 PM      2\n9:38:38 PM       2\n7:57:31 PM       2\n9:15:43 PM       2\n9:23:57 PM       2\n8:06:06 PM       2\n10:11:56 PM      2\n7:59:22 PM       2\n7:59:10 PM       2\n7:59:51 PM       2\n10:00:36 PM      2\n9:02:26 PM       2\n10:10:31 PM      2\n9:45:53 PM       2\n8:46:13 PM       2\n9:37:36 PM       2\n8:46:53 PM       2\n8:55:08 PM       2\n8:49:53 PM       2\n8:41:16 PM       2\n9:10:27 PM       2\n8:06:16 PM       2\n10:04:35 PM      2\n9:29:13 PM       2\n10:12:31 PM      2\n9:51:03 PM       2\n9:56:18 PM       2\n8:50:36 PM       2\n10:24:36 PM      2\n8:45:33 PM       2\n9:49:08 PM       2\n8:34:40 PM       2\n7:58:11 PM       2\n9:13:47 PM       2\n10:15:55 PM      2\n8:49:31 PM       2\n8:16:47 PM       2\n10:21:36 PM      2\n9:15:10 PM       2\n8:47:01 PM       2\n9:13:21 PM       2\n8:52:10 PM       2\n8:36:27 PM       2\n10:06:46 PM      2\n8:58:15 PM       2\n10:08:21 PM      2\n9:08:53 PM       2\n9:00:43 PM       2\n9:20:46 PM       2\n8:03:32 PM       2\n8:57:07 PM       2\n8:10:27 PM       2\n9:46:43 PM       2\n8:53:01 PM       2\n8:48:03 PM       2\n8:35:01 PM       2\n8:24:40 PM       2\n9:19:33 PM       2\n8:10:10 PM       2\n9:09:33 PM       2\n8:53:38 PM       2\n9:35:48 PM       2\n8:14:11 PM       2\n8:10:52 PM       2\n8:51:30 PM       2\n9:10:07 PM       2\n8:41:11 PM       2\n9:27:48 PM       2\n8:48:17 PM       2\n9:35:05 PM       2\n7:55:11 PM       2\n8:52:08 PM       2\n8:53:47 PM       2\n9:41:38 PM       2\n10:09:26 PM      2\n8:44:13 PM       2\n9:01:13 PM       2\n9:45:08 PM       2\n10:30:56 PM      2\n8:28:05 PM       2\n8:57:53 PM       2\n10:23:36 PM      2\n8:13:50 PM       2\n9:35:36 PM       2\n9:33:35 PM       2\n9:29:41 PM       2\n9:49:33 PM       2\n9:14:18 PM       2\n8:19:06 PM       2\n8:41:28 PM       2\n8:36:36 PM       2\n9:25:03 PM       2\n10:12:07 PM      2\n9:14:07 PM       2\n9:39:05 PM       2\n8:23:55 PM       2\n7:53:41 PM       2\n9:04:03 PM       2\n8:24:42 PM       2\n9:17:13 PM       2\n8:09:22 PM       2\n8:32:31 PM       2\n8:47:03 PM       2\n9:13:41 PM       2\n9:04:56 PM       2\n9:06:40 PM       2\n9:33:23 PM       2\n9:40:45 PM       2\n9:41:45 PM       2\n9:39:11 PM       2\n8:25:25 PM       2\n8:09:30 PM       2\n9:55:56 PM       2\n9:54:37 PM       2\n8:31:40 PM       2\n8:52:31 PM       2\n8:29:11 PM       2\n9:02:47 PM       2\n9:04:31 PM       2\n8:55:01 PM       2\n9:46:58 PM       2\n10:05:46 PM      2\n9:00:06 PM       2\n8:07:51 PM       2\n8:32:43 PM       2\n8:15:57 PM       2\n9:21:43 PM       2\n8:40:50 PM       2\n10:00:06 PM      2\n9:21:13 PM       2\n9:15:03 PM       2\n9:37:05 PM       2\n10:15:45 PM      2\n10:29:46 PM      2\n8:37:30 PM       2\n9:35:01 PM       2\n9:15:51 PM       2\n9:53:46 PM       2\n10:28:56 PM      2\n8:53:28 PM       2\n9:25:23 PM       2\n9:23:03 PM       2\n8:15:20 PM       2\n9:42:46 PM       2\n9:14:00 PM       2\n8:49:50 PM       2\n9:43:56 PM       2\n10:27:56 PM      2\n8:50:10 PM       2\n9:07:17 PM       2\n9:07:48 PM       2\n8:19:36 PM       2\n9:16:53 PM       2\n8:52:56 PM       2\n9:02:21 PM       2\n9:11:13 PM       2\n9:07:08 PM       2\n9:34:51 PM       2\n9:03:47 PM       2\n8:20:02 PM       2\n9:36:53 PM       2\n8:20:17 PM       2\n8:25:00 PM       2\n9:38:43 PM       2\n8:08:07 PM       2\n9:25:43 PM       2\n8:47:41 PM       2\n9:35:37 PM       2\n8:16:27 PM       2\n8:04:57 PM       2\n9:52:57 PM       2\n7:55:42 PM       2\n9:37:41 PM       2\n9:57:56 PM       2\n8:40:00 PM       2\n9:54:25 PM       2\n9:13:10 PM       2\n9:31:13 PM       2\n9:40:08 PM       2\n9:02:27 PM       2\n8:22:30 PM       2\n8:17:51 PM       2\n9:24:03 PM       2\n9:53:35 PM       2\n9:00:33 PM       2\n9:07:13 PM       2\n9:29:46 PM       2\n8:29:40 PM       2\n9:27:36 PM       2\n9:54:17 PM       2\n8:50:31 PM       2\n8:33:12 PM       2\n8:02:26 PM       2\n9:44:31 PM       2\n10:12:15 PM      2\n9:23:36 PM       2\n8:44:53 PM       2\n8:10:37 PM       2\n8:36:00 PM       2\n9:39:08 PM       2\n8:53:20 PM       2\n9:44:21 PM       2\n10:17:51 PM      2\n9:32:46 PM       2\n8:10:21 PM       2\n8:55:27 PM       2\n10:09:41 PM      2\n8:08:51 PM       2\n9:12:13 PM       2\n9:37:45 PM       2\n9:45:11 PM       2\n8:19:07 PM       2\n9:00:46 PM       2\n9:54:28 PM       2\n9:24:58 PM       2\n8:56:21 PM       2\n8:22:00 PM       2\n8:48:53 PM       2\n8:09:31 PM       2\n7:59:20 PM       2\n10:13:51 PM      2\n9:38:06 PM       2\n9:10:08 PM       2\n9:28:06 PM       2\n10:26:21 PM      2\n8:18:12 PM       2\n7:52:52 PM       2\n9:17:07 PM       2\n10:12:11 PM      2\n10:28:41 PM      2\n8:54:31 PM       2\n9:49:28 PM       2\n9:31:48 PM       2\n8:53:53 PM       2\n10:11:25 PM      2\n9:45:03 PM       2\n10:27:11 PM      2\n8:30:46 PM       2\n9:24:35 PM       2\n8:59:17 PM       2\n8:26:20 PM       2\n9:35:58 PM       2\n10:33:06 PM      2\n10:27:21 PM      2\n8:40:27 PM       2\n8:58:57 PM       2\n8:04:00 PM       2\n9:31:26 PM       2\n8:26:55 PM       2\n8:48:47 PM       2\n9:14:57 PM       2\n10:01:28 PM      2\n8:40:31 PM       2\n7:58:50 PM       2\n9:30:45 PM       2\n8:36:42 PM       2\n8:51:57 PM       2\n9:33:13 PM       2\n10:09:55 PM      2\n9:36:28 PM       2\n8:41:31 PM       2\n9:34:11 PM       2\n9:48:13 PM       2\n10:11:57 PM      2\n9:28:11 PM       2\n10:07:05 PM      2\n8:59:13 PM       2\n9:00:55 PM       2\n8:53:03 PM       2\n8:54:03 PM       2\n8:50:30 PM       2\n8:08:31 PM       2\n9:52:38 PM       2\n10:21:46 PM      2\n8:50:11 PM       2\n8:27:10 PM       2\n9:41:23 PM       2\n9:57:36 PM       2\n10:09:25 PM      2\n9:04:23 PM       2\n8:41:20 PM       2\n8:27:30 PM       2\n8:15:07 PM       2\n8:00:40 PM       2\n8:05:50 PM       2\n10:00:28 PM      2\n7:55:41 PM       2\n10:19:21 PM      2\n8:24:56 PM       2\n8:33:30 PM       2\n9:09:13 PM       2\n8:50:41 PM       2\n8:48:41 PM       2\n10:30:06 PM      2\n8:40:18 PM       2\n9:24:53 PM       2\n8:06:27 PM       2\n9:48:05 PM       2\n9:27:18 PM       2\n8:41:03 PM       2\n9:20:26 PM       2\n8:57:26 PM       2\n9:40:53 PM       2\n8:51:33 PM       2\n8:30:40 PM       2\n8:47:17 PM       2\n8:47:47 PM       2\n8:55:31 PM       2\n10:21:16 PM      2\n10:07:51 PM      2\n9:15:41 PM       2\n10:01:08 PM      2\n8:06:41 PM       2\n9:42:05 PM       2\n9:23:28 PM       2\n8:33:15 PM       2\n9:28:23 PM       2\n8:49:11 PM       2\n8:42:30 PM       2\n9:40:38 PM       2\n8:04:31 PM       2\n8:04:32 PM       2\n8:14:00 PM       2\n8:06:00 PM       2\n8:16:01 PM       2\n10:27:46 PM      2\n10:20:11 PM      2\n9:47:01 PM       2\n10:27:36 PM      2\n8:13:30 PM       2\n9:05:33 PM       2\n8:34:25 PM       2\n9:46:21 PM       2\n9:37:11 PM       2\n10:10:56 PM      2\n9:02:17 PM       2\n8:52:23 PM       2\n9:38:53 PM       2\n8:49:43 PM       2\n9:19:00 PM       2\n9:00:38 PM       2\n8:05:42 PM       2\n8:54:35 PM       2\n8:47:40 PM       2\n9:09:21 PM       2\n9:50:47 PM       2\n9:46:53 PM       2\n10:28:37 PM      2\n8:31:52 PM       2\n8:20:57 PM       2\n8:19:12 PM       2\n8:08:50 PM       2\n10:20:36 PM      2\n9:07:21 PM       2\n8:12:56 PM       2\n10:27:27 PM      2\n8:58:27 PM       2\n9:13:03 PM       2\n10:06:16 PM      2\n8:27:02 PM       2\n10:02:38 PM      2\n9:18:51 PM       2\n7:51:21 PM       2\n8:36:03 PM       2\n8:38:00 PM       2\n10:28:46 PM      2\n8:20:50 PM       2\n8:25:35 PM       2\n9:26:35 PM       2\n8:14:07 PM       2\n9:54:45 PM       2\n10:07:58 PM      2\n9:57:55 PM       2\n9:25:53 PM       2\n9:57:46 PM       2\n10:00:08 PM      2\n10:03:06 PM      2\n10:20:51 PM      2\n8:02:02 PM       2\n9:12:53 PM       2\n9:12:15 PM       2\n8:00:22 PM       2\n9:26:23 PM       2\n9:58:35 PM       2\n8:51:53 PM       2\n8:05:16 PM       2\n8:44:21 PM       2\n8:24:10 PM       2\n9:19:10 PM       2\n8:55:37 PM       2\n10:07:38 PM      2\n8:23:56 PM       2\n9:00:45 PM       2\n10:04:25 PM      2\n9:48:07 PM       2\n9:30:38 PM       2\n8:02:32 PM       2\n8:50:17 PM       2\n8:13:27 PM       2\n9:44:57 PM       2\n9:40:23 PM       2\n9:59:06 PM       2\n8:33:13 PM       2\n9:09:07 PM       2\n8:06:21 PM       2\n9:49:38 PM       2\n8:45:01 PM       2\n9:26:05 PM       2\n8:06:46 PM       2\n9:40:28 PM       2\n8:29:05 PM       2\n8:45:50 PM       2\n8:22:32 PM       2\n8:17:06 PM       2\n7:57:41 PM       2\n8:39:01 PM       2\n8:42:50 PM       2\n8:27:35 PM       2\n10:20:01 PM      2\n7:58:41 PM       2\n8:46:27 PM       2\n8:08:30 PM       2\n8:35:00 PM       2\n9:31:53 PM       2\n9:55:27 PM       2\n7:59:40 PM       2\n9:50:17 PM       2\n10:08:36 PM      2\n8:00:12 PM       2\n8:13:01 PM       2\n9:40:13 PM       2\n9:19:37 PM       2\n10:12:21 PM      2\n8:26:52 PM       2\n9:57:48 PM       2\n9:27:56 PM       2\n8:17:10 PM       2\n8:00:20 PM       2\n9:16:37 PM       2\n8:54:53 PM       2\n8:14:10 PM       2\n8:14:30 PM       2\n10:02:48 PM      2\n8:16:21 PM       2\n8:33:06 PM       2\n10:33:26 PM      2\n8:51:10 PM       2\n9:26:13 PM       2\n8:23:27 PM       2\n8:24:46 PM       2\n10:06:41 PM      2\n10:10:16 PM      2\n10:18:21 PM      2\n10:29:06 PM      2\n9:05:25 PM       2\n8:38:31 PM       2\n8:35:30 PM       2\n10:08:26 PM      2\n8:18:37 PM       2\n9:01:01 PM       2\n9:37:38 PM       2\n8:37:50 PM       2\n10:23:21 PM      2\n8:17:17 PM       2\n9:42:08 PM       2\n8:58:13 PM       2\n10:29:36 PM      2\n9:49:43 PM       2\n8:32:55 PM       2\n9:02:31 PM       2\n8:29:26 PM       2\n8:07:36 PM       2\n10:11:01 PM      2\n9:37:46 PM       2\n8:17:52 PM       2\n8:35:53 PM       2\n10:03:18 PM      2\n8:39:41 PM       2\n9:06:30 PM       2\n9:46:03 PM       2\n9:19:47 PM       2\n9:13:58 PM       2\n8:48:07 PM       2\n8:35:26 PM       2\n9:08:33 PM       2\n9:15:20 PM       2\n8:52:27 PM       2\n9:18:43 PM       2\n8:21:32 PM       2\n8:44:17 PM       2\n9:30:28 PM       2\n9:09:48 PM       2\n9:28:31 PM       2\n9:56:08 PM       2\n7:54:31 PM       2\n8:45:23 PM       2\n9:10:31 PM       2\n9:50:06 PM       2\n8:35:33 PM       2\n10:19:15 PM      2\n9:25:48 PM       2\n8:40:20 PM       2\n8:57:18 PM       2\n9:04:18 PM       2\n9:26:33 PM       2\n8:03:26 PM       2\n9:26:53 PM       2\n10:20:46 PM      2\n8:32:10 PM       2\n9:27:38 PM       2\n8:22:57 PM       2\n9:24:26 PM       2\n9:44:11 PM       2\n8:03:31 PM       2\n8:13:52 PM       2\n8:23:17 PM       2\n7:51:31 PM       2\n9:03:31 PM       2\n10:08:38 PM      2\n9:06:47 PM       2\n10:18:51 PM      2\n9:45:37 PM       2\n10:29:01 PM      2\n10:16:27 PM      2\n8:07:06 PM       2\n8:16:30 PM       2\n9:10:23 PM       2\n9:13:18 PM       2\n9:59:18 PM       2\n8:11:00 PM       2\n8:40:51 PM       2\n9:09:47 PM       2\n8:59:27 PM       2\n8:01:30 PM       2\n8:08:11 PM       2\n8:35:22 PM       2\n9:13:48 PM       2\n8:50:51 PM       2\n9:17:33 PM       2\n10:29:11 PM      2\n9:16:11 PM       2\n9:15:48 PM       2\n10:08:25 PM      2\n8:06:02 PM       2\n9:38:58 PM       2\n9:47:41 PM       2\n8:43:16 PM       2\n8:00:41 PM       2\n8:47:57 PM       2\n8:37:35 PM       2\n8:54:07 PM       2\n9:53:37 PM       2\n9:11:01 PM       2\n9:47:46 PM       2\n8:09:00 PM       2\n9:04:43 PM       2\n10:22:01 PM      2\n8:27:45 PM       2\n8:22:37 PM       2\n10:08:55 PM      2\n9:36:48 PM       2\n8:23:07 PM       2\n9:53:08 PM       2\n10:12:47 PM      2\n8:03:57 PM       2\n7:54:12 PM       2\n9:45:01 PM       2\n9:07:28 PM       2\n10:09:16 PM      2\n9:50:13 PM       2\n8:35:23 PM       2\n10:29:16 PM      2\n8:35:20 PM       2\n8:31:02 PM       2\n10:20:56 PM      2\n9:06:28 PM       2\n9:38:21 PM       2\n9:04:33 PM       2\n7:59:32 PM       2\n8:38:11 PM       2\n8:31:07 PM       2\n9:49:03 PM       2\n9:00:21 PM       2\n9:26:03 PM       2\n7:53:01 PM       2\n10:00:35 PM      2\n9:07:01 PM       2\n9:20:13 PM       2\n8:09:57 PM       2\n8:32:42 PM       2\n8:50:40 PM       2\n9:04:47 PM       2\n9:46:56 PM       2\n7:54:11 PM       2\n10:07:56 PM      2\n9:04:11 PM       2\n9:12:17 PM       2\n8:06:22 PM       2\n10:22:35 PM      2\n9:51:58 PM       2\n8:49:51 PM       2\n8:05:20 PM       2\n9:12:57 PM       2\n9:31:46 PM       2\n9:23:33 PM       2\n7:53:52 PM       2\n8:59:28 PM       2\n9:42:36 PM       2\n8:09:41 PM       2\n10:22:56 PM      2\n8:36:22 PM       2\n9:04:21 PM       2\n10:06:35 PM      2\n9:43:43 PM       2\n8:14:01 PM       2\n9:14:30 PM       2\n10:07:16 PM      2\n9:55:48 PM       2\n9:29:57 PM       2\n9:18:03 PM       2\n10:16:55 PM      2\n9:46:28 PM       2\n9:26:43 PM       2\n8:00:51 PM       2\n8:47:23 PM       2\n9:13:30 PM       2\n8:34:41 PM       2\n9:58:05 PM       2\n9:33:33 PM       2\n10:24:31 PM      2\n8:07:56 PM       2\n9:55:58 PM       2\n8:04:37 PM       2\n9:01:11 PM       2\n9:28:33 PM       2\n9:10:01 PM       2\n7:58:22 PM       2\n9:41:35 PM       2\n9:54:35 PM       2\n8:47:07 PM       2\n8:37:03 PM       2\n9:36:41 PM       2\n9:12:07 PM       2\n9:18:46 PM       2\n7:59:11 PM       2\n9:06:51 PM       2\n9:21:17 PM       2\n8:42:17 PM       2\n8:27:50 PM       2\n9:59:38 PM       2\n8:06:17 PM       2\n10:11:15 PM      2\n8:33:40 PM       2\n8:21:42 PM       2\n9:30:56 PM       2\n9:04:28 PM       2\n7:55:01 PM       2\n8:34:10 PM       2\n9:42:56 PM       2\n8:17:46 PM       2\n10:21:06 PM      2\n9:44:48 PM       2\n9:15:11 PM       2\n8:59:58 PM       2\n9:19:23 PM       2\n9:31:35 PM       2\n9:15:00 PM       2\n9:29:48 PM       2\n8:41:26 PM       2\n8:39:31 PM       2\n9:10:03 PM       2\n8:52:06 PM       2\n9:37:01 PM       2\n8:16:20 PM       2\n8:51:03 PM       2\n9:21:03 PM       2\n9:19:58 PM       2\n8:32:33 PM       2\n8:09:37 PM       2\n10:31:06 PM      2\n8:45:57 PM       2\n8:14:52 PM       2\n9:09:18 PM       2\n8:24:02 PM       2\n8:46:00 PM       2\n9:38:48 PM       2\n9:32:18 PM       2\n9:38:36 PM       2\n7:55:31 PM       2\n8:06:36 PM       2\n9:29:33 PM       2\n8:39:00 PM       2\n10:09:51 PM      2\n8:14:27 PM       2\n9:11:55 PM       2\n9:10:41 PM       2\n9:25:28 PM       2\n9:09:55 PM       2\n8:04:41 PM       2\n9:04:41 PM       2\n8:36:23 PM       2\n9:19:53 PM       2\n9:23:53 PM       2\n10:02:18 PM      2\n9:56:16 PM       2\n8:24:37 PM       2\n9:44:33 PM       2\n9:18:25 PM       2\n9:27:03 PM       2\n8:23:50 PM       2\n8:55:38 PM       2\n8:08:46 PM       2\n8:53:43 PM       2\n9:11:11 PM       2\n8:49:57 PM       2\n9:19:43 PM       2\n10:23:25 PM      2\n10:24:06 PM      2\n8:51:13 PM       2\n8:23:45 PM       2\n10:05:15 PM      2\n8:47:16 PM       2\n9:48:26 PM       2\n8:30:50 PM       2\n9:32:05 PM       2\n9:22:28 PM       2\n9:56:58 PM       2\n10:36:36 PM      2\n9:01:37 PM       2\n8:35:17 PM       2\n8:43:56 PM       2\n10:26:46 PM      2\n8:16:40 PM       2\n9:09:31 PM       2\n8:36:37 PM       2\n9:15:07 PM       2\n9:37:35 PM       2\n8:09:56 PM       2\n9:58:56 PM       2\n8:21:06 PM       2\n8:52:13 PM       2\n9:03:27 PM       2\n8:07:22 PM       2\n8:03:12 PM       2\n9:39:43 PM       2\n9:39:53 PM       2\n9:48:38 PM       2\n10:31:46 PM      2\n9:32:31 PM       2\n10:11:11 PM      2\n8:26:12 PM       2\n9:57:45 PM       2\n10:33:46 PM      2\n9:13:40 PM       2\n9:54:06 PM       2\n9:17:25 PM       2\n8:52:48 PM       2\n8:09:47 PM       2\n8:10:40 PM       2\n8:48:20 PM       2\n8:10:31 PM       2\n9:08:26 PM       2\n8:03:16 PM       2\n9:29:23 PM       2\n9:10:43 PM       2\n9:09:37 PM       2\n10:25:11 PM      2\n9:00:53 PM       2\n9:16:43 PM       2\n9:28:58 PM       2\n8:57:31 PM       2\n9:53:55 PM       2\n9:21:23 PM       2\n9:01:45 PM       2\n8:41:01 PM       2\n8:58:37 PM       2\n9:51:26 PM       2\n9:06:57 PM       2\n9:07:43 PM       2\n8:55:51 PM       2\n8:54:27 PM       2\n8:50:56 PM       2\n10:34:06 PM      2\n9:29:36 PM       2\n8:51:00 PM       2\n8:52:00 PM       2\n10:03:28 PM      2\n8:59:07 PM       2\n10:11:41 PM      2\n9:03:07 PM       2\n9:57:38 PM       2\n9:08:23 PM       2\n9:12:16 PM       2\n10:08:01 PM      2\n8:34:00 PM       2\n9:35:18 PM       2\n9:26:15 PM       2\n9:43:25 PM       2\n8:01:01 PM       2\n10:02:28 PM      2\n9:04:08 PM       2\n8:24:22 PM       2\n8:47:37 PM       2\n9:57:25 PM       2\n8:36:32 PM       2\n9:53:17 PM       2\n8:36:02 PM       2\n9:54:26 PM       2\n8:27:20 PM       2\n9:27:13 PM       2\n8:14:57 PM       2\n9:53:06 PM       2\n9:33:18 PM       2\n10:08:47 PM      2\n8:45:10 PM       2\n8:49:07 PM       2\n8:28:30 PM       2\n8:09:07 PM       2\n9:14:10 PM       2\n8:48:38 PM       2\n9:49:26 PM       2\n8:06:11 PM       2\n8:58:18 PM       2\n9:44:35 PM       2\n8:16:17 PM       2\n8:33:37 PM       2\n7:57:11 PM       2\n9:31:11 PM       2\n8:51:21 PM       2\n8:02:50 PM       2\n9:09:38 PM       2\n9:18:05 PM       2\n10:21:01 PM      2\n9:19:51 PM       2\n9:06:45 PM       2\n9:19:01 PM       2\n10:07:26 PM      2\n8:55:47 PM       2\n10:05:05 PM      2\n8:07:46 PM       2\n8:29:00 PM       2\n9:40:11 PM       2\n9:44:23 PM       2\n9:03:23 PM       2\n7:59:01 PM       2\n8:13:11 PM       2\n8:53:18 PM       2\n10:08:06 PM      2\n10:02:46 PM      2\n9:14:08 PM       2\n8:55:03 PM       2\n10:24:01 PM      2\n10:10:11 PM      2\n7:54:22 PM       2\n9:14:50 PM       2\n10:22:36 PM      2\n9:03:15 PM       2\n9:43:36 PM       2\n9:48:16 PM       2\n9:00:37 PM       2\n8:34:35 PM       2\n10:05:16 PM      2\n9:17:48 PM       2\n8:48:10 PM       2\n10:14:35 PM      2\n8:38:51 PM       2\n9:52:46 PM       2\n9:04:57 PM       2\n8:53:37 PM       2\n9:48:56 PM       2\n8:44:20 PM       2\n9:42:03 PM       2\n9:56:07 PM       2\n8:10:07 PM       2\n8:36:15 PM       2\n8:35:10 PM       2\n9:39:51 PM       2\n8:13:00 PM       2\n8:07:07 PM       2\n7:54:01 PM       2\n9:03:51 PM       2\n8:47:13 PM       2\n8:32:45 PM       2\n9:29:37 PM       2\n8:09:21 PM       2\n9:38:55 PM       2\n9:55:15 PM       2\n8:25:20 PM       2\n9:23:08 PM       2\n10:14:47 PM      2\n7:56:51 PM       2\n9:08:03 PM       2\n9:52:07 PM       2\n7:58:51 PM       2\n8:50:53 PM       2\n9:44:16 PM       2\n10:03:08 PM      2\n10:00:58 PM      2\n8:11:12 PM       2\n9:30:15 PM       2\n8:31:12 PM       2\n10:14:45 PM      2\n9:28:21 PM       2\n8:51:06 PM       2\n10:37:26 PM      2\n8:19:11 PM       2\n9:09:35 PM       2\n10:23:15 PM      2\n9:36:08 PM       2\n9:28:38 PM       2\n10:18:10 PM      1\n11:04:30 PM      1\n10:53:46 PM      1\n10:54:31 PM      1\n11:31:08 PM      1\n10:56:36 PM      1\n8:46:58 PM       1\n9:00:02 PM       1\n9:40:05 PM       1\n11:14:38 PM      1\n11:00:30 PM      1\n9:09:22 PM       1\n11:25:28 PM      1\n8:45:51 PM       1\n10:01:44 PM      1\n11:48:51 PM      1\n7:56:03 PM       1\n10:48:46 PM      1\n9:53:28 PM       1\n10:44:06 PM      1\n11:41:16 PM      1\n9:43:04 PM       1\n11:04:28 PM      1\n8:16:45 PM       1\n11:06:28 PM      1\n12:21:49 AM      1\n11:33:08 PM      1\n7:33:06 PM       1\n8:12:40 PM       1\n9:36:56 PM       1\n9:11:42 PM       1\n8:45:22 PM       1\n8:42:58 PM       1\n12:07:08 AM      1\n11:59:08 PM      1\n10:41:55 PM      1\n11:04:10 PM      1\n7:11:18 PM       1\n8:14:50 PM       1\n8:08:33 PM       1\n8:46:10 PM       1\n10:11:14 PM      1\n9:16:34 PM       1\n7:55:06 PM       1\n11:36:38 PM      1\n8:58:22 PM       1\n11:08:48 PM      1\n8:27:08 PM       1\n11:26:28 PM      1\n8:17:13 PM       1\n11:16:28 PM      1\n7:48:35 PM       1\n9:18:30 PM       1\n9:33:59 PM       1\n7:44:43 PM       1\n8:33:09 PM       1\n10:50:11 PM      1\n7:59:33 PM       1\n9:11:39 PM       1\n11:51:51 PM      1\n9:52:39 PM       1\n7:35:43 PM       1\n9:15:34 PM       1\n8:05:55 PM       1\n9:36:36 PM       1\n9:51:44 PM       1\n10:15:01 PM      1\n8:48:54 PM       1\n9:30:09 PM       1\n10:15:11 PM      1\n11:02:30 PM      1\n11:37:41 PM      1\n8:57:42 PM       1\n9:32:14 PM       1\n11:59:01 PM      1\n9:11:52 PM       1\n8:29:28 PM       1\n8:36:10 PM       1\n9:39:28 PM       1\n8:10:29 PM       1\n9:02:02 PM       1\n9:47:48 PM       1\n10:42:35 PM      1\n8:23:44 PM       1\n8:02:51 PM       1\n11:03:21 PM      1\n10:49:46 PM      1\n9:22:19 PM       1\n9:54:54 PM       1\n8:59:09 PM       1\n11:48:11 PM      1\n8:28:24 PM       1\n8:22:43 PM       1\n8:46:31 PM       1\n10:22:17 PM      1\n12:11:08 AM      1\n11:50:08 PM      1\n12:07:58 AM      1\n10:45:38 PM      1\n9:21:40 PM       1\n8:00:01 PM       1\n8:53:14 PM       1\n8:52:12 PM       1\n10:04:09 PM      1\n9:06:09 PM       1\n9:05:44 PM       1\n11:01:28 PM      1\n12:06:08 AM      1\n11:33:01 PM      1\n11:04:20 PM      1\n11:50:20 PM      1\n9:38:40 PM       1\n11:18:11 PM      1\n10:31:11 PM      1\n9:41:26 PM       1\n10:26:47 PM      1\n8:44:14 PM       1\n10:19:29 PM      1\n8:50:19 PM       1\n9:49:34 PM       1\n8:34:42 PM       1\n10:10:25 PM      1\n7:58:56 PM       1\n9:29:50 PM       1\n7:47:16 PM       1\n7:49:22 PM       1\n10:22:57 PM      1\n9:32:29 PM       1\n10:10:39 PM      1\n9:43:08 PM       1\n9:26:10 PM       1\n10:33:31 PM      1\n8:58:38 PM       1\n11:57:11 PM      1\n8:45:02 PM       1\n9:55:41 PM       1\n8:15:59 PM       1\n9:56:47 PM       1\n8:19:08 PM       1\n11:23:18 PM      1\n8:55:23 PM       1\n10:18:39 PM      1\n8:37:29 PM       1\n9:23:10 PM       1\n9:21:09 PM       1\n9:46:06 PM       1\n9:41:18 PM       1\n8:59:01 PM       1\n11:41:46 PM      1\n7:58:36 PM       1\n9:29:09 PM       1\n9:23:50 PM       1\n9:34:10 PM       1\n7:49:16 PM       1\n8:36:34 PM       1\n7:48:15 PM       1\n8:49:39 PM       1\n8:51:47 PM       1\n11:44:06 PM      1\n11:54:18 PM      1\n10:44:51 PM      1\n10:07:17 PM      1\n9:49:01 PM       1\n11:05:16 PM      1\n10:54:48 PM      1\n9:30:31 PM       1\n7:50:42 PM       1\n11:15:28 PM      1\n10:31:51 PM      1\n9:08:42 PM       1\n9:25:00 PM       1\n8:24:24 PM       1\n9:19:38 PM       1\n7:36:53 PM       1\n10:02:17 PM      1\n10:56:06 PM      1\n9:02:13 PM       1\n8:31:38 PM       1\n11:00:40 PM      1\n10:55:08 PM      1\n10:20:48 PM      1\n10:16:14 PM      1\n11:03:58 PM      1\n7:47:56 PM       1\n10:01:37 PM      1\n11:06:00 PM      1\n8:16:57 PM       1\n10:55:18 PM      1\n10:24:55 PM      1\n10:41:48 PM      1\n10:07:09 PM      1\n8:40:33 PM       1\n9:38:34 PM       1\n8:00:23 PM       1\n9:17:04 PM       1\n8:46:01 PM       1\n11:07:41 PM      1\n11:02:26 PM      1\n10:17:23 PM      1\n8:07:32 PM       1\n10:43:28 PM      1\n7:50:13 PM       1\n7:30:33 PM       1\n10:16:03 PM      1\n10:03:21 PM      1\n7:57:13 PM       1\n11:16:08 PM      1\n8:04:13 PM       1\n9:53:29 PM       1\n9:44:38 PM       1\n10:25:47 PM      1\n11:51:31 PM      1\n12:15:59 AM      1\n7:42:33 PM       1\n10:17:53 PM      1\n9:03:00 PM       1\n8:13:07 PM       1\n11:35:51 PM      1\n10:38:45 PM      1\n7:38:01 PM       1\n8:53:21 PM       1\n8:55:18 PM       1\n11:43:18 PM      1\n9:18:40 PM       1\n11:10:48 PM      1\n8:03:13 PM       1\n9:13:09 PM       1\n12:02:48 AM      1\n8:04:10 PM       1\n8:33:04 PM       1\n9:41:58 PM       1\n9:00:42 PM       1\n9:38:16 PM       1\n9:06:21 PM       1\n9:14:03 PM       1\n8:46:09 PM       1\n9:34:04 PM       1\n9:24:18 PM       1\n10:37:46 PM      1\n8:16:31 PM       1\n8:32:18 PM       1\n11:14:30 PM      1\n8:31:22 PM       1\n10:01:07 PM      1\n11:12:41 PM      1\n11:36:26 PM      1\n10:07:06 PM      1\n9:53:54 PM       1\n10:30:45 PM      1\n10:32:11 PM      1\n8:32:48 PM       1\n8:04:07 PM       1\n9:17:54 PM       1\n7:54:26 PM       1\n9:32:20 PM       1\n10:26:07 PM      1\n10:14:44 PM      1\n10:40:01 PM      1\n12:17:39 AM      1\n11:45:41 PM      1\n9:56:57 PM       1\n7:52:02 PM       1\n10:13:06 PM      1\n11:03:41 PM      1\n7:59:13 PM       1\n9:35:40 PM       1\n9:03:22 PM       1\n10:31:01 PM      1\n9:31:59 PM       1\n12:14:48 AM      1\n9:30:51 PM       1\n8:42:26 PM       1\n8:53:00 PM       1\n9:35:23 PM       1\n8:33:38 PM       1\n7:33:31 PM       1\n11:46:51 PM      1\n10:56:11 PM      1\n8:49:48 PM       1\n9:22:09 PM       1\n9:32:19 PM       1\n8:58:49 PM       1\n8:15:53 PM       1\n8:45:00 PM       1\n9:20:45 PM       1\n7:56:52 PM       1\n12:12:18 AM      1\n9:02:29 PM       1\n9:38:20 PM       1\n8:04:03 PM       1\n7:06:58 PM       1\n11:01:26 PM      1\n8:12:22 PM       1\n8:24:54 PM       1\n9:36:26 PM       1\n8:54:50 PM       1\n9:57:59 PM       1\n8:09:23 PM       1\n11:42:26 PM      1\n8:55:20 PM       1\n11:50:21 PM      1\n7:55:46 PM       1\n10:10:14 PM      1\n11:45:01 PM      1\n12:12:28 AM      1\n9:23:20 PM       1\n9:08:37 PM       1\n8:33:24 PM       1\n11:35:08 PM      1\n9:00:20 PM       1\n9:30:10 PM       1\n11:31:40 PM      1\n9:42:29 PM       1\n11:09:10 PM      1\n8:34:18 PM       1\n10:03:46 PM      1\n9:25:41 PM       1\n8:02:46 PM       1\n11:24:20 PM      1\n10:24:49 PM      1\n7:35:33 PM       1\n7:46:13 PM       1\n8:33:48 PM       1\n7:36:43 PM       1\n7:46:50 PM       1\n10:58:41 PM      1\n12:18:28 AM      1\n10:19:47 PM      1\n11:00:11 PM      1\n8:41:02 PM       1\n8:02:13 PM       1\n7:43:02 PM       1\n11:36:11 PM      1\n10:08:59 PM      1\n11:18:41 PM      1\n10:36:55 PM      1\n8:58:04 PM       1\n8:59:12 PM       1\n10:49:05 PM      1\n9:26:24 PM       1\n7:36:56 PM       1\n9:07:47 PM       1\n9:03:12 PM       1\n7:37:51 PM       1\n7:14:38 PM       1\n9:51:24 PM       1\n11:09:28 PM      1\n10:57:46 PM      1\n9:48:11 PM       1\n10:42:46 PM      1\n8:16:44 PM       1\n9:08:02 PM       1\n11:52:21 PM      1\n10:26:51 PM      1\n9:59:44 PM       1\n9:48:24 PM       1\n9:24:51 PM       1\n11:57:18 PM      1\n11:08:40 PM      1\n7:51:12 PM       1\n7:34:03 PM       1\n9:35:03 PM       1\n11:00:31 PM      1\n8:57:50 PM       1\n8:15:55 PM       1\n7:47:20 PM       1\n8:35:11 PM       1\n10:07:37 PM      1\n9:59:37 PM       1\n7:44:36 PM       1\n8:51:44 PM       1\n10:18:40 PM      1\n10:40:45 PM      1\n9:08:52 PM       1\n7:05:18 PM       1\n11:12:21 PM      1\n10:01:29 PM      1\n9:41:04 PM       1\n7:44:06 PM       1\n7:53:43 PM       1\n11:41:58 PM      1\n8:23:54 PM       1\n9:27:10 PM       1\n8:56:13 PM       1\n10:00:27 PM      1\n11:56:08 PM      1\n8:45:04 PM       1\n11:15:08 PM      1\n10:18:50 PM      1\n11:27:10 PM      1\n8:54:30 PM       1\n10:49:15 PM      1\n11:06:40 PM      1\n11:33:10 PM      1\n10:35:11 PM      1\n8:02:06 PM       1\n7:51:40 PM       1\n8:29:53 PM       1\n9:17:03 PM       1\n9:24:14 PM       1\n8:22:48 PM       1\n8:54:18 PM       1\n7:57:42 PM       1\n9:53:36 PM       1\n10:51:58 PM      1\n7:57:03 PM       1\n8:55:24 PM       1\n9:05:30 PM       1\n11:44:11 PM      1\n7:33:41 PM       1\n8:16:03 PM       1\n9:29:29 PM       1\n10:18:33 PM      1\n10:01:59 PM      1\n8:35:42 PM       1\n10:20:58 PM      1\n8:23:08 PM       1\n8:13:13 PM       1\n9:56:15 PM       1\n8:46:37 PM       1\n9:02:23 PM       1\n7:33:11 PM       1\n8:24:23 PM       1\n10:35:55 PM      1\n7:51:50 PM       1\n10:57:16 PM      1\n8:56:09 PM       1\n10:34:16 PM      1\n8:25:19 PM       1\n8:39:13 PM       1\n7:30:43 PM       1\n9:37:14 PM       1\n10:54:41 PM      1\n11:29:10 PM      1\n9:28:10 PM       1\n9:25:10 PM       1\n7:50:30 PM       1\n11:21:48 PM      1\n11:37:18 PM      1\n8:46:08 PM       1\n7:52:26 PM       1\n9:45:16 PM       1\n7:32:53 PM       1\n7:38:56 PM       1\n7:56:42 PM       1\n9:12:21 PM       1\n9:06:04 PM       1\n11:39:28 PM      1\n9:42:41 PM       1\n8:57:08 PM       1\n9:03:21 PM       1\n9:06:01 PM       1\n10:11:19 PM      1\n9:20:21 PM       1\n8:37:09 PM       1\n8:15:43 PM       1\n8:46:18 PM       1\n9:52:01 PM       1\n7:50:05 PM       1\n9:38:01 PM       1\n11:44:46 PM      1\n9:39:21 PM       1\n8:31:09 PM       1\n9:30:34 PM       1\n10:19:03 PM      1\n10:15:44 PM      1\n10:03:26 PM      1\n10:02:57 PM      1\n10:13:03 PM      1\n8:07:39 PM       1\n11:14:28 PM      1\n8:49:02 PM       1\n9:37:08 PM       1\n9:42:04 PM       1\n8:29:13 PM       1\n7:06:28 PM       1\n8:11:09 PM       1\n10:41:08 PM      1\n9:14:51 PM       1\n10:36:51 PM      1\n8:20:33 PM       1\n7:37:03 PM       1\n8:42:19 PM       1\n10:26:18 PM      1\n10:08:37 PM      1\n8:25:58 PM       1\n10:59:26 PM      1\n11:04:41 PM      1\n8:22:15 PM       1\n8:35:49 PM       1\n8:48:12 PM       1\n7:32:23 PM       1\n11:14:50 PM      1\n8:09:03 PM       1\n11:47:31 PM      1\n10:02:59 PM      1\n9:37:20 PM       1\n9:11:51 PM       1\n9:14:13 PM       1\n7:37:13 PM       1\n12:09:28 AM      1\n10:19:37 PM      1\n10:12:48 PM      1\n7:47:33 PM       1\n11:04:11 PM      1\n10:21:09 PM      1\n7:42:13 PM       1\n8:22:50 PM       1\n9:25:31 PM       1\n9:01:49 PM       1\n7:46:03 PM       1\n7:13:08 PM       1\n8:24:05 PM       1\n9:27:59 PM       1\n9:02:50 PM       1\n8:17:45 PM       1\n9:42:59 PM       1\n7:58:46 PM       1\n8:32:49 PM       1\n8:29:38 PM       1\n8:30:27 PM       1\n7:48:33 PM       1\n11:39:21 PM      1\n11:01:56 PM      1\n11:56:58 PM      1\n10:19:33 PM      1\n11:52:40 PM      1\n11:14:10 PM      1\n9:04:10 PM       1\n7:56:30 PM       1\n7:38:13 PM       1\n8:17:03 PM       1\n7:47:45 PM       1\n10:33:15 PM      1\n10:38:26 PM      1\n8:50:02 PM       1\n7:50:43 PM       1\n8:19:58 PM       1\n9:41:01 PM       1\n11:32:00 PM      1\n9:57:31 PM       1\n6:57:38 PM       1\n11:37:51 PM      1\n9:11:27 PM       1\n10:35:21 PM      1\n9:56:25 PM       1\n7:50:32 PM       1\n11:02:20 PM      1\n11:17:30 PM      1\n10:49:01 PM      1\n8:04:33 PM       1\n10:47:01 PM      1\n8:34:59 PM       1\n11:47:41 PM      1\n10:23:17 PM      1\n8:46:11 PM       1\n9:28:04 PM       1\n10:12:09 PM      1\n8:17:37 PM       1\n11:07:01 PM      1\n10:35:35 PM      1\n9:27:39 PM       1\n9:59:03 PM       1\n11:52:10 PM      1\n9:39:44 PM       1\n7:50:12 PM       1\n9:09:20 PM       1\n11:50:01 PM      1\n9:06:20 PM       1\n8:10:49 PM       1\n8:55:33 PM       1\n7:35:53 PM       1\n9:15:18 PM       1\n9:02:58 PM       1\n8:37:39 PM       1\n7:52:20 PM       1\n7:39:31 PM       1\n9:27:49 PM       1\n10:46:56 PM      1\n9:25:38 PM       1\n9:19:48 PM       1\n11:19:21 PM      1\n9:53:44 PM       1\n8:56:03 PM       1\n10:45:46 PM      1\n8:35:27 PM       1\n10:44:21 PM      1\n11:02:08 PM      1\n11:04:00 PM      1\n10:50:25 PM      1\n10:42:28 PM      1\n8:19:25 PM       1\n10:19:31 PM      1\n9:27:30 PM       1\n10:25:00 PM      1\n7:34:21 PM       1\n7:35:16 PM       1\n9:05:59 PM       1\n7:59:23 PM       1\n8:45:42 PM       1\n7:01:28 PM       1\n8:07:57 PM       1\n11:27:30 PM      1\n9:52:18 PM       1\n8:34:21 PM       1\n8:12:10 PM       1\n8:55:40 PM       1\n7:52:16 PM       1\n10:52:58 PM      1\n11:58:28 PM      1\n9:29:38 PM       1\n11:26:18 PM      1\n12:11:38 AM      1\n8:49:09 PM       1\n9:59:24 PM       1\n9:42:21 PM       1\n8:54:00 PM       1\n8:39:55 PM       1\n10:08:58 PM      1\n8:12:47 PM       1\n9:11:33 PM       1\n11:59:58 PM      1\n10:34:36 PM      1\n11:03:46 PM      1\n11:05:21 PM      1\n12:22:39 AM      1\n9:50:01 PM       1\n7:03:58 PM       1\n9:21:59 PM       1\n11:09:20 PM      1\n11:53:28 PM      1\n8:13:39 PM       1\n8:32:35 PM       1\n10:26:25 PM      1\n10:12:24 PM      1\n8:16:09 PM       1\n11:57:01 PM      1\n7:50:40 PM       1\n10:04:48 PM      1\n9:46:59 PM       1\n8:47:58 PM       1\n11:14:21 PM      1\n8:41:12 PM       1\n7:56:33 PM       1\n10:12:19 PM      1\n9:10:29 PM       1\n7:33:46 PM       1\n9:58:57 PM       1\n9:06:00 PM       1\n8:16:33 PM       1\n10:49:45 PM      1\n9:09:50 PM       1\n8:29:48 PM       1\n7:58:42 PM       1\n8:34:28 PM       1\n8:14:53 PM       1\n8:53:54 PM       1\n9:26:57 PM       1\n7:28:53 PM       1\n11:29:20 PM      1\n12:21:39 AM      1\n8:18:29 PM       1\n8:26:18 PM       1\n10:46:11 PM      1\n10:24:05 PM      1\n8:36:41 PM       1\n9:24:30 PM       1\n9:47:21 PM       1\n8:56:19 PM       1\n8:18:19 PM       1\n9:15:01 PM       1\n10:10:07 PM      1\n9:09:42 PM       1\n11:18:10 PM      1\n8:32:54 PM       1\n8:12:23 PM       1\n10:46:18 PM      1\n9:08:40 PM       1\n10:24:40 PM      1\n10:17:29 PM      1\n8:21:17 PM       1\n8:10:42 PM       1\n12:18:09 AM      1\n6:57:48 PM       1\n8:43:52 PM       1\n10:53:18 PM      1\n9:01:09 PM       1\n10:37:45 PM      1\n8:33:45 PM       1\n9:02:08 PM       1\n10:11:18 PM      1\n10:49:24 AM      1\n11:47:01 PM      1\n10:32:51 PM      1\n7:46:23 PM       1\n8:02:47 PM       1\n10:59:11 PM      1\n11:31:50 PM      1\n10:22:49 PM      1\n9:53:05 PM       1\n11:53:00 PM      1\n8:13:49 PM       1\n9:10:52 PM       1\n10:45:36 PM      1\n10:31:28 PM      1\n8:44:39 PM       1\n7:02:18 PM       1\n11:39:18 PM      1\n7:52:03 PM       1\n10:14:37 PM      1\n8:31:48 PM       1\n11:15:30 PM      1\n10:47:26 PM      1\n12:13:49 AM      1\n8:58:25 PM       1\n8:29:18 PM       1\n9:11:04 PM       1\n10:15:24 PM      1\n9:18:58 PM       1\n9:33:25 PM       1\n8:36:50 PM       1\n7:29:13 PM       1\n7:50:16 PM       1\n7:59:03 PM       1\n8:37:11 PM       1\n8:17:55 PM       1\n11:53:38 PM      1\n9:18:08 PM       1\n7:47:13 PM       1\n12:17:29 AM      1\n8:50:42 PM       1\n11:40:46 PM      1\n10:22:38 PM      1\n8:30:10 PM       1\n8:55:02 PM       1\n10:03:45 PM      1\n9:37:04 PM       1\n12:23:49 AM      1\n9:50:44 PM       1\n11:31:58 PM      1\n8:46:32 PM       1\n10:56:16 PM      1\n10:49:06 PM      1\n11:25:50 PM      1\n11:05:56 PM      1\n11:52:50 PM      1\n12:18:19 AM      1\n7:46:46 PM       1\n11:24:08 PM      1\n8:22:40 PM       1\n8:04:30 PM       1\n7:33:13 PM       1\n10:20:18 PM      1\n10:18:19 PM      1\n11:19:50 PM      1\n8:22:33 PM       1\n9:03:38 PM       1\n8:06:43 PM       1\n10:37:51 PM      1\n11:15:38 PM      1\n11:10:21 PM      1\n8:10:13 PM       1\n7:13:28 PM       1\n11:37:16 PM      1\n10:00:45 PM      1\n9:12:48 PM       1\n9:57:14 PM       1\n11:30:18 PM      1\n9:33:09 PM       1\n7:32:31 PM       1\n11:13:01 PM      1\n7:39:51 PM       1\n9:27:31 PM       1\n7:50:35 PM       1\n11:05:41 PM      1\n9:26:58 PM       1\n10:42:45 PM      1\n9:06:19 PM       1\n11:39:26 PM      1\n10:49:04 AM      1\n9:52:36 PM       1\n10:55:46 PM      1\n10:48:15 PM      1\n8:35:19 PM       1\n8:23:13 PM       1\n8:02:27 PM       1\n11:01:06 PM      1\n9:38:41 PM       1\n11:30:30 PM      1\n10:46:31 PM      1\n8:09:40 PM       1\n7:58:00 PM       1\n10:51:38 PM      1\n11:22:20 PM      1\n9:35:14 PM       1\n10:15:18 PM      1\n9:10:57 PM       1\n8:28:18 PM       1\n10:04:51 PM      1\n10:06:49 PM      1\n10:22:28 PM      1\n7:50:33 PM       1\n8:20:58 PM       1\n8:07:11 PM       1\n8:59:43 PM       1\n11:33:28 PM      1\n8:14:20 PM       1\n7:59:42 PM       1\n11:47:40 PM      1\n10:02:49 PM      1\n7:42:12 PM       1\n10:08:05 PM      1\n7:53:56 PM       1\n9:32:28 PM       1\n9:41:08 PM       1\n8:15:32 PM       1\n8:45:14 PM       1\n9:00:14 PM       1\n12:01:18 AM      1\n11:02:00 PM      1\n11:33:48 PM      1\n10:31:15 PM      1\n9:06:49 PM       1\n10:44:18 PM      1\n10:37:55 PM      1\n10:59:31 PM      1\n11:56:38 PM      1\n12:17:59 AM      1\n9:08:50 PM       1\n11:55:58 PM      1\n11:15:00 PM      1\n11:56:51 PM      1\n9:43:48 PM       1\n9:53:41 PM       1\n7:50:50 PM       1\n8:32:19 PM       1\n9:36:10 PM       1\n8:28:28 PM       1\n9:04:59 PM       1\n10:35:06 PM      1\n8:07:09 PM       1\n7:57:32 PM       1\n10:39:41 PM      1\n7:46:36 PM       1\n8:19:04 PM       1\n9:11:17 PM       1\n9:51:09 PM       1\n11:50:11 PM      1\n9:16:51 PM       1\n7:38:21 PM       1\n9:24:10 PM       1\n9:32:40 PM       1\n10:18:29 PM      1\n11:05:06 PM      1\n9:57:08 PM       1\n9:49:31 PM       1\n11:11:48 PM      1\n8:37:19 PM       1\n12:22:09 AM      1\n8:48:08 PM       1\n11:12:11 PM      1\n11:42:58 PM      1\n9:53:34 PM       1\n7:45:03 PM       1\n9:53:39 PM       1\n7:30:51 PM       1\n10:16:06 PM      1\n11:17:10 PM      1\n8:09:05 PM       1\n8:30:30 PM       1\n8:46:19 PM       1\n10:09:37 PM      1\n11:06:08 PM      1\n10:42:01 PM      1\n10:19:45 PM      1\n8:38:43 PM       1\n7:32:51 PM       1\n10:30:05 PM      1\n9:08:00 PM       1\n10:11:44 PM      1\n12:14:29 AM      1\n11:23:08 PM      1\n11:23:38 PM      1\n9:20:49 PM       1\n8:19:18 PM       1\n8:36:09 PM       1\n8:57:02 PM       1\n11:17:11 PM      1\n10:20:09 PM      1\n7:59:36 PM       1\n9:51:54 PM       1\n9:02:52 PM       1\n9:00:34 PM       1\n9:05:39 PM       1\n8:44:34 PM       1\n9:01:04 PM       1\n9:59:14 PM       1\n10:23:49 PM      1\n11:19:11 PM      1\n9:10:04 PM       1\n12:13:18 AM      1\n11:42:16 PM      1\n8:28:04 PM       1\n9:31:15 PM       1\n9:26:47 PM       1\n8:17:07 PM       1\n11:10:51 PM      1\n8:55:07 PM       1\n8:51:01 PM       1\n10:09:44 PM      1\n11:18:40 PM      1\n10:58:26 PM      1\n7:48:03 PM       1\n9:26:07 PM       1\n11:36:28 PM      1\n9:49:54 PM       1\n9:50:28 PM       1\n7:08:18 PM       1\n9:13:00 PM       1\n9:35:34 PM       1\n8:14:33 PM       1\n9:09:43 PM       1\n8:17:12 PM       1\n7:51:41 PM       1\n8:52:29 PM       1\n9:27:00 PM       1\n10:38:46 PM      1\n8:10:53 PM       1\n11:20:18 PM      1\n10:47:45 PM      1\n10:25:46 PM      1\n10:41:35 PM      1\n10:24:11 PM      1\n10:04:21 PM      1\n9:35:31 PM       1\n9:27:07 PM       1\n8:29:43 PM       1\n9:24:38 PM       1\n7:30:23 PM       1\n11:36:30 PM      1\n7:43:13 PM       1\n9:18:50 PM       1\n7:58:16 PM       1\n10:05:36 PM      1\n10:25:05 PM      1\n10:19:57 PM      1\n10:16:16 PM      1\n11:22:00 PM      1\n8:25:05 PM       1\n7:48:50 PM       1\n8:38:03 PM       1\n10:01:57 PM      1\n8:18:23 PM       1\n8:49:52 PM       1\n10:41:58 PM      1\n10:42:21 PM      1\n10:22:59 PM      1\n11:34:08 PM      1\n12:00:31 AM      1\n10:44:46 PM      1\n10:17:19 PM      1\n12:03:18 AM      1\n8:24:25 PM       1\n9:47:49 PM       1\n7:51:22 PM       1\n7:44:56 PM       1\n10:05:18 PM      1\n8:52:52 PM       1\n11:55:28 PM      1\n10:38:55 PM      1\n9:54:24 PM       1\n12:13:28 AM      1\n8:12:12 PM       1\n9:31:04 PM       1\n11:03:20 PM      1\n10:39:26 PM      1\n8:11:30 PM       1\n8:58:11 PM       1\n7:52:13 PM       1\n10:04:31 PM      1\n11:22:50 PM      1\n8:42:28 PM       1\n12:19:39 AM      1\n9:42:23 PM       1\n9:00:49 PM       1\n10:33:21 PM      1\n8:21:52 PM       1\n10:10:27 PM      1\n10:26:08 PM      1\n9:05:40 PM       1\n9:39:36 PM       1\n9:48:37 PM       1\n10:31:45 PM      1\n9:32:10 PM       1\n10:43:46 PM      1\n8:56:12 PM       1\n9:12:50 PM       1\n8:03:40 PM       1\n11:55:21 PM      1\n8:37:23 PM       1\n7:47:26 PM       1\n10:15:43 PM      1\n9:21:20 PM       1\n11:59:21 PM      1\n11:29:50 PM      1\n9:51:21 PM       1\n11:38:56 PM      1\n8:25:37 PM       1\n9:28:14 PM       1\n8:32:28 PM       1\n9:41:36 PM       1\n12:16:19 AM      1\n9:55:49 PM       1\n10:24:51 PM      1\n11:13:50 PM      1\n7:49:12 PM       1\n7:54:52 PM       1\n9:09:01 PM       1\n7:31:03 PM       1\n8:45:38 PM       1\n10:40:58 PM      1\n7:47:15 PM       1\n9:22:20 PM       1\n9:48:01 PM       1\n11:36:48 PM      1\n10:19:05 PM      1\n11:53:20 PM      1\n9:07:37 PM       1\n11:14:00 PM      1\n8:38:52 PM       1\n8:19:00 PM       1\n9:45:46 PM       1\n10:29:08 PM      1\n8:03:47 PM       1\n9:17:24 PM       1\n7:34:13 PM       1\n7:49:13 PM       1\n11:54:08 PM      1\n8:23:58 PM       1\n9:56:43 PM       1\n9:10:21 PM       1\n11:01:41 PM      1\n7:58:23 PM       1\n8:28:58 PM       1\n7:37:43 PM       1\n9:46:46 PM       1\n8:51:34 PM       1\n9:00:59 PM       1\n10:31:25 PM      1\n12:09:18 AM      1\n8:08:19 PM       1\n9:39:40 PM       1\n11:38:46 PM      1\n11:32:50 PM      1\n10:27:48 PM      1\n10:15:53 PM      1\n11:36:50 PM      1\n8:56:54 PM       1\n7:56:23 PM       1\n8:13:53 PM       1\n8:15:09 PM       1\n7:37:26 PM       1\n8:50:57 PM       1\n10:44:56 PM      1\n10:45:08 PM      1\n10:39:05 PM      1\n10:47:15 PM      1\n7:57:33 PM       1\n11:05:20 PM      1\n9:29:40 PM       1\n11:12:58 PM      1\n11:36:16 PM      1\n8:25:44 PM       1\n12:00:01 AM      1\n11:08:28 PM      1\n8:18:01 PM       1\n12:23:29 AM      1\n8:19:34 PM       1\n7:43:23 PM       1\n9:05:41 PM       1\n8:39:48 PM       1\n8:04:23 PM       1\n10:12:54 PM      1\n7:34:01 PM       1\n10:35:45 PM      1\n9:51:51 PM       1\n9:02:18 PM       1\n9:02:22 PM       1\n7:57:26 PM       1\n8:56:08 PM       1\n8:10:43 PM       1\n10:16:33 PM      1\n12:23:39 AM      1\n11:17:01 PM      1\n9:51:45 PM       1\n10:46:16 PM      1\n10:17:43 PM      1\n9:27:43 PM       1\n9:43:34 PM       1\n10:12:29 PM      1\n11:54:21 PM      1\n8:57:52 PM       1\n8:52:20 PM       1\n8:47:02 PM       1\n9:50:09 PM       1\n12:16:18 AM      1\n9:30:29 PM       1\n9:45:56 PM       1\n7:29:31 PM       1\n7:43:46 PM       1\n10:55:26 PM      1\n9:09:40 PM       1\n8:06:47 PM       1\n9:20:44 PM       1\n8:08:49 PM       1\n11:06:50 PM      1\n9:04:44 PM       1\n9:17:51 PM       1\n11:06:48 PM      1\n8:42:42 PM       1\n12:10:18 AM      1\n11:38:06 PM      1\n11:00:58 PM      1\n9:26:44 PM       1\n10:14:57 PM      1\n9:38:31 PM       1\n8:08:39 PM       1\n11:03:16 PM      1\n8:15:19 PM       1\n9:35:11 PM       1\n9:54:48 PM       1\n8:56:38 PM       1\n11:38:51 PM      1\n8:53:12 PM       1\n12:04:38 AM      1\n11:58:41 PM      1\n8:45:52 PM       1\n9:56:53 PM       1\n11:35:46 PM      1\n8:57:40 PM       1\n8:55:39 PM       1\n7:33:56 PM       1\n9:03:54 PM       1\n7:38:31 PM       1\n7:33:43 PM       1\n10:22:29 PM      1\n10:06:27 PM      1\n8:44:22 PM       1\n8:45:58 PM       1\n9:36:21 PM       1\n6:57:58 PM       1\n10:43:18 PM      1\n9:00:10 PM       1\n8:15:00 PM       1\n8:48:01 PM       1\n10:16:08 PM      1\n9:50:08 PM       1\n11:54:41 PM      1\n9:32:53 PM       1\n9:39:58 PM       1\n12:00:28 AM      1\n9:54:08 PM       1\n10:54:51 PM      1\n8:09:29 PM       1\n8:44:30 PM       1\n11:32:48 PM      1\n9:30:58 PM       1\n8:50:38 PM       1\n9:30:59 PM       1\n12:16:49 AM      1\n8:49:14 PM       1\n11:49:58 PM      1\n7:08:58 PM       1\n8:40:02 PM       1\n7:52:42 PM       1\n9:35:44 PM       1\n9:11:02 PM       1\n8:35:09 PM       1\n9:22:59 PM       1\n11:32:18 PM      1\n11:13:41 PM      1\n11:33:11 PM      1\n8:44:25 PM       1\n11:16:18 PM      1\n10:44:16 PM      1\n10:20:08 PM      1\n8:36:21 PM       1\n9:28:59 PM       1\n8:05:25 PM       1\n10:46:51 PM      1\n9:42:19 PM       1\n11:43:38 PM      1\n10:18:15 PM      1\n7:05:28 PM       1\n10:05:58 PM      1\n8:49:18 PM       1\n9:22:40 PM       1\n9:22:23 PM       1\n8:44:50 PM       1\n8:16:19 PM       1\n8:25:17 PM       1\n8:54:47 PM       1\n9:57:34 PM       1\n9:41:41 PM       1\n10:10:15 PM      1\n8:09:15 PM       1\n11:15:50 PM      1\n9:31:09 PM       1\n10:20:10 PM      1\n10:22:25 PM      1\n8:39:12 PM       1\n8:00:02 PM       1\n8:20:12 PM       1\n10:04:26 PM      1\n8:33:28 PM       1\n8:44:00 PM       1\n8:59:22 PM       1\n11:11:08 PM      1\n10:27:28 PM      1\n8:20:28 PM       1\n8:28:14 PM       1\n8:01:11 PM       1\n7:58:10 PM       1\n8:06:57 PM       1\n10:45:05 PM      1\n11:26:30 PM      1\n10:47:46 PM      1\n9:43:17 PM       1\n10:50:35 PM      1\n11:26:10 PM      1\n9:57:41 PM       1\n7:48:05 PM       1\n12:17:49 AM      1\n8:37:43 PM       1\n11:22:18 PM      1\n7:29:23 PM       1\n10:33:28 PM      1\n8:43:42 PM       1\n11:42:28 PM      1\n11:03:18 PM      1\n11:09:58 PM      1\n9:29:00 PM       1\n10:21:18 PM      1\n8:29:19 PM       1\n8:30:37 PM       1\n10:43:16 PM      1\n7:32:21 PM       1\n9:27:20 PM       1\n8:07:23 PM       1\n10:32:48 PM      1\n8:56:22 PM       1\n11:20:00 PM      1\n11:00:38 PM      1\n8:49:59 PM       1\n11:18:21 PM      1\n10:05:24 PM      1\n8:09:49 PM       1\n9:05:48 PM       1\n11:31:18 PM      1\n9:58:29 PM       1\n9:30:49 PM       1\n10:05:38 PM      1\n7:55:22 PM       1\n9:11:20 PM       1\n10:20:47 PM      1\n9:15:28 PM       1\n9:52:03 PM       1\n9:57:24 PM       1\n10:20:38 PM      1\n10:24:46 PM      1\n10:59:21 PM      1\n8:07:31 PM       1\n7:29:33 PM       1\n8:53:46 PM       1\n10:15:03 PM      1\n9:10:40 PM       1\n10:15:08 PM      1\n9:28:34 PM       1\n8:58:21 PM       1\n7:52:12 PM       1\n9:59:23 PM       1\n8:06:23 PM       1\n8:45:26 PM       1\n8:19:55 PM       1\n9:38:46 PM       1\n8:20:22 PM       1\n10:37:36 PM      1\n10:03:39 PM      1\n8:39:03 PM       1\n11:57:21 PM      1\n10:15:31 PM      1\n7:31:53 PM       1\n8:37:54 PM       1\n8:19:28 PM       1\n8:07:33 PM       1\n9:06:02 PM       1\n8:40:55 PM       1\n10:05:26 PM      1\n9:06:10 PM       1\n9:55:29 PM       1\n9:30:23 PM       1\n9:18:54 PM       1\n11:39:11 PM      1\n9:30:00 PM       1\n10:29:17 PM      1\n11:56:18 PM      1\n9:31:54 PM       1\n9:47:59 PM       1\n8:53:51 PM       1\n9:00:54 PM       1\n7:34:36 PM       1\n8:01:26 PM       1\n11:05:51 PM      1\n7:56:43 PM       1\n8:48:59 PM       1\n7:41:53 PM       1\n10:19:40 PM      1\n8:41:24 PM       1\n9:32:00 PM       1\n10:47:35 PM      1\n8:18:44 PM       1\n11:49:40 PM      1\n9:26:00 PM       1\n9:42:01 PM       1\n10:43:06 PM      1\n11:07:11 PM      1\n9:35:56 PM       1\n10:31:31 PM      1\n9:33:19 PM       1\n10:03:35 PM      1\n8:33:58 PM       1\n10:33:55 PM      1\n7:47:06 PM       1\n8:15:39 PM       1\n11:35:31 PM      1\n9:50:19 PM       1\n10:20:28 PM      1\n10:14:58 PM      1\n9:50:59 PM       1\n11:05:08 PM      1\n11:16:01 PM      1\n9:38:44 PM       1\n8:39:53 PM       1\n8:06:33 PM       1\n11:37:21 PM      1\n12:02:58 AM      1\n8:08:27 PM       1\n11:11:11 PM      1\n7:39:53 PM       1\n9:08:21 PM       1\n10:04:06 PM      1\n7:39:21 PM       1\n9:00:44 PM       1\n7:38:03 PM       1\n7:52:43 PM       1\n7:43:53 PM       1\n9:49:41 PM       1\n10:20:37 PM      1\n8:18:03 PM       1\n10:18:49 PM      1\n9:11:28 PM       1\n7:49:05 PM       1\n11:23:00 PM      1\n10:26:17 PM      1\n11:49:31 PM      1\n9:08:51 PM       1\n9:43:44 PM       1\n9:08:39 PM       1\n10:03:59 PM      1\n9:26:27 PM       1\n10:28:47 PM      1\n12:15:28 AM      1\n9:32:38 PM       1\n8:51:20 PM       1\n9:48:27 PM       1\n7:15:28 PM       1\n10:09:36 PM      1\n9:09:12 PM       1\n9:57:49 PM       1\n9:56:11 PM       1\n9:39:20 PM       1\n9:18:18 PM       1\n9:32:44 PM       1\n9:10:37 PM       1\n7:50:53 PM       1\n8:26:19 PM       1\n11:57:08 PM      1\n11:31:31 PM      1\n10:01:49 PM      1\n11:38:26 PM      1\n8:16:49 PM       1\n8:54:17 PM       1\n7:33:21 PM       1\n9:07:31 PM       1\n7:49:52 PM       1\n8:51:07 PM       1\n7:39:46 PM       1\n9:50:54 PM       1\n10:07:41 PM      1\n8:35:59 PM       1\n9:48:17 PM       1\n8:27:24 PM       1\n8:54:01 PM       1\n8:56:02 PM       1\n7:58:26 PM       1\n12:14:38 AM      1\n8:04:21 PM       1\n8:49:04 PM       1\n10:12:46 PM      1\n8:02:07 PM       1\n10:29:55 PM      1\n9:05:51 PM       1\n8:34:38 PM       1\n11:43:26 PM      1\n8:26:14 PM       1\n8:59:29 PM       1\n9:30:06 PM       1\n8:21:58 PM       1\n9:31:39 PM       1\n9:23:05 PM       1\n9:29:39 PM       1\n8:57:03 PM       1\n8:27:29 PM       1\n10:46:28 PM      1\n9:05:31 PM       1\n11:08:21 PM      1\n7:49:10 PM       1\n12:24:49 AM      1\n11:33:20 PM      1\n7:57:30 PM       1\n9:25:01 PM       1\n7:05:38 PM       1\n9:00:40 PM       1\n11:06:58 PM      1\n8:15:13 PM       1\n11:45:11 PM      1\n7:37:33 PM       1\n9:01:39 PM       1\n9:58:41 PM       1\n8:07:13 PM       1\n8:01:56 PM       1\n9:01:32 PM       1\n8:49:08 PM       1\n9:29:59 PM       1\n11:00:48 PM      1\n9:37:48 PM       1\n11:45:21 PM      1\n9:35:51 PM       1\n7:55:10 PM       1\n11:33:41 PM      1\n10:12:51 PM      1\n10:14:34 PM      1\n9:17:01 PM       1\n8:40:52 PM       1\n7:57:12 PM       1\n9:09:10 PM       1\n8:56:43 PM       1\n11:10:58 PM      1\n8:07:59 PM       1\n9:26:39 PM       1\n7:04:18 PM       1\n8:34:02 PM       1\n8:40:23 PM       1\n12:01:08 AM      1\n8:07:00 PM       1\n8:59:53 PM       1\n8:04:43 PM       1\n9:34:30 PM       1\n12:14:18 AM      1\n9:25:50 PM       1\n10:02:45 PM      1\n8:51:54 PM       1\n9:26:40 PM       1\n11:08:58 PM      1\n11:35:28 PM      1\n7:52:53 PM       1\n9:55:59 PM       1\n11:04:18 PM      1\n8:28:52 PM       1\n11:46:01 PM      1\n8:58:51 PM       1\n11:09:40 PM      1\n11:06:21 PM      1\n11:22:40 PM      1\n10:06:59 PM      1\n7:37:01 PM       1\n7:57:53 PM       1\n10:34:35 PM      1\n8:05:30 PM       1\n8:12:51 PM       1\n10:26:50 PM      1\n8:28:12 PM       1\n9:53:01 PM       1\n11:06:01 PM      1\n8:30:02 PM       1\n7:48:56 PM       1\n9:31:20 PM       1\n10:44:15 PM      1\n10:58:21 PM      1\n11:18:38 PM      1\n7:49:23 PM       1\n7:00:18 PM       1\n10:21:11 PM      1\n7:48:36 PM       1\n8:13:19 PM       1\n10:05:34 PM      1\n8:33:08 PM       1\n10:39:16 PM      1\n7:30:11 PM       1\n8:05:03 PM       1\n10:26:48 PM      1\n10:56:28 PM      1\n7:32:03 PM       1\n8:35:12 PM       1\n8:42:00 PM       1\n12:04:28 AM      1\n11:02:28 PM      1\n8:42:14 PM       1\n8:52:37 PM       1\n8:14:39 PM       1\n7:58:02 PM       1\n8:52:19 PM       1\n11:20:48 PM      1\n8:45:37 PM       1\n9:00:04 PM       1\n10:40:38 PM      1\n10:47:36 PM      1\n9:56:46 PM       1\n11:13:38 PM      1\n10:14:38 PM      1\n10:10:34 PM      1\n9:47:58 PM       1\n7:49:33 PM       1\n9:16:08 PM       1\n11:19:18 PM      1\n9:36:01 PM       1\n10:14:28 PM      1\n8:47:51 PM       1\n11:37:08 PM      1\n7:27:23 PM       1\n9:25:24 PM       1\n7:48:55 PM       1\n11:24:50 PM      1\n8:11:19 PM       1\n10:36:01 PM      1\n7:56:00 PM       1\n10:21:47 PM      1\n10:20:26 PM      1\n11:03:48 PM      1\n7:02:08 PM       1\n11:49:00 PM      1\n7:54:43 PM       1\n9:49:58 PM       1\n9:39:24 PM       1\n10:43:31 PM      1\n11:13:18 PM      1\n8:56:37 PM       1\n8:30:03 PM       1\n10:11:49 PM      1\n9:23:30 PM       1\n8:06:30 PM       1\n8:53:22 PM       1\n8:49:01 PM       1\n9:17:40 PM       1\n10:07:59 PM      1\n8:31:33 PM       1\n11:57:58 PM      1\n8:59:52 PM       1\n7:50:46 PM       1\n7:40:16 PM       1\n9:31:34 PM       1\n8:20:48 PM       1\n10:54:36 PM      1\n11:24:28 PM      1\n10:30:36 PM      1\n7:30:01 PM       1\n11:09:31 PM      1\n9:10:12 PM       1\n8:26:02 PM       1\n11:18:00 PM      1\n10:23:51 PM      1\n11:26:00 PM      1\n8:31:23 PM       1\n11:39:51 PM      1\n9:03:10 PM       1\n9:33:11 PM       1\n8:25:48 PM       1\n9:53:49 PM       1\n9:51:34 PM       1\n9:43:11 PM       1\n9:16:41 PM       1\n10:22:08 PM      1\n8:58:10 PM       1\n11:35:18 PM      1\n10:49:51 PM      1\n8:02:57 PM       1\n11:21:30 PM      1\n10:41:18 PM      1\n11:50:28 PM      1\n11:16:40 PM      1\n9:59:57 PM       1\n10:17:30 PM      1\n10:34:01 PM      1\n7:01:48 PM       1\n11:48:30 PM      1\n12:18:48 AM      1\n9:29:26 PM       1\n10:10:58 PM      1\n7:44:46 PM       1\n10:11:37 PM      1\n8:06:25 PM       1\n11:36:58 PM      1\n8:27:34 PM       1\n9:48:19 PM       1\n9:18:10 PM       1\n11:39:46 PM      1\n10:06:09 PM      1\n12:22:49 AM      1\n7:06:18 PM       1\n10:02:19 PM      1\n9:57:44 PM       1\n7:36:03 PM       1\n7:43:43 PM       1\n12:24:29 AM      1\n8:41:49 PM       1\n11:26:50 PM      1\n8:36:53 PM       1\n11:37:48 PM      1\n10:24:10 PM      1\n11:05:28 PM      1\n10:26:41 PM      1\n8:03:10 PM       1\n12:15:49 AM      1\n8:58:12 PM       1\n10:42:38 PM      1\n8:24:48 PM       1\n10:28:08 PM      1\n10:25:45 PM      1\n7:53:33 PM       1\n8:56:00 PM       1\n8:05:37 PM       1\n9:55:35 PM       1\n9:06:50 PM       1\n8:25:04 PM       1\n10:14:43 PM      1\n11:43:16 PM      1\n7:59:46 PM       1\n8:01:21 PM       1\n8:01:16 PM       1\n7:51:42 PM       1\n10:23:01 PM      1\n7:01:38 PM       1\n7:03:38 PM       1\n8:12:30 PM       1\n7:58:13 PM       1\n11:06:41 PM      1\n11:05:11 PM      1\n10:11:17 PM      1\n9:39:48 PM       1\n9:01:29 PM       1\n8:54:08 PM       1\n10:08:24 PM      1\n9:14:19 PM       1\n10:07:07 PM      1\n7:30:03 PM       1\n8:55:19 PM       1\n8:59:21 PM       1\n8:26:38 PM       1\n9:27:50 PM       1\n12:18:38 AM      1\n8:32:24 PM       1\n8:34:19 PM       1\n8:41:05 PM       1\n9:09:54 PM       1\n11:03:40 PM      1\n9:41:21 PM       1\n10:03:07 PM      1\n8:40:30 PM       1\n9:36:50 PM       1\n12:09:58 AM      1\n7:43:33 PM       1\n9:51:14 PM       1\n11:15:51 PM      1\n10:17:59 PM      1\n10:00:07 PM      1\n9:20:04 PM       1\n10:00:47 PM      1\n8:25:40 PM       1\n8:02:55 PM       1\n11:17:38 PM      1\n10:46:08 PM      1\n8:11:17 PM       1\n7:46:26 PM       1\n11:19:10 PM      1\n8:26:08 PM       1\n12:23:09 AM      1\n11:40:21 PM      1\n9:43:18 PM       1\n10:28:27 PM      1\n9:30:24 PM       1\n9:18:04 PM       1\n12:18:18 AM      1\n9:32:24 PM       1\n7:47:53 PM       1\n7:29:03 PM       1\n8:09:53 PM       1\n9:12:28 PM       1\n7:37:56 PM       1\n9:06:14 PM       1\n10:37:15 PM      1\n9:26:34 PM       1\n12:17:48 AM      1\n9:21:29 PM       1\n11:10:08 PM      1\n10:16:53 PM      1\n10:47:05 PM      1\n8:56:53 PM       1\n9:05:04 PM       1\n10:46:26 PM      1\n9:58:19 PM       1\n9:05:22 PM       1\n9:13:31 PM       1\n9:46:29 PM       1\n10:17:04 PM      1\n11:08:41 PM      1\n8:24:08 PM       1\n10:12:41 PM      1\n7:37:53 PM       1\n10:42:58 PM      1\n9:11:31 PM       1\n8:12:33 PM       1\n11:20:30 PM      1\n10:09:59 PM      1\n10:30:21 PM      1\n11:08:11 PM      1\n12:10:28 AM      1\n11:06:51 PM      1\n9:15:37 PM       1\n11:18:18 PM      1\n8:01:06 PM       1\n11:48:10 PM      1\n8:18:34 PM       1\n10:44:11 PM      1\n8:46:51 PM       1\n9:43:38 PM       1\n9:57:57 PM       1\n9:08:28 PM       1\n10:42:36 PM      1\n11:08:30 PM      1\n11:00:28 PM      1\n8:07:41 PM       1\n11:48:40 PM      1\n10:04:47 PM      1\n11:49:20 PM      1\n11:47:50 PM      1\n10:45:55 PM      1\n9:14:37 PM       1\n9:31:44 PM       1\n11:00:06 PM      1\n9:03:43 PM       1\n8:50:29 PM       1\n10:14:13 PM      1\n8:59:38 PM       1\n9:47:23 PM       1\n9:07:27 PM       1\n8:44:23 PM       1\n8:19:17 PM       1\n7:56:40 PM       1\n7:37:23 PM       1\n7:54:10 PM       1\n10:03:38 PM      1\n10:49:44 AM      1\n9:33:43 PM       1\n11:31:48 PM      1\n10:40:36 PM      1\n7:49:56 PM       1\n9:52:29 PM       1\n8:56:58 PM       1\n11:36:21 PM      1\n8:07:03 PM       1\n8:15:23 PM       1\n11:21:20 PM      1\n11:53:48 PM      1\n9:03:50 PM       1\n8:57:21 PM       1\n9:58:11 PM       1\n7:41:16 PM       1\n10:54:26 PM      1\n10:05:54 PM      1\n6:57:18 PM       1\n12:12:48 AM      1\n9:30:41 PM       1\n9:28:01 PM       1\n8:59:49 PM       1\n10:29:15 PM      1\n11:21:18 PM      1\n8:20:24 PM       1\n10:38:15 PM      1\n7:04:48 PM       1\n10:15:26 PM      1\n10:07:18 PM      1\n9:12:47 PM       1\n9:03:02 PM       1\n7:53:53 PM       1\n10:29:18 PM      1\n8:25:08 PM       1\n10:15:38 PM      1\n9:05:34 PM       1\n9:12:59 PM       1\n9:08:47 PM       1\n7:55:12 PM       1\n7:53:00 PM       1\n12:15:19 AM      1\n11:31:28 PM      1\n8:49:22 PM       1\n9:06:12 PM       1\n8:59:42 PM       1\n9:02:19 PM       1\n11:31:20 PM      1\n9:25:21 PM       1\n7:42:23 PM       1\n9:43:31 PM       1\n8:51:59 PM       1\n11:54:11 PM      1\n9:26:20 PM       1\n11:44:41 PM      1\n9:31:10 PM       1\n8:56:14 PM       1\n9:52:19 PM       1\n10:46:41 PM      1\n9:35:29 PM       1\n11:39:31 PM      1\n8:36:59 PM       1\n8:00:53 PM       1\n10:26:00 PM      1\n10:05:29 PM      1\n8:24:09 PM       1\n7:50:10 PM       1\n9:34:18 PM       1\n7:31:46 PM       1\n7:54:32 PM       1\n8:23:59 PM       1\n8:54:10 PM       1\n8:32:52 PM       1\n9:17:20 PM       1\n11:53:50 PM      1\n10:55:56 PM      1\n8:57:30 PM       1\n10:03:51 PM      1\n10:41:15 PM      1\n8:57:13 PM       1\n9:10:32 PM       1\n7:46:53 PM       1\n9:05:20 PM       1\n8:36:39 PM       1\n9:38:50 PM       1\n11:34:58 PM      1\n10:25:16 PM      1\n11:44:16 PM      1\n8:23:23 PM       1\n9:02:09 PM       1\n12:04:58 AM      1\n8:44:12 PM       1\n9:03:08 PM       1\n10:53:26 PM      1\n11:30:20 PM      1\n11:51:20 PM      1\n9:54:14 PM       1\n8:18:21 PM       1\n8:06:42 PM       1\n7:48:40 PM       1\n10:07:08 PM      1\n11:10:10 PM      1\n11:36:56 PM      1\n10:24:56 PM      1\n7:52:32 PM       1\n8:58:47 PM       1\n9:27:44 PM       1\n11:27:40 PM      1\n11:44:26 PM      1\n10:14:53 PM      1\n8:38:53 PM       1\n9:53:15 PM       1\n7:56:13 PM       1\n11:38:01 PM      1\n10:32:18 PM      1\n11:21:08 PM      1\n7:08:38 PM       1\n8:18:55 PM       1\n8:58:09 PM       1\n9:59:13 PM       1\n8:43:39 PM       1\n8:57:23 PM       1\n11:50:41 PM      1\n9:42:11 PM       1\n11:06:06 PM      1\n8:38:33 PM       1\n9:48:29 PM       1\n10:19:43 PM      1\n9:51:48 PM       1\n8:31:54 PM       1\n11:13:31 PM      1\n7:39:56 PM       1\n9:58:01 PM       1\n8:25:07 PM       1\n10:10:09 PM      1\n7:03:28 PM       1\n11:48:20 PM      1\n10:38:16 PM      1\n7:30:41 PM       1\n7:03:08 PM       1\n9:46:57 PM       1\n7:36:36 PM       1\n7:47:46 PM       1\n10:38:11 PM      1\n9:31:00 PM       1\n9:51:33 PM       1\n8:41:44 PM       1\n9:20:31 PM       1\n10:12:53 PM      1\n10:12:18 PM      1\n10:25:50 PM      1\n11:34:10 PM      1\n9:06:29 PM       1\n11:57:28 PM      1\n8:31:58 PM       1\n7:38:11 PM       1\n11:32:01 PM      1\n9:21:49 PM       1\n7:46:55 PM       1\n9:57:28 PM       1\n11:18:51 PM      1\n8:52:59 PM       1\n8:24:33 PM       1\n8:42:34 PM       1\n9:35:43 PM       1\n9:02:24 PM       1\n8:44:40 PM       1\n10:15:04 PM      1\n7:39:26 PM       1\n10:16:07 PM      1\n10:47:41 PM      1\n11:31:21 PM      1\n11:52:31 PM      1\n8:00:06 PM       1\n9:55:25 PM       1\n11:24:58 PM      1\n11:04:48 PM      1\n10:57:26 PM      1\n8:28:09 PM       1\n12:19:09 AM      1\n9:28:16 PM       1\n7:38:46 PM       1\n7:36:21 PM       1\n8:30:38 PM       1\n9:16:31 PM       1\n11:35:41 PM      1\n8:41:53 PM       1\n7:54:33 PM       1\n9:58:47 PM       1\n8:12:37 PM       1\n10:38:25 PM      1\n8:04:25 PM       1\n11:35:20 PM      1\n9:12:12 PM       1\n9:20:08 PM       1\n7:55:00 PM       1\n11:06:10 PM      1\n10:32:58 PM      1\n8:38:48 PM       1\n8:12:03 PM       1\n8:36:51 PM       1\n10:38:01 PM      1\n9:09:28 PM       1\n11:25:10 PM      1\n9:21:39 PM       1\n8:19:05 PM       1\n10:18:37 PM      1\n8:33:52 PM       1\n11:08:08 PM      1\n11:50:51 PM      1\n7:50:23 PM       1\n7:35:01 PM       1\n10:43:36 PM      1\n8:18:27 PM       1\n8:04:22 PM       1\n9:10:19 PM       1\n9:42:55 PM       1\n10:13:18 PM      1\n11:32:58 PM      1\n9:55:33 PM       1\n9:25:34 PM       1\n8:17:05 PM       1\n11:45:31 PM      1\n11:37:56 PM      1\n9:11:14 PM       1\n8:09:39 PM       1\n8:26:54 PM       1\n8:58:59 PM       1\n8:19:30 PM       1\n9:41:11 PM       1\n10:50:15 PM      1\n9:08:22 PM       1\n9:35:41 PM       1\n10:15:30 PM      1\n8:22:58 PM       1\n8:30:35 PM       1\n8:56:52 PM       1\n8:44:41 PM       1\n11:22:58 PM      1\n8:27:49 PM       1\n11:33:21 PM      1\n9:37:26 PM       1\n9:37:34 PM       1\n11:37:01 PM      1\n8:19:50 PM       1\n9:56:51 PM       1\n10:01:27 PM      1\n9:37:00 PM       1\n8:28:59 PM       1\n7:44:12 PM       1\n10:25:15 PM      1\n9:53:59 PM       1\n11:04:56 PM      1\n9:34:40 PM       1\n10:20:00 PM      1\n8:42:48 PM       1\n10:44:58 PM      1\n10:09:29 PM      1\n7:37:21 PM       1\n10:15:14 PM      1\n9:30:48 PM       1\n7:06:08 PM       1\n8:10:03 PM       1\n7:48:06 PM       1\n10:41:28 PM      1\n10:05:28 PM      1\n10:15:47 PM      1\n11:59:48 PM      1\n9:04:50 PM       1\n10:00:18 PM      1\n10:25:26 PM      1\n9:03:58 PM       1\n10:24:50 PM      1\n9:06:11 PM       1\n8:07:20 PM       1\n10:37:06 PM      1\n8:19:14 PM       1\n9:10:50 PM       1\n7:51:00 PM       1\n8:44:44 PM       1\n9:59:07 PM       1\n10:52:08 PM      1\n9:56:29 PM       1\n9:20:06 PM       1\n8:52:50 PM       1\n8:06:07 PM       1\n10:23:39 PM      1\n9:08:19 PM       1\n10:06:17 PM      1\n8:28:08 PM       1\n11:51:00 PM      1\n8:31:28 PM       1\n8:05:35 PM       1\n10:05:47 PM      1\n10:20:29 PM      1\n7:43:03 PM       1\n9:42:13 PM       1\n7:48:46 PM       1\n10:29:35 PM      1\n10:13:48 PM      1\n10:12:01 PM      1\n10:34:45 PM      1\n10:13:08 PM      1\n7:35:13 PM       1\n11:42:56 PM      1\n12:09:08 AM      1\n8:44:32 PM       1\n9:30:19 PM       1\n7:02:58 PM       1\n10:12:17 PM      1\n8:12:00 PM       1\n8:45:19 PM       1\n10:32:15 PM      1\n11:29:30 PM      1\n7:31:33 PM       1\n11:15:10 PM      1\n7:50:20 PM       1\n9:31:14 PM       1\n9:25:09 PM       1\n9:44:56 PM       1\n10:33:38 PM      1\n10:00:11 PM      1\n8:07:43 PM       1\n11:22:48 PM      1\n8:27:58 PM       1\n9:41:00 PM       1\n9:11:21 PM       1\n9:10:59 PM       1\n9:40:40 PM       1\n10:11:07 PM      1\n8:44:59 PM       1\n10:39:15 PM      1\n10:50:21 PM      1\n7:35:06 PM       1\n8:11:29 PM       1\n8:23:39 PM       1\n7:52:00 PM       1\n8:47:05 PM       1\n8:42:12 PM       1\n11:55:51 PM      1\n8:23:40 PM       1\n10:49:14 AM      1\n9:33:40 PM       1\n8:48:42 PM       1\n8:37:51 PM       1\n7:53:13 PM       1\n9:23:46 PM       1\n10:14:46 PM      1\n8:26:10 PM       1\n7:49:15 PM       1\n9:56:23 PM       1\n10:35:31 PM      1\n7:52:06 PM       1\n9:58:59 PM       1\n9:11:57 PM       1\n7:43:15 PM       1\n12:18:08 AM      1\n9:55:08 PM       1\n10:47:16 PM      1\n9:40:14 PM       1\n10:20:19 PM      1\n10:16:21 PM      1\n11:48:21 PM      1\n8:38:22 PM       1\n7:35:11 PM       1\n7:00:28 PM       1\n7:10:48 PM       1\n8:54:54 PM       1\n9:15:50 PM       1\n10:23:11 PM      1\n11:31:51 PM      1\n9:20:17 PM       1\n8:16:29 PM       1\n11:58:21 PM      1\n9:42:33 PM       1\n8:15:29 PM       1\n9:52:16 PM       1\n9:23:54 PM       1\n10:12:28 PM      1\n10:16:34 PM      1\n8:42:10 PM       1\n10:07:54 PM      1\n9:44:04 PM       1\n10:45:18 PM      1\n8:20:08 PM       1\n10:10:37 PM      1\n8:12:27 PM       1\n8:19:44 PM       1\n9:27:51 PM       1\n7:09:28 PM       1\n10:37:21 PM      1\n8:41:54 PM       1\n8:16:25 PM       1\n7:39:06 PM       1\n10:15:37 PM      1\n7:40:43 PM       1\n11:01:08 PM      1\n8:36:20 PM       1\n11:57:41 PM      1\n10:23:09 PM      1\n9:01:52 PM       1\n10:13:43 PM      1\n10:09:46 PM      1\n11:16:10 PM      1\n8:01:46 PM       1\n9:56:33 PM       1\n10:20:49 PM      1\n8:24:34 PM       1\n9:40:46 PM       1\n8:26:49 PM       1\n8:25:52 PM       1\n10:28:21 PM      1\n10:33:41 PM      1\n9:26:19 PM       1\n9:41:51 PM       1\n8:52:57 PM       1\n12:09:48 AM      1\n9:36:54 PM       1\n8:15:33 PM       1\n7:57:20 PM       1\n9:01:10 PM       1\n10:32:01 PM      1\n8:43:12 PM       1\n8:55:14 PM       1\n8:03:03 PM       1\n9:18:00 PM       1\n8:47:45 PM       1\n11:24:40 PM      1\n9:38:11 PM       1\n11:02:16 PM      1\n11:17:48 PM      1\n12:10:38 AM      1\n9:38:30 PM       1\n9:19:50 PM       1\n8:51:17 PM       1\n8:20:14 PM       1\n12:17:19 AM      1\n7:07:18 PM       1\n9:39:16 PM       1\n11:50:38 PM      1\n8:57:32 PM       1\n9:55:28 PM       1\n8:56:18 PM       1\n9:17:10 PM       1\n8:48:21 PM       1\n10:26:30 PM      1\n8:33:07 PM       1\n8:37:12 PM       1\n11:39:41 PM      1\n10:53:06 PM      1\n11:24:10 PM      1\n11:09:08 PM      1\n12:05:18 AM      1\n9:05:21 PM       1\n8:32:04 PM       1\n8:56:10 PM       1\n10:17:09 PM      1\n11:48:50 PM      1\n7:43:30 PM       1\n10:19:20 PM      1\n9:26:09 PM       1\n7:47:35 PM       1\n11:04:01 PM      1\n11:20:10 PM      1\n9:08:27 PM       1\n11:16:20 PM      1\n9:23:25 PM       1\n10:14:50 PM      1\n9:11:34 PM       1\n11:16:30 PM      1\n7:39:23 PM       1\n8:08:12 PM       1\n9:33:49 PM       1\n8:30:58 PM       1\n9:03:41 PM       1\n10:41:05 PM      1\n8:20:39 PM       1\n9:40:16 PM       1\n8:34:52 PM       1\n8:34:49 PM       1\n8:49:21 PM       1\n8:51:02 PM       1\n7:01:08 PM       1\n7:33:23 PM       1\n9:34:09 PM       1\n9:09:32 PM       1\n8:28:53 PM       1\n9:28:20 PM       1\n10:03:47 PM      1\n9:04:32 PM       1\n8:11:57 PM       1\n9:42:51 PM       1\n8:55:09 PM       1\n9:28:44 PM       1\n8:59:40 PM       1\n9:06:03 PM       1\n11:36:00 PM      1\n11:55:31 PM      1\n10:53:56 PM      1\n11:53:40 PM      1\n8:45:32 PM       1\n8:05:56 PM       1\n10:56:01 PM      1\n8:50:39 PM       1\n7:50:56 PM       1\n12:04:48 AM      1\n11:22:30 PM      1\n10:38:06 PM      1\n11:10:38 PM      1\n10:08:04 PM      1\n8:31:29 PM       1\n9:26:17 PM       1\n9:24:20 PM       1\n7:42:32 PM       1\n8:36:44 PM       1\n11:01:51 PM      1\n10:54:38 PM      1\n8:12:20 PM       1\n7:57:02 PM       1\n9:51:49 PM       1\n11:42:38 PM      1\n11:55:48 PM      1\n8:07:49 PM       1\n8:10:00 PM       1\n9:06:41 PM       1\n11:10:01 PM      1\n8:28:43 PM       1\n11:52:11 PM      1\n8:19:09 PM       1\n9:01:02 PM       1\n10:18:47 PM      1\n8:30:05 PM       1\n9:42:54 PM       1\n7:05:58 PM       1\n8:55:54 PM       1\n8:00:43 PM       1\n9:11:24 PM       1\n8:21:38 PM       1\n8:45:34 PM       1\n11:03:38 PM      1\n10:43:56 PM      1\n8:20:01 PM       1\n10:49:41 PM      1\n10:04:38 PM      1\n10:55:11 PM      1\n7:59:52 PM       1\n8:25:29 PM       1\n10:47:51 PM      1\n8:08:09 PM       1\n9:39:01 PM       1\n9:28:36 PM       1\n9:22:35 PM       1\n8:37:42 PM       1\n11:33:30 PM      1\n11:40:38 PM      1\n10:43:25 PM      1\n11:24:00 PM      1\n10:00:05 PM      1\n8:04:11 PM       1\n7:31:26 PM       1\n11:01:16 PM      1\n9:56:21 PM       1\n10:17:40 PM      1\n11:37:11 PM      1\n10:45:06 PM      1\n8:40:35 PM       1\n8:43:09 PM       1\n11:36:01 PM      1\n9:28:26 PM       1\n9:22:29 PM       1\n7:46:45 PM       1\n8:52:38 PM       1\n8:47:33 PM       1\n9:43:09 PM       1\n8:03:27 PM       1\n7:55:53 PM       1\n9:58:26 PM       1\n8:45:29 PM       1\n8:29:09 PM       1\n8:39:40 PM       1\n8:41:52 PM       1\n7:46:43 PM       1\n7:48:23 PM       1\n10:07:27 PM      1\n10:56:21 PM      1\n7:59:06 PM       1\n12:18:29 AM      1\n10:03:41 PM      1\n8:37:41 PM       1\n10:28:55 PM      1\n8:22:49 PM       1\n11:50:10 PM      1\n9:27:58 PM       1\n8:43:22 PM       1\n9:10:10 PM       1\n11:09:50 PM      1\n9:34:53 PM       1\n9:29:28 PM       1\n8:45:24 PM       1\n10:12:43 PM      1\n8:17:02 PM       1\n9:31:49 PM       1\n11:35:38 PM      1\n8:24:03 PM       1\n10:16:50 PM      1\n11:00:08 PM      1\n9:18:44 PM       1\n11:11:58 PM      1\n7:34:06 PM       1\n10:14:33 PM      1\n10:13:23 PM      1\n10:24:20 PM      1\n8:31:34 PM       1\n8:10:05 PM       1\n9:32:43 PM       1\n8:08:53 PM       1\n11:12:31 PM      1\n9:22:55 PM       1\n7:55:02 PM       1\n8:22:17 PM       1\n7:31:23 PM       1\n10:32:35 PM      1\n8:08:22 PM       1\n10:37:11 PM      1\n10:29:45 PM      1\n11:30:50 PM      1\n8:02:52 PM       1\n7:55:23 PM       1\n9:20:39 PM       1\n9:01:44 PM       1\n10:10:28 PM      1\n8:13:23 PM       1\n8:01:23 PM       1\n9:21:37 PM       1\n8:03:07 PM       1\n11:14:58 PM      1\n10:34:25 PM      1\n10:06:38 PM      1\n11:34:21 PM      1\n9:07:50 PM       1\n10:47:06 PM      1\n9:30:44 PM       1\n8:14:49 PM       1\n9:16:28 PM       1\n9:03:40 PM       1\n8:50:52 PM       1\n11:32:28 PM      1\n10:18:20 PM      1\n11:23:50 PM      1\n9:54:44 PM       1\n8:38:23 PM       1\n11:15:11 PM      1\n10:33:05 PM      1\n9:04:04 PM       1\n7:51:56 PM       1\n7:59:16 PM       1\n9:22:10 PM       1\n8:52:36 PM       1\n8:20:25 PM       1\n8:37:45 PM       1\n8:08:55 PM       1\n7:30:13 PM       1\n8:15:10 PM       1\n7:56:46 PM       1\n9:29:04 PM       1\n9:48:58 PM       1\n8:10:15 PM       1\n10:26:15 PM      1\n6:56:58 PM       1\n10:13:16 PM      1\n9:00:26 PM       1\n11:08:18 PM      1\n10:56:18 PM      1\n11:03:56 PM      1\n7:43:56 PM       1\n11:15:58 PM      1\n10:16:51 PM      1\n7:30:31 PM       1\n8:11:53 PM       1\n8:29:33 PM       1\n9:08:48 PM       1\n8:21:33 PM       1\n10:18:53 PM      1\n12:06:58 AM      1\n10:08:08 PM      1\n8:16:13 PM       1\n8:53:23 PM       1\n7:02:38 PM       1\n10:42:11 PM      1\n10:53:36 PM      1\n8:20:59 PM       1\n9:51:01 PM       1\n8:12:07 PM       1\n8:28:35 PM       1\n9:17:34 PM       1\n9:03:42 PM       1\n9:16:40 PM       1\n10:36:25 PM      1\n9:57:27 PM       1\n9:03:30 PM       1\n9:38:14 PM       1\n9:04:00 PM       1\n8:57:27 PM       1\n11:18:28 PM      1\n10:49:35 PM      1\n7:32:36 PM       1\n8:51:08 PM       1\n9:40:51 PM       1\n10:04:28 PM      1\n8:06:40 PM       1\n11:04:50 PM      1\n10:09:11 PM      1\n11:06:16 PM      1\n9:12:25 PM       1\n8:52:02 PM       1\n9:17:14 PM       1\n8:17:25 PM       1\n7:14:08 PM       1\n7:01:18 PM       1\n10:15:20 PM      1\n12:06:38 AM      1\n10:25:25 PM      1\n7:37:11 PM       1\n11:02:50 PM      1\n10:21:19 PM      1\n11:30:31 PM      1\n8:20:54 PM       1\n10:54:16 PM      1\n11:36:51 PM      1\n11:02:41 PM      1\n9:55:39 PM       1\n9:34:57 PM       1\n10:04:29 PM      1\n7:35:51 PM       1\n9:29:20 PM       1\n12:10:58 AM      1\n10:04:16 PM      1\n9:42:26 PM       1\n10:03:29 PM      1\n9:08:12 PM       1\n8:51:49 PM       1\n9:28:19 PM       1\n7:04:08 PM       1\n10:02:55 PM      1\n8:09:35 PM       1\n12:22:29 AM      1\n11:00:18 PM      1\n11:47:51 PM      1\n8:42:24 PM       1\n7:40:01 PM       1\n10:19:17 PM      1\n7:47:36 PM       1\n9:32:55 PM       1\n11:05:00 PM      1\n9:54:04 PM       1\n10:27:01 PM      1\n10:11:27 PM      1\n10:19:00 PM      1\n7:44:26 PM       1\n7:34:43 PM       1\n10:15:10 PM      1\n11:33:40 PM      1\n11:36:10 PM      1\n11:30:01 PM      1\n8:50:08 PM       1\n9:58:25 PM       1\n9:10:20 PM       1\n8:54:11 PM       1\n9:01:22 PM       1\n8:45:44 PM       1\n8:36:24 PM       1\n8:26:34 PM       1\n11:05:31 PM      1\n6:57:28 PM       1\n9:09:52 PM       1\n8:10:23 PM       1\n8:44:42 PM       1\n9:12:03 PM       1\n11:28:50 PM      1\n9:20:30 PM       1\n9:33:08 PM       1\n9:48:21 PM       1\n7:07:28 PM       1\n10:47:25 PM      1\n10:19:49 PM      1\n9:33:00 PM       1\n8:17:43 PM       1\n7:56:10 PM       1\n11:43:06 PM      1\n10:21:59 PM      1\n10:30:55 PM      1\n7:54:42 PM       1\n10:52:48 PM      1\n7:44:16 PM       1\n7:42:22 PM       1\n10:26:20 PM      1\n10:27:45 PM      1\n10:16:46 PM      1\n11:31:41 PM      1\n7:48:43 PM       1\n10:58:51 PM      1\n8:53:10 PM       1\n8:38:19 PM       1\n9:53:31 PM       1\n9:38:51 PM       1\n10:43:35 PM      1\n9:50:41 PM       1\n8:19:53 PM       1\n9:41:06 PM       1\n10:11:08 PM      1\n9:00:01 PM       1\n10:42:48 PM      1\n10:40:06 PM      1\n11:27:00 PM      1\n8:56:50 PM       1\n9:03:52 PM       1\n9:05:12 PM       1\n10:45:31 PM      1\n11:04:06 PM      1\n8:26:04 PM       1\n9:32:30 PM       1\n10:46:25 PM      1\n8:29:58 PM       1\n11:55:01 PM      1\n8:53:02 PM       1\n9:43:41 PM       1\n8:18:53 PM       1\n8:21:28 PM       1\n11:52:41 PM      1\n8:32:29 PM       1\n10:23:20 PM      1\n9:36:44 PM       1\n10:16:54 PM      1\n11:31:10 PM      1\n10:32:38 PM      1\n8:43:19 PM       1\n11:10:41 PM      1\n8:39:58 PM       1\n8:39:20 PM       1\n10:05:44 PM      1\n10:25:06 PM      1\n8:24:43 PM       1\n10:41:38 PM      1\n7:46:05 PM       1\n7:50:00 PM       1\n8:22:53 PM       1\n7:53:23 PM       1\n10:12:06 PM      1\n11:43:08 PM      1\n7:55:52 PM       1\n8:10:09 PM       1\n7:58:06 PM       1\n9:11:19 PM       1\n8:26:09 PM       1\n9:27:26 PM       1\n7:57:50 PM       1\n12:16:08 AM      1\n9:40:50 PM       1\n8:24:38 PM       1\n8:31:08 PM       1\n9:58:36 PM       1\n8:58:41 PM       1\n10:35:41 PM      1\n8:01:51 PM       1\n11:06:18 PM      1\n8:58:02 PM       1\n10:45:58 PM      1\n8:20:43 PM       1\n9:39:34 PM       1\n11:30:48 PM      1\n8:02:17 PM       1\n9:40:34 PM       1\n9:25:30 PM       1\n11:02:06 PM      1\n12:23:59 AM      1\n12:06:28 AM      1\n11:04:21 PM      1\n10:18:43 PM      1\n8:23:19 PM       1\n12:13:59 AM      1\n7:11:58 PM       1\n12:24:19 AM      1\n9:31:40 PM       1\n10:06:19 PM      1\n9:19:26 PM       1\n9:17:11 PM       1\n8:10:32 PM       1\n7:48:32 PM       1\n8:53:29 PM       1\n11:48:31 PM      1\n8:56:31 PM       1\n11:59:31 PM      1\n9:37:44 PM       1\n11:20:58 PM      1\n12:03:58 AM      1\n7:00:58 PM       1\n10:01:19 PM      1\n7:40:33 PM       1\n9:43:39 PM       1\n11:11:18 PM      1\n8:18:17 PM       1\n11:37:00 PM      1\n10:48:36 PM      1\n7:31:56 PM       1\n8:55:50 PM       1\n9:24:00 PM       1\n9:46:39 PM       1\n10:13:14 PM      1\n9:31:25 PM       1\n8:33:00 PM       1\n7:55:26 PM       1\n8:14:43 PM       1\n11:53:51 PM      1\n11:12:01 PM      1\n11:55:18 PM      1\n8:27:39 PM       1\n7:36:33 PM       1\n11:51:30 PM      1\n9:23:29 PM       1\n11:43:36 PM      1\n10:00:17 PM      1\n8:58:48 PM       1\n10:18:17 PM      1\n8:21:18 PM       1\n8:28:23 PM       1\n10:49:34 AM      1\n8:17:54 PM       1\n10:16:30 PM      1\n7:54:16 PM       1\n8:54:20 PM       1\n8:45:09 PM       1\n10:26:26 PM      1\n10:36:56 PM      1\n9:51:28 PM       1\n12:00:38 AM      1\n9:56:41 PM       1\n9:57:15 PM       1\n8:26:59 PM       1\n8:38:32 PM       1\n10:06:07 PM      1\n8:37:31 PM       1\n8:06:59 PM       1\n9:10:09 PM       1\n11:36:31 PM      1\n11:47:20 PM      1\n11:59:18 PM      1\n7:55:56 PM       1\n8:08:17 PM       1\n11:53:30 PM      1\n8:17:33 PM       1\n11:19:01 PM      1\n8:48:30 PM       1\n8:07:10 PM       1\n8:27:48 PM       1\n10:47:56 PM      1\n8:54:59 PM       1\n8:48:44 PM       1\n10:25:57 PM      1\n9:56:03 PM       1\n12:14:28 AM      1\n7:06:48 PM       1\n8:05:45 PM       1\n8:08:45 PM       1\n8:37:44 PM       1\n9:23:39 PM       1\n11:02:01 PM      1\n10:40:18 PM      1\n6:58:08 PM       1\n11:52:20 PM      1\n8:18:14 PM       1\n8:14:59 PM       1\n10:34:51 PM      1\n8:50:22 PM       1\n11:39:01 PM      1\n10:10:48 PM      1\n9:40:31 PM       1\n9:14:20 PM       1\n9:24:28 PM       1\n8:22:03 PM       1\n8:18:54 PM       1\n8:17:40 PM       1\n9:33:10 PM       1\n9:51:53 PM       1\n9:38:26 PM       1\n8:31:24 PM       1\n11:26:38 PM      1\n7:37:31 PM       1\n11:50:18 PM      1\n9:32:15 PM       1\n8:45:27 PM       1\n9:19:14 PM       1\n9:59:47 PM       1\n8:09:33 PM       1\n8:25:39 PM       1\n11:21:10 PM      1\n10:32:25 PM      1\n8:25:42 PM       1\n7:48:53 PM       1\n7:53:40 PM       1\n9:21:28 PM       1\n7:36:11 PM       1\n9:39:30 PM       1\n7:02:48 PM       1\n9:32:08 PM       1\n10:58:16 PM      1\n12:18:39 AM      1\n7:57:10 PM       1\n10:26:55 PM      1\n8:32:13 PM       1\n10:04:57 PM      1\n10:08:09 PM      1\n9:10:48 PM       1\n11:00:21 PM      1\n11:18:48 PM      1\n10:53:16 PM      1\n7:33:03 PM       1\n9:10:00 PM       1\n10:29:05 PM      1\n11:49:30 PM      1\n9:24:48 PM       1\n7:57:43 PM       1\n9:11:44 PM       1\n8:20:03 PM       1\n8:08:59 PM       1\n9:36:00 PM       1\n9:06:13 PM       1\n8:18:50 PM       1\n8:23:53 PM       1\n11:41:56 PM      1\n8:40:13 PM       1\n9:24:40 PM       1\n11:34:18 PM      1\n11:25:48 PM      1\n8:36:31 PM       1\n12:17:08 AM      1\n11:55:11 PM      1\n11:51:41 PM      1\n10:20:27 PM      1\n10:09:39 PM      1\n10:25:40 PM      1\n11:54:01 PM      1\n9:07:09 PM       1\n9:01:14 PM       1\n11:42:08 PM      1\n8:38:42 PM       1\n8:20:05 PM       1\n9:16:10 PM       1\n11:57:31 PM      1\n9:10:18 PM       1\n8:43:40 PM       1\n9:24:19 PM       1\n10:02:09 PM      1\n9:27:19 PM       1\n11:39:08 PM      1\n10:09:08 PM      1\n8:06:39 PM       1\n10:19:23 PM      1\n9:12:20 PM       1\n9:19:24 PM       1\n8:18:13 PM       1\n10:49:36 PM      1\n9:00:39 PM       1\n7:07:38 PM       1\n8:02:36 PM       1\n7:32:41 PM       1\n10:03:09 PM      1\n9:10:02 PM       1\n9:07:40 PM       1\n7:38:06 PM       1\n11:13:11 PM      1\n9:17:41 PM       1\n7:29:51 PM       1\n8:37:01 PM       1\n10:28:28 PM      1\n10:22:27 PM      1\n11:28:40 PM      1\n11:16:51 PM      1\n9:38:00 PM       1\n10:36:05 PM      1\n8:40:12 PM       1\n9:22:39 PM       1\n10:13:26 PM      1\n8:08:13 PM       1\n7:54:23 PM       1\n8:22:39 PM       1\n11:38:31 PM      1\n9:42:38 PM       1\n8:52:42 PM       1\n9:49:04 PM       1\n7:39:13 PM       1\n9:40:30 PM       1\n8:16:05 PM       1\n8:15:22 PM       1\n8:39:32 PM       1\n10:26:45 PM      1\n8:02:22 PM       1\n8:36:54 PM       1\n8:37:33 PM       1\n11:50:00 PM      1\n7:27:13 PM       1\n8:09:43 PM       1\n9:43:19 PM       1\n8:54:39 PM       1\n9:57:04 PM       1\n11:23:48 PM      1\n7:28:03 PM       1\n10:05:57 PM      1\n10:14:23 PM      1\n10:06:37 PM      1\n8:30:48 PM       1\n12:17:58 AM      1\n8:25:09 PM       1\n12:22:19 AM      1\n7:49:54 PM       1\n9:33:39 PM       1\n10:33:08 PM      1\n11:15:18 PM      1\n8:17:57 PM       1\n11:09:18 PM      1\n10:46:05 PM      1\n10:21:08 PM      1\n9:05:03 PM       1\n10:31:41 PM      1\n9:19:56 PM       1\n8:58:29 PM       1\n9:33:44 PM       1\n9:03:20 PM       1\n12:08:18 AM      1\n9:53:58 PM       1\n10:03:31 PM      1\n8:37:04 PM       1\n7:35:31 PM       1\n8:53:15 PM       1\n10:34:26 PM      1\n10:16:04 PM      1\n7:46:15 PM       1\n8:32:14 PM       1\n10:04:39 PM      1\n9:00:12 PM       1\n8:24:14 PM       1\n7:39:16 PM       1\n9:04:02 PM       1\n10:26:16 PM      1\n12:19:49 AM      1\n9:18:38 PM       1\n11:13:30 PM      1\n10:05:49 PM      1\n9:20:00 PM       1\n10:30:46 PM      1\n11:59:51 PM      1\n8:52:28 PM       1\n7:48:16 PM       1\n10:02:07 PM      1\n10:34:55 PM      1\n9:42:49 PM       1\n11:52:30 PM      1\n10:38:21 PM      1\n9:27:40 PM       1\n8:51:42 PM       1\n11:59:38 PM      1\n10:38:56 PM      1\n9:46:19 PM       1\n8:42:59 PM       1\n7:49:25 PM       1\n10:25:48 PM      1\n12:05:58 AM      1\n10:48:45 PM      1\n9:40:25 PM       1\n10:13:11 PM      1\n9:06:59 PM       1\n10:49:16 PM      1\n10:41:45 PM      1\n10:27:55 PM      1\n10:37:56 PM      1\n10:04:59 PM      1\n8:29:32 PM       1\n9:18:47 PM       1\n10:39:06 PM      1\n10:26:57 PM      1\n10:03:25 PM      1\n11:37:36 PM      1\n10:55:48 PM      1\n12:14:19 AM      1\n12:18:49 AM      1\n9:51:43 PM       1\n9:02:28 PM       1\n10:07:29 PM      1\n9:56:37 PM       1\n8:54:29 PM       1\n10:14:24 PM      1\n8:42:02 PM       1\n11:34:30 PM      1\n8:04:53 PM       1\n7:09:08 PM       1\n7:36:16 PM       1\n7:45:55 PM       1\n7:57:22 PM       1\n10:21:28 PM      1\n8:39:22 PM       1\n9:25:19 PM       1\n10:16:37 PM      1\n11:36:06 PM      1\n12:07:28 AM      1\n9:10:42 PM       1\n8:35:29 PM       1\n11:13:28 PM      1\n10:16:40 PM      1\n7:32:33 PM       1\n10:49:55 PM      1\n9:37:21 PM       1\n8:37:34 PM       1\n9:01:00 PM       1\n11:53:10 PM      1\n11:23:30 PM      1\n7:34:33 PM       1\n9:43:58 PM       1\n12:18:58 AM      1\n8:40:38 PM       1\n10:10:49 PM      1\n8:27:04 PM       1\n11:00:56 PM      1\n10:04:46 PM      1\n9:19:44 PM       1\n10:08:39 PM      1\n10:28:05 PM      1\n8:28:39 PM       1\n12:11:48 AM      1\n10:38:36 PM      1\n9:55:55 PM       1\n8:47:28 PM       1\n11:03:08 PM      1\n10:50:41 PM      1\n10:59:36 PM      1\n7:35:41 PM       1\n10:16:56 PM      1\n9:39:15 PM       1\n11:34:01 PM      1\n8:41:34 PM       1\n11:01:10 PM      1\n11:06:31 PM      1\n8:55:49 PM       1\n8:46:29 PM       1\n9:28:39 PM       1\n11:52:01 PM      1\n8:28:29 PM       1\n8:00:56 PM       1\n9:11:59 PM       1\n8:50:58 PM       1\n10:01:47 PM      1\n11:42:06 PM      1\n7:05:48 PM       1\n7:46:25 PM       1\n8:25:54 PM       1\n9:05:23 PM       1\n9:31:50 PM       1\n9:46:11 PM       1\n9:05:19 PM       1\n11:18:31 PM      1\n9:51:08 PM       1\n8:37:52 PM       1\n11:25:30 PM      1\n7:49:06 PM       1\n9:50:51 PM       1\n11:34:38 PM      1\n7:58:01 PM       1\n10:36:15 PM      1\n9:25:59 PM       1\n7:12:38 PM       1\n10:13:27 PM      1\n9:47:03 PM       1\n11:04:08 PM      1\n10:32:57 PM      1\n9:50:21 PM       1\n8:18:04 PM       1\n8:47:48 PM       1\n10:08:34 PM      1\n9:15:14 PM       1\n9:30:39 PM       1\n9:32:58 PM       1\n9:02:12 PM       1\n10:44:05 PM      1\n7:11:28 PM       1\n11:09:30 PM      1\n8:09:25 PM       1\n9:32:34 PM       1\n9:35:13 PM       1\n9:38:04 PM       1\n7:57:23 PM       1\n8:40:45 PM       1\n11:02:18 PM      1\n9:39:46 PM       1\n8:02:30 PM       1\n8:10:50 PM       1\n8:16:10 PM       1\n8:28:32 PM       1\n8:48:46 PM       1\n8:18:38 PM       1\n10:40:48 PM      1\n9:51:23 PM       1\n8:40:58 PM       1\n9:00:50 PM       1\n8:17:35 PM       1\n8:34:48 PM       1\n7:47:10 PM       1\n7:54:06 PM       1\n9:05:29 PM       1\n8:43:59 PM       1\n8:13:03 PM       1\n8:23:49 PM       1\n10:00:01 PM      1\n9:05:50 PM       1\n9:39:00 PM       1\n8:18:35 PM       1\n11:25:58 PM      1\n11:41:36 PM      1\n9:17:44 PM       1\n8:35:37 PM       1\n8:12:49 PM       1\n8:46:41 PM       1\n10:19:51 PM      1\n10:10:29 PM      1\n11:01:48 PM      1\n9:27:09 PM       1\n8:17:23 PM       1\n9:11:29 PM       1\n8:00:36 PM       1\n10:22:19 PM      1\n8:01:32 PM       1\n10:58:36 PM      1\n10:54:06 PM      1\n10:43:05 PM      1\n9:34:03 PM       1\n8:32:38 PM       1\n10:21:49 PM      1\n9:22:50 PM       1\n10:59:41 PM      1\n8:08:20 PM       1\n9:35:24 PM       1\n7:44:53 PM       1\n9:42:39 PM       1\n6:58:28 PM       1\n10:12:34 PM      1\n8:42:09 PM       1\n12:15:09 AM      1\n10:33:25 PM      1\n8:21:43 PM       1\n9:28:51 PM       1\n11:25:20 PM      1\n8:24:45 PM       1\n9:44:14 PM       1\n11:28:30 PM      1\n9:47:08 PM       1\n10:23:27 PM      1\n8:32:58 PM       1\n9:43:01 PM       1\n9:35:50 PM       1\n9:15:58 PM       1\n10:16:23 PM      1\n8:14:03 PM       1\n11:34:28 PM      1\n11:07:00 PM      1\n9:41:59 PM       1\n8:24:52 PM       1\n10:17:00 PM      1\n11:35:21 PM      1\n7:54:56 PM       1\n10:16:26 PM      1\n7:46:30 PM       1\n11:30:21 PM      1\n8:24:44 PM       1\n7:38:23 PM       1\n8:03:37 PM       1\n7:36:26 PM       1\n11:15:40 PM      1\n11:17:20 PM      1\n10:15:06 PM      1\n9:49:14 PM       1\n7:31:13 PM       1\n7:37:16 PM       1\n11:59:28 PM      1\n10:44:45 PM      1\n10:25:36 PM      1\n9:17:08 PM       1\n10:17:11 PM      1\n8:32:34 PM       1\n8:05:53 PM       1\n10:37:05 PM      1\n9:29:49 PM       1\n11:20:40 PM      1\n8:22:55 PM       1\n10:44:28 PM      1\n8:02:33 PM       1\n10:42:56 PM      1\n9:28:30 PM       1\n9:39:10 PM       1\n7:50:26 PM       1\n9:50:49 PM       1\n7:50:14 PM       1\n7:29:41 PM       1\n10:26:35 PM      1\n8:15:42 PM       1\n9:34:34 PM       1\n11:32:08 PM      1\n11:18:20 PM      1\n8:42:03 PM       1\n7:52:40 PM       1\n7:51:32 PM       1\n9:59:51 PM       1\n7:33:33 PM       1\n11:25:40 PM      1\n9:20:50 PM       1\n8:47:25 PM       1\n10:11:38 PM      1\n11:16:38 PM      1\n8:08:29 PM       1\n11:12:51 PM      1\n10:27:15 PM      1\n11:16:50 PM      1\n10:37:31 PM      1\n8:21:57 PM       1\n9:35:27 PM       1\n10:08:27 PM      1\n9:12:40 PM       1\n11:49:38 PM      1\n7:45:23 PM       1\n12:10:48 AM      1\n10:28:35 PM      1\n8:31:13 PM       1\n8:45:59 PM       1\n9:41:16 PM       1\n8:12:11 PM       1\n10:17:03 PM      1\n9:01:25 PM       1\n11:50:40 PM      1\n9:34:43 PM       1\n9:11:43 PM       1\n9:57:03 PM       1\n10:55:01 PM      1\n9:06:42 PM       1\n12:16:48 AM      1\n10:57:56 PM      1\n10:26:10 PM      1\n8:18:45 PM       1\n7:52:33 PM       1\n10:42:08 PM      1\n9:08:49 PM       1\n8:42:29 PM       1\n11:05:18 PM      1\n7:55:51 PM       1\n9:41:28 PM       1\n8:57:10 PM       1\n7:41:13 PM       1\n10:25:10 PM      1\n8:28:42 PM       1\n11:58:51 PM      1\n11:29:00 PM      1\n10:06:56 PM      1\n7:40:26 PM       1\n10:43:58 PM      1\n8:16:54 PM       1\n10:12:04 PM      1\n9:01:30 PM       1\n10:33:45 PM      1\n8:01:13 PM       1\n9:10:54 PM       1\n10:37:01 PM      1\n9:40:06 PM       1\n8:30:32 PM       1\n8:03:05 PM       1\n8:44:54 PM       1\n7:52:46 PM       1\n10:09:49 PM      1\n10:03:11 PM      1\n9:45:06 PM       1\n12:14:09 AM      1\n8:48:51 PM       1\n9:47:09 PM       1\n8:51:24 PM       1\n8:17:04 PM       1\n9:05:00 PM       1\n7:46:40 PM       1\n7:40:23 PM       1\n8:55:48 PM       1\n10:16:10 PM      1\n7:44:33 PM       1\n10:32:21 PM      1\n9:38:24 PM       1\n7:54:13 PM       1\n7:38:33 PM       1\n8:08:02 PM       1\n10:45:25 PM      1\n9:19:40 PM       1\n10:22:48 PM      1\n10:27:18 PM      1\n9:01:47 PM       1\n9:43:54 PM       1\n11:54:28 PM      1\n9:10:39 PM       1\n10:16:15 PM      1\n9:40:10 PM       1\n11:53:18 PM      1\n11:01:46 PM      1\n9:14:27 PM       1\n7:08:48 PM       1\n12:00:48 AM      1\n8:03:42 PM       1\n10:45:16 PM      1\n10:54:56 PM      1\n12:00:58 AM      1\n10:10:24 PM      1\n9:19:55 PM       1\n8:22:28 PM       1\n8:46:42 PM       1\n9:32:50 PM       1\n11:34:40 PM      1\n7:34:41 PM       1\n11:03:26 PM      1\n10:09:34 PM      1\n10:02:37 PM      1\n10:13:04 PM      1\n10:16:20 PM      1\n8:29:42 PM       1\n11:06:11 PM      1\n9:25:20 PM       1\n8:08:42 PM       1\n10:19:35 PM      1\n11:42:18 PM      1\n10:24:25 PM      1\n10:45:45 PM      1\n9:13:19 PM       1\n9:12:49 PM       1\n7:51:20 PM       1\n9:24:50 PM       1\n8:43:49 PM       1\n11:36:40 PM      1\n9:36:13 PM       1\n7:54:36 PM       1\n7:09:58 PM       1\n11:51:40 PM      1\n11:41:06 PM      1\n8:04:15 PM       1\n8:24:07 PM       1\n8:18:07 PM       1\n11:19:30 PM      1\n8:41:42 PM       1\n11:43:56 PM      1\n11:39:36 PM      1\n8:39:11 PM       1\n8:06:13 PM       1\n11:44:31 PM      1\n8:02:12 PM       1\n8:05:13 PM       1\n8:30:12 PM       1\n9:49:57 PM       1\n10:34:41 PM      1\n8:18:58 PM       1\n10:02:29 PM      1\n10:06:05 PM      1\n7:32:26 PM       1\n9:19:34 PM       1\n8:05:23 PM       1\n7:28:13 PM       1\n8:04:40 PM       1\n10:26:36 PM      1\n10:55:58 PM      1\n11:05:48 PM      1\n10:34:46 PM      1\n7:40:53 PM       1\n9:41:46 PM       1\n8:00:46 PM       1\n8:58:19 PM       1\n8:31:03 PM       1\n8:29:23 PM       1\n8:05:10 PM       1\n9:49:55 PM       1\n9:33:20 PM       1\n7:39:33 PM       1\n7:55:36 PM       1\n11:10:11 PM      1\n7:47:43 PM       1\n11:36:46 PM      1\n10:32:28 PM      1\n8:52:09 PM       1\n9:32:51 PM       1\n8:44:10 PM       1\n7:40:46 PM       1\n11:52:51 PM      1\n10:05:39 PM      1\n8:24:17 PM       1\n8:19:27 PM       1\n11:37:58 PM      1\n7:45:43 PM       1\n10:10:19 PM      1\n8:32:03 PM       1\n9:47:18 PM       1\n9:34:54 PM       1\n8:45:53 PM       1\n8:01:36 PM       1\n9:58:39 PM       1\n9:22:49 PM       1\n9:43:51 PM       1\n11:08:31 PM      1\n11:12:38 PM      1\n9:01:34 PM       1\n7:42:53 PM       1\n11:58:01 PM      1\n9:34:14 PM       1\n10:34:31 PM      1\n11:49:28 PM      1\n8:40:48 PM       1\n8:06:50 PM       1\n9:29:01 PM       1\n8:08:23 PM       1\n8:47:22 PM       1\n9:11:37 PM       1\n8:35:44 PM       1\n9:01:59 PM       1\n9:05:54 PM       1\n12:16:59 AM      1\n8:28:49 PM       1\n9:58:31 PM       1\n9:23:40 PM       1\n10:02:27 PM      1\n8:55:04 PM       1\n8:16:52 PM       1\n8:20:49 PM       1\n9:42:43 PM       1\n12:21:29 AM      1\n7:10:28 PM       1\n10:15:21 PM      1\n7:51:30 PM       1\n11:58:11 PM      1\n11:37:10 PM      1\n11:32:51 PM      1\n8:17:47 PM       1\n11:31:11 PM      1\n7:39:01 PM       1\n9:49:51 PM       1\n10:05:51 PM      1\n7:57:40 PM       1\n7:10:38 PM       1\n11:39:06 PM      1\n9:21:18 PM       1\n10:45:15 PM      1\n10:45:35 PM      1\n9:34:44 PM       1\n8:48:32 PM       1\n7:01:58 PM       1\n12:12:58 AM      1\n10:04:58 PM      1\n7:57:36 PM       1\n11:03:28 PM      1\n10:34:21 PM      1\n11:50:50 PM      1\n11:56:28 PM      1\n11:23:40 PM      1\n9:45:58 PM       1\n11:22:28 PM      1\n9:48:09 PM       1\n10:19:13 PM      1\n10:40:11 PM      1\n8:43:08 PM       1\n6:59:08 PM       1\n10:25:56 PM      1\n10:13:58 PM      1\n9:20:34 PM       1\n8:17:20 PM       1\n10:16:31 PM      1\n10:46:35 PM      1\n10:30:41 PM      1\n8:37:49 PM       1\n7:30:53 PM       1\n8:30:18 PM       1\n10:17:13 PM      1\n11:01:00 PM      1\n9:53:11 PM       1\n10:39:56 PM      1\n9:06:31 PM       1\n7:41:56 PM       1\n11:47:11 PM      1\n10:27:38 PM      1\n9:33:30 PM       1\n8:36:40 PM       1\n7:49:32 PM       1\n10:39:36 PM      1\n11:55:41 PM      1\n11:49:50 PM      1\n9:26:30 PM       1\n10:30:31 PM      1\n7:14:58 PM       1\n7:42:03 PM       1\n8:43:43 PM       1\n9:46:08 PM       1\n9:30:55 PM       1\n11:10:00 PM      1\n8:50:28 PM       1\n8:11:10 PM       1\n11:17:18 PM      1\n8:03:45 PM       1\n12:09:38 AM      1\n10:07:39 PM      1\n9:20:05 PM       1\n9:51:29 PM       1\n8:55:53 PM       1\n8:58:31 PM       1\n9:52:45 PM       1\n7:55:03 PM       1\n11:26:20 PM      1\n9:59:34 PM       1\n11:01:30 PM      1\n9:07:57 PM       1\n7:08:28 PM       1\n8:26:58 PM       1\n11:36:36 PM      1\n8:56:33 PM       1\n9:01:31 PM       1\n9:27:54 PM       1\n9:10:22 PM       1\n9:43:29 PM       1\n12:17:09 AM      1\n8:38:12 PM       1\n11:18:30 PM      1\n8:58:39 PM       1\n10:52:56 PM      1\n8:09:10 PM       1\n10:08:17 PM      1\n8:55:58 PM       1\n9:39:55 PM       1\n11:03:30 PM      1\n10:19:39 PM      1\n8:38:02 PM       1\n8:51:22 PM       1\n7:39:43 PM       1\n7:58:43 PM       1\n7:55:16 PM       1\n9:06:43 PM       1\n8:10:25 PM       1\n8:14:13 PM       1\n9:26:50 PM       1\n9:24:29 PM       1\n7:14:18 PM       1\n7:34:53 PM       1\n8:11:07 PM       1\n9:17:00 PM       1\n10:55:41 PM      1\n9:39:23 PM       1\n7:44:20 PM       1\n9:40:26 PM       1\n11:44:51 PM      1\n7:33:51 PM       1\n9:44:46 PM       1\n8:32:39 PM       1\n8:07:19 PM       1\n10:39:51 PM      1\n8:38:13 PM       1\n7:51:16 PM       1\n8:52:49 PM       1\n9:28:40 PM       1\n8:27:59 PM       1\n7:51:33 PM       1\n10:46:01 PM      1\n8:52:17 PM       1\n9:55:38 PM       1\n7:45:33 PM       1\n8:51:39 PM       1\n9:26:37 PM       1\n7:34:31 PM       1\n9:25:51 PM       1\n11:35:50 PM      1\n7:34:11 PM       1\n10:15:34 PM      1\n9:00:00 PM       1\n11:14:51 PM      1\n8:18:05 PM       1\n8:55:43 PM       1\n9:10:14 PM       1\n10:25:37 PM      1\n10:20:07 PM      1\n11:12:48 PM      1\n8:32:59 PM       1\n6:58:18 PM       1\n12:13:39 AM      1\n9:21:58 PM       1\n9:53:38 PM       1\n8:01:47 PM       1\n11:33:50 PM      1\n12:19:19 AM      1\n8:09:42 PM       1\n9:16:14 PM       1\n8:31:44 PM       1\n11:02:58 PM      1\n9:56:13 PM       1\n10:39:31 PM      1\n9:11:25 PM       1\n9:18:20 PM       1\n10:05:19 PM      1\n8:54:49 PM       1\n10:23:40 PM      1\n10:26:28 PM      1\n8:03:17 PM       1\n8:41:48 PM       1\n9:25:29 PM       1\n12:14:49 AM      1\n7:53:03 PM       1\n7:36:46 PM       1\n12:14:58 AM      1\n9:26:04 PM       1\n8:22:08 PM       1\n9:12:38 PM       1\n11:14:20 PM      1\n10:09:54 PM      1\n10:40:26 PM      1\n10:31:05 PM      1\n7:12:48 PM       1\n7:41:36 PM       1\n8:30:42 PM       1\n9:04:40 PM       1\n11:19:00 PM      1\n10:11:24 PM      1\n8:23:18 PM       1\n9:33:50 PM       1\n7:58:03 PM       1\n9:26:59 PM       1\n8:21:03 PM       1\n9:04:14 PM       1\n11:03:31 PM      1\n11:16:11 PM      1\n10:30:51 PM      1\n9:54:58 PM       1\n8:01:40 PM       1\n12:13:08 AM      1\n8:44:51 PM       1\n9:02:14 PM       1\n10:25:35 PM      1\n8:51:38 PM       1\n7:31:06 PM       1\n11:12:18 PM      1\n10:40:16 PM      1\n11:05:10 PM      1\n10:13:24 PM      1\n8:23:24 PM       1\n8:13:43 PM       1\n9:07:10 PM       1\n10:14:07 PM      1\n9:47:31 PM       1\n10:36:11 PM      1\n10:31:35 PM      1\n10:50:05 PM      1\n10:53:08 PM      1\n9:05:42 PM       1\n8:34:08 PM       1\n12:24:39 AM      1\n8:50:50 PM       1\n11:48:01 PM      1\n8:25:22 PM       1\n8:09:52 PM       1\n11:11:01 PM      1\n8:37:32 PM       1\n9:56:36 PM       1\n7:39:11 PM       1\n11:17:58 PM      1\n9:11:41 PM       1\n9:21:10 PM       1\n10:09:17 PM      1\n8:48:02 PM       1\n10:10:38 PM      1\n8:59:51 PM       1\n7:49:36 PM       1\n9:30:54 PM       1\n12:07:18 AM      1\n11:05:46 PM      1\n7:57:06 PM       1\n8:12:59 PM       1\n11:09:11 PM      1\n11:02:10 PM      1\n8:35:02 PM       1\n11:24:18 PM      1\n9:42:58 PM       1\n10:25:58 PM      1\n9:32:49 PM       1\n12:00:11 AM      1\n7:09:48 PM       1\n10:38:05 PM      1\n10:26:38 PM      1\n9:36:11 PM       1\n10:13:38 PM      1\n8:52:47 PM       1\n12:11:58 AM      1\n11:20:28 PM      1\n11:01:20 PM      1\n9:06:32 PM       1\n7:14:28 PM       1\n11:13:21 PM      1\n12:21:59 AM      1\n10:44:08 PM      1\n10:55:06 PM      1\n9:11:09 PM       1\n8:16:15 PM       1\n10:38:31 PM      1\n10:15:33 PM      1\n10:41:51 PM      1\n7:00:48 PM       1\n9:58:06 PM       1\n10:13:28 PM      1\n9:58:21 PM       1\n7:49:35 PM       1\n11:44:21 PM      1\n9:07:23 PM       1\n8:30:08 PM       1\n11:18:08 PM      1\n8:19:37 PM       1\n8:18:59 PM       1\n9:25:11 PM       1\n10:19:50 PM      1\n8:07:12 PM       1\n10:08:14 PM      1\n8:42:32 PM       1\n11:06:20 PM      1\n9:16:48 PM       1\n8:46:22 PM       1\n11:02:38 PM      1\n7:41:23 PM       1\n10:18:27 PM      1\n9:37:50 PM       1\n7:05:08 PM       1\n8:08:32 PM       1\n8:03:15 PM       1\n9:37:10 PM       1\n11:10:18 PM      1\n8:46:54 PM       1\n10:01:09 PM      1\n7:32:11 PM       1\n8:58:58 PM       1\n10:25:20 PM      1\n10:44:41 PM      1\n8:59:30 PM       1\n10:22:07 PM      1\n8:46:52 PM       1\n8:37:10 PM       1\n7:10:58 PM       1\n9:12:10 PM       1\n7:46:33 PM       1\n8:18:39 PM       1\n9:31:05 PM       1\n9:51:19 PM       1\n8:55:29 PM       1\n8:18:47 PM       1\n7:03:48 PM       1\n8:41:32 PM       1\n8:57:57 PM       1\n11:45:51 PM      1\n8:18:43 PM       1\n8:15:50 PM       1\n11:07:50 PM      1\n8:24:19 PM       1\n9:20:25 PM       1\n10:06:29 PM      1\n8:31:39 PM       1\n11:14:48 PM      1\n9:02:30 PM       1\n10:13:34 PM      1\n11:04:58 PM      1\n8:47:42 PM       1\n8:54:57 PM       1\n10:52:28 PM      1\n8:45:39 PM       1\n7:36:41 PM       1\n12:17:28 AM      1\n8:10:59 PM       1\n11:54:51 PM      1\n7:59:43 PM       1\n9:39:13 PM       1\n7:37:41 PM       1\n8:30:25 PM       1\n10:15:46 PM      1\n9:27:29 PM       1\n8:50:09 PM       1\n10:26:06 PM      1\n7:55:32 PM       1\n10:24:15 PM      1\n8:38:14 PM       1\n9:25:39 PM       1\n10:03:15 PM      1\n11:32:41 PM      1\n9:46:49 PM       1\n9:59:19 PM       1\n11:08:00 PM      1\n11:49:11 PM      1\n7:50:45 PM       1\n10:17:14 PM      1\n11:07:51 PM      1\n10:58:06 PM      1\n9:26:56 PM       1\n10:18:30 PM      1\n7:12:28 PM       1\n9:13:25 PM       1\n10:09:27 PM      1\n10:27:07 PM      1\n8:20:55 PM       1\n11:43:28 PM      1\n10:32:05 PM      1\n9:43:21 PM       1\n10:43:45 PM      1\n8:55:00 PM       1\n8:21:14 PM       1\n9:28:18 PM       1\n11:54:31 PM      1\n10:46:46 PM      1\n7:32:43 PM       1\n7:33:26 PM       1\n9:02:40 PM       1\n7:06:38 PM       1\n10:48:31 PM      1\n11:53:58 PM      1\n7:35:23 PM       1\n10:47:21 PM      1\n8:24:55 PM       1\n10:03:19 PM      1\n11:44:36 PM      1\n9:56:31 PM       1\n10:13:13 PM      1\n10:10:04 PM      1\n11:49:21 PM      1\n10:26:31 PM      1\n10:02:58 PM      1\n6:58:48 PM       1\n9:54:34 PM       1\n9:20:40 PM       1\n11:01:18 PM      1\n9:48:34 PM       1\n10:16:18 PM      1\n11:01:58 PM      1\n9:05:13 PM       1\n9:22:03 PM       1\n8:09:59 PM       1\n8:04:52 PM       1\n8:02:43 PM       1\n11:25:38 PM      1\n10:13:55 PM      1\n11:13:08 PM      1\n10:35:26 PM      1\n9:40:58 PM       1\n8:20:34 PM       1\n9:16:04 PM       1\n8:07:52 PM       1\n12:03:48 AM      1\n8:19:29 PM       1\n8:40:42 PM       1\n10:29:07 PM      1\n11:50:30 PM      1\n8:24:27 PM       1\n7:38:26 PM       1\n9:35:00 PM       1\n8:37:13 PM       1\n8:13:33 PM       1\n11:40:48 PM      1\n10:13:44 PM      1\n7:38:36 PM       1\n7:51:06 PM       1\n11:20:38 PM      1\n10:47:31 PM      1\n9:15:40 PM       1\n9:21:19 PM       1\n10:54:58 PM      1\n10:48:51 PM      1\n9:40:20 PM       1\n10:09:07 PM      1\n7:35:03 PM       1\n9:40:24 PM       1\n8:38:39 PM       1\n7:48:45 PM       1\n10:26:27 PM      1\n10:24:19 PM      1\n9:19:04 PM       1\n8:49:12 PM       1\n10:41:25 PM      1\n9:34:20 PM       1\n8:41:40 PM       1\n9:57:07 PM       1\n8:06:37 PM       1\n10:17:25 PM      1\n9:36:03 PM       1\n9:27:34 PM       1\n12:06:48 AM      1\n11:07:40 PM      1\n9:31:01 PM       1\n10:00:31 PM      1\n8:07:29 PM       1\n9:32:48 PM       1\n10:09:57 PM      1\n10:40:35 PM      1\n8:01:57 PM       1\n8:32:23 PM       1\n8:23:03 PM       1\n9:40:35 PM       1\n8:23:29 PM       1\n9:56:26 PM       1\n10:33:35 PM      1\n8:01:03 PM       1\n8:42:22 PM       1\n9:58:09 PM       1\n8:36:14 PM       1\n12:04:08 AM      1\n9:06:39 PM       1\n9:44:44 PM       1\n7:51:52 PM       1\n10:31:18 PM      1\n11:40:08 PM      1\n10:23:30 PM      1\n10:15:17 PM      1\n9:02:20 PM       1\n9:36:46 PM       1\n10:58:11 PM      1\n7:48:25 PM       1\n11:00:16 PM      1\n10:24:39 PM      1\n10:04:49 PM      1\n8:17:24 PM       1\n8:18:25 PM       1\n8:46:34 PM       1\n10:31:55 PM      1\n8:21:09 PM       1\n10:09:09 PM      1\n11:40:11 PM      1\n9:35:33 PM       1\n11:23:58 PM      1\n9:15:44 PM       1\n11:00:50 PM      1\n10:06:58 PM      1\n8:18:33 PM       1\n9:09:09 PM       1\n9:55:37 PM       1\n6:58:38 PM       1\n8:08:03 PM       1\n9:45:04 PM       1\n10:15:28 PM      1\n10:05:27 PM      1\n10:45:26 PM      1\n7:48:52 PM       1\n11:56:31 PM      1\n7:42:42 PM       1\n9:35:53 PM       1\n8:21:23 PM       1\n10:45:48 PM      1\n7:00:08 PM       1\n9:53:21 PM       1\n8:01:37 PM       1\n8:30:28 PM       1\n7:51:10 PM       1\n8:07:01 PM       1\n7:47:55 PM       1\n9:45:26 PM       1\n11:58:58 PM      1\n10:22:18 PM      1\n8:56:29 PM       1\n7:54:46 PM       1\n10:13:46 PM      1\n9:45:36 PM       1\n9:26:46 PM       1\n9:04:53 PM       1\n11:04:38 PM      1\n7:54:03 PM       1\n11:34:00 PM      1\n8:52:30 PM       1\n10:48:41 PM      1\n10:24:45 PM      1\n11:17:00 PM      1\n10:24:59 PM      1\n8:04:01 PM       1\n8:36:49 PM       1\n10:25:30 PM      1\n11:30:10 PM      1\n7:30:21 PM       1\n8:57:43 PM       1\n10:56:26 PM      1\n7:37:46 PM       1\n9:49:47 PM       1\n9:28:49 PM       1\n11:46:11 PM      1\n10:16:44 PM      1\n9:56:01 PM       1\n10:34:56 PM      1\n8:39:42 PM       1\n11:09:38 PM      1\n9:28:03 PM       1\n9:27:24 PM       1\n10:21:37 PM      1\n8:56:40 PM       1\n8:48:52 PM       1\n10:20:17 PM      1\n8:43:50 PM       1\n10:11:29 PM      1\n9:26:29 PM       1\n11:18:50 PM      1\n10:04:17 PM      1\n11:06:30 PM      1\n10:00:21 PM      1\n10:05:09 PM      1\n10:21:57 PM      1\n9:28:29 PM       1\n8:16:39 PM       1\n7:50:52 PM       1\n11:53:01 PM      1\n10:43:08 PM      1\n8:29:02 PM       1\n9:32:33 PM       1\n10:43:51 PM      1\n8:00:03 PM       1\n11:05:38 PM      1\n10:38:41 PM      1\n8:09:50 PM       1\n10:23:19 PM      1\n8:25:02 PM       1\n10:11:55 PM      1\n8:22:27 PM       1\n9:25:49 PM       1\n9:40:41 PM       1\n8:59:41 PM       1\n11:08:38 PM      1\n7:56:53 PM       1\n8:51:37 PM       1\n9:51:59 PM       1\n10:23:37 PM      1\n9:42:48 PM       1\n11:40:56 PM      1\n7:42:52 PM       1\n10:19:53 PM      1\n7:34:46 PM       1\n11:25:08 PM      1\n11:24:38 PM      1\n9:36:20 PM       1\n9:37:30 PM       1\n9:41:54 PM       1\n12:18:59 AM      1\n8:00:16 PM       1\n11:51:21 PM      1\n10:28:18 PM      1\n11:47:21 PM      1\n7:51:46 PM       1\n8:38:01 PM       1\n9:32:45 PM       1\n7:50:22 PM       1\n7:36:51 PM       1\n10:11:39 PM      1\n11:17:28 PM      1\n11:32:10 PM      1\n11:42:48 PM      1\n9:18:48 PM       1\n10:52:18 PM      1\n11:48:00 PM      1\n8:02:23 PM       1\n8:38:29 PM       1\n8:23:35 PM       1\n8:38:58 PM       1\n9:05:10 PM       1\n10:15:23 PM      1\n8:33:18 PM       1\n8:44:24 PM       1\n8:22:29 PM       1\n10:11:28 PM      1\n7:56:50 PM       1\n8:17:53 PM       1\n9:09:02 PM       1\n11:34:48 PM      1\n8:53:58 PM       1\n10:02:11 PM      1\n7:42:43 PM       1\n10:08:29 PM      1\n8:57:04 PM       1\n11:09:21 PM      1\n10:17:35 PM      1\n9:16:30 PM       1\n9:43:14 PM       1\n8:27:44 PM       1\n9:37:54 PM       1\n8:31:14 PM       1\n10:16:17 PM      1\n8:59:39 PM       1\n8:57:20 PM       1\n9:35:10 PM       1\n8:44:49 PM       1\n8:35:54 PM       1\n10:14:56 PM      1\n9:25:40 PM       1\n9:59:54 PM       1\n8:54:40 PM       1\n8:05:33 PM       1\n6:59:18 PM       1\n7:53:30 PM       1\n9:04:37 PM       1\n11:33:58 PM      1\n10:11:47 PM      1\n9:55:51 PM       1\n7:57:52 PM       1\n10:51:48 PM      1\n11:04:40 PM      1\n10:57:36 PM      1\n11:09:00 PM      1\n10:48:05 PM      1\n12:14:59 AM      1\n9:04:42 PM       1\n8:51:52 PM       1\n8:58:00 PM       1\n7:36:31 PM       1\n10:43:48 PM      1\n10:04:18 PM      1\n10:21:21 PM      1\n7:31:43 PM       1\n8:07:26 PM       1\n10:17:33 PM      1\n9:29:18 PM       1\n7:36:06 PM       1\n8:20:18 PM       1\n8:59:31 PM       1\n10:12:56 PM      1\n11:08:01 PM      1\n10:55:16 PM      1\n10:44:55 PM      1\n9:32:39 PM       1\n8:34:29 PM       1\n8:49:49 PM       1\n8:23:34 PM       1\n8:50:32 PM       1\n11:27:20 PM      1\n9:54:18 PM       1\n7:48:26 PM       1\n9:06:22 PM       1\n9:59:27 PM       1\n11:02:31 PM      1\n11:08:51 PM      1\n8:51:28 PM       1\n7:56:06 PM       1\n8:57:33 PM       1\n7:58:53 PM       1\n9:25:54 PM       1\n9:37:06 PM       1\n8:26:39 PM       1\n11:52:00 PM      1\n10:17:45 PM      1\n7:46:56 PM       1\n10:08:19 PM      1\n7:59:56 PM       1\n12:14:39 AM      1\n7:53:36 PM       1\n8:20:04 PM       1\n9:11:40 PM       1\n11:37:06 PM      1\n10:05:08 PM      1\n8:48:18 PM       1\n8:47:08 PM       1\n11:19:41 PM      1\n8:45:49 PM       1\n8:54:04 PM       1\n7:52:10 PM       1\n11:55:38 PM      1\n10:49:11 PM      1\n10:48:56 PM      1\n9:14:23 PM       1\n7:59:50 PM       1\n10:56:31 PM      1\n10:46:45 PM      1\n11:21:28 PM      1\n7:46:06 PM       1\n7:40:06 PM       1\n8:17:34 PM       1\n9:57:17 PM       1\n10:09:21 PM      1\n11:02:40 PM      1\n11:02:48 PM      1\n11:30:11 PM      1\n10:22:05 PM      1\n8:32:08 PM       1\n8:21:04 PM       1\n8:30:53 PM       1\n10:55:28 PM      1\n9:40:04 PM       1\n7:55:33 PM       1\n10:04:15 PM      1\n10:24:00 PM      1\n12:05:28 AM      1\n9:22:34 PM       1\n9:33:53 PM       1\n12:12:38 AM      1\n10:45:56 PM      1\n8:38:04 PM       1\n8:24:04 PM       1\n9:11:22 PM       1\n9:28:54 PM       1\n8:41:39 PM       1\n8:25:59 PM       1\n11:26:08 PM      1\n8:26:44 PM       1\n10:14:03 PM      1\n8:52:32 PM       1\n8:26:48 PM       1\n10:17:01 PM      1\n12:15:39 AM      1\n10:05:48 PM      1\n10:21:29 PM      1\n10:14:18 PM      1\n10:40:46 PM      1\n7:35:36 PM       1\n10:15:54 PM      1\n11:25:18 PM      1\n8:59:59 PM       1\n9:18:27 PM       1\n11:33:51 PM      1\n7:44:03 PM       1\n9:42:09 PM       1\n10:21:55 PM      1\n9:26:14 PM       1\n8:33:03 PM       1\n8:33:42 PM       1\n10:15:50 PM      1\n9:07:20 PM       1\n8:26:28 PM       1\n8:52:40 PM       1\n9:38:10 PM       1\n7:48:42 PM       1\n10:10:18 PM      1\n11:30:40 PM      1\n9:47:28 PM       1\n8:46:07 PM       1\n8:18:24 PM       1\n9:28:41 PM       1\n9:57:18 PM       1\n9:05:49 PM       1\n9:47:51 PM       1\n7:55:43 PM       1\n11:59:41 PM      1\n8:19:24 PM       1\n10:20:39 PM      1\n9:11:53 PM       1\n9:39:18 PM       1\n8:55:55 PM       1\n10:54:46 PM      1\n10:29:25 PM      1\n9:28:09 PM       1\n10:59:01 PM      1\n10:22:15 PM      1\n10:12:58 PM      1\n7:29:21 PM       1\n8:27:19 PM       1\n9:52:28 PM       1\n10:40:25 PM      1\n9:19:54 PM       1\n7:09:38 PM       1\n6:57:08 PM       1\n10:06:39 PM      1\n10:56:08 PM      1\n8:24:59 PM       1\n9:24:24 PM       1\n11:14:11 PM      1\n8:43:29 PM       1\n8:12:13 PM       1\n8:54:13 PM       1\n10:21:39 PM      1\n11:38:36 PM      1\n10:36:21 PM      1\n8:42:52 PM       1\n9:59:09 PM       1\n8:56:34 PM       1\n7:51:02 PM       1\n10:45:01 PM      1\n10:35:01 PM      1\n10:43:15 PM      1\n8:21:08 PM       1\n8:55:13 PM       1\n11:34:31 PM      1\n11:30:00 PM      1\n7:37:06 PM       1\n10:16:13 PM      1\n11:19:08 PM      1\n10:59:51 PM      1\n10:06:01 PM      1\n10:14:21 PM      1\n8:45:25 PM       1\n7:40:56 PM       1\n10:36:35 PM      1\n10:48:26 PM      1\n11:16:41 PM      1\n8:28:38 PM       1\n7:56:26 PM       1\n8:56:42 PM       1\n9:25:44 PM       1\n9:00:36 PM       1\n8:16:53 PM       1\n9:18:37 PM       1\n7:49:42 PM       1\n7:35:56 PM       1\n9:20:15 PM       1\n7:12:58 PM       1\n9:20:24 PM       1\n8:31:18 PM       1\n7:39:36 PM       1\n7:36:01 PM       1\n8:49:28 PM       1\n11:51:11 PM      1\n11:19:31 PM      1\n8:52:18 PM       1\n10:36:31 PM      1\n9:11:12 PM       1\n8:23:57 PM       1\n7:36:13 PM       1\n8:24:13 PM       1\n9:34:33 PM       1\n10:36:41 PM      1\n9:51:41 PM       1\n8:34:09 PM       1\n8:30:15 PM       1\n8:36:30 PM       1\n10:14:54 PM      1\n11:42:46 PM      1\n9:50:18 PM       1\n11:12:28 PM      1\n11:38:21 PM      1\n8:13:29 PM       1\n7:41:26 PM       1\n10:22:09 PM      1\n8:19:35 PM       1\n9:54:38 PM       1\n9:01:54 PM       1\n9:00:09 PM       1\n8:36:04 PM       1\n9:45:48 PM       1\n10:45:21 PM      1\n10:18:23 PM      1\n8:56:32 PM       1\n8:37:02 PM       1\n9:04:22 PM       1\n10:27:35 PM      1\n10:03:49 PM      1\n10:04:08 PM      1\n7:52:23 PM       1\n7:49:50 PM       1\n7:49:02 PM       1\n7:46:35 PM       1\n8:23:25 PM       1\n10:07:34 PM      1\n12:15:08 AM      1\n9:48:44 PM       1\n10:17:50 PM      1\n8:59:50 PM       1\n11:19:20 PM      1\n10:26:40 PM      1\n9:41:10 PM       1\n10:48:25 PM      1\n11:14:40 PM      1\n7:04:58 PM       1\n8:16:23 PM       1\n7:41:06 PM       1\n8:46:28 PM       1\n11:47:30 PM      1\n10:44:48 PM      1\n9:46:09 PM       1\n8:11:43 PM       1\n8:22:59 PM       1\n9:47:38 PM       1\n10:15:40 PM      1\n8:42:18 PM       1\n12:05:38 AM      1\n8:33:10 PM       1\n11:08:50 PM      1\n8:13:09 PM       1\n8:41:58 PM       1\n9:50:31 PM       1\n9:02:36 PM       1\n9:32:59 PM       1\n11:38:16 PM      1\n7:31:41 PM       1\n7:35:46 PM       1\n8:32:09 PM       1\n9:23:49 PM       1\n8:19:54 PM       1\n8:47:14 PM       1\n10:11:09 PM      1\n9:55:21 PM       1\n8:39:30 PM       1\n10:17:39 PM      1\n8:42:38 PM       1\n9:12:39 PM       1\n8:30:20 PM       1\n10:27:25 PM      1\n11:20:20 PM      1\n9:39:54 PM       1\n7:47:00 PM       1\n8:40:28 PM       1\n9:10:30 PM       1\n7:55:13 PM       1\n10:18:00 PM      1\n10:49:31 PM      1\n10:04:19 PM      1\n8:40:43 PM       1\n9:16:54 PM       1\n9:35:25 PM       1\n7:40:13 PM       1\n7:41:33 PM       1\n11:09:01 PM      1\n11:33:38 PM      1\n7:54:50 PM       1\n9:02:10 PM       1\n9:01:20 PM       1\n10:34:05 PM      1\n7:59:00 PM       1\n9:01:12 PM       1\n8:40:32 PM       1\n10:25:28 PM      1\n11:07:20 PM      1\n10:28:11 PM      1\n9:21:24 PM       1\n8:29:03 PM       1\n12:14:08 AM      1\n8:34:39 PM       1\n9:08:41 PM       1\n11:33:18 PM      1\n11:40:01 PM      1\n8:20:38 PM       1\n10:08:15 PM      1\n8:31:59 PM       1\n7:47:04 PM       1\n8:21:53 PM       1\n9:15:24 PM       1\n8:12:53 PM       1\n8:51:32 PM       1\n7:15:18 PM       1\n11:12:08 PM      1\n12:04:18 AM      1\n8:57:14 PM       1\n10:23:29 PM      1\n10:05:37 PM      1\n10:43:41 PM      1\n9:07:00 PM       1\n8:17:14 PM       1\n8:28:22 PM       1\n9:05:58 PM       1\n7:40:03 PM       1\n11:19:58 PM      1\n9:51:04 PM       1\n8:23:33 PM       1\n7:14:48 PM       1\n10:15:58 PM      1\n7:32:01 PM       1\n9:44:54 PM       1\n9:16:44 PM       1\n8:23:09 PM       1\n9:42:14 PM       1\n10:16:00 PM      1\n8:46:12 PM       1\n8:47:12 PM       1\n12:16:29 AM      1\n8:20:32 PM       1\n10:17:55 PM      1\n10:23:55 PM      1\n10:24:29 PM      1\n8:24:18 PM       1\n12:17:18 AM      1\n10:18:03 PM      1\n10:17:41 PM      1\n9:29:19 PM       1\n9:54:55 PM       1\n10:43:26 PM      1\n9:22:13 PM       1\n8:17:44 PM       1\n10:50:31 PM      1\n7:13:18 PM       1\n7:52:30 PM       1\n11:25:00 PM      1\n9:16:00 PM       1\n7:28:33 PM       1\n9:18:17 PM       1\n9:04:52 PM       1\n12:16:09 AM      1\n8:25:15 PM       1\n8:11:23 PM       1\n9:57:51 PM       1\n9:56:05 PM       1\n11:31:38 PM      1\n9:51:11 PM       1\n7:31:51 PM       1\n10:33:01 PM      1\n9:42:31 PM       1\n11:16:00 PM      1\n10:58:56 PM      1\n9:04:54 PM       1\n8:06:03 PM       1\n9:17:21 PM       1\n9:50:11 PM       1\n9:28:24 PM       1\n11:05:58 PM      1\n7:50:06 PM       1\n9:42:24 PM       1\n11:43:46 PM      1\n8:50:15 PM       1\n11:44:01 PM      1\n7:37:36 PM       1\n9:55:57 PM       1\n11:29:40 PM      1\n7:11:08 PM       1\n7:41:43 PM       1\n7:28:43 PM       1\n8:35:39 PM       1\n9:12:30 PM       1\n10:24:30 PM      1\n10:18:13 PM      1\n11:16:21 PM      1\n10:55:38 PM      1\n9:35:04 PM       1\n9:58:46 PM       1\n9:44:36 PM       1\n10:55:51 PM      1\n7:00:38 PM       1\n8:25:49 PM       1\n7:31:36 PM       1\n8:51:12 PM       1\n7:47:03 PM       1\n7:44:02 PM       1\n11:37:26 PM      1\n9:51:13 PM       1\n9:16:38 PM       1\n8:14:23 PM       1\n7:51:26 PM       1\n8:42:04 PM       1\n9:21:30 PM       1\n10:30:11 PM      1\n10:48:35 PM      1\n11:11:28 PM      1\n11:21:50 PM      1\n10:27:00 PM      1\n10:35:51 PM      1\n9:16:58 PM       1\n9:34:13 PM       1\n7:10:08 PM       1\n9:24:04 PM       1\n9:58:43 PM       1\n8:02:37 PM       1\n9:05:14 PM       1\n11:19:48 PM      1\n8:06:53 PM       1\n10:14:48 PM      1\n9:04:12 PM       1\n9:49:21 PM       1\n7:46:16 PM       1\n9:35:30 PM       1\n10:16:59 PM      1\n11:06:38 PM      1\n9:12:19 PM       1\n11:30:41 PM      1\n7:56:20 PM       1\n10:44:01 PM      1\n8:15:03 PM       1\n9:11:15 PM       1\n10:17:26 PM      1\n9:11:30 PM       1\n7:54:53 PM       1\n10:15:13 PM      1\n8:43:02 PM       1\n10:40:15 PM      1\n7:39:41 PM       1\n10:45:41 PM      1\n10:24:35 PM      1\n9:15:38 PM       1\n11:36:20 PM      1\n8:00:33 PM       1\n12:19:29 AM      1\n7:49:03 PM       1\n8:06:15 PM       1\n11:41:26 PM      1\n8:51:29 PM       1\n8:00:26 PM       1\n8:03:51 PM       1\n8:55:59 PM       1\n7:58:33 PM       1\n10:17:27 PM      1\n9:59:49 PM       1\n11:21:38 PM      1\n9:08:29 PM       1\n9:55:07 PM       1\n10:34:11 PM      1\n8:20:29 PM       1\n11:49:51 PM      1\n7:45:53 PM       1\n9:46:01 PM       1\n8:49:30 PM       1\n12:08:28 AM      1\n11:49:41 PM      1\n10:12:57 PM      1\n8:13:17 PM       1\n11:14:31 PM      1\n8:16:35 PM       1\n7:47:23 PM       1\n10:59:16 PM      1\n8:52:16 PM       1\n8:55:30 PM       1\n11:56:41 PM      1\n9:08:59 PM       1\n11:03:11 PM      1\n9:36:30 PM       1\n9:28:00 PM       1\n8:41:22 PM       1\n8:45:12 PM       1\n10:47:55 PM      1\n11:39:16 PM      1\n8:10:39 PM       1\n8:37:53 PM       1\n8:56:04 PM       1\n10:44:38 PM      1\n11:23:28 PM      1\n11:51:50 PM      1\n8:56:23 PM       1\n9:59:41 PM       1\n11:49:10 PM      1\n8:56:48 PM       1\n12:11:18 AM      1\n11:31:30 PM      1\n7:53:46 PM       1\n10:20:59 PM      1\n9:16:24 PM       1\n7:32:56 PM       1\n11:19:40 PM      1\n9:56:09 PM       1\n10:12:44 PM      1\n9:17:30 PM       1\n10:19:10 PM      1\n11:04:51 PM      1\n9:00:30 PM       1\n8:19:45 PM       1\n9:20:37 PM       1\n11:01:40 PM      1\n8:25:10 PM       1\n9:44:01 PM       1\n10:38:35 PM      1\n10:07:49 PM      1\n7:57:00 PM       1\n10:40:28 PM      1\n9:52:55 PM       1\n10:17:21 PM      1\n9:27:33 PM       1\n9:34:24 PM       1\n11:22:10 PM      1\n7:40:36 PM       1\n9:04:17 PM       1\n9:55:04 PM       1\n9:55:19 PM       1\n8:15:49 PM       1\n12:22:59 AM      1\n11:59:11 PM      1\n7:50:02 PM       1\n9:49:24 PM       1\n9:29:10 PM       1\n7:56:36 PM       1\n8:56:24 PM       1\n10:46:36 PM      1\n11:10:28 PM      1\n8:22:18 PM       1\n7:45:45 PM       1\n9:36:43 PM       1\n10:10:35 PM      1\n8:59:19 PM       1\n11:04:31 PM      1\n8:03:11 PM       1\n8:30:22 PM       1\n7:52:22 PM       1\n10:28:17 PM      1\n10:48:21 PM      1\n9:01:40 PM       1\n12:11:28 AM      1\n8:27:18 PM       1\n7:52:36 PM       1\n8:53:19 PM       1\n10:52:38 PM      1\n9:58:49 PM       1\n9:17:53 PM       1\n10:15:07 PM      1\n8:57:17 PM       1\n8:25:32 PM       1\n9:22:30 PM       1\n9:39:38 PM       1\n10:05:59 PM      1\n9:28:13 PM       1\n11:11:21 PM      1\n7:02:28 PM       1\n9:21:50 PM       1\n10:46:15 PM      1\n9:08:32 PM       1\n11:37:28 PM      1\n10:01:39 PM      1\n10:19:59 PM      1\n11:35:56 PM      1\n10:37:35 PM      1\n7:53:20 PM       1\n8:59:32 PM       1\n8:43:32 PM       1\n7:38:16 PM       1\n10:13:36 PM      1\n10:28:45 PM      1\n11:06:36 PM      1\n9:15:54 PM       1\n10:03:27 PM      1\n7:03:18 PM       1\n11:57:51 PM      1\n7:07:08 PM       1\n8:04:35 PM       1\n9:02:00 PM       1\n9:05:02 PM       1\n8:23:38 PM       1\n8:49:19 PM       1\n8:07:42 PM       1\n7:53:16 PM       1\n11:51:01 PM      1\n7:53:26 PM       1\n11:42:36 PM      1\n10:27:17 PM      1\n11:17:21 PM      1\n11:38:11 PM      1\n7:41:46 PM       1\n11:13:40 PM      1\n8:44:52 PM       1\n9:09:00 PM       1\n7:59:26 PM       1\n10:40:55 PM      1\n9:48:54 PM       1\n11:21:40 PM      1\n10:49:26 PM      1\n7:49:45 PM       1\n8:01:31 PM       1\n8:12:43 PM       1\n8:40:53 PM       1\n10:16:24 PM      1\n11:22:38 PM      1\n10:43:55 PM      1\n9:31:38 PM       1\n11:30:51 PM      1\n8:32:44 PM       1\n11:39:38 PM      1\n7:47:25 PM       1\n8:53:09 PM       1\n7:53:10 PM       1\n8:39:02 PM       1\n10:12:38 PM      1\n8:25:27 PM       1\n12:10:08 AM      1\n11:03:50 PM      1\n9:36:31 PM       1\n9:11:49 PM       1\n12:12:08 AM      1\n9:11:32 PM       1\n9:51:31 PM       1\n11:07:30 PM      1\n8:22:13 PM       1\n11:24:30 PM      1\n8:48:22 PM       1\n9:54:49 PM       1\n7:58:30 PM       1\n8:33:14 PM       1\n10:25:38 PM      1\n10:56:38 PM      1\n8:57:00 PM       1\n9:24:39 PM       1\n9:28:50 PM       1\n7:33:53 PM       1\n9:43:28 PM       1\n9:03:32 PM       1\n9:23:15 PM       1\n9:55:53 PM       1\n9:05:32 PM       1\n9:29:24 PM       1\n10:47:11 PM      1\n10:05:55 PM      1\n8:52:39 PM       1\n8:07:53 PM       1\n8:46:44 PM       1\n9:23:00 PM       1\n10:16:11 PM      1\n11:48:41 PM      1\n11:03:36 PM      1\n9:31:30 PM       1\n11:24:48 PM      1\n8:40:22 PM       1\n10:50:01 PM      1\n8:05:43 PM       1\n9:37:18 PM       1\n8:28:33 PM       1\n9:26:49 PM       1\n7:57:16 PM       1\n9:30:20 PM       1\n7:47:50 PM       1\n8:23:43 PM       1\n11:57:48 PM      1\n9:52:09 PM       1\n8:00:11 PM       1\n8:20:53 PM       1\n9:55:31 PM       1\n7:44:13 PM       1\n6:58:58 PM       1\n10:46:06 PM      1\n8:34:55 PM       1\n9:47:19 PM       1\n8:09:13 PM       1\n7:50:25 PM       1\n9:22:00 PM       1\n10:32:31 PM      1\n11:26:40 PM      1\n8:56:44 PM       1\n9:33:29 PM       1\n11:49:01 PM      1\n9:46:26 PM       1\n9:27:41 PM       1\n10:41:41 PM      1\n8:47:32 PM       1\n10:19:30 PM      1\n11:30:58 PM      1\n10:48:55 PM      1\n8:50:43 PM       1\n10:04:07 PM      1\n7:58:52 PM       1\n9:44:26 PM       1\n7:33:01 PM       1\n8:45:36 PM       1\n12:17:38 AM      1\n8:39:21 PM       1\n8:18:49 PM       1\n11:33:31 PM      1\n9:20:59 PM       1\n10:11:54 PM      1\n8:37:59 PM       1\n7:49:46 PM       1\n11:01:36 PM      1\n10:12:08 PM      1\n11:14:41 PM      1\n10:43:38 PM      1\n7:59:31 PM       1\n10:27:08 PM      1\n10:42:55 PM      1\n7:49:26 PM       1\n8:44:56 PM       1\n10:08:49 PM      1\n9:48:51 PM       1\n10:16:43 PM      1\n9:03:44 PM       1\n10:25:09 PM      1\n9:02:04 PM       1\n11:16:31 PM      1\n9:34:00 PM       1\n10:55:36 PM      1\n9:05:09 PM       1\n7:56:56 PM       1\n11:51:10 PM      1\n10:45:51 PM      1\n8:31:49 PM       1\n8:16:59 PM       1\n8:06:49 PM       1\n9:45:14 PM       1\n9:58:53 PM       1\n10:13:53 PM      1\n8:10:33 PM       1\n8:06:56 PM       1\n9:21:14 PM       1\n8:50:05 PM       1\n7:56:16 PM       1\n8:23:28 PM       1\n9:10:24 PM       1\n10:52:46 PM      1\n9:12:09 PM       1\n7:36:23 PM       1\n9:47:29 PM       1\n11:15:01 PM      1\n8:44:02 PM       1\n7:34:51 PM       1\n9:16:18 PM       1\n10:33:51 PM      1\n8:52:53 PM       1\n10:36:45 PM      1\n11:33:00 PM      1\n8:16:43 PM       1\n8:18:15 PM       1\n8:23:48 PM       1\n10:18:05 PM      1\n11:10:31 PM      1\n9:32:09 PM       1\n8:07:50 PM       1\n9:16:50 PM       1\n7:50:36 PM       1\n9:55:45 PM       1\n11:58:38 PM      1\n11:39:56 PM      1\n11:28:20 PM      1\n8:51:04 PM       1\n8:24:15 PM       1\n8:31:19 PM       1\n10:12:14 PM      1\n9:35:49 PM       1\n10:04:55 PM      1\n10:44:31 PM      1\n9:01:15 PM       1\n8:37:14 PM       1\n10:33:18 PM      1\n9:11:05 PM       1\n11:50:31 PM      1\n7:51:36 PM       1\n10:02:39 PM      1\n9:05:52 PM       1\n10:27:05 PM      1\n11:31:01 PM      1\n11:14:01 PM      1\n7:41:03 PM       1\n9:29:30 PM       1\n11:58:48 PM      1\n7:33:36 PM       1\n7:54:00 PM       1\n11:34:20 PM      1\n8:47:04 PM       1\n8:47:38 PM       1\n8:19:38 PM       1\n11:20:08 PM      1\n10:15:48 PM      1\n8:02:53 PM       1\n8:45:28 PM       1\n9:43:24 PM       1\n8:42:08 PM       1\n8:27:38 PM       1\n8:56:20 PM       1\n9:39:56 PM       1\n10:39:46 PM      1\n10:34:15 PM      1\n8:29:12 PM       1\n11:41:48 PM      1\n8:47:18 PM       1\n8:24:20 PM       1\n8:29:52 PM       1\n10:37:41 PM      1\n8:38:09 PM       1\n9:13:51 PM       1\n9:09:30 PM       1\n7:10:18 PM       1\n8:21:13 PM       1\n10:10:08 PM      1\n11:31:00 PM      1\n10:13:33 PM      1\n8:29:22 PM       1\n9:33:54 PM       1\n8:22:23 PM       1\n11:57:38 PM      1\n7:49:00 PM       1\n12:06:18 AM      1\n7:09:18 PM       1\n11:35:01 PM      1\n10:06:25 PM      1\n10:20:57 PM      1\n8:10:19 PM       1\n9:34:23 PM       1\n10:33:48 PM      1\n7:29:43 PM       1\n8:20:15 PM       1\n9:17:31 PM       1\n9:34:50 PM       1\n9:55:43 PM       1\n9:07:30 PM       1\n10:10:45 PM      1\n9:12:02 PM       1\n11:07:10 PM      1\n10:15:00 PM      1\nName: Time, dtype: int64"
     },
     "metadata": {}
    }
   ]
  },
  {
   "cell_type": "markdown",
   "source": "As illustrated above, there is an absurd count of unique time at 7:44:32 PM.  To understand why, we dive deeper.",
   "metadata": {
    "tags": [],
    "is_collapsed": false,
    "cell_id": "00070-d45b2c7b-8dae-4455-a1fb-e1679086c1dc",
    "deepnote_cell_type": "text-cell-p"
   }
  },
  {
   "cell_type": "code",
   "metadata": {
    "cell_id": "00070-31d56cef-39c5-4036-a7dd-1af08fb90fd3",
    "deepnote_to_be_reexecuted": false,
    "source_hash": "d5f375ae",
    "execution_start": 1637218221668,
    "execution_millis": 403039382,
    "deepnote_output_heights": [
     21.1875
    ],
    "deepnote_cell_type": "code"
   },
   "source": "#see the number of rows and columns of the spray dataframe\nspray_df.shape",
   "execution_count": null,
   "outputs": [
    {
     "output_type": "execute_result",
     "execution_count": 63,
     "data": {
      "text/plain": "(14835, 4)"
     },
     "metadata": {}
    }
   ]
  },
  {
   "cell_type": "code",
   "metadata": {
    "cell_id": "00071-dcf86b62-8294-46f5-9096-747e0ba8fbeb",
    "deepnote_to_be_reexecuted": false,
    "source_hash": "46001cc",
    "execution_start": 1637218221668,
    "execution_millis": 17,
    "deepnote_output_heights": [
     78.75
    ],
    "deepnote_cell_type": "code"
   },
   "source": "# presence of null values in columns \nspray_df.isnull().value_counts()",
   "execution_count": null,
   "outputs": [
    {
     "output_type": "execute_result",
     "execution_count": 64,
     "data": {
      "text/plain": "Date   Time   Latitude  Longitude\nFalse  False  False     False        14251\n       True   False     False          584\ndtype: int64"
     },
     "metadata": {}
    }
   ]
  },
  {
   "cell_type": "code",
   "metadata": {
    "cell_id": "00072-4adf6ba0-5f26-442e-a22a-637e8083cdca",
    "deepnote_to_be_reexecuted": false,
    "source_hash": "7800ddce",
    "execution_start": 1637218221669,
    "execution_millis": 16,
    "deepnote_cell_type": "code"
   },
   "source": "# grouping null values by date\nspray_df[spray_df['Time'].isnull()].groupby('Date').count()",
   "execution_count": null,
   "outputs": [
    {
     "output_type": "execute_result",
     "execution_count": 65,
     "data": {
      "application/vnd.deepnote.dataframe.v2+json": {
       "row_count": 1,
       "column_count": 3,
       "columns": [
        {
         "name": "Time",
         "dtype": "int64",
         "stats": {
          "unique_count": 1,
          "nan_count": 0,
          "min": "0",
          "max": "0",
          "histogram": [
           {
            "bin_start": -0.5,
            "bin_end": -0.4,
            "count": 0
           },
           {
            "bin_start": -0.4,
            "bin_end": -0.3,
            "count": 0
           },
           {
            "bin_start": -0.3,
            "bin_end": -0.19999999999999996,
            "count": 0
           },
           {
            "bin_start": -0.19999999999999996,
            "bin_end": -0.09999999999999998,
            "count": 0
           },
           {
            "bin_start": -0.09999999999999998,
            "bin_end": 0,
            "count": 0
           },
           {
            "bin_start": 0,
            "bin_end": 0.10000000000000009,
            "count": 1
           },
           {
            "bin_start": 0.10000000000000009,
            "bin_end": 0.20000000000000007,
            "count": 0
           },
           {
            "bin_start": 0.20000000000000007,
            "bin_end": 0.30000000000000004,
            "count": 0
           },
           {
            "bin_start": 0.30000000000000004,
            "bin_end": 0.4,
            "count": 0
           },
           {
            "bin_start": 0.4,
            "bin_end": 0.5,
            "count": 0
           }
          ]
         }
        },
        {
         "name": "Latitude",
         "dtype": "int64",
         "stats": {
          "unique_count": 1,
          "nan_count": 0,
          "min": "584",
          "max": "584",
          "histogram": [
           {
            "bin_start": 583.5,
            "bin_end": 583.6,
            "count": 0
           },
           {
            "bin_start": 583.6,
            "bin_end": 583.7,
            "count": 0
           },
           {
            "bin_start": 583.7,
            "bin_end": 583.8,
            "count": 0
           },
           {
            "bin_start": 583.8,
            "bin_end": 583.9,
            "count": 0
           },
           {
            "bin_start": 583.9,
            "bin_end": 584,
            "count": 0
           },
           {
            "bin_start": 584,
            "bin_end": 584.1,
            "count": 1
           },
           {
            "bin_start": 584.1,
            "bin_end": 584.2,
            "count": 0
           },
           {
            "bin_start": 584.2,
            "bin_end": 584.3,
            "count": 0
           },
           {
            "bin_start": 584.3,
            "bin_end": 584.4,
            "count": 0
           },
           {
            "bin_start": 584.4,
            "bin_end": 584.5,
            "count": 0
           }
          ]
         }
        },
        {
         "name": "Longitude",
         "dtype": "int64",
         "stats": {
          "unique_count": 1,
          "nan_count": 0,
          "min": "584",
          "max": "584",
          "histogram": [
           {
            "bin_start": 583.5,
            "bin_end": 583.6,
            "count": 0
           },
           {
            "bin_start": 583.6,
            "bin_end": 583.7,
            "count": 0
           },
           {
            "bin_start": 583.7,
            "bin_end": 583.8,
            "count": 0
           },
           {
            "bin_start": 583.8,
            "bin_end": 583.9,
            "count": 0
           },
           {
            "bin_start": 583.9,
            "bin_end": 584,
            "count": 0
           },
           {
            "bin_start": 584,
            "bin_end": 584.1,
            "count": 1
           },
           {
            "bin_start": 584.1,
            "bin_end": 584.2,
            "count": 0
           },
           {
            "bin_start": 584.2,
            "bin_end": 584.3,
            "count": 0
           },
           {
            "bin_start": 584.3,
            "bin_end": 584.4,
            "count": 0
           },
           {
            "bin_start": 584.4,
            "bin_end": 584.5,
            "count": 0
           }
          ]
         }
        },
        {
         "name": "_deepnote_index_column",
         "dtype": "object"
        }
       ],
       "rows_top": [
        {
         "Time": 0,
         "Latitude": 584,
         "Longitude": 584,
         "_deepnote_index_column": "2011-09-07"
        }
       ],
       "rows_bottom": null
      },
      "text/plain": "            Time  Latitude  Longitude\nDate                                 \n2011-09-07     0       584        584",
      "text/html": "<div>\n<style scoped>\n    .dataframe tbody tr th:only-of-type {\n        vertical-align: middle;\n    }\n\n    .dataframe tbody tr th {\n        vertical-align: top;\n    }\n\n    .dataframe thead th {\n        text-align: right;\n    }\n</style>\n<table border=\"1\" class=\"dataframe\">\n  <thead>\n    <tr style=\"text-align: right;\">\n      <th></th>\n      <th>Time</th>\n      <th>Latitude</th>\n      <th>Longitude</th>\n    </tr>\n    <tr>\n      <th>Date</th>\n      <th></th>\n      <th></th>\n      <th></th>\n    </tr>\n  </thead>\n  <tbody>\n    <tr>\n      <th>2011-09-07</th>\n      <td>0</td>\n      <td>584</td>\n      <td>584</td>\n    </tr>\n  </tbody>\n</table>\n</div>"
     },
     "metadata": {}
    }
   ]
  },
  {
   "cell_type": "markdown",
   "source": "There seem to be duplicates of this particular date (2011-09-07) after it was grouped.  To make sure, we will do a duplicate check.",
   "metadata": {
    "tags": [],
    "is_collapsed": false,
    "cell_id": "00074-0fb1478f-9dca-402d-9d29-008539926f7d",
    "deepnote_cell_type": "text-cell-p"
   }
  },
  {
   "cell_type": "code",
   "metadata": {
    "cell_id": "00073-4fb9b76c-e26f-4ace-b096-4934919f52b7",
    "deepnote_to_be_reexecuted": false,
    "source_hash": "cb341382",
    "execution_start": 1637218221670,
    "execution_millis": 148,
    "deepnote_cell_type": "code"
   },
   "source": "# check rows with duplicate values in 'Date' column\nspray_df[spray_df.duplicated(keep=False)]",
   "execution_count": null,
   "outputs": [
    {
     "output_type": "execute_result",
     "execution_count": 66,
     "data": {
      "application/vnd.deepnote.dataframe.v2+json": {
       "row_count": 543,
       "column_count": 4,
       "columns": [
        {
         "name": "Date",
         "dtype": "object",
         "stats": {
          "unique_count": 1,
          "nan_count": 0,
          "categories": [
           {
            "name": "2011-09-07",
            "count": 543
           }
          ]
         }
        },
        {
         "name": "Time",
         "dtype": "object",
         "stats": {
          "unique_count": 2,
          "nan_count": 0,
          "categories": [
           {
            "name": "7:44:32 PM",
            "count": 541
           },
           {
            "name": "7:43:40 PM",
            "count": 2
           }
          ]
         }
        },
        {
         "name": "Latitude",
         "dtype": "float64",
         "stats": {
          "unique_count": 2,
          "nan_count": 0,
          "min": "41.9839166666667",
          "max": "41.98646",
          "histogram": [
           {
            "bin_start": 41.9839166666667,
            "bin_end": 41.98417100000003,
            "count": 2
           },
           {
            "bin_start": 41.98417100000003,
            "bin_end": 41.98442533333336,
            "count": 0
           },
           {
            "bin_start": 41.98442533333336,
            "bin_end": 41.98467966666669,
            "count": 0
           },
           {
            "bin_start": 41.98467966666669,
            "bin_end": 41.984934000000024,
            "count": 0
           },
           {
            "bin_start": 41.984934000000024,
            "bin_end": 41.985188333333355,
            "count": 0
           },
           {
            "bin_start": 41.985188333333355,
            "bin_end": 41.98544266666668,
            "count": 0
           },
           {
            "bin_start": 41.98544266666668,
            "bin_end": 41.98569700000001,
            "count": 0
           },
           {
            "bin_start": 41.98569700000001,
            "bin_end": 41.98595133333334,
            "count": 0
           },
           {
            "bin_start": 41.98595133333334,
            "bin_end": 41.98620566666667,
            "count": 0
           },
           {
            "bin_start": 41.98620566666667,
            "bin_end": 41.98646,
            "count": 541
           }
          ]
         }
        },
        {
         "name": "Longitude",
         "dtype": "float64",
         "stats": {
          "unique_count": 2,
          "nan_count": 0,
          "min": "-87.794225",
          "max": "-87.7930883333333",
          "histogram": [
           {
            "bin_start": -87.794225,
            "bin_end": -87.79411133333333,
            "count": 541
           },
           {
            "bin_start": -87.79411133333333,
            "bin_end": -87.79399766666666,
            "count": 0
           },
           {
            "bin_start": -87.79399766666666,
            "bin_end": -87.79388399999999,
            "count": 0
           },
           {
            "bin_start": -87.79388399999999,
            "bin_end": -87.79377033333331,
            "count": 0
           },
           {
            "bin_start": -87.79377033333331,
            "bin_end": -87.79365666666665,
            "count": 0
           },
           {
            "bin_start": -87.79365666666665,
            "bin_end": -87.79354299999999,
            "count": 0
           },
           {
            "bin_start": -87.79354299999999,
            "bin_end": -87.79342933333331,
            "count": 0
           },
           {
            "bin_start": -87.79342933333331,
            "bin_end": -87.79331566666664,
            "count": 0
           },
           {
            "bin_start": -87.79331566666664,
            "bin_end": -87.79320199999997,
            "count": 0
           },
           {
            "bin_start": -87.79320199999997,
            "bin_end": -87.7930883333333,
            "count": 2
           }
          ]
         }
        },
        {
         "name": "_deepnote_index_column",
         "dtype": "int64"
        }
       ],
       "rows_top": [
        {
         "Date": "2011-09-07",
         "Time": "7:43:40 PM",
         "Latitude": 41.9839166666667,
         "Longitude": -87.7930883333333,
         "_deepnote_index_column": 484
        },
        {
         "Date": "2011-09-07",
         "Time": "7:43:40 PM",
         "Latitude": 41.9839166666667,
         "Longitude": -87.7930883333333,
         "_deepnote_index_column": 485
        },
        {
         "Date": "2011-09-07",
         "Time": "7:44:32 PM",
         "Latitude": 41.98646,
         "Longitude": -87.794225,
         "_deepnote_index_column": 489
        },
        {
         "Date": "2011-09-07",
         "Time": "7:44:32 PM",
         "Latitude": 41.98646,
         "Longitude": -87.794225,
         "_deepnote_index_column": 490
        },
        {
         "Date": "2011-09-07",
         "Time": "7:44:32 PM",
         "Latitude": 41.98646,
         "Longitude": -87.794225,
         "_deepnote_index_column": 491
        },
        {
         "Date": "2011-09-07",
         "Time": "7:44:32 PM",
         "Latitude": 41.98646,
         "Longitude": -87.794225,
         "_deepnote_index_column": 492
        },
        {
         "Date": "2011-09-07",
         "Time": "7:44:32 PM",
         "Latitude": 41.98646,
         "Longitude": -87.794225,
         "_deepnote_index_column": 493
        },
        {
         "Date": "2011-09-07",
         "Time": "7:44:32 PM",
         "Latitude": 41.98646,
         "Longitude": -87.794225,
         "_deepnote_index_column": 494
        },
        {
         "Date": "2011-09-07",
         "Time": "7:44:32 PM",
         "Latitude": 41.98646,
         "Longitude": -87.794225,
         "_deepnote_index_column": 495
        },
        {
         "Date": "2011-09-07",
         "Time": "7:44:32 PM",
         "Latitude": 41.98646,
         "Longitude": -87.794225,
         "_deepnote_index_column": 496
        },
        {
         "Date": "2011-09-07",
         "Time": "7:44:32 PM",
         "Latitude": 41.98646,
         "Longitude": -87.794225,
         "_deepnote_index_column": 497
        },
        {
         "Date": "2011-09-07",
         "Time": "7:44:32 PM",
         "Latitude": 41.98646,
         "Longitude": -87.794225,
         "_deepnote_index_column": 498
        },
        {
         "Date": "2011-09-07",
         "Time": "7:44:32 PM",
         "Latitude": 41.98646,
         "Longitude": -87.794225,
         "_deepnote_index_column": 499
        },
        {
         "Date": "2011-09-07",
         "Time": "7:44:32 PM",
         "Latitude": 41.98646,
         "Longitude": -87.794225,
         "_deepnote_index_column": 500
        },
        {
         "Date": "2011-09-07",
         "Time": "7:44:32 PM",
         "Latitude": 41.98646,
         "Longitude": -87.794225,
         "_deepnote_index_column": 501
        },
        {
         "Date": "2011-09-07",
         "Time": "7:44:32 PM",
         "Latitude": 41.98646,
         "Longitude": -87.794225,
         "_deepnote_index_column": 502
        },
        {
         "Date": "2011-09-07",
         "Time": "7:44:32 PM",
         "Latitude": 41.98646,
         "Longitude": -87.794225,
         "_deepnote_index_column": 503
        },
        {
         "Date": "2011-09-07",
         "Time": "7:44:32 PM",
         "Latitude": 41.98646,
         "Longitude": -87.794225,
         "_deepnote_index_column": 504
        },
        {
         "Date": "2011-09-07",
         "Time": "7:44:32 PM",
         "Latitude": 41.98646,
         "Longitude": -87.794225,
         "_deepnote_index_column": 505
        },
        {
         "Date": "2011-09-07",
         "Time": "7:44:32 PM",
         "Latitude": 41.98646,
         "Longitude": -87.794225,
         "_deepnote_index_column": 506
        },
        {
         "Date": "2011-09-07",
         "Time": "7:44:32 PM",
         "Latitude": 41.98646,
         "Longitude": -87.794225,
         "_deepnote_index_column": 507
        },
        {
         "Date": "2011-09-07",
         "Time": "7:44:32 PM",
         "Latitude": 41.98646,
         "Longitude": -87.794225,
         "_deepnote_index_column": 508
        },
        {
         "Date": "2011-09-07",
         "Time": "7:44:32 PM",
         "Latitude": 41.98646,
         "Longitude": -87.794225,
         "_deepnote_index_column": 509
        },
        {
         "Date": "2011-09-07",
         "Time": "7:44:32 PM",
         "Latitude": 41.98646,
         "Longitude": -87.794225,
         "_deepnote_index_column": 510
        },
        {
         "Date": "2011-09-07",
         "Time": "7:44:32 PM",
         "Latitude": 41.98646,
         "Longitude": -87.794225,
         "_deepnote_index_column": 511
        },
        {
         "Date": "2011-09-07",
         "Time": "7:44:32 PM",
         "Latitude": 41.98646,
         "Longitude": -87.794225,
         "_deepnote_index_column": 512
        },
        {
         "Date": "2011-09-07",
         "Time": "7:44:32 PM",
         "Latitude": 41.98646,
         "Longitude": -87.794225,
         "_deepnote_index_column": 513
        },
        {
         "Date": "2011-09-07",
         "Time": "7:44:32 PM",
         "Latitude": 41.98646,
         "Longitude": -87.794225,
         "_deepnote_index_column": 514
        },
        {
         "Date": "2011-09-07",
         "Time": "7:44:32 PM",
         "Latitude": 41.98646,
         "Longitude": -87.794225,
         "_deepnote_index_column": 515
        },
        {
         "Date": "2011-09-07",
         "Time": "7:44:32 PM",
         "Latitude": 41.98646,
         "Longitude": -87.794225,
         "_deepnote_index_column": 516
        },
        {
         "Date": "2011-09-07",
         "Time": "7:44:32 PM",
         "Latitude": 41.98646,
         "Longitude": -87.794225,
         "_deepnote_index_column": 517
        },
        {
         "Date": "2011-09-07",
         "Time": "7:44:32 PM",
         "Latitude": 41.98646,
         "Longitude": -87.794225,
         "_deepnote_index_column": 518
        },
        {
         "Date": "2011-09-07",
         "Time": "7:44:32 PM",
         "Latitude": 41.98646,
         "Longitude": -87.794225,
         "_deepnote_index_column": 519
        },
        {
         "Date": "2011-09-07",
         "Time": "7:44:32 PM",
         "Latitude": 41.98646,
         "Longitude": -87.794225,
         "_deepnote_index_column": 520
        },
        {
         "Date": "2011-09-07",
         "Time": "7:44:32 PM",
         "Latitude": 41.98646,
         "Longitude": -87.794225,
         "_deepnote_index_column": 521
        },
        {
         "Date": "2011-09-07",
         "Time": "7:44:32 PM",
         "Latitude": 41.98646,
         "Longitude": -87.794225,
         "_deepnote_index_column": 522
        },
        {
         "Date": "2011-09-07",
         "Time": "7:44:32 PM",
         "Latitude": 41.98646,
         "Longitude": -87.794225,
         "_deepnote_index_column": 523
        },
        {
         "Date": "2011-09-07",
         "Time": "7:44:32 PM",
         "Latitude": 41.98646,
         "Longitude": -87.794225,
         "_deepnote_index_column": 524
        },
        {
         "Date": "2011-09-07",
         "Time": "7:44:32 PM",
         "Latitude": 41.98646,
         "Longitude": -87.794225,
         "_deepnote_index_column": 525
        },
        {
         "Date": "2011-09-07",
         "Time": "7:44:32 PM",
         "Latitude": 41.98646,
         "Longitude": -87.794225,
         "_deepnote_index_column": 526
        },
        {
         "Date": "2011-09-07",
         "Time": "7:44:32 PM",
         "Latitude": 41.98646,
         "Longitude": -87.794225,
         "_deepnote_index_column": 527
        },
        {
         "Date": "2011-09-07",
         "Time": "7:44:32 PM",
         "Latitude": 41.98646,
         "Longitude": -87.794225,
         "_deepnote_index_column": 528
        },
        {
         "Date": "2011-09-07",
         "Time": "7:44:32 PM",
         "Latitude": 41.98646,
         "Longitude": -87.794225,
         "_deepnote_index_column": 529
        },
        {
         "Date": "2011-09-07",
         "Time": "7:44:32 PM",
         "Latitude": 41.98646,
         "Longitude": -87.794225,
         "_deepnote_index_column": 530
        },
        {
         "Date": "2011-09-07",
         "Time": "7:44:32 PM",
         "Latitude": 41.98646,
         "Longitude": -87.794225,
         "_deepnote_index_column": 531
        },
        {
         "Date": "2011-09-07",
         "Time": "7:44:32 PM",
         "Latitude": 41.98646,
         "Longitude": -87.794225,
         "_deepnote_index_column": 532
        },
        {
         "Date": "2011-09-07",
         "Time": "7:44:32 PM",
         "Latitude": 41.98646,
         "Longitude": -87.794225,
         "_deepnote_index_column": 533
        },
        {
         "Date": "2011-09-07",
         "Time": "7:44:32 PM",
         "Latitude": 41.98646,
         "Longitude": -87.794225,
         "_deepnote_index_column": 534
        },
        {
         "Date": "2011-09-07",
         "Time": "7:44:32 PM",
         "Latitude": 41.98646,
         "Longitude": -87.794225,
         "_deepnote_index_column": 535
        },
        {
         "Date": "2011-09-07",
         "Time": "7:44:32 PM",
         "Latitude": 41.98646,
         "Longitude": -87.794225,
         "_deepnote_index_column": 536
        },
        {
         "Date": "2011-09-07",
         "Time": "7:44:32 PM",
         "Latitude": 41.98646,
         "Longitude": -87.794225,
         "_deepnote_index_column": 537
        },
        {
         "Date": "2011-09-07",
         "Time": "7:44:32 PM",
         "Latitude": 41.98646,
         "Longitude": -87.794225,
         "_deepnote_index_column": 538
        },
        {
         "Date": "2011-09-07",
         "Time": "7:44:32 PM",
         "Latitude": 41.98646,
         "Longitude": -87.794225,
         "_deepnote_index_column": 539
        },
        {
         "Date": "2011-09-07",
         "Time": "7:44:32 PM",
         "Latitude": 41.98646,
         "Longitude": -87.794225,
         "_deepnote_index_column": 540
        },
        {
         "Date": "2011-09-07",
         "Time": "7:44:32 PM",
         "Latitude": 41.98646,
         "Longitude": -87.794225,
         "_deepnote_index_column": 541
        },
        {
         "Date": "2011-09-07",
         "Time": "7:44:32 PM",
         "Latitude": 41.98646,
         "Longitude": -87.794225,
         "_deepnote_index_column": 542
        },
        {
         "Date": "2011-09-07",
         "Time": "7:44:32 PM",
         "Latitude": 41.98646,
         "Longitude": -87.794225,
         "_deepnote_index_column": 543
        },
        {
         "Date": "2011-09-07",
         "Time": "7:44:32 PM",
         "Latitude": 41.98646,
         "Longitude": -87.794225,
         "_deepnote_index_column": 544
        },
        {
         "Date": "2011-09-07",
         "Time": "7:44:32 PM",
         "Latitude": 41.98646,
         "Longitude": -87.794225,
         "_deepnote_index_column": 545
        },
        {
         "Date": "2011-09-07",
         "Time": "7:44:32 PM",
         "Latitude": 41.98646,
         "Longitude": -87.794225,
         "_deepnote_index_column": 546
        },
        {
         "Date": "2011-09-07",
         "Time": "7:44:32 PM",
         "Latitude": 41.98646,
         "Longitude": -87.794225,
         "_deepnote_index_column": 547
        },
        {
         "Date": "2011-09-07",
         "Time": "7:44:32 PM",
         "Latitude": 41.98646,
         "Longitude": -87.794225,
         "_deepnote_index_column": 548
        },
        {
         "Date": "2011-09-07",
         "Time": "7:44:32 PM",
         "Latitude": 41.98646,
         "Longitude": -87.794225,
         "_deepnote_index_column": 549
        },
        {
         "Date": "2011-09-07",
         "Time": "7:44:32 PM",
         "Latitude": 41.98646,
         "Longitude": -87.794225,
         "_deepnote_index_column": 550
        },
        {
         "Date": "2011-09-07",
         "Time": "7:44:32 PM",
         "Latitude": 41.98646,
         "Longitude": -87.794225,
         "_deepnote_index_column": 551
        },
        {
         "Date": "2011-09-07",
         "Time": "7:44:32 PM",
         "Latitude": 41.98646,
         "Longitude": -87.794225,
         "_deepnote_index_column": 552
        },
        {
         "Date": "2011-09-07",
         "Time": "7:44:32 PM",
         "Latitude": 41.98646,
         "Longitude": -87.794225,
         "_deepnote_index_column": 553
        },
        {
         "Date": "2011-09-07",
         "Time": "7:44:32 PM",
         "Latitude": 41.98646,
         "Longitude": -87.794225,
         "_deepnote_index_column": 554
        },
        {
         "Date": "2011-09-07",
         "Time": "7:44:32 PM",
         "Latitude": 41.98646,
         "Longitude": -87.794225,
         "_deepnote_index_column": 555
        },
        {
         "Date": "2011-09-07",
         "Time": "7:44:32 PM",
         "Latitude": 41.98646,
         "Longitude": -87.794225,
         "_deepnote_index_column": 556
        },
        {
         "Date": "2011-09-07",
         "Time": "7:44:32 PM",
         "Latitude": 41.98646,
         "Longitude": -87.794225,
         "_deepnote_index_column": 557
        },
        {
         "Date": "2011-09-07",
         "Time": "7:44:32 PM",
         "Latitude": 41.98646,
         "Longitude": -87.794225,
         "_deepnote_index_column": 558
        },
        {
         "Date": "2011-09-07",
         "Time": "7:44:32 PM",
         "Latitude": 41.98646,
         "Longitude": -87.794225,
         "_deepnote_index_column": 559
        },
        {
         "Date": "2011-09-07",
         "Time": "7:44:32 PM",
         "Latitude": 41.98646,
         "Longitude": -87.794225,
         "_deepnote_index_column": 560
        },
        {
         "Date": "2011-09-07",
         "Time": "7:44:32 PM",
         "Latitude": 41.98646,
         "Longitude": -87.794225,
         "_deepnote_index_column": 561
        },
        {
         "Date": "2011-09-07",
         "Time": "7:44:32 PM",
         "Latitude": 41.98646,
         "Longitude": -87.794225,
         "_deepnote_index_column": 562
        },
        {
         "Date": "2011-09-07",
         "Time": "7:44:32 PM",
         "Latitude": 41.98646,
         "Longitude": -87.794225,
         "_deepnote_index_column": 563
        },
        {
         "Date": "2011-09-07",
         "Time": "7:44:32 PM",
         "Latitude": 41.98646,
         "Longitude": -87.794225,
         "_deepnote_index_column": 564
        },
        {
         "Date": "2011-09-07",
         "Time": "7:44:32 PM",
         "Latitude": 41.98646,
         "Longitude": -87.794225,
         "_deepnote_index_column": 565
        },
        {
         "Date": "2011-09-07",
         "Time": "7:44:32 PM",
         "Latitude": 41.98646,
         "Longitude": -87.794225,
         "_deepnote_index_column": 566
        },
        {
         "Date": "2011-09-07",
         "Time": "7:44:32 PM",
         "Latitude": 41.98646,
         "Longitude": -87.794225,
         "_deepnote_index_column": 567
        },
        {
         "Date": "2011-09-07",
         "Time": "7:44:32 PM",
         "Latitude": 41.98646,
         "Longitude": -87.794225,
         "_deepnote_index_column": 568
        },
        {
         "Date": "2011-09-07",
         "Time": "7:44:32 PM",
         "Latitude": 41.98646,
         "Longitude": -87.794225,
         "_deepnote_index_column": 569
        },
        {
         "Date": "2011-09-07",
         "Time": "7:44:32 PM",
         "Latitude": 41.98646,
         "Longitude": -87.794225,
         "_deepnote_index_column": 570
        },
        {
         "Date": "2011-09-07",
         "Time": "7:44:32 PM",
         "Latitude": 41.98646,
         "Longitude": -87.794225,
         "_deepnote_index_column": 571
        },
        {
         "Date": "2011-09-07",
         "Time": "7:44:32 PM",
         "Latitude": 41.98646,
         "Longitude": -87.794225,
         "_deepnote_index_column": 572
        },
        {
         "Date": "2011-09-07",
         "Time": "7:44:32 PM",
         "Latitude": 41.98646,
         "Longitude": -87.794225,
         "_deepnote_index_column": 573
        },
        {
         "Date": "2011-09-07",
         "Time": "7:44:32 PM",
         "Latitude": 41.98646,
         "Longitude": -87.794225,
         "_deepnote_index_column": 574
        },
        {
         "Date": "2011-09-07",
         "Time": "7:44:32 PM",
         "Latitude": 41.98646,
         "Longitude": -87.794225,
         "_deepnote_index_column": 575
        },
        {
         "Date": "2011-09-07",
         "Time": "7:44:32 PM",
         "Latitude": 41.98646,
         "Longitude": -87.794225,
         "_deepnote_index_column": 576
        },
        {
         "Date": "2011-09-07",
         "Time": "7:44:32 PM",
         "Latitude": 41.98646,
         "Longitude": -87.794225,
         "_deepnote_index_column": 577
        },
        {
         "Date": "2011-09-07",
         "Time": "7:44:32 PM",
         "Latitude": 41.98646,
         "Longitude": -87.794225,
         "_deepnote_index_column": 578
        },
        {
         "Date": "2011-09-07",
         "Time": "7:44:32 PM",
         "Latitude": 41.98646,
         "Longitude": -87.794225,
         "_deepnote_index_column": 579
        },
        {
         "Date": "2011-09-07",
         "Time": "7:44:32 PM",
         "Latitude": 41.98646,
         "Longitude": -87.794225,
         "_deepnote_index_column": 580
        },
        {
         "Date": "2011-09-07",
         "Time": "7:44:32 PM",
         "Latitude": 41.98646,
         "Longitude": -87.794225,
         "_deepnote_index_column": 581
        },
        {
         "Date": "2011-09-07",
         "Time": "7:44:32 PM",
         "Latitude": 41.98646,
         "Longitude": -87.794225,
         "_deepnote_index_column": 582
        },
        {
         "Date": "2011-09-07",
         "Time": "7:44:32 PM",
         "Latitude": 41.98646,
         "Longitude": -87.794225,
         "_deepnote_index_column": 583
        },
        {
         "Date": "2011-09-07",
         "Time": "7:44:32 PM",
         "Latitude": 41.98646,
         "Longitude": -87.794225,
         "_deepnote_index_column": 584
        },
        {
         "Date": "2011-09-07",
         "Time": "7:44:32 PM",
         "Latitude": 41.98646,
         "Longitude": -87.794225,
         "_deepnote_index_column": 585
        },
        {
         "Date": "2011-09-07",
         "Time": "7:44:32 PM",
         "Latitude": 41.98646,
         "Longitude": -87.794225,
         "_deepnote_index_column": 586
        },
        {
         "Date": "2011-09-07",
         "Time": "7:44:32 PM",
         "Latitude": 41.98646,
         "Longitude": -87.794225,
         "_deepnote_index_column": 587
        },
        {
         "Date": "2011-09-07",
         "Time": "7:44:32 PM",
         "Latitude": 41.98646,
         "Longitude": -87.794225,
         "_deepnote_index_column": 588
        },
        {
         "Date": "2011-09-07",
         "Time": "7:44:32 PM",
         "Latitude": 41.98646,
         "Longitude": -87.794225,
         "_deepnote_index_column": 589
        },
        {
         "Date": "2011-09-07",
         "Time": "7:44:32 PM",
         "Latitude": 41.98646,
         "Longitude": -87.794225,
         "_deepnote_index_column": 590
        },
        {
         "Date": "2011-09-07",
         "Time": "7:44:32 PM",
         "Latitude": 41.98646,
         "Longitude": -87.794225,
         "_deepnote_index_column": 591
        },
        {
         "Date": "2011-09-07",
         "Time": "7:44:32 PM",
         "Latitude": 41.98646,
         "Longitude": -87.794225,
         "_deepnote_index_column": 592
        },
        {
         "Date": "2011-09-07",
         "Time": "7:44:32 PM",
         "Latitude": 41.98646,
         "Longitude": -87.794225,
         "_deepnote_index_column": 593
        },
        {
         "Date": "2011-09-07",
         "Time": "7:44:32 PM",
         "Latitude": 41.98646,
         "Longitude": -87.794225,
         "_deepnote_index_column": 594
        },
        {
         "Date": "2011-09-07",
         "Time": "7:44:32 PM",
         "Latitude": 41.98646,
         "Longitude": -87.794225,
         "_deepnote_index_column": 595
        },
        {
         "Date": "2011-09-07",
         "Time": "7:44:32 PM",
         "Latitude": 41.98646,
         "Longitude": -87.794225,
         "_deepnote_index_column": 596
        },
        {
         "Date": "2011-09-07",
         "Time": "7:44:32 PM",
         "Latitude": 41.98646,
         "Longitude": -87.794225,
         "_deepnote_index_column": 597
        },
        {
         "Date": "2011-09-07",
         "Time": "7:44:32 PM",
         "Latitude": 41.98646,
         "Longitude": -87.794225,
         "_deepnote_index_column": 598
        },
        {
         "Date": "2011-09-07",
         "Time": "7:44:32 PM",
         "Latitude": 41.98646,
         "Longitude": -87.794225,
         "_deepnote_index_column": 599
        },
        {
         "Date": "2011-09-07",
         "Time": "7:44:32 PM",
         "Latitude": 41.98646,
         "Longitude": -87.794225,
         "_deepnote_index_column": 600
        },
        {
         "Date": "2011-09-07",
         "Time": "7:44:32 PM",
         "Latitude": 41.98646,
         "Longitude": -87.794225,
         "_deepnote_index_column": 601
        },
        {
         "Date": "2011-09-07",
         "Time": "7:44:32 PM",
         "Latitude": 41.98646,
         "Longitude": -87.794225,
         "_deepnote_index_column": 602
        },
        {
         "Date": "2011-09-07",
         "Time": "7:44:32 PM",
         "Latitude": 41.98646,
         "Longitude": -87.794225,
         "_deepnote_index_column": 603
        },
        {
         "Date": "2011-09-07",
         "Time": "7:44:32 PM",
         "Latitude": 41.98646,
         "Longitude": -87.794225,
         "_deepnote_index_column": 604
        },
        {
         "Date": "2011-09-07",
         "Time": "7:44:32 PM",
         "Latitude": 41.98646,
         "Longitude": -87.794225,
         "_deepnote_index_column": 605
        },
        {
         "Date": "2011-09-07",
         "Time": "7:44:32 PM",
         "Latitude": 41.98646,
         "Longitude": -87.794225,
         "_deepnote_index_column": 606
        },
        {
         "Date": "2011-09-07",
         "Time": "7:44:32 PM",
         "Latitude": 41.98646,
         "Longitude": -87.794225,
         "_deepnote_index_column": 607
        },
        {
         "Date": "2011-09-07",
         "Time": "7:44:32 PM",
         "Latitude": 41.98646,
         "Longitude": -87.794225,
         "_deepnote_index_column": 608
        },
        {
         "Date": "2011-09-07",
         "Time": "7:44:32 PM",
         "Latitude": 41.98646,
         "Longitude": -87.794225,
         "_deepnote_index_column": 609
        },
        {
         "Date": "2011-09-07",
         "Time": "7:44:32 PM",
         "Latitude": 41.98646,
         "Longitude": -87.794225,
         "_deepnote_index_column": 610
        },
        {
         "Date": "2011-09-07",
         "Time": "7:44:32 PM",
         "Latitude": 41.98646,
         "Longitude": -87.794225,
         "_deepnote_index_column": 611
        }
       ],
       "rows_bottom": [
        {
         "Date": "2011-09-07",
         "Time": "7:44:32 PM",
         "Latitude": 41.98646,
         "Longitude": -87.794225,
         "_deepnote_index_column": 905
        },
        {
         "Date": "2011-09-07",
         "Time": "7:44:32 PM",
         "Latitude": 41.98646,
         "Longitude": -87.794225,
         "_deepnote_index_column": 906
        },
        {
         "Date": "2011-09-07",
         "Time": "7:44:32 PM",
         "Latitude": 41.98646,
         "Longitude": -87.794225,
         "_deepnote_index_column": 907
        },
        {
         "Date": "2011-09-07",
         "Time": "7:44:32 PM",
         "Latitude": 41.98646,
         "Longitude": -87.794225,
         "_deepnote_index_column": 908
        },
        {
         "Date": "2011-09-07",
         "Time": "7:44:32 PM",
         "Latitude": 41.98646,
         "Longitude": -87.794225,
         "_deepnote_index_column": 909
        },
        {
         "Date": "2011-09-07",
         "Time": "7:44:32 PM",
         "Latitude": 41.98646,
         "Longitude": -87.794225,
         "_deepnote_index_column": 910
        },
        {
         "Date": "2011-09-07",
         "Time": "7:44:32 PM",
         "Latitude": 41.98646,
         "Longitude": -87.794225,
         "_deepnote_index_column": 911
        },
        {
         "Date": "2011-09-07",
         "Time": "7:44:32 PM",
         "Latitude": 41.98646,
         "Longitude": -87.794225,
         "_deepnote_index_column": 912
        },
        {
         "Date": "2011-09-07",
         "Time": "7:44:32 PM",
         "Latitude": 41.98646,
         "Longitude": -87.794225,
         "_deepnote_index_column": 913
        },
        {
         "Date": "2011-09-07",
         "Time": "7:44:32 PM",
         "Latitude": 41.98646,
         "Longitude": -87.794225,
         "_deepnote_index_column": 914
        },
        {
         "Date": "2011-09-07",
         "Time": "7:44:32 PM",
         "Latitude": 41.98646,
         "Longitude": -87.794225,
         "_deepnote_index_column": 915
        },
        {
         "Date": "2011-09-07",
         "Time": "7:44:32 PM",
         "Latitude": 41.98646,
         "Longitude": -87.794225,
         "_deepnote_index_column": 916
        },
        {
         "Date": "2011-09-07",
         "Time": "7:44:32 PM",
         "Latitude": 41.98646,
         "Longitude": -87.794225,
         "_deepnote_index_column": 917
        },
        {
         "Date": "2011-09-07",
         "Time": "7:44:32 PM",
         "Latitude": 41.98646,
         "Longitude": -87.794225,
         "_deepnote_index_column": 918
        },
        {
         "Date": "2011-09-07",
         "Time": "7:44:32 PM",
         "Latitude": 41.98646,
         "Longitude": -87.794225,
         "_deepnote_index_column": 919
        },
        {
         "Date": "2011-09-07",
         "Time": "7:44:32 PM",
         "Latitude": 41.98646,
         "Longitude": -87.794225,
         "_deepnote_index_column": 920
        },
        {
         "Date": "2011-09-07",
         "Time": "7:44:32 PM",
         "Latitude": 41.98646,
         "Longitude": -87.794225,
         "_deepnote_index_column": 921
        },
        {
         "Date": "2011-09-07",
         "Time": "7:44:32 PM",
         "Latitude": 41.98646,
         "Longitude": -87.794225,
         "_deepnote_index_column": 922
        },
        {
         "Date": "2011-09-07",
         "Time": "7:44:32 PM",
         "Latitude": 41.98646,
         "Longitude": -87.794225,
         "_deepnote_index_column": 923
        },
        {
         "Date": "2011-09-07",
         "Time": "7:44:32 PM",
         "Latitude": 41.98646,
         "Longitude": -87.794225,
         "_deepnote_index_column": 924
        },
        {
         "Date": "2011-09-07",
         "Time": "7:44:32 PM",
         "Latitude": 41.98646,
         "Longitude": -87.794225,
         "_deepnote_index_column": 925
        },
        {
         "Date": "2011-09-07",
         "Time": "7:44:32 PM",
         "Latitude": 41.98646,
         "Longitude": -87.794225,
         "_deepnote_index_column": 926
        },
        {
         "Date": "2011-09-07",
         "Time": "7:44:32 PM",
         "Latitude": 41.98646,
         "Longitude": -87.794225,
         "_deepnote_index_column": 927
        },
        {
         "Date": "2011-09-07",
         "Time": "7:44:32 PM",
         "Latitude": 41.98646,
         "Longitude": -87.794225,
         "_deepnote_index_column": 928
        },
        {
         "Date": "2011-09-07",
         "Time": "7:44:32 PM",
         "Latitude": 41.98646,
         "Longitude": -87.794225,
         "_deepnote_index_column": 929
        },
        {
         "Date": "2011-09-07",
         "Time": "7:44:32 PM",
         "Latitude": 41.98646,
         "Longitude": -87.794225,
         "_deepnote_index_column": 930
        },
        {
         "Date": "2011-09-07",
         "Time": "7:44:32 PM",
         "Latitude": 41.98646,
         "Longitude": -87.794225,
         "_deepnote_index_column": 931
        },
        {
         "Date": "2011-09-07",
         "Time": "7:44:32 PM",
         "Latitude": 41.98646,
         "Longitude": -87.794225,
         "_deepnote_index_column": 932
        },
        {
         "Date": "2011-09-07",
         "Time": "7:44:32 PM",
         "Latitude": 41.98646,
         "Longitude": -87.794225,
         "_deepnote_index_column": 933
        },
        {
         "Date": "2011-09-07",
         "Time": "7:44:32 PM",
         "Latitude": 41.98646,
         "Longitude": -87.794225,
         "_deepnote_index_column": 934
        },
        {
         "Date": "2011-09-07",
         "Time": "7:44:32 PM",
         "Latitude": 41.98646,
         "Longitude": -87.794225,
         "_deepnote_index_column": 935
        },
        {
         "Date": "2011-09-07",
         "Time": "7:44:32 PM",
         "Latitude": 41.98646,
         "Longitude": -87.794225,
         "_deepnote_index_column": 936
        },
        {
         "Date": "2011-09-07",
         "Time": "7:44:32 PM",
         "Latitude": 41.98646,
         "Longitude": -87.794225,
         "_deepnote_index_column": 937
        },
        {
         "Date": "2011-09-07",
         "Time": "7:44:32 PM",
         "Latitude": 41.98646,
         "Longitude": -87.794225,
         "_deepnote_index_column": 938
        },
        {
         "Date": "2011-09-07",
         "Time": "7:44:32 PM",
         "Latitude": 41.98646,
         "Longitude": -87.794225,
         "_deepnote_index_column": 939
        },
        {
         "Date": "2011-09-07",
         "Time": "7:44:32 PM",
         "Latitude": 41.98646,
         "Longitude": -87.794225,
         "_deepnote_index_column": 940
        },
        {
         "Date": "2011-09-07",
         "Time": "7:44:32 PM",
         "Latitude": 41.98646,
         "Longitude": -87.794225,
         "_deepnote_index_column": 941
        },
        {
         "Date": "2011-09-07",
         "Time": "7:44:32 PM",
         "Latitude": 41.98646,
         "Longitude": -87.794225,
         "_deepnote_index_column": 942
        },
        {
         "Date": "2011-09-07",
         "Time": "7:44:32 PM",
         "Latitude": 41.98646,
         "Longitude": -87.794225,
         "_deepnote_index_column": 943
        },
        {
         "Date": "2011-09-07",
         "Time": "7:44:32 PM",
         "Latitude": 41.98646,
         "Longitude": -87.794225,
         "_deepnote_index_column": 944
        },
        {
         "Date": "2011-09-07",
         "Time": "7:44:32 PM",
         "Latitude": 41.98646,
         "Longitude": -87.794225,
         "_deepnote_index_column": 945
        },
        {
         "Date": "2011-09-07",
         "Time": "7:44:32 PM",
         "Latitude": 41.98646,
         "Longitude": -87.794225,
         "_deepnote_index_column": 946
        },
        {
         "Date": "2011-09-07",
         "Time": "7:44:32 PM",
         "Latitude": 41.98646,
         "Longitude": -87.794225,
         "_deepnote_index_column": 947
        },
        {
         "Date": "2011-09-07",
         "Time": "7:44:32 PM",
         "Latitude": 41.98646,
         "Longitude": -87.794225,
         "_deepnote_index_column": 948
        },
        {
         "Date": "2011-09-07",
         "Time": "7:44:32 PM",
         "Latitude": 41.98646,
         "Longitude": -87.794225,
         "_deepnote_index_column": 949
        },
        {
         "Date": "2011-09-07",
         "Time": "7:44:32 PM",
         "Latitude": 41.98646,
         "Longitude": -87.794225,
         "_deepnote_index_column": 950
        },
        {
         "Date": "2011-09-07",
         "Time": "7:44:32 PM",
         "Latitude": 41.98646,
         "Longitude": -87.794225,
         "_deepnote_index_column": 951
        },
        {
         "Date": "2011-09-07",
         "Time": "7:44:32 PM",
         "Latitude": 41.98646,
         "Longitude": -87.794225,
         "_deepnote_index_column": 952
        },
        {
         "Date": "2011-09-07",
         "Time": "7:44:32 PM",
         "Latitude": 41.98646,
         "Longitude": -87.794225,
         "_deepnote_index_column": 953
        },
        {
         "Date": "2011-09-07",
         "Time": "7:44:32 PM",
         "Latitude": 41.98646,
         "Longitude": -87.794225,
         "_deepnote_index_column": 954
        },
        {
         "Date": "2011-09-07",
         "Time": "7:44:32 PM",
         "Latitude": 41.98646,
         "Longitude": -87.794225,
         "_deepnote_index_column": 955
        },
        {
         "Date": "2011-09-07",
         "Time": "7:44:32 PM",
         "Latitude": 41.98646,
         "Longitude": -87.794225,
         "_deepnote_index_column": 956
        },
        {
         "Date": "2011-09-07",
         "Time": "7:44:32 PM",
         "Latitude": 41.98646,
         "Longitude": -87.794225,
         "_deepnote_index_column": 957
        },
        {
         "Date": "2011-09-07",
         "Time": "7:44:32 PM",
         "Latitude": 41.98646,
         "Longitude": -87.794225,
         "_deepnote_index_column": 958
        },
        {
         "Date": "2011-09-07",
         "Time": "7:44:32 PM",
         "Latitude": 41.98646,
         "Longitude": -87.794225,
         "_deepnote_index_column": 959
        },
        {
         "Date": "2011-09-07",
         "Time": "7:44:32 PM",
         "Latitude": 41.98646,
         "Longitude": -87.794225,
         "_deepnote_index_column": 960
        },
        {
         "Date": "2011-09-07",
         "Time": "7:44:32 PM",
         "Latitude": 41.98646,
         "Longitude": -87.794225,
         "_deepnote_index_column": 961
        },
        {
         "Date": "2011-09-07",
         "Time": "7:44:32 PM",
         "Latitude": 41.98646,
         "Longitude": -87.794225,
         "_deepnote_index_column": 962
        },
        {
         "Date": "2011-09-07",
         "Time": "7:44:32 PM",
         "Latitude": 41.98646,
         "Longitude": -87.794225,
         "_deepnote_index_column": 963
        },
        {
         "Date": "2011-09-07",
         "Time": "7:44:32 PM",
         "Latitude": 41.98646,
         "Longitude": -87.794225,
         "_deepnote_index_column": 964
        },
        {
         "Date": "2011-09-07",
         "Time": "7:44:32 PM",
         "Latitude": 41.98646,
         "Longitude": -87.794225,
         "_deepnote_index_column": 965
        },
        {
         "Date": "2011-09-07",
         "Time": "7:44:32 PM",
         "Latitude": 41.98646,
         "Longitude": -87.794225,
         "_deepnote_index_column": 966
        },
        {
         "Date": "2011-09-07",
         "Time": "7:44:32 PM",
         "Latitude": 41.98646,
         "Longitude": -87.794225,
         "_deepnote_index_column": 967
        },
        {
         "Date": "2011-09-07",
         "Time": "7:44:32 PM",
         "Latitude": 41.98646,
         "Longitude": -87.794225,
         "_deepnote_index_column": 968
        },
        {
         "Date": "2011-09-07",
         "Time": "7:44:32 PM",
         "Latitude": 41.98646,
         "Longitude": -87.794225,
         "_deepnote_index_column": 969
        },
        {
         "Date": "2011-09-07",
         "Time": "7:44:32 PM",
         "Latitude": 41.98646,
         "Longitude": -87.794225,
         "_deepnote_index_column": 970
        },
        {
         "Date": "2011-09-07",
         "Time": "7:44:32 PM",
         "Latitude": 41.98646,
         "Longitude": -87.794225,
         "_deepnote_index_column": 971
        },
        {
         "Date": "2011-09-07",
         "Time": "7:44:32 PM",
         "Latitude": 41.98646,
         "Longitude": -87.794225,
         "_deepnote_index_column": 972
        },
        {
         "Date": "2011-09-07",
         "Time": "7:44:32 PM",
         "Latitude": 41.98646,
         "Longitude": -87.794225,
         "_deepnote_index_column": 973
        },
        {
         "Date": "2011-09-07",
         "Time": "7:44:32 PM",
         "Latitude": 41.98646,
         "Longitude": -87.794225,
         "_deepnote_index_column": 974
        },
        {
         "Date": "2011-09-07",
         "Time": "7:44:32 PM",
         "Latitude": 41.98646,
         "Longitude": -87.794225,
         "_deepnote_index_column": 975
        },
        {
         "Date": "2011-09-07",
         "Time": "7:44:32 PM",
         "Latitude": 41.98646,
         "Longitude": -87.794225,
         "_deepnote_index_column": 976
        },
        {
         "Date": "2011-09-07",
         "Time": "7:44:32 PM",
         "Latitude": 41.98646,
         "Longitude": -87.794225,
         "_deepnote_index_column": 977
        },
        {
         "Date": "2011-09-07",
         "Time": "7:44:32 PM",
         "Latitude": 41.98646,
         "Longitude": -87.794225,
         "_deepnote_index_column": 978
        },
        {
         "Date": "2011-09-07",
         "Time": "7:44:32 PM",
         "Latitude": 41.98646,
         "Longitude": -87.794225,
         "_deepnote_index_column": 979
        },
        {
         "Date": "2011-09-07",
         "Time": "7:44:32 PM",
         "Latitude": 41.98646,
         "Longitude": -87.794225,
         "_deepnote_index_column": 980
        },
        {
         "Date": "2011-09-07",
         "Time": "7:44:32 PM",
         "Latitude": 41.98646,
         "Longitude": -87.794225,
         "_deepnote_index_column": 981
        },
        {
         "Date": "2011-09-07",
         "Time": "7:44:32 PM",
         "Latitude": 41.98646,
         "Longitude": -87.794225,
         "_deepnote_index_column": 982
        },
        {
         "Date": "2011-09-07",
         "Time": "7:44:32 PM",
         "Latitude": 41.98646,
         "Longitude": -87.794225,
         "_deepnote_index_column": 983
        },
        {
         "Date": "2011-09-07",
         "Time": "7:44:32 PM",
         "Latitude": 41.98646,
         "Longitude": -87.794225,
         "_deepnote_index_column": 984
        },
        {
         "Date": "2011-09-07",
         "Time": "7:44:32 PM",
         "Latitude": 41.98646,
         "Longitude": -87.794225,
         "_deepnote_index_column": 985
        },
        {
         "Date": "2011-09-07",
         "Time": "7:44:32 PM",
         "Latitude": 41.98646,
         "Longitude": -87.794225,
         "_deepnote_index_column": 986
        },
        {
         "Date": "2011-09-07",
         "Time": "7:44:32 PM",
         "Latitude": 41.98646,
         "Longitude": -87.794225,
         "_deepnote_index_column": 987
        },
        {
         "Date": "2011-09-07",
         "Time": "7:44:32 PM",
         "Latitude": 41.98646,
         "Longitude": -87.794225,
         "_deepnote_index_column": 988
        },
        {
         "Date": "2011-09-07",
         "Time": "7:44:32 PM",
         "Latitude": 41.98646,
         "Longitude": -87.794225,
         "_deepnote_index_column": 989
        },
        {
         "Date": "2011-09-07",
         "Time": "7:44:32 PM",
         "Latitude": 41.98646,
         "Longitude": -87.794225,
         "_deepnote_index_column": 990
        },
        {
         "Date": "2011-09-07",
         "Time": "7:44:32 PM",
         "Latitude": 41.98646,
         "Longitude": -87.794225,
         "_deepnote_index_column": 991
        },
        {
         "Date": "2011-09-07",
         "Time": "7:44:32 PM",
         "Latitude": 41.98646,
         "Longitude": -87.794225,
         "_deepnote_index_column": 992
        },
        {
         "Date": "2011-09-07",
         "Time": "7:44:32 PM",
         "Latitude": 41.98646,
         "Longitude": -87.794225,
         "_deepnote_index_column": 993
        },
        {
         "Date": "2011-09-07",
         "Time": "7:44:32 PM",
         "Latitude": 41.98646,
         "Longitude": -87.794225,
         "_deepnote_index_column": 994
        },
        {
         "Date": "2011-09-07",
         "Time": "7:44:32 PM",
         "Latitude": 41.98646,
         "Longitude": -87.794225,
         "_deepnote_index_column": 995
        },
        {
         "Date": "2011-09-07",
         "Time": "7:44:32 PM",
         "Latitude": 41.98646,
         "Longitude": -87.794225,
         "_deepnote_index_column": 996
        },
        {
         "Date": "2011-09-07",
         "Time": "7:44:32 PM",
         "Latitude": 41.98646,
         "Longitude": -87.794225,
         "_deepnote_index_column": 997
        },
        {
         "Date": "2011-09-07",
         "Time": "7:44:32 PM",
         "Latitude": 41.98646,
         "Longitude": -87.794225,
         "_deepnote_index_column": 998
        },
        {
         "Date": "2011-09-07",
         "Time": "7:44:32 PM",
         "Latitude": 41.98646,
         "Longitude": -87.794225,
         "_deepnote_index_column": 999
        },
        {
         "Date": "2011-09-07",
         "Time": "7:44:32 PM",
         "Latitude": 41.98646,
         "Longitude": -87.794225,
         "_deepnote_index_column": 1000
        },
        {
         "Date": "2011-09-07",
         "Time": "7:44:32 PM",
         "Latitude": 41.98646,
         "Longitude": -87.794225,
         "_deepnote_index_column": 1001
        },
        {
         "Date": "2011-09-07",
         "Time": "7:44:32 PM",
         "Latitude": 41.98646,
         "Longitude": -87.794225,
         "_deepnote_index_column": 1002
        },
        {
         "Date": "2011-09-07",
         "Time": "7:44:32 PM",
         "Latitude": 41.98646,
         "Longitude": -87.794225,
         "_deepnote_index_column": 1003
        },
        {
         "Date": "2011-09-07",
         "Time": "7:44:32 PM",
         "Latitude": 41.98646,
         "Longitude": -87.794225,
         "_deepnote_index_column": 1004
        },
        {
         "Date": "2011-09-07",
         "Time": "7:44:32 PM",
         "Latitude": 41.98646,
         "Longitude": -87.794225,
         "_deepnote_index_column": 1005
        },
        {
         "Date": "2011-09-07",
         "Time": "7:44:32 PM",
         "Latitude": 41.98646,
         "Longitude": -87.794225,
         "_deepnote_index_column": 1006
        },
        {
         "Date": "2011-09-07",
         "Time": "7:44:32 PM",
         "Latitude": 41.98646,
         "Longitude": -87.794225,
         "_deepnote_index_column": 1007
        },
        {
         "Date": "2011-09-07",
         "Time": "7:44:32 PM",
         "Latitude": 41.98646,
         "Longitude": -87.794225,
         "_deepnote_index_column": 1008
        },
        {
         "Date": "2011-09-07",
         "Time": "7:44:32 PM",
         "Latitude": 41.98646,
         "Longitude": -87.794225,
         "_deepnote_index_column": 1009
        },
        {
         "Date": "2011-09-07",
         "Time": "7:44:32 PM",
         "Latitude": 41.98646,
         "Longitude": -87.794225,
         "_deepnote_index_column": 1010
        },
        {
         "Date": "2011-09-07",
         "Time": "7:44:32 PM",
         "Latitude": 41.98646,
         "Longitude": -87.794225,
         "_deepnote_index_column": 1011
        },
        {
         "Date": "2011-09-07",
         "Time": "7:44:32 PM",
         "Latitude": 41.98646,
         "Longitude": -87.794225,
         "_deepnote_index_column": 1012
        },
        {
         "Date": "2011-09-07",
         "Time": "7:44:32 PM",
         "Latitude": 41.98646,
         "Longitude": -87.794225,
         "_deepnote_index_column": 1013
        },
        {
         "Date": "2011-09-07",
         "Time": "7:44:32 PM",
         "Latitude": 41.98646,
         "Longitude": -87.794225,
         "_deepnote_index_column": 1014
        },
        {
         "Date": "2011-09-07",
         "Time": "7:44:32 PM",
         "Latitude": 41.98646,
         "Longitude": -87.794225,
         "_deepnote_index_column": 1015
        },
        {
         "Date": "2011-09-07",
         "Time": "7:44:32 PM",
         "Latitude": 41.98646,
         "Longitude": -87.794225,
         "_deepnote_index_column": 1016
        },
        {
         "Date": "2011-09-07",
         "Time": "7:44:32 PM",
         "Latitude": 41.98646,
         "Longitude": -87.794225,
         "_deepnote_index_column": 1017
        },
        {
         "Date": "2011-09-07",
         "Time": "7:44:32 PM",
         "Latitude": 41.98646,
         "Longitude": -87.794225,
         "_deepnote_index_column": 1018
        },
        {
         "Date": "2011-09-07",
         "Time": "7:44:32 PM",
         "Latitude": 41.98646,
         "Longitude": -87.794225,
         "_deepnote_index_column": 1019
        },
        {
         "Date": "2011-09-07",
         "Time": "7:44:32 PM",
         "Latitude": 41.98646,
         "Longitude": -87.794225,
         "_deepnote_index_column": 1020
        },
        {
         "Date": "2011-09-07",
         "Time": "7:44:32 PM",
         "Latitude": 41.98646,
         "Longitude": -87.794225,
         "_deepnote_index_column": 1021
        },
        {
         "Date": "2011-09-07",
         "Time": "7:44:32 PM",
         "Latitude": 41.98646,
         "Longitude": -87.794225,
         "_deepnote_index_column": 1022
        },
        {
         "Date": "2011-09-07",
         "Time": "7:44:32 PM",
         "Latitude": 41.98646,
         "Longitude": -87.794225,
         "_deepnote_index_column": 1023
        },
        {
         "Date": "2011-09-07",
         "Time": "7:44:32 PM",
         "Latitude": 41.98646,
         "Longitude": -87.794225,
         "_deepnote_index_column": 1024
        },
        {
         "Date": "2011-09-07",
         "Time": "7:44:32 PM",
         "Latitude": 41.98646,
         "Longitude": -87.794225,
         "_deepnote_index_column": 1025
        },
        {
         "Date": "2011-09-07",
         "Time": "7:44:32 PM",
         "Latitude": 41.98646,
         "Longitude": -87.794225,
         "_deepnote_index_column": 1026
        },
        {
         "Date": "2011-09-07",
         "Time": "7:44:32 PM",
         "Latitude": 41.98646,
         "Longitude": -87.794225,
         "_deepnote_index_column": 1027
        },
        {
         "Date": "2011-09-07",
         "Time": "7:44:32 PM",
         "Latitude": 41.98646,
         "Longitude": -87.794225,
         "_deepnote_index_column": 1028
        },
        {
         "Date": "2011-09-07",
         "Time": "7:44:32 PM",
         "Latitude": 41.98646,
         "Longitude": -87.794225,
         "_deepnote_index_column": 1029
        }
       ]
      },
      "text/plain": "            Date        Time   Latitude  Longitude\n484   2011-09-07  7:43:40 PM  41.983917 -87.793088\n485   2011-09-07  7:43:40 PM  41.983917 -87.793088\n489   2011-09-07  7:44:32 PM  41.986460 -87.794225\n490   2011-09-07  7:44:32 PM  41.986460 -87.794225\n491   2011-09-07  7:44:32 PM  41.986460 -87.794225\n492   2011-09-07  7:44:32 PM  41.986460 -87.794225\n493   2011-09-07  7:44:32 PM  41.986460 -87.794225\n494   2011-09-07  7:44:32 PM  41.986460 -87.794225\n495   2011-09-07  7:44:32 PM  41.986460 -87.794225\n496   2011-09-07  7:44:32 PM  41.986460 -87.794225\n497   2011-09-07  7:44:32 PM  41.986460 -87.794225\n498   2011-09-07  7:44:32 PM  41.986460 -87.794225\n499   2011-09-07  7:44:32 PM  41.986460 -87.794225\n500   2011-09-07  7:44:32 PM  41.986460 -87.794225\n501   2011-09-07  7:44:32 PM  41.986460 -87.794225\n502   2011-09-07  7:44:32 PM  41.986460 -87.794225\n503   2011-09-07  7:44:32 PM  41.986460 -87.794225\n504   2011-09-07  7:44:32 PM  41.986460 -87.794225\n505   2011-09-07  7:44:32 PM  41.986460 -87.794225\n506   2011-09-07  7:44:32 PM  41.986460 -87.794225\n507   2011-09-07  7:44:32 PM  41.986460 -87.794225\n508   2011-09-07  7:44:32 PM  41.986460 -87.794225\n509   2011-09-07  7:44:32 PM  41.986460 -87.794225\n510   2011-09-07  7:44:32 PM  41.986460 -87.794225\n511   2011-09-07  7:44:32 PM  41.986460 -87.794225\n512   2011-09-07  7:44:32 PM  41.986460 -87.794225\n513   2011-09-07  7:44:32 PM  41.986460 -87.794225\n514   2011-09-07  7:44:32 PM  41.986460 -87.794225\n515   2011-09-07  7:44:32 PM  41.986460 -87.794225\n516   2011-09-07  7:44:32 PM  41.986460 -87.794225\n517   2011-09-07  7:44:32 PM  41.986460 -87.794225\n518   2011-09-07  7:44:32 PM  41.986460 -87.794225\n519   2011-09-07  7:44:32 PM  41.986460 -87.794225\n520   2011-09-07  7:44:32 PM  41.986460 -87.794225\n521   2011-09-07  7:44:32 PM  41.986460 -87.794225\n522   2011-09-07  7:44:32 PM  41.986460 -87.794225\n523   2011-09-07  7:44:32 PM  41.986460 -87.794225\n524   2011-09-07  7:44:32 PM  41.986460 -87.794225\n525   2011-09-07  7:44:32 PM  41.986460 -87.794225\n526   2011-09-07  7:44:32 PM  41.986460 -87.794225\n527   2011-09-07  7:44:32 PM  41.986460 -87.794225\n528   2011-09-07  7:44:32 PM  41.986460 -87.794225\n529   2011-09-07  7:44:32 PM  41.986460 -87.794225\n530   2011-09-07  7:44:32 PM  41.986460 -87.794225\n531   2011-09-07  7:44:32 PM  41.986460 -87.794225\n532   2011-09-07  7:44:32 PM  41.986460 -87.794225\n533   2011-09-07  7:44:32 PM  41.986460 -87.794225\n534   2011-09-07  7:44:32 PM  41.986460 -87.794225\n535   2011-09-07  7:44:32 PM  41.986460 -87.794225\n536   2011-09-07  7:44:32 PM  41.986460 -87.794225\n537   2011-09-07  7:44:32 PM  41.986460 -87.794225\n538   2011-09-07  7:44:32 PM  41.986460 -87.794225\n539   2011-09-07  7:44:32 PM  41.986460 -87.794225\n540   2011-09-07  7:44:32 PM  41.986460 -87.794225\n541   2011-09-07  7:44:32 PM  41.986460 -87.794225\n542   2011-09-07  7:44:32 PM  41.986460 -87.794225\n543   2011-09-07  7:44:32 PM  41.986460 -87.794225\n544   2011-09-07  7:44:32 PM  41.986460 -87.794225\n545   2011-09-07  7:44:32 PM  41.986460 -87.794225\n546   2011-09-07  7:44:32 PM  41.986460 -87.794225\n547   2011-09-07  7:44:32 PM  41.986460 -87.794225\n548   2011-09-07  7:44:32 PM  41.986460 -87.794225\n549   2011-09-07  7:44:32 PM  41.986460 -87.794225\n550   2011-09-07  7:44:32 PM  41.986460 -87.794225\n551   2011-09-07  7:44:32 PM  41.986460 -87.794225\n552   2011-09-07  7:44:32 PM  41.986460 -87.794225\n553   2011-09-07  7:44:32 PM  41.986460 -87.794225\n554   2011-09-07  7:44:32 PM  41.986460 -87.794225\n555   2011-09-07  7:44:32 PM  41.986460 -87.794225\n556   2011-09-07  7:44:32 PM  41.986460 -87.794225\n557   2011-09-07  7:44:32 PM  41.986460 -87.794225\n558   2011-09-07  7:44:32 PM  41.986460 -87.794225\n559   2011-09-07  7:44:32 PM  41.986460 -87.794225\n560   2011-09-07  7:44:32 PM  41.986460 -87.794225\n561   2011-09-07  7:44:32 PM  41.986460 -87.794225\n562   2011-09-07  7:44:32 PM  41.986460 -87.794225\n563   2011-09-07  7:44:32 PM  41.986460 -87.794225\n564   2011-09-07  7:44:32 PM  41.986460 -87.794225\n565   2011-09-07  7:44:32 PM  41.986460 -87.794225\n566   2011-09-07  7:44:32 PM  41.986460 -87.794225\n567   2011-09-07  7:44:32 PM  41.986460 -87.794225\n568   2011-09-07  7:44:32 PM  41.986460 -87.794225\n569   2011-09-07  7:44:32 PM  41.986460 -87.794225\n570   2011-09-07  7:44:32 PM  41.986460 -87.794225\n571   2011-09-07  7:44:32 PM  41.986460 -87.794225\n572   2011-09-07  7:44:32 PM  41.986460 -87.794225\n573   2011-09-07  7:44:32 PM  41.986460 -87.794225\n574   2011-09-07  7:44:32 PM  41.986460 -87.794225\n575   2011-09-07  7:44:32 PM  41.986460 -87.794225\n576   2011-09-07  7:44:32 PM  41.986460 -87.794225\n577   2011-09-07  7:44:32 PM  41.986460 -87.794225\n578   2011-09-07  7:44:32 PM  41.986460 -87.794225\n579   2011-09-07  7:44:32 PM  41.986460 -87.794225\n580   2011-09-07  7:44:32 PM  41.986460 -87.794225\n581   2011-09-07  7:44:32 PM  41.986460 -87.794225\n582   2011-09-07  7:44:32 PM  41.986460 -87.794225\n583   2011-09-07  7:44:32 PM  41.986460 -87.794225\n584   2011-09-07  7:44:32 PM  41.986460 -87.794225\n585   2011-09-07  7:44:32 PM  41.986460 -87.794225\n586   2011-09-07  7:44:32 PM  41.986460 -87.794225\n587   2011-09-07  7:44:32 PM  41.986460 -87.794225\n588   2011-09-07  7:44:32 PM  41.986460 -87.794225\n589   2011-09-07  7:44:32 PM  41.986460 -87.794225\n590   2011-09-07  7:44:32 PM  41.986460 -87.794225\n591   2011-09-07  7:44:32 PM  41.986460 -87.794225\n592   2011-09-07  7:44:32 PM  41.986460 -87.794225\n593   2011-09-07  7:44:32 PM  41.986460 -87.794225\n594   2011-09-07  7:44:32 PM  41.986460 -87.794225\n595   2011-09-07  7:44:32 PM  41.986460 -87.794225\n596   2011-09-07  7:44:32 PM  41.986460 -87.794225\n597   2011-09-07  7:44:32 PM  41.986460 -87.794225\n598   2011-09-07  7:44:32 PM  41.986460 -87.794225\n599   2011-09-07  7:44:32 PM  41.986460 -87.794225\n600   2011-09-07  7:44:32 PM  41.986460 -87.794225\n601   2011-09-07  7:44:32 PM  41.986460 -87.794225\n602   2011-09-07  7:44:32 PM  41.986460 -87.794225\n603   2011-09-07  7:44:32 PM  41.986460 -87.794225\n604   2011-09-07  7:44:32 PM  41.986460 -87.794225\n605   2011-09-07  7:44:32 PM  41.986460 -87.794225\n606   2011-09-07  7:44:32 PM  41.986460 -87.794225\n607   2011-09-07  7:44:32 PM  41.986460 -87.794225\n608   2011-09-07  7:44:32 PM  41.986460 -87.794225\n609   2011-09-07  7:44:32 PM  41.986460 -87.794225\n610   2011-09-07  7:44:32 PM  41.986460 -87.794225\n611   2011-09-07  7:44:32 PM  41.986460 -87.794225\n612   2011-09-07  7:44:32 PM  41.986460 -87.794225\n613   2011-09-07  7:44:32 PM  41.986460 -87.794225\n614   2011-09-07  7:44:32 PM  41.986460 -87.794225\n615   2011-09-07  7:44:32 PM  41.986460 -87.794225\n616   2011-09-07  7:44:32 PM  41.986460 -87.794225\n617   2011-09-07  7:44:32 PM  41.986460 -87.794225\n618   2011-09-07  7:44:32 PM  41.986460 -87.794225\n619   2011-09-07  7:44:32 PM  41.986460 -87.794225\n620   2011-09-07  7:44:32 PM  41.986460 -87.794225\n621   2011-09-07  7:44:32 PM  41.986460 -87.794225\n622   2011-09-07  7:44:32 PM  41.986460 -87.794225\n623   2011-09-07  7:44:32 PM  41.986460 -87.794225\n624   2011-09-07  7:44:32 PM  41.986460 -87.794225\n625   2011-09-07  7:44:32 PM  41.986460 -87.794225\n626   2011-09-07  7:44:32 PM  41.986460 -87.794225\n627   2011-09-07  7:44:32 PM  41.986460 -87.794225\n628   2011-09-07  7:44:32 PM  41.986460 -87.794225\n629   2011-09-07  7:44:32 PM  41.986460 -87.794225\n630   2011-09-07  7:44:32 PM  41.986460 -87.794225\n631   2011-09-07  7:44:32 PM  41.986460 -87.794225\n632   2011-09-07  7:44:32 PM  41.986460 -87.794225\n633   2011-09-07  7:44:32 PM  41.986460 -87.794225\n634   2011-09-07  7:44:32 PM  41.986460 -87.794225\n635   2011-09-07  7:44:32 PM  41.986460 -87.794225\n636   2011-09-07  7:44:32 PM  41.986460 -87.794225\n637   2011-09-07  7:44:32 PM  41.986460 -87.794225\n638   2011-09-07  7:44:32 PM  41.986460 -87.794225\n639   2011-09-07  7:44:32 PM  41.986460 -87.794225\n640   2011-09-07  7:44:32 PM  41.986460 -87.794225\n641   2011-09-07  7:44:32 PM  41.986460 -87.794225\n642   2011-09-07  7:44:32 PM  41.986460 -87.794225\n643   2011-09-07  7:44:32 PM  41.986460 -87.794225\n644   2011-09-07  7:44:32 PM  41.986460 -87.794225\n645   2011-09-07  7:44:32 PM  41.986460 -87.794225\n646   2011-09-07  7:44:32 PM  41.986460 -87.794225\n647   2011-09-07  7:44:32 PM  41.986460 -87.794225\n648   2011-09-07  7:44:32 PM  41.986460 -87.794225\n649   2011-09-07  7:44:32 PM  41.986460 -87.794225\n650   2011-09-07  7:44:32 PM  41.986460 -87.794225\n651   2011-09-07  7:44:32 PM  41.986460 -87.794225\n652   2011-09-07  7:44:32 PM  41.986460 -87.794225\n653   2011-09-07  7:44:32 PM  41.986460 -87.794225\n654   2011-09-07  7:44:32 PM  41.986460 -87.794225\n655   2011-09-07  7:44:32 PM  41.986460 -87.794225\n656   2011-09-07  7:44:32 PM  41.986460 -87.794225\n657   2011-09-07  7:44:32 PM  41.986460 -87.794225\n658   2011-09-07  7:44:32 PM  41.986460 -87.794225\n659   2011-09-07  7:44:32 PM  41.986460 -87.794225\n660   2011-09-07  7:44:32 PM  41.986460 -87.794225\n661   2011-09-07  7:44:32 PM  41.986460 -87.794225\n662   2011-09-07  7:44:32 PM  41.986460 -87.794225\n663   2011-09-07  7:44:32 PM  41.986460 -87.794225\n664   2011-09-07  7:44:32 PM  41.986460 -87.794225\n665   2011-09-07  7:44:32 PM  41.986460 -87.794225\n666   2011-09-07  7:44:32 PM  41.986460 -87.794225\n667   2011-09-07  7:44:32 PM  41.986460 -87.794225\n668   2011-09-07  7:44:32 PM  41.986460 -87.794225\n669   2011-09-07  7:44:32 PM  41.986460 -87.794225\n670   2011-09-07  7:44:32 PM  41.986460 -87.794225\n671   2011-09-07  7:44:32 PM  41.986460 -87.794225\n672   2011-09-07  7:44:32 PM  41.986460 -87.794225\n673   2011-09-07  7:44:32 PM  41.986460 -87.794225\n674   2011-09-07  7:44:32 PM  41.986460 -87.794225\n675   2011-09-07  7:44:32 PM  41.986460 -87.794225\n676   2011-09-07  7:44:32 PM  41.986460 -87.794225\n677   2011-09-07  7:44:32 PM  41.986460 -87.794225\n678   2011-09-07  7:44:32 PM  41.986460 -87.794225\n679   2011-09-07  7:44:32 PM  41.986460 -87.794225\n680   2011-09-07  7:44:32 PM  41.986460 -87.794225\n681   2011-09-07  7:44:32 PM  41.986460 -87.794225\n682   2011-09-07  7:44:32 PM  41.986460 -87.794225\n683   2011-09-07  7:44:32 PM  41.986460 -87.794225\n684   2011-09-07  7:44:32 PM  41.986460 -87.794225\n685   2011-09-07  7:44:32 PM  41.986460 -87.794225\n686   2011-09-07  7:44:32 PM  41.986460 -87.794225\n687   2011-09-07  7:44:32 PM  41.986460 -87.794225\n688   2011-09-07  7:44:32 PM  41.986460 -87.794225\n689   2011-09-07  7:44:32 PM  41.986460 -87.794225\n690   2011-09-07  7:44:32 PM  41.986460 -87.794225\n691   2011-09-07  7:44:32 PM  41.986460 -87.794225\n692   2011-09-07  7:44:32 PM  41.986460 -87.794225\n693   2011-09-07  7:44:32 PM  41.986460 -87.794225\n694   2011-09-07  7:44:32 PM  41.986460 -87.794225\n695   2011-09-07  7:44:32 PM  41.986460 -87.794225\n696   2011-09-07  7:44:32 PM  41.986460 -87.794225\n697   2011-09-07  7:44:32 PM  41.986460 -87.794225\n698   2011-09-07  7:44:32 PM  41.986460 -87.794225\n699   2011-09-07  7:44:32 PM  41.986460 -87.794225\n700   2011-09-07  7:44:32 PM  41.986460 -87.794225\n701   2011-09-07  7:44:32 PM  41.986460 -87.794225\n702   2011-09-07  7:44:32 PM  41.986460 -87.794225\n703   2011-09-07  7:44:32 PM  41.986460 -87.794225\n704   2011-09-07  7:44:32 PM  41.986460 -87.794225\n705   2011-09-07  7:44:32 PM  41.986460 -87.794225\n706   2011-09-07  7:44:32 PM  41.986460 -87.794225\n707   2011-09-07  7:44:32 PM  41.986460 -87.794225\n708   2011-09-07  7:44:32 PM  41.986460 -87.794225\n709   2011-09-07  7:44:32 PM  41.986460 -87.794225\n710   2011-09-07  7:44:32 PM  41.986460 -87.794225\n711   2011-09-07  7:44:32 PM  41.986460 -87.794225\n712   2011-09-07  7:44:32 PM  41.986460 -87.794225\n713   2011-09-07  7:44:32 PM  41.986460 -87.794225\n714   2011-09-07  7:44:32 PM  41.986460 -87.794225\n715   2011-09-07  7:44:32 PM  41.986460 -87.794225\n716   2011-09-07  7:44:32 PM  41.986460 -87.794225\n717   2011-09-07  7:44:32 PM  41.986460 -87.794225\n718   2011-09-07  7:44:32 PM  41.986460 -87.794225\n719   2011-09-07  7:44:32 PM  41.986460 -87.794225\n720   2011-09-07  7:44:32 PM  41.986460 -87.794225\n721   2011-09-07  7:44:32 PM  41.986460 -87.794225\n722   2011-09-07  7:44:32 PM  41.986460 -87.794225\n723   2011-09-07  7:44:32 PM  41.986460 -87.794225\n724   2011-09-07  7:44:32 PM  41.986460 -87.794225\n725   2011-09-07  7:44:32 PM  41.986460 -87.794225\n726   2011-09-07  7:44:32 PM  41.986460 -87.794225\n727   2011-09-07  7:44:32 PM  41.986460 -87.794225\n728   2011-09-07  7:44:32 PM  41.986460 -87.794225\n729   2011-09-07  7:44:32 PM  41.986460 -87.794225\n730   2011-09-07  7:44:32 PM  41.986460 -87.794225\n731   2011-09-07  7:44:32 PM  41.986460 -87.794225\n732   2011-09-07  7:44:32 PM  41.986460 -87.794225\n733   2011-09-07  7:44:32 PM  41.986460 -87.794225\n734   2011-09-07  7:44:32 PM  41.986460 -87.794225\n735   2011-09-07  7:44:32 PM  41.986460 -87.794225\n736   2011-09-07  7:44:32 PM  41.986460 -87.794225\n737   2011-09-07  7:44:32 PM  41.986460 -87.794225\n738   2011-09-07  7:44:32 PM  41.986460 -87.794225\n739   2011-09-07  7:44:32 PM  41.986460 -87.794225\n740   2011-09-07  7:44:32 PM  41.986460 -87.794225\n741   2011-09-07  7:44:32 PM  41.986460 -87.794225\n742   2011-09-07  7:44:32 PM  41.986460 -87.794225\n743   2011-09-07  7:44:32 PM  41.986460 -87.794225\n744   2011-09-07  7:44:32 PM  41.986460 -87.794225\n745   2011-09-07  7:44:32 PM  41.986460 -87.794225\n746   2011-09-07  7:44:32 PM  41.986460 -87.794225\n747   2011-09-07  7:44:32 PM  41.986460 -87.794225\n748   2011-09-07  7:44:32 PM  41.986460 -87.794225\n749   2011-09-07  7:44:32 PM  41.986460 -87.794225\n750   2011-09-07  7:44:32 PM  41.986460 -87.794225\n751   2011-09-07  7:44:32 PM  41.986460 -87.794225\n752   2011-09-07  7:44:32 PM  41.986460 -87.794225\n753   2011-09-07  7:44:32 PM  41.986460 -87.794225\n754   2011-09-07  7:44:32 PM  41.986460 -87.794225\n755   2011-09-07  7:44:32 PM  41.986460 -87.794225\n756   2011-09-07  7:44:32 PM  41.986460 -87.794225\n757   2011-09-07  7:44:32 PM  41.986460 -87.794225\n758   2011-09-07  7:44:32 PM  41.986460 -87.794225\n759   2011-09-07  7:44:32 PM  41.986460 -87.794225\n760   2011-09-07  7:44:32 PM  41.986460 -87.794225\n761   2011-09-07  7:44:32 PM  41.986460 -87.794225\n762   2011-09-07  7:44:32 PM  41.986460 -87.794225\n763   2011-09-07  7:44:32 PM  41.986460 -87.794225\n764   2011-09-07  7:44:32 PM  41.986460 -87.794225\n765   2011-09-07  7:44:32 PM  41.986460 -87.794225\n766   2011-09-07  7:44:32 PM  41.986460 -87.794225\n767   2011-09-07  7:44:32 PM  41.986460 -87.794225\n768   2011-09-07  7:44:32 PM  41.986460 -87.794225\n769   2011-09-07  7:44:32 PM  41.986460 -87.794225\n770   2011-09-07  7:44:32 PM  41.986460 -87.794225\n771   2011-09-07  7:44:32 PM  41.986460 -87.794225\n772   2011-09-07  7:44:32 PM  41.986460 -87.794225\n773   2011-09-07  7:44:32 PM  41.986460 -87.794225\n774   2011-09-07  7:44:32 PM  41.986460 -87.794225\n775   2011-09-07  7:44:32 PM  41.986460 -87.794225\n776   2011-09-07  7:44:32 PM  41.986460 -87.794225\n777   2011-09-07  7:44:32 PM  41.986460 -87.794225\n778   2011-09-07  7:44:32 PM  41.986460 -87.794225\n779   2011-09-07  7:44:32 PM  41.986460 -87.794225\n780   2011-09-07  7:44:32 PM  41.986460 -87.794225\n781   2011-09-07  7:44:32 PM  41.986460 -87.794225\n782   2011-09-07  7:44:32 PM  41.986460 -87.794225\n783   2011-09-07  7:44:32 PM  41.986460 -87.794225\n784   2011-09-07  7:44:32 PM  41.986460 -87.794225\n785   2011-09-07  7:44:32 PM  41.986460 -87.794225\n786   2011-09-07  7:44:32 PM  41.986460 -87.794225\n787   2011-09-07  7:44:32 PM  41.986460 -87.794225\n788   2011-09-07  7:44:32 PM  41.986460 -87.794225\n789   2011-09-07  7:44:32 PM  41.986460 -87.794225\n790   2011-09-07  7:44:32 PM  41.986460 -87.794225\n791   2011-09-07  7:44:32 PM  41.986460 -87.794225\n792   2011-09-07  7:44:32 PM  41.986460 -87.794225\n793   2011-09-07  7:44:32 PM  41.986460 -87.794225\n794   2011-09-07  7:44:32 PM  41.986460 -87.794225\n795   2011-09-07  7:44:32 PM  41.986460 -87.794225\n796   2011-09-07  7:44:32 PM  41.986460 -87.794225\n797   2011-09-07  7:44:32 PM  41.986460 -87.794225\n798   2011-09-07  7:44:32 PM  41.986460 -87.794225\n799   2011-09-07  7:44:32 PM  41.986460 -87.794225\n800   2011-09-07  7:44:32 PM  41.986460 -87.794225\n801   2011-09-07  7:44:32 PM  41.986460 -87.794225\n802   2011-09-07  7:44:32 PM  41.986460 -87.794225\n803   2011-09-07  7:44:32 PM  41.986460 -87.794225\n804   2011-09-07  7:44:32 PM  41.986460 -87.794225\n805   2011-09-07  7:44:32 PM  41.986460 -87.794225\n806   2011-09-07  7:44:32 PM  41.986460 -87.794225\n807   2011-09-07  7:44:32 PM  41.986460 -87.794225\n808   2011-09-07  7:44:32 PM  41.986460 -87.794225\n809   2011-09-07  7:44:32 PM  41.986460 -87.794225\n810   2011-09-07  7:44:32 PM  41.986460 -87.794225\n811   2011-09-07  7:44:32 PM  41.986460 -87.794225\n812   2011-09-07  7:44:32 PM  41.986460 -87.794225\n813   2011-09-07  7:44:32 PM  41.986460 -87.794225\n814   2011-09-07  7:44:32 PM  41.986460 -87.794225\n815   2011-09-07  7:44:32 PM  41.986460 -87.794225\n816   2011-09-07  7:44:32 PM  41.986460 -87.794225\n817   2011-09-07  7:44:32 PM  41.986460 -87.794225\n818   2011-09-07  7:44:32 PM  41.986460 -87.794225\n819   2011-09-07  7:44:32 PM  41.986460 -87.794225\n820   2011-09-07  7:44:32 PM  41.986460 -87.794225\n821   2011-09-07  7:44:32 PM  41.986460 -87.794225\n822   2011-09-07  7:44:32 PM  41.986460 -87.794225\n823   2011-09-07  7:44:32 PM  41.986460 -87.794225\n824   2011-09-07  7:44:32 PM  41.986460 -87.794225\n825   2011-09-07  7:44:32 PM  41.986460 -87.794225\n826   2011-09-07  7:44:32 PM  41.986460 -87.794225\n827   2011-09-07  7:44:32 PM  41.986460 -87.794225\n828   2011-09-07  7:44:32 PM  41.986460 -87.794225\n829   2011-09-07  7:44:32 PM  41.986460 -87.794225\n830   2011-09-07  7:44:32 PM  41.986460 -87.794225\n831   2011-09-07  7:44:32 PM  41.986460 -87.794225\n832   2011-09-07  7:44:32 PM  41.986460 -87.794225\n833   2011-09-07  7:44:32 PM  41.986460 -87.794225\n834   2011-09-07  7:44:32 PM  41.986460 -87.794225\n835   2011-09-07  7:44:32 PM  41.986460 -87.794225\n836   2011-09-07  7:44:32 PM  41.986460 -87.794225\n837   2011-09-07  7:44:32 PM  41.986460 -87.794225\n838   2011-09-07  7:44:32 PM  41.986460 -87.794225\n839   2011-09-07  7:44:32 PM  41.986460 -87.794225\n840   2011-09-07  7:44:32 PM  41.986460 -87.794225\n841   2011-09-07  7:44:32 PM  41.986460 -87.794225\n842   2011-09-07  7:44:32 PM  41.986460 -87.794225\n843   2011-09-07  7:44:32 PM  41.986460 -87.794225\n844   2011-09-07  7:44:32 PM  41.986460 -87.794225\n845   2011-09-07  7:44:32 PM  41.986460 -87.794225\n846   2011-09-07  7:44:32 PM  41.986460 -87.794225\n847   2011-09-07  7:44:32 PM  41.986460 -87.794225\n848   2011-09-07  7:44:32 PM  41.986460 -87.794225\n849   2011-09-07  7:44:32 PM  41.986460 -87.794225\n850   2011-09-07  7:44:32 PM  41.986460 -87.794225\n851   2011-09-07  7:44:32 PM  41.986460 -87.794225\n852   2011-09-07  7:44:32 PM  41.986460 -87.794225\n853   2011-09-07  7:44:32 PM  41.986460 -87.794225\n854   2011-09-07  7:44:32 PM  41.986460 -87.794225\n855   2011-09-07  7:44:32 PM  41.986460 -87.794225\n856   2011-09-07  7:44:32 PM  41.986460 -87.794225\n857   2011-09-07  7:44:32 PM  41.986460 -87.794225\n858   2011-09-07  7:44:32 PM  41.986460 -87.794225\n859   2011-09-07  7:44:32 PM  41.986460 -87.794225\n860   2011-09-07  7:44:32 PM  41.986460 -87.794225\n861   2011-09-07  7:44:32 PM  41.986460 -87.794225\n862   2011-09-07  7:44:32 PM  41.986460 -87.794225\n863   2011-09-07  7:44:32 PM  41.986460 -87.794225\n864   2011-09-07  7:44:32 PM  41.986460 -87.794225\n865   2011-09-07  7:44:32 PM  41.986460 -87.794225\n866   2011-09-07  7:44:32 PM  41.986460 -87.794225\n867   2011-09-07  7:44:32 PM  41.986460 -87.794225\n868   2011-09-07  7:44:32 PM  41.986460 -87.794225\n869   2011-09-07  7:44:32 PM  41.986460 -87.794225\n870   2011-09-07  7:44:32 PM  41.986460 -87.794225\n871   2011-09-07  7:44:32 PM  41.986460 -87.794225\n872   2011-09-07  7:44:32 PM  41.986460 -87.794225\n873   2011-09-07  7:44:32 PM  41.986460 -87.794225\n874   2011-09-07  7:44:32 PM  41.986460 -87.794225\n875   2011-09-07  7:44:32 PM  41.986460 -87.794225\n876   2011-09-07  7:44:32 PM  41.986460 -87.794225\n877   2011-09-07  7:44:32 PM  41.986460 -87.794225\n878   2011-09-07  7:44:32 PM  41.986460 -87.794225\n879   2011-09-07  7:44:32 PM  41.986460 -87.794225\n880   2011-09-07  7:44:32 PM  41.986460 -87.794225\n881   2011-09-07  7:44:32 PM  41.986460 -87.794225\n882   2011-09-07  7:44:32 PM  41.986460 -87.794225\n883   2011-09-07  7:44:32 PM  41.986460 -87.794225\n884   2011-09-07  7:44:32 PM  41.986460 -87.794225\n885   2011-09-07  7:44:32 PM  41.986460 -87.794225\n886   2011-09-07  7:44:32 PM  41.986460 -87.794225\n887   2011-09-07  7:44:32 PM  41.986460 -87.794225\n888   2011-09-07  7:44:32 PM  41.986460 -87.794225\n889   2011-09-07  7:44:32 PM  41.986460 -87.794225\n890   2011-09-07  7:44:32 PM  41.986460 -87.794225\n891   2011-09-07  7:44:32 PM  41.986460 -87.794225\n892   2011-09-07  7:44:32 PM  41.986460 -87.794225\n893   2011-09-07  7:44:32 PM  41.986460 -87.794225\n894   2011-09-07  7:44:32 PM  41.986460 -87.794225\n895   2011-09-07  7:44:32 PM  41.986460 -87.794225\n896   2011-09-07  7:44:32 PM  41.986460 -87.794225\n897   2011-09-07  7:44:32 PM  41.986460 -87.794225\n898   2011-09-07  7:44:32 PM  41.986460 -87.794225\n899   2011-09-07  7:44:32 PM  41.986460 -87.794225\n900   2011-09-07  7:44:32 PM  41.986460 -87.794225\n901   2011-09-07  7:44:32 PM  41.986460 -87.794225\n902   2011-09-07  7:44:32 PM  41.986460 -87.794225\n903   2011-09-07  7:44:32 PM  41.986460 -87.794225\n904   2011-09-07  7:44:32 PM  41.986460 -87.794225\n905   2011-09-07  7:44:32 PM  41.986460 -87.794225\n906   2011-09-07  7:44:32 PM  41.986460 -87.794225\n907   2011-09-07  7:44:32 PM  41.986460 -87.794225\n908   2011-09-07  7:44:32 PM  41.986460 -87.794225\n909   2011-09-07  7:44:32 PM  41.986460 -87.794225\n910   2011-09-07  7:44:32 PM  41.986460 -87.794225\n911   2011-09-07  7:44:32 PM  41.986460 -87.794225\n912   2011-09-07  7:44:32 PM  41.986460 -87.794225\n913   2011-09-07  7:44:32 PM  41.986460 -87.794225\n914   2011-09-07  7:44:32 PM  41.986460 -87.794225\n915   2011-09-07  7:44:32 PM  41.986460 -87.794225\n916   2011-09-07  7:44:32 PM  41.986460 -87.794225\n917   2011-09-07  7:44:32 PM  41.986460 -87.794225\n918   2011-09-07  7:44:32 PM  41.986460 -87.794225\n919   2011-09-07  7:44:32 PM  41.986460 -87.794225\n920   2011-09-07  7:44:32 PM  41.986460 -87.794225\n921   2011-09-07  7:44:32 PM  41.986460 -87.794225\n922   2011-09-07  7:44:32 PM  41.986460 -87.794225\n923   2011-09-07  7:44:32 PM  41.986460 -87.794225\n924   2011-09-07  7:44:32 PM  41.986460 -87.794225\n925   2011-09-07  7:44:32 PM  41.986460 -87.794225\n926   2011-09-07  7:44:32 PM  41.986460 -87.794225\n927   2011-09-07  7:44:32 PM  41.986460 -87.794225\n928   2011-09-07  7:44:32 PM  41.986460 -87.794225\n929   2011-09-07  7:44:32 PM  41.986460 -87.794225\n930   2011-09-07  7:44:32 PM  41.986460 -87.794225\n931   2011-09-07  7:44:32 PM  41.986460 -87.794225\n932   2011-09-07  7:44:32 PM  41.986460 -87.794225\n933   2011-09-07  7:44:32 PM  41.986460 -87.794225\n934   2011-09-07  7:44:32 PM  41.986460 -87.794225\n935   2011-09-07  7:44:32 PM  41.986460 -87.794225\n936   2011-09-07  7:44:32 PM  41.986460 -87.794225\n937   2011-09-07  7:44:32 PM  41.986460 -87.794225\n938   2011-09-07  7:44:32 PM  41.986460 -87.794225\n939   2011-09-07  7:44:32 PM  41.986460 -87.794225\n940   2011-09-07  7:44:32 PM  41.986460 -87.794225\n941   2011-09-07  7:44:32 PM  41.986460 -87.794225\n942   2011-09-07  7:44:32 PM  41.986460 -87.794225\n943   2011-09-07  7:44:32 PM  41.986460 -87.794225\n944   2011-09-07  7:44:32 PM  41.986460 -87.794225\n945   2011-09-07  7:44:32 PM  41.986460 -87.794225\n946   2011-09-07  7:44:32 PM  41.986460 -87.794225\n947   2011-09-07  7:44:32 PM  41.986460 -87.794225\n948   2011-09-07  7:44:32 PM  41.986460 -87.794225\n949   2011-09-07  7:44:32 PM  41.986460 -87.794225\n950   2011-09-07  7:44:32 PM  41.986460 -87.794225\n951   2011-09-07  7:44:32 PM  41.986460 -87.794225\n952   2011-09-07  7:44:32 PM  41.986460 -87.794225\n953   2011-09-07  7:44:32 PM  41.986460 -87.794225\n954   2011-09-07  7:44:32 PM  41.986460 -87.794225\n955   2011-09-07  7:44:32 PM  41.986460 -87.794225\n956   2011-09-07  7:44:32 PM  41.986460 -87.794225\n957   2011-09-07  7:44:32 PM  41.986460 -87.794225\n958   2011-09-07  7:44:32 PM  41.986460 -87.794225\n959   2011-09-07  7:44:32 PM  41.986460 -87.794225\n960   2011-09-07  7:44:32 PM  41.986460 -87.794225\n961   2011-09-07  7:44:32 PM  41.986460 -87.794225\n962   2011-09-07  7:44:32 PM  41.986460 -87.794225\n963   2011-09-07  7:44:32 PM  41.986460 -87.794225\n964   2011-09-07  7:44:32 PM  41.986460 -87.794225\n965   2011-09-07  7:44:32 PM  41.986460 -87.794225\n966   2011-09-07  7:44:32 PM  41.986460 -87.794225\n967   2011-09-07  7:44:32 PM  41.986460 -87.794225\n968   2011-09-07  7:44:32 PM  41.986460 -87.794225\n969   2011-09-07  7:44:32 PM  41.986460 -87.794225\n970   2011-09-07  7:44:32 PM  41.986460 -87.794225\n971   2011-09-07  7:44:32 PM  41.986460 -87.794225\n972   2011-09-07  7:44:32 PM  41.986460 -87.794225\n973   2011-09-07  7:44:32 PM  41.986460 -87.794225\n974   2011-09-07  7:44:32 PM  41.986460 -87.794225\n975   2011-09-07  7:44:32 PM  41.986460 -87.794225\n976   2011-09-07  7:44:32 PM  41.986460 -87.794225\n977   2011-09-07  7:44:32 PM  41.986460 -87.794225\n978   2011-09-07  7:44:32 PM  41.986460 -87.794225\n979   2011-09-07  7:44:32 PM  41.986460 -87.794225\n980   2011-09-07  7:44:32 PM  41.986460 -87.794225\n981   2011-09-07  7:44:32 PM  41.986460 -87.794225\n982   2011-09-07  7:44:32 PM  41.986460 -87.794225\n983   2011-09-07  7:44:32 PM  41.986460 -87.794225\n984   2011-09-07  7:44:32 PM  41.986460 -87.794225\n985   2011-09-07  7:44:32 PM  41.986460 -87.794225\n986   2011-09-07  7:44:32 PM  41.986460 -87.794225\n987   2011-09-07  7:44:32 PM  41.986460 -87.794225\n988   2011-09-07  7:44:32 PM  41.986460 -87.794225\n989   2011-09-07  7:44:32 PM  41.986460 -87.794225\n990   2011-09-07  7:44:32 PM  41.986460 -87.794225\n991   2011-09-07  7:44:32 PM  41.986460 -87.794225\n992   2011-09-07  7:44:32 PM  41.986460 -87.794225\n993   2011-09-07  7:44:32 PM  41.986460 -87.794225\n994   2011-09-07  7:44:32 PM  41.986460 -87.794225\n995   2011-09-07  7:44:32 PM  41.986460 -87.794225\n996   2011-09-07  7:44:32 PM  41.986460 -87.794225\n997   2011-09-07  7:44:32 PM  41.986460 -87.794225\n998   2011-09-07  7:44:32 PM  41.986460 -87.794225\n999   2011-09-07  7:44:32 PM  41.986460 -87.794225\n1000  2011-09-07  7:44:32 PM  41.986460 -87.794225\n1001  2011-09-07  7:44:32 PM  41.986460 -87.794225\n1002  2011-09-07  7:44:32 PM  41.986460 -87.794225\n1003  2011-09-07  7:44:32 PM  41.986460 -87.794225\n1004  2011-09-07  7:44:32 PM  41.986460 -87.794225\n1005  2011-09-07  7:44:32 PM  41.986460 -87.794225\n1006  2011-09-07  7:44:32 PM  41.986460 -87.794225\n1007  2011-09-07  7:44:32 PM  41.986460 -87.794225\n1008  2011-09-07  7:44:32 PM  41.986460 -87.794225\n1009  2011-09-07  7:44:32 PM  41.986460 -87.794225\n1010  2011-09-07  7:44:32 PM  41.986460 -87.794225\n1011  2011-09-07  7:44:32 PM  41.986460 -87.794225\n1012  2011-09-07  7:44:32 PM  41.986460 -87.794225\n1013  2011-09-07  7:44:32 PM  41.986460 -87.794225\n1014  2011-09-07  7:44:32 PM  41.986460 -87.794225\n1015  2011-09-07  7:44:32 PM  41.986460 -87.794225\n1016  2011-09-07  7:44:32 PM  41.986460 -87.794225\n1017  2011-09-07  7:44:32 PM  41.986460 -87.794225\n1018  2011-09-07  7:44:32 PM  41.986460 -87.794225\n1019  2011-09-07  7:44:32 PM  41.986460 -87.794225\n1020  2011-09-07  7:44:32 PM  41.986460 -87.794225\n1021  2011-09-07  7:44:32 PM  41.986460 -87.794225\n1022  2011-09-07  7:44:32 PM  41.986460 -87.794225\n1023  2011-09-07  7:44:32 PM  41.986460 -87.794225\n1024  2011-09-07  7:44:32 PM  41.986460 -87.794225\n1025  2011-09-07  7:44:32 PM  41.986460 -87.794225\n1026  2011-09-07  7:44:32 PM  41.986460 -87.794225\n1027  2011-09-07  7:44:32 PM  41.986460 -87.794225\n1028  2011-09-07  7:44:32 PM  41.986460 -87.794225\n1029  2011-09-07  7:44:32 PM  41.986460 -87.794225",
      "text/html": "<div>\n<style scoped>\n    .dataframe tbody tr th:only-of-type {\n        vertical-align: middle;\n    }\n\n    .dataframe tbody tr th {\n        vertical-align: top;\n    }\n\n    .dataframe thead th {\n        text-align: right;\n    }\n</style>\n<table border=\"1\" class=\"dataframe\">\n  <thead>\n    <tr style=\"text-align: right;\">\n      <th></th>\n      <th>Date</th>\n      <th>Time</th>\n      <th>Latitude</th>\n      <th>Longitude</th>\n    </tr>\n  </thead>\n  <tbody>\n    <tr>\n      <th>484</th>\n      <td>2011-09-07</td>\n      <td>7:43:40 PM</td>\n      <td>41.983917</td>\n      <td>-87.793088</td>\n    </tr>\n    <tr>\n      <th>485</th>\n      <td>2011-09-07</td>\n      <td>7:43:40 PM</td>\n      <td>41.983917</td>\n      <td>-87.793088</td>\n    </tr>\n    <tr>\n      <th>489</th>\n      <td>2011-09-07</td>\n      <td>7:44:32 PM</td>\n      <td>41.986460</td>\n      <td>-87.794225</td>\n    </tr>\n    <tr>\n      <th>490</th>\n      <td>2011-09-07</td>\n      <td>7:44:32 PM</td>\n      <td>41.986460</td>\n      <td>-87.794225</td>\n    </tr>\n    <tr>\n      <th>491</th>\n      <td>2011-09-07</td>\n      <td>7:44:32 PM</td>\n      <td>41.986460</td>\n      <td>-87.794225</td>\n    </tr>\n    <tr>\n      <th>492</th>\n      <td>2011-09-07</td>\n      <td>7:44:32 PM</td>\n      <td>41.986460</td>\n      <td>-87.794225</td>\n    </tr>\n    <tr>\n      <th>493</th>\n      <td>2011-09-07</td>\n      <td>7:44:32 PM</td>\n      <td>41.986460</td>\n      <td>-87.794225</td>\n    </tr>\n    <tr>\n      <th>494</th>\n      <td>2011-09-07</td>\n      <td>7:44:32 PM</td>\n      <td>41.986460</td>\n      <td>-87.794225</td>\n    </tr>\n    <tr>\n      <th>495</th>\n      <td>2011-09-07</td>\n      <td>7:44:32 PM</td>\n      <td>41.986460</td>\n      <td>-87.794225</td>\n    </tr>\n    <tr>\n      <th>496</th>\n      <td>2011-09-07</td>\n      <td>7:44:32 PM</td>\n      <td>41.986460</td>\n      <td>-87.794225</td>\n    </tr>\n    <tr>\n      <th>497</th>\n      <td>2011-09-07</td>\n      <td>7:44:32 PM</td>\n      <td>41.986460</td>\n      <td>-87.794225</td>\n    </tr>\n    <tr>\n      <th>498</th>\n      <td>2011-09-07</td>\n      <td>7:44:32 PM</td>\n      <td>41.986460</td>\n      <td>-87.794225</td>\n    </tr>\n    <tr>\n      <th>499</th>\n      <td>2011-09-07</td>\n      <td>7:44:32 PM</td>\n      <td>41.986460</td>\n      <td>-87.794225</td>\n    </tr>\n    <tr>\n      <th>500</th>\n      <td>2011-09-07</td>\n      <td>7:44:32 PM</td>\n      <td>41.986460</td>\n      <td>-87.794225</td>\n    </tr>\n    <tr>\n      <th>501</th>\n      <td>2011-09-07</td>\n      <td>7:44:32 PM</td>\n      <td>41.986460</td>\n      <td>-87.794225</td>\n    </tr>\n    <tr>\n      <th>502</th>\n      <td>2011-09-07</td>\n      <td>7:44:32 PM</td>\n      <td>41.986460</td>\n      <td>-87.794225</td>\n    </tr>\n    <tr>\n      <th>503</th>\n      <td>2011-09-07</td>\n      <td>7:44:32 PM</td>\n      <td>41.986460</td>\n      <td>-87.794225</td>\n    </tr>\n    <tr>\n      <th>504</th>\n      <td>2011-09-07</td>\n      <td>7:44:32 PM</td>\n      <td>41.986460</td>\n      <td>-87.794225</td>\n    </tr>\n    <tr>\n      <th>505</th>\n      <td>2011-09-07</td>\n      <td>7:44:32 PM</td>\n      <td>41.986460</td>\n      <td>-87.794225</td>\n    </tr>\n    <tr>\n      <th>506</th>\n      <td>2011-09-07</td>\n      <td>7:44:32 PM</td>\n      <td>41.986460</td>\n      <td>-87.794225</td>\n    </tr>\n    <tr>\n      <th>507</th>\n      <td>2011-09-07</td>\n      <td>7:44:32 PM</td>\n      <td>41.986460</td>\n      <td>-87.794225</td>\n    </tr>\n    <tr>\n      <th>508</th>\n      <td>2011-09-07</td>\n      <td>7:44:32 PM</td>\n      <td>41.986460</td>\n      <td>-87.794225</td>\n    </tr>\n    <tr>\n      <th>509</th>\n      <td>2011-09-07</td>\n      <td>7:44:32 PM</td>\n      <td>41.986460</td>\n      <td>-87.794225</td>\n    </tr>\n    <tr>\n      <th>510</th>\n      <td>2011-09-07</td>\n      <td>7:44:32 PM</td>\n      <td>41.986460</td>\n      <td>-87.794225</td>\n    </tr>\n    <tr>\n      <th>511</th>\n      <td>2011-09-07</td>\n      <td>7:44:32 PM</td>\n      <td>41.986460</td>\n      <td>-87.794225</td>\n    </tr>\n    <tr>\n      <th>512</th>\n      <td>2011-09-07</td>\n      <td>7:44:32 PM</td>\n      <td>41.986460</td>\n      <td>-87.794225</td>\n    </tr>\n    <tr>\n      <th>513</th>\n      <td>2011-09-07</td>\n      <td>7:44:32 PM</td>\n      <td>41.986460</td>\n      <td>-87.794225</td>\n    </tr>\n    <tr>\n      <th>514</th>\n      <td>2011-09-07</td>\n      <td>7:44:32 PM</td>\n      <td>41.986460</td>\n      <td>-87.794225</td>\n    </tr>\n    <tr>\n      <th>515</th>\n      <td>2011-09-07</td>\n      <td>7:44:32 PM</td>\n      <td>41.986460</td>\n      <td>-87.794225</td>\n    </tr>\n    <tr>\n      <th>516</th>\n      <td>2011-09-07</td>\n      <td>7:44:32 PM</td>\n      <td>41.986460</td>\n      <td>-87.794225</td>\n    </tr>\n    <tr>\n      <th>517</th>\n      <td>2011-09-07</td>\n      <td>7:44:32 PM</td>\n      <td>41.986460</td>\n      <td>-87.794225</td>\n    </tr>\n    <tr>\n      <th>518</th>\n      <td>2011-09-07</td>\n      <td>7:44:32 PM</td>\n      <td>41.986460</td>\n      <td>-87.794225</td>\n    </tr>\n    <tr>\n      <th>519</th>\n      <td>2011-09-07</td>\n      <td>7:44:32 PM</td>\n      <td>41.986460</td>\n      <td>-87.794225</td>\n    </tr>\n    <tr>\n      <th>520</th>\n      <td>2011-09-07</td>\n      <td>7:44:32 PM</td>\n      <td>41.986460</td>\n      <td>-87.794225</td>\n    </tr>\n    <tr>\n      <th>521</th>\n      <td>2011-09-07</td>\n      <td>7:44:32 PM</td>\n      <td>41.986460</td>\n      <td>-87.794225</td>\n    </tr>\n    <tr>\n      <th>522</th>\n      <td>2011-09-07</td>\n      <td>7:44:32 PM</td>\n      <td>41.986460</td>\n      <td>-87.794225</td>\n    </tr>\n    <tr>\n      <th>523</th>\n      <td>2011-09-07</td>\n      <td>7:44:32 PM</td>\n      <td>41.986460</td>\n      <td>-87.794225</td>\n    </tr>\n    <tr>\n      <th>524</th>\n      <td>2011-09-07</td>\n      <td>7:44:32 PM</td>\n      <td>41.986460</td>\n      <td>-87.794225</td>\n    </tr>\n    <tr>\n      <th>525</th>\n      <td>2011-09-07</td>\n      <td>7:44:32 PM</td>\n      <td>41.986460</td>\n      <td>-87.794225</td>\n    </tr>\n    <tr>\n      <th>526</th>\n      <td>2011-09-07</td>\n      <td>7:44:32 PM</td>\n      <td>41.986460</td>\n      <td>-87.794225</td>\n    </tr>\n    <tr>\n      <th>527</th>\n      <td>2011-09-07</td>\n      <td>7:44:32 PM</td>\n      <td>41.986460</td>\n      <td>-87.794225</td>\n    </tr>\n    <tr>\n      <th>528</th>\n      <td>2011-09-07</td>\n      <td>7:44:32 PM</td>\n      <td>41.986460</td>\n      <td>-87.794225</td>\n    </tr>\n    <tr>\n      <th>529</th>\n      <td>2011-09-07</td>\n      <td>7:44:32 PM</td>\n      <td>41.986460</td>\n      <td>-87.794225</td>\n    </tr>\n    <tr>\n      <th>530</th>\n      <td>2011-09-07</td>\n      <td>7:44:32 PM</td>\n      <td>41.986460</td>\n      <td>-87.794225</td>\n    </tr>\n    <tr>\n      <th>531</th>\n      <td>2011-09-07</td>\n      <td>7:44:32 PM</td>\n      <td>41.986460</td>\n      <td>-87.794225</td>\n    </tr>\n    <tr>\n      <th>532</th>\n      <td>2011-09-07</td>\n      <td>7:44:32 PM</td>\n      <td>41.986460</td>\n      <td>-87.794225</td>\n    </tr>\n    <tr>\n      <th>533</th>\n      <td>2011-09-07</td>\n      <td>7:44:32 PM</td>\n      <td>41.986460</td>\n      <td>-87.794225</td>\n    </tr>\n    <tr>\n      <th>534</th>\n      <td>2011-09-07</td>\n      <td>7:44:32 PM</td>\n      <td>41.986460</td>\n      <td>-87.794225</td>\n    </tr>\n    <tr>\n      <th>535</th>\n      <td>2011-09-07</td>\n      <td>7:44:32 PM</td>\n      <td>41.986460</td>\n      <td>-87.794225</td>\n    </tr>\n    <tr>\n      <th>536</th>\n      <td>2011-09-07</td>\n      <td>7:44:32 PM</td>\n      <td>41.986460</td>\n      <td>-87.794225</td>\n    </tr>\n    <tr>\n      <th>537</th>\n      <td>2011-09-07</td>\n      <td>7:44:32 PM</td>\n      <td>41.986460</td>\n      <td>-87.794225</td>\n    </tr>\n    <tr>\n      <th>538</th>\n      <td>2011-09-07</td>\n      <td>7:44:32 PM</td>\n      <td>41.986460</td>\n      <td>-87.794225</td>\n    </tr>\n    <tr>\n      <th>539</th>\n      <td>2011-09-07</td>\n      <td>7:44:32 PM</td>\n      <td>41.986460</td>\n      <td>-87.794225</td>\n    </tr>\n    <tr>\n      <th>540</th>\n      <td>2011-09-07</td>\n      <td>7:44:32 PM</td>\n      <td>41.986460</td>\n      <td>-87.794225</td>\n    </tr>\n    <tr>\n      <th>541</th>\n      <td>2011-09-07</td>\n      <td>7:44:32 PM</td>\n      <td>41.986460</td>\n      <td>-87.794225</td>\n    </tr>\n    <tr>\n      <th>542</th>\n      <td>2011-09-07</td>\n      <td>7:44:32 PM</td>\n      <td>41.986460</td>\n      <td>-87.794225</td>\n    </tr>\n    <tr>\n      <th>543</th>\n      <td>2011-09-07</td>\n      <td>7:44:32 PM</td>\n      <td>41.986460</td>\n      <td>-87.794225</td>\n    </tr>\n    <tr>\n      <th>544</th>\n      <td>2011-09-07</td>\n      <td>7:44:32 PM</td>\n      <td>41.986460</td>\n      <td>-87.794225</td>\n    </tr>\n    <tr>\n      <th>545</th>\n      <td>2011-09-07</td>\n      <td>7:44:32 PM</td>\n      <td>41.986460</td>\n      <td>-87.794225</td>\n    </tr>\n    <tr>\n      <th>546</th>\n      <td>2011-09-07</td>\n      <td>7:44:32 PM</td>\n      <td>41.986460</td>\n      <td>-87.794225</td>\n    </tr>\n    <tr>\n      <th>547</th>\n      <td>2011-09-07</td>\n      <td>7:44:32 PM</td>\n      <td>41.986460</td>\n      <td>-87.794225</td>\n    </tr>\n    <tr>\n      <th>548</th>\n      <td>2011-09-07</td>\n      <td>7:44:32 PM</td>\n      <td>41.986460</td>\n      <td>-87.794225</td>\n    </tr>\n    <tr>\n      <th>549</th>\n      <td>2011-09-07</td>\n      <td>7:44:32 PM</td>\n      <td>41.986460</td>\n      <td>-87.794225</td>\n    </tr>\n    <tr>\n      <th>550</th>\n      <td>2011-09-07</td>\n      <td>7:44:32 PM</td>\n      <td>41.986460</td>\n      <td>-87.794225</td>\n    </tr>\n    <tr>\n      <th>551</th>\n      <td>2011-09-07</td>\n      <td>7:44:32 PM</td>\n      <td>41.986460</td>\n      <td>-87.794225</td>\n    </tr>\n    <tr>\n      <th>552</th>\n      <td>2011-09-07</td>\n      <td>7:44:32 PM</td>\n      <td>41.986460</td>\n      <td>-87.794225</td>\n    </tr>\n    <tr>\n      <th>553</th>\n      <td>2011-09-07</td>\n      <td>7:44:32 PM</td>\n      <td>41.986460</td>\n      <td>-87.794225</td>\n    </tr>\n    <tr>\n      <th>554</th>\n      <td>2011-09-07</td>\n      <td>7:44:32 PM</td>\n      <td>41.986460</td>\n      <td>-87.794225</td>\n    </tr>\n    <tr>\n      <th>555</th>\n      <td>2011-09-07</td>\n      <td>7:44:32 PM</td>\n      <td>41.986460</td>\n      <td>-87.794225</td>\n    </tr>\n    <tr>\n      <th>556</th>\n      <td>2011-09-07</td>\n      <td>7:44:32 PM</td>\n      <td>41.986460</td>\n      <td>-87.794225</td>\n    </tr>\n    <tr>\n      <th>557</th>\n      <td>2011-09-07</td>\n      <td>7:44:32 PM</td>\n      <td>41.986460</td>\n      <td>-87.794225</td>\n    </tr>\n    <tr>\n      <th>558</th>\n      <td>2011-09-07</td>\n      <td>7:44:32 PM</td>\n      <td>41.986460</td>\n      <td>-87.794225</td>\n    </tr>\n    <tr>\n      <th>559</th>\n      <td>2011-09-07</td>\n      <td>7:44:32 PM</td>\n      <td>41.986460</td>\n      <td>-87.794225</td>\n    </tr>\n    <tr>\n      <th>560</th>\n      <td>2011-09-07</td>\n      <td>7:44:32 PM</td>\n      <td>41.986460</td>\n      <td>-87.794225</td>\n    </tr>\n    <tr>\n      <th>561</th>\n      <td>2011-09-07</td>\n      <td>7:44:32 PM</td>\n      <td>41.986460</td>\n      <td>-87.794225</td>\n    </tr>\n    <tr>\n      <th>562</th>\n      <td>2011-09-07</td>\n      <td>7:44:32 PM</td>\n      <td>41.986460</td>\n      <td>-87.794225</td>\n    </tr>\n    <tr>\n      <th>563</th>\n      <td>2011-09-07</td>\n      <td>7:44:32 PM</td>\n      <td>41.986460</td>\n      <td>-87.794225</td>\n    </tr>\n    <tr>\n      <th>564</th>\n      <td>2011-09-07</td>\n      <td>7:44:32 PM</td>\n      <td>41.986460</td>\n      <td>-87.794225</td>\n    </tr>\n    <tr>\n      <th>565</th>\n      <td>2011-09-07</td>\n      <td>7:44:32 PM</td>\n      <td>41.986460</td>\n      <td>-87.794225</td>\n    </tr>\n    <tr>\n      <th>566</th>\n      <td>2011-09-07</td>\n      <td>7:44:32 PM</td>\n      <td>41.986460</td>\n      <td>-87.794225</td>\n    </tr>\n    <tr>\n      <th>567</th>\n      <td>2011-09-07</td>\n      <td>7:44:32 PM</td>\n      <td>41.986460</td>\n      <td>-87.794225</td>\n    </tr>\n    <tr>\n      <th>568</th>\n      <td>2011-09-07</td>\n      <td>7:44:32 PM</td>\n      <td>41.986460</td>\n      <td>-87.794225</td>\n    </tr>\n    <tr>\n      <th>569</th>\n      <td>2011-09-07</td>\n      <td>7:44:32 PM</td>\n      <td>41.986460</td>\n      <td>-87.794225</td>\n    </tr>\n    <tr>\n      <th>570</th>\n      <td>2011-09-07</td>\n      <td>7:44:32 PM</td>\n      <td>41.986460</td>\n      <td>-87.794225</td>\n    </tr>\n    <tr>\n      <th>571</th>\n      <td>2011-09-07</td>\n      <td>7:44:32 PM</td>\n      <td>41.986460</td>\n      <td>-87.794225</td>\n    </tr>\n    <tr>\n      <th>572</th>\n      <td>2011-09-07</td>\n      <td>7:44:32 PM</td>\n      <td>41.986460</td>\n      <td>-87.794225</td>\n    </tr>\n    <tr>\n      <th>573</th>\n      <td>2011-09-07</td>\n      <td>7:44:32 PM</td>\n      <td>41.986460</td>\n      <td>-87.794225</td>\n    </tr>\n    <tr>\n      <th>574</th>\n      <td>2011-09-07</td>\n      <td>7:44:32 PM</td>\n      <td>41.986460</td>\n      <td>-87.794225</td>\n    </tr>\n    <tr>\n      <th>575</th>\n      <td>2011-09-07</td>\n      <td>7:44:32 PM</td>\n      <td>41.986460</td>\n      <td>-87.794225</td>\n    </tr>\n    <tr>\n      <th>576</th>\n      <td>2011-09-07</td>\n      <td>7:44:32 PM</td>\n      <td>41.986460</td>\n      <td>-87.794225</td>\n    </tr>\n    <tr>\n      <th>577</th>\n      <td>2011-09-07</td>\n      <td>7:44:32 PM</td>\n      <td>41.986460</td>\n      <td>-87.794225</td>\n    </tr>\n    <tr>\n      <th>578</th>\n      <td>2011-09-07</td>\n      <td>7:44:32 PM</td>\n      <td>41.986460</td>\n      <td>-87.794225</td>\n    </tr>\n    <tr>\n      <th>579</th>\n      <td>2011-09-07</td>\n      <td>7:44:32 PM</td>\n      <td>41.986460</td>\n      <td>-87.794225</td>\n    </tr>\n    <tr>\n      <th>580</th>\n      <td>2011-09-07</td>\n      <td>7:44:32 PM</td>\n      <td>41.986460</td>\n      <td>-87.794225</td>\n    </tr>\n    <tr>\n      <th>581</th>\n      <td>2011-09-07</td>\n      <td>7:44:32 PM</td>\n      <td>41.986460</td>\n      <td>-87.794225</td>\n    </tr>\n    <tr>\n      <th>582</th>\n      <td>2011-09-07</td>\n      <td>7:44:32 PM</td>\n      <td>41.986460</td>\n      <td>-87.794225</td>\n    </tr>\n    <tr>\n      <th>583</th>\n      <td>2011-09-07</td>\n      <td>7:44:32 PM</td>\n      <td>41.986460</td>\n      <td>-87.794225</td>\n    </tr>\n    <tr>\n      <th>584</th>\n      <td>2011-09-07</td>\n      <td>7:44:32 PM</td>\n      <td>41.986460</td>\n      <td>-87.794225</td>\n    </tr>\n    <tr>\n      <th>585</th>\n      <td>2011-09-07</td>\n      <td>7:44:32 PM</td>\n      <td>41.986460</td>\n      <td>-87.794225</td>\n    </tr>\n    <tr>\n      <th>586</th>\n      <td>2011-09-07</td>\n      <td>7:44:32 PM</td>\n      <td>41.986460</td>\n      <td>-87.794225</td>\n    </tr>\n    <tr>\n      <th>587</th>\n      <td>2011-09-07</td>\n      <td>7:44:32 PM</td>\n      <td>41.986460</td>\n      <td>-87.794225</td>\n    </tr>\n    <tr>\n      <th>588</th>\n      <td>2011-09-07</td>\n      <td>7:44:32 PM</td>\n      <td>41.986460</td>\n      <td>-87.794225</td>\n    </tr>\n    <tr>\n      <th>589</th>\n      <td>2011-09-07</td>\n      <td>7:44:32 PM</td>\n      <td>41.986460</td>\n      <td>-87.794225</td>\n    </tr>\n    <tr>\n      <th>590</th>\n      <td>2011-09-07</td>\n      <td>7:44:32 PM</td>\n      <td>41.986460</td>\n      <td>-87.794225</td>\n    </tr>\n    <tr>\n      <th>591</th>\n      <td>2011-09-07</td>\n      <td>7:44:32 PM</td>\n      <td>41.986460</td>\n      <td>-87.794225</td>\n    </tr>\n    <tr>\n      <th>592</th>\n      <td>2011-09-07</td>\n      <td>7:44:32 PM</td>\n      <td>41.986460</td>\n      <td>-87.794225</td>\n    </tr>\n    <tr>\n      <th>593</th>\n      <td>2011-09-07</td>\n      <td>7:44:32 PM</td>\n      <td>41.986460</td>\n      <td>-87.794225</td>\n    </tr>\n    <tr>\n      <th>594</th>\n      <td>2011-09-07</td>\n      <td>7:44:32 PM</td>\n      <td>41.986460</td>\n      <td>-87.794225</td>\n    </tr>\n    <tr>\n      <th>595</th>\n      <td>2011-09-07</td>\n      <td>7:44:32 PM</td>\n      <td>41.986460</td>\n      <td>-87.794225</td>\n    </tr>\n    <tr>\n      <th>596</th>\n      <td>2011-09-07</td>\n      <td>7:44:32 PM</td>\n      <td>41.986460</td>\n      <td>-87.794225</td>\n    </tr>\n    <tr>\n      <th>597</th>\n      <td>2011-09-07</td>\n      <td>7:44:32 PM</td>\n      <td>41.986460</td>\n      <td>-87.794225</td>\n    </tr>\n    <tr>\n      <th>598</th>\n      <td>2011-09-07</td>\n      <td>7:44:32 PM</td>\n      <td>41.986460</td>\n      <td>-87.794225</td>\n    </tr>\n    <tr>\n      <th>599</th>\n      <td>2011-09-07</td>\n      <td>7:44:32 PM</td>\n      <td>41.986460</td>\n      <td>-87.794225</td>\n    </tr>\n    <tr>\n      <th>600</th>\n      <td>2011-09-07</td>\n      <td>7:44:32 PM</td>\n      <td>41.986460</td>\n      <td>-87.794225</td>\n    </tr>\n    <tr>\n      <th>601</th>\n      <td>2011-09-07</td>\n      <td>7:44:32 PM</td>\n      <td>41.986460</td>\n      <td>-87.794225</td>\n    </tr>\n    <tr>\n      <th>602</th>\n      <td>2011-09-07</td>\n      <td>7:44:32 PM</td>\n      <td>41.986460</td>\n      <td>-87.794225</td>\n    </tr>\n    <tr>\n      <th>603</th>\n      <td>2011-09-07</td>\n      <td>7:44:32 PM</td>\n      <td>41.986460</td>\n      <td>-87.794225</td>\n    </tr>\n    <tr>\n      <th>604</th>\n      <td>2011-09-07</td>\n      <td>7:44:32 PM</td>\n      <td>41.986460</td>\n      <td>-87.794225</td>\n    </tr>\n    <tr>\n      <th>605</th>\n      <td>2011-09-07</td>\n      <td>7:44:32 PM</td>\n      <td>41.986460</td>\n      <td>-87.794225</td>\n    </tr>\n    <tr>\n      <th>606</th>\n      <td>2011-09-07</td>\n      <td>7:44:32 PM</td>\n      <td>41.986460</td>\n      <td>-87.794225</td>\n    </tr>\n    <tr>\n      <th>607</th>\n      <td>2011-09-07</td>\n      <td>7:44:32 PM</td>\n      <td>41.986460</td>\n      <td>-87.794225</td>\n    </tr>\n    <tr>\n      <th>608</th>\n      <td>2011-09-07</td>\n      <td>7:44:32 PM</td>\n      <td>41.986460</td>\n      <td>-87.794225</td>\n    </tr>\n    <tr>\n      <th>609</th>\n      <td>2011-09-07</td>\n      <td>7:44:32 PM</td>\n      <td>41.986460</td>\n      <td>-87.794225</td>\n    </tr>\n    <tr>\n      <th>610</th>\n      <td>2011-09-07</td>\n      <td>7:44:32 PM</td>\n      <td>41.986460</td>\n      <td>-87.794225</td>\n    </tr>\n    <tr>\n      <th>611</th>\n      <td>2011-09-07</td>\n      <td>7:44:32 PM</td>\n      <td>41.986460</td>\n      <td>-87.794225</td>\n    </tr>\n    <tr>\n      <th>612</th>\n      <td>2011-09-07</td>\n      <td>7:44:32 PM</td>\n      <td>41.986460</td>\n      <td>-87.794225</td>\n    </tr>\n    <tr>\n      <th>613</th>\n      <td>2011-09-07</td>\n      <td>7:44:32 PM</td>\n      <td>41.986460</td>\n      <td>-87.794225</td>\n    </tr>\n    <tr>\n      <th>614</th>\n      <td>2011-09-07</td>\n      <td>7:44:32 PM</td>\n      <td>41.986460</td>\n      <td>-87.794225</td>\n    </tr>\n    <tr>\n      <th>615</th>\n      <td>2011-09-07</td>\n      <td>7:44:32 PM</td>\n      <td>41.986460</td>\n      <td>-87.794225</td>\n    </tr>\n    <tr>\n      <th>616</th>\n      <td>2011-09-07</td>\n      <td>7:44:32 PM</td>\n      <td>41.986460</td>\n      <td>-87.794225</td>\n    </tr>\n    <tr>\n      <th>617</th>\n      <td>2011-09-07</td>\n      <td>7:44:32 PM</td>\n      <td>41.986460</td>\n      <td>-87.794225</td>\n    </tr>\n    <tr>\n      <th>618</th>\n      <td>2011-09-07</td>\n      <td>7:44:32 PM</td>\n      <td>41.986460</td>\n      <td>-87.794225</td>\n    </tr>\n    <tr>\n      <th>619</th>\n      <td>2011-09-07</td>\n      <td>7:44:32 PM</td>\n      <td>41.986460</td>\n      <td>-87.794225</td>\n    </tr>\n    <tr>\n      <th>620</th>\n      <td>2011-09-07</td>\n      <td>7:44:32 PM</td>\n      <td>41.986460</td>\n      <td>-87.794225</td>\n    </tr>\n    <tr>\n      <th>621</th>\n      <td>2011-09-07</td>\n      <td>7:44:32 PM</td>\n      <td>41.986460</td>\n      <td>-87.794225</td>\n    </tr>\n    <tr>\n      <th>622</th>\n      <td>2011-09-07</td>\n      <td>7:44:32 PM</td>\n      <td>41.986460</td>\n      <td>-87.794225</td>\n    </tr>\n    <tr>\n      <th>623</th>\n      <td>2011-09-07</td>\n      <td>7:44:32 PM</td>\n      <td>41.986460</td>\n      <td>-87.794225</td>\n    </tr>\n    <tr>\n      <th>624</th>\n      <td>2011-09-07</td>\n      <td>7:44:32 PM</td>\n      <td>41.986460</td>\n      <td>-87.794225</td>\n    </tr>\n    <tr>\n      <th>625</th>\n      <td>2011-09-07</td>\n      <td>7:44:32 PM</td>\n      <td>41.986460</td>\n      <td>-87.794225</td>\n    </tr>\n    <tr>\n      <th>626</th>\n      <td>2011-09-07</td>\n      <td>7:44:32 PM</td>\n      <td>41.986460</td>\n      <td>-87.794225</td>\n    </tr>\n    <tr>\n      <th>627</th>\n      <td>2011-09-07</td>\n      <td>7:44:32 PM</td>\n      <td>41.986460</td>\n      <td>-87.794225</td>\n    </tr>\n    <tr>\n      <th>628</th>\n      <td>2011-09-07</td>\n      <td>7:44:32 PM</td>\n      <td>41.986460</td>\n      <td>-87.794225</td>\n    </tr>\n    <tr>\n      <th>629</th>\n      <td>2011-09-07</td>\n      <td>7:44:32 PM</td>\n      <td>41.986460</td>\n      <td>-87.794225</td>\n    </tr>\n    <tr>\n      <th>630</th>\n      <td>2011-09-07</td>\n      <td>7:44:32 PM</td>\n      <td>41.986460</td>\n      <td>-87.794225</td>\n    </tr>\n    <tr>\n      <th>631</th>\n      <td>2011-09-07</td>\n      <td>7:44:32 PM</td>\n      <td>41.986460</td>\n      <td>-87.794225</td>\n    </tr>\n    <tr>\n      <th>632</th>\n      <td>2011-09-07</td>\n      <td>7:44:32 PM</td>\n      <td>41.986460</td>\n      <td>-87.794225</td>\n    </tr>\n    <tr>\n      <th>633</th>\n      <td>2011-09-07</td>\n      <td>7:44:32 PM</td>\n      <td>41.986460</td>\n      <td>-87.794225</td>\n    </tr>\n    <tr>\n      <th>634</th>\n      <td>2011-09-07</td>\n      <td>7:44:32 PM</td>\n      <td>41.986460</td>\n      <td>-87.794225</td>\n    </tr>\n    <tr>\n      <th>635</th>\n      <td>2011-09-07</td>\n      <td>7:44:32 PM</td>\n      <td>41.986460</td>\n      <td>-87.794225</td>\n    </tr>\n    <tr>\n      <th>636</th>\n      <td>2011-09-07</td>\n      <td>7:44:32 PM</td>\n      <td>41.986460</td>\n      <td>-87.794225</td>\n    </tr>\n    <tr>\n      <th>637</th>\n      <td>2011-09-07</td>\n      <td>7:44:32 PM</td>\n      <td>41.986460</td>\n      <td>-87.794225</td>\n    </tr>\n    <tr>\n      <th>638</th>\n      <td>2011-09-07</td>\n      <td>7:44:32 PM</td>\n      <td>41.986460</td>\n      <td>-87.794225</td>\n    </tr>\n    <tr>\n      <th>639</th>\n      <td>2011-09-07</td>\n      <td>7:44:32 PM</td>\n      <td>41.986460</td>\n      <td>-87.794225</td>\n    </tr>\n    <tr>\n      <th>640</th>\n      <td>2011-09-07</td>\n      <td>7:44:32 PM</td>\n      <td>41.986460</td>\n      <td>-87.794225</td>\n    </tr>\n    <tr>\n      <th>641</th>\n      <td>2011-09-07</td>\n      <td>7:44:32 PM</td>\n      <td>41.986460</td>\n      <td>-87.794225</td>\n    </tr>\n    <tr>\n      <th>642</th>\n      <td>2011-09-07</td>\n      <td>7:44:32 PM</td>\n      <td>41.986460</td>\n      <td>-87.794225</td>\n    </tr>\n    <tr>\n      <th>643</th>\n      <td>2011-09-07</td>\n      <td>7:44:32 PM</td>\n      <td>41.986460</td>\n      <td>-87.794225</td>\n    </tr>\n    <tr>\n      <th>644</th>\n      <td>2011-09-07</td>\n      <td>7:44:32 PM</td>\n      <td>41.986460</td>\n      <td>-87.794225</td>\n    </tr>\n    <tr>\n      <th>645</th>\n      <td>2011-09-07</td>\n      <td>7:44:32 PM</td>\n      <td>41.986460</td>\n      <td>-87.794225</td>\n    </tr>\n    <tr>\n      <th>646</th>\n      <td>2011-09-07</td>\n      <td>7:44:32 PM</td>\n      <td>41.986460</td>\n      <td>-87.794225</td>\n    </tr>\n    <tr>\n      <th>647</th>\n      <td>2011-09-07</td>\n      <td>7:44:32 PM</td>\n      <td>41.986460</td>\n      <td>-87.794225</td>\n    </tr>\n    <tr>\n      <th>648</th>\n      <td>2011-09-07</td>\n      <td>7:44:32 PM</td>\n      <td>41.986460</td>\n      <td>-87.794225</td>\n    </tr>\n    <tr>\n      <th>649</th>\n      <td>2011-09-07</td>\n      <td>7:44:32 PM</td>\n      <td>41.986460</td>\n      <td>-87.794225</td>\n    </tr>\n    <tr>\n      <th>650</th>\n      <td>2011-09-07</td>\n      <td>7:44:32 PM</td>\n      <td>41.986460</td>\n      <td>-87.794225</td>\n    </tr>\n    <tr>\n      <th>651</th>\n      <td>2011-09-07</td>\n      <td>7:44:32 PM</td>\n      <td>41.986460</td>\n      <td>-87.794225</td>\n    </tr>\n    <tr>\n      <th>652</th>\n      <td>2011-09-07</td>\n      <td>7:44:32 PM</td>\n      <td>41.986460</td>\n      <td>-87.794225</td>\n    </tr>\n    <tr>\n      <th>653</th>\n      <td>2011-09-07</td>\n      <td>7:44:32 PM</td>\n      <td>41.986460</td>\n      <td>-87.794225</td>\n    </tr>\n    <tr>\n      <th>654</th>\n      <td>2011-09-07</td>\n      <td>7:44:32 PM</td>\n      <td>41.986460</td>\n      <td>-87.794225</td>\n    </tr>\n    <tr>\n      <th>655</th>\n      <td>2011-09-07</td>\n      <td>7:44:32 PM</td>\n      <td>41.986460</td>\n      <td>-87.794225</td>\n    </tr>\n    <tr>\n      <th>656</th>\n      <td>2011-09-07</td>\n      <td>7:44:32 PM</td>\n      <td>41.986460</td>\n      <td>-87.794225</td>\n    </tr>\n    <tr>\n      <th>657</th>\n      <td>2011-09-07</td>\n      <td>7:44:32 PM</td>\n      <td>41.986460</td>\n      <td>-87.794225</td>\n    </tr>\n    <tr>\n      <th>658</th>\n      <td>2011-09-07</td>\n      <td>7:44:32 PM</td>\n      <td>41.986460</td>\n      <td>-87.794225</td>\n    </tr>\n    <tr>\n      <th>659</th>\n      <td>2011-09-07</td>\n      <td>7:44:32 PM</td>\n      <td>41.986460</td>\n      <td>-87.794225</td>\n    </tr>\n    <tr>\n      <th>660</th>\n      <td>2011-09-07</td>\n      <td>7:44:32 PM</td>\n      <td>41.986460</td>\n      <td>-87.794225</td>\n    </tr>\n    <tr>\n      <th>661</th>\n      <td>2011-09-07</td>\n      <td>7:44:32 PM</td>\n      <td>41.986460</td>\n      <td>-87.794225</td>\n    </tr>\n    <tr>\n      <th>662</th>\n      <td>2011-09-07</td>\n      <td>7:44:32 PM</td>\n      <td>41.986460</td>\n      <td>-87.794225</td>\n    </tr>\n    <tr>\n      <th>663</th>\n      <td>2011-09-07</td>\n      <td>7:44:32 PM</td>\n      <td>41.986460</td>\n      <td>-87.794225</td>\n    </tr>\n    <tr>\n      <th>664</th>\n      <td>2011-09-07</td>\n      <td>7:44:32 PM</td>\n      <td>41.986460</td>\n      <td>-87.794225</td>\n    </tr>\n    <tr>\n      <th>665</th>\n      <td>2011-09-07</td>\n      <td>7:44:32 PM</td>\n      <td>41.986460</td>\n      <td>-87.794225</td>\n    </tr>\n    <tr>\n      <th>666</th>\n      <td>2011-09-07</td>\n      <td>7:44:32 PM</td>\n      <td>41.986460</td>\n      <td>-87.794225</td>\n    </tr>\n    <tr>\n      <th>667</th>\n      <td>2011-09-07</td>\n      <td>7:44:32 PM</td>\n      <td>41.986460</td>\n      <td>-87.794225</td>\n    </tr>\n    <tr>\n      <th>668</th>\n      <td>2011-09-07</td>\n      <td>7:44:32 PM</td>\n      <td>41.986460</td>\n      <td>-87.794225</td>\n    </tr>\n    <tr>\n      <th>669</th>\n      <td>2011-09-07</td>\n      <td>7:44:32 PM</td>\n      <td>41.986460</td>\n      <td>-87.794225</td>\n    </tr>\n    <tr>\n      <th>670</th>\n      <td>2011-09-07</td>\n      <td>7:44:32 PM</td>\n      <td>41.986460</td>\n      <td>-87.794225</td>\n    </tr>\n    <tr>\n      <th>671</th>\n      <td>2011-09-07</td>\n      <td>7:44:32 PM</td>\n      <td>41.986460</td>\n      <td>-87.794225</td>\n    </tr>\n    <tr>\n      <th>672</th>\n      <td>2011-09-07</td>\n      <td>7:44:32 PM</td>\n      <td>41.986460</td>\n      <td>-87.794225</td>\n    </tr>\n    <tr>\n      <th>673</th>\n      <td>2011-09-07</td>\n      <td>7:44:32 PM</td>\n      <td>41.986460</td>\n      <td>-87.794225</td>\n    </tr>\n    <tr>\n      <th>674</th>\n      <td>2011-09-07</td>\n      <td>7:44:32 PM</td>\n      <td>41.986460</td>\n      <td>-87.794225</td>\n    </tr>\n    <tr>\n      <th>675</th>\n      <td>2011-09-07</td>\n      <td>7:44:32 PM</td>\n      <td>41.986460</td>\n      <td>-87.794225</td>\n    </tr>\n    <tr>\n      <th>676</th>\n      <td>2011-09-07</td>\n      <td>7:44:32 PM</td>\n      <td>41.986460</td>\n      <td>-87.794225</td>\n    </tr>\n    <tr>\n      <th>677</th>\n      <td>2011-09-07</td>\n      <td>7:44:32 PM</td>\n      <td>41.986460</td>\n      <td>-87.794225</td>\n    </tr>\n    <tr>\n      <th>678</th>\n      <td>2011-09-07</td>\n      <td>7:44:32 PM</td>\n      <td>41.986460</td>\n      <td>-87.794225</td>\n    </tr>\n    <tr>\n      <th>679</th>\n      <td>2011-09-07</td>\n      <td>7:44:32 PM</td>\n      <td>41.986460</td>\n      <td>-87.794225</td>\n    </tr>\n    <tr>\n      <th>680</th>\n      <td>2011-09-07</td>\n      <td>7:44:32 PM</td>\n      <td>41.986460</td>\n      <td>-87.794225</td>\n    </tr>\n    <tr>\n      <th>681</th>\n      <td>2011-09-07</td>\n      <td>7:44:32 PM</td>\n      <td>41.986460</td>\n      <td>-87.794225</td>\n    </tr>\n    <tr>\n      <th>682</th>\n      <td>2011-09-07</td>\n      <td>7:44:32 PM</td>\n      <td>41.986460</td>\n      <td>-87.794225</td>\n    </tr>\n    <tr>\n      <th>683</th>\n      <td>2011-09-07</td>\n      <td>7:44:32 PM</td>\n      <td>41.986460</td>\n      <td>-87.794225</td>\n    </tr>\n    <tr>\n      <th>684</th>\n      <td>2011-09-07</td>\n      <td>7:44:32 PM</td>\n      <td>41.986460</td>\n      <td>-87.794225</td>\n    </tr>\n    <tr>\n      <th>685</th>\n      <td>2011-09-07</td>\n      <td>7:44:32 PM</td>\n      <td>41.986460</td>\n      <td>-87.794225</td>\n    </tr>\n    <tr>\n      <th>686</th>\n      <td>2011-09-07</td>\n      <td>7:44:32 PM</td>\n      <td>41.986460</td>\n      <td>-87.794225</td>\n    </tr>\n    <tr>\n      <th>687</th>\n      <td>2011-09-07</td>\n      <td>7:44:32 PM</td>\n      <td>41.986460</td>\n      <td>-87.794225</td>\n    </tr>\n    <tr>\n      <th>688</th>\n      <td>2011-09-07</td>\n      <td>7:44:32 PM</td>\n      <td>41.986460</td>\n      <td>-87.794225</td>\n    </tr>\n    <tr>\n      <th>689</th>\n      <td>2011-09-07</td>\n      <td>7:44:32 PM</td>\n      <td>41.986460</td>\n      <td>-87.794225</td>\n    </tr>\n    <tr>\n      <th>690</th>\n      <td>2011-09-07</td>\n      <td>7:44:32 PM</td>\n      <td>41.986460</td>\n      <td>-87.794225</td>\n    </tr>\n    <tr>\n      <th>691</th>\n      <td>2011-09-07</td>\n      <td>7:44:32 PM</td>\n      <td>41.986460</td>\n      <td>-87.794225</td>\n    </tr>\n    <tr>\n      <th>692</th>\n      <td>2011-09-07</td>\n      <td>7:44:32 PM</td>\n      <td>41.986460</td>\n      <td>-87.794225</td>\n    </tr>\n    <tr>\n      <th>693</th>\n      <td>2011-09-07</td>\n      <td>7:44:32 PM</td>\n      <td>41.986460</td>\n      <td>-87.794225</td>\n    </tr>\n    <tr>\n      <th>694</th>\n      <td>2011-09-07</td>\n      <td>7:44:32 PM</td>\n      <td>41.986460</td>\n      <td>-87.794225</td>\n    </tr>\n    <tr>\n      <th>695</th>\n      <td>2011-09-07</td>\n      <td>7:44:32 PM</td>\n      <td>41.986460</td>\n      <td>-87.794225</td>\n    </tr>\n    <tr>\n      <th>696</th>\n      <td>2011-09-07</td>\n      <td>7:44:32 PM</td>\n      <td>41.986460</td>\n      <td>-87.794225</td>\n    </tr>\n    <tr>\n      <th>697</th>\n      <td>2011-09-07</td>\n      <td>7:44:32 PM</td>\n      <td>41.986460</td>\n      <td>-87.794225</td>\n    </tr>\n    <tr>\n      <th>698</th>\n      <td>2011-09-07</td>\n      <td>7:44:32 PM</td>\n      <td>41.986460</td>\n      <td>-87.794225</td>\n    </tr>\n    <tr>\n      <th>699</th>\n      <td>2011-09-07</td>\n      <td>7:44:32 PM</td>\n      <td>41.986460</td>\n      <td>-87.794225</td>\n    </tr>\n    <tr>\n      <th>700</th>\n      <td>2011-09-07</td>\n      <td>7:44:32 PM</td>\n      <td>41.986460</td>\n      <td>-87.794225</td>\n    </tr>\n    <tr>\n      <th>701</th>\n      <td>2011-09-07</td>\n      <td>7:44:32 PM</td>\n      <td>41.986460</td>\n      <td>-87.794225</td>\n    </tr>\n    <tr>\n      <th>702</th>\n      <td>2011-09-07</td>\n      <td>7:44:32 PM</td>\n      <td>41.986460</td>\n      <td>-87.794225</td>\n    </tr>\n    <tr>\n      <th>703</th>\n      <td>2011-09-07</td>\n      <td>7:44:32 PM</td>\n      <td>41.986460</td>\n      <td>-87.794225</td>\n    </tr>\n    <tr>\n      <th>704</th>\n      <td>2011-09-07</td>\n      <td>7:44:32 PM</td>\n      <td>41.986460</td>\n      <td>-87.794225</td>\n    </tr>\n    <tr>\n      <th>705</th>\n      <td>2011-09-07</td>\n      <td>7:44:32 PM</td>\n      <td>41.986460</td>\n      <td>-87.794225</td>\n    </tr>\n    <tr>\n      <th>706</th>\n      <td>2011-09-07</td>\n      <td>7:44:32 PM</td>\n      <td>41.986460</td>\n      <td>-87.794225</td>\n    </tr>\n    <tr>\n      <th>707</th>\n      <td>2011-09-07</td>\n      <td>7:44:32 PM</td>\n      <td>41.986460</td>\n      <td>-87.794225</td>\n    </tr>\n    <tr>\n      <th>708</th>\n      <td>2011-09-07</td>\n      <td>7:44:32 PM</td>\n      <td>41.986460</td>\n      <td>-87.794225</td>\n    </tr>\n    <tr>\n      <th>709</th>\n      <td>2011-09-07</td>\n      <td>7:44:32 PM</td>\n      <td>41.986460</td>\n      <td>-87.794225</td>\n    </tr>\n    <tr>\n      <th>710</th>\n      <td>2011-09-07</td>\n      <td>7:44:32 PM</td>\n      <td>41.986460</td>\n      <td>-87.794225</td>\n    </tr>\n    <tr>\n      <th>711</th>\n      <td>2011-09-07</td>\n      <td>7:44:32 PM</td>\n      <td>41.986460</td>\n      <td>-87.794225</td>\n    </tr>\n    <tr>\n      <th>712</th>\n      <td>2011-09-07</td>\n      <td>7:44:32 PM</td>\n      <td>41.986460</td>\n      <td>-87.794225</td>\n    </tr>\n    <tr>\n      <th>713</th>\n      <td>2011-09-07</td>\n      <td>7:44:32 PM</td>\n      <td>41.986460</td>\n      <td>-87.794225</td>\n    </tr>\n    <tr>\n      <th>714</th>\n      <td>2011-09-07</td>\n      <td>7:44:32 PM</td>\n      <td>41.986460</td>\n      <td>-87.794225</td>\n    </tr>\n    <tr>\n      <th>715</th>\n      <td>2011-09-07</td>\n      <td>7:44:32 PM</td>\n      <td>41.986460</td>\n      <td>-87.794225</td>\n    </tr>\n    <tr>\n      <th>716</th>\n      <td>2011-09-07</td>\n      <td>7:44:32 PM</td>\n      <td>41.986460</td>\n      <td>-87.794225</td>\n    </tr>\n    <tr>\n      <th>717</th>\n      <td>2011-09-07</td>\n      <td>7:44:32 PM</td>\n      <td>41.986460</td>\n      <td>-87.794225</td>\n    </tr>\n    <tr>\n      <th>718</th>\n      <td>2011-09-07</td>\n      <td>7:44:32 PM</td>\n      <td>41.986460</td>\n      <td>-87.794225</td>\n    </tr>\n    <tr>\n      <th>719</th>\n      <td>2011-09-07</td>\n      <td>7:44:32 PM</td>\n      <td>41.986460</td>\n      <td>-87.794225</td>\n    </tr>\n    <tr>\n      <th>720</th>\n      <td>2011-09-07</td>\n      <td>7:44:32 PM</td>\n      <td>41.986460</td>\n      <td>-87.794225</td>\n    </tr>\n    <tr>\n      <th>721</th>\n      <td>2011-09-07</td>\n      <td>7:44:32 PM</td>\n      <td>41.986460</td>\n      <td>-87.794225</td>\n    </tr>\n    <tr>\n      <th>722</th>\n      <td>2011-09-07</td>\n      <td>7:44:32 PM</td>\n      <td>41.986460</td>\n      <td>-87.794225</td>\n    </tr>\n    <tr>\n      <th>723</th>\n      <td>2011-09-07</td>\n      <td>7:44:32 PM</td>\n      <td>41.986460</td>\n      <td>-87.794225</td>\n    </tr>\n    <tr>\n      <th>724</th>\n      <td>2011-09-07</td>\n      <td>7:44:32 PM</td>\n      <td>41.986460</td>\n      <td>-87.794225</td>\n    </tr>\n    <tr>\n      <th>725</th>\n      <td>2011-09-07</td>\n      <td>7:44:32 PM</td>\n      <td>41.986460</td>\n      <td>-87.794225</td>\n    </tr>\n    <tr>\n      <th>726</th>\n      <td>2011-09-07</td>\n      <td>7:44:32 PM</td>\n      <td>41.986460</td>\n      <td>-87.794225</td>\n    </tr>\n    <tr>\n      <th>727</th>\n      <td>2011-09-07</td>\n      <td>7:44:32 PM</td>\n      <td>41.986460</td>\n      <td>-87.794225</td>\n    </tr>\n    <tr>\n      <th>728</th>\n      <td>2011-09-07</td>\n      <td>7:44:32 PM</td>\n      <td>41.986460</td>\n      <td>-87.794225</td>\n    </tr>\n    <tr>\n      <th>729</th>\n      <td>2011-09-07</td>\n      <td>7:44:32 PM</td>\n      <td>41.986460</td>\n      <td>-87.794225</td>\n    </tr>\n    <tr>\n      <th>730</th>\n      <td>2011-09-07</td>\n      <td>7:44:32 PM</td>\n      <td>41.986460</td>\n      <td>-87.794225</td>\n    </tr>\n    <tr>\n      <th>731</th>\n      <td>2011-09-07</td>\n      <td>7:44:32 PM</td>\n      <td>41.986460</td>\n      <td>-87.794225</td>\n    </tr>\n    <tr>\n      <th>732</th>\n      <td>2011-09-07</td>\n      <td>7:44:32 PM</td>\n      <td>41.986460</td>\n      <td>-87.794225</td>\n    </tr>\n    <tr>\n      <th>733</th>\n      <td>2011-09-07</td>\n      <td>7:44:32 PM</td>\n      <td>41.986460</td>\n      <td>-87.794225</td>\n    </tr>\n    <tr>\n      <th>734</th>\n      <td>2011-09-07</td>\n      <td>7:44:32 PM</td>\n      <td>41.986460</td>\n      <td>-87.794225</td>\n    </tr>\n    <tr>\n      <th>735</th>\n      <td>2011-09-07</td>\n      <td>7:44:32 PM</td>\n      <td>41.986460</td>\n      <td>-87.794225</td>\n    </tr>\n    <tr>\n      <th>736</th>\n      <td>2011-09-07</td>\n      <td>7:44:32 PM</td>\n      <td>41.986460</td>\n      <td>-87.794225</td>\n    </tr>\n    <tr>\n      <th>737</th>\n      <td>2011-09-07</td>\n      <td>7:44:32 PM</td>\n      <td>41.986460</td>\n      <td>-87.794225</td>\n    </tr>\n    <tr>\n      <th>738</th>\n      <td>2011-09-07</td>\n      <td>7:44:32 PM</td>\n      <td>41.986460</td>\n      <td>-87.794225</td>\n    </tr>\n    <tr>\n      <th>739</th>\n      <td>2011-09-07</td>\n      <td>7:44:32 PM</td>\n      <td>41.986460</td>\n      <td>-87.794225</td>\n    </tr>\n    <tr>\n      <th>740</th>\n      <td>2011-09-07</td>\n      <td>7:44:32 PM</td>\n      <td>41.986460</td>\n      <td>-87.794225</td>\n    </tr>\n    <tr>\n      <th>741</th>\n      <td>2011-09-07</td>\n      <td>7:44:32 PM</td>\n      <td>41.986460</td>\n      <td>-87.794225</td>\n    </tr>\n    <tr>\n      <th>742</th>\n      <td>2011-09-07</td>\n      <td>7:44:32 PM</td>\n      <td>41.986460</td>\n      <td>-87.794225</td>\n    </tr>\n    <tr>\n      <th>743</th>\n      <td>2011-09-07</td>\n      <td>7:44:32 PM</td>\n      <td>41.986460</td>\n      <td>-87.794225</td>\n    </tr>\n    <tr>\n      <th>744</th>\n      <td>2011-09-07</td>\n      <td>7:44:32 PM</td>\n      <td>41.986460</td>\n      <td>-87.794225</td>\n    </tr>\n    <tr>\n      <th>745</th>\n      <td>2011-09-07</td>\n      <td>7:44:32 PM</td>\n      <td>41.986460</td>\n      <td>-87.794225</td>\n    </tr>\n    <tr>\n      <th>746</th>\n      <td>2011-09-07</td>\n      <td>7:44:32 PM</td>\n      <td>41.986460</td>\n      <td>-87.794225</td>\n    </tr>\n    <tr>\n      <th>747</th>\n      <td>2011-09-07</td>\n      <td>7:44:32 PM</td>\n      <td>41.986460</td>\n      <td>-87.794225</td>\n    </tr>\n    <tr>\n      <th>748</th>\n      <td>2011-09-07</td>\n      <td>7:44:32 PM</td>\n      <td>41.986460</td>\n      <td>-87.794225</td>\n    </tr>\n    <tr>\n      <th>749</th>\n      <td>2011-09-07</td>\n      <td>7:44:32 PM</td>\n      <td>41.986460</td>\n      <td>-87.794225</td>\n    </tr>\n    <tr>\n      <th>750</th>\n      <td>2011-09-07</td>\n      <td>7:44:32 PM</td>\n      <td>41.986460</td>\n      <td>-87.794225</td>\n    </tr>\n    <tr>\n      <th>751</th>\n      <td>2011-09-07</td>\n      <td>7:44:32 PM</td>\n      <td>41.986460</td>\n      <td>-87.794225</td>\n    </tr>\n    <tr>\n      <th>752</th>\n      <td>2011-09-07</td>\n      <td>7:44:32 PM</td>\n      <td>41.986460</td>\n      <td>-87.794225</td>\n    </tr>\n    <tr>\n      <th>753</th>\n      <td>2011-09-07</td>\n      <td>7:44:32 PM</td>\n      <td>41.986460</td>\n      <td>-87.794225</td>\n    </tr>\n    <tr>\n      <th>754</th>\n      <td>2011-09-07</td>\n      <td>7:44:32 PM</td>\n      <td>41.986460</td>\n      <td>-87.794225</td>\n    </tr>\n    <tr>\n      <th>755</th>\n      <td>2011-09-07</td>\n      <td>7:44:32 PM</td>\n      <td>41.986460</td>\n      <td>-87.794225</td>\n    </tr>\n    <tr>\n      <th>756</th>\n      <td>2011-09-07</td>\n      <td>7:44:32 PM</td>\n      <td>41.986460</td>\n      <td>-87.794225</td>\n    </tr>\n    <tr>\n      <th>757</th>\n      <td>2011-09-07</td>\n      <td>7:44:32 PM</td>\n      <td>41.986460</td>\n      <td>-87.794225</td>\n    </tr>\n    <tr>\n      <th>758</th>\n      <td>2011-09-07</td>\n      <td>7:44:32 PM</td>\n      <td>41.986460</td>\n      <td>-87.794225</td>\n    </tr>\n    <tr>\n      <th>759</th>\n      <td>2011-09-07</td>\n      <td>7:44:32 PM</td>\n      <td>41.986460</td>\n      <td>-87.794225</td>\n    </tr>\n    <tr>\n      <th>760</th>\n      <td>2011-09-07</td>\n      <td>7:44:32 PM</td>\n      <td>41.986460</td>\n      <td>-87.794225</td>\n    </tr>\n    <tr>\n      <th>761</th>\n      <td>2011-09-07</td>\n      <td>7:44:32 PM</td>\n      <td>41.986460</td>\n      <td>-87.794225</td>\n    </tr>\n    <tr>\n      <th>762</th>\n      <td>2011-09-07</td>\n      <td>7:44:32 PM</td>\n      <td>41.986460</td>\n      <td>-87.794225</td>\n    </tr>\n    <tr>\n      <th>763</th>\n      <td>2011-09-07</td>\n      <td>7:44:32 PM</td>\n      <td>41.986460</td>\n      <td>-87.794225</td>\n    </tr>\n    <tr>\n      <th>764</th>\n      <td>2011-09-07</td>\n      <td>7:44:32 PM</td>\n      <td>41.986460</td>\n      <td>-87.794225</td>\n    </tr>\n    <tr>\n      <th>765</th>\n      <td>2011-09-07</td>\n      <td>7:44:32 PM</td>\n      <td>41.986460</td>\n      <td>-87.794225</td>\n    </tr>\n    <tr>\n      <th>766</th>\n      <td>2011-09-07</td>\n      <td>7:44:32 PM</td>\n      <td>41.986460</td>\n      <td>-87.794225</td>\n    </tr>\n    <tr>\n      <th>767</th>\n      <td>2011-09-07</td>\n      <td>7:44:32 PM</td>\n      <td>41.986460</td>\n      <td>-87.794225</td>\n    </tr>\n    <tr>\n      <th>768</th>\n      <td>2011-09-07</td>\n      <td>7:44:32 PM</td>\n      <td>41.986460</td>\n      <td>-87.794225</td>\n    </tr>\n    <tr>\n      <th>769</th>\n      <td>2011-09-07</td>\n      <td>7:44:32 PM</td>\n      <td>41.986460</td>\n      <td>-87.794225</td>\n    </tr>\n    <tr>\n      <th>770</th>\n      <td>2011-09-07</td>\n      <td>7:44:32 PM</td>\n      <td>41.986460</td>\n      <td>-87.794225</td>\n    </tr>\n    <tr>\n      <th>771</th>\n      <td>2011-09-07</td>\n      <td>7:44:32 PM</td>\n      <td>41.986460</td>\n      <td>-87.794225</td>\n    </tr>\n    <tr>\n      <th>772</th>\n      <td>2011-09-07</td>\n      <td>7:44:32 PM</td>\n      <td>41.986460</td>\n      <td>-87.794225</td>\n    </tr>\n    <tr>\n      <th>773</th>\n      <td>2011-09-07</td>\n      <td>7:44:32 PM</td>\n      <td>41.986460</td>\n      <td>-87.794225</td>\n    </tr>\n    <tr>\n      <th>774</th>\n      <td>2011-09-07</td>\n      <td>7:44:32 PM</td>\n      <td>41.986460</td>\n      <td>-87.794225</td>\n    </tr>\n    <tr>\n      <th>775</th>\n      <td>2011-09-07</td>\n      <td>7:44:32 PM</td>\n      <td>41.986460</td>\n      <td>-87.794225</td>\n    </tr>\n    <tr>\n      <th>776</th>\n      <td>2011-09-07</td>\n      <td>7:44:32 PM</td>\n      <td>41.986460</td>\n      <td>-87.794225</td>\n    </tr>\n    <tr>\n      <th>777</th>\n      <td>2011-09-07</td>\n      <td>7:44:32 PM</td>\n      <td>41.986460</td>\n      <td>-87.794225</td>\n    </tr>\n    <tr>\n      <th>778</th>\n      <td>2011-09-07</td>\n      <td>7:44:32 PM</td>\n      <td>41.986460</td>\n      <td>-87.794225</td>\n    </tr>\n    <tr>\n      <th>779</th>\n      <td>2011-09-07</td>\n      <td>7:44:32 PM</td>\n      <td>41.986460</td>\n      <td>-87.794225</td>\n    </tr>\n    <tr>\n      <th>780</th>\n      <td>2011-09-07</td>\n      <td>7:44:32 PM</td>\n      <td>41.986460</td>\n      <td>-87.794225</td>\n    </tr>\n    <tr>\n      <th>781</th>\n      <td>2011-09-07</td>\n      <td>7:44:32 PM</td>\n      <td>41.986460</td>\n      <td>-87.794225</td>\n    </tr>\n    <tr>\n      <th>782</th>\n      <td>2011-09-07</td>\n      <td>7:44:32 PM</td>\n      <td>41.986460</td>\n      <td>-87.794225</td>\n    </tr>\n    <tr>\n      <th>783</th>\n      <td>2011-09-07</td>\n      <td>7:44:32 PM</td>\n      <td>41.986460</td>\n      <td>-87.794225</td>\n    </tr>\n    <tr>\n      <th>784</th>\n      <td>2011-09-07</td>\n      <td>7:44:32 PM</td>\n      <td>41.986460</td>\n      <td>-87.794225</td>\n    </tr>\n    <tr>\n      <th>785</th>\n      <td>2011-09-07</td>\n      <td>7:44:32 PM</td>\n      <td>41.986460</td>\n      <td>-87.794225</td>\n    </tr>\n    <tr>\n      <th>786</th>\n      <td>2011-09-07</td>\n      <td>7:44:32 PM</td>\n      <td>41.986460</td>\n      <td>-87.794225</td>\n    </tr>\n    <tr>\n      <th>787</th>\n      <td>2011-09-07</td>\n      <td>7:44:32 PM</td>\n      <td>41.986460</td>\n      <td>-87.794225</td>\n    </tr>\n    <tr>\n      <th>788</th>\n      <td>2011-09-07</td>\n      <td>7:44:32 PM</td>\n      <td>41.986460</td>\n      <td>-87.794225</td>\n    </tr>\n    <tr>\n      <th>789</th>\n      <td>2011-09-07</td>\n      <td>7:44:32 PM</td>\n      <td>41.986460</td>\n      <td>-87.794225</td>\n    </tr>\n    <tr>\n      <th>790</th>\n      <td>2011-09-07</td>\n      <td>7:44:32 PM</td>\n      <td>41.986460</td>\n      <td>-87.794225</td>\n    </tr>\n    <tr>\n      <th>791</th>\n      <td>2011-09-07</td>\n      <td>7:44:32 PM</td>\n      <td>41.986460</td>\n      <td>-87.794225</td>\n    </tr>\n    <tr>\n      <th>792</th>\n      <td>2011-09-07</td>\n      <td>7:44:32 PM</td>\n      <td>41.986460</td>\n      <td>-87.794225</td>\n    </tr>\n    <tr>\n      <th>793</th>\n      <td>2011-09-07</td>\n      <td>7:44:32 PM</td>\n      <td>41.986460</td>\n      <td>-87.794225</td>\n    </tr>\n    <tr>\n      <th>794</th>\n      <td>2011-09-07</td>\n      <td>7:44:32 PM</td>\n      <td>41.986460</td>\n      <td>-87.794225</td>\n    </tr>\n    <tr>\n      <th>795</th>\n      <td>2011-09-07</td>\n      <td>7:44:32 PM</td>\n      <td>41.986460</td>\n      <td>-87.794225</td>\n    </tr>\n    <tr>\n      <th>796</th>\n      <td>2011-09-07</td>\n      <td>7:44:32 PM</td>\n      <td>41.986460</td>\n      <td>-87.794225</td>\n    </tr>\n    <tr>\n      <th>797</th>\n      <td>2011-09-07</td>\n      <td>7:44:32 PM</td>\n      <td>41.986460</td>\n      <td>-87.794225</td>\n    </tr>\n    <tr>\n      <th>798</th>\n      <td>2011-09-07</td>\n      <td>7:44:32 PM</td>\n      <td>41.986460</td>\n      <td>-87.794225</td>\n    </tr>\n    <tr>\n      <th>799</th>\n      <td>2011-09-07</td>\n      <td>7:44:32 PM</td>\n      <td>41.986460</td>\n      <td>-87.794225</td>\n    </tr>\n    <tr>\n      <th>800</th>\n      <td>2011-09-07</td>\n      <td>7:44:32 PM</td>\n      <td>41.986460</td>\n      <td>-87.794225</td>\n    </tr>\n    <tr>\n      <th>801</th>\n      <td>2011-09-07</td>\n      <td>7:44:32 PM</td>\n      <td>41.986460</td>\n      <td>-87.794225</td>\n    </tr>\n    <tr>\n      <th>802</th>\n      <td>2011-09-07</td>\n      <td>7:44:32 PM</td>\n      <td>41.986460</td>\n      <td>-87.794225</td>\n    </tr>\n    <tr>\n      <th>803</th>\n      <td>2011-09-07</td>\n      <td>7:44:32 PM</td>\n      <td>41.986460</td>\n      <td>-87.794225</td>\n    </tr>\n    <tr>\n      <th>804</th>\n      <td>2011-09-07</td>\n      <td>7:44:32 PM</td>\n      <td>41.986460</td>\n      <td>-87.794225</td>\n    </tr>\n    <tr>\n      <th>805</th>\n      <td>2011-09-07</td>\n      <td>7:44:32 PM</td>\n      <td>41.986460</td>\n      <td>-87.794225</td>\n    </tr>\n    <tr>\n      <th>806</th>\n      <td>2011-09-07</td>\n      <td>7:44:32 PM</td>\n      <td>41.986460</td>\n      <td>-87.794225</td>\n    </tr>\n    <tr>\n      <th>807</th>\n      <td>2011-09-07</td>\n      <td>7:44:32 PM</td>\n      <td>41.986460</td>\n      <td>-87.794225</td>\n    </tr>\n    <tr>\n      <th>808</th>\n      <td>2011-09-07</td>\n      <td>7:44:32 PM</td>\n      <td>41.986460</td>\n      <td>-87.794225</td>\n    </tr>\n    <tr>\n      <th>809</th>\n      <td>2011-09-07</td>\n      <td>7:44:32 PM</td>\n      <td>41.986460</td>\n      <td>-87.794225</td>\n    </tr>\n    <tr>\n      <th>810</th>\n      <td>2011-09-07</td>\n      <td>7:44:32 PM</td>\n      <td>41.986460</td>\n      <td>-87.794225</td>\n    </tr>\n    <tr>\n      <th>811</th>\n      <td>2011-09-07</td>\n      <td>7:44:32 PM</td>\n      <td>41.986460</td>\n      <td>-87.794225</td>\n    </tr>\n    <tr>\n      <th>812</th>\n      <td>2011-09-07</td>\n      <td>7:44:32 PM</td>\n      <td>41.986460</td>\n      <td>-87.794225</td>\n    </tr>\n    <tr>\n      <th>813</th>\n      <td>2011-09-07</td>\n      <td>7:44:32 PM</td>\n      <td>41.986460</td>\n      <td>-87.794225</td>\n    </tr>\n    <tr>\n      <th>814</th>\n      <td>2011-09-07</td>\n      <td>7:44:32 PM</td>\n      <td>41.986460</td>\n      <td>-87.794225</td>\n    </tr>\n    <tr>\n      <th>815</th>\n      <td>2011-09-07</td>\n      <td>7:44:32 PM</td>\n      <td>41.986460</td>\n      <td>-87.794225</td>\n    </tr>\n    <tr>\n      <th>816</th>\n      <td>2011-09-07</td>\n      <td>7:44:32 PM</td>\n      <td>41.986460</td>\n      <td>-87.794225</td>\n    </tr>\n    <tr>\n      <th>817</th>\n      <td>2011-09-07</td>\n      <td>7:44:32 PM</td>\n      <td>41.986460</td>\n      <td>-87.794225</td>\n    </tr>\n    <tr>\n      <th>818</th>\n      <td>2011-09-07</td>\n      <td>7:44:32 PM</td>\n      <td>41.986460</td>\n      <td>-87.794225</td>\n    </tr>\n    <tr>\n      <th>819</th>\n      <td>2011-09-07</td>\n      <td>7:44:32 PM</td>\n      <td>41.986460</td>\n      <td>-87.794225</td>\n    </tr>\n    <tr>\n      <th>820</th>\n      <td>2011-09-07</td>\n      <td>7:44:32 PM</td>\n      <td>41.986460</td>\n      <td>-87.794225</td>\n    </tr>\n    <tr>\n      <th>821</th>\n      <td>2011-09-07</td>\n      <td>7:44:32 PM</td>\n      <td>41.986460</td>\n      <td>-87.794225</td>\n    </tr>\n    <tr>\n      <th>822</th>\n      <td>2011-09-07</td>\n      <td>7:44:32 PM</td>\n      <td>41.986460</td>\n      <td>-87.794225</td>\n    </tr>\n    <tr>\n      <th>823</th>\n      <td>2011-09-07</td>\n      <td>7:44:32 PM</td>\n      <td>41.986460</td>\n      <td>-87.794225</td>\n    </tr>\n    <tr>\n      <th>824</th>\n      <td>2011-09-07</td>\n      <td>7:44:32 PM</td>\n      <td>41.986460</td>\n      <td>-87.794225</td>\n    </tr>\n    <tr>\n      <th>825</th>\n      <td>2011-09-07</td>\n      <td>7:44:32 PM</td>\n      <td>41.986460</td>\n      <td>-87.794225</td>\n    </tr>\n    <tr>\n      <th>826</th>\n      <td>2011-09-07</td>\n      <td>7:44:32 PM</td>\n      <td>41.986460</td>\n      <td>-87.794225</td>\n    </tr>\n    <tr>\n      <th>827</th>\n      <td>2011-09-07</td>\n      <td>7:44:32 PM</td>\n      <td>41.986460</td>\n      <td>-87.794225</td>\n    </tr>\n    <tr>\n      <th>828</th>\n      <td>2011-09-07</td>\n      <td>7:44:32 PM</td>\n      <td>41.986460</td>\n      <td>-87.794225</td>\n    </tr>\n    <tr>\n      <th>829</th>\n      <td>2011-09-07</td>\n      <td>7:44:32 PM</td>\n      <td>41.986460</td>\n      <td>-87.794225</td>\n    </tr>\n    <tr>\n      <th>830</th>\n      <td>2011-09-07</td>\n      <td>7:44:32 PM</td>\n      <td>41.986460</td>\n      <td>-87.794225</td>\n    </tr>\n    <tr>\n      <th>831</th>\n      <td>2011-09-07</td>\n      <td>7:44:32 PM</td>\n      <td>41.986460</td>\n      <td>-87.794225</td>\n    </tr>\n    <tr>\n      <th>832</th>\n      <td>2011-09-07</td>\n      <td>7:44:32 PM</td>\n      <td>41.986460</td>\n      <td>-87.794225</td>\n    </tr>\n    <tr>\n      <th>833</th>\n      <td>2011-09-07</td>\n      <td>7:44:32 PM</td>\n      <td>41.986460</td>\n      <td>-87.794225</td>\n    </tr>\n    <tr>\n      <th>834</th>\n      <td>2011-09-07</td>\n      <td>7:44:32 PM</td>\n      <td>41.986460</td>\n      <td>-87.794225</td>\n    </tr>\n    <tr>\n      <th>835</th>\n      <td>2011-09-07</td>\n      <td>7:44:32 PM</td>\n      <td>41.986460</td>\n      <td>-87.794225</td>\n    </tr>\n    <tr>\n      <th>836</th>\n      <td>2011-09-07</td>\n      <td>7:44:32 PM</td>\n      <td>41.986460</td>\n      <td>-87.794225</td>\n    </tr>\n    <tr>\n      <th>837</th>\n      <td>2011-09-07</td>\n      <td>7:44:32 PM</td>\n      <td>41.986460</td>\n      <td>-87.794225</td>\n    </tr>\n    <tr>\n      <th>838</th>\n      <td>2011-09-07</td>\n      <td>7:44:32 PM</td>\n      <td>41.986460</td>\n      <td>-87.794225</td>\n    </tr>\n    <tr>\n      <th>839</th>\n      <td>2011-09-07</td>\n      <td>7:44:32 PM</td>\n      <td>41.986460</td>\n      <td>-87.794225</td>\n    </tr>\n    <tr>\n      <th>840</th>\n      <td>2011-09-07</td>\n      <td>7:44:32 PM</td>\n      <td>41.986460</td>\n      <td>-87.794225</td>\n    </tr>\n    <tr>\n      <th>841</th>\n      <td>2011-09-07</td>\n      <td>7:44:32 PM</td>\n      <td>41.986460</td>\n      <td>-87.794225</td>\n    </tr>\n    <tr>\n      <th>842</th>\n      <td>2011-09-07</td>\n      <td>7:44:32 PM</td>\n      <td>41.986460</td>\n      <td>-87.794225</td>\n    </tr>\n    <tr>\n      <th>843</th>\n      <td>2011-09-07</td>\n      <td>7:44:32 PM</td>\n      <td>41.986460</td>\n      <td>-87.794225</td>\n    </tr>\n    <tr>\n      <th>844</th>\n      <td>2011-09-07</td>\n      <td>7:44:32 PM</td>\n      <td>41.986460</td>\n      <td>-87.794225</td>\n    </tr>\n    <tr>\n      <th>845</th>\n      <td>2011-09-07</td>\n      <td>7:44:32 PM</td>\n      <td>41.986460</td>\n      <td>-87.794225</td>\n    </tr>\n    <tr>\n      <th>846</th>\n      <td>2011-09-07</td>\n      <td>7:44:32 PM</td>\n      <td>41.986460</td>\n      <td>-87.794225</td>\n    </tr>\n    <tr>\n      <th>847</th>\n      <td>2011-09-07</td>\n      <td>7:44:32 PM</td>\n      <td>41.986460</td>\n      <td>-87.794225</td>\n    </tr>\n    <tr>\n      <th>848</th>\n      <td>2011-09-07</td>\n      <td>7:44:32 PM</td>\n      <td>41.986460</td>\n      <td>-87.794225</td>\n    </tr>\n    <tr>\n      <th>849</th>\n      <td>2011-09-07</td>\n      <td>7:44:32 PM</td>\n      <td>41.986460</td>\n      <td>-87.794225</td>\n    </tr>\n    <tr>\n      <th>850</th>\n      <td>2011-09-07</td>\n      <td>7:44:32 PM</td>\n      <td>41.986460</td>\n      <td>-87.794225</td>\n    </tr>\n    <tr>\n      <th>851</th>\n      <td>2011-09-07</td>\n      <td>7:44:32 PM</td>\n      <td>41.986460</td>\n      <td>-87.794225</td>\n    </tr>\n    <tr>\n      <th>852</th>\n      <td>2011-09-07</td>\n      <td>7:44:32 PM</td>\n      <td>41.986460</td>\n      <td>-87.794225</td>\n    </tr>\n    <tr>\n      <th>853</th>\n      <td>2011-09-07</td>\n      <td>7:44:32 PM</td>\n      <td>41.986460</td>\n      <td>-87.794225</td>\n    </tr>\n    <tr>\n      <th>854</th>\n      <td>2011-09-07</td>\n      <td>7:44:32 PM</td>\n      <td>41.986460</td>\n      <td>-87.794225</td>\n    </tr>\n    <tr>\n      <th>855</th>\n      <td>2011-09-07</td>\n      <td>7:44:32 PM</td>\n      <td>41.986460</td>\n      <td>-87.794225</td>\n    </tr>\n    <tr>\n      <th>856</th>\n      <td>2011-09-07</td>\n      <td>7:44:32 PM</td>\n      <td>41.986460</td>\n      <td>-87.794225</td>\n    </tr>\n    <tr>\n      <th>857</th>\n      <td>2011-09-07</td>\n      <td>7:44:32 PM</td>\n      <td>41.986460</td>\n      <td>-87.794225</td>\n    </tr>\n    <tr>\n      <th>858</th>\n      <td>2011-09-07</td>\n      <td>7:44:32 PM</td>\n      <td>41.986460</td>\n      <td>-87.794225</td>\n    </tr>\n    <tr>\n      <th>859</th>\n      <td>2011-09-07</td>\n      <td>7:44:32 PM</td>\n      <td>41.986460</td>\n      <td>-87.794225</td>\n    </tr>\n    <tr>\n      <th>860</th>\n      <td>2011-09-07</td>\n      <td>7:44:32 PM</td>\n      <td>41.986460</td>\n      <td>-87.794225</td>\n    </tr>\n    <tr>\n      <th>861</th>\n      <td>2011-09-07</td>\n      <td>7:44:32 PM</td>\n      <td>41.986460</td>\n      <td>-87.794225</td>\n    </tr>\n    <tr>\n      <th>862</th>\n      <td>2011-09-07</td>\n      <td>7:44:32 PM</td>\n      <td>41.986460</td>\n      <td>-87.794225</td>\n    </tr>\n    <tr>\n      <th>863</th>\n      <td>2011-09-07</td>\n      <td>7:44:32 PM</td>\n      <td>41.986460</td>\n      <td>-87.794225</td>\n    </tr>\n    <tr>\n      <th>864</th>\n      <td>2011-09-07</td>\n      <td>7:44:32 PM</td>\n      <td>41.986460</td>\n      <td>-87.794225</td>\n    </tr>\n    <tr>\n      <th>865</th>\n      <td>2011-09-07</td>\n      <td>7:44:32 PM</td>\n      <td>41.986460</td>\n      <td>-87.794225</td>\n    </tr>\n    <tr>\n      <th>866</th>\n      <td>2011-09-07</td>\n      <td>7:44:32 PM</td>\n      <td>41.986460</td>\n      <td>-87.794225</td>\n    </tr>\n    <tr>\n      <th>867</th>\n      <td>2011-09-07</td>\n      <td>7:44:32 PM</td>\n      <td>41.986460</td>\n      <td>-87.794225</td>\n    </tr>\n    <tr>\n      <th>868</th>\n      <td>2011-09-07</td>\n      <td>7:44:32 PM</td>\n      <td>41.986460</td>\n      <td>-87.794225</td>\n    </tr>\n    <tr>\n      <th>869</th>\n      <td>2011-09-07</td>\n      <td>7:44:32 PM</td>\n      <td>41.986460</td>\n      <td>-87.794225</td>\n    </tr>\n    <tr>\n      <th>870</th>\n      <td>2011-09-07</td>\n      <td>7:44:32 PM</td>\n      <td>41.986460</td>\n      <td>-87.794225</td>\n    </tr>\n    <tr>\n      <th>871</th>\n      <td>2011-09-07</td>\n      <td>7:44:32 PM</td>\n      <td>41.986460</td>\n      <td>-87.794225</td>\n    </tr>\n    <tr>\n      <th>872</th>\n      <td>2011-09-07</td>\n      <td>7:44:32 PM</td>\n      <td>41.986460</td>\n      <td>-87.794225</td>\n    </tr>\n    <tr>\n      <th>873</th>\n      <td>2011-09-07</td>\n      <td>7:44:32 PM</td>\n      <td>41.986460</td>\n      <td>-87.794225</td>\n    </tr>\n    <tr>\n      <th>874</th>\n      <td>2011-09-07</td>\n      <td>7:44:32 PM</td>\n      <td>41.986460</td>\n      <td>-87.794225</td>\n    </tr>\n    <tr>\n      <th>875</th>\n      <td>2011-09-07</td>\n      <td>7:44:32 PM</td>\n      <td>41.986460</td>\n      <td>-87.794225</td>\n    </tr>\n    <tr>\n      <th>876</th>\n      <td>2011-09-07</td>\n      <td>7:44:32 PM</td>\n      <td>41.986460</td>\n      <td>-87.794225</td>\n    </tr>\n    <tr>\n      <th>877</th>\n      <td>2011-09-07</td>\n      <td>7:44:32 PM</td>\n      <td>41.986460</td>\n      <td>-87.794225</td>\n    </tr>\n    <tr>\n      <th>878</th>\n      <td>2011-09-07</td>\n      <td>7:44:32 PM</td>\n      <td>41.986460</td>\n      <td>-87.794225</td>\n    </tr>\n    <tr>\n      <th>879</th>\n      <td>2011-09-07</td>\n      <td>7:44:32 PM</td>\n      <td>41.986460</td>\n      <td>-87.794225</td>\n    </tr>\n    <tr>\n      <th>880</th>\n      <td>2011-09-07</td>\n      <td>7:44:32 PM</td>\n      <td>41.986460</td>\n      <td>-87.794225</td>\n    </tr>\n    <tr>\n      <th>881</th>\n      <td>2011-09-07</td>\n      <td>7:44:32 PM</td>\n      <td>41.986460</td>\n      <td>-87.794225</td>\n    </tr>\n    <tr>\n      <th>882</th>\n      <td>2011-09-07</td>\n      <td>7:44:32 PM</td>\n      <td>41.986460</td>\n      <td>-87.794225</td>\n    </tr>\n    <tr>\n      <th>883</th>\n      <td>2011-09-07</td>\n      <td>7:44:32 PM</td>\n      <td>41.986460</td>\n      <td>-87.794225</td>\n    </tr>\n    <tr>\n      <th>884</th>\n      <td>2011-09-07</td>\n      <td>7:44:32 PM</td>\n      <td>41.986460</td>\n      <td>-87.794225</td>\n    </tr>\n    <tr>\n      <th>885</th>\n      <td>2011-09-07</td>\n      <td>7:44:32 PM</td>\n      <td>41.986460</td>\n      <td>-87.794225</td>\n    </tr>\n    <tr>\n      <th>886</th>\n      <td>2011-09-07</td>\n      <td>7:44:32 PM</td>\n      <td>41.986460</td>\n      <td>-87.794225</td>\n    </tr>\n    <tr>\n      <th>887</th>\n      <td>2011-09-07</td>\n      <td>7:44:32 PM</td>\n      <td>41.986460</td>\n      <td>-87.794225</td>\n    </tr>\n    <tr>\n      <th>888</th>\n      <td>2011-09-07</td>\n      <td>7:44:32 PM</td>\n      <td>41.986460</td>\n      <td>-87.794225</td>\n    </tr>\n    <tr>\n      <th>889</th>\n      <td>2011-09-07</td>\n      <td>7:44:32 PM</td>\n      <td>41.986460</td>\n      <td>-87.794225</td>\n    </tr>\n    <tr>\n      <th>890</th>\n      <td>2011-09-07</td>\n      <td>7:44:32 PM</td>\n      <td>41.986460</td>\n      <td>-87.794225</td>\n    </tr>\n    <tr>\n      <th>891</th>\n      <td>2011-09-07</td>\n      <td>7:44:32 PM</td>\n      <td>41.986460</td>\n      <td>-87.794225</td>\n    </tr>\n    <tr>\n      <th>892</th>\n      <td>2011-09-07</td>\n      <td>7:44:32 PM</td>\n      <td>41.986460</td>\n      <td>-87.794225</td>\n    </tr>\n    <tr>\n      <th>893</th>\n      <td>2011-09-07</td>\n      <td>7:44:32 PM</td>\n      <td>41.986460</td>\n      <td>-87.794225</td>\n    </tr>\n    <tr>\n      <th>894</th>\n      <td>2011-09-07</td>\n      <td>7:44:32 PM</td>\n      <td>41.986460</td>\n      <td>-87.794225</td>\n    </tr>\n    <tr>\n      <th>895</th>\n      <td>2011-09-07</td>\n      <td>7:44:32 PM</td>\n      <td>41.986460</td>\n      <td>-87.794225</td>\n    </tr>\n    <tr>\n      <th>896</th>\n      <td>2011-09-07</td>\n      <td>7:44:32 PM</td>\n      <td>41.986460</td>\n      <td>-87.794225</td>\n    </tr>\n    <tr>\n      <th>897</th>\n      <td>2011-09-07</td>\n      <td>7:44:32 PM</td>\n      <td>41.986460</td>\n      <td>-87.794225</td>\n    </tr>\n    <tr>\n      <th>898</th>\n      <td>2011-09-07</td>\n      <td>7:44:32 PM</td>\n      <td>41.986460</td>\n      <td>-87.794225</td>\n    </tr>\n    <tr>\n      <th>899</th>\n      <td>2011-09-07</td>\n      <td>7:44:32 PM</td>\n      <td>41.986460</td>\n      <td>-87.794225</td>\n    </tr>\n    <tr>\n      <th>900</th>\n      <td>2011-09-07</td>\n      <td>7:44:32 PM</td>\n      <td>41.986460</td>\n      <td>-87.794225</td>\n    </tr>\n    <tr>\n      <th>901</th>\n      <td>2011-09-07</td>\n      <td>7:44:32 PM</td>\n      <td>41.986460</td>\n      <td>-87.794225</td>\n    </tr>\n    <tr>\n      <th>902</th>\n      <td>2011-09-07</td>\n      <td>7:44:32 PM</td>\n      <td>41.986460</td>\n      <td>-87.794225</td>\n    </tr>\n    <tr>\n      <th>903</th>\n      <td>2011-09-07</td>\n      <td>7:44:32 PM</td>\n      <td>41.986460</td>\n      <td>-87.794225</td>\n    </tr>\n    <tr>\n      <th>904</th>\n      <td>2011-09-07</td>\n      <td>7:44:32 PM</td>\n      <td>41.986460</td>\n      <td>-87.794225</td>\n    </tr>\n    <tr>\n      <th>905</th>\n      <td>2011-09-07</td>\n      <td>7:44:32 PM</td>\n      <td>41.986460</td>\n      <td>-87.794225</td>\n    </tr>\n    <tr>\n      <th>906</th>\n      <td>2011-09-07</td>\n      <td>7:44:32 PM</td>\n      <td>41.986460</td>\n      <td>-87.794225</td>\n    </tr>\n    <tr>\n      <th>907</th>\n      <td>2011-09-07</td>\n      <td>7:44:32 PM</td>\n      <td>41.986460</td>\n      <td>-87.794225</td>\n    </tr>\n    <tr>\n      <th>908</th>\n      <td>2011-09-07</td>\n      <td>7:44:32 PM</td>\n      <td>41.986460</td>\n      <td>-87.794225</td>\n    </tr>\n    <tr>\n      <th>909</th>\n      <td>2011-09-07</td>\n      <td>7:44:32 PM</td>\n      <td>41.986460</td>\n      <td>-87.794225</td>\n    </tr>\n    <tr>\n      <th>910</th>\n      <td>2011-09-07</td>\n      <td>7:44:32 PM</td>\n      <td>41.986460</td>\n      <td>-87.794225</td>\n    </tr>\n    <tr>\n      <th>911</th>\n      <td>2011-09-07</td>\n      <td>7:44:32 PM</td>\n      <td>41.986460</td>\n      <td>-87.794225</td>\n    </tr>\n    <tr>\n      <th>912</th>\n      <td>2011-09-07</td>\n      <td>7:44:32 PM</td>\n      <td>41.986460</td>\n      <td>-87.794225</td>\n    </tr>\n    <tr>\n      <th>913</th>\n      <td>2011-09-07</td>\n      <td>7:44:32 PM</td>\n      <td>41.986460</td>\n      <td>-87.794225</td>\n    </tr>\n    <tr>\n      <th>914</th>\n      <td>2011-09-07</td>\n      <td>7:44:32 PM</td>\n      <td>41.986460</td>\n      <td>-87.794225</td>\n    </tr>\n    <tr>\n      <th>915</th>\n      <td>2011-09-07</td>\n      <td>7:44:32 PM</td>\n      <td>41.986460</td>\n      <td>-87.794225</td>\n    </tr>\n    <tr>\n      <th>916</th>\n      <td>2011-09-07</td>\n      <td>7:44:32 PM</td>\n      <td>41.986460</td>\n      <td>-87.794225</td>\n    </tr>\n    <tr>\n      <th>917</th>\n      <td>2011-09-07</td>\n      <td>7:44:32 PM</td>\n      <td>41.986460</td>\n      <td>-87.794225</td>\n    </tr>\n    <tr>\n      <th>918</th>\n      <td>2011-09-07</td>\n      <td>7:44:32 PM</td>\n      <td>41.986460</td>\n      <td>-87.794225</td>\n    </tr>\n    <tr>\n      <th>919</th>\n      <td>2011-09-07</td>\n      <td>7:44:32 PM</td>\n      <td>41.986460</td>\n      <td>-87.794225</td>\n    </tr>\n    <tr>\n      <th>920</th>\n      <td>2011-09-07</td>\n      <td>7:44:32 PM</td>\n      <td>41.986460</td>\n      <td>-87.794225</td>\n    </tr>\n    <tr>\n      <th>921</th>\n      <td>2011-09-07</td>\n      <td>7:44:32 PM</td>\n      <td>41.986460</td>\n      <td>-87.794225</td>\n    </tr>\n    <tr>\n      <th>922</th>\n      <td>2011-09-07</td>\n      <td>7:44:32 PM</td>\n      <td>41.986460</td>\n      <td>-87.794225</td>\n    </tr>\n    <tr>\n      <th>923</th>\n      <td>2011-09-07</td>\n      <td>7:44:32 PM</td>\n      <td>41.986460</td>\n      <td>-87.794225</td>\n    </tr>\n    <tr>\n      <th>924</th>\n      <td>2011-09-07</td>\n      <td>7:44:32 PM</td>\n      <td>41.986460</td>\n      <td>-87.794225</td>\n    </tr>\n    <tr>\n      <th>925</th>\n      <td>2011-09-07</td>\n      <td>7:44:32 PM</td>\n      <td>41.986460</td>\n      <td>-87.794225</td>\n    </tr>\n    <tr>\n      <th>926</th>\n      <td>2011-09-07</td>\n      <td>7:44:32 PM</td>\n      <td>41.986460</td>\n      <td>-87.794225</td>\n    </tr>\n    <tr>\n      <th>927</th>\n      <td>2011-09-07</td>\n      <td>7:44:32 PM</td>\n      <td>41.986460</td>\n      <td>-87.794225</td>\n    </tr>\n    <tr>\n      <th>928</th>\n      <td>2011-09-07</td>\n      <td>7:44:32 PM</td>\n      <td>41.986460</td>\n      <td>-87.794225</td>\n    </tr>\n    <tr>\n      <th>929</th>\n      <td>2011-09-07</td>\n      <td>7:44:32 PM</td>\n      <td>41.986460</td>\n      <td>-87.794225</td>\n    </tr>\n    <tr>\n      <th>930</th>\n      <td>2011-09-07</td>\n      <td>7:44:32 PM</td>\n      <td>41.986460</td>\n      <td>-87.794225</td>\n    </tr>\n    <tr>\n      <th>931</th>\n      <td>2011-09-07</td>\n      <td>7:44:32 PM</td>\n      <td>41.986460</td>\n      <td>-87.794225</td>\n    </tr>\n    <tr>\n      <th>932</th>\n      <td>2011-09-07</td>\n      <td>7:44:32 PM</td>\n      <td>41.986460</td>\n      <td>-87.794225</td>\n    </tr>\n    <tr>\n      <th>933</th>\n      <td>2011-09-07</td>\n      <td>7:44:32 PM</td>\n      <td>41.986460</td>\n      <td>-87.794225</td>\n    </tr>\n    <tr>\n      <th>934</th>\n      <td>2011-09-07</td>\n      <td>7:44:32 PM</td>\n      <td>41.986460</td>\n      <td>-87.794225</td>\n    </tr>\n    <tr>\n      <th>935</th>\n      <td>2011-09-07</td>\n      <td>7:44:32 PM</td>\n      <td>41.986460</td>\n      <td>-87.794225</td>\n    </tr>\n    <tr>\n      <th>936</th>\n      <td>2011-09-07</td>\n      <td>7:44:32 PM</td>\n      <td>41.986460</td>\n      <td>-87.794225</td>\n    </tr>\n    <tr>\n      <th>937</th>\n      <td>2011-09-07</td>\n      <td>7:44:32 PM</td>\n      <td>41.986460</td>\n      <td>-87.794225</td>\n    </tr>\n    <tr>\n      <th>938</th>\n      <td>2011-09-07</td>\n      <td>7:44:32 PM</td>\n      <td>41.986460</td>\n      <td>-87.794225</td>\n    </tr>\n    <tr>\n      <th>939</th>\n      <td>2011-09-07</td>\n      <td>7:44:32 PM</td>\n      <td>41.986460</td>\n      <td>-87.794225</td>\n    </tr>\n    <tr>\n      <th>940</th>\n      <td>2011-09-07</td>\n      <td>7:44:32 PM</td>\n      <td>41.986460</td>\n      <td>-87.794225</td>\n    </tr>\n    <tr>\n      <th>941</th>\n      <td>2011-09-07</td>\n      <td>7:44:32 PM</td>\n      <td>41.986460</td>\n      <td>-87.794225</td>\n    </tr>\n    <tr>\n      <th>942</th>\n      <td>2011-09-07</td>\n      <td>7:44:32 PM</td>\n      <td>41.986460</td>\n      <td>-87.794225</td>\n    </tr>\n    <tr>\n      <th>943</th>\n      <td>2011-09-07</td>\n      <td>7:44:32 PM</td>\n      <td>41.986460</td>\n      <td>-87.794225</td>\n    </tr>\n    <tr>\n      <th>944</th>\n      <td>2011-09-07</td>\n      <td>7:44:32 PM</td>\n      <td>41.986460</td>\n      <td>-87.794225</td>\n    </tr>\n    <tr>\n      <th>945</th>\n      <td>2011-09-07</td>\n      <td>7:44:32 PM</td>\n      <td>41.986460</td>\n      <td>-87.794225</td>\n    </tr>\n    <tr>\n      <th>946</th>\n      <td>2011-09-07</td>\n      <td>7:44:32 PM</td>\n      <td>41.986460</td>\n      <td>-87.794225</td>\n    </tr>\n    <tr>\n      <th>947</th>\n      <td>2011-09-07</td>\n      <td>7:44:32 PM</td>\n      <td>41.986460</td>\n      <td>-87.794225</td>\n    </tr>\n    <tr>\n      <th>948</th>\n      <td>2011-09-07</td>\n      <td>7:44:32 PM</td>\n      <td>41.986460</td>\n      <td>-87.794225</td>\n    </tr>\n    <tr>\n      <th>949</th>\n      <td>2011-09-07</td>\n      <td>7:44:32 PM</td>\n      <td>41.986460</td>\n      <td>-87.794225</td>\n    </tr>\n    <tr>\n      <th>950</th>\n      <td>2011-09-07</td>\n      <td>7:44:32 PM</td>\n      <td>41.986460</td>\n      <td>-87.794225</td>\n    </tr>\n    <tr>\n      <th>951</th>\n      <td>2011-09-07</td>\n      <td>7:44:32 PM</td>\n      <td>41.986460</td>\n      <td>-87.794225</td>\n    </tr>\n    <tr>\n      <th>952</th>\n      <td>2011-09-07</td>\n      <td>7:44:32 PM</td>\n      <td>41.986460</td>\n      <td>-87.794225</td>\n    </tr>\n    <tr>\n      <th>953</th>\n      <td>2011-09-07</td>\n      <td>7:44:32 PM</td>\n      <td>41.986460</td>\n      <td>-87.794225</td>\n    </tr>\n    <tr>\n      <th>954</th>\n      <td>2011-09-07</td>\n      <td>7:44:32 PM</td>\n      <td>41.986460</td>\n      <td>-87.794225</td>\n    </tr>\n    <tr>\n      <th>955</th>\n      <td>2011-09-07</td>\n      <td>7:44:32 PM</td>\n      <td>41.986460</td>\n      <td>-87.794225</td>\n    </tr>\n    <tr>\n      <th>956</th>\n      <td>2011-09-07</td>\n      <td>7:44:32 PM</td>\n      <td>41.986460</td>\n      <td>-87.794225</td>\n    </tr>\n    <tr>\n      <th>957</th>\n      <td>2011-09-07</td>\n      <td>7:44:32 PM</td>\n      <td>41.986460</td>\n      <td>-87.794225</td>\n    </tr>\n    <tr>\n      <th>958</th>\n      <td>2011-09-07</td>\n      <td>7:44:32 PM</td>\n      <td>41.986460</td>\n      <td>-87.794225</td>\n    </tr>\n    <tr>\n      <th>959</th>\n      <td>2011-09-07</td>\n      <td>7:44:32 PM</td>\n      <td>41.986460</td>\n      <td>-87.794225</td>\n    </tr>\n    <tr>\n      <th>960</th>\n      <td>2011-09-07</td>\n      <td>7:44:32 PM</td>\n      <td>41.986460</td>\n      <td>-87.794225</td>\n    </tr>\n    <tr>\n      <th>961</th>\n      <td>2011-09-07</td>\n      <td>7:44:32 PM</td>\n      <td>41.986460</td>\n      <td>-87.794225</td>\n    </tr>\n    <tr>\n      <th>962</th>\n      <td>2011-09-07</td>\n      <td>7:44:32 PM</td>\n      <td>41.986460</td>\n      <td>-87.794225</td>\n    </tr>\n    <tr>\n      <th>963</th>\n      <td>2011-09-07</td>\n      <td>7:44:32 PM</td>\n      <td>41.986460</td>\n      <td>-87.794225</td>\n    </tr>\n    <tr>\n      <th>964</th>\n      <td>2011-09-07</td>\n      <td>7:44:32 PM</td>\n      <td>41.986460</td>\n      <td>-87.794225</td>\n    </tr>\n    <tr>\n      <th>965</th>\n      <td>2011-09-07</td>\n      <td>7:44:32 PM</td>\n      <td>41.986460</td>\n      <td>-87.794225</td>\n    </tr>\n    <tr>\n      <th>966</th>\n      <td>2011-09-07</td>\n      <td>7:44:32 PM</td>\n      <td>41.986460</td>\n      <td>-87.794225</td>\n    </tr>\n    <tr>\n      <th>967</th>\n      <td>2011-09-07</td>\n      <td>7:44:32 PM</td>\n      <td>41.986460</td>\n      <td>-87.794225</td>\n    </tr>\n    <tr>\n      <th>968</th>\n      <td>2011-09-07</td>\n      <td>7:44:32 PM</td>\n      <td>41.986460</td>\n      <td>-87.794225</td>\n    </tr>\n    <tr>\n      <th>969</th>\n      <td>2011-09-07</td>\n      <td>7:44:32 PM</td>\n      <td>41.986460</td>\n      <td>-87.794225</td>\n    </tr>\n    <tr>\n      <th>970</th>\n      <td>2011-09-07</td>\n      <td>7:44:32 PM</td>\n      <td>41.986460</td>\n      <td>-87.794225</td>\n    </tr>\n    <tr>\n      <th>971</th>\n      <td>2011-09-07</td>\n      <td>7:44:32 PM</td>\n      <td>41.986460</td>\n      <td>-87.794225</td>\n    </tr>\n    <tr>\n      <th>972</th>\n      <td>2011-09-07</td>\n      <td>7:44:32 PM</td>\n      <td>41.986460</td>\n      <td>-87.794225</td>\n    </tr>\n    <tr>\n      <th>973</th>\n      <td>2011-09-07</td>\n      <td>7:44:32 PM</td>\n      <td>41.986460</td>\n      <td>-87.794225</td>\n    </tr>\n    <tr>\n      <th>974</th>\n      <td>2011-09-07</td>\n      <td>7:44:32 PM</td>\n      <td>41.986460</td>\n      <td>-87.794225</td>\n    </tr>\n    <tr>\n      <th>975</th>\n      <td>2011-09-07</td>\n      <td>7:44:32 PM</td>\n      <td>41.986460</td>\n      <td>-87.794225</td>\n    </tr>\n    <tr>\n      <th>976</th>\n      <td>2011-09-07</td>\n      <td>7:44:32 PM</td>\n      <td>41.986460</td>\n      <td>-87.794225</td>\n    </tr>\n    <tr>\n      <th>977</th>\n      <td>2011-09-07</td>\n      <td>7:44:32 PM</td>\n      <td>41.986460</td>\n      <td>-87.794225</td>\n    </tr>\n    <tr>\n      <th>978</th>\n      <td>2011-09-07</td>\n      <td>7:44:32 PM</td>\n      <td>41.986460</td>\n      <td>-87.794225</td>\n    </tr>\n    <tr>\n      <th>979</th>\n      <td>2011-09-07</td>\n      <td>7:44:32 PM</td>\n      <td>41.986460</td>\n      <td>-87.794225</td>\n    </tr>\n    <tr>\n      <th>980</th>\n      <td>2011-09-07</td>\n      <td>7:44:32 PM</td>\n      <td>41.986460</td>\n      <td>-87.794225</td>\n    </tr>\n    <tr>\n      <th>981</th>\n      <td>2011-09-07</td>\n      <td>7:44:32 PM</td>\n      <td>41.986460</td>\n      <td>-87.794225</td>\n    </tr>\n    <tr>\n      <th>982</th>\n      <td>2011-09-07</td>\n      <td>7:44:32 PM</td>\n      <td>41.986460</td>\n      <td>-87.794225</td>\n    </tr>\n    <tr>\n      <th>983</th>\n      <td>2011-09-07</td>\n      <td>7:44:32 PM</td>\n      <td>41.986460</td>\n      <td>-87.794225</td>\n    </tr>\n    <tr>\n      <th>984</th>\n      <td>2011-09-07</td>\n      <td>7:44:32 PM</td>\n      <td>41.986460</td>\n      <td>-87.794225</td>\n    </tr>\n    <tr>\n      <th>985</th>\n      <td>2011-09-07</td>\n      <td>7:44:32 PM</td>\n      <td>41.986460</td>\n      <td>-87.794225</td>\n    </tr>\n    <tr>\n      <th>986</th>\n      <td>2011-09-07</td>\n      <td>7:44:32 PM</td>\n      <td>41.986460</td>\n      <td>-87.794225</td>\n    </tr>\n    <tr>\n      <th>987</th>\n      <td>2011-09-07</td>\n      <td>7:44:32 PM</td>\n      <td>41.986460</td>\n      <td>-87.794225</td>\n    </tr>\n    <tr>\n      <th>988</th>\n      <td>2011-09-07</td>\n      <td>7:44:32 PM</td>\n      <td>41.986460</td>\n      <td>-87.794225</td>\n    </tr>\n    <tr>\n      <th>989</th>\n      <td>2011-09-07</td>\n      <td>7:44:32 PM</td>\n      <td>41.986460</td>\n      <td>-87.794225</td>\n    </tr>\n    <tr>\n      <th>990</th>\n      <td>2011-09-07</td>\n      <td>7:44:32 PM</td>\n      <td>41.986460</td>\n      <td>-87.794225</td>\n    </tr>\n    <tr>\n      <th>991</th>\n      <td>2011-09-07</td>\n      <td>7:44:32 PM</td>\n      <td>41.986460</td>\n      <td>-87.794225</td>\n    </tr>\n    <tr>\n      <th>992</th>\n      <td>2011-09-07</td>\n      <td>7:44:32 PM</td>\n      <td>41.986460</td>\n      <td>-87.794225</td>\n    </tr>\n    <tr>\n      <th>993</th>\n      <td>2011-09-07</td>\n      <td>7:44:32 PM</td>\n      <td>41.986460</td>\n      <td>-87.794225</td>\n    </tr>\n    <tr>\n      <th>994</th>\n      <td>2011-09-07</td>\n      <td>7:44:32 PM</td>\n      <td>41.986460</td>\n      <td>-87.794225</td>\n    </tr>\n    <tr>\n      <th>995</th>\n      <td>2011-09-07</td>\n      <td>7:44:32 PM</td>\n      <td>41.986460</td>\n      <td>-87.794225</td>\n    </tr>\n    <tr>\n      <th>996</th>\n      <td>2011-09-07</td>\n      <td>7:44:32 PM</td>\n      <td>41.986460</td>\n      <td>-87.794225</td>\n    </tr>\n    <tr>\n      <th>997</th>\n      <td>2011-09-07</td>\n      <td>7:44:32 PM</td>\n      <td>41.986460</td>\n      <td>-87.794225</td>\n    </tr>\n    <tr>\n      <th>998</th>\n      <td>2011-09-07</td>\n      <td>7:44:32 PM</td>\n      <td>41.986460</td>\n      <td>-87.794225</td>\n    </tr>\n    <tr>\n      <th>999</th>\n      <td>2011-09-07</td>\n      <td>7:44:32 PM</td>\n      <td>41.986460</td>\n      <td>-87.794225</td>\n    </tr>\n    <tr>\n      <th>1000</th>\n      <td>2011-09-07</td>\n      <td>7:44:32 PM</td>\n      <td>41.986460</td>\n      <td>-87.794225</td>\n    </tr>\n    <tr>\n      <th>1001</th>\n      <td>2011-09-07</td>\n      <td>7:44:32 PM</td>\n      <td>41.986460</td>\n      <td>-87.794225</td>\n    </tr>\n    <tr>\n      <th>1002</th>\n      <td>2011-09-07</td>\n      <td>7:44:32 PM</td>\n      <td>41.986460</td>\n      <td>-87.794225</td>\n    </tr>\n    <tr>\n      <th>1003</th>\n      <td>2011-09-07</td>\n      <td>7:44:32 PM</td>\n      <td>41.986460</td>\n      <td>-87.794225</td>\n    </tr>\n    <tr>\n      <th>1004</th>\n      <td>2011-09-07</td>\n      <td>7:44:32 PM</td>\n      <td>41.986460</td>\n      <td>-87.794225</td>\n    </tr>\n    <tr>\n      <th>1005</th>\n      <td>2011-09-07</td>\n      <td>7:44:32 PM</td>\n      <td>41.986460</td>\n      <td>-87.794225</td>\n    </tr>\n    <tr>\n      <th>1006</th>\n      <td>2011-09-07</td>\n      <td>7:44:32 PM</td>\n      <td>41.986460</td>\n      <td>-87.794225</td>\n    </tr>\n    <tr>\n      <th>1007</th>\n      <td>2011-09-07</td>\n      <td>7:44:32 PM</td>\n      <td>41.986460</td>\n      <td>-87.794225</td>\n    </tr>\n    <tr>\n      <th>1008</th>\n      <td>2011-09-07</td>\n      <td>7:44:32 PM</td>\n      <td>41.986460</td>\n      <td>-87.794225</td>\n    </tr>\n    <tr>\n      <th>1009</th>\n      <td>2011-09-07</td>\n      <td>7:44:32 PM</td>\n      <td>41.986460</td>\n      <td>-87.794225</td>\n    </tr>\n    <tr>\n      <th>1010</th>\n      <td>2011-09-07</td>\n      <td>7:44:32 PM</td>\n      <td>41.986460</td>\n      <td>-87.794225</td>\n    </tr>\n    <tr>\n      <th>1011</th>\n      <td>2011-09-07</td>\n      <td>7:44:32 PM</td>\n      <td>41.986460</td>\n      <td>-87.794225</td>\n    </tr>\n    <tr>\n      <th>1012</th>\n      <td>2011-09-07</td>\n      <td>7:44:32 PM</td>\n      <td>41.986460</td>\n      <td>-87.794225</td>\n    </tr>\n    <tr>\n      <th>1013</th>\n      <td>2011-09-07</td>\n      <td>7:44:32 PM</td>\n      <td>41.986460</td>\n      <td>-87.794225</td>\n    </tr>\n    <tr>\n      <th>1014</th>\n      <td>2011-09-07</td>\n      <td>7:44:32 PM</td>\n      <td>41.986460</td>\n      <td>-87.794225</td>\n    </tr>\n    <tr>\n      <th>1015</th>\n      <td>2011-09-07</td>\n      <td>7:44:32 PM</td>\n      <td>41.986460</td>\n      <td>-87.794225</td>\n    </tr>\n    <tr>\n      <th>1016</th>\n      <td>2011-09-07</td>\n      <td>7:44:32 PM</td>\n      <td>41.986460</td>\n      <td>-87.794225</td>\n    </tr>\n    <tr>\n      <th>1017</th>\n      <td>2011-09-07</td>\n      <td>7:44:32 PM</td>\n      <td>41.986460</td>\n      <td>-87.794225</td>\n    </tr>\n    <tr>\n      <th>1018</th>\n      <td>2011-09-07</td>\n      <td>7:44:32 PM</td>\n      <td>41.986460</td>\n      <td>-87.794225</td>\n    </tr>\n    <tr>\n      <th>1019</th>\n      <td>2011-09-07</td>\n      <td>7:44:32 PM</td>\n      <td>41.986460</td>\n      <td>-87.794225</td>\n    </tr>\n    <tr>\n      <th>1020</th>\n      <td>2011-09-07</td>\n      <td>7:44:32 PM</td>\n      <td>41.986460</td>\n      <td>-87.794225</td>\n    </tr>\n    <tr>\n      <th>1021</th>\n      <td>2011-09-07</td>\n      <td>7:44:32 PM</td>\n      <td>41.986460</td>\n      <td>-87.794225</td>\n    </tr>\n    <tr>\n      <th>1022</th>\n      <td>2011-09-07</td>\n      <td>7:44:32 PM</td>\n      <td>41.986460</td>\n      <td>-87.794225</td>\n    </tr>\n    <tr>\n      <th>1023</th>\n      <td>2011-09-07</td>\n      <td>7:44:32 PM</td>\n      <td>41.986460</td>\n      <td>-87.794225</td>\n    </tr>\n    <tr>\n      <th>1024</th>\n      <td>2011-09-07</td>\n      <td>7:44:32 PM</td>\n      <td>41.986460</td>\n      <td>-87.794225</td>\n    </tr>\n    <tr>\n      <th>1025</th>\n      <td>2011-09-07</td>\n      <td>7:44:32 PM</td>\n      <td>41.986460</td>\n      <td>-87.794225</td>\n    </tr>\n    <tr>\n      <th>1026</th>\n      <td>2011-09-07</td>\n      <td>7:44:32 PM</td>\n      <td>41.986460</td>\n      <td>-87.794225</td>\n    </tr>\n    <tr>\n      <th>1027</th>\n      <td>2011-09-07</td>\n      <td>7:44:32 PM</td>\n      <td>41.986460</td>\n      <td>-87.794225</td>\n    </tr>\n    <tr>\n      <th>1028</th>\n      <td>2011-09-07</td>\n      <td>7:44:32 PM</td>\n      <td>41.986460</td>\n      <td>-87.794225</td>\n    </tr>\n    <tr>\n      <th>1029</th>\n      <td>2011-09-07</td>\n      <td>7:44:32 PM</td>\n      <td>41.986460</td>\n      <td>-87.794225</td>\n    </tr>\n  </tbody>\n</table>\n</div>"
     },
     "metadata": {}
    }
   ]
  },
  {
   "cell_type": "markdown",
   "source": "It seem our check was correct so we will remove all the duplicates within the spray dataframe to make sure we do not skew the results.",
   "metadata": {
    "tags": [],
    "is_collapsed": false,
    "cell_id": "00076-338c2109-8f94-4511-95af-0011f998a6e2",
    "deepnote_cell_type": "text-cell-p"
   }
  },
  {
   "cell_type": "code",
   "metadata": {
    "cell_id": "00079-360f914d-9df7-446d-bdce-ab4cd1c91201",
    "deepnote_to_be_reexecuted": false,
    "source_hash": "168c2e2d",
    "execution_start": 1637218221819,
    "execution_millis": 7,
    "deepnote_output_heights": [
     21.1875
    ],
    "deepnote_cell_type": "code"
   },
   "source": "spray_df.shape",
   "execution_count": null,
   "outputs": [
    {
     "output_type": "execute_result",
     "execution_count": 67,
     "data": {
      "text/plain": "(14835, 4)"
     },
     "metadata": {}
    }
   ]
  },
  {
   "cell_type": "code",
   "metadata": {
    "cell_id": "00080-6478391f-4ada-418c-bf0b-1344771345f9",
    "deepnote_to_be_reexecuted": false,
    "source_hash": "80d612",
    "execution_start": 1637218221825,
    "execution_millis": 8,
    "deepnote_cell_type": "code"
   },
   "source": "# drop all duplicates\nspray_df = spray_df.drop_duplicates()",
   "execution_count": null,
   "outputs": []
  },
  {
   "cell_type": "code",
   "metadata": {
    "cell_id": "00081-3e182cf4-53c9-4c2e-b877-437b4280e1fb",
    "deepnote_to_be_reexecuted": false,
    "source_hash": "55ba21e",
    "execution_start": 1637218221878,
    "execution_millis": 4,
    "deepnote_output_heights": [
     21.1875
    ],
    "deepnote_cell_type": "code"
   },
   "source": "# final number of rows\nspray_df.shape",
   "execution_count": null,
   "outputs": [
    {
     "output_type": "execute_result",
     "execution_count": 69,
     "data": {
      "text/plain": "(14294, 4)"
     },
     "metadata": {}
    }
   ]
  },
  {
   "cell_type": "code",
   "metadata": {
    "cell_id": "00082-b60c9eee-b0ab-4d9c-a046-7ff8947fca18",
    "deepnote_to_be_reexecuted": false,
    "source_hash": "5f661cb9",
    "execution_start": 1637218221879,
    "execution_millis": 0,
    "deepnote_cell_type": "code"
   },
   "source": "#to make all columns consistant\n# convert all column labels to lowercase\nspray_df.columns = [clean_columns(col) for col in spray_df]",
   "execution_count": null,
   "outputs": []
  },
  {
   "cell_type": "code",
   "metadata": {
    "cell_id": "00083-9b5664fb-bca5-49a2-8463-b14205ab675a",
    "deepnote_to_be_reexecuted": false,
    "source_hash": "29541c06",
    "execution_start": 1637218221902,
    "execution_millis": 9,
    "deepnote_cell_type": "code"
   },
   "source": "#see sample output of the spray dtaframe\nspray_df.head()",
   "execution_count": null,
   "outputs": [
    {
     "output_type": "execute_result",
     "execution_count": 71,
     "data": {
      "application/vnd.deepnote.dataframe.v2+json": {
       "row_count": 5,
       "column_count": 4,
       "columns": [
        {
         "name": "date",
         "dtype": "object",
         "stats": {
          "unique_count": 1,
          "nan_count": 0,
          "categories": [
           {
            "name": "2011-08-29",
            "count": 5
           }
          ]
         }
        },
        {
         "name": "time",
         "dtype": "object",
         "stats": {
          "unique_count": 5,
          "nan_count": 0,
          "categories": [
           {
            "name": "6:56:58 PM",
            "count": 1
           },
           {
            "name": "6:57:08 PM",
            "count": 1
           },
           {
            "name": "3 others",
            "count": 3
           }
          ]
         }
        },
        {
         "name": "latitude",
         "dtype": "float64",
         "stats": {
          "unique_count": 5,
          "nan_count": 0,
          "min": "42.39041",
          "max": "42.3916233333333",
          "histogram": [
           {
            "bin_start": 42.39041,
            "bin_end": 42.390531333333335,
            "count": 1
           },
           {
            "bin_start": 42.390531333333335,
            "bin_end": 42.39065266666666,
            "count": 1
           },
           {
            "bin_start": 42.39065266666666,
            "bin_end": 42.39077399999999,
            "count": 0
           },
           {
            "bin_start": 42.39077399999999,
            "bin_end": 42.39089533333332,
            "count": 0
           },
           {
            "bin_start": 42.39089533333332,
            "bin_end": 42.39101666666665,
            "count": 0
           },
           {
            "bin_start": 42.39101666666665,
            "bin_end": 42.391137999999984,
            "count": 1
           },
           {
            "bin_start": 42.391137999999984,
            "bin_end": 42.39125933333331,
            "count": 0
           },
           {
            "bin_start": 42.39125933333331,
            "bin_end": 42.39138066666664,
            "count": 1
           },
           {
            "bin_start": 42.39138066666664,
            "bin_end": 42.39150199999997,
            "count": 0
           },
           {
            "bin_start": 42.39150199999997,
            "bin_end": 42.3916233333333,
            "count": 1
           }
          ]
         }
        },
        {
         "name": "longitude",
         "dtype": "float64",
         "stats": {
          "unique_count": 4,
          "nan_count": 0,
          "min": "-88.0891633333333",
          "max": "-88.0888583333333",
          "histogram": [
           {
            "bin_start": -88.0891633333333,
            "bin_end": -88.08913283333331,
            "count": 4
           },
           {
            "bin_start": -88.08913283333331,
            "bin_end": -88.0891023333333,
            "count": 0
           },
           {
            "bin_start": -88.0891023333333,
            "bin_end": -88.0890718333333,
            "count": 0
           },
           {
            "bin_start": -88.0890718333333,
            "bin_end": -88.0890413333333,
            "count": 0
           },
           {
            "bin_start": -88.0890413333333,
            "bin_end": -88.0890108333333,
            "count": 0
           },
           {
            "bin_start": -88.0890108333333,
            "bin_end": -88.08898033333331,
            "count": 0
           },
           {
            "bin_start": -88.08898033333331,
            "bin_end": -88.0889498333333,
            "count": 0
           },
           {
            "bin_start": -88.0889498333333,
            "bin_end": -88.08891933333331,
            "count": 0
           },
           {
            "bin_start": -88.08891933333331,
            "bin_end": -88.0888888333333,
            "count": 0
           },
           {
            "bin_start": -88.0888888333333,
            "bin_end": -88.0888583333333,
            "count": 1
           }
          ]
         }
        },
        {
         "name": "_deepnote_index_column",
         "dtype": "int64"
        }
       ],
       "rows_top": [
        {
         "date": "2011-08-29",
         "time": "6:56:58 PM",
         "latitude": 42.3916233333333,
         "longitude": -88.0891633333333,
         "_deepnote_index_column": 0
        },
        {
         "date": "2011-08-29",
         "time": "6:57:08 PM",
         "latitude": 42.3913483333333,
         "longitude": -88.0891633333333,
         "_deepnote_index_column": 1
        },
        {
         "date": "2011-08-29",
         "time": "6:57:18 PM",
         "latitude": 42.3910216666667,
         "longitude": -88.0891566666667,
         "_deepnote_index_column": 2
        },
        {
         "date": "2011-08-29",
         "time": "6:57:28 PM",
         "latitude": 42.3906366666667,
         "longitude": -88.0891583333333,
         "_deepnote_index_column": 3
        },
        {
         "date": "2011-08-29",
         "time": "6:57:38 PM",
         "latitude": 42.39041,
         "longitude": -88.0888583333333,
         "_deepnote_index_column": 4
        }
       ],
       "rows_bottom": null
      },
      "text/plain": "         date        time   latitude  longitude\n0  2011-08-29  6:56:58 PM  42.391623 -88.089163\n1  2011-08-29  6:57:08 PM  42.391348 -88.089163\n2  2011-08-29  6:57:18 PM  42.391022 -88.089157\n3  2011-08-29  6:57:28 PM  42.390637 -88.089158\n4  2011-08-29  6:57:38 PM  42.390410 -88.088858",
      "text/html": "<div>\n<style scoped>\n    .dataframe tbody tr th:only-of-type {\n        vertical-align: middle;\n    }\n\n    .dataframe tbody tr th {\n        vertical-align: top;\n    }\n\n    .dataframe thead th {\n        text-align: right;\n    }\n</style>\n<table border=\"1\" class=\"dataframe\">\n  <thead>\n    <tr style=\"text-align: right;\">\n      <th></th>\n      <th>date</th>\n      <th>time</th>\n      <th>latitude</th>\n      <th>longitude</th>\n    </tr>\n  </thead>\n  <tbody>\n    <tr>\n      <th>0</th>\n      <td>2011-08-29</td>\n      <td>6:56:58 PM</td>\n      <td>42.391623</td>\n      <td>-88.089163</td>\n    </tr>\n    <tr>\n      <th>1</th>\n      <td>2011-08-29</td>\n      <td>6:57:08 PM</td>\n      <td>42.391348</td>\n      <td>-88.089163</td>\n    </tr>\n    <tr>\n      <th>2</th>\n      <td>2011-08-29</td>\n      <td>6:57:18 PM</td>\n      <td>42.391022</td>\n      <td>-88.089157</td>\n    </tr>\n    <tr>\n      <th>3</th>\n      <td>2011-08-29</td>\n      <td>6:57:28 PM</td>\n      <td>42.390637</td>\n      <td>-88.089158</td>\n    </tr>\n    <tr>\n      <th>4</th>\n      <td>2011-08-29</td>\n      <td>6:57:38 PM</td>\n      <td>42.390410</td>\n      <td>-88.088858</td>\n    </tr>\n  </tbody>\n</table>\n</div>"
     },
     "metadata": {}
    }
   ]
  },
  {
   "cell_type": "code",
   "metadata": {
    "deepnote_to_be_reexecuted": false,
    "execution_millis": 369,
    "execution_start": 1637218221957,
    "source_hash": "17404f3",
    "tags": [],
    "cell_id": "00084-465759f2-9d2f-43b9-93c2-dd738c9c1c21",
    "deepnote_cell_type": "code"
   },
   "source": "#output to CSV file\ntrain_df.to_csv('datasets/train_clean.csv', index = False)\nweather_df.to_csv('datasets/weather_clean.csv', index = False)\nspray_df.to_csv('datasets/spray_clean.csv', index = False)\ncombined_df.to_csv('datasets/combined_df.csv', index = False)",
   "execution_count": null,
   "outputs": []
  },
  {
   "cell_type": "markdown",
   "source": "<a style='text-decoration:none;line-height:16px;display:flex;color:#5B5B62;padding:10px;justify-content:end;' href='https://deepnote.com?utm_source=created-in-deepnote-cell&projectId=60b14a4f-b63c-4fa7-9c07-6649311f1d98' target=\"_blank\">\n<img alt='Created in deepnote.com' style='display:inline;max-height:16px;margin:0px;margin-right:7.5px;' src='data:image/svg+xml;base64,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' > </img>\nCreated in <span style='font-weight:600;margin-left:4px;'>Deepnote</span></a>",
   "metadata": {
    "tags": [],
    "created_in_deepnote_cell": true,
    "deepnote_cell_type": "markdown"
   }
  }
 ],
 "nbformat": 4,
 "nbformat_minor": 2,
 "metadata": {
  "deepnote": {
   "is_reactive": false
  },
  "deepnote_execution_queue": [],
  "deepnote_notebook_id": "3f143a38-2965-414a-a28d-37084817a37a",
  "kernelspec": {
   "display_name": "Python 3",
   "language": "python",
   "name": "python3"
  },
  "language_info": {
   "codemirror_mode": {
    "name": "ipython",
    "version": 3
   },
   "file_extension": ".py",
   "mimetype": "text/x-python",
   "name": "python",
   "nbconvert_exporter": "python",
   "pygments_lexer": "ipython3",
   "version": "3.8.8"
  }
 }
}