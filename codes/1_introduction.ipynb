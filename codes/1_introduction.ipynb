{
 "cells": [
  {
   "cell_type": "markdown",
   "source": "# Project 4",
   "metadata": {
    "tags": [],
    "cell_id": "00000-15cf3a78-8332-495e-b04a-957e70d860f7",
    "deepnote_cell_type": "markdown"
   }
  },
  {
   "cell_type": "markdown",
   "source": "## Content\n* [Problem Statement](#Problem-Statement)\n* [Background](#Context-&-Background)\n* [Resources](#Resources)\n* [Data Dictionary](#Data-Dictionary)\n* [Insights](#Insights)\n* [Conclusion](#Conclusions)\n* [Recommendations for the Future](#Recommendation-for-the-Future)",
   "metadata": {
    "tags": [],
    "cell_id": "00003-310c1293-603a-4e2e-b09d-67ae265ef295",
    "deepnote_cell_type": "markdown"
   }
  },
  {
   "cell_type": "markdown",
   "source": "## Problem Statement",
   "metadata": {
    "tags": [],
    "cell_id": "00001-ecf6a304-fbba-42a1-9280-1409004cfaa1",
    "deepnote_cell_type": "markdown"
   }
  },
  {
   "cell_type": "markdown",
   "source": "The West Nile virus (WNV) is the leading cause of mosquito-borne diseases in the continental United States. While only less than a fifth of those infected with the virus will develop mild symptoms, one in 150 people infected will develop severe infections in the form of encephalitis or meningitis. Intervention measures in the form of aerial spraying have been deployed to contain the spread of the virus in affected areas within the city of Chicago. As part of the Disease And Treatment Agency, division of Societal Cures In Epidemiology and New Creative Engineering (DATA-SCIENCE) team, we have been tasked to determine the environmental factors affecting the transmission of the WNV, as well as to improve the city's intervention efforts against the main vectors of the virus, the mosquitoes. Specifically, to control the spread of the virus, we are looking to predict the presence of WNV, plan and schedule the pesticide spraying in preparation for the transmission season, and minimise spending on the pesticides while maintaining the effectiveness of the intervention program.",
   "metadata": {
    "tags": [],
    "cell_id": "00002-5cb91b11-531f-4ed7-b9e6-7970cb96e02d",
    "deepnote_cell_type": "markdown"
   }
  },
  {
   "cell_type": "markdown",
   "source": "## Background",
   "metadata": {
    "tags": [],
    "cell_id": "00004-0af07c14-d4e7-46f9-9efe-27cdf0b92be5",
    "deepnote_cell_type": "markdown"
   }
  },
  {
   "cell_type": "markdown",
   "source": "The West Nile virus (WNV) is most commonly spread to people by the bite of an infected mosquito, mostly the species of Culex. This generally occurs during summer and fall, with a peak period for disease transmissions from mid-August to mid-October. Only a little less than 20 percent of those infected with the virus will develop West Nile fever with mild symptoms of fever, headache, body aches, a skin rash on the chest or back and swollen lymph glands. While most people with milder symptoms recover completely, fatigue and weakness can last for weeks or months. ([*Source*](https://www.cdc.gov/westnile/index.html)) However, one in 150 people infected will develop a severe infection in the form of encephalitis (inflammation of the brain) or meningitis (inflammation of the membranes that surround the brain and spinal cord), which can potentially lead to complications such as partial paralysis, impaired judgement, seizures and memory loss. ([*Source*](https://www.ninds.nih.gov/Disorders/Patient-Caregiver-Education/Fact-Sheets/Meningitis-and-Encephalitis-Fact-Sheet))\n\n\nAs there are no vaccines to prevent the onset of the virus or medications to treat WNV in people, the best course of action is to target the transmission vectors of the disease, the mosquitoes. According to the [*Association for Professionals in Infection Control and Epidemiology*](https://apic.org/monthly_alerts/mosquitoes-west-nile-virus-and-you/), the six strategies to avoid mosquito bites are:\n- Apply insect repellent containing DEET before going outdoors\n- Be aware that the early morning and evening hours are peak mosquito hours and try to avoid outdoor activities during these times\n- wear long sleeves, long pants and socks when spending time outdoors if possible, especially during peak mosquito hours. Spray clothes with repellent containing permethrin or DEET as mosquitoes can bite through thin clothing\n- Reduce the number of mosquitoes on an individual property by eliminating or reducing standing pools of water where mosquitoes lay their eggs.\n- Reduce the number of mosquitoes inside the house by patching, repairing or replacing screens with holes or screens that don’t fit tightly to the door or window frame. Install and close screen doors if the outside doors are propped open.\n- Report dead birds to the local health department as birds can be infected with the WNV and pass it on to mosquitoes or other birds\n\nThe City of Chicago is the most populous city in the U.S. state of Illinois and the third most populous city in the United States. The city lies within the typical hot-summer humid continental climate and experiences four distinct seasons with frequent heat waves during summer. ([*Source*](https://www.weather.gov/)) When large numbers of nuisance or infected mosquitoes are found or when people in a large area are getting sick, aeroplanes and helicopters can treat very large areas with insecticides in a process known as aerial spraying. ([*Source*](https://www.chicago.gov/city/en/depts/cdph/provdrs/healthy_communities/news/2020/august/city-to-spray-insecticide-thursday-to-kill-mosquitoes.html))",
   "metadata": {
    "tags": [],
    "cell_id": "00005-90f24a14-5622-4223-a02e-d9db0b1fee01",
    "deepnote_cell_type": "markdown"
   }
  },
  {
   "cell_type": "markdown",
   "source": "<a style='text-decoration:none;line-height:16px;display:flex;color:#5B5B62;padding:10px;justify-content:end;' href='https://deepnote.com?utm_source=created-in-deepnote-cell&projectId=60b14a4f-b63c-4fa7-9c07-6649311f1d98' target=\"_blank\">\n<img alt='Created in deepnote.com' style='display:inline;max-height:16px;margin:0px;margin-right:7.5px;' src='data:image/svg+xml;base64,PD94bWwgdmVyc2lvbj0iMS4wIiBlbmNvZGluZz0iVVRGLTgiPz4KPHN2ZyB3aWR0aD0iODBweCIgaGVpZ2h0PSI4MHB4IiB2aWV3Qm94PSIwIDAgODAgODAiIHZlcnNpb249IjEuMSIgeG1sbnM9Imh0dHA6Ly93d3cudzMub3JnLzIwMDAvc3ZnIiB4bWxuczp4bGluaz0iaHR0cDovL3d3dy53My5vcmcvMTk5OS94bGluayI+CiAgICA8IS0tIEdlbmVyYXRvcjogU2tldGNoIDU0LjEgKDc2NDkwKSAtIGh0dHBzOi8vc2tldGNoYXBwLmNvbSAtLT4KICAgIDx0aXRsZT5Hcm91cCAzPC90aXRsZT4KICAgIDxkZXNjPkNyZWF0ZWQgd2l0aCBTa2V0Y2guPC9kZXNjPgogICAgPGcgaWQ9IkxhbmRpbmciIHN0cm9rZT0ibm9uZSIgc3Ryb2tlLXdpZHRoPSIxIiBmaWxsPSJub25lIiBmaWxsLXJ1bGU9ImV2ZW5vZGQiPgogICAgICAgIDxnIGlkPSJBcnRib2FyZCIgdHJhbnNmb3JtPSJ0cmFuc2xhdGUoLTEyMzUuMDAwMDAwLCAtNzkuMDAwMDAwKSI+CiAgICAgICAgICAgIDxnIGlkPSJHcm91cC0zIiB0cmFuc2Zvcm09InRyYW5zbGF0ZSgxMjM1LjAwMDAwMCwgNzkuMDAwMDAwKSI+CiAgICAgICAgICAgICAgICA8cG9seWdvbiBpZD0iUGF0aC0yMCIgZmlsbD0iIzAyNjVCNCIgcG9pbnRzPSIyLjM3NjIzNzYyIDgwIDM4LjA0NzY2NjcgODAgNTcuODIxNzgyMiA3My44MDU3NTkyIDU3LjgyMTc4MjIgMzIuNzU5MjczOSAzOS4xNDAyMjc4IDMxLjY4MzE2ODMiPjwvcG9seWdvbj4KICAgICAgICAgICAgICAgIDxwYXRoIGQ9Ik0zNS4wMDc3MTgsODAgQzQyLjkwNjIwMDcsNzYuNDU0OTM1OCA0Ny41NjQ5MTY3LDcxLjU0MjI2NzEgNDguOTgzODY2LDY1LjI2MTk5MzkgQzUxLjExMjI4OTksNTUuODQxNTg0MiA0MS42NzcxNzk1LDQ5LjIxMjIyODQgMjUuNjIzOTg0Niw0OS4yMTIyMjg0IEMyNS40ODQ5Mjg5LDQ5LjEyNjg0NDggMjkuODI2MTI5Niw0My4yODM4MjQ4IDM4LjY0NzU4NjksMzEuNjgzMTY4MyBMNzIuODcxMjg3MSwzMi41NTQ0MjUgTDY1LjI4MDk3Myw2Ny42NzYzNDIxIEw1MS4xMTIyODk5LDc3LjM3NjE0NCBMMzUuMDA3NzE4LDgwIFoiIGlkPSJQYXRoLTIyIiBmaWxsPSIjMDAyODY4Ij48L3BhdGg+CiAgICAgICAgICAgICAgICA8cGF0aCBkPSJNMCwzNy43MzA0NDA1IEwyNy4xMTQ1MzcsMC4yNTcxMTE0MzYgQzYyLjM3MTUxMjMsLTEuOTkwNzE3MDEgODAsMTAuNTAwMzkyNyA4MCwzNy43MzA0NDA1IEM4MCw2NC45NjA0ODgyIDY0Ljc3NjUwMzgsNzkuMDUwMzQxNCAzNC4zMjk1MTEzLDgwIEM0Ny4wNTUzNDg5LDc3LjU2NzA4MDggNTMuNDE4MjY3Nyw3MC4zMTM2MTAzIDUzLjQxODI2NzcsNTguMjM5NTg4NSBDNTMuNDE4MjY3Nyw0MC4xMjg1NTU3IDM2LjMwMzk1NDQsMzcuNzMwNDQwNSAyNS4yMjc0MTcsMzcuNzMwNDQwNSBDMTcuODQzMDU4NiwzNy43MzA0NDA1IDkuNDMzOTE5NjYsMzcuNzMwNDQwNSAwLDM3LjczMDQ0MDUgWiIgaWQ9IlBhdGgtMTkiIGZpbGw9IiMzNzkzRUYiPjwvcGF0aD4KICAgICAgICAgICAgPC9nPgogICAgICAgIDwvZz4KICAgIDwvZz4KPC9zdmc+' > </img>\nCreated in <span style='font-weight:600;margin-left:4px;'>Deepnote</span></a>",
   "metadata": {
    "tags": [],
    "created_in_deepnote_cell": true,
    "deepnote_cell_type": "markdown"
   }
  }
 ],
 "nbformat": 4,
 "nbformat_minor": 2,
 "metadata": {
  "deepnote": {
   "is_reactive": false
  },
  "deepnote_execution_queue": [],
  "deepnote_notebook_id": "7c196490-f110-4620-8a0c-2a2c136b8056",
  "kernelspec": {
   "display_name": "Python 3",
   "language": "python",
   "name": "python3"
  },
  "language_info": {
   "codemirror_mode": {
    "name": "ipython",
    "version": 3
   },
   "file_extension": ".py",
   "mimetype": "text/x-python",
   "name": "python",
   "nbconvert_exporter": "python",
   "pygments_lexer": "ipython3",
   "version": "3.8.8"
  }
 }
}