{
 "cells": [
  {
   "cell_type": "markdown",
   "source": "# Analysis Insights",
   "metadata": {
    "tags": [],
    "cell_id": "00000-7560e793-1b9a-4ffa-9734-be6c96c38942",
    "deepnote_cell_type": "markdown"
   }
  },
  {
   "cell_type": "code",
   "metadata": {
    "tags": [],
    "cell_id": "00001-d506ed29-8c7d-4fb8-94da-5b2151ee6085",
    "deepnote_to_be_reexecuted": false,
    "source_hash": "b59391b1",
    "execution_start": 1637261801442,
    "execution_millis": 77,
    "deepnote_cell_type": "code"
   },
   "source": "# Import Packages\n\n#!pip install imblearn\n#!pip install xgboost\n#!pip install lightgbm\n#!pip install geopandas\n\n# Import standard libraries\nimport pandas as pd\nimport numpy as np\nimport matplotlib.pyplot as plt\n%matplotlib inline\nimport seaborn as sns\n\n#used to check the time elapsed since running\nfrom time import time\n\n# Measure runtime\nimport time\n\n# Import warnings to remove flags when project is complete\nimport warnings\nwarnings.filterwarnings('ignore')\n\npd.set_option('display.max_colwidth', 100)\n\n# Import modelling-related libraries\nfrom sklearn.preprocessing import StandardScaler\nfrom sklearn.model_selection import train_test_split, cross_val_score, cross_val_predict, GridSearchCV, StratifiedKFold\nfrom sklearn.pipeline import Pipeline\nfrom sklearn.linear_model import LogisticRegression, SGDClassifier\nfrom sklearn.naive_bayes import MultinomialNB\nfrom sklearn.tree import DecisionTreeClassifier\nfrom sklearn.ensemble import RandomForestClassifier, ExtraTreesClassifier, GradientBoostingClassifier, AdaBoostClassifier\nfrom sklearn.svm import SVC\nfrom sklearn.pipeline import Pipeline as skpipe\nfrom sklearn.neighbors import KNeighborsClassifier\nimport xgboost as xgb \nimport lightgbm as lgbm \n\nfrom imblearn.over_sampling import SMOTE, ADASYN\nfrom imblearn.pipeline import Pipeline as imbpipe\n\nfrom sklearn import metrics\nfrom sklearn.metrics import classification_report, confusion_matrix, f1_score, precision_score, recall_score, accuracy_score\nfrom sklearn.metrics import plot_roc_curve, roc_auc_score, plot_confusion_matrix \nfrom sklearn.metrics import precision_recall_fscore_support as score\n\nimport geopandas",
   "outputs": [],
   "execution_count": null
  },
  {
   "cell_type": "code",
   "metadata": {
    "tags": [],
    "cell_id": "00002-3a7f5249-d5db-472f-9a4e-4b94fbf1b073",
    "deepnote_to_be_reexecuted": false,
    "source_hash": "587ac745",
    "execution_start": 1637258245372,
    "execution_millis": 485,
    "deepnote_cell_type": "code"
   },
   "source": "# Import dataset\n\ncombined_df = pd.read_csv(\"datasets/combined_df_for_model.csv\")",
   "outputs": [],
   "execution_count": null
  },
  {
   "cell_type": "markdown",
   "source": "## Model Evaluation",
   "metadata": {
    "tags": [],
    "cell_id": "00001-bd77360c-cef7-44ac-b06c-1c7796ba3934",
    "deepnote_cell_type": "markdown"
   }
  },
  {
   "cell_type": "code",
   "metadata": {
    "tags": [],
    "cell_id": "00003-477faf88-7fc4-4f32-b5c0-d3269c8e18e5",
    "deepnote_to_be_reexecuted": false,
    "source_hash": "2454fade",
    "execution_start": 1637258265416,
    "execution_millis": 66,
    "deepnote_cell_type": "code"
   },
   "source": "# Modelling preprocessing\n\nfeatures = [col for col in combined_df if col != 'wnvpresent']\nX = combined_df[features]\ny = combined_df['wnvpresent']\n\nX_train, X_test, y_train, y_test = train_test_split(X,\n                                                    y,\n                                                    test_size = 0.3,\n                                                    random_state = 42,\n                                                    stratify = y)\n\nnumeric_features = ['block', 'latitude', 'longitude',\n                           'addressaccuracy', 'tavg',\n                           'dewpoint', 'wetbulb', 'preciptotal',\n                           'stnpressure', 'sealevel', 'resultspeed',\n                           'resultdir', 'avgspeed', 'year',\n                           'month', 'day']\n\nX_train_numeric = X_train[numeric_features]\nX_test_numeric = X_test[numeric_features]\n\nX_train_categorical = X_train.drop(columns=numeric_features, axis=1)\nX_test_categorical = X_test.drop(columns=numeric_features, axis=1)\n\nscaler = StandardScaler()\nX_train_numeric = scaler.fit_transform( X_train_numeric )\nX_test_numeric = scaler.transform( X_test_numeric )\n\nX_train_numeric = pd.DataFrame(X_train_numeric, columns=numeric_features)\nX_test_numeric = pd.DataFrame(X_test_numeric, columns=numeric_features)\n\nX_train_total = pd.concat([X_train_numeric.reset_index(drop=True), X_train_categorical.reset_index(drop=True)], axis=1)\nX_test_total = pd.concat([X_test_numeric.reset_index(drop=True), X_test_categorical.reset_index(drop=True)], axis=1)\n",
   "outputs": [],
   "execution_count": null
  },
  {
   "cell_type": "code",
   "metadata": {
    "tags": [],
    "cell_id": "00006-8adb6c6c-7460-4c5e-a4bb-01d8725937ed",
    "deepnote_to_be_reexecuted": false,
    "source_hash": "d818a67a",
    "execution_start": 1637258276262,
    "execution_millis": 5,
    "deepnote_cell_type": "code"
   },
   "source": "# Best Model with Confusion Metric Function\n\n# Confusion Metric\n\nresamplers = {'smote': SMOTE(random_state=42),\n              'adasyn': ADASYN(random_state=42),\n             'None':None}\n\n# Instiantiate models\nmodels = {\n    'lgbm': lgbm.LGBMClassifier(random_state=42), #clara got prob with doing lgbm...do i need to install at terminal?\n         }\n\n# Results dataframe\ndf_results = pd.DataFrame(\n    columns = [\n        'Classifier',\n        'CV Score (train)',\n        'ROC_AUC (train)',\n        'ROC_AUC (test)',\n        'Accuracy (train)',\n        'Accuracy (test)',\n        'Sensitivity (test)',\n        'Specificity (test)',\n        'Precision (test)',\n        'Misclassification (test)',\n    ]\n)",
   "outputs": [],
   "execution_count": null
  },
  {
   "cell_type": "code",
   "metadata": {
    "tags": [],
    "cell_id": "00007-6cdf910a-f68a-4d6a-b061-0d623b7203f7",
    "deepnote_to_be_reexecuted": false,
    "source_hash": "667aee21",
    "execution_start": 1637258285719,
    "execution_millis": 56,
    "deepnote_cell_type": "code"
   },
   "source": "def gscv_creator_4(model, pipe_params_1,resampler_1='smote', n_jobs=-1):\n    \"\"\"\n    helps me instantiate my models quickly. \n    ensure that your parameters for gridsearching are prefixed correctly according to the dunder__ convention \n    leave n_jobs as -1 unless you have good reason for making it slower and more painful than necessary.\n    \"\"\"\n    \n    df_results = pd.DataFrame(\n    columns = [\n        'Classifier',\n        'CV Score (train)',\n        'ROC_AUC (train)',\n        'ROC_AUC (test)',\n        'Accuracy (train)',\n        'Accuracy (test)',\n        'Sensitivity (test)',\n        'Specificity (test)',\n        'Precision (test)',\n        'Recall (test)',\n        'Misclassification (test)',\n    ])\n    \n    # Smote\n    \n    pipe_1 = imbpipe([\n            (resampler_1, resamplers[resampler_1]),\n            (model, models[model]),\n        ])\n    \n    gs_1 = GridSearchCV(pipe_1,\n                      pipe_params_1,\n                      cv=5,\n                      scoring='roc_auc',\n                      verbose=1,\n                      n_jobs=n_jobs) # force maximum number of concurrent workers\n    \n    gs_1.fit(X_train_total, y_train)\n    \n    y_smote_pred = gs_1.predict(X_test_total)\n    tn, fp, fn, tp = confusion_matrix(y_test, y_smote_pred).ravel()\n    \n    new_row_1 = [{\n        'Classifier' : model + ' smote',\n        'CV Score (train)' : round(gs_1.best_score_, 5),\n        'ROC_AUC (train)': round(gs_1.score(X_train_total, y_train), 2),\n        'ROC_AUC (test)' : round(gs_1.score(X_test_total, y_test) ,2 ),\n        'Accuracy (train)': round(gs_1.score(X_train_total, y_train), 2),\n        'Accuracy (test)' : round(gs_1.score(X_test_total, y_test) ,2 ),\n        'Sensitivity (test)' : round (tp/(tp+fn), 2),\n        'Specificity (test)' : round (tn/(tn+fp), 2),\n        'Precision (test)' : round (tp/(tp+fp), 2),\n        'Recall (test)' : round (tp/(tp+fn), 2),\n        'Misclassification (test)' : round (1-(tp+tn)/(tn+fp+fn+tp),2),\n    }]\n    \n    df_results = pd.concat([df_results, pd.DataFrame(new_row_1)], axis = 0)\n\n    plot_confusion_matrix(gs_1, \n                      X_test_total, y_test, \n                      cmap='Blues', \n                      values_format='d', \n                      display_labels=['features', 'wnvpresent']\n                     ); \n\n    \n    lgbm.plot_importance(gs_1.best_estimator_._final_estimator, figsize=(20,20))\n\n    return df_results",
   "outputs": [],
   "execution_count": null
  },
  {
   "cell_type": "code",
   "metadata": {
    "tags": [],
    "cell_id": "00008-2e4ffefc-4cc2-4d4f-aaed-1cabb60753f0",
    "deepnote_to_be_reexecuted": false,
    "source_hash": "a866cfe3",
    "execution_start": 1637258291823,
    "execution_millis": 18007,
    "deepnote_output_heights": [
     null,
     null,
     264,
     611
    ],
    "deepnote_cell_type": "code"
   },
   "source": "# Best Model Result\n\npipe_param_1 = {\n    'smote__k_neighbors':[5],\n    'lgbm__objective':['binary'],\n    'lgbm__max_depth':[None, 1, 2]\n}\n\ngscv_creator_4(model='lgbm', pipe_params_1 = pipe_param_1, resampler_1='smote', n_jobs=-1)",
   "outputs": [
    {
     "name": "stdout",
     "text": "Fitting 5 folds for each of 3 candidates, totalling 15 fits\n",
     "output_type": "stream"
    },
    {
     "output_type": "execute_result",
     "execution_count": 9,
     "data": {
      "application/vnd.deepnote.dataframe.v2+json": {
       "row_count": 1,
       "column_count": 11,
       "columns": [
        {
         "name": "Classifier",
         "dtype": "object",
         "stats": {
          "unique_count": 1,
          "nan_count": 0,
          "categories": [
           {
            "name": "lgbm smote",
            "count": 1
           }
          ]
         }
        },
        {
         "name": "CV Score (train)",
         "dtype": "float64",
         "stats": {
          "unique_count": 1,
          "nan_count": 0,
          "min": "0.81627",
          "max": "0.81627",
          "histogram": [
           {
            "bin_start": 0.31627000000000005,
            "bin_end": 0.41627000000000003,
            "count": 0
           },
           {
            "bin_start": 0.41627000000000003,
            "bin_end": 0.51627,
            "count": 0
           },
           {
            "bin_start": 0.51627,
            "bin_end": 0.6162700000000001,
            "count": 0
           },
           {
            "bin_start": 0.6162700000000001,
            "bin_end": 0.7162700000000001,
            "count": 0
           },
           {
            "bin_start": 0.7162700000000001,
            "bin_end": 0.81627,
            "count": 0
           },
           {
            "bin_start": 0.81627,
            "bin_end": 0.9162700000000001,
            "count": 1
           },
           {
            "bin_start": 0.9162700000000001,
            "bin_end": 1.01627,
            "count": 0
           },
           {
            "bin_start": 1.01627,
            "bin_end": 1.11627,
            "count": 0
           },
           {
            "bin_start": 1.11627,
            "bin_end": 1.2162700000000002,
            "count": 0
           },
           {
            "bin_start": 1.2162700000000002,
            "bin_end": 1.31627,
            "count": 0
           }
          ]
         }
        },
        {
         "name": "ROC_AUC (train)",
         "dtype": "float64",
         "stats": {
          "unique_count": 1,
          "nan_count": 0,
          "min": "0.85",
          "max": "0.85",
          "histogram": [
           {
            "bin_start": 0.35,
            "bin_end": 0.44999999999999996,
            "count": 0
           },
           {
            "bin_start": 0.44999999999999996,
            "bin_end": 0.55,
            "count": 0
           },
           {
            "bin_start": 0.55,
            "bin_end": 0.65,
            "count": 0
           },
           {
            "bin_start": 0.65,
            "bin_end": 0.75,
            "count": 0
           },
           {
            "bin_start": 0.75,
            "bin_end": 0.85,
            "count": 0
           },
           {
            "bin_start": 0.85,
            "bin_end": 0.9500000000000001,
            "count": 1
           },
           {
            "bin_start": 0.9500000000000001,
            "bin_end": 1.05,
            "count": 0
           },
           {
            "bin_start": 1.05,
            "bin_end": 1.15,
            "count": 0
           },
           {
            "bin_start": 1.15,
            "bin_end": 1.25,
            "count": 0
           },
           {
            "bin_start": 1.25,
            "bin_end": 1.35,
            "count": 0
           }
          ]
         }
        },
        {
         "name": "ROC_AUC (test)",
         "dtype": "float64",
         "stats": {
          "unique_count": 1,
          "nan_count": 0,
          "min": "0.83",
          "max": "0.83",
          "histogram": [
           {
            "bin_start": 0.32999999999999996,
            "bin_end": 0.42999999999999994,
            "count": 0
           },
           {
            "bin_start": 0.42999999999999994,
            "bin_end": 0.53,
            "count": 0
           },
           {
            "bin_start": 0.53,
            "bin_end": 0.63,
            "count": 0
           },
           {
            "bin_start": 0.63,
            "bin_end": 0.73,
            "count": 0
           },
           {
            "bin_start": 0.73,
            "bin_end": 0.83,
            "count": 0
           },
           {
            "bin_start": 0.83,
            "bin_end": 0.93,
            "count": 1
           },
           {
            "bin_start": 0.93,
            "bin_end": 1.03,
            "count": 0
           },
           {
            "bin_start": 1.03,
            "bin_end": 1.13,
            "count": 0
           },
           {
            "bin_start": 1.13,
            "bin_end": 1.23,
            "count": 0
           },
           {
            "bin_start": 1.23,
            "bin_end": 1.33,
            "count": 0
           }
          ]
         }
        },
        {
         "name": "Accuracy (train)",
         "dtype": "float64",
         "stats": {
          "unique_count": 1,
          "nan_count": 0,
          "min": "0.85",
          "max": "0.85",
          "histogram": [
           {
            "bin_start": 0.35,
            "bin_end": 0.44999999999999996,
            "count": 0
           },
           {
            "bin_start": 0.44999999999999996,
            "bin_end": 0.55,
            "count": 0
           },
           {
            "bin_start": 0.55,
            "bin_end": 0.65,
            "count": 0
           },
           {
            "bin_start": 0.65,
            "bin_end": 0.75,
            "count": 0
           },
           {
            "bin_start": 0.75,
            "bin_end": 0.85,
            "count": 0
           },
           {
            "bin_start": 0.85,
            "bin_end": 0.9500000000000001,
            "count": 1
           },
           {
            "bin_start": 0.9500000000000001,
            "bin_end": 1.05,
            "count": 0
           },
           {
            "bin_start": 1.05,
            "bin_end": 1.15,
            "count": 0
           },
           {
            "bin_start": 1.15,
            "bin_end": 1.25,
            "count": 0
           },
           {
            "bin_start": 1.25,
            "bin_end": 1.35,
            "count": 0
           }
          ]
         }
        },
        {
         "name": "Accuracy (test)",
         "dtype": "float64",
         "stats": {
          "unique_count": 1,
          "nan_count": 0,
          "min": "0.83",
          "max": "0.83",
          "histogram": [
           {
            "bin_start": 0.32999999999999996,
            "bin_end": 0.42999999999999994,
            "count": 0
           },
           {
            "bin_start": 0.42999999999999994,
            "bin_end": 0.53,
            "count": 0
           },
           {
            "bin_start": 0.53,
            "bin_end": 0.63,
            "count": 0
           },
           {
            "bin_start": 0.63,
            "bin_end": 0.73,
            "count": 0
           },
           {
            "bin_start": 0.73,
            "bin_end": 0.83,
            "count": 0
           },
           {
            "bin_start": 0.83,
            "bin_end": 0.93,
            "count": 1
           },
           {
            "bin_start": 0.93,
            "bin_end": 1.03,
            "count": 0
           },
           {
            "bin_start": 1.03,
            "bin_end": 1.13,
            "count": 0
           },
           {
            "bin_start": 1.13,
            "bin_end": 1.23,
            "count": 0
           },
           {
            "bin_start": 1.23,
            "bin_end": 1.33,
            "count": 0
           }
          ]
         }
        },
        {
         "name": "Sensitivity (test)",
         "dtype": "float64",
         "stats": {
          "unique_count": 1,
          "nan_count": 0,
          "min": "0.68",
          "max": "0.68",
          "histogram": [
           {
            "bin_start": 0.18000000000000005,
            "bin_end": 0.28,
            "count": 0
           },
           {
            "bin_start": 0.28,
            "bin_end": 0.38000000000000006,
            "count": 0
           },
           {
            "bin_start": 0.38000000000000006,
            "bin_end": 0.4800000000000001,
            "count": 0
           },
           {
            "bin_start": 0.4800000000000001,
            "bin_end": 0.5800000000000001,
            "count": 0
           },
           {
            "bin_start": 0.5800000000000001,
            "bin_end": 0.68,
            "count": 0
           },
           {
            "bin_start": 0.68,
            "bin_end": 0.7800000000000001,
            "count": 1
           },
           {
            "bin_start": 0.7800000000000001,
            "bin_end": 0.8800000000000001,
            "count": 0
           },
           {
            "bin_start": 0.8800000000000001,
            "bin_end": 0.9800000000000001,
            "count": 0
           },
           {
            "bin_start": 0.9800000000000001,
            "bin_end": 1.08,
            "count": 0
           },
           {
            "bin_start": 1.08,
            "bin_end": 1.1800000000000002,
            "count": 0
           }
          ]
         }
        },
        {
         "name": "Specificity (test)",
         "dtype": "float64",
         "stats": {
          "unique_count": 1,
          "nan_count": 0,
          "min": "0.82",
          "max": "0.82",
          "histogram": [
           {
            "bin_start": 0.31999999999999995,
            "bin_end": 0.41999999999999993,
            "count": 0
           },
           {
            "bin_start": 0.41999999999999993,
            "bin_end": 0.5199999999999999,
            "count": 0
           },
           {
            "bin_start": 0.5199999999999999,
            "bin_end": 0.6199999999999999,
            "count": 0
           },
           {
            "bin_start": 0.6199999999999999,
            "bin_end": 0.72,
            "count": 0
           },
           {
            "bin_start": 0.72,
            "bin_end": 0.8199999999999998,
            "count": 0
           },
           {
            "bin_start": 0.8199999999999998,
            "bin_end": 0.9199999999999999,
            "count": 1
           },
           {
            "bin_start": 0.9199999999999999,
            "bin_end": 1.02,
            "count": 0
           },
           {
            "bin_start": 1.02,
            "bin_end": 1.1199999999999999,
            "count": 0
           },
           {
            "bin_start": 1.1199999999999999,
            "bin_end": 1.2199999999999998,
            "count": 0
           },
           {
            "bin_start": 1.2199999999999998,
            "bin_end": 1.3199999999999998,
            "count": 0
           }
          ]
         }
        },
        {
         "name": "Precision (test)",
         "dtype": "float64",
         "stats": {
          "unique_count": 1,
          "nan_count": 0,
          "min": "0.17",
          "max": "0.17",
          "histogram": [
           {
            "bin_start": -0.32999999999999996,
            "bin_end": -0.22999999999999995,
            "count": 0
           },
           {
            "bin_start": -0.22999999999999995,
            "bin_end": -0.12999999999999995,
            "count": 0
           },
           {
            "bin_start": -0.12999999999999995,
            "bin_end": -0.029999999999999916,
            "count": 0
           },
           {
            "bin_start": -0.029999999999999916,
            "bin_end": 0.07000000000000006,
            "count": 0
           },
           {
            "bin_start": 0.07000000000000006,
            "bin_end": 0.17000000000000004,
            "count": 1
           },
           {
            "bin_start": 0.17000000000000004,
            "bin_end": 0.27000000000000013,
            "count": 0
           },
           {
            "bin_start": 0.27000000000000013,
            "bin_end": 0.3700000000000001,
            "count": 0
           },
           {
            "bin_start": 0.3700000000000001,
            "bin_end": 0.4700000000000001,
            "count": 0
           },
           {
            "bin_start": 0.4700000000000001,
            "bin_end": 0.5700000000000001,
            "count": 0
           },
           {
            "bin_start": 0.5700000000000001,
            "bin_end": 0.67,
            "count": 0
           }
          ]
         }
        },
        {
         "name": "Recall (test)",
         "dtype": "float64",
         "stats": {
          "unique_count": 1,
          "nan_count": 0,
          "min": "0.68",
          "max": "0.68",
          "histogram": [
           {
            "bin_start": 0.18000000000000005,
            "bin_end": 0.28,
            "count": 0
           },
           {
            "bin_start": 0.28,
            "bin_end": 0.38000000000000006,
            "count": 0
           },
           {
            "bin_start": 0.38000000000000006,
            "bin_end": 0.4800000000000001,
            "count": 0
           },
           {
            "bin_start": 0.4800000000000001,
            "bin_end": 0.5800000000000001,
            "count": 0
           },
           {
            "bin_start": 0.5800000000000001,
            "bin_end": 0.68,
            "count": 0
           },
           {
            "bin_start": 0.68,
            "bin_end": 0.7800000000000001,
            "count": 1
           },
           {
            "bin_start": 0.7800000000000001,
            "bin_end": 0.8800000000000001,
            "count": 0
           },
           {
            "bin_start": 0.8800000000000001,
            "bin_end": 0.9800000000000001,
            "count": 0
           },
           {
            "bin_start": 0.9800000000000001,
            "bin_end": 1.08,
            "count": 0
           },
           {
            "bin_start": 1.08,
            "bin_end": 1.1800000000000002,
            "count": 0
           }
          ]
         }
        },
        {
         "name": "Misclassification (test)",
         "dtype": "float64",
         "stats": {
          "unique_count": 1,
          "nan_count": 0,
          "min": "0.19",
          "max": "0.19",
          "histogram": [
           {
            "bin_start": -0.31,
            "bin_end": -0.21,
            "count": 0
           },
           {
            "bin_start": -0.21,
            "bin_end": -0.10999999999999999,
            "count": 0
           },
           {
            "bin_start": -0.10999999999999999,
            "bin_end": -0.009999999999999953,
            "count": 0
           },
           {
            "bin_start": -0.009999999999999953,
            "bin_end": 0.09000000000000002,
            "count": 0
           },
           {
            "bin_start": 0.09000000000000002,
            "bin_end": 0.19,
            "count": 0
           },
           {
            "bin_start": 0.19,
            "bin_end": 0.2900000000000001,
            "count": 1
           },
           {
            "bin_start": 0.2900000000000001,
            "bin_end": 0.39000000000000007,
            "count": 0
           },
           {
            "bin_start": 0.39000000000000007,
            "bin_end": 0.49000000000000005,
            "count": 0
           },
           {
            "bin_start": 0.49000000000000005,
            "bin_end": 0.5900000000000001,
            "count": 0
           },
           {
            "bin_start": 0.5900000000000001,
            "bin_end": 0.69,
            "count": 0
           }
          ]
         }
        },
        {
         "name": "_deepnote_index_column",
         "dtype": "int64"
        }
       ],
       "rows_top": [
        {
         "Classifier": "lgbm smote",
         "CV Score (train)": 0.81627,
         "ROC_AUC (train)": 0.85,
         "ROC_AUC (test)": 0.83,
         "Accuracy (train)": 0.85,
         "Accuracy (test)": 0.83,
         "Sensitivity (test)": 0.68,
         "Specificity (test)": 0.82,
         "Precision (test)": 0.17,
         "Recall (test)": 0.68,
         "Misclassification (test)": 0.19,
         "_deepnote_index_column": 0
        }
       ],
       "rows_bottom": null
      },
      "text/plain": "   Classifier  CV Score (train)  ROC_AUC (train)  ROC_AUC (test)  \\\n0  lgbm smote           0.81627             0.85            0.83   \n\n   Accuracy (train)  Accuracy (test)  Sensitivity (test)  Specificity (test)  \\\n0              0.85             0.83                0.68                0.82   \n\n   Precision (test)  Recall (test)  Misclassification (test)  \n0              0.17           0.68                      0.19  ",
      "text/html": "<div>\n<style scoped>\n    .dataframe tbody tr th:only-of-type {\n        vertical-align: middle;\n    }\n\n    .dataframe tbody tr th {\n        vertical-align: top;\n    }\n\n    .dataframe thead th {\n        text-align: right;\n    }\n</style>\n<table border=\"1\" class=\"dataframe\">\n  <thead>\n    <tr style=\"text-align: right;\">\n      <th></th>\n      <th>Classifier</th>\n      <th>CV Score (train)</th>\n      <th>ROC_AUC (train)</th>\n      <th>ROC_AUC (test)</th>\n      <th>Accuracy (train)</th>\n      <th>Accuracy (test)</th>\n      <th>Sensitivity (test)</th>\n      <th>Specificity (test)</th>\n      <th>Precision (test)</th>\n      <th>Recall (test)</th>\n      <th>Misclassification (test)</th>\n    </tr>\n  </thead>\n  <tbody>\n    <tr>\n      <th>0</th>\n      <td>lgbm smote</td>\n      <td>0.81627</td>\n      <td>0.85</td>\n      <td>0.83</td>\n      <td>0.85</td>\n      <td>0.83</td>\n      <td>0.68</td>\n      <td>0.82</td>\n      <td>0.17</td>\n      <td>0.68</td>\n      <td>0.19</td>\n    </tr>\n  </tbody>\n</table>\n</div>"
     },
     "metadata": {}
    },
    {
     "data": {
      "text/plain": "<Figure size 432x288 with 2 Axes>",
      "image/png": "[encoded data removed]"
     },
     "metadata": {
      "needs_background": "light",
      "image/png": {
       "width": 371,
       "height": 262
      }
     },
     "output_type": "display_data"
    },
    {
     "data": {
      "text/plain": "<Figure size 1440x1440 with 1 Axes>",
      "image/png": "[encoded data removed]"
     },
     "metadata": {
      "needs_background": "light",
      "image/png": {
       "width": 1326,
       "height": 1148
      }
     },
     "output_type": "display_data"
    }
   ],
   "execution_count": null
  },
  {
   "cell_type": "code",
   "metadata": {
    "tags": [],
    "cell_id": "00009-ec1c8f66-7931-470a-bc00-3d09141cc5ab",
    "deepnote_to_be_reexecuted": true,
    "source_hash": "b623e53d",
    "deepnote_cell_type": "code"
   },
   "source": "",
   "outputs": [],
   "execution_count": null
  },
  {
   "cell_type": "markdown",
   "source": "# Cost Benefit Analysis",
   "metadata": {
    "tags": [],
    "is_collapsed": false,
    "cell_id": "00002-d036c2fb-5e56-4e80-8d97-25a64601df13",
    "deepnote_cell_type": "text-cell-h1"
   }
  },
  {
   "cell_type": "markdown",
   "source": "The recent epidemic of the West Nile Virus in Chicago has been troubling the Department of Public Health. Though it may be impossible to fully eliminate the West Nile Virus, our goal is to curb the West Nile Virus and keep it at a controllable level for the Department of Public Health to manage. Since we know that that the West Nile Virus and the pesticides go hand in hand in keeping the West Nile Virus under control, our objective is to find the optimal level of pesticides that is to be sprayed across Chicago, while minimising the negative consequences from the utilization of the pesticides - since pesticides are a double-edged sword in the fight against the West Nile Virus.\n\n**Costs**\n\nThere are varying costs due to the deployment of pesticides. We will look into the 3 kinds of the cost incurred: direct cost, indirect cost, and intangible cost. \n\n1. Direct Cost\nThe obvious direct cost from the deployment of pesticides is that it is expensive.\nChicago engages in Integrated Vector Management (IVM) programs that make evidence-based control decisions with information derived from well-designed surveillance systems, and that utilize a diversity of ecologically-appropriate control tools, can effectively reduce vector abundance and human West Nile Virus risk [(Source)](https://www.ncbi.nlm.nih.gov/pmc/articles/PMC7092639/). Hence, with such a targeted approach, pesticides are not mindlessly sprayed across Chicago, and the expenditure on the pesticides is optimally reduced as well. In 2020, Chicago sprayed on South Lawndale, Brighton Park, Archer Heights and on the 41st Ward of Chicago [(Source)](https://www.chicago.gov/city/en/depts/cdph/provdrs/healthy_communities/news/2020/august/city-to-spray-insecticide-thursday-to-kill-mosquitoes0.html). The total sprayed area is 11.4 km² + 7.045 km² +  5.206 km² + 45.014 km² = 68.665 km². Since the cost of deploying aerial spraying of common mosquito pesticides cost **USD 0.92** for half an acre, the total cost of aerial spraying on the targeted areas of Chicago would alone cost **USD 31,898.88**. Though this would kill mosquito larvae and adult mosquitoes [(Source)](https://www.cdc.gov/mosquitoes/mosquito-control/community/aerial-spraying.html), we can expect regular aerial spraying to be conducted across Chicago during the summer months and breeding season to fully keep the West Nile Virus under control. Assuming that the maximum number of sprays of 25 are conducted across Chicago on a yearly basis [(Source)](https://www.mercercounty.org/home/showdocument?id=2626#:~:text=Do%20not%20spray%20more%20than,applications%20per%20site%20per%20year.), this would cost **USD 797,472.08** for the Department of Public Health and relevant government disease control centres on the spraying of pesticides alone. This does not include the labour cost, transportation cost and others. \n\n2. Indirect Cost\nA possible indirect cost could be the higher tax rates imposed on the residents of Chicago. The costs of the deployment of pesticides from the hired & paid workers for the spraying of the pesticides by pest control agencies, to the purchase of large quantities of pesticides, all these varying costs incurred from the deployment of the pesticides will eventually be a shared cost borne by both the state Illinois, Chicago city, and the residents of Chicago. This eventual increase in higher taxes may be a huge financial burden for the residents of Chicago who are of the lower-income category especially.\n\n3. Intangible Cost\nNotwithstanding the above, the increased taxes could lead to intangible costs such as a lower quality of life due to a higher cost of living. The slightest increase in the percentage of tax could lead to a significantly lower quality of life - especially for those in the lower-income category where every dollar counts. Even for the middle-income earners, an increase in tax could imply that one has to live more cautiously and may sacrifice non-essential expenditure like entertainment expenditure for example. \n\n**Benefits**\n\nLikewise, for benefits, there are varying benefits due to the deployment of pesticides. We will look into the 4 kinds of benefits incurred: direct benefit, indirect benefit, intangible benefit, and competitive benefit (if applicable).\n\n1. Direct Benefit\nThe biggest direct benefit of the use of pesticides is the decrease in people contacting the West Nile Virus. This will result in a drop in the probability of the unemployed residents in Chicago due to the being patients who contracted the West Nile Virus, or as caregivers of this patients. As a result, a steady and higher employment rate in Chicago can possibly be achieved.\n\n2. Indirect Benefit\nAdditionally, the indirect benefit from the use of pesticides to curb the West Nile Virus is the potential decrease in medical costs incurred due to the West Nile Virus. Since there is no vaccine for the West Nile Virus or medication to treat patients with the West Nile Virus [(Source)](https://www.cdc.gov/westnile/index.html#:~:text=There%20are%20no%20vaccines%20to,a%20fever%20and%20other%20symptoms.), the symptoms can only be treated. For serious cases though, patients may need to be hospitalized and as such, huge hospitalization medical expenses may be incurred. Hence, the use of pesticides would significantly decrease the probability of medical expenditure due to contracting the West Nile Virus.\nIn 2020, the state Illinois (which Chicago is a city of) had a total of 42 patients who contracted the West Nile Virus, of which 4 patients had passed away from the virus [(Source)](https://public.dph.illinois.gov/wnvpublic/wnvglance.aspx?year=2021). Taking previous data that provided a breakdown of cost per patient in Sacramento, CA from [(Source)](https://wwwnc.cdc.gov/eid/article/16/3/09-0667_article) and use it for Chicago, this is what it would cost to be a patient with West Nile Virus Neuroinvasive Disease (WNND) [(Source)](https://pubmed.ncbi.nlm.nih.gov/16983682/):\n\n**BASELINE**\n* Outpatient cost (For all treatments) = ~USD 6,317.00\n* Inpatient cost (For all treatments)=  ~USD 33,143.00\n* Patient in nursing home (For all treatments) = ~USD 18,097.00\n* Productivity loss (Assuming the patient is still working and below 60 years old) = ~USD 10,800.00\n* Productivity loss (Assuming the patient is still working and above 60 years old) = ~USD 7,500.00\n\n42 patients will have an equivalent of around **USD 265,000.00** if assuming all patients are outpatients or **USD 1,845,606.00** if assuming all patients are inpatients and are below 60 years old.\n***(NOTE: These costs are based on Sacromento, CA cost of living so will have to scale it by 1.07 for Chicago, IL)***\n\n3. Intangible Benefit\nIntangible benefits such as improved morale and increased living satisfaction for the residents of Chicago during the summer months & West Nile Virus Season as the residents can live with greater assurance and relatively lower levels of fear of contracting the West Nile Virus. \n\n4. Competitive Benefit\nThe regular use of pesticides can give the city of Chicago a competitive edge over other cities. Chicago can stand out from her neighbouring cities and even promote herself as a choice destination for a safe summer vacation with a reduced risk of contracting the West Nile Virus. \n\n**Conclusion**\n\nComparing the costs and benefits, though it is expensive to use pesticides in the fight against the West Nile Virus, the savings and benefits that the use of pesticides bring is more than sufficient for the government to continue spending on pesticides. But more than that, we cannot put a price tag on human lives. To ensure the safety of citizens of Chicago as well a well-being of its neighboring cities from a viral pandamic like what we are experiencing right now with COVID-19 [(Source)](https://www.chicago.gov/city/en/sites/covid-19/home/covid-dashboard.html), the benefits of preventing an add-on factor on top of an ongoing pandemic will definitely outweigh the cost.\n",
   "metadata": {
    "tags": [],
    "cell_id": "00003-3390ecb6-57ce-402c-8852-89ea4f92c9ee",
    "deepnote_cell_type": "markdown"
   }
  },
  {
   "cell_type": "markdown",
   "source": "# Recommendation and Future Improvements",
   "metadata": {
    "tags": [],
    "cell_id": "00001-d8a5b8c0-0244-4176-9f57-f29342c58b0a",
    "deepnote_cell_type": "markdown"
   }
  },
  {
   "cell_type": "markdown",
   "source": "## Recommendations",
   "metadata": {
    "tags": [],
    "is_collapsed": false,
    "cell_id": "00013-2e9bf1ee-fcc7-4d63-9fe2-0820497a2408",
    "deepnote_cell_type": "text-cell-h2"
   }
  },
  {
   "cell_type": "markdown",
   "source": "**Focus on Education**\n\nThe government officials and the disease control centres can heavily invest resources in curbing the spread of the West Nile Virus during the summer months, which are the peak of the breeding season and spread of the virus. However, such efforts can come to a naught if the residents of Chicago do not work hand in hand with the government officials and the disease control centres. All the aerial spraying of the pesticides and the surveillance of the mosquitos will go to waste, if the residents themselves do not do their part to reduce the breeding sites of mosquitos. For example, students can be educated from a young age in schools to remove any stagnant water like the excess water on flower plates, improve drainage & remove debris on roofs and canals, and by turning water pails upside down. Furthermore, the general public can be educated on social media platforms as well. ",
   "metadata": {
    "tags": [],
    "cell_id": "00016-86b5800c-0d8b-4e6c-bbe3-994eff66d7a7",
    "deepnote_cell_type": "markdown"
   }
  },
  {
   "cell_type": "markdown",
   "source": "**Change the spray locations**\n\nAccording the geopandas map that we have generated in our EDA, the presence of the West Nile Virus is relatively densely populated around the area around blocks 10, 11 and 76. There was, however, no pesticides being sprayed for those areas. Therefore, we would like to recommend pesticide to be sprayed in these areas.",
   "metadata": {
    "tags": [],
    "cell_id": "00015-6696fc02-1647-4741-a82e-f1144d32369a",
    "deepnote_cell_type": "markdown"
   }
  },
  {
   "cell_type": "markdown",
   "source": "**Utilize effective technologies to spray the pesticides**\n\nNotwithstanding the above, the disease control centres can utilize drones instead of aeroplanes to spray the pesticides at a lower altitude for harder to reach targeted areas. As such, the pesticides will be sprayed more precisely at the breeding areas of the mosquitos that are carriers of the West Nile Virus.",
   "metadata": {
    "tags": [],
    "cell_id": "00016-d2d58377-c68e-400c-ae35-d1d9158d0b33",
    "deepnote_cell_type": "markdown"
   }
  },
  {
   "cell_type": "markdown",
   "source": "**Consider alternative pesticides**\n\nThe main pesticides used for the West Nile Virus is Zenivex, which is an adulticide. Adulticides are however, less effective than larvicides. Hence, we would like to recommend to change the type of pesticide to the larvicide and prevent the mosquitoes that are carriers of the West Nile Virus from being hatched. ",
   "metadata": {
    "tags": [],
    "cell_id": "00017-3ad8f9ef-d890-4970-ab5f-5c66ae324536",
    "deepnote_cell_type": "markdown"
   }
  },
  {
   "cell_type": "markdown",
   "source": "## Further Improvements",
   "metadata": {
    "tags": [],
    "is_collapsed": false,
    "cell_id": "00016-689e6769-cc19-4b73-ab24-1cff02549c10",
    "deepnote_cell_type": "text-cell-h2"
   }
  },
  {
   "cell_type": "markdown",
   "source": "**Continually research for less invasive solutions against the West Nile Virus**\n\nWe cannot deny that the use of pesticides, albeit an effective & necessary one, is an aggresive solution in reducing the spread of West Nile Virus. It is noted that wolbachia carrying male Aedes mosquitoes may be effective in preventing the hatching of eggs for the Aedes mosquitoes from the female Aedes mosquitoes. Though the earlier example worked in curbing the spread of Dengue by the Aedes mosquitoes, this sadly and however, does not work the same for the Culex mosquitoes of the West Nile Virus. Research has shown that when the wolbachia carrying male Culex mosquitoes were released, the West Nile Virus infection rate becomes significantly higher as compared to control. Hence, continual research should be done to optimally use wolbachia carrying male Culex mosquitoes, or use other bacterias or even genetically modify the male Culex mosquitoes to curb the spread of the West Nile Virus.",
   "metadata": {
    "tags": [],
    "cell_id": "00016-d02ad75a-3a26-427c-9bb4-cccbb188902b",
    "deepnote_cell_type": "markdown"
   }
  },
  {
   "cell_type": "markdown",
   "source": "**Obtain further data to conduct on decision tree / markov models**\n\nThe problem statement has presented itself as more of an ecology problem given that the main target we are dealing with is the mosquitoes. However, the most important problem which Chicago is most likely to be interested in is the healthcare-associated costs that come from this problem since West Nile Virus has the potential to cause severe forms of diseases, such as encephalitis and meningitis, that can lead to paralysis, long term disability and coma. As such, cost-effectiveness analysis can be conducted using healthcare costs (in terms of US dollars) and quality-adjusted life years (QALY) as an indicator of effectiveness. A decision tree / markov model for economic evaluation can be drawn using the above parameters (cost and effectiveness) to calculate the incremental cost-effectiveness ratio (ICER) which can then be used to evaluate the interventions given a certain budget. This analysis takes into account which intervention is being used (in our case the intervention would be the pesticide and the control will be not using pesticide), what forms of diseases can develop in each arm, and its associated probability. At the end of the decision tree / markov model, the cost and effectiveness will be computed, combined and compared to return the ICER value. However, as of now, there is no available QALY data for West Nile Virus. Therefore, we recommend that research should be conducted to obtain these data when the intervention is being deployed so that a more robust cost-effectiveness analysis to be conducted to evaluate the use of pesticides. ",
   "metadata": {
    "tags": [],
    "cell_id": "00019-6eb97a65-de6b-4bce-a2e1-e1ba2b8e88c4",
    "deepnote_cell_type": "markdown"
   }
  },
  {
   "cell_type": "markdown",
   "source": "**Take into account changing environmental factors**\n\nChanging trends in global climates have affected patterns of infectious disease transmission. Changes in weather such as increased rainfall, extreme weather events, such as flooding, and more violent heat waves have impacted patterns of insect activity and have also created environments that better suit the transmission of viruses. For example, warmer temperatures can result in a longer season yearly for mosquitoes to be active transmission vectors of WNV as they migrate within one territory or between territories, potentially increasing the spread of WNV. The WNV, first reported in Uganda in 1937, is an example of mosquito-borne viruses emerging in continents that they had never previously reached in the past 20 years. Hence, more environment-based data could be collected to conduct multi-year investigations of the complex relationship between climate change and WNV transmission for the city to adopt a multi-faceted approach for mosquito control. Other areas of improvement include investigating the development of resistance to pesticides in the mosquito populations and increasing the involvement of the public in combating and preventing a WNV outbreak.",
   "metadata": {
    "tags": [],
    "cell_id": "00021-13593b27-293d-47ee-9374-c315cd840c9c",
    "deepnote_cell_type": "markdown"
   }
  },
  {
   "cell_type": "markdown",
   "source": "**Referenced URLs:**\n\nhttps://www.hopkinsmedicine.org/health/conditions-and-diseases/west-nile-virus#:~:text=Humans%20get%20West%20Nile%20from,to%20prevent%20West%20Nile%20virus.\n\nhttps://www.indiatimes.com/technology/science-and-future/singapore-dengue-genetically-modified-mosquitoes-521477.html\n\nhttps://pubmed.ncbi.nlm.nih.gov/25010200/\n\nhttps://www.beyondpesticides.org/resources/mosquitos-and-insect-borne-diseases/documents/the-truth-about-mosquitoes,-pesticides-and-west-nile-virus",
   "metadata": {
    "tags": [],
    "cell_id": "00015-7931cbd1-57cc-4c9c-802b-4cc79686e47a",
    "deepnote_cell_type": "markdown"
   }
  },
  {
   "cell_type": "markdown",
   "source": "# Conclusion",
   "metadata": {
    "tags": [],
    "cell_id": "00005-1f8b23e6-d0f0-4d6f-94ba-4bf6d6db3078",
    "deepnote_cell_type": "markdown"
   }
  },
  {
   "cell_type": "markdown",
   "source": "Our analysis provides a foundation for the implementation of a statistically rigorous system for real-time forecast of seasonal WNV outbreaks and their use as a quantitative decision support tool for public health officials and mosquito control programs. We found that () () () are among the top determinants of the presence of WNV in Chicago base on the Light Gradient Boosting classifier model with a (some %?). We have presented a cross-benefit analysis of deploying pesticides to combat the WNV, concluding that the benefits would outweigh the costs of deployment. We also discussed future directions with regards to climate change and public awareness to improve Chicago's intervention programme for WNV.",
   "metadata": {
    "tags": [],
    "is_collapsed": false,
    "cell_id": "00006-c88b61ea-10f4-42e9-bd3d-0e1bbfe1166c",
    "deepnote_cell_type": "text-cell-p"
   }
  },
  {
   "cell_type": "markdown",
   "source": "",
   "metadata": {
    "tags": [],
    "is_collapsed": false,
    "cell_id": "00021-8ee460a7-a24d-45a1-b0bd-09f9a3368c56",
    "deepnote_cell_type": "text-cell-p"
   }
  },
  {
   "cell_type": "markdown",
   "source": "<a style='text-decoration:none;line-height:16px;display:flex;color:#5B5B62;padding:10px;justify-content:end;' href='https://deepnote.com?utm_source=created-in-deepnote-cell&projectId=60b14a4f-b63c-4fa7-9c07-6649311f1d98' target=\"_blank\">\n<img alt='Created in deepnote.com' style='display:inline;max-height:16px;margin:0px;margin-right:7.5px;' src='data:image/svg+xml;base64,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' > </img>\nCreated in <span style='font-weight:600;margin-left:4px;'>Deepnote</span></a>",
   "metadata": {
    "tags": [],
    "created_in_deepnote_cell": true,
    "deepnote_cell_type": "markdown"
   }
  }
 ],
 "nbformat": 4,
 "nbformat_minor": 2,
 "metadata": {
  "orig_nbformat": 2,
  "deepnote": {
   "is_reactive": false
  },
  "deepnote_notebook_id": "11a8af59-53b5-4761-8ef6-6cd33eca900f",
  "deepnote_execution_queue": []
 }
}